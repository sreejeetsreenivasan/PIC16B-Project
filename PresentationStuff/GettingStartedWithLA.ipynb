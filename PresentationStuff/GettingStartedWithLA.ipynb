{
 "cells": [
  {
   "cell_type": "markdown",
   "id": "b44f93fa-8b33-4b76-a149-6e70cc70f78c",
   "metadata": {},
   "source": [
    "# To Start!"
   ]
  },
  {
   "cell_type": "markdown",
   "id": "140e3a7e-a70c-4008-babb-88e2eb9e1352",
   "metadata": {},
   "source": [
    "We first import the packages that we will be using. \n",
    "\n",
    "We need pandas to work on our data, matplotlib pyplot for visualizations, numpy for array calculations, and finally networkx for all our graph networks."
   ]
  },
  {
   "cell_type": "code",
   "execution_count": 1,
   "id": "1ab91c55-71f7-4333-8e87-4ee6eb9fe5a2",
   "metadata": {
    "tags": []
   },
   "outputs": [],
   "source": [
    "import networkx as nx\n",
    "import matplotlib.pyplot as plt\n",
    "import numpy as np\n",
    "import pandas as pd"
   ]
  },
  {
   "cell_type": "markdown",
   "id": "ad022c4a-47b3-4ace-97db-a5b75eb0274f",
   "metadata": {},
   "source": [
    "Next, we grab the static gtfs rail text files and read them into dataframes."
   ]
  },
  {
   "cell_type": "code",
   "execution_count": 3,
   "id": "36d3a709-60e9-4bba-bd8d-8ab0dec4a2f3",
   "metadata": {
    "tags": []
   },
   "outputs": [],
   "source": [
    "trips = pd.read_csv('../gtfs_rail/trips.txt')\n",
    "stops = pd.read_csv('../gtfs_rail/stops.txt')"
   ]
  },
  {
   "cell_type": "markdown",
   "id": "a422c1c9-5cca-43dc-8700-4c7cbb010d25",
   "metadata": {},
   "source": [
    "Let us see what we have. We check which stops are on the 4th line."
   ]
  },
  {
   "cell_type": "code",
   "execution_count": null,
   "id": "e68a588d-1e8e-4661-b9fb-1d64d4448322",
   "metadata": {
    "tags": []
   },
   "outputs": [],
   "source": [
    "stops[stops[\"stop_id\"].str[:3] == \"804\"]"
   ]
  },
  {
   "cell_type": "markdown",
   "id": "045336ad-a1d0-41ae-9a9e-c934958bdaa8",
   "metadata": {},
   "source": [
    "# Cleaning the Data"
   ]
  },
  {
   "cell_type": "markdown",
   "id": "7eb73b2f-2c94-442b-bc2e-c724d04b2045",
   "metadata": {},
   "source": [
    "Ok, so we really need to clean this data up. We remove all stops that are not part of the LA Metro rail lines (ie fake stop data) and we only want the main stop for each station."
   ]
  },
  {
   "cell_type": "code",
   "execution_count": null,
   "id": "e2ee07da-97e5-4b70-a7eb-4f9e4cb610b4",
   "metadata": {
    "tags": []
   },
   "outputs": [],
   "source": [
    "stops = stops[stops[\"stop_id\"].str[:3] < \"810\"]\n",
    "stops = stops[stops[\"location_type\"] == 0]"
   ]
  },
  {
   "cell_type": "markdown",
   "id": "c04306e9-4166-41e4-8304-18150958c9e7",
   "metadata": {},
   "source": [
    "We can look at our data now!stops"
   ]
  },
  {
   "cell_type": "code",
   "execution_count": null,
   "id": "d2ac4ed2-da2a-4383-b70e-5420c4ee9f31",
   "metadata": {
    "tags": []
   },
   "outputs": [],
   "source": [
    "stops"
   ]
  },
  {
   "cell_type": "markdown",
   "id": "005a81cb-def7-4344-91c8-72894590ae5a",
   "metadata": {},
   "source": [
    "# Creating the Graph"
   ]
  },
  {
   "cell_type": "markdown",
   "id": "aef4ed86-ef87-4944-a063-e98ba60a2e8b",
   "metadata": {},
   "source": [
    "Now we can use networkx package to create graph objects. We will be using the graph object to create calculations. We will create a simple graph for now."
   ]
  },
  {
   "cell_type": "markdown",
   "id": "13f27eaf-2476-47c3-a958-f149209dbc60",
   "metadata": {},
   "source": [
    "First, we make simple function to turn lists of strings into int."
   ]
  },
  {
   "cell_type": "code",
   "execution_count": null,
   "id": "5dfe655a-3e43-4196-8af5-27c39f5dbc04",
   "metadata": {
    "tags": []
   },
   "outputs": [],
   "source": [
    "def to_int(l):\n",
    "    \"\"\"\n",
    "    Simple function that takes in a list of strings and returns a string of integers\n",
    "    \"\"\"\n",
    "    return [int(i) for i in l]"
   ]
  },
  {
   "cell_type": "code",
   "execution_count": null,
   "id": "b38c2820-af01-4fcf-8f91-2b5a189470c2",
   "metadata": {
    "tags": []
   },
   "outputs": [],
   "source": [
    "# Creating our graph\n",
    "rail_network = nx.Graph()\n",
    "\n",
    "# Node List\n",
    "# Get all stop IDs and put in list\n",
    "NL = stops[\"stop_id\"].tolist()\n",
    "# Cast all IDs to int type\n",
    "NL = [int(i) for i in NL]\n",
    "# Add node list NL as nodes to our graph\n",
    "rail_network.add_nodes_from(NL)\n",
    "\n",
    "# Edges List\n",
    "# Empty list\n",
    "EL = []\n",
    "# Loop through our sorted stops\n",
    "for i in range(len(stops)-1):\n",
    "    # Grab the IDs of each stop and consecutive stop\n",
    "    stop_id_1 = int(stops[\"stop_id\"].iloc[[i]])\n",
    "    stop_id_2 = int(stops[\"stop_id\"].iloc[[i+1]])\n",
    "    \n",
    "    # Append the stop tuple if they are next to each other on the line\n",
    "    if stop_id_1+1 == stop_id_2:\n",
    "        EL.append((stop_id_1, stop_id_2))\n",
    "        \n",
    "# We find the intersection stops\n",
    "intersection1 = stops[stops[\"stop_name\"].str[:10] == \"7th Street\"][\"stop_code\"].tolist()\n",
    "intersection1 = to_int(intersection1)\n",
    "intersection2 = stops[stops[\"stop_name\"].str[:10] == \"Willowbroo\"][\"stop_code\"].tolist()\n",
    "intersection2 = to_int(intersection2)\n",
    "intersection3 = stops[stops[\"stop_name\"].str[:10] == \"Union Stat\"][\"stop_code\"].tolist()\n",
    "intersection3 = to_int(intersection3)\n",
    "intersection4 = stops[stops[\"stop_name\"].str[:10] == \"Expo / Cre\"][\"stop_code\"].tolist()\n",
    "intersection4 = to_int(intersection4)\n",
    "# Append the intersection stops\n",
    "EL.append((intersection1[0], intersection1[1]))\n",
    "EL.append((intersection2[0], intersection2[1]))\n",
    "EL.append((intersection3[0], intersection3[1]))\n",
    "EL.append((intersection4[0], intersection4[1]))\n",
    "# Add edge list to graph\n",
    "rail_network.add_edges_from(EL)\n"
   ]
  },
  {
   "cell_type": "markdown",
   "id": "a668497a-acc8-460a-aa50-20c97553cca3",
   "metadata": {
    "tags": []
   },
   "source": [
    "# Visualization Time!"
   ]
  },
  {
   "cell_type": "markdown",
   "id": "c32e6dd1-8f62-4d2d-995f-eefddf1f2248",
   "metadata": {},
   "source": [
    "Let's see what our graph looks like."
   ]
  },
  {
   "cell_type": "code",
   "execution_count": null,
   "id": "3707ab91-d9e4-4bb5-a3a5-032ed3d71cbb",
   "metadata": {
    "tags": []
   },
   "outputs": [],
   "source": [
    "# Set figure size\n",
    "fig = plt.figure(figsize = (10,10))\n",
    "# We use Kamada-Kawai positioning algorithm to plot the nodes of the graph\n",
    "nx.draw_kamada_kawai(rail_network, with_labels=True, node_size=100)"
   ]
  },
  {
   "cell_type": "code",
   "execution_count": null,
   "id": "8a7bce77-60ae-4384-bce0-230a08842955",
   "metadata": {
    "tags": []
   },
   "outputs": [],
   "source": [
    "'''\n",
    "I try to draw each line by itself, but it isnt really working... WIP i guess\n",
    "\n",
    "\n",
    "fig = plt.figure(figsize = (10,10))\n",
    "\n",
    "for i in range(7):\n",
    "    plt.subplot(7,1,i+1)\n",
    "    nodes = [j for j in NL if str(j)[0:3] == f\"80{i+1}\"]\n",
    "    print(nodes)\n",
    "    nx.draw_kamada_kawai(train_network, nodelist = nodes, with_labels=True, node_size=100)\n",
    "    plt.xlabel(f\"Line {i+1}\")\n",
    "\n",
    "plt.show()\n",
    "'''"
   ]
  },
  {
   "cell_type": "markdown",
   "id": "df97a637-50e2-4568-b566-8c8ba0100a8f",
   "metadata": {},
   "source": [
    "# Analysis of Simple Graph"
   ]
  },
  {
   "cell_type": "markdown",
   "id": "3e65d865-e2d5-4492-8bac-58647d10e7b0",
   "metadata": {},
   "source": [
    "We can proceed to do some simple mathematical analysis such as centrality and modularity on our graph. "
   ]
  },
  {
   "cell_type": "markdown",
   "id": "95fe842c-1bf9-45a2-85ad-85a251ea9a3a",
   "metadata": {},
   "source": [
    "We use Katz centrality in this case:"
   ]
  },
  {
   "cell_type": "code",
   "execution_count": null,
   "id": "7741356c-7036-4da8-9c8f-f0201f08162c",
   "metadata": {
    "tags": []
   },
   "outputs": [],
   "source": [
    "nx.katz_centrality(rail_network, max_iter = 1000)"
   ]
  },
  {
   "cell_type": "markdown",
   "id": "fe619fdb-0055-4a70-b4e1-31562442d1b3",
   "metadata": {},
   "source": [
    "We can also see how modular our network is so far:"
   ]
  },
  {
   "cell_type": "code",
   "execution_count": null,
   "id": "b6d32062-d172-4d09-8789-7b21e2cddd51",
   "metadata": {},
   "outputs": [],
   "source": [
    "# Make list of stop IDs\n",
    "stop_id_list = stops[\"stop_id\"].tolist()\n",
    "stop_id_list = to_int(stop_id_list)\n",
    "\n",
    "# Make groups of IDs for each route\n",
    "# Let us use a function\n",
    "def route_id(i, station_list = stop_id_list):\n",
    "    \"\"\"\n",
    "    Function that returns list of ID's given input route ID number\n",
    "    \"\"\"\n",
    "    return [j for j in station_list if str(j)[0:3] == f\"80{i}\"]\n",
    "\n",
    "# Create groups for each of our routes\n",
    "route_A = route_id(1)\n",
    "route_B = route_id(2)\n",
    "route_C = route_id(3)\n",
    "route_E = route_id(4)\n",
    "route_K = route_id(7)\n",
    "route_D = route_id(5)\n",
    "\n",
    "# A list of all our groups!\n",
    "route_groups = [route_A, route_B, route_C, route_E, route_K, route_D]"
   ]
  },
  {
   "cell_type": "code",
   "execution_count": null,
   "id": "db50668a-58f8-4d8b-88d0-e595a6dc3fba",
   "metadata": {
    "tags": []
   },
   "outputs": [],
   "source": [
    "# Using our networkx function\n",
    "nx.community.modularity(rail_network, route_groups)"
   ]
  },
  {
   "cell_type": "markdown",
   "id": "81d831c9-234d-4404-a4a1-ae6ca354446e",
   "metadata": {},
   "source": [
    "Our graph is really quite modular. This means that rail lines do not intersect with each other all that often in LA."
   ]
  },
  {
   "cell_type": "markdown",
   "id": "128134b5-4074-4a05-86c2-eaaf46112753",
   "metadata": {},
   "source": [
    "# Future Work:"
   ]
  },
  {
   "cell_type": "markdown",
   "id": "477e62b9-f21c-41f3-9475-39a8c20f035b",
   "metadata": {},
   "source": [
    "We will be scraping websites and using API calls to get the needed real time and historical data for the LA rail lines to understand the congestion and how the dynamics of the network changes throughout time. We can even look at holiday rushes etc. We also plan on creating a geographical visualization and visualizing this network and ridership. We will be implementing our findings into an easy to use web app."
   ]
  },
  {
   "cell_type": "code",
   "execution_count": null,
   "id": "526d44d8-eb63-454c-b13d-72712674e590",
   "metadata": {},
   "outputs": [],
   "source": []
  }
 ],
 "metadata": {
  "kernelspec": {
   "display_name": "Python 3 (ipykernel)",
   "language": "python",
   "name": "python3"
  },
  "language_info": {
   "codemirror_mode": {
    "name": "ipython",
    "version": 3
   },
   "file_extension": ".py",
   "mimetype": "text/x-python",
   "name": "python",
   "nbconvert_exporter": "python",
   "pygments_lexer": "ipython3",
   "version": "3.11.4"
  }
 },
 "nbformat": 4,
 "nbformat_minor": 5
}
