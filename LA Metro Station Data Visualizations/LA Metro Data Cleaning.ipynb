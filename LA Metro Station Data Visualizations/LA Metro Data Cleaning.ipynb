{
 "cells": [
  {
   "cell_type": "markdown",
   "metadata": {},
   "source": [
    "Data below from here: https://geohub.lacity.org/datasets/9b1bc4861f1e4277b6bd6e51f48e0f4d/explore"
   ]
  },
  {
   "cell_type": "code",
   "execution_count": 15,
   "metadata": {},
   "outputs": [],
   "source": [
    "import pandas as pd\n",
    "from plotly import express as px\n",
    "df = pd.read_csv(\"Metro_Stations.csv\")\n",
    "#The data is from the link above."
   ]
  },
  {
   "cell_type": "markdown",
   "metadata": {},
   "source": [
    "This data was much nicer and smaller than the New York Subway's hourly ridership data, but this data is also considerably less informative. We were unable to find ridership data by station, only by line, which made creating nice graphics and visualizations much more difficult. (Why LA Metro why???)"
   ]
  },
  {
   "cell_type": "code",
   "execution_count": 16,
   "metadata": {},
   "outputs": [
    {
     "data": {
      "text/html": [
       "<div>\n",
       "<style scoped>\n",
       "    .dataframe tbody tr th:only-of-type {\n",
       "        vertical-align: middle;\n",
       "    }\n",
       "\n",
       "    .dataframe tbody tr th {\n",
       "        vertical-align: top;\n",
       "    }\n",
       "\n",
       "    .dataframe thead th {\n",
       "        text-align: right;\n",
       "    }\n",
       "</style>\n",
       "<table border=\"1\" class=\"dataframe\">\n",
       "  <thead>\n",
       "    <tr style=\"text-align: right;\">\n",
       "      <th></th>\n",
       "      <th>X</th>\n",
       "      <th>Y</th>\n",
       "      <th>OBJECTID</th>\n",
       "      <th>source</th>\n",
       "      <th>ext_id</th>\n",
       "      <th>cat1</th>\n",
       "      <th>cat2</th>\n",
       "      <th>cat3</th>\n",
       "      <th>org_name</th>\n",
       "      <th>Name</th>\n",
       "      <th>...</th>\n",
       "      <th>description</th>\n",
       "      <th>zip</th>\n",
       "      <th>link</th>\n",
       "      <th>use_type</th>\n",
       "      <th>latitude</th>\n",
       "      <th>longitude</th>\n",
       "      <th>date_updated</th>\n",
       "      <th>dis_status</th>\n",
       "      <th>POINT_X</th>\n",
       "      <th>POINT_Y</th>\n",
       "    </tr>\n",
       "  </thead>\n",
       "  <tbody>\n",
       "    <tr>\n",
       "      <th>0</th>\n",
       "      <td>-118.192933</td>\n",
       "      <td>33.768076</td>\n",
       "      <td>72713</td>\n",
       "      <td>Metropolitan Transportation Authority (MTA)</td>\n",
       "      <td>NaN</td>\n",
       "      <td>Transportation</td>\n",
       "      <td>Metro Stations</td>\n",
       "      <td>NaN</td>\n",
       "      <td>NaN</td>\n",
       "      <td>Downtown Long Beach Station</td>\n",
       "      <td>...</td>\n",
       "      <td>Blue Line</td>\n",
       "      <td>NaN</td>\n",
       "      <td>NaN</td>\n",
       "      <td>publish</td>\n",
       "      <td>33.768076</td>\n",
       "      <td>-118.192933</td>\n",
       "      <td>2023/04/04 16:19:54+00</td>\n",
       "      <td>NaN</td>\n",
       "      <td>33.768076</td>\n",
       "      <td>-118.192933</td>\n",
       "    </tr>\n",
       "    <tr>\n",
       "      <th>1</th>\n",
       "      <td>-118.193712</td>\n",
       "      <td>33.772263</td>\n",
       "      <td>72714</td>\n",
       "      <td>Metropolitan Transportation Authority (MTA)</td>\n",
       "      <td>NaN</td>\n",
       "      <td>Transportation</td>\n",
       "      <td>Metro Stations</td>\n",
       "      <td>NaN</td>\n",
       "      <td>NaN</td>\n",
       "      <td>Pacific Ave Station</td>\n",
       "      <td>...</td>\n",
       "      <td>Blue Line</td>\n",
       "      <td>NaN</td>\n",
       "      <td>NaN</td>\n",
       "      <td>publish</td>\n",
       "      <td>33.772263</td>\n",
       "      <td>-118.193712</td>\n",
       "      <td>2023/04/04 16:19:54+00</td>\n",
       "      <td>NaN</td>\n",
       "      <td>33.772263</td>\n",
       "      <td>-118.193712</td>\n",
       "    </tr>\n",
       "    <tr>\n",
       "      <th>2</th>\n",
       "      <td>-118.189396</td>\n",
       "      <td>33.781835</td>\n",
       "      <td>72715</td>\n",
       "      <td>Metropolitan Transportation Authority (MTA)</td>\n",
       "      <td>NaN</td>\n",
       "      <td>Transportation</td>\n",
       "      <td>Metro Stations</td>\n",
       "      <td>NaN</td>\n",
       "      <td>NaN</td>\n",
       "      <td>Anaheim Street Station</td>\n",
       "      <td>...</td>\n",
       "      <td>Blue Line</td>\n",
       "      <td>NaN</td>\n",
       "      <td>NaN</td>\n",
       "      <td>publish</td>\n",
       "      <td>33.781835</td>\n",
       "      <td>-118.189396</td>\n",
       "      <td>2023/04/04 16:19:54+00</td>\n",
       "      <td>NaN</td>\n",
       "      <td>33.781835</td>\n",
       "      <td>-118.189396</td>\n",
       "    </tr>\n",
       "    <tr>\n",
       "      <th>3</th>\n",
       "      <td>-118.189394</td>\n",
       "      <td>33.789095</td>\n",
       "      <td>72716</td>\n",
       "      <td>Metropolitan Transportation Authority (MTA)</td>\n",
       "      <td>NaN</td>\n",
       "      <td>Transportation</td>\n",
       "      <td>Metro Stations</td>\n",
       "      <td>NaN</td>\n",
       "      <td>NaN</td>\n",
       "      <td>Pacific Coast Hwy Station</td>\n",
       "      <td>...</td>\n",
       "      <td>Blue Line</td>\n",
       "      <td>NaN</td>\n",
       "      <td>NaN</td>\n",
       "      <td>publish</td>\n",
       "      <td>33.789095</td>\n",
       "      <td>-118.189394</td>\n",
       "      <td>2023/04/04 16:19:54+00</td>\n",
       "      <td>NaN</td>\n",
       "      <td>33.789095</td>\n",
       "      <td>-118.189394</td>\n",
       "    </tr>\n",
       "    <tr>\n",
       "      <th>4</th>\n",
       "      <td>-118.189846</td>\n",
       "      <td>33.807084</td>\n",
       "      <td>72717</td>\n",
       "      <td>Metropolitan Transportation Authority (MTA)</td>\n",
       "      <td>NaN</td>\n",
       "      <td>Transportation</td>\n",
       "      <td>Metro Stations</td>\n",
       "      <td>NaN</td>\n",
       "      <td>NaN</td>\n",
       "      <td>Willow Street Station</td>\n",
       "      <td>...</td>\n",
       "      <td>Blue Line</td>\n",
       "      <td>NaN</td>\n",
       "      <td>NaN</td>\n",
       "      <td>publish</td>\n",
       "      <td>33.807084</td>\n",
       "      <td>-118.189846</td>\n",
       "      <td>2023/04/04 16:19:54+00</td>\n",
       "      <td>NaN</td>\n",
       "      <td>33.807084</td>\n",
       "      <td>-118.189846</td>\n",
       "    </tr>\n",
       "    <tr>\n",
       "      <th>...</th>\n",
       "      <td>...</td>\n",
       "      <td>...</td>\n",
       "      <td>...</td>\n",
       "      <td>...</td>\n",
       "      <td>...</td>\n",
       "      <td>...</td>\n",
       "      <td>...</td>\n",
       "      <td>...</td>\n",
       "      <td>...</td>\n",
       "      <td>...</td>\n",
       "      <td>...</td>\n",
       "      <td>...</td>\n",
       "      <td>...</td>\n",
       "      <td>...</td>\n",
       "      <td>...</td>\n",
       "      <td>...</td>\n",
       "      <td>...</td>\n",
       "      <td>...</td>\n",
       "      <td>...</td>\n",
       "      <td>...</td>\n",
       "      <td>...</td>\n",
       "    </tr>\n",
       "    <tr>\n",
       "      <th>125</th>\n",
       "      <td>-118.378703</td>\n",
       "      <td>33.945678</td>\n",
       "      <td>72838</td>\n",
       "      <td>Metropolitan Transportation Authority (MTA)</td>\n",
       "      <td>NaN</td>\n",
       "      <td>Transportation</td>\n",
       "      <td>Metro Stations</td>\n",
       "      <td>NaN</td>\n",
       "      <td>NaN</td>\n",
       "      <td>Aviation/Century Station</td>\n",
       "      <td>...</td>\n",
       "      <td>K Line</td>\n",
       "      <td>NaN</td>\n",
       "      <td>NaN</td>\n",
       "      <td>publish</td>\n",
       "      <td>33.945678</td>\n",
       "      <td>-118.378703</td>\n",
       "      <td>2023/04/04 16:19:54+00</td>\n",
       "      <td>NaN</td>\n",
       "      <td>33.945678</td>\n",
       "      <td>-118.378703</td>\n",
       "    </tr>\n",
       "    <tr>\n",
       "      <th>126</th>\n",
       "      <td>-118.377271</td>\n",
       "      <td>33.929635</td>\n",
       "      <td>72839</td>\n",
       "      <td>Metropolitan Transportation Authority (MTA)</td>\n",
       "      <td>NaN</td>\n",
       "      <td>Transportation</td>\n",
       "      <td>Metro Stations</td>\n",
       "      <td>NaN</td>\n",
       "      <td>NaN</td>\n",
       "      <td>Aviation/LAX Station</td>\n",
       "      <td>...</td>\n",
       "      <td>K Line</td>\n",
       "      <td>NaN</td>\n",
       "      <td>NaN</td>\n",
       "      <td>publish</td>\n",
       "      <td>33.929635</td>\n",
       "      <td>-118.377271</td>\n",
       "      <td>2023/04/04 16:19:54+00</td>\n",
       "      <td>NaN</td>\n",
       "      <td>33.929635</td>\n",
       "      <td>-118.377271</td>\n",
       "    </tr>\n",
       "    <tr>\n",
       "      <th>127</th>\n",
       "      <td>-118.251208</td>\n",
       "      <td>34.054751</td>\n",
       "      <td>72840</td>\n",
       "      <td>Metropolitan Transportation Authority (MTA)</td>\n",
       "      <td>NaN</td>\n",
       "      <td>Transportation</td>\n",
       "      <td>Metro Stations</td>\n",
       "      <td>NaN</td>\n",
       "      <td>NaN</td>\n",
       "      <td>Grand Av Arts/Bunker Hill</td>\n",
       "      <td>...</td>\n",
       "      <td>Regional Connector</td>\n",
       "      <td>NaN</td>\n",
       "      <td>NaN</td>\n",
       "      <td>publish</td>\n",
       "      <td>34.054751</td>\n",
       "      <td>-118.251208</td>\n",
       "      <td>2023/04/04 16:19:54+00</td>\n",
       "      <td>NaN</td>\n",
       "      <td>34.054751</td>\n",
       "      <td>-118.251208</td>\n",
       "    </tr>\n",
       "    <tr>\n",
       "      <th>128</th>\n",
       "      <td>-118.246166</td>\n",
       "      <td>34.052039</td>\n",
       "      <td>72841</td>\n",
       "      <td>Metropolitan Transportation Authority (MTA)</td>\n",
       "      <td>NaN</td>\n",
       "      <td>Transportation</td>\n",
       "      <td>Metro Stations</td>\n",
       "      <td>NaN</td>\n",
       "      <td>NaN</td>\n",
       "      <td>Historic Broadway</td>\n",
       "      <td>...</td>\n",
       "      <td>Regional Connector</td>\n",
       "      <td>NaN</td>\n",
       "      <td>NaN</td>\n",
       "      <td>publish</td>\n",
       "      <td>34.052039</td>\n",
       "      <td>-118.246166</td>\n",
       "      <td>2023/04/04 16:19:54+00</td>\n",
       "      <td>NaN</td>\n",
       "      <td>34.052039</td>\n",
       "      <td>-118.246166</td>\n",
       "    </tr>\n",
       "    <tr>\n",
       "      <th>129</th>\n",
       "      <td>-118.238787</td>\n",
       "      <td>34.048842</td>\n",
       "      <td>72842</td>\n",
       "      <td>Metropolitan Transportation Authority (MTA)</td>\n",
       "      <td>NaN</td>\n",
       "      <td>Transportation</td>\n",
       "      <td>Metro Stations</td>\n",
       "      <td>NaN</td>\n",
       "      <td>NaN</td>\n",
       "      <td>Little Tokyo/Arts District</td>\n",
       "      <td>...</td>\n",
       "      <td>Regional Connector</td>\n",
       "      <td>NaN</td>\n",
       "      <td>NaN</td>\n",
       "      <td>publish</td>\n",
       "      <td>34.048842</td>\n",
       "      <td>-118.238787</td>\n",
       "      <td>2023/04/04 16:19:54+00</td>\n",
       "      <td>NaN</td>\n",
       "      <td>34.048842</td>\n",
       "      <td>-118.238787</td>\n",
       "    </tr>\n",
       "  </tbody>\n",
       "</table>\n",
       "<p>130 rows × 31 columns</p>\n",
       "</div>"
      ],
      "text/plain": [
       "              X          Y  OBJECTID  \\\n",
       "0   -118.192933  33.768076     72713   \n",
       "1   -118.193712  33.772263     72714   \n",
       "2   -118.189396  33.781835     72715   \n",
       "3   -118.189394  33.789095     72716   \n",
       "4   -118.189846  33.807084     72717   \n",
       "..          ...        ...       ...   \n",
       "125 -118.378703  33.945678     72838   \n",
       "126 -118.377271  33.929635     72839   \n",
       "127 -118.251208  34.054751     72840   \n",
       "128 -118.246166  34.052039     72841   \n",
       "129 -118.238787  34.048842     72842   \n",
       "\n",
       "                                          source  ext_id            cat1  \\\n",
       "0    Metropolitan Transportation Authority (MTA)     NaN  Transportation   \n",
       "1    Metropolitan Transportation Authority (MTA)     NaN  Transportation   \n",
       "2    Metropolitan Transportation Authority (MTA)     NaN  Transportation   \n",
       "3    Metropolitan Transportation Authority (MTA)     NaN  Transportation   \n",
       "4    Metropolitan Transportation Authority (MTA)     NaN  Transportation   \n",
       "..                                           ...     ...             ...   \n",
       "125  Metropolitan Transportation Authority (MTA)     NaN  Transportation   \n",
       "126  Metropolitan Transportation Authority (MTA)     NaN  Transportation   \n",
       "127  Metropolitan Transportation Authority (MTA)     NaN  Transportation   \n",
       "128  Metropolitan Transportation Authority (MTA)     NaN  Transportation   \n",
       "129  Metropolitan Transportation Authority (MTA)     NaN  Transportation   \n",
       "\n",
       "               cat2  cat3 org_name                         Name  ...  \\\n",
       "0    Metro Stations   NaN      NaN  Downtown Long Beach Station  ...   \n",
       "1    Metro Stations   NaN      NaN          Pacific Ave Station  ...   \n",
       "2    Metro Stations   NaN      NaN       Anaheim Street Station  ...   \n",
       "3    Metro Stations   NaN      NaN    Pacific Coast Hwy Station  ...   \n",
       "4    Metro Stations   NaN      NaN        Willow Street Station  ...   \n",
       "..              ...   ...      ...                          ...  ...   \n",
       "125  Metro Stations   NaN      NaN     Aviation/Century Station  ...   \n",
       "126  Metro Stations   NaN      NaN         Aviation/LAX Station  ...   \n",
       "127  Metro Stations   NaN      NaN    Grand Av Arts/Bunker Hill  ...   \n",
       "128  Metro Stations   NaN      NaN            Historic Broadway  ...   \n",
       "129  Metro Stations   NaN      NaN   Little Tokyo/Arts District  ...   \n",
       "\n",
       "            description  zip link use_type   latitude   longitude  \\\n",
       "0             Blue Line  NaN  NaN  publish  33.768076 -118.192933   \n",
       "1             Blue Line  NaN  NaN  publish  33.772263 -118.193712   \n",
       "2             Blue Line  NaN  NaN  publish  33.781835 -118.189396   \n",
       "3             Blue Line  NaN  NaN  publish  33.789095 -118.189394   \n",
       "4             Blue Line  NaN  NaN  publish  33.807084 -118.189846   \n",
       "..                  ...  ...  ...      ...        ...         ...   \n",
       "125              K Line  NaN  NaN  publish  33.945678 -118.378703   \n",
       "126              K Line  NaN  NaN  publish  33.929635 -118.377271   \n",
       "127  Regional Connector  NaN  NaN  publish  34.054751 -118.251208   \n",
       "128  Regional Connector  NaN  NaN  publish  34.052039 -118.246166   \n",
       "129  Regional Connector  NaN  NaN  publish  34.048842 -118.238787   \n",
       "\n",
       "               date_updated dis_status    POINT_X     POINT_Y  \n",
       "0    2023/04/04 16:19:54+00        NaN  33.768076 -118.192933  \n",
       "1    2023/04/04 16:19:54+00        NaN  33.772263 -118.193712  \n",
       "2    2023/04/04 16:19:54+00        NaN  33.781835 -118.189396  \n",
       "3    2023/04/04 16:19:54+00        NaN  33.789095 -118.189394  \n",
       "4    2023/04/04 16:19:54+00        NaN  33.807084 -118.189846  \n",
       "..                      ...        ...        ...         ...  \n",
       "125  2023/04/04 16:19:54+00        NaN  33.945678 -118.378703  \n",
       "126  2023/04/04 16:19:54+00        NaN  33.929635 -118.377271  \n",
       "127  2023/04/04 16:19:54+00        NaN  34.054751 -118.251208  \n",
       "128  2023/04/04 16:19:54+00        NaN  34.052039 -118.246166  \n",
       "129  2023/04/04 16:19:54+00        NaN  34.048842 -118.238787  \n",
       "\n",
       "[130 rows x 31 columns]"
      ]
     },
     "execution_count": 16,
     "metadata": {},
     "output_type": "execute_result"
    }
   ],
   "source": [
    "df"
   ]
  },
  {
   "cell_type": "markdown",
   "metadata": {},
   "source": [
    "We can get rid of a lot of the extra detail columns that we don't need."
   ]
  },
  {
   "cell_type": "code",
   "execution_count": 17,
   "metadata": {},
   "outputs": [],
   "source": [
    "cols = ['OBJECTID', 'post_id', 'latitude', 'longitude', 'Name', 'description']\n",
    "df = df[cols]"
   ]
  },
  {
   "cell_type": "code",
   "execution_count": 18,
   "metadata": {},
   "outputs": [
    {
     "name": "stderr",
     "output_type": "stream",
     "text": [
      "C:\\Users\\thele\\AppData\\Local\\Temp\\ipykernel_2552\\2009941668.py:1: SettingWithCopyWarning:\n",
      "\n",
      "\n",
      "A value is trying to be set on a copy of a slice from a DataFrame.\n",
      "Try using .loc[row_indexer,col_indexer] = value instead\n",
      "\n",
      "See the caveats in the documentation: https://pandas.pydata.org/pandas-docs/stable/user_guide/indexing.html#returning-a-view-versus-a-copy\n",
      "\n",
      "C:\\Users\\thele\\AppData\\Local\\Temp\\ipykernel_2552\\2009941668.py:6: SettingWithCopyWarning:\n",
      "\n",
      "\n",
      "A value is trying to be set on a copy of a slice from a DataFrame\n",
      "\n",
      "See the caveats in the documentation: https://pandas.pydata.org/pandas-docs/stable/user_guide/indexing.html#returning-a-view-versus-a-copy\n",
      "\n",
      "C:\\Users\\thele\\AppData\\Local\\Temp\\ipykernel_2552\\2009941668.py:6: SettingWithCopyWarning:\n",
      "\n",
      "\n",
      "A value is trying to be set on a copy of a slice from a DataFrame\n",
      "\n",
      "See the caveats in the documentation: https://pandas.pydata.org/pandas-docs/stable/user_guide/indexing.html#returning-a-view-versus-a-copy\n",
      "\n",
      "C:\\Users\\thele\\AppData\\Local\\Temp\\ipykernel_2552\\2009941668.py:8: SettingWithCopyWarning:\n",
      "\n",
      "\n",
      "A value is trying to be set on a copy of a slice from a DataFrame\n",
      "\n",
      "See the caveats in the documentation: https://pandas.pydata.org/pandas-docs/stable/user_guide/indexing.html#returning-a-view-versus-a-copy\n",
      "\n",
      "C:\\Users\\thele\\AppData\\Local\\Temp\\ipykernel_2552\\2009941668.py:8: SettingWithCopyWarning:\n",
      "\n",
      "\n",
      "A value is trying to be set on a copy of a slice from a DataFrame\n",
      "\n",
      "See the caveats in the documentation: https://pandas.pydata.org/pandas-docs/stable/user_guide/indexing.html#returning-a-view-versus-a-copy\n",
      "\n",
      "C:\\Users\\thele\\AppData\\Local\\Temp\\ipykernel_2552\\2009941668.py:8: SettingWithCopyWarning:\n",
      "\n",
      "\n",
      "A value is trying to be set on a copy of a slice from a DataFrame\n",
      "\n",
      "See the caveats in the documentation: https://pandas.pydata.org/pandas-docs/stable/user_guide/indexing.html#returning-a-view-versus-a-copy\n",
      "\n",
      "C:\\Users\\thele\\AppData\\Local\\Temp\\ipykernel_2552\\2009941668.py:8: SettingWithCopyWarning:\n",
      "\n",
      "\n",
      "A value is trying to be set on a copy of a slice from a DataFrame\n",
      "\n",
      "See the caveats in the documentation: https://pandas.pydata.org/pandas-docs/stable/user_guide/indexing.html#returning-a-view-versus-a-copy\n",
      "\n",
      "C:\\Users\\thele\\AppData\\Local\\Temp\\ipykernel_2552\\2009941668.py:8: SettingWithCopyWarning:\n",
      "\n",
      "\n",
      "A value is trying to be set on a copy of a slice from a DataFrame\n",
      "\n",
      "See the caveats in the documentation: https://pandas.pydata.org/pandas-docs/stable/user_guide/indexing.html#returning-a-view-versus-a-copy\n",
      "\n",
      "C:\\Users\\thele\\AppData\\Local\\Temp\\ipykernel_2552\\2009941668.py:8: SettingWithCopyWarning:\n",
      "\n",
      "\n",
      "A value is trying to be set on a copy of a slice from a DataFrame\n",
      "\n",
      "See the caveats in the documentation: https://pandas.pydata.org/pandas-docs/stable/user_guide/indexing.html#returning-a-view-versus-a-copy\n",
      "\n",
      "C:\\Users\\thele\\AppData\\Local\\Temp\\ipykernel_2552\\2009941668.py:8: SettingWithCopyWarning:\n",
      "\n",
      "\n",
      "A value is trying to be set on a copy of a slice from a DataFrame\n",
      "\n",
      "See the caveats in the documentation: https://pandas.pydata.org/pandas-docs/stable/user_guide/indexing.html#returning-a-view-versus-a-copy\n",
      "\n",
      "C:\\Users\\thele\\AppData\\Local\\Temp\\ipykernel_2552\\2009941668.py:8: SettingWithCopyWarning:\n",
      "\n",
      "\n",
      "A value is trying to be set on a copy of a slice from a DataFrame\n",
      "\n",
      "See the caveats in the documentation: https://pandas.pydata.org/pandas-docs/stable/user_guide/indexing.html#returning-a-view-versus-a-copy\n",
      "\n",
      "C:\\Users\\thele\\AppData\\Local\\Temp\\ipykernel_2552\\2009941668.py:8: SettingWithCopyWarning:\n",
      "\n",
      "\n",
      "A value is trying to be set on a copy of a slice from a DataFrame\n",
      "\n",
      "See the caveats in the documentation: https://pandas.pydata.org/pandas-docs/stable/user_guide/indexing.html#returning-a-view-versus-a-copy\n",
      "\n",
      "C:\\Users\\thele\\AppData\\Local\\Temp\\ipykernel_2552\\2009941668.py:8: SettingWithCopyWarning:\n",
      "\n",
      "\n",
      "A value is trying to be set on a copy of a slice from a DataFrame\n",
      "\n",
      "See the caveats in the documentation: https://pandas.pydata.org/pandas-docs/stable/user_guide/indexing.html#returning-a-view-versus-a-copy\n",
      "\n",
      "C:\\Users\\thele\\AppData\\Local\\Temp\\ipykernel_2552\\2009941668.py:8: SettingWithCopyWarning:\n",
      "\n",
      "\n",
      "A value is trying to be set on a copy of a slice from a DataFrame\n",
      "\n",
      "See the caveats in the documentation: https://pandas.pydata.org/pandas-docs/stable/user_guide/indexing.html#returning-a-view-versus-a-copy\n",
      "\n",
      "C:\\Users\\thele\\AppData\\Local\\Temp\\ipykernel_2552\\2009941668.py:8: SettingWithCopyWarning:\n",
      "\n",
      "\n",
      "A value is trying to be set on a copy of a slice from a DataFrame\n",
      "\n",
      "See the caveats in the documentation: https://pandas.pydata.org/pandas-docs/stable/user_guide/indexing.html#returning-a-view-versus-a-copy\n",
      "\n",
      "C:\\Users\\thele\\AppData\\Local\\Temp\\ipykernel_2552\\2009941668.py:8: SettingWithCopyWarning:\n",
      "\n",
      "\n",
      "A value is trying to be set on a copy of a slice from a DataFrame\n",
      "\n",
      "See the caveats in the documentation: https://pandas.pydata.org/pandas-docs/stable/user_guide/indexing.html#returning-a-view-versus-a-copy\n",
      "\n",
      "C:\\Users\\thele\\AppData\\Local\\Temp\\ipykernel_2552\\2009941668.py:8: SettingWithCopyWarning:\n",
      "\n",
      "\n",
      "A value is trying to be set on a copy of a slice from a DataFrame\n",
      "\n",
      "See the caveats in the documentation: https://pandas.pydata.org/pandas-docs/stable/user_guide/indexing.html#returning-a-view-versus-a-copy\n",
      "\n",
      "C:\\Users\\thele\\AppData\\Local\\Temp\\ipykernel_2552\\2009941668.py:8: SettingWithCopyWarning:\n",
      "\n",
      "\n",
      "A value is trying to be set on a copy of a slice from a DataFrame\n",
      "\n",
      "See the caveats in the documentation: https://pandas.pydata.org/pandas-docs/stable/user_guide/indexing.html#returning-a-view-versus-a-copy\n",
      "\n",
      "C:\\Users\\thele\\AppData\\Local\\Temp\\ipykernel_2552\\2009941668.py:8: SettingWithCopyWarning:\n",
      "\n",
      "\n",
      "A value is trying to be set on a copy of a slice from a DataFrame\n",
      "\n",
      "See the caveats in the documentation: https://pandas.pydata.org/pandas-docs/stable/user_guide/indexing.html#returning-a-view-versus-a-copy\n",
      "\n",
      "C:\\Users\\thele\\AppData\\Local\\Temp\\ipykernel_2552\\2009941668.py:8: SettingWithCopyWarning:\n",
      "\n",
      "\n",
      "A value is trying to be set on a copy of a slice from a DataFrame\n",
      "\n",
      "See the caveats in the documentation: https://pandas.pydata.org/pandas-docs/stable/user_guide/indexing.html#returning-a-view-versus-a-copy\n",
      "\n",
      "C:\\Users\\thele\\AppData\\Local\\Temp\\ipykernel_2552\\2009941668.py:6: SettingWithCopyWarning:\n",
      "\n",
      "\n",
      "A value is trying to be set on a copy of a slice from a DataFrame\n",
      "\n",
      "See the caveats in the documentation: https://pandas.pydata.org/pandas-docs/stable/user_guide/indexing.html#returning-a-view-versus-a-copy\n",
      "\n",
      "C:\\Users\\thele\\AppData\\Local\\Temp\\ipykernel_2552\\2009941668.py:6: SettingWithCopyWarning:\n",
      "\n",
      "\n",
      "A value is trying to be set on a copy of a slice from a DataFrame\n",
      "\n",
      "See the caveats in the documentation: https://pandas.pydata.org/pandas-docs/stable/user_guide/indexing.html#returning-a-view-versus-a-copy\n",
      "\n",
      "C:\\Users\\thele\\AppData\\Local\\Temp\\ipykernel_2552\\2009941668.py:6: SettingWithCopyWarning:\n",
      "\n",
      "\n",
      "A value is trying to be set on a copy of a slice from a DataFrame\n",
      "\n",
      "See the caveats in the documentation: https://pandas.pydata.org/pandas-docs/stable/user_guide/indexing.html#returning-a-view-versus-a-copy\n",
      "\n",
      "C:\\Users\\thele\\AppData\\Local\\Temp\\ipykernel_2552\\2009941668.py:11: SettingWithCopyWarning:\n",
      "\n",
      "\n",
      "A value is trying to be set on a copy of a slice from a DataFrame.\n",
      "Try using .loc[row_indexer,col_indexer] = value instead\n",
      "\n",
      "See the caveats in the documentation: https://pandas.pydata.org/pandas-docs/stable/user_guide/indexing.html#returning-a-view-versus-a-copy\n",
      "\n",
      "C:\\Users\\thele\\AppData\\Local\\Temp\\ipykernel_2552\\2009941668.py:12: SettingWithCopyWarning:\n",
      "\n",
      "\n",
      "A value is trying to be set on a copy of a slice from a DataFrame.\n",
      "Try using .loc[row_indexer,col_indexer] = value instead\n",
      "\n",
      "See the caveats in the documentation: https://pandas.pydata.org/pandas-docs/stable/user_guide/indexing.html#returning-a-view-versus-a-copy\n",
      "\n"
     ]
    },
    {
     "ename": "KeyError",
     "evalue": "\"['Line Color'] not in index\"",
     "output_type": "error",
     "traceback": [
      "\u001b[1;31m---------------------------------------------------------------------------\u001b[0m",
      "\u001b[1;31mKeyError\u001b[0m                                  Traceback (most recent call last)",
      "\u001b[1;32mc:\\Users\\thele\\OneDrive\\Documents\\GitHub\\PIC16B-Project\\LA Metro Station Data Visualizations\\LA Metro Data Cleaning.ipynb Cell 7\u001b[0m line \u001b[0;36m1\n\u001b[0;32m     <a href='vscode-notebook-cell:/c%3A/Users/thele/OneDrive/Documents/GitHub/PIC16B-Project/LA%20Metro%20Station%20Data%20Visualizations/LA%20Metro%20Data%20Cleaning.ipynb#W6sZmlsZQ%3D%3D?line=13'>14</a>\u001b[0m \u001b[39m#we dont need description anymore\u001b[39;00m\n\u001b[0;32m     <a href='vscode-notebook-cell:/c%3A/Users/thele/OneDrive/Documents/GitHub/PIC16B-Project/LA%20Metro%20Station%20Data%20Visualizations/LA%20Metro%20Data%20Cleaning.ipynb#W6sZmlsZQ%3D%3D?line=14'>15</a>\u001b[0m cols \u001b[39m=\u001b[39m [\u001b[39m'\u001b[39m\u001b[39mOBJECTID\u001b[39m\u001b[39m'\u001b[39m, \u001b[39m'\u001b[39m\u001b[39mpost_id\u001b[39m\u001b[39m'\u001b[39m, \u001b[39m'\u001b[39m\u001b[39mlatitude\u001b[39m\u001b[39m'\u001b[39m, \u001b[39m'\u001b[39m\u001b[39mlongitude\u001b[39m\u001b[39m'\u001b[39m, \u001b[39m'\u001b[39m\u001b[39mName\u001b[39m\u001b[39m'\u001b[39m, \u001b[39m'\u001b[39m\u001b[39mLines\u001b[39m\u001b[39m'\u001b[39m, \u001b[39m'\u001b[39m\u001b[39mLine Color\u001b[39m\u001b[39m'\u001b[39m]\n\u001b[1;32m---> <a href='vscode-notebook-cell:/c%3A/Users/thele/OneDrive/Documents/GitHub/PIC16B-Project/LA%20Metro%20Station%20Data%20Visualizations/LA%20Metro%20Data%20Cleaning.ipynb#W6sZmlsZQ%3D%3D?line=15'>16</a>\u001b[0m df \u001b[39m=\u001b[39m df[cols]\n",
      "File \u001b[1;32mc:\\Users\\thele\\anaconda3\\envs\\PIC16B-2\\Lib\\site-packages\\pandas\\core\\frame.py:3767\u001b[0m, in \u001b[0;36mDataFrame.__getitem__\u001b[1;34m(self, key)\u001b[0m\n\u001b[0;32m   3765\u001b[0m     \u001b[39mif\u001b[39;00m is_iterator(key):\n\u001b[0;32m   3766\u001b[0m         key \u001b[39m=\u001b[39m \u001b[39mlist\u001b[39m(key)\n\u001b[1;32m-> 3767\u001b[0m     indexer \u001b[39m=\u001b[39m \u001b[39mself\u001b[39;49m\u001b[39m.\u001b[39;49mcolumns\u001b[39m.\u001b[39;49m_get_indexer_strict(key, \u001b[39m\"\u001b[39;49m\u001b[39mcolumns\u001b[39;49m\u001b[39m\"\u001b[39;49m)[\u001b[39m1\u001b[39m]\n\u001b[0;32m   3769\u001b[0m \u001b[39m# take() does not accept boolean indexers\u001b[39;00m\n\u001b[0;32m   3770\u001b[0m \u001b[39mif\u001b[39;00m \u001b[39mgetattr\u001b[39m(indexer, \u001b[39m\"\u001b[39m\u001b[39mdtype\u001b[39m\u001b[39m\"\u001b[39m, \u001b[39mNone\u001b[39;00m) \u001b[39m==\u001b[39m \u001b[39mbool\u001b[39m:\n",
      "File \u001b[1;32mc:\\Users\\thele\\anaconda3\\envs\\PIC16B-2\\Lib\\site-packages\\pandas\\core\\indexes\\base.py:5877\u001b[0m, in \u001b[0;36mIndex._get_indexer_strict\u001b[1;34m(self, key, axis_name)\u001b[0m\n\u001b[0;32m   5874\u001b[0m \u001b[39melse\u001b[39;00m:\n\u001b[0;32m   5875\u001b[0m     keyarr, indexer, new_indexer \u001b[39m=\u001b[39m \u001b[39mself\u001b[39m\u001b[39m.\u001b[39m_reindex_non_unique(keyarr)\n\u001b[1;32m-> 5877\u001b[0m \u001b[39mself\u001b[39;49m\u001b[39m.\u001b[39;49m_raise_if_missing(keyarr, indexer, axis_name)\n\u001b[0;32m   5879\u001b[0m keyarr \u001b[39m=\u001b[39m \u001b[39mself\u001b[39m\u001b[39m.\u001b[39mtake(indexer)\n\u001b[0;32m   5880\u001b[0m \u001b[39mif\u001b[39;00m \u001b[39misinstance\u001b[39m(key, Index):\n\u001b[0;32m   5881\u001b[0m     \u001b[39m# GH 42790 - Preserve name from an Index\u001b[39;00m\n",
      "File \u001b[1;32mc:\\Users\\thele\\anaconda3\\envs\\PIC16B-2\\Lib\\site-packages\\pandas\\core\\indexes\\base.py:5941\u001b[0m, in \u001b[0;36mIndex._raise_if_missing\u001b[1;34m(self, key, indexer, axis_name)\u001b[0m\n\u001b[0;32m   5938\u001b[0m     \u001b[39mraise\u001b[39;00m \u001b[39mKeyError\u001b[39;00m(\u001b[39mf\u001b[39m\u001b[39m\"\u001b[39m\u001b[39mNone of [\u001b[39m\u001b[39m{\u001b[39;00mkey\u001b[39m}\u001b[39;00m\u001b[39m] are in the [\u001b[39m\u001b[39m{\u001b[39;00maxis_name\u001b[39m}\u001b[39;00m\u001b[39m]\u001b[39m\u001b[39m\"\u001b[39m)\n\u001b[0;32m   5940\u001b[0m not_found \u001b[39m=\u001b[39m \u001b[39mlist\u001b[39m(ensure_index(key)[missing_mask\u001b[39m.\u001b[39mnonzero()[\u001b[39m0\u001b[39m]]\u001b[39m.\u001b[39munique())\n\u001b[1;32m-> 5941\u001b[0m \u001b[39mraise\u001b[39;00m \u001b[39mKeyError\u001b[39;00m(\u001b[39mf\u001b[39m\u001b[39m\"\u001b[39m\u001b[39m{\u001b[39;00mnot_found\u001b[39m}\u001b[39;00m\u001b[39m not in index\u001b[39m\u001b[39m\"\u001b[39m)\n",
      "\u001b[1;31mKeyError\u001b[0m: \"['Line Color'] not in index\""
     ]
    }
   ],
   "source": [
    "df['description'] = df['description'].str.split().str.get(0)\n",
    "\n",
    "#clean up the line names\n",
    "for row in range(len(df)):\n",
    "    if df['description'][row] == \"Regional\" or df['description'][row] == \"Blue/EXPO\":\n",
    "        df['description'][row] = \"Blue/Expo\"\n",
    "    if df['description'][row] == \"EXPO\":\n",
    "        df['description'][row] = \"Expo\"\n",
    "\n",
    "#clean up the lines column\n",
    "df[\"Line\"] = df[\"description\"].str.split('/').str.get(0)\n",
    "df[\"Lines\"] = df[\"description\"].str.split('/')\n",
    "\n",
    "#we dont need description anymore\n",
    "cols = ['OBJECTID', 'post_id', 'latitude', 'longitude', 'Name', 'Lines', 'Line Color']\n",
    "df = df[cols]"
   ]
  },
  {
   "cell_type": "code",
   "execution_count": null,
   "metadata": {},
   "outputs": [],
   "source": [
    "df.to_csv('Clean_Metro_Stations.csv')"
   ]
  },
  {
   "cell_type": "markdown",
   "metadata": {},
   "source": [
    "From here, the IDs startion ids are jumbled and unordered. So I went and manually sorted through the columns, putting the stations on each line in consecutive order."
   ]
  },
  {
   "cell_type": "code",
   "execution_count": null,
   "metadata": {},
   "outputs": [],
   "source": [
    "df = pd.read_csv(\"Clean_Metro_Stations_Manual_Clean.csv\")"
   ]
  },
  {
   "cell_type": "markdown",
   "metadata": {},
   "source": [
    "So here's a rough system map showing the locations of all the stations and what line they are on:"
   ]
  },
  {
   "cell_type": "code",
   "execution_count": null,
   "metadata": {},
   "outputs": [
    {
     "data": {
      "application/vnd.plotly.v1+json": {
       "config": {
        "plotlyServerURL": "https://plot.ly"
       },
       "data": [
        {
         "hovertemplate": "<b>%{hovertext}</b><br><br>Line Color=A<br>latitude=%{lat}<br>longitude=%{lon}<extra></extra>",
         "hovertext": [
          "5th Street Station",
          "1st Street Station",
          "Downtown Long Beach Station",
          "Pacific Ave Station",
          "Anaheim Street Station",
          "Pacific Coast Hwy Station",
          "Willow Street Station",
          "Wardlow Station",
          "Del Amo Station",
          "Artesia Station",
          "Compton Station",
          "Willowbrook - Rosa Parks Station",
          "103rd Street / Watts Towers  Station",
          "Firestone Station",
          "Florence Station",
          "Slauson Station",
          "Vernon Station",
          "Washington Station",
          "San Pedro Street Station",
          "Grand / LATTC Station",
          "Pico Station",
          "7th St / Metro Center Station",
          "Grand Av Arts/Bunker Hill",
          "Historic Broadway",
          "Little Tokyo/Arts District",
          "Union Station",
          "Chinatown Station",
          "Lincoln Heights / Cypress Park Station",
          "Heritage Square / Arroyo Station",
          "Southwest Museum Station",
          "Highland Park Station",
          "South Pasadena Station",
          "Fillmore Station",
          "Del Mar Station",
          "Memorial Park Station",
          "Lake Station",
          "Allen Station",
          "Sierra Madre Villa Station",
          "Arcadia Station",
          "Monrovia Station",
          "Duarte / City of Hope Station",
          "Irwindale Station",
          "Azusa Downtown Station",
          "APU / Citrus College Station"
         ],
         "lat": [
          33.77360283,
          33.76874483,
          33.76807583,
          33.77226283,
          33.78183483,
          33.78909483,
          33.80708383,
          33.81986983,
          33.84822684,
          33.87608684,
          33.89749484,
          33.92805284,
          33.94222484,
          33.95961585,
          33.97374485,
          33.98876485,
          34.00292485,
          34.01965485,
          34.02681185,
          34.03315985,
          34.04073985,
          34.04861486,
          34.05475059,
          34.05203893,
          34.04884218,
          34.05606586,
          34.06386586,
          34.08095386,
          34.08723186,
          34.09824786,
          34.11118387,
          34.11519087,
          34.13352587,
          34.14191487,
          34.14836087,
          34.15181087,
          34.15242187,
          34.14775688,
          34.14286488,
          34.13315988,
          34.13252288,
          34.12905288,
          34.13586788,
          34.13681889
         ],
         "legendgroup": "A",
         "lon": [
          -118.1894242,
          -118.1893742,
          -118.1929332,
          -118.1937122,
          -118.1893962,
          -118.1893942,
          -118.1898462,
          -118.1961022,
          -118.2110292,
          -118.2225152,
          -118.2242612,
          -118.2375672,
          -118.2431712,
          -118.2432172,
          -118.2432832,
          -118.2434102,
          -118.2433152,
          -118.2430962,
          -118.2555172,
          -118.2693452,
          -118.2661302,
          -118.2588342,
          -118.2512082,
          -118.2461664,
          -118.2387869,
          -118.2347712,
          -118.2358522,
          -118.2204412,
          -118.2132252,
          -118.2067242,
          -118.1926182,
          -118.1578982,
          -118.1481382,
          -118.1482262,
          -118.1475242,
          -118.1314022,
          -118.1143602,
          -118.0812242,
          -118.0292112,
          -118.0034852,
          -117.9676922,
          -117.9325181,
          -117.9066431,
          -117.8916481
         ],
         "marker": {
          "color": "#636efa"
         },
         "mode": "markers",
         "name": "A",
         "showlegend": true,
         "subplot": "mapbox",
         "type": "scattermapbox"
        },
        {
         "hovertemplate": "<b>%{hovertext}</b><br><br>Line Color=B<br>latitude=%{lat}<br>longitude=%{lon}<extra></extra>",
         "hovertext": [
          "North Hollywood Station",
          "Universal / Studio City Station",
          "Hollywood / Highland Station",
          "Hollywood / Vine Station",
          "Hollywood / Western Station",
          "Vermont / Sunset Station",
          "Vermont / Santa Monica Station",
          "Vermont / Beverly Station",
          "Wilshire / Vermont Station",
          "Westlake / MacArthur Park Station",
          "7th St / Metro Center Station",
          "Pershing Square Station",
          "Civic Center / Grand Park Station",
          "Union Station"
         ],
         "lat": [
          34.16850886,
          34.14000686,
          34.10155186,
          34.10163486,
          34.10174186,
          34.09771286,
          34.08991486,
          34.07653086,
          34.06270585,
          34.05637286,
          34.04863885,
          34.04932086,
          34.05490486,
          34.05620186
         ],
         "legendgroup": "B",
         "lon": [
          -118.3768202,
          -118.3627112,
          -118.3385612,
          -118.3251922,
          -118.3081292,
          -118.2917682,
          -118.2917422,
          -118.2916982,
          -118.2900942,
          -118.2748912,
          -118.2586942,
          -118.2512712,
          -118.2460692,
          -118.2342612
         ],
         "marker": {
          "color": "#EF553B"
         },
         "mode": "markers",
         "name": "B",
         "showlegend": true,
         "subplot": "mapbox",
         "type": "scattermapbox"
        },
        {
         "hovertemplate": "<b>%{hovertext}</b><br><br>Line Color=C<br>latitude=%{lat}<br>longitude=%{lon}<extra></extra>",
         "hovertext": [
          "Redondo Beach Station",
          "Douglas Station",
          "El Segundo Station",
          "Mariposa Station",
          "Aviation / LAX Station",
          "Hawthorne / Lennox Station",
          "Crenshaw Station",
          "Vermont / Athens Station",
          "Harbor Freeway Station",
          "Avalon Station",
          "Willowbrook - Rosa Parks Station",
          "Long Beach Blvd Station",
          "Lakewood Blvd Station",
          "Norwalk Station"
         ],
         "lat": [
          33.89464483,
          33.90530383,
          33.91606783,
          33.92320483,
          33.92962583,
          33.93341284,
          33.92520584,
          33.92868784,
          33.92871884,
          33.92746984,
          33.92826284,
          33.92488484,
          33.91307485,
          33.91403785
         ],
         "legendgroup": "C",
         "lon": [
          -118.3692082,
          -118.3831252,
          -118.3865512,
          -118.3875842,
          -118.3771462,
          -118.3516142,
          -118.3265622,
          -118.2917452,
          -118.2811122,
          -118.2652292,
          -118.2380642,
          -118.2099572,
          -118.1406122,
          -118.1047292
         ],
         "marker": {
          "color": "#00cc96"
         },
         "mode": "markers",
         "name": "C",
         "showlegend": true,
         "subplot": "mapbox",
         "type": "scattermapbox"
        },
        {
         "hovertemplate": "<b>%{hovertext}</b><br><br>Line Color=D<br>latitude=%{lat}<br>longitude=%{lon}<extra></extra>",
         "hovertext": [
          "Wilshire / Western Station",
          "Wilshire / Normandie Station",
          "Wilshire / Vermont Station",
          "Westlake / MacArthur Park Station",
          "7th St / Metro Center Station",
          "Pershing Square Station",
          "Civic Center / Grand Park Station",
          "Union Station"
         ],
         "lat": [
          34.06169385,
          34.06175785,
          34.06270585,
          34.05637286,
          34.04863885,
          34.04932086,
          34.05490486,
          34.05620186
         ],
         "legendgroup": "D",
         "lon": [
          -118.3087682,
          -118.3014702,
          -118.2900942,
          -118.2748912,
          -118.2586942,
          -118.2512712,
          -118.2460692,
          -118.2342612
         ],
         "marker": {
          "color": "#ab63fa"
         },
         "mode": "markers",
         "name": "D",
         "showlegend": true,
         "subplot": "mapbox",
         "type": "scattermapbox"
        },
        {
         "hovertemplate": "<b>%{hovertext}</b><br><br>Line Color=E<br>latitude=%{lat}<br>longitude=%{lon}<extra></extra>",
         "hovertext": [
          "Atlantic Station",
          "East LA Civic Center Station",
          "Maravilla Station",
          "Indiana Station",
          "Soto Station",
          "Mariachi Plaza / Boyle Heights Station",
          "Pico / Aliso Station",
          "Little Tokyo/Arts District",
          "Historic Broadway",
          "Grand Av Arts/Bunker Hill",
          "7th St / Metro Center Station",
          "Pico Station",
          "LATTC / Ortho Institute Station",
          "Jefferson / USC Station",
          "Expo Park / USC Station",
          "Expo / Vermont Station",
          "Expo / Western Station",
          "Expo / Crenshaw Station",
          "Farmdale Station",
          "Expo / La Brea Station",
          "La Cienega / Jefferson Station",
          "Culver City Station",
          "Palms Station",
          "Westwood / Rancho Park Station",
          "Expo / Sepulveda Station",
          "Expo / Bundy Station",
          "26th St / Bergamot Station",
          "17th St / SMC Station",
          "Downtown Santa Monica Station"
         ],
         "lat": [
          34.03340286,
          34.03336886,
          34.03332386,
          34.03430486,
          34.04375186,
          34.04721986,
          34.04763886,
          34.04884218,
          34.05203893,
          34.05475059,
          34.04861486,
          34.04073985,
          34.02911685,
          34.02212785,
          34.01823185,
          34.01824985,
          34.01833585,
          34.02253085,
          34.02398585,
          34.02480785,
          34.02635985,
          34.02790085,
          34.02932784,
          34.03682084,
          34.03541284,
          34.03170984,
          34.02799984,
          34.02315984,
          34.01401484
         ],
         "legendgroup": "E",
         "lon": [
          -118.1544812,
          -118.1612182,
          -118.1681522,
          -118.1921942,
          -118.2100732,
          -118.2196602,
          -118.2259522,
          -118.2387869,
          -118.2461664,
          -118.2512082,
          -118.2588342,
          -118.2661302,
          -118.2736152,
          -118.2781302,
          -118.2857462,
          -118.2915522,
          -118.3089222,
          -118.3350902,
          -118.3461072,
          -118.3551712,
          -118.3721322,
          -118.3889982,
          -118.4042672,
          -118.4245882,
          -118.4342462,
          -118.4529082,
          -118.4691322,
          -118.4803842,
          -118.4913962
         ],
         "marker": {
          "color": "#FFA15A"
         },
         "mode": "markers",
         "name": "E",
         "showlegend": true,
         "subplot": "mapbox",
         "type": "scattermapbox"
        },
        {
         "hovertemplate": "<b>%{hovertext}</b><br><br>Line Color=G<br>latitude=%{lat}<br>longitude=%{lon}<extra></extra>",
         "hovertext": [
          "Chatsworth Metro Station",
          "Nordhoff Metro Station North Bound",
          "Nordhoff Metro Station South Bound",
          "Roscoe Metro Station North Bound",
          "Roscoe Metro Station South Bound",
          "Sherman Way Metro Station",
          "Canoga Metro Station North-South",
          "Warner Center Metro Station",
          "Canoga Metro Station East-West",
          "De Soto Metro Station",
          "Pierce College Metro Station",
          "Tampa Metro Station",
          "Reseda Metro Station",
          "Balboa Metro Station",
          "Woodley Metro Station",
          "Sepulveda Metro Station",
          "Van Nuys Metro Station",
          "Woodman Metro Station",
          "Valley College Metro Station",
          "Laurel Canyon Metro Station",
          "North Hollywood Metro Station"
         ],
         "lat": [
          34.2521972,
          34.23592131,
          34.23498563,
          34.22047153,
          34.21937541,
          34.20050779,
          34.19136029,
          34.18154485,
          34.19056485,
          34.18871485,
          34.18696485,
          34.18105485,
          34.18045485,
          34.18600486,
          34.18631486,
          34.18085486,
          34.18046486,
          34.17899486,
          34.17176486,
          34.16856486,
          34.16881486
         ],
         "legendgroup": "G",
         "lon": [
          -118.5993797,
          -118.5971927,
          -118.5971931,
          -118.5970328,
          -118.5970485,
          -118.5971486,
          -118.5964455,
          -118.6014123,
          -118.5968923,
          -118.5887023,
          -118.5705623,
          -118.5530923,
          -118.5365023,
          -118.5005822,
          -118.4841522,
          -118.4687622,
          -118.4481522,
          -118.4297122,
          -118.4220922,
          -118.3970522,
          -118.3775322
         ],
         "marker": {
          "color": "#19d3f3"
         },
         "mode": "markers",
         "name": "G",
         "showlegend": true,
         "subplot": "mapbox",
         "type": "scattermapbox"
        },
        {
         "hovertemplate": "<b>%{hovertext}</b><br><br>Line Color=K<br>latitude=%{lat}<br>longitude=%{lon}<extra></extra>",
         "hovertext": [
          "Expo/Crenshaw Station",
          "Martin Luther King Jr Station",
          "Leimert Park Station",
          "Hyde Park Station",
          "Fairview Heights Station",
          "Downtown Inglewood Station",
          "Westchester/Veterans Station",
          "LAX/Metro Transit Center Station",
          "Aviation/Century Station",
          "Aviation/LAX Station"
         ],
         "lat": [
          34.02245314,
          34.01016656,
          34.00458152,
          33.98828975,
          33.97528429,
          33.96729917,
          33.96202081,
          33.94962547,
          33.94567805,
          33.92963484
         ],
         "legendgroup": "K",
         "lon": [
          -118.3350902,
          -118.335347,
          -118.3326646,
          -118.3308357,
          -118.3360302,
          -118.3513927,
          -118.3744553,
          -118.378663,
          -118.3787027,
          -118.3772708
         ],
         "marker": {
          "color": "#FF6692"
         },
         "mode": "markers",
         "name": "K",
         "showlegend": true,
         "subplot": "mapbox",
         "type": "scattermapbox"
        }
       ],
       "layout": {
        "height": 600,
        "legend": {
         "title": {
          "text": "Line Color"
         },
         "tracegroupgap": 0
        },
        "mapbox": {
         "center": {
          "lat": 34.04042933499999,
          "lon": -118.29805459857141
         },
         "domain": {
          "x": [
           0,
           1
          ],
          "y": [
           0,
           1
          ]
         },
         "style": "carto-positron",
         "zoom": 8.8
        },
        "template": {
         "data": {
          "bar": [
           {
            "error_x": {
             "color": "#2a3f5f"
            },
            "error_y": {
             "color": "#2a3f5f"
            },
            "marker": {
             "line": {
              "color": "#E5ECF6",
              "width": 0.5
             },
             "pattern": {
              "fillmode": "overlay",
              "size": 10,
              "solidity": 0.2
             }
            },
            "type": "bar"
           }
          ],
          "barpolar": [
           {
            "marker": {
             "line": {
              "color": "#E5ECF6",
              "width": 0.5
             },
             "pattern": {
              "fillmode": "overlay",
              "size": 10,
              "solidity": 0.2
             }
            },
            "type": "barpolar"
           }
          ],
          "carpet": [
           {
            "aaxis": {
             "endlinecolor": "#2a3f5f",
             "gridcolor": "white",
             "linecolor": "white",
             "minorgridcolor": "white",
             "startlinecolor": "#2a3f5f"
            },
            "baxis": {
             "endlinecolor": "#2a3f5f",
             "gridcolor": "white",
             "linecolor": "white",
             "minorgridcolor": "white",
             "startlinecolor": "#2a3f5f"
            },
            "type": "carpet"
           }
          ],
          "choropleth": [
           {
            "colorbar": {
             "outlinewidth": 0,
             "ticks": ""
            },
            "type": "choropleth"
           }
          ],
          "contour": [
           {
            "colorbar": {
             "outlinewidth": 0,
             "ticks": ""
            },
            "colorscale": [
             [
              0,
              "#0d0887"
             ],
             [
              0.1111111111111111,
              "#46039f"
             ],
             [
              0.2222222222222222,
              "#7201a8"
             ],
             [
              0.3333333333333333,
              "#9c179e"
             ],
             [
              0.4444444444444444,
              "#bd3786"
             ],
             [
              0.5555555555555556,
              "#d8576b"
             ],
             [
              0.6666666666666666,
              "#ed7953"
             ],
             [
              0.7777777777777778,
              "#fb9f3a"
             ],
             [
              0.8888888888888888,
              "#fdca26"
             ],
             [
              1,
              "#f0f921"
             ]
            ],
            "type": "contour"
           }
          ],
          "contourcarpet": [
           {
            "colorbar": {
             "outlinewidth": 0,
             "ticks": ""
            },
            "type": "contourcarpet"
           }
          ],
          "heatmap": [
           {
            "colorbar": {
             "outlinewidth": 0,
             "ticks": ""
            },
            "colorscale": [
             [
              0,
              "#0d0887"
             ],
             [
              0.1111111111111111,
              "#46039f"
             ],
             [
              0.2222222222222222,
              "#7201a8"
             ],
             [
              0.3333333333333333,
              "#9c179e"
             ],
             [
              0.4444444444444444,
              "#bd3786"
             ],
             [
              0.5555555555555556,
              "#d8576b"
             ],
             [
              0.6666666666666666,
              "#ed7953"
             ],
             [
              0.7777777777777778,
              "#fb9f3a"
             ],
             [
              0.8888888888888888,
              "#fdca26"
             ],
             [
              1,
              "#f0f921"
             ]
            ],
            "type": "heatmap"
           }
          ],
          "heatmapgl": [
           {
            "colorbar": {
             "outlinewidth": 0,
             "ticks": ""
            },
            "colorscale": [
             [
              0,
              "#0d0887"
             ],
             [
              0.1111111111111111,
              "#46039f"
             ],
             [
              0.2222222222222222,
              "#7201a8"
             ],
             [
              0.3333333333333333,
              "#9c179e"
             ],
             [
              0.4444444444444444,
              "#bd3786"
             ],
             [
              0.5555555555555556,
              "#d8576b"
             ],
             [
              0.6666666666666666,
              "#ed7953"
             ],
             [
              0.7777777777777778,
              "#fb9f3a"
             ],
             [
              0.8888888888888888,
              "#fdca26"
             ],
             [
              1,
              "#f0f921"
             ]
            ],
            "type": "heatmapgl"
           }
          ],
          "histogram": [
           {
            "marker": {
             "pattern": {
              "fillmode": "overlay",
              "size": 10,
              "solidity": 0.2
             }
            },
            "type": "histogram"
           }
          ],
          "histogram2d": [
           {
            "colorbar": {
             "outlinewidth": 0,
             "ticks": ""
            },
            "colorscale": [
             [
              0,
              "#0d0887"
             ],
             [
              0.1111111111111111,
              "#46039f"
             ],
             [
              0.2222222222222222,
              "#7201a8"
             ],
             [
              0.3333333333333333,
              "#9c179e"
             ],
             [
              0.4444444444444444,
              "#bd3786"
             ],
             [
              0.5555555555555556,
              "#d8576b"
             ],
             [
              0.6666666666666666,
              "#ed7953"
             ],
             [
              0.7777777777777778,
              "#fb9f3a"
             ],
             [
              0.8888888888888888,
              "#fdca26"
             ],
             [
              1,
              "#f0f921"
             ]
            ],
            "type": "histogram2d"
           }
          ],
          "histogram2dcontour": [
           {
            "colorbar": {
             "outlinewidth": 0,
             "ticks": ""
            },
            "colorscale": [
             [
              0,
              "#0d0887"
             ],
             [
              0.1111111111111111,
              "#46039f"
             ],
             [
              0.2222222222222222,
              "#7201a8"
             ],
             [
              0.3333333333333333,
              "#9c179e"
             ],
             [
              0.4444444444444444,
              "#bd3786"
             ],
             [
              0.5555555555555556,
              "#d8576b"
             ],
             [
              0.6666666666666666,
              "#ed7953"
             ],
             [
              0.7777777777777778,
              "#fb9f3a"
             ],
             [
              0.8888888888888888,
              "#fdca26"
             ],
             [
              1,
              "#f0f921"
             ]
            ],
            "type": "histogram2dcontour"
           }
          ],
          "mesh3d": [
           {
            "colorbar": {
             "outlinewidth": 0,
             "ticks": ""
            },
            "type": "mesh3d"
           }
          ],
          "parcoords": [
           {
            "line": {
             "colorbar": {
              "outlinewidth": 0,
              "ticks": ""
             }
            },
            "type": "parcoords"
           }
          ],
          "pie": [
           {
            "automargin": true,
            "type": "pie"
           }
          ],
          "scatter": [
           {
            "fillpattern": {
             "fillmode": "overlay",
             "size": 10,
             "solidity": 0.2
            },
            "type": "scatter"
           }
          ],
          "scatter3d": [
           {
            "line": {
             "colorbar": {
              "outlinewidth": 0,
              "ticks": ""
             }
            },
            "marker": {
             "colorbar": {
              "outlinewidth": 0,
              "ticks": ""
             }
            },
            "type": "scatter3d"
           }
          ],
          "scattercarpet": [
           {
            "marker": {
             "colorbar": {
              "outlinewidth": 0,
              "ticks": ""
             }
            },
            "type": "scattercarpet"
           }
          ],
          "scattergeo": [
           {
            "marker": {
             "colorbar": {
              "outlinewidth": 0,
              "ticks": ""
             }
            },
            "type": "scattergeo"
           }
          ],
          "scattergl": [
           {
            "marker": {
             "colorbar": {
              "outlinewidth": 0,
              "ticks": ""
             }
            },
            "type": "scattergl"
           }
          ],
          "scattermapbox": [
           {
            "marker": {
             "colorbar": {
              "outlinewidth": 0,
              "ticks": ""
             }
            },
            "type": "scattermapbox"
           }
          ],
          "scatterpolar": [
           {
            "marker": {
             "colorbar": {
              "outlinewidth": 0,
              "ticks": ""
             }
            },
            "type": "scatterpolar"
           }
          ],
          "scatterpolargl": [
           {
            "marker": {
             "colorbar": {
              "outlinewidth": 0,
              "ticks": ""
             }
            },
            "type": "scatterpolargl"
           }
          ],
          "scatterternary": [
           {
            "marker": {
             "colorbar": {
              "outlinewidth": 0,
              "ticks": ""
             }
            },
            "type": "scatterternary"
           }
          ],
          "surface": [
           {
            "colorbar": {
             "outlinewidth": 0,
             "ticks": ""
            },
            "colorscale": [
             [
              0,
              "#0d0887"
             ],
             [
              0.1111111111111111,
              "#46039f"
             ],
             [
              0.2222222222222222,
              "#7201a8"
             ],
             [
              0.3333333333333333,
              "#9c179e"
             ],
             [
              0.4444444444444444,
              "#bd3786"
             ],
             [
              0.5555555555555556,
              "#d8576b"
             ],
             [
              0.6666666666666666,
              "#ed7953"
             ],
             [
              0.7777777777777778,
              "#fb9f3a"
             ],
             [
              0.8888888888888888,
              "#fdca26"
             ],
             [
              1,
              "#f0f921"
             ]
            ],
            "type": "surface"
           }
          ],
          "table": [
           {
            "cells": {
             "fill": {
              "color": "#EBF0F8"
             },
             "line": {
              "color": "white"
             }
            },
            "header": {
             "fill": {
              "color": "#C8D4E3"
             },
             "line": {
              "color": "white"
             }
            },
            "type": "table"
           }
          ]
         },
         "layout": {
          "annotationdefaults": {
           "arrowcolor": "#2a3f5f",
           "arrowhead": 0,
           "arrowwidth": 1
          },
          "autotypenumbers": "strict",
          "coloraxis": {
           "colorbar": {
            "outlinewidth": 0,
            "ticks": ""
           }
          },
          "colorscale": {
           "diverging": [
            [
             0,
             "#8e0152"
            ],
            [
             0.1,
             "#c51b7d"
            ],
            [
             0.2,
             "#de77ae"
            ],
            [
             0.3,
             "#f1b6da"
            ],
            [
             0.4,
             "#fde0ef"
            ],
            [
             0.5,
             "#f7f7f7"
            ],
            [
             0.6,
             "#e6f5d0"
            ],
            [
             0.7,
             "#b8e186"
            ],
            [
             0.8,
             "#7fbc41"
            ],
            [
             0.9,
             "#4d9221"
            ],
            [
             1,
             "#276419"
            ]
           ],
           "sequential": [
            [
             0,
             "#0d0887"
            ],
            [
             0.1111111111111111,
             "#46039f"
            ],
            [
             0.2222222222222222,
             "#7201a8"
            ],
            [
             0.3333333333333333,
             "#9c179e"
            ],
            [
             0.4444444444444444,
             "#bd3786"
            ],
            [
             0.5555555555555556,
             "#d8576b"
            ],
            [
             0.6666666666666666,
             "#ed7953"
            ],
            [
             0.7777777777777778,
             "#fb9f3a"
            ],
            [
             0.8888888888888888,
             "#fdca26"
            ],
            [
             1,
             "#f0f921"
            ]
           ],
           "sequentialminus": [
            [
             0,
             "#0d0887"
            ],
            [
             0.1111111111111111,
             "#46039f"
            ],
            [
             0.2222222222222222,
             "#7201a8"
            ],
            [
             0.3333333333333333,
             "#9c179e"
            ],
            [
             0.4444444444444444,
             "#bd3786"
            ],
            [
             0.5555555555555556,
             "#d8576b"
            ],
            [
             0.6666666666666666,
             "#ed7953"
            ],
            [
             0.7777777777777778,
             "#fb9f3a"
            ],
            [
             0.8888888888888888,
             "#fdca26"
            ],
            [
             1,
             "#f0f921"
            ]
           ]
          },
          "colorway": [
           "#636efa",
           "#EF553B",
           "#00cc96",
           "#ab63fa",
           "#FFA15A",
           "#19d3f3",
           "#FF6692",
           "#B6E880",
           "#FF97FF",
           "#FECB52"
          ],
          "font": {
           "color": "#2a3f5f"
          },
          "geo": {
           "bgcolor": "white",
           "lakecolor": "white",
           "landcolor": "#E5ECF6",
           "showlakes": true,
           "showland": true,
           "subunitcolor": "white"
          },
          "hoverlabel": {
           "align": "left"
          },
          "hovermode": "closest",
          "mapbox": {
           "style": "light"
          },
          "paper_bgcolor": "white",
          "plot_bgcolor": "#E5ECF6",
          "polar": {
           "angularaxis": {
            "gridcolor": "white",
            "linecolor": "white",
            "ticks": ""
           },
           "bgcolor": "#E5ECF6",
           "radialaxis": {
            "gridcolor": "white",
            "linecolor": "white",
            "ticks": ""
           }
          },
          "scene": {
           "xaxis": {
            "backgroundcolor": "#E5ECF6",
            "gridcolor": "white",
            "gridwidth": 2,
            "linecolor": "white",
            "showbackground": true,
            "ticks": "",
            "zerolinecolor": "white"
           },
           "yaxis": {
            "backgroundcolor": "#E5ECF6",
            "gridcolor": "white",
            "gridwidth": 2,
            "linecolor": "white",
            "showbackground": true,
            "ticks": "",
            "zerolinecolor": "white"
           },
           "zaxis": {
            "backgroundcolor": "#E5ECF6",
            "gridcolor": "white",
            "gridwidth": 2,
            "linecolor": "white",
            "showbackground": true,
            "ticks": "",
            "zerolinecolor": "white"
           }
          },
          "shapedefaults": {
           "line": {
            "color": "#2a3f5f"
           }
          },
          "ternary": {
           "aaxis": {
            "gridcolor": "white",
            "linecolor": "white",
            "ticks": ""
           },
           "baxis": {
            "gridcolor": "white",
            "linecolor": "white",
            "ticks": ""
           },
           "bgcolor": "#E5ECF6",
           "caxis": {
            "gridcolor": "white",
            "linecolor": "white",
            "ticks": ""
           }
          },
          "title": {
           "x": 0.05
          },
          "xaxis": {
           "automargin": true,
           "gridcolor": "white",
           "linecolor": "white",
           "ticks": "",
           "title": {
            "standoff": 15
           },
           "zerolinecolor": "white",
           "zerolinewidth": 2
          },
          "yaxis": {
           "automargin": true,
           "gridcolor": "white",
           "linecolor": "white",
           "ticks": "",
           "title": {
            "standoff": 15
           },
           "zerolinecolor": "white",
           "zerolinewidth": 2
          }
         }
        },
        "title": {
         "text": "Graph Representation of LA Metro Station Locations by Line"
        },
        "width": 800
       }
      }
     },
     "metadata": {},
     "output_type": "display_data"
    }
   ],
   "source": [
    "#station map, lines not connected, also hover_data is kinda broken. The G-Line (BRT, not Rail) is shown as well\n",
    "fig = px.scatter_mapbox(df, \n",
    "                        lat = \"latitude\",\n",
    "                        lon = \"longitude\",\n",
    "                        color = \"Line\",\n",
    "                        hover_name = \"Name\",\n",
    "                        #hover_data = \"Lines\",\n",
    "                        zoom = 8.8,\n",
    "                        height = 600,\n",
    "                        width = 800,\n",
    "                        title = \"Graph Representation of LA Metro Station Locations by Line\",\n",
    "                        mapbox_style = \"carto-positron\")\n",
    "\n",
    "fig.show()"
   ]
  },
  {
   "cell_type": "markdown",
   "metadata": {},
   "source": [
    "Here's one with the lines connected:"
   ]
  },
  {
   "cell_type": "code",
   "execution_count": null,
   "metadata": {},
   "outputs": [
    {
     "data": {
      "application/vnd.plotly.v1+json": {
       "config": {
        "plotlyServerURL": "https://plot.ly"
       },
       "data": [
        {
         "hovertemplate": "<b>%{hovertext}</b><br><br>Line Color=A<br>latitude=%{lat}<br>longitude=%{lon}<extra></extra>",
         "hovertext": [
          "5th Street Station",
          "1st Street Station",
          "Downtown Long Beach Station",
          "Pacific Ave Station",
          "Anaheim Street Station",
          "Pacific Coast Hwy Station",
          "Willow Street Station",
          "Wardlow Station",
          "Del Amo Station",
          "Artesia Station",
          "Compton Station",
          "Willowbrook - Rosa Parks Station",
          "103rd Street / Watts Towers  Station",
          "Firestone Station",
          "Florence Station",
          "Slauson Station",
          "Vernon Station",
          "Washington Station",
          "San Pedro Street Station",
          "Grand / LATTC Station",
          "Pico Station",
          "7th St / Metro Center Station",
          "Grand Av Arts/Bunker Hill",
          "Historic Broadway",
          "Little Tokyo/Arts District",
          "Union Station",
          "Chinatown Station",
          "Lincoln Heights / Cypress Park Station",
          "Heritage Square / Arroyo Station",
          "Southwest Museum Station",
          "Highland Park Station",
          "South Pasadena Station",
          "Fillmore Station",
          "Del Mar Station",
          "Memorial Park Station",
          "Lake Station",
          "Allen Station",
          "Sierra Madre Villa Station",
          "Arcadia Station",
          "Monrovia Station",
          "Duarte / City of Hope Station",
          "Irwindale Station",
          "Azusa Downtown Station",
          "APU / Citrus College Station"
         ],
         "lat": [
          33.77360283,
          33.76874483,
          33.76807583,
          33.77226283,
          33.78183483,
          33.78909483,
          33.80708383,
          33.81986983,
          33.84822684,
          33.87608684,
          33.89749484,
          33.92805284,
          33.94222484,
          33.95961585,
          33.97374485,
          33.98876485,
          34.00292485,
          34.01965485,
          34.02681185,
          34.03315985,
          34.04073985,
          34.04861486,
          34.05475059,
          34.05203893,
          34.04884218,
          34.05606586,
          34.06386586,
          34.08095386,
          34.08723186,
          34.09824786,
          34.11118387,
          34.11519087,
          34.13352587,
          34.14191487,
          34.14836087,
          34.15181087,
          34.15242187,
          34.14775688,
          34.14286488,
          34.13315988,
          34.13252288,
          34.12905288,
          34.13586788,
          34.13681889
         ],
         "legendgroup": "A",
         "line": {
          "color": "#636efa"
         },
         "lon": [
          -118.1894242,
          -118.1893742,
          -118.1929332,
          -118.1937122,
          -118.1893962,
          -118.1893942,
          -118.1898462,
          -118.1961022,
          -118.2110292,
          -118.2225152,
          -118.2242612,
          -118.2375672,
          -118.2431712,
          -118.2432172,
          -118.2432832,
          -118.2434102,
          -118.2433152,
          -118.2430962,
          -118.2555172,
          -118.2693452,
          -118.2661302,
          -118.2588342,
          -118.2512082,
          -118.2461664,
          -118.2387869,
          -118.2347712,
          -118.2358522,
          -118.2204412,
          -118.2132252,
          -118.2067242,
          -118.1926182,
          -118.1578982,
          -118.1481382,
          -118.1482262,
          -118.1475242,
          -118.1314022,
          -118.1143602,
          -118.0812242,
          -118.0292112,
          -118.0034852,
          -117.9676922,
          -117.9325181,
          -117.9066431,
          -117.8916481
         ],
         "mode": "lines",
         "name": "A",
         "showlegend": true,
         "subplot": "mapbox",
         "type": "scattermapbox"
        },
        {
         "hovertemplate": "<b>%{hovertext}</b><br><br>Line Color=B<br>latitude=%{lat}<br>longitude=%{lon}<extra></extra>",
         "hovertext": [
          "North Hollywood Station",
          "Universal / Studio City Station",
          "Hollywood / Highland Station",
          "Hollywood / Vine Station",
          "Hollywood / Western Station",
          "Vermont / Sunset Station",
          "Vermont / Santa Monica Station",
          "Vermont / Beverly Station",
          "Wilshire / Vermont Station",
          "Westlake / MacArthur Park Station",
          "7th St / Metro Center Station",
          "Pershing Square Station",
          "Civic Center / Grand Park Station",
          "Union Station"
         ],
         "lat": [
          34.16850886,
          34.14000686,
          34.10155186,
          34.10163486,
          34.10174186,
          34.09771286,
          34.08991486,
          34.07653086,
          34.06270585,
          34.05637286,
          34.04863885,
          34.04932086,
          34.05490486,
          34.05620186
         ],
         "legendgroup": "B",
         "line": {
          "color": "#EF553B"
         },
         "lon": [
          -118.3768202,
          -118.3627112,
          -118.3385612,
          -118.3251922,
          -118.3081292,
          -118.2917682,
          -118.2917422,
          -118.2916982,
          -118.2900942,
          -118.2748912,
          -118.2586942,
          -118.2512712,
          -118.2460692,
          -118.2342612
         ],
         "mode": "lines",
         "name": "B",
         "showlegend": true,
         "subplot": "mapbox",
         "type": "scattermapbox"
        },
        {
         "hovertemplate": "<b>%{hovertext}</b><br><br>Line Color=C<br>latitude=%{lat}<br>longitude=%{lon}<extra></extra>",
         "hovertext": [
          "Redondo Beach Station",
          "Douglas Station",
          "El Segundo Station",
          "Mariposa Station",
          "Aviation / LAX Station",
          "Hawthorne / Lennox Station",
          "Crenshaw Station",
          "Vermont / Athens Station",
          "Harbor Freeway Station",
          "Avalon Station",
          "Willowbrook - Rosa Parks Station",
          "Long Beach Blvd Station",
          "Lakewood Blvd Station",
          "Norwalk Station"
         ],
         "lat": [
          33.89464483,
          33.90530383,
          33.91606783,
          33.92320483,
          33.92962583,
          33.93341284,
          33.92520584,
          33.92868784,
          33.92871884,
          33.92746984,
          33.92826284,
          33.92488484,
          33.91307485,
          33.91403785
         ],
         "legendgroup": "C",
         "line": {
          "color": "#00cc96"
         },
         "lon": [
          -118.3692082,
          -118.3831252,
          -118.3865512,
          -118.3875842,
          -118.3771462,
          -118.3516142,
          -118.3265622,
          -118.2917452,
          -118.2811122,
          -118.2652292,
          -118.2380642,
          -118.2099572,
          -118.1406122,
          -118.1047292
         ],
         "mode": "lines",
         "name": "C",
         "showlegend": true,
         "subplot": "mapbox",
         "type": "scattermapbox"
        },
        {
         "hovertemplate": "<b>%{hovertext}</b><br><br>Line Color=D<br>latitude=%{lat}<br>longitude=%{lon}<extra></extra>",
         "hovertext": [
          "Wilshire / Western Station",
          "Wilshire / Normandie Station",
          "Wilshire / Vermont Station",
          "Westlake / MacArthur Park Station",
          "7th St / Metro Center Station",
          "Pershing Square Station",
          "Civic Center / Grand Park Station",
          "Union Station"
         ],
         "lat": [
          34.06169385,
          34.06175785,
          34.06270585,
          34.05637286,
          34.04863885,
          34.04932086,
          34.05490486,
          34.05620186
         ],
         "legendgroup": "D",
         "line": {
          "color": "#ab63fa"
         },
         "lon": [
          -118.3087682,
          -118.3014702,
          -118.2900942,
          -118.2748912,
          -118.2586942,
          -118.2512712,
          -118.2460692,
          -118.2342612
         ],
         "mode": "lines",
         "name": "D",
         "showlegend": true,
         "subplot": "mapbox",
         "type": "scattermapbox"
        },
        {
         "hovertemplate": "<b>%{hovertext}</b><br><br>Line Color=E<br>latitude=%{lat}<br>longitude=%{lon}<extra></extra>",
         "hovertext": [
          "Atlantic Station",
          "East LA Civic Center Station",
          "Maravilla Station",
          "Indiana Station",
          "Soto Station",
          "Mariachi Plaza / Boyle Heights Station",
          "Pico / Aliso Station",
          "Little Tokyo/Arts District",
          "Historic Broadway",
          "Grand Av Arts/Bunker Hill",
          "7th St / Metro Center Station",
          "Pico Station",
          "LATTC / Ortho Institute Station",
          "Jefferson / USC Station",
          "Expo Park / USC Station",
          "Expo / Vermont Station",
          "Expo / Western Station",
          "Expo / Crenshaw Station",
          "Farmdale Station",
          "Expo / La Brea Station",
          "La Cienega / Jefferson Station",
          "Culver City Station",
          "Palms Station",
          "Westwood / Rancho Park Station",
          "Expo / Sepulveda Station",
          "Expo / Bundy Station",
          "26th St / Bergamot Station",
          "17th St / SMC Station",
          "Downtown Santa Monica Station"
         ],
         "lat": [
          34.03340286,
          34.03336886,
          34.03332386,
          34.03430486,
          34.04375186,
          34.04721986,
          34.04763886,
          34.04884218,
          34.05203893,
          34.05475059,
          34.04861486,
          34.04073985,
          34.02911685,
          34.02212785,
          34.01823185,
          34.01824985,
          34.01833585,
          34.02253085,
          34.02398585,
          34.02480785,
          34.02635985,
          34.02790085,
          34.02932784,
          34.03682084,
          34.03541284,
          34.03170984,
          34.02799984,
          34.02315984,
          34.01401484
         ],
         "legendgroup": "E",
         "line": {
          "color": "#FFA15A"
         },
         "lon": [
          -118.1544812,
          -118.1612182,
          -118.1681522,
          -118.1921942,
          -118.2100732,
          -118.2196602,
          -118.2259522,
          -118.2387869,
          -118.2461664,
          -118.2512082,
          -118.2588342,
          -118.2661302,
          -118.2736152,
          -118.2781302,
          -118.2857462,
          -118.2915522,
          -118.3089222,
          -118.3350902,
          -118.3461072,
          -118.3551712,
          -118.3721322,
          -118.3889982,
          -118.4042672,
          -118.4245882,
          -118.4342462,
          -118.4529082,
          -118.4691322,
          -118.4803842,
          -118.4913962
         ],
         "mode": "lines",
         "name": "E",
         "showlegend": true,
         "subplot": "mapbox",
         "type": "scattermapbox"
        },
        {
         "hovertemplate": "<b>%{hovertext}</b><br><br>Line Color=G<br>latitude=%{lat}<br>longitude=%{lon}<extra></extra>",
         "hovertext": [
          "Chatsworth Metro Station",
          "Nordhoff Metro Station North Bound",
          "Nordhoff Metro Station South Bound",
          "Roscoe Metro Station North Bound",
          "Roscoe Metro Station South Bound",
          "Sherman Way Metro Station",
          "Canoga Metro Station North-South",
          "Warner Center Metro Station",
          "Canoga Metro Station East-West",
          "De Soto Metro Station",
          "Pierce College Metro Station",
          "Tampa Metro Station",
          "Reseda Metro Station",
          "Balboa Metro Station",
          "Woodley Metro Station",
          "Sepulveda Metro Station",
          "Van Nuys Metro Station",
          "Woodman Metro Station",
          "Valley College Metro Station",
          "Laurel Canyon Metro Station",
          "North Hollywood Metro Station"
         ],
         "lat": [
          34.2521972,
          34.23592131,
          34.23498563,
          34.22047153,
          34.21937541,
          34.20050779,
          34.19136029,
          34.18154485,
          34.19056485,
          34.18871485,
          34.18696485,
          34.18105485,
          34.18045485,
          34.18600486,
          34.18631486,
          34.18085486,
          34.18046486,
          34.17899486,
          34.17176486,
          34.16856486,
          34.16881486
         ],
         "legendgroup": "G",
         "line": {
          "color": "#19d3f3"
         },
         "lon": [
          -118.5993797,
          -118.5971927,
          -118.5971931,
          -118.5970328,
          -118.5970485,
          -118.5971486,
          -118.5964455,
          -118.6014123,
          -118.5968923,
          -118.5887023,
          -118.5705623,
          -118.5530923,
          -118.5365023,
          -118.5005822,
          -118.4841522,
          -118.4687622,
          -118.4481522,
          -118.4297122,
          -118.4220922,
          -118.3970522,
          -118.3775322
         ],
         "mode": "lines",
         "name": "G",
         "showlegend": true,
         "subplot": "mapbox",
         "type": "scattermapbox"
        },
        {
         "hovertemplate": "<b>%{hovertext}</b><br><br>Line Color=K<br>latitude=%{lat}<br>longitude=%{lon}<extra></extra>",
         "hovertext": [
          "Expo/Crenshaw Station",
          "Martin Luther King Jr Station",
          "Leimert Park Station",
          "Hyde Park Station",
          "Fairview Heights Station",
          "Downtown Inglewood Station",
          "Westchester/Veterans Station",
          "LAX/Metro Transit Center Station",
          "Aviation/Century Station",
          "Aviation/LAX Station"
         ],
         "lat": [
          34.02245314,
          34.01016656,
          34.00458152,
          33.98828975,
          33.97528429,
          33.96729917,
          33.96202081,
          33.94962547,
          33.94567805,
          33.92963484
         ],
         "legendgroup": "K",
         "line": {
          "color": "#FF6692"
         },
         "lon": [
          -118.3350902,
          -118.335347,
          -118.3326646,
          -118.3308357,
          -118.3360302,
          -118.3513927,
          -118.3744553,
          -118.378663,
          -118.3787027,
          -118.3772708
         ],
         "mode": "lines",
         "name": "K",
         "showlegend": true,
         "subplot": "mapbox",
         "type": "scattermapbox"
        }
       ],
       "layout": {
        "height": 600,
        "legend": {
         "title": {
          "text": "Line Color"
         },
         "tracegroupgap": 0
        },
        "mapbox": {
         "center": {
          "lat": 34.04042933499999,
          "lon": -118.29805459857141
         },
         "domain": {
          "x": [
           0,
           1
          ],
          "y": [
           0,
           1
          ]
         },
         "style": "carto-positron",
         "zoom": 8.8
        },
        "template": {
         "data": {
          "bar": [
           {
            "error_x": {
             "color": "#2a3f5f"
            },
            "error_y": {
             "color": "#2a3f5f"
            },
            "marker": {
             "line": {
              "color": "#E5ECF6",
              "width": 0.5
             },
             "pattern": {
              "fillmode": "overlay",
              "size": 10,
              "solidity": 0.2
             }
            },
            "type": "bar"
           }
          ],
          "barpolar": [
           {
            "marker": {
             "line": {
              "color": "#E5ECF6",
              "width": 0.5
             },
             "pattern": {
              "fillmode": "overlay",
              "size": 10,
              "solidity": 0.2
             }
            },
            "type": "barpolar"
           }
          ],
          "carpet": [
           {
            "aaxis": {
             "endlinecolor": "#2a3f5f",
             "gridcolor": "white",
             "linecolor": "white",
             "minorgridcolor": "white",
             "startlinecolor": "#2a3f5f"
            },
            "baxis": {
             "endlinecolor": "#2a3f5f",
             "gridcolor": "white",
             "linecolor": "white",
             "minorgridcolor": "white",
             "startlinecolor": "#2a3f5f"
            },
            "type": "carpet"
           }
          ],
          "choropleth": [
           {
            "colorbar": {
             "outlinewidth": 0,
             "ticks": ""
            },
            "type": "choropleth"
           }
          ],
          "contour": [
           {
            "colorbar": {
             "outlinewidth": 0,
             "ticks": ""
            },
            "colorscale": [
             [
              0,
              "#0d0887"
             ],
             [
              0.1111111111111111,
              "#46039f"
             ],
             [
              0.2222222222222222,
              "#7201a8"
             ],
             [
              0.3333333333333333,
              "#9c179e"
             ],
             [
              0.4444444444444444,
              "#bd3786"
             ],
             [
              0.5555555555555556,
              "#d8576b"
             ],
             [
              0.6666666666666666,
              "#ed7953"
             ],
             [
              0.7777777777777778,
              "#fb9f3a"
             ],
             [
              0.8888888888888888,
              "#fdca26"
             ],
             [
              1,
              "#f0f921"
             ]
            ],
            "type": "contour"
           }
          ],
          "contourcarpet": [
           {
            "colorbar": {
             "outlinewidth": 0,
             "ticks": ""
            },
            "type": "contourcarpet"
           }
          ],
          "heatmap": [
           {
            "colorbar": {
             "outlinewidth": 0,
             "ticks": ""
            },
            "colorscale": [
             [
              0,
              "#0d0887"
             ],
             [
              0.1111111111111111,
              "#46039f"
             ],
             [
              0.2222222222222222,
              "#7201a8"
             ],
             [
              0.3333333333333333,
              "#9c179e"
             ],
             [
              0.4444444444444444,
              "#bd3786"
             ],
             [
              0.5555555555555556,
              "#d8576b"
             ],
             [
              0.6666666666666666,
              "#ed7953"
             ],
             [
              0.7777777777777778,
              "#fb9f3a"
             ],
             [
              0.8888888888888888,
              "#fdca26"
             ],
             [
              1,
              "#f0f921"
             ]
            ],
            "type": "heatmap"
           }
          ],
          "heatmapgl": [
           {
            "colorbar": {
             "outlinewidth": 0,
             "ticks": ""
            },
            "colorscale": [
             [
              0,
              "#0d0887"
             ],
             [
              0.1111111111111111,
              "#46039f"
             ],
             [
              0.2222222222222222,
              "#7201a8"
             ],
             [
              0.3333333333333333,
              "#9c179e"
             ],
             [
              0.4444444444444444,
              "#bd3786"
             ],
             [
              0.5555555555555556,
              "#d8576b"
             ],
             [
              0.6666666666666666,
              "#ed7953"
             ],
             [
              0.7777777777777778,
              "#fb9f3a"
             ],
             [
              0.8888888888888888,
              "#fdca26"
             ],
             [
              1,
              "#f0f921"
             ]
            ],
            "type": "heatmapgl"
           }
          ],
          "histogram": [
           {
            "marker": {
             "pattern": {
              "fillmode": "overlay",
              "size": 10,
              "solidity": 0.2
             }
            },
            "type": "histogram"
           }
          ],
          "histogram2d": [
           {
            "colorbar": {
             "outlinewidth": 0,
             "ticks": ""
            },
            "colorscale": [
             [
              0,
              "#0d0887"
             ],
             [
              0.1111111111111111,
              "#46039f"
             ],
             [
              0.2222222222222222,
              "#7201a8"
             ],
             [
              0.3333333333333333,
              "#9c179e"
             ],
             [
              0.4444444444444444,
              "#bd3786"
             ],
             [
              0.5555555555555556,
              "#d8576b"
             ],
             [
              0.6666666666666666,
              "#ed7953"
             ],
             [
              0.7777777777777778,
              "#fb9f3a"
             ],
             [
              0.8888888888888888,
              "#fdca26"
             ],
             [
              1,
              "#f0f921"
             ]
            ],
            "type": "histogram2d"
           }
          ],
          "histogram2dcontour": [
           {
            "colorbar": {
             "outlinewidth": 0,
             "ticks": ""
            },
            "colorscale": [
             [
              0,
              "#0d0887"
             ],
             [
              0.1111111111111111,
              "#46039f"
             ],
             [
              0.2222222222222222,
              "#7201a8"
             ],
             [
              0.3333333333333333,
              "#9c179e"
             ],
             [
              0.4444444444444444,
              "#bd3786"
             ],
             [
              0.5555555555555556,
              "#d8576b"
             ],
             [
              0.6666666666666666,
              "#ed7953"
             ],
             [
              0.7777777777777778,
              "#fb9f3a"
             ],
             [
              0.8888888888888888,
              "#fdca26"
             ],
             [
              1,
              "#f0f921"
             ]
            ],
            "type": "histogram2dcontour"
           }
          ],
          "mesh3d": [
           {
            "colorbar": {
             "outlinewidth": 0,
             "ticks": ""
            },
            "type": "mesh3d"
           }
          ],
          "parcoords": [
           {
            "line": {
             "colorbar": {
              "outlinewidth": 0,
              "ticks": ""
             }
            },
            "type": "parcoords"
           }
          ],
          "pie": [
           {
            "automargin": true,
            "type": "pie"
           }
          ],
          "scatter": [
           {
            "fillpattern": {
             "fillmode": "overlay",
             "size": 10,
             "solidity": 0.2
            },
            "type": "scatter"
           }
          ],
          "scatter3d": [
           {
            "line": {
             "colorbar": {
              "outlinewidth": 0,
              "ticks": ""
             }
            },
            "marker": {
             "colorbar": {
              "outlinewidth": 0,
              "ticks": ""
             }
            },
            "type": "scatter3d"
           }
          ],
          "scattercarpet": [
           {
            "marker": {
             "colorbar": {
              "outlinewidth": 0,
              "ticks": ""
             }
            },
            "type": "scattercarpet"
           }
          ],
          "scattergeo": [
           {
            "marker": {
             "colorbar": {
              "outlinewidth": 0,
              "ticks": ""
             }
            },
            "type": "scattergeo"
           }
          ],
          "scattergl": [
           {
            "marker": {
             "colorbar": {
              "outlinewidth": 0,
              "ticks": ""
             }
            },
            "type": "scattergl"
           }
          ],
          "scattermapbox": [
           {
            "marker": {
             "colorbar": {
              "outlinewidth": 0,
              "ticks": ""
             }
            },
            "type": "scattermapbox"
           }
          ],
          "scatterpolar": [
           {
            "marker": {
             "colorbar": {
              "outlinewidth": 0,
              "ticks": ""
             }
            },
            "type": "scatterpolar"
           }
          ],
          "scatterpolargl": [
           {
            "marker": {
             "colorbar": {
              "outlinewidth": 0,
              "ticks": ""
             }
            },
            "type": "scatterpolargl"
           }
          ],
          "scatterternary": [
           {
            "marker": {
             "colorbar": {
              "outlinewidth": 0,
              "ticks": ""
             }
            },
            "type": "scatterternary"
           }
          ],
          "surface": [
           {
            "colorbar": {
             "outlinewidth": 0,
             "ticks": ""
            },
            "colorscale": [
             [
              0,
              "#0d0887"
             ],
             [
              0.1111111111111111,
              "#46039f"
             ],
             [
              0.2222222222222222,
              "#7201a8"
             ],
             [
              0.3333333333333333,
              "#9c179e"
             ],
             [
              0.4444444444444444,
              "#bd3786"
             ],
             [
              0.5555555555555556,
              "#d8576b"
             ],
             [
              0.6666666666666666,
              "#ed7953"
             ],
             [
              0.7777777777777778,
              "#fb9f3a"
             ],
             [
              0.8888888888888888,
              "#fdca26"
             ],
             [
              1,
              "#f0f921"
             ]
            ],
            "type": "surface"
           }
          ],
          "table": [
           {
            "cells": {
             "fill": {
              "color": "#EBF0F8"
             },
             "line": {
              "color": "white"
             }
            },
            "header": {
             "fill": {
              "color": "#C8D4E3"
             },
             "line": {
              "color": "white"
             }
            },
            "type": "table"
           }
          ]
         },
         "layout": {
          "annotationdefaults": {
           "arrowcolor": "#2a3f5f",
           "arrowhead": 0,
           "arrowwidth": 1
          },
          "autotypenumbers": "strict",
          "coloraxis": {
           "colorbar": {
            "outlinewidth": 0,
            "ticks": ""
           }
          },
          "colorscale": {
           "diverging": [
            [
             0,
             "#8e0152"
            ],
            [
             0.1,
             "#c51b7d"
            ],
            [
             0.2,
             "#de77ae"
            ],
            [
             0.3,
             "#f1b6da"
            ],
            [
             0.4,
             "#fde0ef"
            ],
            [
             0.5,
             "#f7f7f7"
            ],
            [
             0.6,
             "#e6f5d0"
            ],
            [
             0.7,
             "#b8e186"
            ],
            [
             0.8,
             "#7fbc41"
            ],
            [
             0.9,
             "#4d9221"
            ],
            [
             1,
             "#276419"
            ]
           ],
           "sequential": [
            [
             0,
             "#0d0887"
            ],
            [
             0.1111111111111111,
             "#46039f"
            ],
            [
             0.2222222222222222,
             "#7201a8"
            ],
            [
             0.3333333333333333,
             "#9c179e"
            ],
            [
             0.4444444444444444,
             "#bd3786"
            ],
            [
             0.5555555555555556,
             "#d8576b"
            ],
            [
             0.6666666666666666,
             "#ed7953"
            ],
            [
             0.7777777777777778,
             "#fb9f3a"
            ],
            [
             0.8888888888888888,
             "#fdca26"
            ],
            [
             1,
             "#f0f921"
            ]
           ],
           "sequentialminus": [
            [
             0,
             "#0d0887"
            ],
            [
             0.1111111111111111,
             "#46039f"
            ],
            [
             0.2222222222222222,
             "#7201a8"
            ],
            [
             0.3333333333333333,
             "#9c179e"
            ],
            [
             0.4444444444444444,
             "#bd3786"
            ],
            [
             0.5555555555555556,
             "#d8576b"
            ],
            [
             0.6666666666666666,
             "#ed7953"
            ],
            [
             0.7777777777777778,
             "#fb9f3a"
            ],
            [
             0.8888888888888888,
             "#fdca26"
            ],
            [
             1,
             "#f0f921"
            ]
           ]
          },
          "colorway": [
           "#636efa",
           "#EF553B",
           "#00cc96",
           "#ab63fa",
           "#FFA15A",
           "#19d3f3",
           "#FF6692",
           "#B6E880",
           "#FF97FF",
           "#FECB52"
          ],
          "font": {
           "color": "#2a3f5f"
          },
          "geo": {
           "bgcolor": "white",
           "lakecolor": "white",
           "landcolor": "#E5ECF6",
           "showlakes": true,
           "showland": true,
           "subunitcolor": "white"
          },
          "hoverlabel": {
           "align": "left"
          },
          "hovermode": "closest",
          "mapbox": {
           "style": "light"
          },
          "paper_bgcolor": "white",
          "plot_bgcolor": "#E5ECF6",
          "polar": {
           "angularaxis": {
            "gridcolor": "white",
            "linecolor": "white",
            "ticks": ""
           },
           "bgcolor": "#E5ECF6",
           "radialaxis": {
            "gridcolor": "white",
            "linecolor": "white",
            "ticks": ""
           }
          },
          "scene": {
           "xaxis": {
            "backgroundcolor": "#E5ECF6",
            "gridcolor": "white",
            "gridwidth": 2,
            "linecolor": "white",
            "showbackground": true,
            "ticks": "",
            "zerolinecolor": "white"
           },
           "yaxis": {
            "backgroundcolor": "#E5ECF6",
            "gridcolor": "white",
            "gridwidth": 2,
            "linecolor": "white",
            "showbackground": true,
            "ticks": "",
            "zerolinecolor": "white"
           },
           "zaxis": {
            "backgroundcolor": "#E5ECF6",
            "gridcolor": "white",
            "gridwidth": 2,
            "linecolor": "white",
            "showbackground": true,
            "ticks": "",
            "zerolinecolor": "white"
           }
          },
          "shapedefaults": {
           "line": {
            "color": "#2a3f5f"
           }
          },
          "ternary": {
           "aaxis": {
            "gridcolor": "white",
            "linecolor": "white",
            "ticks": ""
           },
           "baxis": {
            "gridcolor": "white",
            "linecolor": "white",
            "ticks": ""
           },
           "bgcolor": "#E5ECF6",
           "caxis": {
            "gridcolor": "white",
            "linecolor": "white",
            "ticks": ""
           }
          },
          "title": {
           "x": 0.05
          },
          "xaxis": {
           "automargin": true,
           "gridcolor": "white",
           "linecolor": "white",
           "ticks": "",
           "title": {
            "standoff": 15
           },
           "zerolinecolor": "white",
           "zerolinewidth": 2
          },
          "yaxis": {
           "automargin": true,
           "gridcolor": "white",
           "linecolor": "white",
           "ticks": "",
           "title": {
            "standoff": 15
           },
           "zerolinecolor": "white",
           "zerolinewidth": 2
          }
         }
        },
        "title": {
         "text": "Approximate Graph Representation of LA Metro Lines"
        },
        "width": 800
       }
      }
     },
     "metadata": {},
     "output_type": "display_data"
    }
   ],
   "source": [
    "#line map, stations not shown\n",
    "fig = px.line_mapbox(df, \n",
    "                        lat = \"latitude\",\n",
    "                        lon = \"longitude\",\n",
    "                        color = \"Line\",\n",
    "                        hover_name = \"Name\",\n",
    "                        #hover_data = \"Lines\",\n",
    "                        line_group='Line',\n",
    "                        zoom = 8.8,\n",
    "                        height = 600,\n",
    "                        width = 800,\n",
    "                        title = \"Approximate Graph Representation of LA Metro Lines\",\n",
    "                        mapbox_style = \"carto-positron\")\n",
    "\n",
    "fig.show()"
   ]
  },
  {
   "cell_type": "markdown",
   "metadata": {},
   "source": [
    "And here's one showing distance from/to the nearest station. Again, I haven't quite figured out how to construct the contours based on real world distance yet so that's a bit unfortunate for now, but it's a work in progress!"
   ]
  },
  {
   "cell_type": "code",
   "execution_count": 23,
   "metadata": {},
   "outputs": [
    {
     "data": {
      "application/vnd.plotly.v1+json": {
       "config": {
        "plotlyServerURL": "https://plot.ly"
       },
       "data": [
        {
         "coloraxis": "coloraxis",
         "hovertemplate": "<b>%{hovertext}</b><br><br>latitude=%{lat}<br>longitude=%{lon}<extra></extra>",
         "hovertext": [
          "Downtown Long Beach Station",
          "Pacific Ave Station",
          "Anaheim Street Station",
          "Pacific Coast Hwy Station",
          "Willow Street Station",
          "Wardlow Station",
          "Del Amo Station",
          "Artesia Station",
          "Compton Station",
          "Willowbrook - Rosa Parks Station",
          "103rd Street / Watts Towers  Station",
          "Firestone Station",
          "Florence Station",
          "Slauson Station",
          "Vernon Station",
          "Washington Station",
          "San Pedro Street Station",
          "Grand / LATTC Station",
          "Pico Station",
          "7th St / Metro Center Station",
          "LATTC / Ortho Institute Station",
          "Jefferson / USC Station",
          "Expo Park / USC Station",
          "Expo / Vermont Station",
          "Expo / Western Station",
          "Expo / Crenshaw Station",
          "Farmdale Station",
          "Expo / La Brea Station",
          "La Cienega / Jefferson Station",
          "Culver City Station",
          "1st Street Station",
          "5th Street Station",
          "North Hollywood Station",
          "Universal / Studio City Station",
          "Hollywood / Highland Station",
          "Hollywood / Vine Station",
          "Hollywood / Western Station",
          "Vermont / Sunset Station",
          "Vermont / Santa Monica Station",
          "Vermont / Beverly Station",
          "Wilshire / Vermont Station",
          "Westlake / MacArthur Park Station",
          "7th St / Metro Center Station",
          "Pershing Square Station",
          "Civic Center / Grand Park Station",
          "Union Station",
          "Wilshire / Normandie Station",
          "Wilshire / Western Station",
          "Redondo Beach Station",
          "Douglas Station",
          "El Segundo Station",
          "Mariposa Station",
          "Aviation / LAX Station",
          "Hawthorne / Lennox Station",
          "Crenshaw Station",
          "Vermont / Athens Station",
          "Harbor Freeway Station",
          "Avalon Station",
          "Willowbrook - Rosa Parks Station",
          "Long Beach Blvd Station",
          "Lakewood Blvd Station",
          "Norwalk Station",
          "Atlantic Station",
          "East LA Civic Center Station",
          "Maravilla Station",
          "Indiana Station",
          "Soto Station",
          "Mariachi Plaza / Boyle Heights Station",
          "Pico / Aliso Station",
          "Little Tokyo / Arts District Station",
          "Union Station",
          "Chinatown Station",
          "Lincoln Heights / Cypress Park Station",
          "Heritage Square / Arroyo Station",
          "Southwest Museum Station",
          "Highland Park Station",
          "South Pasadena Station",
          "Fillmore Station",
          "Del Mar Station",
          "Memorial Park Station",
          "Lake Station",
          "Allen Station",
          "Sierra Madre Villa Station",
          "Palms Station",
          "Westwood / Rancho Park Station",
          "Expo / Sepulveda Station",
          "Expo / Bundy Station",
          "26th St / Bergamot Station",
          "17th St / SMC Station",
          "Downtown Santa Monica Station",
          "Arcadia Station",
          "Monrovia Station",
          "Duarte / City of Hope Station",
          "Irwindale Station",
          "Azusa Downtown Station",
          "APU / Citrus College Station",
          "Warner Center Metro Station",
          "Canoga Metro Station East-West",
          "De Soto Metro Station",
          "Pierce College Metro Station",
          "Tampa Metro Station",
          "Reseda Metro Station",
          "Balboa Metro Station",
          "Woodley Metro Station",
          "Sepulveda Metro Station",
          "Van Nuys Metro Station",
          "Woodman Metro Station",
          "Valley College Metro Station",
          "North Hollywood Metro Station",
          "Laurel Canyon Metro Station",
          "Canoga Metro Station North-South",
          "Sherman Way Metro Station",
          "Roscoe Metro Station South Bound",
          "Roscoe Metro Station North Bound",
          "Nordhoff Metro Station South Bound",
          "Nordhoff Metro Station North Bound",
          "Chatsworth Metro Station",
          "Expo/Crenshaw Station",
          "Martin Luther King Jr Station",
          "Leimert Park Station",
          "Hyde Park Station",
          "Fairview Heights Station",
          "Downtown Inglewood Station",
          "Westchester/Veterans Station",
          "LAX/Metro Transit Center Station",
          "Aviation/Century Station",
          "Aviation/LAX Station",
          "Grand Av Arts/Bunker Hill",
          "Historic Broadway",
          "Little Tokyo/Arts District"
         ],
         "lat": [
          33.76807583,
          33.77226283,
          33.78183483,
          33.78909483,
          33.80708383,
          33.81986983,
          33.84822684,
          33.87608684,
          33.89749484,
          33.92805284,
          33.94222484,
          33.95961585,
          33.97374485,
          33.98876485,
          34.00292485,
          34.01965485,
          34.02681185,
          34.03315985,
          34.04073985,
          34.04861486,
          34.02911685,
          34.02212785,
          34.01823185,
          34.01824985,
          34.01833585,
          34.02253085,
          34.02398585,
          34.02480785,
          34.02635985,
          34.02790085,
          33.76874483,
          33.77360283,
          34.16850886,
          34.14000686,
          34.10155186,
          34.10163486,
          34.10174186,
          34.09771286,
          34.08991486,
          34.07653086,
          34.06270585,
          34.05637286,
          34.04863885,
          34.04932086,
          34.05490486,
          34.05620186,
          34.06175785,
          34.06169385,
          33.89464483,
          33.90530383,
          33.91606783,
          33.92320483,
          33.92962583,
          33.93341284,
          33.92520584,
          33.92868784,
          33.92871884,
          33.92746984,
          33.92826284,
          33.92488484,
          33.91307485,
          33.91403785,
          34.03340286,
          34.03336886,
          34.03332386,
          34.03430486,
          34.04375186,
          34.04721986,
          34.04763886,
          34.05010486,
          34.05606586,
          34.06386586,
          34.08095386,
          34.08723186,
          34.09824786,
          34.11118387,
          34.11519087,
          34.13352587,
          34.14191487,
          34.14836087,
          34.15181087,
          34.15242187,
          34.14775688,
          34.02932784,
          34.03682084,
          34.03541284,
          34.03170984,
          34.02799984,
          34.02315984,
          34.01401484,
          34.14286488,
          34.13315988,
          34.13252288,
          34.12905288,
          34.13586788,
          34.13681889,
          34.18154485,
          34.19056485,
          34.18871485,
          34.18696485,
          34.18105485,
          34.18045485,
          34.18600486,
          34.18631486,
          34.18085486,
          34.18046486,
          34.17899486,
          34.17176486,
          34.16881486,
          34.16856486,
          34.19136029,
          34.20050779,
          34.21937541,
          34.22047153,
          34.23498563,
          34.23592131,
          34.2521972,
          34.02245314,
          34.01016656,
          34.00458152,
          33.98828975,
          33.97528429,
          33.96729917,
          33.96202081,
          33.94962547,
          33.94567805,
          33.92963484,
          34.05475059,
          34.05203893,
          34.04884218
         ],
         "lon": [
          -118.19293316,
          -118.19371216,
          -118.18939616,
          -118.18939416,
          -118.18984616,
          -118.19610216,
          -118.21102917,
          -118.22251517,
          -118.22426117,
          -118.23756718,
          -118.24317118,
          -118.24321718,
          -118.24328318,
          -118.24341018,
          -118.24331518,
          -118.24309618,
          -118.25551719,
          -118.26934519,
          -118.26613019,
          -118.25883419,
          -118.27361519,
          -118.27813019,
          -118.28574619,
          -118.29155219,
          -118.3089222,
          -118.3350902,
          -118.3461072,
          -118.3551712,
          -118.37213221,
          -118.38899821,
          -118.18937416,
          -118.18942416,
          -118.37682022,
          -118.36271121,
          -118.33856121,
          -118.3251922,
          -118.3081292,
          -118.2917682,
          -118.2917422,
          -118.2916982,
          -118.2900942,
          -118.27489119,
          -118.25869419,
          -118.25127119,
          -118.24606919,
          -118.23426119,
          -118.3014702,
          -118.3087682,
          -118.3692082,
          -118.3831252,
          -118.3865512,
          -118.3875842,
          -118.3771462,
          -118.3516142,
          -118.32656219,
          -118.29174518,
          -118.28111218,
          -118.26522918,
          -118.23806418,
          -118.20995717,
          -118.14061216,
          -118.10472915,
          -118.15448117,
          -118.16121817,
          -118.16815217,
          -118.19219418,
          -118.21007318,
          -118.21966018,
          -118.22595218,
          -118.23791319,
          -118.23477119,
          -118.23585219,
          -118.22044119,
          -118.21322519,
          -118.20672419,
          -118.19261818,
          -118.15789818,
          -118.14813818,
          -118.14822618,
          -118.14752418,
          -118.13140218,
          -118.11436017,
          -118.08122417,
          -118.40426721,
          -118.42458822,
          -118.43424622,
          -118.45290822,
          -118.46913222,
          -118.48038422,
          -118.49139623,
          -118.02921116,
          -118.00348515,
          -117.96769215,
          -117.93251814,
          -117.90664314,
          -117.89164813,
          -118.60141226,
          -118.59689226,
          -118.58870226,
          -118.57056225,
          -118.55309225,
          -118.53650225,
          -118.50058224,
          -118.48415224,
          -118.46876224,
          -118.44815223,
          -118.42971223,
          -118.42209223,
          -118.37753222,
          -118.39705222,
          -118.59644547,
          -118.59714864,
          -118.59704848,
          -118.59703276,
          -118.59719309,
          -118.59719274,
          -118.59937972,
          -118.33509015,
          -118.33534702,
          -118.33266463,
          -118.33083568,
          -118.33603018,
          -118.35139274,
          -118.37445529,
          -118.37866297,
          -118.37870267,
          -118.37727079,
          -118.2512082,
          -118.24616642,
          -118.23878694
         ],
         "name": "",
         "opacity": 0.3,
         "radius": 15,
         "subplot": "mapbox",
         "type": "densitymapbox"
        }
       ],
       "layout": {
        "coloraxis": {
         "colorscale": [
          [
           0,
           "#0d0887"
          ],
          [
           0.1111111111111111,
           "#46039f"
          ],
          [
           0.2222222222222222,
           "#7201a8"
          ],
          [
           0.3333333333333333,
           "#9c179e"
          ],
          [
           0.4444444444444444,
           "#bd3786"
          ],
          [
           0.5555555555555556,
           "#d8576b"
          ],
          [
           0.6666666666666666,
           "#ed7953"
          ],
          [
           0.7777777777777778,
           "#fb9f3a"
          ],
          [
           0.8888888888888888,
           "#fdca26"
          ],
          [
           1,
           "#f0f921"
          ]
         ]
        },
        "height": 600,
        "legend": {
         "tracegroupgap": 0
        },
        "mapbox": {
         "center": {
          "lat": 34.039516001615375,
          "lon": -118.30114729792308
         },
         "domain": {
          "x": [
           0,
           1
          ],
          "y": [
           0,
           1
          ]
         },
         "style": "carto-positron",
         "zoom": 8.8
        },
        "template": {
         "data": {
          "bar": [
           {
            "error_x": {
             "color": "#2a3f5f"
            },
            "error_y": {
             "color": "#2a3f5f"
            },
            "marker": {
             "line": {
              "color": "#E5ECF6",
              "width": 0.5
             },
             "pattern": {
              "fillmode": "overlay",
              "size": 10,
              "solidity": 0.2
             }
            },
            "type": "bar"
           }
          ],
          "barpolar": [
           {
            "marker": {
             "line": {
              "color": "#E5ECF6",
              "width": 0.5
             },
             "pattern": {
              "fillmode": "overlay",
              "size": 10,
              "solidity": 0.2
             }
            },
            "type": "barpolar"
           }
          ],
          "carpet": [
           {
            "aaxis": {
             "endlinecolor": "#2a3f5f",
             "gridcolor": "white",
             "linecolor": "white",
             "minorgridcolor": "white",
             "startlinecolor": "#2a3f5f"
            },
            "baxis": {
             "endlinecolor": "#2a3f5f",
             "gridcolor": "white",
             "linecolor": "white",
             "minorgridcolor": "white",
             "startlinecolor": "#2a3f5f"
            },
            "type": "carpet"
           }
          ],
          "choropleth": [
           {
            "colorbar": {
             "outlinewidth": 0,
             "ticks": ""
            },
            "type": "choropleth"
           }
          ],
          "contour": [
           {
            "colorbar": {
             "outlinewidth": 0,
             "ticks": ""
            },
            "colorscale": [
             [
              0,
              "#0d0887"
             ],
             [
              0.1111111111111111,
              "#46039f"
             ],
             [
              0.2222222222222222,
              "#7201a8"
             ],
             [
              0.3333333333333333,
              "#9c179e"
             ],
             [
              0.4444444444444444,
              "#bd3786"
             ],
             [
              0.5555555555555556,
              "#d8576b"
             ],
             [
              0.6666666666666666,
              "#ed7953"
             ],
             [
              0.7777777777777778,
              "#fb9f3a"
             ],
             [
              0.8888888888888888,
              "#fdca26"
             ],
             [
              1,
              "#f0f921"
             ]
            ],
            "type": "contour"
           }
          ],
          "contourcarpet": [
           {
            "colorbar": {
             "outlinewidth": 0,
             "ticks": ""
            },
            "type": "contourcarpet"
           }
          ],
          "heatmap": [
           {
            "colorbar": {
             "outlinewidth": 0,
             "ticks": ""
            },
            "colorscale": [
             [
              0,
              "#0d0887"
             ],
             [
              0.1111111111111111,
              "#46039f"
             ],
             [
              0.2222222222222222,
              "#7201a8"
             ],
             [
              0.3333333333333333,
              "#9c179e"
             ],
             [
              0.4444444444444444,
              "#bd3786"
             ],
             [
              0.5555555555555556,
              "#d8576b"
             ],
             [
              0.6666666666666666,
              "#ed7953"
             ],
             [
              0.7777777777777778,
              "#fb9f3a"
             ],
             [
              0.8888888888888888,
              "#fdca26"
             ],
             [
              1,
              "#f0f921"
             ]
            ],
            "type": "heatmap"
           }
          ],
          "heatmapgl": [
           {
            "colorbar": {
             "outlinewidth": 0,
             "ticks": ""
            },
            "colorscale": [
             [
              0,
              "#0d0887"
             ],
             [
              0.1111111111111111,
              "#46039f"
             ],
             [
              0.2222222222222222,
              "#7201a8"
             ],
             [
              0.3333333333333333,
              "#9c179e"
             ],
             [
              0.4444444444444444,
              "#bd3786"
             ],
             [
              0.5555555555555556,
              "#d8576b"
             ],
             [
              0.6666666666666666,
              "#ed7953"
             ],
             [
              0.7777777777777778,
              "#fb9f3a"
             ],
             [
              0.8888888888888888,
              "#fdca26"
             ],
             [
              1,
              "#f0f921"
             ]
            ],
            "type": "heatmapgl"
           }
          ],
          "histogram": [
           {
            "marker": {
             "pattern": {
              "fillmode": "overlay",
              "size": 10,
              "solidity": 0.2
             }
            },
            "type": "histogram"
           }
          ],
          "histogram2d": [
           {
            "colorbar": {
             "outlinewidth": 0,
             "ticks": ""
            },
            "colorscale": [
             [
              0,
              "#0d0887"
             ],
             [
              0.1111111111111111,
              "#46039f"
             ],
             [
              0.2222222222222222,
              "#7201a8"
             ],
             [
              0.3333333333333333,
              "#9c179e"
             ],
             [
              0.4444444444444444,
              "#bd3786"
             ],
             [
              0.5555555555555556,
              "#d8576b"
             ],
             [
              0.6666666666666666,
              "#ed7953"
             ],
             [
              0.7777777777777778,
              "#fb9f3a"
             ],
             [
              0.8888888888888888,
              "#fdca26"
             ],
             [
              1,
              "#f0f921"
             ]
            ],
            "type": "histogram2d"
           }
          ],
          "histogram2dcontour": [
           {
            "colorbar": {
             "outlinewidth": 0,
             "ticks": ""
            },
            "colorscale": [
             [
              0,
              "#0d0887"
             ],
             [
              0.1111111111111111,
              "#46039f"
             ],
             [
              0.2222222222222222,
              "#7201a8"
             ],
             [
              0.3333333333333333,
              "#9c179e"
             ],
             [
              0.4444444444444444,
              "#bd3786"
             ],
             [
              0.5555555555555556,
              "#d8576b"
             ],
             [
              0.6666666666666666,
              "#ed7953"
             ],
             [
              0.7777777777777778,
              "#fb9f3a"
             ],
             [
              0.8888888888888888,
              "#fdca26"
             ],
             [
              1,
              "#f0f921"
             ]
            ],
            "type": "histogram2dcontour"
           }
          ],
          "mesh3d": [
           {
            "colorbar": {
             "outlinewidth": 0,
             "ticks": ""
            },
            "type": "mesh3d"
           }
          ],
          "parcoords": [
           {
            "line": {
             "colorbar": {
              "outlinewidth": 0,
              "ticks": ""
             }
            },
            "type": "parcoords"
           }
          ],
          "pie": [
           {
            "automargin": true,
            "type": "pie"
           }
          ],
          "scatter": [
           {
            "fillpattern": {
             "fillmode": "overlay",
             "size": 10,
             "solidity": 0.2
            },
            "type": "scatter"
           }
          ],
          "scatter3d": [
           {
            "line": {
             "colorbar": {
              "outlinewidth": 0,
              "ticks": ""
             }
            },
            "marker": {
             "colorbar": {
              "outlinewidth": 0,
              "ticks": ""
             }
            },
            "type": "scatter3d"
           }
          ],
          "scattercarpet": [
           {
            "marker": {
             "colorbar": {
              "outlinewidth": 0,
              "ticks": ""
             }
            },
            "type": "scattercarpet"
           }
          ],
          "scattergeo": [
           {
            "marker": {
             "colorbar": {
              "outlinewidth": 0,
              "ticks": ""
             }
            },
            "type": "scattergeo"
           }
          ],
          "scattergl": [
           {
            "marker": {
             "colorbar": {
              "outlinewidth": 0,
              "ticks": ""
             }
            },
            "type": "scattergl"
           }
          ],
          "scattermapbox": [
           {
            "marker": {
             "colorbar": {
              "outlinewidth": 0,
              "ticks": ""
             }
            },
            "type": "scattermapbox"
           }
          ],
          "scatterpolar": [
           {
            "marker": {
             "colorbar": {
              "outlinewidth": 0,
              "ticks": ""
             }
            },
            "type": "scatterpolar"
           }
          ],
          "scatterpolargl": [
           {
            "marker": {
             "colorbar": {
              "outlinewidth": 0,
              "ticks": ""
             }
            },
            "type": "scatterpolargl"
           }
          ],
          "scatterternary": [
           {
            "marker": {
             "colorbar": {
              "outlinewidth": 0,
              "ticks": ""
             }
            },
            "type": "scatterternary"
           }
          ],
          "surface": [
           {
            "colorbar": {
             "outlinewidth": 0,
             "ticks": ""
            },
            "colorscale": [
             [
              0,
              "#0d0887"
             ],
             [
              0.1111111111111111,
              "#46039f"
             ],
             [
              0.2222222222222222,
              "#7201a8"
             ],
             [
              0.3333333333333333,
              "#9c179e"
             ],
             [
              0.4444444444444444,
              "#bd3786"
             ],
             [
              0.5555555555555556,
              "#d8576b"
             ],
             [
              0.6666666666666666,
              "#ed7953"
             ],
             [
              0.7777777777777778,
              "#fb9f3a"
             ],
             [
              0.8888888888888888,
              "#fdca26"
             ],
             [
              1,
              "#f0f921"
             ]
            ],
            "type": "surface"
           }
          ],
          "table": [
           {
            "cells": {
             "fill": {
              "color": "#EBF0F8"
             },
             "line": {
              "color": "white"
             }
            },
            "header": {
             "fill": {
              "color": "#C8D4E3"
             },
             "line": {
              "color": "white"
             }
            },
            "type": "table"
           }
          ]
         },
         "layout": {
          "annotationdefaults": {
           "arrowcolor": "#2a3f5f",
           "arrowhead": 0,
           "arrowwidth": 1
          },
          "autotypenumbers": "strict",
          "coloraxis": {
           "colorbar": {
            "outlinewidth": 0,
            "ticks": ""
           }
          },
          "colorscale": {
           "diverging": [
            [
             0,
             "#8e0152"
            ],
            [
             0.1,
             "#c51b7d"
            ],
            [
             0.2,
             "#de77ae"
            ],
            [
             0.3,
             "#f1b6da"
            ],
            [
             0.4,
             "#fde0ef"
            ],
            [
             0.5,
             "#f7f7f7"
            ],
            [
             0.6,
             "#e6f5d0"
            ],
            [
             0.7,
             "#b8e186"
            ],
            [
             0.8,
             "#7fbc41"
            ],
            [
             0.9,
             "#4d9221"
            ],
            [
             1,
             "#276419"
            ]
           ],
           "sequential": [
            [
             0,
             "#0d0887"
            ],
            [
             0.1111111111111111,
             "#46039f"
            ],
            [
             0.2222222222222222,
             "#7201a8"
            ],
            [
             0.3333333333333333,
             "#9c179e"
            ],
            [
             0.4444444444444444,
             "#bd3786"
            ],
            [
             0.5555555555555556,
             "#d8576b"
            ],
            [
             0.6666666666666666,
             "#ed7953"
            ],
            [
             0.7777777777777778,
             "#fb9f3a"
            ],
            [
             0.8888888888888888,
             "#fdca26"
            ],
            [
             1,
             "#f0f921"
            ]
           ],
           "sequentialminus": [
            [
             0,
             "#0d0887"
            ],
            [
             0.1111111111111111,
             "#46039f"
            ],
            [
             0.2222222222222222,
             "#7201a8"
            ],
            [
             0.3333333333333333,
             "#9c179e"
            ],
            [
             0.4444444444444444,
             "#bd3786"
            ],
            [
             0.5555555555555556,
             "#d8576b"
            ],
            [
             0.6666666666666666,
             "#ed7953"
            ],
            [
             0.7777777777777778,
             "#fb9f3a"
            ],
            [
             0.8888888888888888,
             "#fdca26"
            ],
            [
             1,
             "#f0f921"
            ]
           ]
          },
          "colorway": [
           "#636efa",
           "#EF553B",
           "#00cc96",
           "#ab63fa",
           "#FFA15A",
           "#19d3f3",
           "#FF6692",
           "#B6E880",
           "#FF97FF",
           "#FECB52"
          ],
          "font": {
           "color": "#2a3f5f"
          },
          "geo": {
           "bgcolor": "white",
           "lakecolor": "white",
           "landcolor": "#E5ECF6",
           "showlakes": true,
           "showland": true,
           "subunitcolor": "white"
          },
          "hoverlabel": {
           "align": "left"
          },
          "hovermode": "closest",
          "mapbox": {
           "style": "light"
          },
          "paper_bgcolor": "white",
          "plot_bgcolor": "#E5ECF6",
          "polar": {
           "angularaxis": {
            "gridcolor": "white",
            "linecolor": "white",
            "ticks": ""
           },
           "bgcolor": "#E5ECF6",
           "radialaxis": {
            "gridcolor": "white",
            "linecolor": "white",
            "ticks": ""
           }
          },
          "scene": {
           "xaxis": {
            "backgroundcolor": "#E5ECF6",
            "gridcolor": "white",
            "gridwidth": 2,
            "linecolor": "white",
            "showbackground": true,
            "ticks": "",
            "zerolinecolor": "white"
           },
           "yaxis": {
            "backgroundcolor": "#E5ECF6",
            "gridcolor": "white",
            "gridwidth": 2,
            "linecolor": "white",
            "showbackground": true,
            "ticks": "",
            "zerolinecolor": "white"
           },
           "zaxis": {
            "backgroundcolor": "#E5ECF6",
            "gridcolor": "white",
            "gridwidth": 2,
            "linecolor": "white",
            "showbackground": true,
            "ticks": "",
            "zerolinecolor": "white"
           }
          },
          "shapedefaults": {
           "line": {
            "color": "#2a3f5f"
           }
          },
          "ternary": {
           "aaxis": {
            "gridcolor": "white",
            "linecolor": "white",
            "ticks": ""
           },
           "baxis": {
            "gridcolor": "white",
            "linecolor": "white",
            "ticks": ""
           },
           "bgcolor": "#E5ECF6",
           "caxis": {
            "gridcolor": "white",
            "linecolor": "white",
            "ticks": ""
           }
          },
          "title": {
           "x": 0.05
          },
          "xaxis": {
           "automargin": true,
           "gridcolor": "white",
           "linecolor": "white",
           "ticks": "",
           "title": {
            "standoff": 15
           },
           "zerolinecolor": "white",
           "zerolinewidth": 2
          },
          "yaxis": {
           "automargin": true,
           "gridcolor": "white",
           "linecolor": "white",
           "ticks": "",
           "title": {
            "standoff": 15
           },
           "zerolinecolor": "white",
           "zerolinewidth": 2
          }
         }
        },
        "title": {
         "text": "Areas Within Approximately 1 Mile of a LA Metro Station"
        },
        "width": 800
       }
      }
     },
     "metadata": {},
     "output_type": "display_data"
    }
   ],
   "source": [
    "#density mapbox, shows areas within a certain radius to a station. The higher the number the closer the straight line distance to a metro station\n",
    "fig = px.density_mapbox(df,\n",
    "                        lat='latitude',\n",
    "                        lon='longitude',\n",
    "                        radius=15,\n",
    "                        opacity=0.3,\n",
    "                        hover_name = \"Name\",\n",
    "                        zoom = 8.8,\n",
    "                        height = 600,\n",
    "                        width = 800,\n",
    "                        title = \"Areas Within Approximately 1 Mile of a LA Metro Station\",\n",
    "                        mapbox_style = \"carto-positron\")\n",
    "fig.show()"
   ]
  }
 ],
 "metadata": {
  "kernelspec": {
   "display_name": "PIC16B-2",
   "language": "python",
   "name": "python3"
  },
  "language_info": {
   "codemirror_mode": {
    "name": "ipython",
    "version": 3
   },
   "file_extension": ".py",
   "mimetype": "text/x-python",
   "name": "python",
   "nbconvert_exporter": "python",
   "pygments_lexer": "ipython3",
   "version": "3.11.6"
  }
 },
 "nbformat": 4,
 "nbformat_minor": 2
}
