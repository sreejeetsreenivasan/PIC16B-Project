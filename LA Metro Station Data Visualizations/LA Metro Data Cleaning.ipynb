{
 "cells": [
  {
   "cell_type": "markdown",
   "metadata": {},
   "source": [
    "Data below from here: https://geohub.lacity.org/datasets/9b1bc4861f1e4277b6bd6e51f48e0f4d/explore"
   ]
  },
  {
   "cell_type": "code",
   "execution_count": 135,
   "metadata": {},
   "outputs": [],
   "source": [
    "import pandas as pd\n",
    "from plotly import express as px\n",
    "df = pd.read_csv(\"Metro_Stations.csv\")\n",
    "#The data is from the link above."
   ]
  },
  {
   "cell_type": "markdown",
   "metadata": {},
   "source": [
    "This data was much nicer and smaller than the New York Subway's hourly ridership data, but this data is also considerably less informative. We were unable to find ridership data by station, only by line, which made creating nice graphics and visualizations much more difficult. (Why LA Metro why???)"
   ]
  },
  {
   "cell_type": "code",
   "execution_count": 136,
   "metadata": {},
   "outputs": [
    {
     "data": {
      "text/html": [
       "<div>\n",
       "<style scoped>\n",
       "    .dataframe tbody tr th:only-of-type {\n",
       "        vertical-align: middle;\n",
       "    }\n",
       "\n",
       "    .dataframe tbody tr th {\n",
       "        vertical-align: top;\n",
       "    }\n",
       "\n",
       "    .dataframe thead th {\n",
       "        text-align: right;\n",
       "    }\n",
       "</style>\n",
       "<table border=\"1\" class=\"dataframe\">\n",
       "  <thead>\n",
       "    <tr style=\"text-align: right;\">\n",
       "      <th></th>\n",
       "      <th>X</th>\n",
       "      <th>Y</th>\n",
       "      <th>OBJECTID</th>\n",
       "      <th>source</th>\n",
       "      <th>ext_id</th>\n",
       "      <th>cat1</th>\n",
       "      <th>cat2</th>\n",
       "      <th>cat3</th>\n",
       "      <th>org_name</th>\n",
       "      <th>Name</th>\n",
       "      <th>...</th>\n",
       "      <th>description</th>\n",
       "      <th>zip</th>\n",
       "      <th>link</th>\n",
       "      <th>use_type</th>\n",
       "      <th>latitude</th>\n",
       "      <th>longitude</th>\n",
       "      <th>date_updated</th>\n",
       "      <th>dis_status</th>\n",
       "      <th>POINT_X</th>\n",
       "      <th>POINT_Y</th>\n",
       "    </tr>\n",
       "  </thead>\n",
       "  <tbody>\n",
       "    <tr>\n",
       "      <th>0</th>\n",
       "      <td>-118.192933</td>\n",
       "      <td>33.768076</td>\n",
       "      <td>72713</td>\n",
       "      <td>Metropolitan Transportation Authority (MTA)</td>\n",
       "      <td>NaN</td>\n",
       "      <td>Transportation</td>\n",
       "      <td>Metro Stations</td>\n",
       "      <td>NaN</td>\n",
       "      <td>NaN</td>\n",
       "      <td>Downtown Long Beach Station</td>\n",
       "      <td>...</td>\n",
       "      <td>Blue Line</td>\n",
       "      <td>NaN</td>\n",
       "      <td>NaN</td>\n",
       "      <td>publish</td>\n",
       "      <td>33.768076</td>\n",
       "      <td>-118.192933</td>\n",
       "      <td>2023/04/04 16:19:54+00</td>\n",
       "      <td>NaN</td>\n",
       "      <td>33.768076</td>\n",
       "      <td>-118.192933</td>\n",
       "    </tr>\n",
       "    <tr>\n",
       "      <th>1</th>\n",
       "      <td>-118.193712</td>\n",
       "      <td>33.772263</td>\n",
       "      <td>72714</td>\n",
       "      <td>Metropolitan Transportation Authority (MTA)</td>\n",
       "      <td>NaN</td>\n",
       "      <td>Transportation</td>\n",
       "      <td>Metro Stations</td>\n",
       "      <td>NaN</td>\n",
       "      <td>NaN</td>\n",
       "      <td>Pacific Ave Station</td>\n",
       "      <td>...</td>\n",
       "      <td>Blue Line</td>\n",
       "      <td>NaN</td>\n",
       "      <td>NaN</td>\n",
       "      <td>publish</td>\n",
       "      <td>33.772263</td>\n",
       "      <td>-118.193712</td>\n",
       "      <td>2023/04/04 16:19:54+00</td>\n",
       "      <td>NaN</td>\n",
       "      <td>33.772263</td>\n",
       "      <td>-118.193712</td>\n",
       "    </tr>\n",
       "    <tr>\n",
       "      <th>2</th>\n",
       "      <td>-118.189396</td>\n",
       "      <td>33.781835</td>\n",
       "      <td>72715</td>\n",
       "      <td>Metropolitan Transportation Authority (MTA)</td>\n",
       "      <td>NaN</td>\n",
       "      <td>Transportation</td>\n",
       "      <td>Metro Stations</td>\n",
       "      <td>NaN</td>\n",
       "      <td>NaN</td>\n",
       "      <td>Anaheim Street Station</td>\n",
       "      <td>...</td>\n",
       "      <td>Blue Line</td>\n",
       "      <td>NaN</td>\n",
       "      <td>NaN</td>\n",
       "      <td>publish</td>\n",
       "      <td>33.781835</td>\n",
       "      <td>-118.189396</td>\n",
       "      <td>2023/04/04 16:19:54+00</td>\n",
       "      <td>NaN</td>\n",
       "      <td>33.781835</td>\n",
       "      <td>-118.189396</td>\n",
       "    </tr>\n",
       "    <tr>\n",
       "      <th>3</th>\n",
       "      <td>-118.189394</td>\n",
       "      <td>33.789095</td>\n",
       "      <td>72716</td>\n",
       "      <td>Metropolitan Transportation Authority (MTA)</td>\n",
       "      <td>NaN</td>\n",
       "      <td>Transportation</td>\n",
       "      <td>Metro Stations</td>\n",
       "      <td>NaN</td>\n",
       "      <td>NaN</td>\n",
       "      <td>Pacific Coast Hwy Station</td>\n",
       "      <td>...</td>\n",
       "      <td>Blue Line</td>\n",
       "      <td>NaN</td>\n",
       "      <td>NaN</td>\n",
       "      <td>publish</td>\n",
       "      <td>33.789095</td>\n",
       "      <td>-118.189394</td>\n",
       "      <td>2023/04/04 16:19:54+00</td>\n",
       "      <td>NaN</td>\n",
       "      <td>33.789095</td>\n",
       "      <td>-118.189394</td>\n",
       "    </tr>\n",
       "    <tr>\n",
       "      <th>4</th>\n",
       "      <td>-118.189846</td>\n",
       "      <td>33.807084</td>\n",
       "      <td>72717</td>\n",
       "      <td>Metropolitan Transportation Authority (MTA)</td>\n",
       "      <td>NaN</td>\n",
       "      <td>Transportation</td>\n",
       "      <td>Metro Stations</td>\n",
       "      <td>NaN</td>\n",
       "      <td>NaN</td>\n",
       "      <td>Willow Street Station</td>\n",
       "      <td>...</td>\n",
       "      <td>Blue Line</td>\n",
       "      <td>NaN</td>\n",
       "      <td>NaN</td>\n",
       "      <td>publish</td>\n",
       "      <td>33.807084</td>\n",
       "      <td>-118.189846</td>\n",
       "      <td>2023/04/04 16:19:54+00</td>\n",
       "      <td>NaN</td>\n",
       "      <td>33.807084</td>\n",
       "      <td>-118.189846</td>\n",
       "    </tr>\n",
       "    <tr>\n",
       "      <th>...</th>\n",
       "      <td>...</td>\n",
       "      <td>...</td>\n",
       "      <td>...</td>\n",
       "      <td>...</td>\n",
       "      <td>...</td>\n",
       "      <td>...</td>\n",
       "      <td>...</td>\n",
       "      <td>...</td>\n",
       "      <td>...</td>\n",
       "      <td>...</td>\n",
       "      <td>...</td>\n",
       "      <td>...</td>\n",
       "      <td>...</td>\n",
       "      <td>...</td>\n",
       "      <td>...</td>\n",
       "      <td>...</td>\n",
       "      <td>...</td>\n",
       "      <td>...</td>\n",
       "      <td>...</td>\n",
       "      <td>...</td>\n",
       "      <td>...</td>\n",
       "    </tr>\n",
       "    <tr>\n",
       "      <th>125</th>\n",
       "      <td>-118.378703</td>\n",
       "      <td>33.945678</td>\n",
       "      <td>72838</td>\n",
       "      <td>Metropolitan Transportation Authority (MTA)</td>\n",
       "      <td>NaN</td>\n",
       "      <td>Transportation</td>\n",
       "      <td>Metro Stations</td>\n",
       "      <td>NaN</td>\n",
       "      <td>NaN</td>\n",
       "      <td>Aviation/Century Station</td>\n",
       "      <td>...</td>\n",
       "      <td>K Line</td>\n",
       "      <td>NaN</td>\n",
       "      <td>NaN</td>\n",
       "      <td>publish</td>\n",
       "      <td>33.945678</td>\n",
       "      <td>-118.378703</td>\n",
       "      <td>2023/04/04 16:19:54+00</td>\n",
       "      <td>NaN</td>\n",
       "      <td>33.945678</td>\n",
       "      <td>-118.378703</td>\n",
       "    </tr>\n",
       "    <tr>\n",
       "      <th>126</th>\n",
       "      <td>-118.377271</td>\n",
       "      <td>33.929635</td>\n",
       "      <td>72839</td>\n",
       "      <td>Metropolitan Transportation Authority (MTA)</td>\n",
       "      <td>NaN</td>\n",
       "      <td>Transportation</td>\n",
       "      <td>Metro Stations</td>\n",
       "      <td>NaN</td>\n",
       "      <td>NaN</td>\n",
       "      <td>Aviation/LAX Station</td>\n",
       "      <td>...</td>\n",
       "      <td>K Line</td>\n",
       "      <td>NaN</td>\n",
       "      <td>NaN</td>\n",
       "      <td>publish</td>\n",
       "      <td>33.929635</td>\n",
       "      <td>-118.377271</td>\n",
       "      <td>2023/04/04 16:19:54+00</td>\n",
       "      <td>NaN</td>\n",
       "      <td>33.929635</td>\n",
       "      <td>-118.377271</td>\n",
       "    </tr>\n",
       "    <tr>\n",
       "      <th>127</th>\n",
       "      <td>-118.251208</td>\n",
       "      <td>34.054751</td>\n",
       "      <td>72840</td>\n",
       "      <td>Metropolitan Transportation Authority (MTA)</td>\n",
       "      <td>NaN</td>\n",
       "      <td>Transportation</td>\n",
       "      <td>Metro Stations</td>\n",
       "      <td>NaN</td>\n",
       "      <td>NaN</td>\n",
       "      <td>Grand Av Arts/Bunker Hill</td>\n",
       "      <td>...</td>\n",
       "      <td>Regional Connector</td>\n",
       "      <td>NaN</td>\n",
       "      <td>NaN</td>\n",
       "      <td>publish</td>\n",
       "      <td>34.054751</td>\n",
       "      <td>-118.251208</td>\n",
       "      <td>2023/04/04 16:19:54+00</td>\n",
       "      <td>NaN</td>\n",
       "      <td>34.054751</td>\n",
       "      <td>-118.251208</td>\n",
       "    </tr>\n",
       "    <tr>\n",
       "      <th>128</th>\n",
       "      <td>-118.246166</td>\n",
       "      <td>34.052039</td>\n",
       "      <td>72841</td>\n",
       "      <td>Metropolitan Transportation Authority (MTA)</td>\n",
       "      <td>NaN</td>\n",
       "      <td>Transportation</td>\n",
       "      <td>Metro Stations</td>\n",
       "      <td>NaN</td>\n",
       "      <td>NaN</td>\n",
       "      <td>Historic Broadway</td>\n",
       "      <td>...</td>\n",
       "      <td>Regional Connector</td>\n",
       "      <td>NaN</td>\n",
       "      <td>NaN</td>\n",
       "      <td>publish</td>\n",
       "      <td>34.052039</td>\n",
       "      <td>-118.246166</td>\n",
       "      <td>2023/04/04 16:19:54+00</td>\n",
       "      <td>NaN</td>\n",
       "      <td>34.052039</td>\n",
       "      <td>-118.246166</td>\n",
       "    </tr>\n",
       "    <tr>\n",
       "      <th>129</th>\n",
       "      <td>-118.238787</td>\n",
       "      <td>34.048842</td>\n",
       "      <td>72842</td>\n",
       "      <td>Metropolitan Transportation Authority (MTA)</td>\n",
       "      <td>NaN</td>\n",
       "      <td>Transportation</td>\n",
       "      <td>Metro Stations</td>\n",
       "      <td>NaN</td>\n",
       "      <td>NaN</td>\n",
       "      <td>Little Tokyo/Arts District</td>\n",
       "      <td>...</td>\n",
       "      <td>Regional Connector</td>\n",
       "      <td>NaN</td>\n",
       "      <td>NaN</td>\n",
       "      <td>publish</td>\n",
       "      <td>34.048842</td>\n",
       "      <td>-118.238787</td>\n",
       "      <td>2023/04/04 16:19:54+00</td>\n",
       "      <td>NaN</td>\n",
       "      <td>34.048842</td>\n",
       "      <td>-118.238787</td>\n",
       "    </tr>\n",
       "  </tbody>\n",
       "</table>\n",
       "<p>130 rows × 31 columns</p>\n",
       "</div>"
      ],
      "text/plain": [
       "              X          Y  OBJECTID  \\\n",
       "0   -118.192933  33.768076     72713   \n",
       "1   -118.193712  33.772263     72714   \n",
       "2   -118.189396  33.781835     72715   \n",
       "3   -118.189394  33.789095     72716   \n",
       "4   -118.189846  33.807084     72717   \n",
       "..          ...        ...       ...   \n",
       "125 -118.378703  33.945678     72838   \n",
       "126 -118.377271  33.929635     72839   \n",
       "127 -118.251208  34.054751     72840   \n",
       "128 -118.246166  34.052039     72841   \n",
       "129 -118.238787  34.048842     72842   \n",
       "\n",
       "                                          source  ext_id            cat1  \\\n",
       "0    Metropolitan Transportation Authority (MTA)     NaN  Transportation   \n",
       "1    Metropolitan Transportation Authority (MTA)     NaN  Transportation   \n",
       "2    Metropolitan Transportation Authority (MTA)     NaN  Transportation   \n",
       "3    Metropolitan Transportation Authority (MTA)     NaN  Transportation   \n",
       "4    Metropolitan Transportation Authority (MTA)     NaN  Transportation   \n",
       "..                                           ...     ...             ...   \n",
       "125  Metropolitan Transportation Authority (MTA)     NaN  Transportation   \n",
       "126  Metropolitan Transportation Authority (MTA)     NaN  Transportation   \n",
       "127  Metropolitan Transportation Authority (MTA)     NaN  Transportation   \n",
       "128  Metropolitan Transportation Authority (MTA)     NaN  Transportation   \n",
       "129  Metropolitan Transportation Authority (MTA)     NaN  Transportation   \n",
       "\n",
       "               cat2  cat3 org_name                         Name  ...  \\\n",
       "0    Metro Stations   NaN      NaN  Downtown Long Beach Station  ...   \n",
       "1    Metro Stations   NaN      NaN          Pacific Ave Station  ...   \n",
       "2    Metro Stations   NaN      NaN       Anaheim Street Station  ...   \n",
       "3    Metro Stations   NaN      NaN    Pacific Coast Hwy Station  ...   \n",
       "4    Metro Stations   NaN      NaN        Willow Street Station  ...   \n",
       "..              ...   ...      ...                          ...  ...   \n",
       "125  Metro Stations   NaN      NaN     Aviation/Century Station  ...   \n",
       "126  Metro Stations   NaN      NaN         Aviation/LAX Station  ...   \n",
       "127  Metro Stations   NaN      NaN    Grand Av Arts/Bunker Hill  ...   \n",
       "128  Metro Stations   NaN      NaN            Historic Broadway  ...   \n",
       "129  Metro Stations   NaN      NaN   Little Tokyo/Arts District  ...   \n",
       "\n",
       "            description  zip link use_type   latitude   longitude  \\\n",
       "0             Blue Line  NaN  NaN  publish  33.768076 -118.192933   \n",
       "1             Blue Line  NaN  NaN  publish  33.772263 -118.193712   \n",
       "2             Blue Line  NaN  NaN  publish  33.781835 -118.189396   \n",
       "3             Blue Line  NaN  NaN  publish  33.789095 -118.189394   \n",
       "4             Blue Line  NaN  NaN  publish  33.807084 -118.189846   \n",
       "..                  ...  ...  ...      ...        ...         ...   \n",
       "125              K Line  NaN  NaN  publish  33.945678 -118.378703   \n",
       "126              K Line  NaN  NaN  publish  33.929635 -118.377271   \n",
       "127  Regional Connector  NaN  NaN  publish  34.054751 -118.251208   \n",
       "128  Regional Connector  NaN  NaN  publish  34.052039 -118.246166   \n",
       "129  Regional Connector  NaN  NaN  publish  34.048842 -118.238787   \n",
       "\n",
       "               date_updated dis_status    POINT_X     POINT_Y  \n",
       "0    2023/04/04 16:19:54+00        NaN  33.768076 -118.192933  \n",
       "1    2023/04/04 16:19:54+00        NaN  33.772263 -118.193712  \n",
       "2    2023/04/04 16:19:54+00        NaN  33.781835 -118.189396  \n",
       "3    2023/04/04 16:19:54+00        NaN  33.789095 -118.189394  \n",
       "4    2023/04/04 16:19:54+00        NaN  33.807084 -118.189846  \n",
       "..                      ...        ...        ...         ...  \n",
       "125  2023/04/04 16:19:54+00        NaN  33.945678 -118.378703  \n",
       "126  2023/04/04 16:19:54+00        NaN  33.929635 -118.377271  \n",
       "127  2023/04/04 16:19:54+00        NaN  34.054751 -118.251208  \n",
       "128  2023/04/04 16:19:54+00        NaN  34.052039 -118.246166  \n",
       "129  2023/04/04 16:19:54+00        NaN  34.048842 -118.238787  \n",
       "\n",
       "[130 rows x 31 columns]"
      ]
     },
     "execution_count": 136,
     "metadata": {},
     "output_type": "execute_result"
    }
   ],
   "source": [
    "df"
   ]
  },
  {
   "cell_type": "markdown",
   "metadata": {},
   "source": [
    "We can get rid of a lot of the extra detail columns that we don't need."
   ]
  },
  {
   "cell_type": "code",
   "execution_count": 137,
   "metadata": {},
   "outputs": [],
   "source": [
    "cols = ['OBJECTID', 'post_id', 'latitude', 'longitude', 'Name', 'description']\n",
    "df = df[cols]"
   ]
  },
  {
   "cell_type": "code",
   "execution_count": 138,
   "metadata": {},
   "outputs": [
    {
     "name": "stderr",
     "output_type": "stream",
     "text": [
      "C:\\Users\\thele\\AppData\\Local\\Temp\\ipykernel_15780\\1239009367.py:1: SettingWithCopyWarning:\n",
      "\n",
      "\n",
      "A value is trying to be set on a copy of a slice from a DataFrame.\n",
      "Try using .loc[row_indexer,col_indexer] = value instead\n",
      "\n",
      "See the caveats in the documentation: https://pandas.pydata.org/pandas-docs/stable/user_guide/indexing.html#returning-a-view-versus-a-copy\n",
      "\n",
      "C:\\Users\\thele\\AppData\\Local\\Temp\\ipykernel_15780\\1239009367.py:6: SettingWithCopyWarning:\n",
      "\n",
      "\n",
      "A value is trying to be set on a copy of a slice from a DataFrame\n",
      "\n",
      "See the caveats in the documentation: https://pandas.pydata.org/pandas-docs/stable/user_guide/indexing.html#returning-a-view-versus-a-copy\n",
      "\n",
      "C:\\Users\\thele\\AppData\\Local\\Temp\\ipykernel_15780\\1239009367.py:6: SettingWithCopyWarning:\n",
      "\n",
      "\n",
      "A value is trying to be set on a copy of a slice from a DataFrame\n",
      "\n",
      "See the caveats in the documentation: https://pandas.pydata.org/pandas-docs/stable/user_guide/indexing.html#returning-a-view-versus-a-copy\n",
      "\n",
      "C:\\Users\\thele\\AppData\\Local\\Temp\\ipykernel_15780\\1239009367.py:8: SettingWithCopyWarning:\n",
      "\n",
      "\n",
      "A value is trying to be set on a copy of a slice from a DataFrame\n",
      "\n",
      "See the caveats in the documentation: https://pandas.pydata.org/pandas-docs/stable/user_guide/indexing.html#returning-a-view-versus-a-copy\n",
      "\n",
      "C:\\Users\\thele\\AppData\\Local\\Temp\\ipykernel_15780\\1239009367.py:8: SettingWithCopyWarning:\n",
      "\n",
      "\n",
      "A value is trying to be set on a copy of a slice from a DataFrame\n",
      "\n",
      "See the caveats in the documentation: https://pandas.pydata.org/pandas-docs/stable/user_guide/indexing.html#returning-a-view-versus-a-copy\n",
      "\n",
      "C:\\Users\\thele\\AppData\\Local\\Temp\\ipykernel_15780\\1239009367.py:8: SettingWithCopyWarning:\n",
      "\n",
      "\n",
      "A value is trying to be set on a copy of a slice from a DataFrame\n",
      "\n",
      "See the caveats in the documentation: https://pandas.pydata.org/pandas-docs/stable/user_guide/indexing.html#returning-a-view-versus-a-copy\n",
      "\n",
      "C:\\Users\\thele\\AppData\\Local\\Temp\\ipykernel_15780\\1239009367.py:8: SettingWithCopyWarning:\n",
      "\n",
      "\n",
      "A value is trying to be set on a copy of a slice from a DataFrame\n",
      "\n",
      "See the caveats in the documentation: https://pandas.pydata.org/pandas-docs/stable/user_guide/indexing.html#returning-a-view-versus-a-copy\n",
      "\n",
      "C:\\Users\\thele\\AppData\\Local\\Temp\\ipykernel_15780\\1239009367.py:8: SettingWithCopyWarning:\n",
      "\n",
      "\n",
      "A value is trying to be set on a copy of a slice from a DataFrame\n",
      "\n",
      "See the caveats in the documentation: https://pandas.pydata.org/pandas-docs/stable/user_guide/indexing.html#returning-a-view-versus-a-copy\n",
      "\n",
      "C:\\Users\\thele\\AppData\\Local\\Temp\\ipykernel_15780\\1239009367.py:8: SettingWithCopyWarning:\n",
      "\n",
      "\n",
      "A value is trying to be set on a copy of a slice from a DataFrame\n",
      "\n",
      "See the caveats in the documentation: https://pandas.pydata.org/pandas-docs/stable/user_guide/indexing.html#returning-a-view-versus-a-copy\n",
      "\n",
      "C:\\Users\\thele\\AppData\\Local\\Temp\\ipykernel_15780\\1239009367.py:8: SettingWithCopyWarning:\n",
      "\n",
      "\n",
      "A value is trying to be set on a copy of a slice from a DataFrame\n",
      "\n",
      "See the caveats in the documentation: https://pandas.pydata.org/pandas-docs/stable/user_guide/indexing.html#returning-a-view-versus-a-copy\n",
      "\n",
      "C:\\Users\\thele\\AppData\\Local\\Temp\\ipykernel_15780\\1239009367.py:8: SettingWithCopyWarning:\n",
      "\n",
      "\n",
      "A value is trying to be set on a copy of a slice from a DataFrame\n",
      "\n",
      "See the caveats in the documentation: https://pandas.pydata.org/pandas-docs/stable/user_guide/indexing.html#returning-a-view-versus-a-copy\n",
      "\n",
      "C:\\Users\\thele\\AppData\\Local\\Temp\\ipykernel_15780\\1239009367.py:8: SettingWithCopyWarning:\n",
      "\n",
      "\n",
      "A value is trying to be set on a copy of a slice from a DataFrame\n",
      "\n",
      "See the caveats in the documentation: https://pandas.pydata.org/pandas-docs/stable/user_guide/indexing.html#returning-a-view-versus-a-copy\n",
      "\n",
      "C:\\Users\\thele\\AppData\\Local\\Temp\\ipykernel_15780\\1239009367.py:8: SettingWithCopyWarning:\n",
      "\n",
      "\n",
      "A value is trying to be set on a copy of a slice from a DataFrame\n",
      "\n",
      "See the caveats in the documentation: https://pandas.pydata.org/pandas-docs/stable/user_guide/indexing.html#returning-a-view-versus-a-copy\n",
      "\n",
      "C:\\Users\\thele\\AppData\\Local\\Temp\\ipykernel_15780\\1239009367.py:8: SettingWithCopyWarning:\n",
      "\n",
      "\n",
      "A value is trying to be set on a copy of a slice from a DataFrame\n",
      "\n",
      "See the caveats in the documentation: https://pandas.pydata.org/pandas-docs/stable/user_guide/indexing.html#returning-a-view-versus-a-copy\n",
      "\n",
      "C:\\Users\\thele\\AppData\\Local\\Temp\\ipykernel_15780\\1239009367.py:8: SettingWithCopyWarning:\n",
      "\n",
      "\n",
      "A value is trying to be set on a copy of a slice from a DataFrame\n",
      "\n",
      "See the caveats in the documentation: https://pandas.pydata.org/pandas-docs/stable/user_guide/indexing.html#returning-a-view-versus-a-copy\n",
      "\n",
      "C:\\Users\\thele\\AppData\\Local\\Temp\\ipykernel_15780\\1239009367.py:8: SettingWithCopyWarning:\n",
      "\n",
      "\n",
      "A value is trying to be set on a copy of a slice from a DataFrame\n",
      "\n",
      "See the caveats in the documentation: https://pandas.pydata.org/pandas-docs/stable/user_guide/indexing.html#returning-a-view-versus-a-copy\n",
      "\n",
      "C:\\Users\\thele\\AppData\\Local\\Temp\\ipykernel_15780\\1239009367.py:8: SettingWithCopyWarning:\n",
      "\n",
      "\n",
      "A value is trying to be set on a copy of a slice from a DataFrame\n",
      "\n",
      "See the caveats in the documentation: https://pandas.pydata.org/pandas-docs/stable/user_guide/indexing.html#returning-a-view-versus-a-copy\n",
      "\n",
      "C:\\Users\\thele\\AppData\\Local\\Temp\\ipykernel_15780\\1239009367.py:8: SettingWithCopyWarning:\n",
      "\n",
      "\n",
      "A value is trying to be set on a copy of a slice from a DataFrame\n",
      "\n",
      "See the caveats in the documentation: https://pandas.pydata.org/pandas-docs/stable/user_guide/indexing.html#returning-a-view-versus-a-copy\n",
      "\n",
      "C:\\Users\\thele\\AppData\\Local\\Temp\\ipykernel_15780\\1239009367.py:8: SettingWithCopyWarning:\n",
      "\n",
      "\n",
      "A value is trying to be set on a copy of a slice from a DataFrame\n",
      "\n",
      "See the caveats in the documentation: https://pandas.pydata.org/pandas-docs/stable/user_guide/indexing.html#returning-a-view-versus-a-copy\n",
      "\n",
      "C:\\Users\\thele\\AppData\\Local\\Temp\\ipykernel_15780\\1239009367.py:8: SettingWithCopyWarning:\n",
      "\n",
      "\n",
      "A value is trying to be set on a copy of a slice from a DataFrame\n",
      "\n",
      "See the caveats in the documentation: https://pandas.pydata.org/pandas-docs/stable/user_guide/indexing.html#returning-a-view-versus-a-copy\n",
      "\n",
      "C:\\Users\\thele\\AppData\\Local\\Temp\\ipykernel_15780\\1239009367.py:6: SettingWithCopyWarning:\n",
      "\n",
      "\n",
      "A value is trying to be set on a copy of a slice from a DataFrame\n",
      "\n",
      "See the caveats in the documentation: https://pandas.pydata.org/pandas-docs/stable/user_guide/indexing.html#returning-a-view-versus-a-copy\n",
      "\n",
      "C:\\Users\\thele\\AppData\\Local\\Temp\\ipykernel_15780\\1239009367.py:6: SettingWithCopyWarning:\n",
      "\n",
      "\n",
      "A value is trying to be set on a copy of a slice from a DataFrame\n",
      "\n",
      "See the caveats in the documentation: https://pandas.pydata.org/pandas-docs/stable/user_guide/indexing.html#returning-a-view-versus-a-copy\n",
      "\n",
      "C:\\Users\\thele\\AppData\\Local\\Temp\\ipykernel_15780\\1239009367.py:6: SettingWithCopyWarning:\n",
      "\n",
      "\n",
      "A value is trying to be set on a copy of a slice from a DataFrame\n",
      "\n",
      "See the caveats in the documentation: https://pandas.pydata.org/pandas-docs/stable/user_guide/indexing.html#returning-a-view-versus-a-copy\n",
      "\n",
      "C:\\Users\\thele\\AppData\\Local\\Temp\\ipykernel_15780\\1239009367.py:11: SettingWithCopyWarning:\n",
      "\n",
      "\n",
      "A value is trying to be set on a copy of a slice from a DataFrame.\n",
      "Try using .loc[row_indexer,col_indexer] = value instead\n",
      "\n",
      "See the caveats in the documentation: https://pandas.pydata.org/pandas-docs/stable/user_guide/indexing.html#returning-a-view-versus-a-copy\n",
      "\n",
      "C:\\Users\\thele\\AppData\\Local\\Temp\\ipykernel_15780\\1239009367.py:12: SettingWithCopyWarning:\n",
      "\n",
      "\n",
      "A value is trying to be set on a copy of a slice from a DataFrame.\n",
      "Try using .loc[row_indexer,col_indexer] = value instead\n",
      "\n",
      "See the caveats in the documentation: https://pandas.pydata.org/pandas-docs/stable/user_guide/indexing.html#returning-a-view-versus-a-copy\n",
      "\n"
     ]
    }
   ],
   "source": [
    "df['description'] = df['description'].str.split().str.get(0)\n",
    "\n",
    "#clean up the line names\n",
    "for row in range(len(df)):\n",
    "    if df['description'][row] == \"Regional\" or df['description'][row] == \"Blue/EXPO\":\n",
    "        df['description'][row] = \"Blue/Expo\"\n",
    "    if df['description'][row] == \"EXPO\":\n",
    "        df['description'][row] = \"Expo\"\n",
    "\n",
    "#clean up the lines column\n",
    "df[\"Line\"] = df[\"description\"].str.split('/').str.get(0)\n",
    "df[\"Lines\"] = df[\"description\"].str.split('/')\n",
    "\n",
    "#we dont need description anymore\n",
    "cols = ['OBJECTID', 'post_id', 'latitude', 'longitude', 'Name', 'Lines', 'Line']\n",
    "df = df[cols]"
   ]
  },
  {
   "cell_type": "code",
   "execution_count": 139,
   "metadata": {},
   "outputs": [],
   "source": [
    "df.to_csv('Clean_Metro_Stations.csv')"
   ]
  },
  {
   "cell_type": "markdown",
   "metadata": {},
   "source": [
    "From here, the IDs startion ids are jumbled and unordered. So I went and manually sorted through the columns, putting the stations on each line in consecutive order."
   ]
  },
  {
   "cell_type": "code",
   "execution_count": 140,
   "metadata": {},
   "outputs": [],
   "source": [
    "df = pd.read_csv(\"Clean_Metro_Stations_Manual_Clean.csv\")"
   ]
  },
  {
   "cell_type": "markdown",
   "metadata": {},
   "source": [
    "So here's a rough system map showing the locations of all the stations and what line they are on:"
   ]
  },
  {
   "cell_type": "code",
   "execution_count": 141,
   "metadata": {},
   "outputs": [
    {
     "data": {
      "application/vnd.plotly.v1+json": {
       "config": {
        "plotlyServerURL": "https://plot.ly"
       },
       "data": [
        {
         "hovertemplate": "<b>%{hovertext}</b><br><br>Line=A<br>Latitude=%{lat}<br>Longitude=%{lon}<extra></extra>",
         "hovertext": [
          "5th Street Station",
          "1st Street Station",
          "Downtown Long Beach Station",
          "Pacific Ave Station",
          "Anaheim Street Station",
          "Pacific Coast Hwy Station",
          "Willow Street Station",
          "Wardlow Station",
          "Del Amo Station",
          "Artesia Station",
          "Compton Station",
          "Willowbrook - Rosa Parks Station",
          "103rd Street / Watts Towers  Station",
          "Firestone Station",
          "Florence Station",
          "Slauson Station",
          "Vernon Station",
          "Washington Station",
          "San Pedro Street Station",
          "Grand / LATTC Station",
          "Pico Station",
          "7th St / Metro Center Station",
          "Grand Av Arts/Bunker Hill",
          "Historic Broadway",
          "Little Tokyo/Arts District",
          "Union Station",
          "Chinatown Station",
          "Lincoln Heights / Cypress Park Station",
          "Heritage Square / Arroyo Station",
          "Southwest Museum Station",
          "Highland Park Station",
          "South Pasadena Station",
          "Fillmore Station",
          "Del Mar Station",
          "Memorial Park Station",
          "Lake Station",
          "Allen Station",
          "Sierra Madre Villa Station",
          "Arcadia Station",
          "Monrovia Station",
          "Duarte / City of Hope Station",
          "Irwindale Station",
          "Azusa Downtown Station",
          "APU / Citrus College Station"
         ],
         "lat": [
          33.77360283,
          33.76874483,
          33.76807583,
          33.77226283,
          33.78183483,
          33.78909483,
          33.80708383,
          33.81986983,
          33.84822684,
          33.87608684,
          33.89749484,
          33.92805284,
          33.94222484,
          33.95961585,
          33.97374485,
          33.98876485,
          34.00292485,
          34.01965485,
          34.02681185,
          34.03315985,
          34.04073985,
          34.04861486,
          34.05475059,
          34.05203893,
          34.04884218,
          34.05606586,
          34.06386586,
          34.08095386,
          34.08723186,
          34.09824786,
          34.11118387,
          34.11519087,
          34.13352587,
          34.14191487,
          34.14836087,
          34.15181087,
          34.15242187,
          34.14775688,
          34.14286488,
          34.13315988,
          34.13252288,
          34.12905288,
          34.13586788,
          34.13681889
         ],
         "legendgroup": "A",
         "lon": [
          -118.1894242,
          -118.1893742,
          -118.1929332,
          -118.1937122,
          -118.1893962,
          -118.1893942,
          -118.1898462,
          -118.1961022,
          -118.2110292,
          -118.2225152,
          -118.2242612,
          -118.2375672,
          -118.2431712,
          -118.2432172,
          -118.2432832,
          -118.2434102,
          -118.2433152,
          -118.2430962,
          -118.2555172,
          -118.2693452,
          -118.2661302,
          -118.2588342,
          -118.2512082,
          -118.2461664,
          -118.2387869,
          -118.2347712,
          -118.2358522,
          -118.2204412,
          -118.2132252,
          -118.2067242,
          -118.1926182,
          -118.1578982,
          -118.1481382,
          -118.1482262,
          -118.1475242,
          -118.1314022,
          -118.1143602,
          -118.0812242,
          -118.0292112,
          -118.0034852,
          -117.9676922,
          -117.9325181,
          -117.9066431,
          -117.8916481
         ],
         "marker": {
          "color": "#636efa"
         },
         "mode": "markers",
         "name": "A",
         "showlegend": true,
         "subplot": "mapbox",
         "type": "scattermapbox"
        },
        {
         "hovertemplate": "<b>%{hovertext}</b><br><br>Line=B<br>Latitude=%{lat}<br>Longitude=%{lon}<extra></extra>",
         "hovertext": [
          "North Hollywood Station",
          "Universal / Studio City Station",
          "Hollywood / Highland Station",
          "Hollywood / Vine Station",
          "Hollywood / Western Station",
          "Vermont / Sunset Station",
          "Vermont / Santa Monica Station",
          "Vermont / Beverly Station",
          "Wilshire / Vermont Station",
          "Westlake / MacArthur Park Station",
          "7th St / Metro Center Station",
          "Pershing Square Station",
          "Civic Center / Grand Park Station",
          "Union Station"
         ],
         "lat": [
          34.16850886,
          34.14000686,
          34.10155186,
          34.10163486,
          34.10174186,
          34.09771286,
          34.08991486,
          34.07653086,
          34.06270585,
          34.05637286,
          34.04863885,
          34.04932086,
          34.05490486,
          34.05620186
         ],
         "legendgroup": "B",
         "lon": [
          -118.3768202,
          -118.3627112,
          -118.3385612,
          -118.3251922,
          -118.3081292,
          -118.2917682,
          -118.2917422,
          -118.2916982,
          -118.2900942,
          -118.2748912,
          -118.2586942,
          -118.2512712,
          -118.2460692,
          -118.2342612
         ],
         "marker": {
          "color": "#EF553B"
         },
         "mode": "markers",
         "name": "B",
         "showlegend": true,
         "subplot": "mapbox",
         "type": "scattermapbox"
        },
        {
         "hovertemplate": "<b>%{hovertext}</b><br><br>Line=C<br>Latitude=%{lat}<br>Longitude=%{lon}<extra></extra>",
         "hovertext": [
          "Redondo Beach Station",
          "Douglas Station",
          "El Segundo Station",
          "Mariposa Station",
          "Aviation / LAX Station",
          "Hawthorne / Lennox Station",
          "Crenshaw Station",
          "Vermont / Athens Station",
          "Harbor Freeway Station",
          "Avalon Station",
          "Willowbrook - Rosa Parks Station",
          "Long Beach Blvd Station",
          "Lakewood Blvd Station",
          "Norwalk Station"
         ],
         "lat": [
          33.89464483,
          33.90530383,
          33.91606783,
          33.92320483,
          33.92962583,
          33.93341284,
          33.92520584,
          33.92868784,
          33.92871884,
          33.92746984,
          33.92826284,
          33.92488484,
          33.91307485,
          33.91403785
         ],
         "legendgroup": "C",
         "lon": [
          -118.3692082,
          -118.3831252,
          -118.3865512,
          -118.3875842,
          -118.3771462,
          -118.3516142,
          -118.3265622,
          -118.2917452,
          -118.2811122,
          -118.2652292,
          -118.2380642,
          -118.2099572,
          -118.1406122,
          -118.1047292
         ],
         "marker": {
          "color": "#00cc96"
         },
         "mode": "markers",
         "name": "C",
         "showlegend": true,
         "subplot": "mapbox",
         "type": "scattermapbox"
        },
        {
         "hovertemplate": "<b>%{hovertext}</b><br><br>Line=D<br>Latitude=%{lat}<br>Longitude=%{lon}<extra></extra>",
         "hovertext": [
          "Wilshire / Western Station",
          "Wilshire / Normandie Station",
          "Wilshire / Vermont Station",
          "Westlake / MacArthur Park Station",
          "7th St / Metro Center Station",
          "Pershing Square Station",
          "Civic Center / Grand Park Station",
          "Union Station"
         ],
         "lat": [
          34.06169385,
          34.06175785,
          34.06270585,
          34.05637286,
          34.04863885,
          34.04932086,
          34.05490486,
          34.05620186
         ],
         "legendgroup": "D",
         "lon": [
          -118.3087682,
          -118.3014702,
          -118.2900942,
          -118.2748912,
          -118.2586942,
          -118.2512712,
          -118.2460692,
          -118.2342612
         ],
         "marker": {
          "color": "#ab63fa"
         },
         "mode": "markers",
         "name": "D",
         "showlegend": true,
         "subplot": "mapbox",
         "type": "scattermapbox"
        },
        {
         "hovertemplate": "<b>%{hovertext}</b><br><br>Line=E<br>Latitude=%{lat}<br>Longitude=%{lon}<extra></extra>",
         "hovertext": [
          "Atlantic Station",
          "East LA Civic Center Station",
          "Maravilla Station",
          "Indiana Station",
          "Soto Station",
          "Mariachi Plaza / Boyle Heights Station",
          "Pico / Aliso Station",
          "Little Tokyo/Arts District",
          "Historic Broadway",
          "Grand Av Arts/Bunker Hill",
          "7th St / Metro Center Station",
          "Pico Station",
          "LATTC / Ortho Institute Station",
          "Jefferson / USC Station",
          "Expo Park / USC Station",
          "Expo / Vermont Station",
          "Expo / Western Station",
          "Expo / Crenshaw Station",
          "Farmdale Station",
          "Expo / La Brea Station",
          "La Cienega / Jefferson Station",
          "Culver City Station",
          "Palms Station",
          "Westwood / Rancho Park Station",
          "Expo / Sepulveda Station",
          "Expo / Bundy Station",
          "26th St / Bergamot Station",
          "17th St / SMC Station",
          "Downtown Santa Monica Station"
         ],
         "lat": [
          34.03340286,
          34.03336886,
          34.03332386,
          34.03430486,
          34.04375186,
          34.04721986,
          34.04763886,
          34.04884218,
          34.05203893,
          34.05475059,
          34.04861486,
          34.04073985,
          34.02911685,
          34.02212785,
          34.01823185,
          34.01824985,
          34.01833585,
          34.02253085,
          34.02398585,
          34.02480785,
          34.02635985,
          34.02790085,
          34.02932784,
          34.03682084,
          34.03541284,
          34.03170984,
          34.02799984,
          34.02315984,
          34.01401484
         ],
         "legendgroup": "E",
         "lon": [
          -118.1544812,
          -118.1612182,
          -118.1681522,
          -118.1921942,
          -118.2100732,
          -118.2196602,
          -118.2259522,
          -118.2387869,
          -118.2461664,
          -118.2512082,
          -118.2588342,
          -118.2661302,
          -118.2736152,
          -118.2781302,
          -118.2857462,
          -118.2915522,
          -118.3089222,
          -118.3350902,
          -118.3461072,
          -118.3551712,
          -118.3721322,
          -118.3889982,
          -118.4042672,
          -118.4245882,
          -118.4342462,
          -118.4529082,
          -118.4691322,
          -118.4803842,
          -118.4913962
         ],
         "marker": {
          "color": "#FFA15A"
         },
         "mode": "markers",
         "name": "E",
         "showlegend": true,
         "subplot": "mapbox",
         "type": "scattermapbox"
        },
        {
         "hovertemplate": "<b>%{hovertext}</b><br><br>Line=G<br>Latitude=%{lat}<br>Longitude=%{lon}<extra></extra>",
         "hovertext": [
          "Chatsworth Metro Station",
          "Nordhoff Metro Station North Bound",
          "Nordhoff Metro Station South Bound",
          "Roscoe Metro Station North Bound",
          "Roscoe Metro Station South Bound",
          "Sherman Way Metro Station",
          "Canoga Metro Station North-South",
          "Warner Center Metro Station",
          "Canoga Metro Station East-West",
          "De Soto Metro Station",
          "Pierce College Metro Station",
          "Tampa Metro Station",
          "Reseda Metro Station",
          "Balboa Metro Station",
          "Woodley Metro Station",
          "Sepulveda Metro Station",
          "Van Nuys Metro Station",
          "Woodman Metro Station",
          "Valley College Metro Station",
          "Laurel Canyon Metro Station",
          "North Hollywood Metro Station"
         ],
         "lat": [
          34.2521972,
          34.23592131,
          34.23498563,
          34.22047153,
          34.21937541,
          34.20050779,
          34.19136029,
          34.18154485,
          34.19056485,
          34.18871485,
          34.18696485,
          34.18105485,
          34.18045485,
          34.18600486,
          34.18631486,
          34.18085486,
          34.18046486,
          34.17899486,
          34.17176486,
          34.16856486,
          34.16881486
         ],
         "legendgroup": "G",
         "lon": [
          -118.5993797,
          -118.5971927,
          -118.5971931,
          -118.5970328,
          -118.5970485,
          -118.5971486,
          -118.5964455,
          -118.6014123,
          -118.5968923,
          -118.5887023,
          -118.5705623,
          -118.5530923,
          -118.5365023,
          -118.5005822,
          -118.4841522,
          -118.4687622,
          -118.4481522,
          -118.4297122,
          -118.4220922,
          -118.3970522,
          -118.3775322
         ],
         "marker": {
          "color": "#19d3f3"
         },
         "mode": "markers",
         "name": "G",
         "showlegend": true,
         "subplot": "mapbox",
         "type": "scattermapbox"
        },
        {
         "hovertemplate": "<b>%{hovertext}</b><br><br>Line=K<br>Latitude=%{lat}<br>Longitude=%{lon}<extra></extra>",
         "hovertext": [
          "Expo/Crenshaw Station",
          "Martin Luther King Jr Station",
          "Leimert Park Station",
          "Hyde Park Station",
          "Fairview Heights Station",
          "Downtown Inglewood Station",
          "Westchester/Veterans Station",
          "LAX/Metro Transit Center Station",
          "Aviation/Century Station",
          "Aviation/LAX Station"
         ],
         "lat": [
          34.02245314,
          34.01016656,
          34.00458152,
          33.98828975,
          33.97528429,
          33.96729917,
          33.96202081,
          33.94962547,
          33.94567805,
          33.92963484
         ],
         "legendgroup": "K",
         "lon": [
          -118.3350902,
          -118.335347,
          -118.3326646,
          -118.3308357,
          -118.3360302,
          -118.3513927,
          -118.3744553,
          -118.378663,
          -118.3787027,
          -118.3772708
         ],
         "marker": {
          "color": "#FF6692"
         },
         "mode": "markers",
         "name": "K",
         "showlegend": true,
         "subplot": "mapbox",
         "type": "scattermapbox"
        }
       ],
       "layout": {
        "height": 800,
        "legend": {
         "title": {
          "text": "Line"
         },
         "tracegroupgap": 0
        },
        "mapbox": {
         "center": {
          "lat": 34.04042933499999,
          "lon": -118.29805459857141
         },
         "domain": {
          "x": [
           0,
           1
          ],
          "y": [
           0,
           1
          ]
         },
         "style": "carto-positron",
         "zoom": 8.8
        },
        "template": {
         "data": {
          "bar": [
           {
            "error_x": {
             "color": "#2a3f5f"
            },
            "error_y": {
             "color": "#2a3f5f"
            },
            "marker": {
             "line": {
              "color": "#E5ECF6",
              "width": 0.5
             },
             "pattern": {
              "fillmode": "overlay",
              "size": 10,
              "solidity": 0.2
             }
            },
            "type": "bar"
           }
          ],
          "barpolar": [
           {
            "marker": {
             "line": {
              "color": "#E5ECF6",
              "width": 0.5
             },
             "pattern": {
              "fillmode": "overlay",
              "size": 10,
              "solidity": 0.2
             }
            },
            "type": "barpolar"
           }
          ],
          "carpet": [
           {
            "aaxis": {
             "endlinecolor": "#2a3f5f",
             "gridcolor": "white",
             "linecolor": "white",
             "minorgridcolor": "white",
             "startlinecolor": "#2a3f5f"
            },
            "baxis": {
             "endlinecolor": "#2a3f5f",
             "gridcolor": "white",
             "linecolor": "white",
             "minorgridcolor": "white",
             "startlinecolor": "#2a3f5f"
            },
            "type": "carpet"
           }
          ],
          "choropleth": [
           {
            "colorbar": {
             "outlinewidth": 0,
             "ticks": ""
            },
            "type": "choropleth"
           }
          ],
          "contour": [
           {
            "colorbar": {
             "outlinewidth": 0,
             "ticks": ""
            },
            "colorscale": [
             [
              0,
              "#0d0887"
             ],
             [
              0.1111111111111111,
              "#46039f"
             ],
             [
              0.2222222222222222,
              "#7201a8"
             ],
             [
              0.3333333333333333,
              "#9c179e"
             ],
             [
              0.4444444444444444,
              "#bd3786"
             ],
             [
              0.5555555555555556,
              "#d8576b"
             ],
             [
              0.6666666666666666,
              "#ed7953"
             ],
             [
              0.7777777777777778,
              "#fb9f3a"
             ],
             [
              0.8888888888888888,
              "#fdca26"
             ],
             [
              1,
              "#f0f921"
             ]
            ],
            "type": "contour"
           }
          ],
          "contourcarpet": [
           {
            "colorbar": {
             "outlinewidth": 0,
             "ticks": ""
            },
            "type": "contourcarpet"
           }
          ],
          "heatmap": [
           {
            "colorbar": {
             "outlinewidth": 0,
             "ticks": ""
            },
            "colorscale": [
             [
              0,
              "#0d0887"
             ],
             [
              0.1111111111111111,
              "#46039f"
             ],
             [
              0.2222222222222222,
              "#7201a8"
             ],
             [
              0.3333333333333333,
              "#9c179e"
             ],
             [
              0.4444444444444444,
              "#bd3786"
             ],
             [
              0.5555555555555556,
              "#d8576b"
             ],
             [
              0.6666666666666666,
              "#ed7953"
             ],
             [
              0.7777777777777778,
              "#fb9f3a"
             ],
             [
              0.8888888888888888,
              "#fdca26"
             ],
             [
              1,
              "#f0f921"
             ]
            ],
            "type": "heatmap"
           }
          ],
          "heatmapgl": [
           {
            "colorbar": {
             "outlinewidth": 0,
             "ticks": ""
            },
            "colorscale": [
             [
              0,
              "#0d0887"
             ],
             [
              0.1111111111111111,
              "#46039f"
             ],
             [
              0.2222222222222222,
              "#7201a8"
             ],
             [
              0.3333333333333333,
              "#9c179e"
             ],
             [
              0.4444444444444444,
              "#bd3786"
             ],
             [
              0.5555555555555556,
              "#d8576b"
             ],
             [
              0.6666666666666666,
              "#ed7953"
             ],
             [
              0.7777777777777778,
              "#fb9f3a"
             ],
             [
              0.8888888888888888,
              "#fdca26"
             ],
             [
              1,
              "#f0f921"
             ]
            ],
            "type": "heatmapgl"
           }
          ],
          "histogram": [
           {
            "marker": {
             "pattern": {
              "fillmode": "overlay",
              "size": 10,
              "solidity": 0.2
             }
            },
            "type": "histogram"
           }
          ],
          "histogram2d": [
           {
            "colorbar": {
             "outlinewidth": 0,
             "ticks": ""
            },
            "colorscale": [
             [
              0,
              "#0d0887"
             ],
             [
              0.1111111111111111,
              "#46039f"
             ],
             [
              0.2222222222222222,
              "#7201a8"
             ],
             [
              0.3333333333333333,
              "#9c179e"
             ],
             [
              0.4444444444444444,
              "#bd3786"
             ],
             [
              0.5555555555555556,
              "#d8576b"
             ],
             [
              0.6666666666666666,
              "#ed7953"
             ],
             [
              0.7777777777777778,
              "#fb9f3a"
             ],
             [
              0.8888888888888888,
              "#fdca26"
             ],
             [
              1,
              "#f0f921"
             ]
            ],
            "type": "histogram2d"
           }
          ],
          "histogram2dcontour": [
           {
            "colorbar": {
             "outlinewidth": 0,
             "ticks": ""
            },
            "colorscale": [
             [
              0,
              "#0d0887"
             ],
             [
              0.1111111111111111,
              "#46039f"
             ],
             [
              0.2222222222222222,
              "#7201a8"
             ],
             [
              0.3333333333333333,
              "#9c179e"
             ],
             [
              0.4444444444444444,
              "#bd3786"
             ],
             [
              0.5555555555555556,
              "#d8576b"
             ],
             [
              0.6666666666666666,
              "#ed7953"
             ],
             [
              0.7777777777777778,
              "#fb9f3a"
             ],
             [
              0.8888888888888888,
              "#fdca26"
             ],
             [
              1,
              "#f0f921"
             ]
            ],
            "type": "histogram2dcontour"
           }
          ],
          "mesh3d": [
           {
            "colorbar": {
             "outlinewidth": 0,
             "ticks": ""
            },
            "type": "mesh3d"
           }
          ],
          "parcoords": [
           {
            "line": {
             "colorbar": {
              "outlinewidth": 0,
              "ticks": ""
             }
            },
            "type": "parcoords"
           }
          ],
          "pie": [
           {
            "automargin": true,
            "type": "pie"
           }
          ],
          "scatter": [
           {
            "fillpattern": {
             "fillmode": "overlay",
             "size": 10,
             "solidity": 0.2
            },
            "type": "scatter"
           }
          ],
          "scatter3d": [
           {
            "line": {
             "colorbar": {
              "outlinewidth": 0,
              "ticks": ""
             }
            },
            "marker": {
             "colorbar": {
              "outlinewidth": 0,
              "ticks": ""
             }
            },
            "type": "scatter3d"
           }
          ],
          "scattercarpet": [
           {
            "marker": {
             "colorbar": {
              "outlinewidth": 0,
              "ticks": ""
             }
            },
            "type": "scattercarpet"
           }
          ],
          "scattergeo": [
           {
            "marker": {
             "colorbar": {
              "outlinewidth": 0,
              "ticks": ""
             }
            },
            "type": "scattergeo"
           }
          ],
          "scattergl": [
           {
            "marker": {
             "colorbar": {
              "outlinewidth": 0,
              "ticks": ""
             }
            },
            "type": "scattergl"
           }
          ],
          "scattermapbox": [
           {
            "marker": {
             "colorbar": {
              "outlinewidth": 0,
              "ticks": ""
             }
            },
            "type": "scattermapbox"
           }
          ],
          "scatterpolar": [
           {
            "marker": {
             "colorbar": {
              "outlinewidth": 0,
              "ticks": ""
             }
            },
            "type": "scatterpolar"
           }
          ],
          "scatterpolargl": [
           {
            "marker": {
             "colorbar": {
              "outlinewidth": 0,
              "ticks": ""
             }
            },
            "type": "scatterpolargl"
           }
          ],
          "scatterternary": [
           {
            "marker": {
             "colorbar": {
              "outlinewidth": 0,
              "ticks": ""
             }
            },
            "type": "scatterternary"
           }
          ],
          "surface": [
           {
            "colorbar": {
             "outlinewidth": 0,
             "ticks": ""
            },
            "colorscale": [
             [
              0,
              "#0d0887"
             ],
             [
              0.1111111111111111,
              "#46039f"
             ],
             [
              0.2222222222222222,
              "#7201a8"
             ],
             [
              0.3333333333333333,
              "#9c179e"
             ],
             [
              0.4444444444444444,
              "#bd3786"
             ],
             [
              0.5555555555555556,
              "#d8576b"
             ],
             [
              0.6666666666666666,
              "#ed7953"
             ],
             [
              0.7777777777777778,
              "#fb9f3a"
             ],
             [
              0.8888888888888888,
              "#fdca26"
             ],
             [
              1,
              "#f0f921"
             ]
            ],
            "type": "surface"
           }
          ],
          "table": [
           {
            "cells": {
             "fill": {
              "color": "#EBF0F8"
             },
             "line": {
              "color": "white"
             }
            },
            "header": {
             "fill": {
              "color": "#C8D4E3"
             },
             "line": {
              "color": "white"
             }
            },
            "type": "table"
           }
          ]
         },
         "layout": {
          "annotationdefaults": {
           "arrowcolor": "#2a3f5f",
           "arrowhead": 0,
           "arrowwidth": 1
          },
          "autotypenumbers": "strict",
          "coloraxis": {
           "colorbar": {
            "outlinewidth": 0,
            "ticks": ""
           }
          },
          "colorscale": {
           "diverging": [
            [
             0,
             "#8e0152"
            ],
            [
             0.1,
             "#c51b7d"
            ],
            [
             0.2,
             "#de77ae"
            ],
            [
             0.3,
             "#f1b6da"
            ],
            [
             0.4,
             "#fde0ef"
            ],
            [
             0.5,
             "#f7f7f7"
            ],
            [
             0.6,
             "#e6f5d0"
            ],
            [
             0.7,
             "#b8e186"
            ],
            [
             0.8,
             "#7fbc41"
            ],
            [
             0.9,
             "#4d9221"
            ],
            [
             1,
             "#276419"
            ]
           ],
           "sequential": [
            [
             0,
             "#0d0887"
            ],
            [
             0.1111111111111111,
             "#46039f"
            ],
            [
             0.2222222222222222,
             "#7201a8"
            ],
            [
             0.3333333333333333,
             "#9c179e"
            ],
            [
             0.4444444444444444,
             "#bd3786"
            ],
            [
             0.5555555555555556,
             "#d8576b"
            ],
            [
             0.6666666666666666,
             "#ed7953"
            ],
            [
             0.7777777777777778,
             "#fb9f3a"
            ],
            [
             0.8888888888888888,
             "#fdca26"
            ],
            [
             1,
             "#f0f921"
            ]
           ],
           "sequentialminus": [
            [
             0,
             "#0d0887"
            ],
            [
             0.1111111111111111,
             "#46039f"
            ],
            [
             0.2222222222222222,
             "#7201a8"
            ],
            [
             0.3333333333333333,
             "#9c179e"
            ],
            [
             0.4444444444444444,
             "#bd3786"
            ],
            [
             0.5555555555555556,
             "#d8576b"
            ],
            [
             0.6666666666666666,
             "#ed7953"
            ],
            [
             0.7777777777777778,
             "#fb9f3a"
            ],
            [
             0.8888888888888888,
             "#fdca26"
            ],
            [
             1,
             "#f0f921"
            ]
           ]
          },
          "colorway": [
           "#636efa",
           "#EF553B",
           "#00cc96",
           "#ab63fa",
           "#FFA15A",
           "#19d3f3",
           "#FF6692",
           "#B6E880",
           "#FF97FF",
           "#FECB52"
          ],
          "font": {
           "color": "#2a3f5f"
          },
          "geo": {
           "bgcolor": "white",
           "lakecolor": "white",
           "landcolor": "#E5ECF6",
           "showlakes": true,
           "showland": true,
           "subunitcolor": "white"
          },
          "hoverlabel": {
           "align": "left"
          },
          "hovermode": "closest",
          "mapbox": {
           "style": "light"
          },
          "paper_bgcolor": "white",
          "plot_bgcolor": "#E5ECF6",
          "polar": {
           "angularaxis": {
            "gridcolor": "white",
            "linecolor": "white",
            "ticks": ""
           },
           "bgcolor": "#E5ECF6",
           "radialaxis": {
            "gridcolor": "white",
            "linecolor": "white",
            "ticks": ""
           }
          },
          "scene": {
           "xaxis": {
            "backgroundcolor": "#E5ECF6",
            "gridcolor": "white",
            "gridwidth": 2,
            "linecolor": "white",
            "showbackground": true,
            "ticks": "",
            "zerolinecolor": "white"
           },
           "yaxis": {
            "backgroundcolor": "#E5ECF6",
            "gridcolor": "white",
            "gridwidth": 2,
            "linecolor": "white",
            "showbackground": true,
            "ticks": "",
            "zerolinecolor": "white"
           },
           "zaxis": {
            "backgroundcolor": "#E5ECF6",
            "gridcolor": "white",
            "gridwidth": 2,
            "linecolor": "white",
            "showbackground": true,
            "ticks": "",
            "zerolinecolor": "white"
           }
          },
          "shapedefaults": {
           "line": {
            "color": "#2a3f5f"
           }
          },
          "ternary": {
           "aaxis": {
            "gridcolor": "white",
            "linecolor": "white",
            "ticks": ""
           },
           "baxis": {
            "gridcolor": "white",
            "linecolor": "white",
            "ticks": ""
           },
           "bgcolor": "#E5ECF6",
           "caxis": {
            "gridcolor": "white",
            "linecolor": "white",
            "ticks": ""
           }
          },
          "title": {
           "x": 0.05
          },
          "xaxis": {
           "automargin": true,
           "gridcolor": "white",
           "linecolor": "white",
           "ticks": "",
           "title": {
            "standoff": 15
           },
           "zerolinecolor": "white",
           "zerolinewidth": 2
          },
          "yaxis": {
           "automargin": true,
           "gridcolor": "white",
           "linecolor": "white",
           "ticks": "",
           "title": {
            "standoff": 15
           },
           "zerolinecolor": "white",
           "zerolinewidth": 2
          }
         }
        },
        "title": {
         "text": "Graph Representation of LA Metro Station Locations by Line"
        },
        "width": 800
       }
      }
     },
     "metadata": {},
     "output_type": "display_data"
    }
   ],
   "source": [
    "#station map, lines not connected, also hover_data is kinda broken. The G-Line (BRT, not Rail) is shown as well\n",
    "fig = px.scatter_mapbox(df, \n",
    "                        lat = \"Latitude\",\n",
    "                        lon = \"Longitude\",\n",
    "                        color = \"Line\",\n",
    "                        hover_name = \"Name\",\n",
    "                        #hover_data = \"Lines\",\n",
    "                        zoom = 8.8,\n",
    "                        height = 800,\n",
    "                        width = 800,\n",
    "                        title = \"Graph Representation of LA Metro Station Locations by Line\",\n",
    "                        mapbox_style = \"carto-positron\")\n",
    "\n",
    "fig.show()"
   ]
  },
  {
   "cell_type": "markdown",
   "metadata": {},
   "source": [
    "Here's one with the lines connected:"
   ]
  },
  {
   "cell_type": "code",
   "execution_count": 142,
   "metadata": {},
   "outputs": [
    {
     "data": {
      "application/vnd.plotly.v1+json": {
       "config": {
        "plotlyServerURL": "https://plot.ly"
       },
       "data": [
        {
         "hovertemplate": "<b>%{hovertext}</b><br><br>Line=A<br>Latitude=%{lat}<br>Longitude=%{lon}<extra></extra>",
         "hovertext": [
          "5th Street Station",
          "1st Street Station",
          "Downtown Long Beach Station",
          "Pacific Ave Station",
          "Anaheim Street Station",
          "Pacific Coast Hwy Station",
          "Willow Street Station",
          "Wardlow Station",
          "Del Amo Station",
          "Artesia Station",
          "Compton Station",
          "Willowbrook - Rosa Parks Station",
          "103rd Street / Watts Towers  Station",
          "Firestone Station",
          "Florence Station",
          "Slauson Station",
          "Vernon Station",
          "Washington Station",
          "San Pedro Street Station",
          "Grand / LATTC Station",
          "Pico Station",
          "7th St / Metro Center Station",
          "Grand Av Arts/Bunker Hill",
          "Historic Broadway",
          "Little Tokyo/Arts District",
          "Union Station",
          "Chinatown Station",
          "Lincoln Heights / Cypress Park Station",
          "Heritage Square / Arroyo Station",
          "Southwest Museum Station",
          "Highland Park Station",
          "South Pasadena Station",
          "Fillmore Station",
          "Del Mar Station",
          "Memorial Park Station",
          "Lake Station",
          "Allen Station",
          "Sierra Madre Villa Station",
          "Arcadia Station",
          "Monrovia Station",
          "Duarte / City of Hope Station",
          "Irwindale Station",
          "Azusa Downtown Station",
          "APU / Citrus College Station"
         ],
         "lat": [
          33.77360283,
          33.76874483,
          33.76807583,
          33.77226283,
          33.78183483,
          33.78909483,
          33.80708383,
          33.81986983,
          33.84822684,
          33.87608684,
          33.89749484,
          33.92805284,
          33.94222484,
          33.95961585,
          33.97374485,
          33.98876485,
          34.00292485,
          34.01965485,
          34.02681185,
          34.03315985,
          34.04073985,
          34.04861486,
          34.05475059,
          34.05203893,
          34.04884218,
          34.05606586,
          34.06386586,
          34.08095386,
          34.08723186,
          34.09824786,
          34.11118387,
          34.11519087,
          34.13352587,
          34.14191487,
          34.14836087,
          34.15181087,
          34.15242187,
          34.14775688,
          34.14286488,
          34.13315988,
          34.13252288,
          34.12905288,
          34.13586788,
          34.13681889
         ],
         "legendgroup": "A",
         "line": {
          "color": "#636efa"
         },
         "lon": [
          -118.1894242,
          -118.1893742,
          -118.1929332,
          -118.1937122,
          -118.1893962,
          -118.1893942,
          -118.1898462,
          -118.1961022,
          -118.2110292,
          -118.2225152,
          -118.2242612,
          -118.2375672,
          -118.2431712,
          -118.2432172,
          -118.2432832,
          -118.2434102,
          -118.2433152,
          -118.2430962,
          -118.2555172,
          -118.2693452,
          -118.2661302,
          -118.2588342,
          -118.2512082,
          -118.2461664,
          -118.2387869,
          -118.2347712,
          -118.2358522,
          -118.2204412,
          -118.2132252,
          -118.2067242,
          -118.1926182,
          -118.1578982,
          -118.1481382,
          -118.1482262,
          -118.1475242,
          -118.1314022,
          -118.1143602,
          -118.0812242,
          -118.0292112,
          -118.0034852,
          -117.9676922,
          -117.9325181,
          -117.9066431,
          -117.8916481
         ],
         "mode": "lines",
         "name": "A",
         "showlegend": true,
         "subplot": "mapbox",
         "type": "scattermapbox"
        },
        {
         "hovertemplate": "<b>%{hovertext}</b><br><br>Line=B<br>Latitude=%{lat}<br>Longitude=%{lon}<extra></extra>",
         "hovertext": [
          "North Hollywood Station",
          "Universal / Studio City Station",
          "Hollywood / Highland Station",
          "Hollywood / Vine Station",
          "Hollywood / Western Station",
          "Vermont / Sunset Station",
          "Vermont / Santa Monica Station",
          "Vermont / Beverly Station",
          "Wilshire / Vermont Station",
          "Westlake / MacArthur Park Station",
          "7th St / Metro Center Station",
          "Pershing Square Station",
          "Civic Center / Grand Park Station",
          "Union Station"
         ],
         "lat": [
          34.16850886,
          34.14000686,
          34.10155186,
          34.10163486,
          34.10174186,
          34.09771286,
          34.08991486,
          34.07653086,
          34.06270585,
          34.05637286,
          34.04863885,
          34.04932086,
          34.05490486,
          34.05620186
         ],
         "legendgroup": "B",
         "line": {
          "color": "#EF553B"
         },
         "lon": [
          -118.3768202,
          -118.3627112,
          -118.3385612,
          -118.3251922,
          -118.3081292,
          -118.2917682,
          -118.2917422,
          -118.2916982,
          -118.2900942,
          -118.2748912,
          -118.2586942,
          -118.2512712,
          -118.2460692,
          -118.2342612
         ],
         "mode": "lines",
         "name": "B",
         "showlegend": true,
         "subplot": "mapbox",
         "type": "scattermapbox"
        },
        {
         "hovertemplate": "<b>%{hovertext}</b><br><br>Line=C<br>Latitude=%{lat}<br>Longitude=%{lon}<extra></extra>",
         "hovertext": [
          "Redondo Beach Station",
          "Douglas Station",
          "El Segundo Station",
          "Mariposa Station",
          "Aviation / LAX Station",
          "Hawthorne / Lennox Station",
          "Crenshaw Station",
          "Vermont / Athens Station",
          "Harbor Freeway Station",
          "Avalon Station",
          "Willowbrook - Rosa Parks Station",
          "Long Beach Blvd Station",
          "Lakewood Blvd Station",
          "Norwalk Station"
         ],
         "lat": [
          33.89464483,
          33.90530383,
          33.91606783,
          33.92320483,
          33.92962583,
          33.93341284,
          33.92520584,
          33.92868784,
          33.92871884,
          33.92746984,
          33.92826284,
          33.92488484,
          33.91307485,
          33.91403785
         ],
         "legendgroup": "C",
         "line": {
          "color": "#00cc96"
         },
         "lon": [
          -118.3692082,
          -118.3831252,
          -118.3865512,
          -118.3875842,
          -118.3771462,
          -118.3516142,
          -118.3265622,
          -118.2917452,
          -118.2811122,
          -118.2652292,
          -118.2380642,
          -118.2099572,
          -118.1406122,
          -118.1047292
         ],
         "mode": "lines",
         "name": "C",
         "showlegend": true,
         "subplot": "mapbox",
         "type": "scattermapbox"
        },
        {
         "hovertemplate": "<b>%{hovertext}</b><br><br>Line=D<br>Latitude=%{lat}<br>Longitude=%{lon}<extra></extra>",
         "hovertext": [
          "Wilshire / Western Station",
          "Wilshire / Normandie Station",
          "Wilshire / Vermont Station",
          "Westlake / MacArthur Park Station",
          "7th St / Metro Center Station",
          "Pershing Square Station",
          "Civic Center / Grand Park Station",
          "Union Station"
         ],
         "lat": [
          34.06169385,
          34.06175785,
          34.06270585,
          34.05637286,
          34.04863885,
          34.04932086,
          34.05490486,
          34.05620186
         ],
         "legendgroup": "D",
         "line": {
          "color": "#ab63fa"
         },
         "lon": [
          -118.3087682,
          -118.3014702,
          -118.2900942,
          -118.2748912,
          -118.2586942,
          -118.2512712,
          -118.2460692,
          -118.2342612
         ],
         "mode": "lines",
         "name": "D",
         "showlegend": true,
         "subplot": "mapbox",
         "type": "scattermapbox"
        },
        {
         "hovertemplate": "<b>%{hovertext}</b><br><br>Line=E<br>Latitude=%{lat}<br>Longitude=%{lon}<extra></extra>",
         "hovertext": [
          "Atlantic Station",
          "East LA Civic Center Station",
          "Maravilla Station",
          "Indiana Station",
          "Soto Station",
          "Mariachi Plaza / Boyle Heights Station",
          "Pico / Aliso Station",
          "Little Tokyo/Arts District",
          "Historic Broadway",
          "Grand Av Arts/Bunker Hill",
          "7th St / Metro Center Station",
          "Pico Station",
          "LATTC / Ortho Institute Station",
          "Jefferson / USC Station",
          "Expo Park / USC Station",
          "Expo / Vermont Station",
          "Expo / Western Station",
          "Expo / Crenshaw Station",
          "Farmdale Station",
          "Expo / La Brea Station",
          "La Cienega / Jefferson Station",
          "Culver City Station",
          "Palms Station",
          "Westwood / Rancho Park Station",
          "Expo / Sepulveda Station",
          "Expo / Bundy Station",
          "26th St / Bergamot Station",
          "17th St / SMC Station",
          "Downtown Santa Monica Station"
         ],
         "lat": [
          34.03340286,
          34.03336886,
          34.03332386,
          34.03430486,
          34.04375186,
          34.04721986,
          34.04763886,
          34.04884218,
          34.05203893,
          34.05475059,
          34.04861486,
          34.04073985,
          34.02911685,
          34.02212785,
          34.01823185,
          34.01824985,
          34.01833585,
          34.02253085,
          34.02398585,
          34.02480785,
          34.02635985,
          34.02790085,
          34.02932784,
          34.03682084,
          34.03541284,
          34.03170984,
          34.02799984,
          34.02315984,
          34.01401484
         ],
         "legendgroup": "E",
         "line": {
          "color": "#FFA15A"
         },
         "lon": [
          -118.1544812,
          -118.1612182,
          -118.1681522,
          -118.1921942,
          -118.2100732,
          -118.2196602,
          -118.2259522,
          -118.2387869,
          -118.2461664,
          -118.2512082,
          -118.2588342,
          -118.2661302,
          -118.2736152,
          -118.2781302,
          -118.2857462,
          -118.2915522,
          -118.3089222,
          -118.3350902,
          -118.3461072,
          -118.3551712,
          -118.3721322,
          -118.3889982,
          -118.4042672,
          -118.4245882,
          -118.4342462,
          -118.4529082,
          -118.4691322,
          -118.4803842,
          -118.4913962
         ],
         "mode": "lines",
         "name": "E",
         "showlegend": true,
         "subplot": "mapbox",
         "type": "scattermapbox"
        },
        {
         "hovertemplate": "<b>%{hovertext}</b><br><br>Line=G<br>Latitude=%{lat}<br>Longitude=%{lon}<extra></extra>",
         "hovertext": [
          "Chatsworth Metro Station",
          "Nordhoff Metro Station North Bound",
          "Nordhoff Metro Station South Bound",
          "Roscoe Metro Station North Bound",
          "Roscoe Metro Station South Bound",
          "Sherman Way Metro Station",
          "Canoga Metro Station North-South",
          "Warner Center Metro Station",
          "Canoga Metro Station East-West",
          "De Soto Metro Station",
          "Pierce College Metro Station",
          "Tampa Metro Station",
          "Reseda Metro Station",
          "Balboa Metro Station",
          "Woodley Metro Station",
          "Sepulveda Metro Station",
          "Van Nuys Metro Station",
          "Woodman Metro Station",
          "Valley College Metro Station",
          "Laurel Canyon Metro Station",
          "North Hollywood Metro Station"
         ],
         "lat": [
          34.2521972,
          34.23592131,
          34.23498563,
          34.22047153,
          34.21937541,
          34.20050779,
          34.19136029,
          34.18154485,
          34.19056485,
          34.18871485,
          34.18696485,
          34.18105485,
          34.18045485,
          34.18600486,
          34.18631486,
          34.18085486,
          34.18046486,
          34.17899486,
          34.17176486,
          34.16856486,
          34.16881486
         ],
         "legendgroup": "G",
         "line": {
          "color": "#19d3f3"
         },
         "lon": [
          -118.5993797,
          -118.5971927,
          -118.5971931,
          -118.5970328,
          -118.5970485,
          -118.5971486,
          -118.5964455,
          -118.6014123,
          -118.5968923,
          -118.5887023,
          -118.5705623,
          -118.5530923,
          -118.5365023,
          -118.5005822,
          -118.4841522,
          -118.4687622,
          -118.4481522,
          -118.4297122,
          -118.4220922,
          -118.3970522,
          -118.3775322
         ],
         "mode": "lines",
         "name": "G",
         "showlegend": true,
         "subplot": "mapbox",
         "type": "scattermapbox"
        },
        {
         "hovertemplate": "<b>%{hovertext}</b><br><br>Line=K<br>Latitude=%{lat}<br>Longitude=%{lon}<extra></extra>",
         "hovertext": [
          "Expo/Crenshaw Station",
          "Martin Luther King Jr Station",
          "Leimert Park Station",
          "Hyde Park Station",
          "Fairview Heights Station",
          "Downtown Inglewood Station",
          "Westchester/Veterans Station",
          "LAX/Metro Transit Center Station",
          "Aviation/Century Station",
          "Aviation/LAX Station"
         ],
         "lat": [
          34.02245314,
          34.01016656,
          34.00458152,
          33.98828975,
          33.97528429,
          33.96729917,
          33.96202081,
          33.94962547,
          33.94567805,
          33.92963484
         ],
         "legendgroup": "K",
         "line": {
          "color": "#FF6692"
         },
         "lon": [
          -118.3350902,
          -118.335347,
          -118.3326646,
          -118.3308357,
          -118.3360302,
          -118.3513927,
          -118.3744553,
          -118.378663,
          -118.3787027,
          -118.3772708
         ],
         "mode": "lines",
         "name": "K",
         "showlegend": true,
         "subplot": "mapbox",
         "type": "scattermapbox"
        }
       ],
       "layout": {
        "height": 800,
        "legend": {
         "title": {
          "text": "Line"
         },
         "tracegroupgap": 0
        },
        "mapbox": {
         "center": {
          "lat": 34.04042933499999,
          "lon": -118.29805459857141
         },
         "domain": {
          "x": [
           0,
           1
          ],
          "y": [
           0,
           1
          ]
         },
         "style": "carto-positron",
         "zoom": 8.8
        },
        "template": {
         "data": {
          "bar": [
           {
            "error_x": {
             "color": "#2a3f5f"
            },
            "error_y": {
             "color": "#2a3f5f"
            },
            "marker": {
             "line": {
              "color": "#E5ECF6",
              "width": 0.5
             },
             "pattern": {
              "fillmode": "overlay",
              "size": 10,
              "solidity": 0.2
             }
            },
            "type": "bar"
           }
          ],
          "barpolar": [
           {
            "marker": {
             "line": {
              "color": "#E5ECF6",
              "width": 0.5
             },
             "pattern": {
              "fillmode": "overlay",
              "size": 10,
              "solidity": 0.2
             }
            },
            "type": "barpolar"
           }
          ],
          "carpet": [
           {
            "aaxis": {
             "endlinecolor": "#2a3f5f",
             "gridcolor": "white",
             "linecolor": "white",
             "minorgridcolor": "white",
             "startlinecolor": "#2a3f5f"
            },
            "baxis": {
             "endlinecolor": "#2a3f5f",
             "gridcolor": "white",
             "linecolor": "white",
             "minorgridcolor": "white",
             "startlinecolor": "#2a3f5f"
            },
            "type": "carpet"
           }
          ],
          "choropleth": [
           {
            "colorbar": {
             "outlinewidth": 0,
             "ticks": ""
            },
            "type": "choropleth"
           }
          ],
          "contour": [
           {
            "colorbar": {
             "outlinewidth": 0,
             "ticks": ""
            },
            "colorscale": [
             [
              0,
              "#0d0887"
             ],
             [
              0.1111111111111111,
              "#46039f"
             ],
             [
              0.2222222222222222,
              "#7201a8"
             ],
             [
              0.3333333333333333,
              "#9c179e"
             ],
             [
              0.4444444444444444,
              "#bd3786"
             ],
             [
              0.5555555555555556,
              "#d8576b"
             ],
             [
              0.6666666666666666,
              "#ed7953"
             ],
             [
              0.7777777777777778,
              "#fb9f3a"
             ],
             [
              0.8888888888888888,
              "#fdca26"
             ],
             [
              1,
              "#f0f921"
             ]
            ],
            "type": "contour"
           }
          ],
          "contourcarpet": [
           {
            "colorbar": {
             "outlinewidth": 0,
             "ticks": ""
            },
            "type": "contourcarpet"
           }
          ],
          "heatmap": [
           {
            "colorbar": {
             "outlinewidth": 0,
             "ticks": ""
            },
            "colorscale": [
             [
              0,
              "#0d0887"
             ],
             [
              0.1111111111111111,
              "#46039f"
             ],
             [
              0.2222222222222222,
              "#7201a8"
             ],
             [
              0.3333333333333333,
              "#9c179e"
             ],
             [
              0.4444444444444444,
              "#bd3786"
             ],
             [
              0.5555555555555556,
              "#d8576b"
             ],
             [
              0.6666666666666666,
              "#ed7953"
             ],
             [
              0.7777777777777778,
              "#fb9f3a"
             ],
             [
              0.8888888888888888,
              "#fdca26"
             ],
             [
              1,
              "#f0f921"
             ]
            ],
            "type": "heatmap"
           }
          ],
          "heatmapgl": [
           {
            "colorbar": {
             "outlinewidth": 0,
             "ticks": ""
            },
            "colorscale": [
             [
              0,
              "#0d0887"
             ],
             [
              0.1111111111111111,
              "#46039f"
             ],
             [
              0.2222222222222222,
              "#7201a8"
             ],
             [
              0.3333333333333333,
              "#9c179e"
             ],
             [
              0.4444444444444444,
              "#bd3786"
             ],
             [
              0.5555555555555556,
              "#d8576b"
             ],
             [
              0.6666666666666666,
              "#ed7953"
             ],
             [
              0.7777777777777778,
              "#fb9f3a"
             ],
             [
              0.8888888888888888,
              "#fdca26"
             ],
             [
              1,
              "#f0f921"
             ]
            ],
            "type": "heatmapgl"
           }
          ],
          "histogram": [
           {
            "marker": {
             "pattern": {
              "fillmode": "overlay",
              "size": 10,
              "solidity": 0.2
             }
            },
            "type": "histogram"
           }
          ],
          "histogram2d": [
           {
            "colorbar": {
             "outlinewidth": 0,
             "ticks": ""
            },
            "colorscale": [
             [
              0,
              "#0d0887"
             ],
             [
              0.1111111111111111,
              "#46039f"
             ],
             [
              0.2222222222222222,
              "#7201a8"
             ],
             [
              0.3333333333333333,
              "#9c179e"
             ],
             [
              0.4444444444444444,
              "#bd3786"
             ],
             [
              0.5555555555555556,
              "#d8576b"
             ],
             [
              0.6666666666666666,
              "#ed7953"
             ],
             [
              0.7777777777777778,
              "#fb9f3a"
             ],
             [
              0.8888888888888888,
              "#fdca26"
             ],
             [
              1,
              "#f0f921"
             ]
            ],
            "type": "histogram2d"
           }
          ],
          "histogram2dcontour": [
           {
            "colorbar": {
             "outlinewidth": 0,
             "ticks": ""
            },
            "colorscale": [
             [
              0,
              "#0d0887"
             ],
             [
              0.1111111111111111,
              "#46039f"
             ],
             [
              0.2222222222222222,
              "#7201a8"
             ],
             [
              0.3333333333333333,
              "#9c179e"
             ],
             [
              0.4444444444444444,
              "#bd3786"
             ],
             [
              0.5555555555555556,
              "#d8576b"
             ],
             [
              0.6666666666666666,
              "#ed7953"
             ],
             [
              0.7777777777777778,
              "#fb9f3a"
             ],
             [
              0.8888888888888888,
              "#fdca26"
             ],
             [
              1,
              "#f0f921"
             ]
            ],
            "type": "histogram2dcontour"
           }
          ],
          "mesh3d": [
           {
            "colorbar": {
             "outlinewidth": 0,
             "ticks": ""
            },
            "type": "mesh3d"
           }
          ],
          "parcoords": [
           {
            "line": {
             "colorbar": {
              "outlinewidth": 0,
              "ticks": ""
             }
            },
            "type": "parcoords"
           }
          ],
          "pie": [
           {
            "automargin": true,
            "type": "pie"
           }
          ],
          "scatter": [
           {
            "fillpattern": {
             "fillmode": "overlay",
             "size": 10,
             "solidity": 0.2
            },
            "type": "scatter"
           }
          ],
          "scatter3d": [
           {
            "line": {
             "colorbar": {
              "outlinewidth": 0,
              "ticks": ""
             }
            },
            "marker": {
             "colorbar": {
              "outlinewidth": 0,
              "ticks": ""
             }
            },
            "type": "scatter3d"
           }
          ],
          "scattercarpet": [
           {
            "marker": {
             "colorbar": {
              "outlinewidth": 0,
              "ticks": ""
             }
            },
            "type": "scattercarpet"
           }
          ],
          "scattergeo": [
           {
            "marker": {
             "colorbar": {
              "outlinewidth": 0,
              "ticks": ""
             }
            },
            "type": "scattergeo"
           }
          ],
          "scattergl": [
           {
            "marker": {
             "colorbar": {
              "outlinewidth": 0,
              "ticks": ""
             }
            },
            "type": "scattergl"
           }
          ],
          "scattermapbox": [
           {
            "marker": {
             "colorbar": {
              "outlinewidth": 0,
              "ticks": ""
             }
            },
            "type": "scattermapbox"
           }
          ],
          "scatterpolar": [
           {
            "marker": {
             "colorbar": {
              "outlinewidth": 0,
              "ticks": ""
             }
            },
            "type": "scatterpolar"
           }
          ],
          "scatterpolargl": [
           {
            "marker": {
             "colorbar": {
              "outlinewidth": 0,
              "ticks": ""
             }
            },
            "type": "scatterpolargl"
           }
          ],
          "scatterternary": [
           {
            "marker": {
             "colorbar": {
              "outlinewidth": 0,
              "ticks": ""
             }
            },
            "type": "scatterternary"
           }
          ],
          "surface": [
           {
            "colorbar": {
             "outlinewidth": 0,
             "ticks": ""
            },
            "colorscale": [
             [
              0,
              "#0d0887"
             ],
             [
              0.1111111111111111,
              "#46039f"
             ],
             [
              0.2222222222222222,
              "#7201a8"
             ],
             [
              0.3333333333333333,
              "#9c179e"
             ],
             [
              0.4444444444444444,
              "#bd3786"
             ],
             [
              0.5555555555555556,
              "#d8576b"
             ],
             [
              0.6666666666666666,
              "#ed7953"
             ],
             [
              0.7777777777777778,
              "#fb9f3a"
             ],
             [
              0.8888888888888888,
              "#fdca26"
             ],
             [
              1,
              "#f0f921"
             ]
            ],
            "type": "surface"
           }
          ],
          "table": [
           {
            "cells": {
             "fill": {
              "color": "#EBF0F8"
             },
             "line": {
              "color": "white"
             }
            },
            "header": {
             "fill": {
              "color": "#C8D4E3"
             },
             "line": {
              "color": "white"
             }
            },
            "type": "table"
           }
          ]
         },
         "layout": {
          "annotationdefaults": {
           "arrowcolor": "#2a3f5f",
           "arrowhead": 0,
           "arrowwidth": 1
          },
          "autotypenumbers": "strict",
          "coloraxis": {
           "colorbar": {
            "outlinewidth": 0,
            "ticks": ""
           }
          },
          "colorscale": {
           "diverging": [
            [
             0,
             "#8e0152"
            ],
            [
             0.1,
             "#c51b7d"
            ],
            [
             0.2,
             "#de77ae"
            ],
            [
             0.3,
             "#f1b6da"
            ],
            [
             0.4,
             "#fde0ef"
            ],
            [
             0.5,
             "#f7f7f7"
            ],
            [
             0.6,
             "#e6f5d0"
            ],
            [
             0.7,
             "#b8e186"
            ],
            [
             0.8,
             "#7fbc41"
            ],
            [
             0.9,
             "#4d9221"
            ],
            [
             1,
             "#276419"
            ]
           ],
           "sequential": [
            [
             0,
             "#0d0887"
            ],
            [
             0.1111111111111111,
             "#46039f"
            ],
            [
             0.2222222222222222,
             "#7201a8"
            ],
            [
             0.3333333333333333,
             "#9c179e"
            ],
            [
             0.4444444444444444,
             "#bd3786"
            ],
            [
             0.5555555555555556,
             "#d8576b"
            ],
            [
             0.6666666666666666,
             "#ed7953"
            ],
            [
             0.7777777777777778,
             "#fb9f3a"
            ],
            [
             0.8888888888888888,
             "#fdca26"
            ],
            [
             1,
             "#f0f921"
            ]
           ],
           "sequentialminus": [
            [
             0,
             "#0d0887"
            ],
            [
             0.1111111111111111,
             "#46039f"
            ],
            [
             0.2222222222222222,
             "#7201a8"
            ],
            [
             0.3333333333333333,
             "#9c179e"
            ],
            [
             0.4444444444444444,
             "#bd3786"
            ],
            [
             0.5555555555555556,
             "#d8576b"
            ],
            [
             0.6666666666666666,
             "#ed7953"
            ],
            [
             0.7777777777777778,
             "#fb9f3a"
            ],
            [
             0.8888888888888888,
             "#fdca26"
            ],
            [
             1,
             "#f0f921"
            ]
           ]
          },
          "colorway": [
           "#636efa",
           "#EF553B",
           "#00cc96",
           "#ab63fa",
           "#FFA15A",
           "#19d3f3",
           "#FF6692",
           "#B6E880",
           "#FF97FF",
           "#FECB52"
          ],
          "font": {
           "color": "#2a3f5f"
          },
          "geo": {
           "bgcolor": "white",
           "lakecolor": "white",
           "landcolor": "#E5ECF6",
           "showlakes": true,
           "showland": true,
           "subunitcolor": "white"
          },
          "hoverlabel": {
           "align": "left"
          },
          "hovermode": "closest",
          "mapbox": {
           "style": "light"
          },
          "paper_bgcolor": "white",
          "plot_bgcolor": "#E5ECF6",
          "polar": {
           "angularaxis": {
            "gridcolor": "white",
            "linecolor": "white",
            "ticks": ""
           },
           "bgcolor": "#E5ECF6",
           "radialaxis": {
            "gridcolor": "white",
            "linecolor": "white",
            "ticks": ""
           }
          },
          "scene": {
           "xaxis": {
            "backgroundcolor": "#E5ECF6",
            "gridcolor": "white",
            "gridwidth": 2,
            "linecolor": "white",
            "showbackground": true,
            "ticks": "",
            "zerolinecolor": "white"
           },
           "yaxis": {
            "backgroundcolor": "#E5ECF6",
            "gridcolor": "white",
            "gridwidth": 2,
            "linecolor": "white",
            "showbackground": true,
            "ticks": "",
            "zerolinecolor": "white"
           },
           "zaxis": {
            "backgroundcolor": "#E5ECF6",
            "gridcolor": "white",
            "gridwidth": 2,
            "linecolor": "white",
            "showbackground": true,
            "ticks": "",
            "zerolinecolor": "white"
           }
          },
          "shapedefaults": {
           "line": {
            "color": "#2a3f5f"
           }
          },
          "ternary": {
           "aaxis": {
            "gridcolor": "white",
            "linecolor": "white",
            "ticks": ""
           },
           "baxis": {
            "gridcolor": "white",
            "linecolor": "white",
            "ticks": ""
           },
           "bgcolor": "#E5ECF6",
           "caxis": {
            "gridcolor": "white",
            "linecolor": "white",
            "ticks": ""
           }
          },
          "title": {
           "x": 0.05
          },
          "xaxis": {
           "automargin": true,
           "gridcolor": "white",
           "linecolor": "white",
           "ticks": "",
           "title": {
            "standoff": 15
           },
           "zerolinecolor": "white",
           "zerolinewidth": 2
          },
          "yaxis": {
           "automargin": true,
           "gridcolor": "white",
           "linecolor": "white",
           "ticks": "",
           "title": {
            "standoff": 15
           },
           "zerolinecolor": "white",
           "zerolinewidth": 2
          }
         }
        },
        "title": {
         "text": "Approximate Graph Representation of LA Metro Lines"
        },
        "width": 800
       }
      }
     },
     "metadata": {},
     "output_type": "display_data"
    }
   ],
   "source": [
    "#line map, stations not shown\n",
    "fig = px.line_mapbox(df, \n",
    "                        lat = \"Latitude\",\n",
    "                        lon = \"Longitude\",\n",
    "                        color = \"Line\",\n",
    "                        hover_name = \"Name\",\n",
    "                        #hover_data = \"Lines\",\n",
    "                        line_group='Line',\n",
    "                        zoom = 8.8,\n",
    "                        height = 800,\n",
    "                        width = 800,\n",
    "                        title = \"Approximate Graph Representation of LA Metro Lines\",\n",
    "                        mapbox_style = \"carto-positron\")\n",
    "\n",
    "fig.show()"
   ]
  },
  {
   "cell_type": "markdown",
   "metadata": {},
   "source": [
    "And here's one showing distance from/to the nearest station. Again, I haven't quite figured out how to construct the contours based on real world distance yet so that's a bit unfortunate for now, but it's a work in progress!"
   ]
  },
  {
   "cell_type": "code",
   "execution_count": 143,
   "metadata": {},
   "outputs": [
    {
     "data": {
      "application/vnd.plotly.v1+json": {
       "config": {
        "plotlyServerURL": "https://plot.ly"
       },
       "data": [
        {
         "coloraxis": "coloraxis",
         "hovertemplate": "<b>%{hovertext}</b><br><br>Latitude=%{lat}<br>Longitude=%{lon}<extra></extra>",
         "hovertext": [
          "5th Street Station",
          "1st Street Station",
          "Downtown Long Beach Station",
          "Pacific Ave Station",
          "Anaheim Street Station",
          "Pacific Coast Hwy Station",
          "Willow Street Station",
          "Wardlow Station",
          "Del Amo Station",
          "Artesia Station",
          "Compton Station",
          "Willowbrook - Rosa Parks Station",
          "103rd Street / Watts Towers  Station",
          "Firestone Station",
          "Florence Station",
          "Slauson Station",
          "Vernon Station",
          "Washington Station",
          "San Pedro Street Station",
          "Grand / LATTC Station",
          "Pico Station",
          "7th St / Metro Center Station",
          "Grand Av Arts/Bunker Hill",
          "Historic Broadway",
          "Little Tokyo/Arts District",
          "Union Station",
          "Chinatown Station",
          "Lincoln Heights / Cypress Park Station",
          "Heritage Square / Arroyo Station",
          "Southwest Museum Station",
          "Highland Park Station",
          "South Pasadena Station",
          "Fillmore Station",
          "Del Mar Station",
          "Memorial Park Station",
          "Lake Station",
          "Allen Station",
          "Sierra Madre Villa Station",
          "Arcadia Station",
          "Monrovia Station",
          "Duarte / City of Hope Station",
          "Irwindale Station",
          "Azusa Downtown Station",
          "APU / Citrus College Station",
          "North Hollywood Station",
          "Universal / Studio City Station",
          "Hollywood / Highland Station",
          "Hollywood / Vine Station",
          "Hollywood / Western Station",
          "Vermont / Sunset Station",
          "Vermont / Santa Monica Station",
          "Vermont / Beverly Station",
          "Wilshire / Vermont Station",
          "Westlake / MacArthur Park Station",
          "7th St / Metro Center Station",
          "Pershing Square Station",
          "Civic Center / Grand Park Station",
          "Union Station",
          "Redondo Beach Station",
          "Douglas Station",
          "El Segundo Station",
          "Mariposa Station",
          "Aviation / LAX Station",
          "Hawthorne / Lennox Station",
          "Crenshaw Station",
          "Vermont / Athens Station",
          "Harbor Freeway Station",
          "Avalon Station",
          "Willowbrook - Rosa Parks Station",
          "Long Beach Blvd Station",
          "Lakewood Blvd Station",
          "Norwalk Station",
          "Wilshire / Western Station",
          "Wilshire / Normandie Station",
          "Wilshire / Vermont Station",
          "Westlake / MacArthur Park Station",
          "7th St / Metro Center Station",
          "Pershing Square Station",
          "Civic Center / Grand Park Station",
          "Union Station",
          "Atlantic Station",
          "East LA Civic Center Station",
          "Maravilla Station",
          "Indiana Station",
          "Soto Station",
          "Mariachi Plaza / Boyle Heights Station",
          "Pico / Aliso Station",
          "Little Tokyo/Arts District",
          "Historic Broadway",
          "Grand Av Arts/Bunker Hill",
          "7th St / Metro Center Station",
          "Pico Station",
          "LATTC / Ortho Institute Station",
          "Jefferson / USC Station",
          "Expo Park / USC Station",
          "Expo / Vermont Station",
          "Expo / Western Station",
          "Expo / Crenshaw Station",
          "Farmdale Station",
          "Expo / La Brea Station",
          "La Cienega / Jefferson Station",
          "Culver City Station",
          "Palms Station",
          "Westwood / Rancho Park Station",
          "Expo / Sepulveda Station",
          "Expo / Bundy Station",
          "26th St / Bergamot Station",
          "17th St / SMC Station",
          "Downtown Santa Monica Station",
          "Chatsworth Metro Station",
          "Nordhoff Metro Station North Bound",
          "Nordhoff Metro Station South Bound",
          "Roscoe Metro Station North Bound",
          "Roscoe Metro Station South Bound",
          "Sherman Way Metro Station",
          "Canoga Metro Station North-South",
          "Warner Center Metro Station",
          "Canoga Metro Station East-West",
          "De Soto Metro Station",
          "Pierce College Metro Station",
          "Tampa Metro Station",
          "Reseda Metro Station",
          "Balboa Metro Station",
          "Woodley Metro Station",
          "Sepulveda Metro Station",
          "Van Nuys Metro Station",
          "Woodman Metro Station",
          "Valley College Metro Station",
          "Laurel Canyon Metro Station",
          "North Hollywood Metro Station",
          "Expo/Crenshaw Station",
          "Martin Luther King Jr Station",
          "Leimert Park Station",
          "Hyde Park Station",
          "Fairview Heights Station",
          "Downtown Inglewood Station",
          "Westchester/Veterans Station",
          "LAX/Metro Transit Center Station",
          "Aviation/Century Station",
          "Aviation/LAX Station"
         ],
         "lat": [
          33.77360283,
          33.76874483,
          33.76807583,
          33.77226283,
          33.78183483,
          33.78909483,
          33.80708383,
          33.81986983,
          33.84822684,
          33.87608684,
          33.89749484,
          33.92805284,
          33.94222484,
          33.95961585,
          33.97374485,
          33.98876485,
          34.00292485,
          34.01965485,
          34.02681185,
          34.03315985,
          34.04073985,
          34.04861486,
          34.05475059,
          34.05203893,
          34.04884218,
          34.05606586,
          34.06386586,
          34.08095386,
          34.08723186,
          34.09824786,
          34.11118387,
          34.11519087,
          34.13352587,
          34.14191487,
          34.14836087,
          34.15181087,
          34.15242187,
          34.14775688,
          34.14286488,
          34.13315988,
          34.13252288,
          34.12905288,
          34.13586788,
          34.13681889,
          34.16850886,
          34.14000686,
          34.10155186,
          34.10163486,
          34.10174186,
          34.09771286,
          34.08991486,
          34.07653086,
          34.06270585,
          34.05637286,
          34.04863885,
          34.04932086,
          34.05490486,
          34.05620186,
          33.89464483,
          33.90530383,
          33.91606783,
          33.92320483,
          33.92962583,
          33.93341284,
          33.92520584,
          33.92868784,
          33.92871884,
          33.92746984,
          33.92826284,
          33.92488484,
          33.91307485,
          33.91403785,
          34.06169385,
          34.06175785,
          34.06270585,
          34.05637286,
          34.04863885,
          34.04932086,
          34.05490486,
          34.05620186,
          34.03340286,
          34.03336886,
          34.03332386,
          34.03430486,
          34.04375186,
          34.04721986,
          34.04763886,
          34.04884218,
          34.05203893,
          34.05475059,
          34.04861486,
          34.04073985,
          34.02911685,
          34.02212785,
          34.01823185,
          34.01824985,
          34.01833585,
          34.02253085,
          34.02398585,
          34.02480785,
          34.02635985,
          34.02790085,
          34.02932784,
          34.03682084,
          34.03541284,
          34.03170984,
          34.02799984,
          34.02315984,
          34.01401484,
          34.2521972,
          34.23592131,
          34.23498563,
          34.22047153,
          34.21937541,
          34.20050779,
          34.19136029,
          34.18154485,
          34.19056485,
          34.18871485,
          34.18696485,
          34.18105485,
          34.18045485,
          34.18600486,
          34.18631486,
          34.18085486,
          34.18046486,
          34.17899486,
          34.17176486,
          34.16856486,
          34.16881486,
          34.02245314,
          34.01016656,
          34.00458152,
          33.98828975,
          33.97528429,
          33.96729917,
          33.96202081,
          33.94962547,
          33.94567805,
          33.92963484
         ],
         "lon": [
          -118.1894242,
          -118.1893742,
          -118.1929332,
          -118.1937122,
          -118.1893962,
          -118.1893942,
          -118.1898462,
          -118.1961022,
          -118.2110292,
          -118.2225152,
          -118.2242612,
          -118.2375672,
          -118.2431712,
          -118.2432172,
          -118.2432832,
          -118.2434102,
          -118.2433152,
          -118.2430962,
          -118.2555172,
          -118.2693452,
          -118.2661302,
          -118.2588342,
          -118.2512082,
          -118.2461664,
          -118.2387869,
          -118.2347712,
          -118.2358522,
          -118.2204412,
          -118.2132252,
          -118.2067242,
          -118.1926182,
          -118.1578982,
          -118.1481382,
          -118.1482262,
          -118.1475242,
          -118.1314022,
          -118.1143602,
          -118.0812242,
          -118.0292112,
          -118.0034852,
          -117.9676922,
          -117.9325181,
          -117.9066431,
          -117.8916481,
          -118.3768202,
          -118.3627112,
          -118.3385612,
          -118.3251922,
          -118.3081292,
          -118.2917682,
          -118.2917422,
          -118.2916982,
          -118.2900942,
          -118.2748912,
          -118.2586942,
          -118.2512712,
          -118.2460692,
          -118.2342612,
          -118.3692082,
          -118.3831252,
          -118.3865512,
          -118.3875842,
          -118.3771462,
          -118.3516142,
          -118.3265622,
          -118.2917452,
          -118.2811122,
          -118.2652292,
          -118.2380642,
          -118.2099572,
          -118.1406122,
          -118.1047292,
          -118.3087682,
          -118.3014702,
          -118.2900942,
          -118.2748912,
          -118.2586942,
          -118.2512712,
          -118.2460692,
          -118.2342612,
          -118.1544812,
          -118.1612182,
          -118.1681522,
          -118.1921942,
          -118.2100732,
          -118.2196602,
          -118.2259522,
          -118.2387869,
          -118.2461664,
          -118.2512082,
          -118.2588342,
          -118.2661302,
          -118.2736152,
          -118.2781302,
          -118.2857462,
          -118.2915522,
          -118.3089222,
          -118.3350902,
          -118.3461072,
          -118.3551712,
          -118.3721322,
          -118.3889982,
          -118.4042672,
          -118.4245882,
          -118.4342462,
          -118.4529082,
          -118.4691322,
          -118.4803842,
          -118.4913962,
          -118.5993797,
          -118.5971927,
          -118.5971931,
          -118.5970328,
          -118.5970485,
          -118.5971486,
          -118.5964455,
          -118.6014123,
          -118.5968923,
          -118.5887023,
          -118.5705623,
          -118.5530923,
          -118.5365023,
          -118.5005822,
          -118.4841522,
          -118.4687622,
          -118.4481522,
          -118.4297122,
          -118.4220922,
          -118.3970522,
          -118.3775322,
          -118.3350902,
          -118.335347,
          -118.3326646,
          -118.3308357,
          -118.3360302,
          -118.3513927,
          -118.3744553,
          -118.378663,
          -118.3787027,
          -118.3772708
         ],
         "name": "",
         "opacity": 0.3,
         "radius": 15,
         "subplot": "mapbox",
         "type": "densitymapbox"
        }
       ],
       "layout": {
        "coloraxis": {
         "colorscale": [
          [
           0,
           "#0d0887"
          ],
          [
           0.1111111111111111,
           "#46039f"
          ],
          [
           0.2222222222222222,
           "#7201a8"
          ],
          [
           0.3333333333333333,
           "#9c179e"
          ],
          [
           0.4444444444444444,
           "#bd3786"
          ],
          [
           0.5555555555555556,
           "#d8576b"
          ],
          [
           0.6666666666666666,
           "#ed7953"
          ],
          [
           0.7777777777777778,
           "#fb9f3a"
          ],
          [
           0.8888888888888888,
           "#fdca26"
          ],
          [
           1,
           "#f0f921"
          ]
         ]
        },
        "height": 800,
        "legend": {
         "tracegroupgap": 0
        },
        "mapbox": {
         "center": {
          "lat": 34.04042933499999,
          "lon": -118.29805459857141
         },
         "domain": {
          "x": [
           0,
           1
          ],
          "y": [
           0,
           1
          ]
         },
         "style": "carto-positron",
         "zoom": 8.8
        },
        "template": {
         "data": {
          "bar": [
           {
            "error_x": {
             "color": "#2a3f5f"
            },
            "error_y": {
             "color": "#2a3f5f"
            },
            "marker": {
             "line": {
              "color": "#E5ECF6",
              "width": 0.5
             },
             "pattern": {
              "fillmode": "overlay",
              "size": 10,
              "solidity": 0.2
             }
            },
            "type": "bar"
           }
          ],
          "barpolar": [
           {
            "marker": {
             "line": {
              "color": "#E5ECF6",
              "width": 0.5
             },
             "pattern": {
              "fillmode": "overlay",
              "size": 10,
              "solidity": 0.2
             }
            },
            "type": "barpolar"
           }
          ],
          "carpet": [
           {
            "aaxis": {
             "endlinecolor": "#2a3f5f",
             "gridcolor": "white",
             "linecolor": "white",
             "minorgridcolor": "white",
             "startlinecolor": "#2a3f5f"
            },
            "baxis": {
             "endlinecolor": "#2a3f5f",
             "gridcolor": "white",
             "linecolor": "white",
             "minorgridcolor": "white",
             "startlinecolor": "#2a3f5f"
            },
            "type": "carpet"
           }
          ],
          "choropleth": [
           {
            "colorbar": {
             "outlinewidth": 0,
             "ticks": ""
            },
            "type": "choropleth"
           }
          ],
          "contour": [
           {
            "colorbar": {
             "outlinewidth": 0,
             "ticks": ""
            },
            "colorscale": [
             [
              0,
              "#0d0887"
             ],
             [
              0.1111111111111111,
              "#46039f"
             ],
             [
              0.2222222222222222,
              "#7201a8"
             ],
             [
              0.3333333333333333,
              "#9c179e"
             ],
             [
              0.4444444444444444,
              "#bd3786"
             ],
             [
              0.5555555555555556,
              "#d8576b"
             ],
             [
              0.6666666666666666,
              "#ed7953"
             ],
             [
              0.7777777777777778,
              "#fb9f3a"
             ],
             [
              0.8888888888888888,
              "#fdca26"
             ],
             [
              1,
              "#f0f921"
             ]
            ],
            "type": "contour"
           }
          ],
          "contourcarpet": [
           {
            "colorbar": {
             "outlinewidth": 0,
             "ticks": ""
            },
            "type": "contourcarpet"
           }
          ],
          "heatmap": [
           {
            "colorbar": {
             "outlinewidth": 0,
             "ticks": ""
            },
            "colorscale": [
             [
              0,
              "#0d0887"
             ],
             [
              0.1111111111111111,
              "#46039f"
             ],
             [
              0.2222222222222222,
              "#7201a8"
             ],
             [
              0.3333333333333333,
              "#9c179e"
             ],
             [
              0.4444444444444444,
              "#bd3786"
             ],
             [
              0.5555555555555556,
              "#d8576b"
             ],
             [
              0.6666666666666666,
              "#ed7953"
             ],
             [
              0.7777777777777778,
              "#fb9f3a"
             ],
             [
              0.8888888888888888,
              "#fdca26"
             ],
             [
              1,
              "#f0f921"
             ]
            ],
            "type": "heatmap"
           }
          ],
          "heatmapgl": [
           {
            "colorbar": {
             "outlinewidth": 0,
             "ticks": ""
            },
            "colorscale": [
             [
              0,
              "#0d0887"
             ],
             [
              0.1111111111111111,
              "#46039f"
             ],
             [
              0.2222222222222222,
              "#7201a8"
             ],
             [
              0.3333333333333333,
              "#9c179e"
             ],
             [
              0.4444444444444444,
              "#bd3786"
             ],
             [
              0.5555555555555556,
              "#d8576b"
             ],
             [
              0.6666666666666666,
              "#ed7953"
             ],
             [
              0.7777777777777778,
              "#fb9f3a"
             ],
             [
              0.8888888888888888,
              "#fdca26"
             ],
             [
              1,
              "#f0f921"
             ]
            ],
            "type": "heatmapgl"
           }
          ],
          "histogram": [
           {
            "marker": {
             "pattern": {
              "fillmode": "overlay",
              "size": 10,
              "solidity": 0.2
             }
            },
            "type": "histogram"
           }
          ],
          "histogram2d": [
           {
            "colorbar": {
             "outlinewidth": 0,
             "ticks": ""
            },
            "colorscale": [
             [
              0,
              "#0d0887"
             ],
             [
              0.1111111111111111,
              "#46039f"
             ],
             [
              0.2222222222222222,
              "#7201a8"
             ],
             [
              0.3333333333333333,
              "#9c179e"
             ],
             [
              0.4444444444444444,
              "#bd3786"
             ],
             [
              0.5555555555555556,
              "#d8576b"
             ],
             [
              0.6666666666666666,
              "#ed7953"
             ],
             [
              0.7777777777777778,
              "#fb9f3a"
             ],
             [
              0.8888888888888888,
              "#fdca26"
             ],
             [
              1,
              "#f0f921"
             ]
            ],
            "type": "histogram2d"
           }
          ],
          "histogram2dcontour": [
           {
            "colorbar": {
             "outlinewidth": 0,
             "ticks": ""
            },
            "colorscale": [
             [
              0,
              "#0d0887"
             ],
             [
              0.1111111111111111,
              "#46039f"
             ],
             [
              0.2222222222222222,
              "#7201a8"
             ],
             [
              0.3333333333333333,
              "#9c179e"
             ],
             [
              0.4444444444444444,
              "#bd3786"
             ],
             [
              0.5555555555555556,
              "#d8576b"
             ],
             [
              0.6666666666666666,
              "#ed7953"
             ],
             [
              0.7777777777777778,
              "#fb9f3a"
             ],
             [
              0.8888888888888888,
              "#fdca26"
             ],
             [
              1,
              "#f0f921"
             ]
            ],
            "type": "histogram2dcontour"
           }
          ],
          "mesh3d": [
           {
            "colorbar": {
             "outlinewidth": 0,
             "ticks": ""
            },
            "type": "mesh3d"
           }
          ],
          "parcoords": [
           {
            "line": {
             "colorbar": {
              "outlinewidth": 0,
              "ticks": ""
             }
            },
            "type": "parcoords"
           }
          ],
          "pie": [
           {
            "automargin": true,
            "type": "pie"
           }
          ],
          "scatter": [
           {
            "fillpattern": {
             "fillmode": "overlay",
             "size": 10,
             "solidity": 0.2
            },
            "type": "scatter"
           }
          ],
          "scatter3d": [
           {
            "line": {
             "colorbar": {
              "outlinewidth": 0,
              "ticks": ""
             }
            },
            "marker": {
             "colorbar": {
              "outlinewidth": 0,
              "ticks": ""
             }
            },
            "type": "scatter3d"
           }
          ],
          "scattercarpet": [
           {
            "marker": {
             "colorbar": {
              "outlinewidth": 0,
              "ticks": ""
             }
            },
            "type": "scattercarpet"
           }
          ],
          "scattergeo": [
           {
            "marker": {
             "colorbar": {
              "outlinewidth": 0,
              "ticks": ""
             }
            },
            "type": "scattergeo"
           }
          ],
          "scattergl": [
           {
            "marker": {
             "colorbar": {
              "outlinewidth": 0,
              "ticks": ""
             }
            },
            "type": "scattergl"
           }
          ],
          "scattermapbox": [
           {
            "marker": {
             "colorbar": {
              "outlinewidth": 0,
              "ticks": ""
             }
            },
            "type": "scattermapbox"
           }
          ],
          "scatterpolar": [
           {
            "marker": {
             "colorbar": {
              "outlinewidth": 0,
              "ticks": ""
             }
            },
            "type": "scatterpolar"
           }
          ],
          "scatterpolargl": [
           {
            "marker": {
             "colorbar": {
              "outlinewidth": 0,
              "ticks": ""
             }
            },
            "type": "scatterpolargl"
           }
          ],
          "scatterternary": [
           {
            "marker": {
             "colorbar": {
              "outlinewidth": 0,
              "ticks": ""
             }
            },
            "type": "scatterternary"
           }
          ],
          "surface": [
           {
            "colorbar": {
             "outlinewidth": 0,
             "ticks": ""
            },
            "colorscale": [
             [
              0,
              "#0d0887"
             ],
             [
              0.1111111111111111,
              "#46039f"
             ],
             [
              0.2222222222222222,
              "#7201a8"
             ],
             [
              0.3333333333333333,
              "#9c179e"
             ],
             [
              0.4444444444444444,
              "#bd3786"
             ],
             [
              0.5555555555555556,
              "#d8576b"
             ],
             [
              0.6666666666666666,
              "#ed7953"
             ],
             [
              0.7777777777777778,
              "#fb9f3a"
             ],
             [
              0.8888888888888888,
              "#fdca26"
             ],
             [
              1,
              "#f0f921"
             ]
            ],
            "type": "surface"
           }
          ],
          "table": [
           {
            "cells": {
             "fill": {
              "color": "#EBF0F8"
             },
             "line": {
              "color": "white"
             }
            },
            "header": {
             "fill": {
              "color": "#C8D4E3"
             },
             "line": {
              "color": "white"
             }
            },
            "type": "table"
           }
          ]
         },
         "layout": {
          "annotationdefaults": {
           "arrowcolor": "#2a3f5f",
           "arrowhead": 0,
           "arrowwidth": 1
          },
          "autotypenumbers": "strict",
          "coloraxis": {
           "colorbar": {
            "outlinewidth": 0,
            "ticks": ""
           }
          },
          "colorscale": {
           "diverging": [
            [
             0,
             "#8e0152"
            ],
            [
             0.1,
             "#c51b7d"
            ],
            [
             0.2,
             "#de77ae"
            ],
            [
             0.3,
             "#f1b6da"
            ],
            [
             0.4,
             "#fde0ef"
            ],
            [
             0.5,
             "#f7f7f7"
            ],
            [
             0.6,
             "#e6f5d0"
            ],
            [
             0.7,
             "#b8e186"
            ],
            [
             0.8,
             "#7fbc41"
            ],
            [
             0.9,
             "#4d9221"
            ],
            [
             1,
             "#276419"
            ]
           ],
           "sequential": [
            [
             0,
             "#0d0887"
            ],
            [
             0.1111111111111111,
             "#46039f"
            ],
            [
             0.2222222222222222,
             "#7201a8"
            ],
            [
             0.3333333333333333,
             "#9c179e"
            ],
            [
             0.4444444444444444,
             "#bd3786"
            ],
            [
             0.5555555555555556,
             "#d8576b"
            ],
            [
             0.6666666666666666,
             "#ed7953"
            ],
            [
             0.7777777777777778,
             "#fb9f3a"
            ],
            [
             0.8888888888888888,
             "#fdca26"
            ],
            [
             1,
             "#f0f921"
            ]
           ],
           "sequentialminus": [
            [
             0,
             "#0d0887"
            ],
            [
             0.1111111111111111,
             "#46039f"
            ],
            [
             0.2222222222222222,
             "#7201a8"
            ],
            [
             0.3333333333333333,
             "#9c179e"
            ],
            [
             0.4444444444444444,
             "#bd3786"
            ],
            [
             0.5555555555555556,
             "#d8576b"
            ],
            [
             0.6666666666666666,
             "#ed7953"
            ],
            [
             0.7777777777777778,
             "#fb9f3a"
            ],
            [
             0.8888888888888888,
             "#fdca26"
            ],
            [
             1,
             "#f0f921"
            ]
           ]
          },
          "colorway": [
           "#636efa",
           "#EF553B",
           "#00cc96",
           "#ab63fa",
           "#FFA15A",
           "#19d3f3",
           "#FF6692",
           "#B6E880",
           "#FF97FF",
           "#FECB52"
          ],
          "font": {
           "color": "#2a3f5f"
          },
          "geo": {
           "bgcolor": "white",
           "lakecolor": "white",
           "landcolor": "#E5ECF6",
           "showlakes": true,
           "showland": true,
           "subunitcolor": "white"
          },
          "hoverlabel": {
           "align": "left"
          },
          "hovermode": "closest",
          "mapbox": {
           "style": "light"
          },
          "paper_bgcolor": "white",
          "plot_bgcolor": "#E5ECF6",
          "polar": {
           "angularaxis": {
            "gridcolor": "white",
            "linecolor": "white",
            "ticks": ""
           },
           "bgcolor": "#E5ECF6",
           "radialaxis": {
            "gridcolor": "white",
            "linecolor": "white",
            "ticks": ""
           }
          },
          "scene": {
           "xaxis": {
            "backgroundcolor": "#E5ECF6",
            "gridcolor": "white",
            "gridwidth": 2,
            "linecolor": "white",
            "showbackground": true,
            "ticks": "",
            "zerolinecolor": "white"
           },
           "yaxis": {
            "backgroundcolor": "#E5ECF6",
            "gridcolor": "white",
            "gridwidth": 2,
            "linecolor": "white",
            "showbackground": true,
            "ticks": "",
            "zerolinecolor": "white"
           },
           "zaxis": {
            "backgroundcolor": "#E5ECF6",
            "gridcolor": "white",
            "gridwidth": 2,
            "linecolor": "white",
            "showbackground": true,
            "ticks": "",
            "zerolinecolor": "white"
           }
          },
          "shapedefaults": {
           "line": {
            "color": "#2a3f5f"
           }
          },
          "ternary": {
           "aaxis": {
            "gridcolor": "white",
            "linecolor": "white",
            "ticks": ""
           },
           "baxis": {
            "gridcolor": "white",
            "linecolor": "white",
            "ticks": ""
           },
           "bgcolor": "#E5ECF6",
           "caxis": {
            "gridcolor": "white",
            "linecolor": "white",
            "ticks": ""
           }
          },
          "title": {
           "x": 0.05
          },
          "xaxis": {
           "automargin": true,
           "gridcolor": "white",
           "linecolor": "white",
           "ticks": "",
           "title": {
            "standoff": 15
           },
           "zerolinecolor": "white",
           "zerolinewidth": 2
          },
          "yaxis": {
           "automargin": true,
           "gridcolor": "white",
           "linecolor": "white",
           "ticks": "",
           "title": {
            "standoff": 15
           },
           "zerolinecolor": "white",
           "zerolinewidth": 2
          }
         }
        },
        "title": {
         "text": "Areas Within Approximately 1 Mile of a LA Metro Station"
        },
        "width": 800
       }
      }
     },
     "metadata": {},
     "output_type": "display_data"
    }
   ],
   "source": [
    "#density mapbox, shows areas within a certain radius to a station. The higher the number the closer the straight line distance to a metro station\n",
    "fig = px.density_mapbox(df,\n",
    "                        lat='Latitude',\n",
    "                        lon='Longitude',\n",
    "                        radius=15,\n",
    "                        opacity=0.3,\n",
    "                        hover_name = \"Name\",\n",
    "                        zoom = 8.8,\n",
    "                        height = 800,\n",
    "                        width = 800,\n",
    "                        title = \"Areas Within Approximately 1 Mile of a LA Metro Station\",\n",
    "                        mapbox_style = \"carto-positron\")\n",
    "fig.show()"
   ]
  },
  {
   "cell_type": "code",
   "execution_count": 144,
   "metadata": {},
   "outputs": [],
   "source": [
    "Adf = pd.read_csv(\"gvRailBlueMarch2023.csv\")\n",
    "BDdf = pd.read_csv(\"gvRailRedMarch2023.csv\")\n",
    "Cdf = pd.read_csv(\"gvRailGreenMarch2023.csv\")\n",
    "Edf = pd.read_csv(\"gvRailExpoMarch2023.csv\")"
   ]
  },
  {
   "cell_type": "code",
   "execution_count": 145,
   "metadata": {},
   "outputs": [],
   "source": [
    "ARidership = int(Adf[\"MAR 2023\"][0].replace(',', ''))\n",
    "BDRidership = int(BDdf[\"MAR 2023\"][0].replace(',', ''))\n",
    "CRidership = int(Cdf[\"MAR 2023\"][0].replace(',', ''))\n",
    "ERidership = int(Edf[\"MAR 2023\"][0].replace(',', ''))"
   ]
  },
  {
   "cell_type": "code",
   "execution_count": 146,
   "metadata": {},
   "outputs": [],
   "source": [
    "df[\"Average Weekday Ridership\"] = 1"
   ]
  },
  {
   "cell_type": "code",
   "execution_count": 147,
   "metadata": {},
   "outputs": [
    {
     "name": "stderr",
     "output_type": "stream",
     "text": [
      "C:\\Users\\thele\\AppData\\Local\\Temp\\ipykernel_15780\\3405047285.py:3: SettingWithCopyWarning:\n",
      "\n",
      "\n",
      "A value is trying to be set on a copy of a slice from a DataFrame\n",
      "\n",
      "See the caveats in the documentation: https://pandas.pydata.org/pandas-docs/stable/user_guide/indexing.html#returning-a-view-versus-a-copy\n",
      "\n",
      "C:\\Users\\thele\\AppData\\Local\\Temp\\ipykernel_15780\\3405047285.py:3: SettingWithCopyWarning:\n",
      "\n",
      "\n",
      "A value is trying to be set on a copy of a slice from a DataFrame\n",
      "\n",
      "See the caveats in the documentation: https://pandas.pydata.org/pandas-docs/stable/user_guide/indexing.html#returning-a-view-versus-a-copy\n",
      "\n",
      "C:\\Users\\thele\\AppData\\Local\\Temp\\ipykernel_15780\\3405047285.py:3: SettingWithCopyWarning:\n",
      "\n",
      "\n",
      "A value is trying to be set on a copy of a slice from a DataFrame\n",
      "\n",
      "See the caveats in the documentation: https://pandas.pydata.org/pandas-docs/stable/user_guide/indexing.html#returning-a-view-versus-a-copy\n",
      "\n",
      "C:\\Users\\thele\\AppData\\Local\\Temp\\ipykernel_15780\\3405047285.py:3: SettingWithCopyWarning:\n",
      "\n",
      "\n",
      "A value is trying to be set on a copy of a slice from a DataFrame\n",
      "\n",
      "See the caveats in the documentation: https://pandas.pydata.org/pandas-docs/stable/user_guide/indexing.html#returning-a-view-versus-a-copy\n",
      "\n",
      "C:\\Users\\thele\\AppData\\Local\\Temp\\ipykernel_15780\\3405047285.py:3: SettingWithCopyWarning:\n",
      "\n",
      "\n",
      "A value is trying to be set on a copy of a slice from a DataFrame\n",
      "\n",
      "See the caveats in the documentation: https://pandas.pydata.org/pandas-docs/stable/user_guide/indexing.html#returning-a-view-versus-a-copy\n",
      "\n",
      "C:\\Users\\thele\\AppData\\Local\\Temp\\ipykernel_15780\\3405047285.py:3: SettingWithCopyWarning:\n",
      "\n",
      "\n",
      "A value is trying to be set on a copy of a slice from a DataFrame\n",
      "\n",
      "See the caveats in the documentation: https://pandas.pydata.org/pandas-docs/stable/user_guide/indexing.html#returning-a-view-versus-a-copy\n",
      "\n",
      "C:\\Users\\thele\\AppData\\Local\\Temp\\ipykernel_15780\\3405047285.py:3: SettingWithCopyWarning:\n",
      "\n",
      "\n",
      "A value is trying to be set on a copy of a slice from a DataFrame\n",
      "\n",
      "See the caveats in the documentation: https://pandas.pydata.org/pandas-docs/stable/user_guide/indexing.html#returning-a-view-versus-a-copy\n",
      "\n",
      "C:\\Users\\thele\\AppData\\Local\\Temp\\ipykernel_15780\\3405047285.py:3: SettingWithCopyWarning:\n",
      "\n",
      "\n",
      "A value is trying to be set on a copy of a slice from a DataFrame\n",
      "\n",
      "See the caveats in the documentation: https://pandas.pydata.org/pandas-docs/stable/user_guide/indexing.html#returning-a-view-versus-a-copy\n",
      "\n",
      "C:\\Users\\thele\\AppData\\Local\\Temp\\ipykernel_15780\\3405047285.py:3: SettingWithCopyWarning:\n",
      "\n",
      "\n",
      "A value is trying to be set on a copy of a slice from a DataFrame\n",
      "\n",
      "See the caveats in the documentation: https://pandas.pydata.org/pandas-docs/stable/user_guide/indexing.html#returning-a-view-versus-a-copy\n",
      "\n",
      "C:\\Users\\thele\\AppData\\Local\\Temp\\ipykernel_15780\\3405047285.py:3: SettingWithCopyWarning:\n",
      "\n",
      "\n",
      "A value is trying to be set on a copy of a slice from a DataFrame\n",
      "\n",
      "See the caveats in the documentation: https://pandas.pydata.org/pandas-docs/stable/user_guide/indexing.html#returning-a-view-versus-a-copy\n",
      "\n",
      "C:\\Users\\thele\\AppData\\Local\\Temp\\ipykernel_15780\\3405047285.py:3: SettingWithCopyWarning:\n",
      "\n",
      "\n",
      "A value is trying to be set on a copy of a slice from a DataFrame\n",
      "\n",
      "See the caveats in the documentation: https://pandas.pydata.org/pandas-docs/stable/user_guide/indexing.html#returning-a-view-versus-a-copy\n",
      "\n",
      "C:\\Users\\thele\\AppData\\Local\\Temp\\ipykernel_15780\\3405047285.py:3: SettingWithCopyWarning:\n",
      "\n",
      "\n",
      "A value is trying to be set on a copy of a slice from a DataFrame\n",
      "\n",
      "See the caveats in the documentation: https://pandas.pydata.org/pandas-docs/stable/user_guide/indexing.html#returning-a-view-versus-a-copy\n",
      "\n",
      "C:\\Users\\thele\\AppData\\Local\\Temp\\ipykernel_15780\\3405047285.py:3: SettingWithCopyWarning:\n",
      "\n",
      "\n",
      "A value is trying to be set on a copy of a slice from a DataFrame\n",
      "\n",
      "See the caveats in the documentation: https://pandas.pydata.org/pandas-docs/stable/user_guide/indexing.html#returning-a-view-versus-a-copy\n",
      "\n",
      "C:\\Users\\thele\\AppData\\Local\\Temp\\ipykernel_15780\\3405047285.py:3: SettingWithCopyWarning:\n",
      "\n",
      "\n",
      "A value is trying to be set on a copy of a slice from a DataFrame\n",
      "\n",
      "See the caveats in the documentation: https://pandas.pydata.org/pandas-docs/stable/user_guide/indexing.html#returning-a-view-versus-a-copy\n",
      "\n",
      "C:\\Users\\thele\\AppData\\Local\\Temp\\ipykernel_15780\\3405047285.py:3: SettingWithCopyWarning:\n",
      "\n",
      "\n",
      "A value is trying to be set on a copy of a slice from a DataFrame\n",
      "\n",
      "See the caveats in the documentation: https://pandas.pydata.org/pandas-docs/stable/user_guide/indexing.html#returning-a-view-versus-a-copy\n",
      "\n",
      "C:\\Users\\thele\\AppData\\Local\\Temp\\ipykernel_15780\\3405047285.py:3: SettingWithCopyWarning:\n",
      "\n",
      "\n",
      "A value is trying to be set on a copy of a slice from a DataFrame\n",
      "\n",
      "See the caveats in the documentation: https://pandas.pydata.org/pandas-docs/stable/user_guide/indexing.html#returning-a-view-versus-a-copy\n",
      "\n",
      "C:\\Users\\thele\\AppData\\Local\\Temp\\ipykernel_15780\\3405047285.py:3: SettingWithCopyWarning:\n",
      "\n",
      "\n",
      "A value is trying to be set on a copy of a slice from a DataFrame\n",
      "\n",
      "See the caveats in the documentation: https://pandas.pydata.org/pandas-docs/stable/user_guide/indexing.html#returning-a-view-versus-a-copy\n",
      "\n",
      "C:\\Users\\thele\\AppData\\Local\\Temp\\ipykernel_15780\\3405047285.py:3: SettingWithCopyWarning:\n",
      "\n",
      "\n",
      "A value is trying to be set on a copy of a slice from a DataFrame\n",
      "\n",
      "See the caveats in the documentation: https://pandas.pydata.org/pandas-docs/stable/user_guide/indexing.html#returning-a-view-versus-a-copy\n",
      "\n",
      "C:\\Users\\thele\\AppData\\Local\\Temp\\ipykernel_15780\\3405047285.py:3: SettingWithCopyWarning:\n",
      "\n",
      "\n",
      "A value is trying to be set on a copy of a slice from a DataFrame\n",
      "\n",
      "See the caveats in the documentation: https://pandas.pydata.org/pandas-docs/stable/user_guide/indexing.html#returning-a-view-versus-a-copy\n",
      "\n",
      "C:\\Users\\thele\\AppData\\Local\\Temp\\ipykernel_15780\\3405047285.py:3: SettingWithCopyWarning:\n",
      "\n",
      "\n",
      "A value is trying to be set on a copy of a slice from a DataFrame\n",
      "\n",
      "See the caveats in the documentation: https://pandas.pydata.org/pandas-docs/stable/user_guide/indexing.html#returning-a-view-versus-a-copy\n",
      "\n",
      "C:\\Users\\thele\\AppData\\Local\\Temp\\ipykernel_15780\\3405047285.py:3: SettingWithCopyWarning:\n",
      "\n",
      "\n",
      "A value is trying to be set on a copy of a slice from a DataFrame\n",
      "\n",
      "See the caveats in the documentation: https://pandas.pydata.org/pandas-docs/stable/user_guide/indexing.html#returning-a-view-versus-a-copy\n",
      "\n",
      "C:\\Users\\thele\\AppData\\Local\\Temp\\ipykernel_15780\\3405047285.py:3: SettingWithCopyWarning:\n",
      "\n",
      "\n",
      "A value is trying to be set on a copy of a slice from a DataFrame\n",
      "\n",
      "See the caveats in the documentation: https://pandas.pydata.org/pandas-docs/stable/user_guide/indexing.html#returning-a-view-versus-a-copy\n",
      "\n",
      "C:\\Users\\thele\\AppData\\Local\\Temp\\ipykernel_15780\\3405047285.py:3: SettingWithCopyWarning:\n",
      "\n",
      "\n",
      "A value is trying to be set on a copy of a slice from a DataFrame\n",
      "\n",
      "See the caveats in the documentation: https://pandas.pydata.org/pandas-docs/stable/user_guide/indexing.html#returning-a-view-versus-a-copy\n",
      "\n",
      "C:\\Users\\thele\\AppData\\Local\\Temp\\ipykernel_15780\\3405047285.py:3: SettingWithCopyWarning:\n",
      "\n",
      "\n",
      "A value is trying to be set on a copy of a slice from a DataFrame\n",
      "\n",
      "See the caveats in the documentation: https://pandas.pydata.org/pandas-docs/stable/user_guide/indexing.html#returning-a-view-versus-a-copy\n",
      "\n",
      "C:\\Users\\thele\\AppData\\Local\\Temp\\ipykernel_15780\\3405047285.py:3: SettingWithCopyWarning:\n",
      "\n",
      "\n",
      "A value is trying to be set on a copy of a slice from a DataFrame\n",
      "\n",
      "See the caveats in the documentation: https://pandas.pydata.org/pandas-docs/stable/user_guide/indexing.html#returning-a-view-versus-a-copy\n",
      "\n",
      "C:\\Users\\thele\\AppData\\Local\\Temp\\ipykernel_15780\\3405047285.py:3: SettingWithCopyWarning:\n",
      "\n",
      "\n",
      "A value is trying to be set on a copy of a slice from a DataFrame\n",
      "\n",
      "See the caveats in the documentation: https://pandas.pydata.org/pandas-docs/stable/user_guide/indexing.html#returning-a-view-versus-a-copy\n",
      "\n",
      "C:\\Users\\thele\\AppData\\Local\\Temp\\ipykernel_15780\\3405047285.py:3: SettingWithCopyWarning:\n",
      "\n",
      "\n",
      "A value is trying to be set on a copy of a slice from a DataFrame\n",
      "\n",
      "See the caveats in the documentation: https://pandas.pydata.org/pandas-docs/stable/user_guide/indexing.html#returning-a-view-versus-a-copy\n",
      "\n",
      "C:\\Users\\thele\\AppData\\Local\\Temp\\ipykernel_15780\\3405047285.py:3: SettingWithCopyWarning:\n",
      "\n",
      "\n",
      "A value is trying to be set on a copy of a slice from a DataFrame\n",
      "\n",
      "See the caveats in the documentation: https://pandas.pydata.org/pandas-docs/stable/user_guide/indexing.html#returning-a-view-versus-a-copy\n",
      "\n",
      "C:\\Users\\thele\\AppData\\Local\\Temp\\ipykernel_15780\\3405047285.py:3: SettingWithCopyWarning:\n",
      "\n",
      "\n",
      "A value is trying to be set on a copy of a slice from a DataFrame\n",
      "\n",
      "See the caveats in the documentation: https://pandas.pydata.org/pandas-docs/stable/user_guide/indexing.html#returning-a-view-versus-a-copy\n",
      "\n",
      "C:\\Users\\thele\\AppData\\Local\\Temp\\ipykernel_15780\\3405047285.py:3: SettingWithCopyWarning:\n",
      "\n",
      "\n",
      "A value is trying to be set on a copy of a slice from a DataFrame\n",
      "\n",
      "See the caveats in the documentation: https://pandas.pydata.org/pandas-docs/stable/user_guide/indexing.html#returning-a-view-versus-a-copy\n",
      "\n",
      "C:\\Users\\thele\\AppData\\Local\\Temp\\ipykernel_15780\\3405047285.py:3: SettingWithCopyWarning:\n",
      "\n",
      "\n",
      "A value is trying to be set on a copy of a slice from a DataFrame\n",
      "\n",
      "See the caveats in the documentation: https://pandas.pydata.org/pandas-docs/stable/user_guide/indexing.html#returning-a-view-versus-a-copy\n",
      "\n",
      "C:\\Users\\thele\\AppData\\Local\\Temp\\ipykernel_15780\\3405047285.py:3: SettingWithCopyWarning:\n",
      "\n",
      "\n",
      "A value is trying to be set on a copy of a slice from a DataFrame\n",
      "\n",
      "See the caveats in the documentation: https://pandas.pydata.org/pandas-docs/stable/user_guide/indexing.html#returning-a-view-versus-a-copy\n",
      "\n",
      "C:\\Users\\thele\\AppData\\Local\\Temp\\ipykernel_15780\\3405047285.py:3: SettingWithCopyWarning:\n",
      "\n",
      "\n",
      "A value is trying to be set on a copy of a slice from a DataFrame\n",
      "\n",
      "See the caveats in the documentation: https://pandas.pydata.org/pandas-docs/stable/user_guide/indexing.html#returning-a-view-versus-a-copy\n",
      "\n",
      "C:\\Users\\thele\\AppData\\Local\\Temp\\ipykernel_15780\\3405047285.py:3: SettingWithCopyWarning:\n",
      "\n",
      "\n",
      "A value is trying to be set on a copy of a slice from a DataFrame\n",
      "\n",
      "See the caveats in the documentation: https://pandas.pydata.org/pandas-docs/stable/user_guide/indexing.html#returning-a-view-versus-a-copy\n",
      "\n",
      "C:\\Users\\thele\\AppData\\Local\\Temp\\ipykernel_15780\\3405047285.py:3: SettingWithCopyWarning:\n",
      "\n",
      "\n",
      "A value is trying to be set on a copy of a slice from a DataFrame\n",
      "\n",
      "See the caveats in the documentation: https://pandas.pydata.org/pandas-docs/stable/user_guide/indexing.html#returning-a-view-versus-a-copy\n",
      "\n",
      "C:\\Users\\thele\\AppData\\Local\\Temp\\ipykernel_15780\\3405047285.py:3: SettingWithCopyWarning:\n",
      "\n",
      "\n",
      "A value is trying to be set on a copy of a slice from a DataFrame\n",
      "\n",
      "See the caveats in the documentation: https://pandas.pydata.org/pandas-docs/stable/user_guide/indexing.html#returning-a-view-versus-a-copy\n",
      "\n",
      "C:\\Users\\thele\\AppData\\Local\\Temp\\ipykernel_15780\\3405047285.py:3: SettingWithCopyWarning:\n",
      "\n",
      "\n",
      "A value is trying to be set on a copy of a slice from a DataFrame\n",
      "\n",
      "See the caveats in the documentation: https://pandas.pydata.org/pandas-docs/stable/user_guide/indexing.html#returning-a-view-versus-a-copy\n",
      "\n",
      "C:\\Users\\thele\\AppData\\Local\\Temp\\ipykernel_15780\\3405047285.py:3: SettingWithCopyWarning:\n",
      "\n",
      "\n",
      "A value is trying to be set on a copy of a slice from a DataFrame\n",
      "\n",
      "See the caveats in the documentation: https://pandas.pydata.org/pandas-docs/stable/user_guide/indexing.html#returning-a-view-versus-a-copy\n",
      "\n",
      "C:\\Users\\thele\\AppData\\Local\\Temp\\ipykernel_15780\\3405047285.py:3: SettingWithCopyWarning:\n",
      "\n",
      "\n",
      "A value is trying to be set on a copy of a slice from a DataFrame\n",
      "\n",
      "See the caveats in the documentation: https://pandas.pydata.org/pandas-docs/stable/user_guide/indexing.html#returning-a-view-versus-a-copy\n",
      "\n",
      "C:\\Users\\thele\\AppData\\Local\\Temp\\ipykernel_15780\\3405047285.py:3: SettingWithCopyWarning:\n",
      "\n",
      "\n",
      "A value is trying to be set on a copy of a slice from a DataFrame\n",
      "\n",
      "See the caveats in the documentation: https://pandas.pydata.org/pandas-docs/stable/user_guide/indexing.html#returning-a-view-versus-a-copy\n",
      "\n",
      "C:\\Users\\thele\\AppData\\Local\\Temp\\ipykernel_15780\\3405047285.py:3: SettingWithCopyWarning:\n",
      "\n",
      "\n",
      "A value is trying to be set on a copy of a slice from a DataFrame\n",
      "\n",
      "See the caveats in the documentation: https://pandas.pydata.org/pandas-docs/stable/user_guide/indexing.html#returning-a-view-versus-a-copy\n",
      "\n",
      "C:\\Users\\thele\\AppData\\Local\\Temp\\ipykernel_15780\\3405047285.py:3: SettingWithCopyWarning:\n",
      "\n",
      "\n",
      "A value is trying to be set on a copy of a slice from a DataFrame\n",
      "\n",
      "See the caveats in the documentation: https://pandas.pydata.org/pandas-docs/stable/user_guide/indexing.html#returning-a-view-versus-a-copy\n",
      "\n",
      "C:\\Users\\thele\\AppData\\Local\\Temp\\ipykernel_15780\\3405047285.py:3: SettingWithCopyWarning:\n",
      "\n",
      "\n",
      "A value is trying to be set on a copy of a slice from a DataFrame\n",
      "\n",
      "See the caveats in the documentation: https://pandas.pydata.org/pandas-docs/stable/user_guide/indexing.html#returning-a-view-versus-a-copy\n",
      "\n",
      "C:\\Users\\thele\\AppData\\Local\\Temp\\ipykernel_15780\\3405047285.py:3: SettingWithCopyWarning:\n",
      "\n",
      "\n",
      "A value is trying to be set on a copy of a slice from a DataFrame\n",
      "\n",
      "See the caveats in the documentation: https://pandas.pydata.org/pandas-docs/stable/user_guide/indexing.html#returning-a-view-versus-a-copy\n",
      "\n",
      "C:\\Users\\thele\\AppData\\Local\\Temp\\ipykernel_15780\\3405047285.py:5: SettingWithCopyWarning:\n",
      "\n",
      "\n",
      "A value is trying to be set on a copy of a slice from a DataFrame\n",
      "\n",
      "See the caveats in the documentation: https://pandas.pydata.org/pandas-docs/stable/user_guide/indexing.html#returning-a-view-versus-a-copy\n",
      "\n",
      "C:\\Users\\thele\\AppData\\Local\\Temp\\ipykernel_15780\\3405047285.py:5: SettingWithCopyWarning:\n",
      "\n",
      "\n",
      "A value is trying to be set on a copy of a slice from a DataFrame\n",
      "\n",
      "See the caveats in the documentation: https://pandas.pydata.org/pandas-docs/stable/user_guide/indexing.html#returning-a-view-versus-a-copy\n",
      "\n",
      "C:\\Users\\thele\\AppData\\Local\\Temp\\ipykernel_15780\\3405047285.py:5: SettingWithCopyWarning:\n",
      "\n",
      "\n",
      "A value is trying to be set on a copy of a slice from a DataFrame\n",
      "\n",
      "See the caveats in the documentation: https://pandas.pydata.org/pandas-docs/stable/user_guide/indexing.html#returning-a-view-versus-a-copy\n",
      "\n",
      "C:\\Users\\thele\\AppData\\Local\\Temp\\ipykernel_15780\\3405047285.py:5: SettingWithCopyWarning:\n",
      "\n",
      "\n",
      "A value is trying to be set on a copy of a slice from a DataFrame\n",
      "\n",
      "See the caveats in the documentation: https://pandas.pydata.org/pandas-docs/stable/user_guide/indexing.html#returning-a-view-versus-a-copy\n",
      "\n",
      "C:\\Users\\thele\\AppData\\Local\\Temp\\ipykernel_15780\\3405047285.py:5: SettingWithCopyWarning:\n",
      "\n",
      "\n",
      "A value is trying to be set on a copy of a slice from a DataFrame\n",
      "\n",
      "See the caveats in the documentation: https://pandas.pydata.org/pandas-docs/stable/user_guide/indexing.html#returning-a-view-versus-a-copy\n",
      "\n",
      "C:\\Users\\thele\\AppData\\Local\\Temp\\ipykernel_15780\\3405047285.py:5: SettingWithCopyWarning:\n",
      "\n",
      "\n",
      "A value is trying to be set on a copy of a slice from a DataFrame\n",
      "\n",
      "See the caveats in the documentation: https://pandas.pydata.org/pandas-docs/stable/user_guide/indexing.html#returning-a-view-versus-a-copy\n",
      "\n",
      "C:\\Users\\thele\\AppData\\Local\\Temp\\ipykernel_15780\\3405047285.py:5: SettingWithCopyWarning:\n",
      "\n",
      "\n",
      "A value is trying to be set on a copy of a slice from a DataFrame\n",
      "\n",
      "See the caveats in the documentation: https://pandas.pydata.org/pandas-docs/stable/user_guide/indexing.html#returning-a-view-versus-a-copy\n",
      "\n",
      "C:\\Users\\thele\\AppData\\Local\\Temp\\ipykernel_15780\\3405047285.py:5: SettingWithCopyWarning:\n",
      "\n",
      "\n",
      "A value is trying to be set on a copy of a slice from a DataFrame\n",
      "\n",
      "See the caveats in the documentation: https://pandas.pydata.org/pandas-docs/stable/user_guide/indexing.html#returning-a-view-versus-a-copy\n",
      "\n",
      "C:\\Users\\thele\\AppData\\Local\\Temp\\ipykernel_15780\\3405047285.py:5: SettingWithCopyWarning:\n",
      "\n",
      "\n",
      "A value is trying to be set on a copy of a slice from a DataFrame\n",
      "\n",
      "See the caveats in the documentation: https://pandas.pydata.org/pandas-docs/stable/user_guide/indexing.html#returning-a-view-versus-a-copy\n",
      "\n",
      "C:\\Users\\thele\\AppData\\Local\\Temp\\ipykernel_15780\\3405047285.py:5: SettingWithCopyWarning:\n",
      "\n",
      "\n",
      "A value is trying to be set on a copy of a slice from a DataFrame\n",
      "\n",
      "See the caveats in the documentation: https://pandas.pydata.org/pandas-docs/stable/user_guide/indexing.html#returning-a-view-versus-a-copy\n",
      "\n",
      "C:\\Users\\thele\\AppData\\Local\\Temp\\ipykernel_15780\\3405047285.py:5: SettingWithCopyWarning:\n",
      "\n",
      "\n",
      "A value is trying to be set on a copy of a slice from a DataFrame\n",
      "\n",
      "See the caveats in the documentation: https://pandas.pydata.org/pandas-docs/stable/user_guide/indexing.html#returning-a-view-versus-a-copy\n",
      "\n",
      "C:\\Users\\thele\\AppData\\Local\\Temp\\ipykernel_15780\\3405047285.py:5: SettingWithCopyWarning:\n",
      "\n",
      "\n",
      "A value is trying to be set on a copy of a slice from a DataFrame\n",
      "\n",
      "See the caveats in the documentation: https://pandas.pydata.org/pandas-docs/stable/user_guide/indexing.html#returning-a-view-versus-a-copy\n",
      "\n",
      "C:\\Users\\thele\\AppData\\Local\\Temp\\ipykernel_15780\\3405047285.py:5: SettingWithCopyWarning:\n",
      "\n",
      "\n",
      "A value is trying to be set on a copy of a slice from a DataFrame\n",
      "\n",
      "See the caveats in the documentation: https://pandas.pydata.org/pandas-docs/stable/user_guide/indexing.html#returning-a-view-versus-a-copy\n",
      "\n",
      "C:\\Users\\thele\\AppData\\Local\\Temp\\ipykernel_15780\\3405047285.py:5: SettingWithCopyWarning:\n",
      "\n",
      "\n",
      "A value is trying to be set on a copy of a slice from a DataFrame\n",
      "\n",
      "See the caveats in the documentation: https://pandas.pydata.org/pandas-docs/stable/user_guide/indexing.html#returning-a-view-versus-a-copy\n",
      "\n",
      "C:\\Users\\thele\\AppData\\Local\\Temp\\ipykernel_15780\\3405047285.py:7: SettingWithCopyWarning:\n",
      "\n",
      "\n",
      "A value is trying to be set on a copy of a slice from a DataFrame\n",
      "\n",
      "See the caveats in the documentation: https://pandas.pydata.org/pandas-docs/stable/user_guide/indexing.html#returning-a-view-versus-a-copy\n",
      "\n",
      "C:\\Users\\thele\\AppData\\Local\\Temp\\ipykernel_15780\\3405047285.py:7: SettingWithCopyWarning:\n",
      "\n",
      "\n",
      "A value is trying to be set on a copy of a slice from a DataFrame\n",
      "\n",
      "See the caveats in the documentation: https://pandas.pydata.org/pandas-docs/stable/user_guide/indexing.html#returning-a-view-versus-a-copy\n",
      "\n",
      "C:\\Users\\thele\\AppData\\Local\\Temp\\ipykernel_15780\\3405047285.py:7: SettingWithCopyWarning:\n",
      "\n",
      "\n",
      "A value is trying to be set on a copy of a slice from a DataFrame\n",
      "\n",
      "See the caveats in the documentation: https://pandas.pydata.org/pandas-docs/stable/user_guide/indexing.html#returning-a-view-versus-a-copy\n",
      "\n",
      "C:\\Users\\thele\\AppData\\Local\\Temp\\ipykernel_15780\\3405047285.py:7: SettingWithCopyWarning:\n",
      "\n",
      "\n",
      "A value is trying to be set on a copy of a slice from a DataFrame\n",
      "\n",
      "See the caveats in the documentation: https://pandas.pydata.org/pandas-docs/stable/user_guide/indexing.html#returning-a-view-versus-a-copy\n",
      "\n",
      "C:\\Users\\thele\\AppData\\Local\\Temp\\ipykernel_15780\\3405047285.py:7: SettingWithCopyWarning:\n",
      "\n",
      "\n",
      "A value is trying to be set on a copy of a slice from a DataFrame\n",
      "\n",
      "See the caveats in the documentation: https://pandas.pydata.org/pandas-docs/stable/user_guide/indexing.html#returning-a-view-versus-a-copy\n",
      "\n",
      "C:\\Users\\thele\\AppData\\Local\\Temp\\ipykernel_15780\\3405047285.py:7: SettingWithCopyWarning:\n",
      "\n",
      "\n",
      "A value is trying to be set on a copy of a slice from a DataFrame\n",
      "\n",
      "See the caveats in the documentation: https://pandas.pydata.org/pandas-docs/stable/user_guide/indexing.html#returning-a-view-versus-a-copy\n",
      "\n",
      "C:\\Users\\thele\\AppData\\Local\\Temp\\ipykernel_15780\\3405047285.py:7: SettingWithCopyWarning:\n",
      "\n",
      "\n",
      "A value is trying to be set on a copy of a slice from a DataFrame\n",
      "\n",
      "See the caveats in the documentation: https://pandas.pydata.org/pandas-docs/stable/user_guide/indexing.html#returning-a-view-versus-a-copy\n",
      "\n",
      "C:\\Users\\thele\\AppData\\Local\\Temp\\ipykernel_15780\\3405047285.py:7: SettingWithCopyWarning:\n",
      "\n",
      "\n",
      "A value is trying to be set on a copy of a slice from a DataFrame\n",
      "\n",
      "See the caveats in the documentation: https://pandas.pydata.org/pandas-docs/stable/user_guide/indexing.html#returning-a-view-versus-a-copy\n",
      "\n",
      "C:\\Users\\thele\\AppData\\Local\\Temp\\ipykernel_15780\\3405047285.py:7: SettingWithCopyWarning:\n",
      "\n",
      "\n",
      "A value is trying to be set on a copy of a slice from a DataFrame\n",
      "\n",
      "See the caveats in the documentation: https://pandas.pydata.org/pandas-docs/stable/user_guide/indexing.html#returning-a-view-versus-a-copy\n",
      "\n",
      "C:\\Users\\thele\\AppData\\Local\\Temp\\ipykernel_15780\\3405047285.py:7: SettingWithCopyWarning:\n",
      "\n",
      "\n",
      "A value is trying to be set on a copy of a slice from a DataFrame\n",
      "\n",
      "See the caveats in the documentation: https://pandas.pydata.org/pandas-docs/stable/user_guide/indexing.html#returning-a-view-versus-a-copy\n",
      "\n",
      "C:\\Users\\thele\\AppData\\Local\\Temp\\ipykernel_15780\\3405047285.py:7: SettingWithCopyWarning:\n",
      "\n",
      "\n",
      "A value is trying to be set on a copy of a slice from a DataFrame\n",
      "\n",
      "See the caveats in the documentation: https://pandas.pydata.org/pandas-docs/stable/user_guide/indexing.html#returning-a-view-versus-a-copy\n",
      "\n",
      "C:\\Users\\thele\\AppData\\Local\\Temp\\ipykernel_15780\\3405047285.py:7: SettingWithCopyWarning:\n",
      "\n",
      "\n",
      "A value is trying to be set on a copy of a slice from a DataFrame\n",
      "\n",
      "See the caveats in the documentation: https://pandas.pydata.org/pandas-docs/stable/user_guide/indexing.html#returning-a-view-versus-a-copy\n",
      "\n",
      "C:\\Users\\thele\\AppData\\Local\\Temp\\ipykernel_15780\\3405047285.py:7: SettingWithCopyWarning:\n",
      "\n",
      "\n",
      "A value is trying to be set on a copy of a slice from a DataFrame\n",
      "\n",
      "See the caveats in the documentation: https://pandas.pydata.org/pandas-docs/stable/user_guide/indexing.html#returning-a-view-versus-a-copy\n",
      "\n",
      "C:\\Users\\thele\\AppData\\Local\\Temp\\ipykernel_15780\\3405047285.py:7: SettingWithCopyWarning:\n",
      "\n",
      "\n",
      "A value is trying to be set on a copy of a slice from a DataFrame\n",
      "\n",
      "See the caveats in the documentation: https://pandas.pydata.org/pandas-docs/stable/user_guide/indexing.html#returning-a-view-versus-a-copy\n",
      "\n",
      "C:\\Users\\thele\\AppData\\Local\\Temp\\ipykernel_15780\\3405047285.py:5: SettingWithCopyWarning:\n",
      "\n",
      "\n",
      "A value is trying to be set on a copy of a slice from a DataFrame\n",
      "\n",
      "See the caveats in the documentation: https://pandas.pydata.org/pandas-docs/stable/user_guide/indexing.html#returning-a-view-versus-a-copy\n",
      "\n",
      "C:\\Users\\thele\\AppData\\Local\\Temp\\ipykernel_15780\\3405047285.py:5: SettingWithCopyWarning:\n",
      "\n",
      "\n",
      "A value is trying to be set on a copy of a slice from a DataFrame\n",
      "\n",
      "See the caveats in the documentation: https://pandas.pydata.org/pandas-docs/stable/user_guide/indexing.html#returning-a-view-versus-a-copy\n",
      "\n",
      "C:\\Users\\thele\\AppData\\Local\\Temp\\ipykernel_15780\\3405047285.py:5: SettingWithCopyWarning:\n",
      "\n",
      "\n",
      "A value is trying to be set on a copy of a slice from a DataFrame\n",
      "\n",
      "See the caveats in the documentation: https://pandas.pydata.org/pandas-docs/stable/user_guide/indexing.html#returning-a-view-versus-a-copy\n",
      "\n",
      "C:\\Users\\thele\\AppData\\Local\\Temp\\ipykernel_15780\\3405047285.py:5: SettingWithCopyWarning:\n",
      "\n",
      "\n",
      "A value is trying to be set on a copy of a slice from a DataFrame\n",
      "\n",
      "See the caveats in the documentation: https://pandas.pydata.org/pandas-docs/stable/user_guide/indexing.html#returning-a-view-versus-a-copy\n",
      "\n",
      "C:\\Users\\thele\\AppData\\Local\\Temp\\ipykernel_15780\\3405047285.py:5: SettingWithCopyWarning:\n",
      "\n",
      "\n",
      "A value is trying to be set on a copy of a slice from a DataFrame\n",
      "\n",
      "See the caveats in the documentation: https://pandas.pydata.org/pandas-docs/stable/user_guide/indexing.html#returning-a-view-versus-a-copy\n",
      "\n",
      "C:\\Users\\thele\\AppData\\Local\\Temp\\ipykernel_15780\\3405047285.py:5: SettingWithCopyWarning:\n",
      "\n",
      "\n",
      "A value is trying to be set on a copy of a slice from a DataFrame\n",
      "\n",
      "See the caveats in the documentation: https://pandas.pydata.org/pandas-docs/stable/user_guide/indexing.html#returning-a-view-versus-a-copy\n",
      "\n",
      "C:\\Users\\thele\\AppData\\Local\\Temp\\ipykernel_15780\\3405047285.py:5: SettingWithCopyWarning:\n",
      "\n",
      "\n",
      "A value is trying to be set on a copy of a slice from a DataFrame\n",
      "\n",
      "See the caveats in the documentation: https://pandas.pydata.org/pandas-docs/stable/user_guide/indexing.html#returning-a-view-versus-a-copy\n",
      "\n",
      "C:\\Users\\thele\\AppData\\Local\\Temp\\ipykernel_15780\\3405047285.py:5: SettingWithCopyWarning:\n",
      "\n",
      "\n",
      "A value is trying to be set on a copy of a slice from a DataFrame\n",
      "\n",
      "See the caveats in the documentation: https://pandas.pydata.org/pandas-docs/stable/user_guide/indexing.html#returning-a-view-versus-a-copy\n",
      "\n",
      "C:\\Users\\thele\\AppData\\Local\\Temp\\ipykernel_15780\\3405047285.py:9: SettingWithCopyWarning:\n",
      "\n",
      "\n",
      "A value is trying to be set on a copy of a slice from a DataFrame\n",
      "\n",
      "See the caveats in the documentation: https://pandas.pydata.org/pandas-docs/stable/user_guide/indexing.html#returning-a-view-versus-a-copy\n",
      "\n",
      "C:\\Users\\thele\\AppData\\Local\\Temp\\ipykernel_15780\\3405047285.py:9: SettingWithCopyWarning:\n",
      "\n",
      "\n",
      "A value is trying to be set on a copy of a slice from a DataFrame\n",
      "\n",
      "See the caveats in the documentation: https://pandas.pydata.org/pandas-docs/stable/user_guide/indexing.html#returning-a-view-versus-a-copy\n",
      "\n",
      "C:\\Users\\thele\\AppData\\Local\\Temp\\ipykernel_15780\\3405047285.py:9: SettingWithCopyWarning:\n",
      "\n",
      "\n",
      "A value is trying to be set on a copy of a slice from a DataFrame\n",
      "\n",
      "See the caveats in the documentation: https://pandas.pydata.org/pandas-docs/stable/user_guide/indexing.html#returning-a-view-versus-a-copy\n",
      "\n",
      "C:\\Users\\thele\\AppData\\Local\\Temp\\ipykernel_15780\\3405047285.py:9: SettingWithCopyWarning:\n",
      "\n",
      "\n",
      "A value is trying to be set on a copy of a slice from a DataFrame\n",
      "\n",
      "See the caveats in the documentation: https://pandas.pydata.org/pandas-docs/stable/user_guide/indexing.html#returning-a-view-versus-a-copy\n",
      "\n",
      "C:\\Users\\thele\\AppData\\Local\\Temp\\ipykernel_15780\\3405047285.py:9: SettingWithCopyWarning:\n",
      "\n",
      "\n",
      "A value is trying to be set on a copy of a slice from a DataFrame\n",
      "\n",
      "See the caveats in the documentation: https://pandas.pydata.org/pandas-docs/stable/user_guide/indexing.html#returning-a-view-versus-a-copy\n",
      "\n",
      "C:\\Users\\thele\\AppData\\Local\\Temp\\ipykernel_15780\\3405047285.py:9: SettingWithCopyWarning:\n",
      "\n",
      "\n",
      "A value is trying to be set on a copy of a slice from a DataFrame\n",
      "\n",
      "See the caveats in the documentation: https://pandas.pydata.org/pandas-docs/stable/user_guide/indexing.html#returning-a-view-versus-a-copy\n",
      "\n",
      "C:\\Users\\thele\\AppData\\Local\\Temp\\ipykernel_15780\\3405047285.py:9: SettingWithCopyWarning:\n",
      "\n",
      "\n",
      "A value is trying to be set on a copy of a slice from a DataFrame\n",
      "\n",
      "See the caveats in the documentation: https://pandas.pydata.org/pandas-docs/stable/user_guide/indexing.html#returning-a-view-versus-a-copy\n",
      "\n",
      "C:\\Users\\thele\\AppData\\Local\\Temp\\ipykernel_15780\\3405047285.py:9: SettingWithCopyWarning:\n",
      "\n",
      "\n",
      "A value is trying to be set on a copy of a slice from a DataFrame\n",
      "\n",
      "See the caveats in the documentation: https://pandas.pydata.org/pandas-docs/stable/user_guide/indexing.html#returning-a-view-versus-a-copy\n",
      "\n",
      "C:\\Users\\thele\\AppData\\Local\\Temp\\ipykernel_15780\\3405047285.py:9: SettingWithCopyWarning:\n",
      "\n",
      "\n",
      "A value is trying to be set on a copy of a slice from a DataFrame\n",
      "\n",
      "See the caveats in the documentation: https://pandas.pydata.org/pandas-docs/stable/user_guide/indexing.html#returning-a-view-versus-a-copy\n",
      "\n",
      "C:\\Users\\thele\\AppData\\Local\\Temp\\ipykernel_15780\\3405047285.py:9: SettingWithCopyWarning:\n",
      "\n",
      "\n",
      "A value is trying to be set on a copy of a slice from a DataFrame\n",
      "\n",
      "See the caveats in the documentation: https://pandas.pydata.org/pandas-docs/stable/user_guide/indexing.html#returning-a-view-versus-a-copy\n",
      "\n",
      "C:\\Users\\thele\\AppData\\Local\\Temp\\ipykernel_15780\\3405047285.py:9: SettingWithCopyWarning:\n",
      "\n",
      "\n",
      "A value is trying to be set on a copy of a slice from a DataFrame\n",
      "\n",
      "See the caveats in the documentation: https://pandas.pydata.org/pandas-docs/stable/user_guide/indexing.html#returning-a-view-versus-a-copy\n",
      "\n",
      "C:\\Users\\thele\\AppData\\Local\\Temp\\ipykernel_15780\\3405047285.py:9: SettingWithCopyWarning:\n",
      "\n",
      "\n",
      "A value is trying to be set on a copy of a slice from a DataFrame\n",
      "\n",
      "See the caveats in the documentation: https://pandas.pydata.org/pandas-docs/stable/user_guide/indexing.html#returning-a-view-versus-a-copy\n",
      "\n",
      "C:\\Users\\thele\\AppData\\Local\\Temp\\ipykernel_15780\\3405047285.py:9: SettingWithCopyWarning:\n",
      "\n",
      "\n",
      "A value is trying to be set on a copy of a slice from a DataFrame\n",
      "\n",
      "See the caveats in the documentation: https://pandas.pydata.org/pandas-docs/stable/user_guide/indexing.html#returning-a-view-versus-a-copy\n",
      "\n",
      "C:\\Users\\thele\\AppData\\Local\\Temp\\ipykernel_15780\\3405047285.py:9: SettingWithCopyWarning:\n",
      "\n",
      "\n",
      "A value is trying to be set on a copy of a slice from a DataFrame\n",
      "\n",
      "See the caveats in the documentation: https://pandas.pydata.org/pandas-docs/stable/user_guide/indexing.html#returning-a-view-versus-a-copy\n",
      "\n",
      "C:\\Users\\thele\\AppData\\Local\\Temp\\ipykernel_15780\\3405047285.py:9: SettingWithCopyWarning:\n",
      "\n",
      "\n",
      "A value is trying to be set on a copy of a slice from a DataFrame\n",
      "\n",
      "See the caveats in the documentation: https://pandas.pydata.org/pandas-docs/stable/user_guide/indexing.html#returning-a-view-versus-a-copy\n",
      "\n",
      "C:\\Users\\thele\\AppData\\Local\\Temp\\ipykernel_15780\\3405047285.py:9: SettingWithCopyWarning:\n",
      "\n",
      "\n",
      "A value is trying to be set on a copy of a slice from a DataFrame\n",
      "\n",
      "See the caveats in the documentation: https://pandas.pydata.org/pandas-docs/stable/user_guide/indexing.html#returning-a-view-versus-a-copy\n",
      "\n",
      "C:\\Users\\thele\\AppData\\Local\\Temp\\ipykernel_15780\\3405047285.py:9: SettingWithCopyWarning:\n",
      "\n",
      "\n",
      "A value is trying to be set on a copy of a slice from a DataFrame\n",
      "\n",
      "See the caveats in the documentation: https://pandas.pydata.org/pandas-docs/stable/user_guide/indexing.html#returning-a-view-versus-a-copy\n",
      "\n",
      "C:\\Users\\thele\\AppData\\Local\\Temp\\ipykernel_15780\\3405047285.py:9: SettingWithCopyWarning:\n",
      "\n",
      "\n",
      "A value is trying to be set on a copy of a slice from a DataFrame\n",
      "\n",
      "See the caveats in the documentation: https://pandas.pydata.org/pandas-docs/stable/user_guide/indexing.html#returning-a-view-versus-a-copy\n",
      "\n",
      "C:\\Users\\thele\\AppData\\Local\\Temp\\ipykernel_15780\\3405047285.py:9: SettingWithCopyWarning:\n",
      "\n",
      "\n",
      "A value is trying to be set on a copy of a slice from a DataFrame\n",
      "\n",
      "See the caveats in the documentation: https://pandas.pydata.org/pandas-docs/stable/user_guide/indexing.html#returning-a-view-versus-a-copy\n",
      "\n",
      "C:\\Users\\thele\\AppData\\Local\\Temp\\ipykernel_15780\\3405047285.py:9: SettingWithCopyWarning:\n",
      "\n",
      "\n",
      "A value is trying to be set on a copy of a slice from a DataFrame\n",
      "\n",
      "See the caveats in the documentation: https://pandas.pydata.org/pandas-docs/stable/user_guide/indexing.html#returning-a-view-versus-a-copy\n",
      "\n",
      "C:\\Users\\thele\\AppData\\Local\\Temp\\ipykernel_15780\\3405047285.py:9: SettingWithCopyWarning:\n",
      "\n",
      "\n",
      "A value is trying to be set on a copy of a slice from a DataFrame\n",
      "\n",
      "See the caveats in the documentation: https://pandas.pydata.org/pandas-docs/stable/user_guide/indexing.html#returning-a-view-versus-a-copy\n",
      "\n",
      "C:\\Users\\thele\\AppData\\Local\\Temp\\ipykernel_15780\\3405047285.py:9: SettingWithCopyWarning:\n",
      "\n",
      "\n",
      "A value is trying to be set on a copy of a slice from a DataFrame\n",
      "\n",
      "See the caveats in the documentation: https://pandas.pydata.org/pandas-docs/stable/user_guide/indexing.html#returning-a-view-versus-a-copy\n",
      "\n",
      "C:\\Users\\thele\\AppData\\Local\\Temp\\ipykernel_15780\\3405047285.py:9: SettingWithCopyWarning:\n",
      "\n",
      "\n",
      "A value is trying to be set on a copy of a slice from a DataFrame\n",
      "\n",
      "See the caveats in the documentation: https://pandas.pydata.org/pandas-docs/stable/user_guide/indexing.html#returning-a-view-versus-a-copy\n",
      "\n",
      "C:\\Users\\thele\\AppData\\Local\\Temp\\ipykernel_15780\\3405047285.py:9: SettingWithCopyWarning:\n",
      "\n",
      "\n",
      "A value is trying to be set on a copy of a slice from a DataFrame\n",
      "\n",
      "See the caveats in the documentation: https://pandas.pydata.org/pandas-docs/stable/user_guide/indexing.html#returning-a-view-versus-a-copy\n",
      "\n",
      "C:\\Users\\thele\\AppData\\Local\\Temp\\ipykernel_15780\\3405047285.py:9: SettingWithCopyWarning:\n",
      "\n",
      "\n",
      "A value is trying to be set on a copy of a slice from a DataFrame\n",
      "\n",
      "See the caveats in the documentation: https://pandas.pydata.org/pandas-docs/stable/user_guide/indexing.html#returning-a-view-versus-a-copy\n",
      "\n",
      "C:\\Users\\thele\\AppData\\Local\\Temp\\ipykernel_15780\\3405047285.py:9: SettingWithCopyWarning:\n",
      "\n",
      "\n",
      "A value is trying to be set on a copy of a slice from a DataFrame\n",
      "\n",
      "See the caveats in the documentation: https://pandas.pydata.org/pandas-docs/stable/user_guide/indexing.html#returning-a-view-versus-a-copy\n",
      "\n",
      "C:\\Users\\thele\\AppData\\Local\\Temp\\ipykernel_15780\\3405047285.py:9: SettingWithCopyWarning:\n",
      "\n",
      "\n",
      "A value is trying to be set on a copy of a slice from a DataFrame\n",
      "\n",
      "See the caveats in the documentation: https://pandas.pydata.org/pandas-docs/stable/user_guide/indexing.html#returning-a-view-versus-a-copy\n",
      "\n",
      "C:\\Users\\thele\\AppData\\Local\\Temp\\ipykernel_15780\\3405047285.py:9: SettingWithCopyWarning:\n",
      "\n",
      "\n",
      "A value is trying to be set on a copy of a slice from a DataFrame\n",
      "\n",
      "See the caveats in the documentation: https://pandas.pydata.org/pandas-docs/stable/user_guide/indexing.html#returning-a-view-versus-a-copy\n",
      "\n",
      "C:\\Users\\thele\\AppData\\Local\\Temp\\ipykernel_15780\\3405047285.py:9: SettingWithCopyWarning:\n",
      "\n",
      "\n",
      "A value is trying to be set on a copy of a slice from a DataFrame\n",
      "\n",
      "See the caveats in the documentation: https://pandas.pydata.org/pandas-docs/stable/user_guide/indexing.html#returning-a-view-versus-a-copy\n",
      "\n"
     ]
    }
   ],
   "source": [
    "for i in range(len(df)):\n",
    "    if df[\"Line\"][i] == \"A\":\n",
    "        df[\"Average Weekday Ridership\"][i] = ARidership\n",
    "    elif df[\"Line\"][i] == \"B\" or df[\"Line\"][i] == \"D\":\n",
    "        df[\"Average Weekday Ridership\"][i] = BDRidership\n",
    "    elif df[\"Line\"][i] == \"C\":\n",
    "        df[\"Average Weekday Ridership\"][i] = CRidership\n",
    "    elif df[\"Line\"][i] == \"E\":\n",
    "        df[\"Average Weekday Ridership\"][i] = ERidership"
   ]
  },
  {
   "cell_type": "code",
   "execution_count": 148,
   "metadata": {},
   "outputs": [],
   "source": [
    "df[\"Rough Line Weight\"] = (df[\"Average Weekday Ridership\"] / BDRidership) * 25"
   ]
  },
  {
   "cell_type": "code",
   "execution_count": 149,
   "metadata": {},
   "outputs": [
    {
     "data": {
      "text/html": [
       "<div>\n",
       "<style scoped>\n",
       "    .dataframe tbody tr th:only-of-type {\n",
       "        vertical-align: middle;\n",
       "    }\n",
       "\n",
       "    .dataframe tbody tr th {\n",
       "        vertical-align: top;\n",
       "    }\n",
       "\n",
       "    .dataframe thead th {\n",
       "        text-align: right;\n",
       "    }\n",
       "</style>\n",
       "<table border=\"1\" class=\"dataframe\">\n",
       "  <thead>\n",
       "    <tr style=\"text-align: right;\">\n",
       "      <th></th>\n",
       "      <th>Unnamed: 0</th>\n",
       "      <th>OBJECTID</th>\n",
       "      <th>post_id</th>\n",
       "      <th>Latitude</th>\n",
       "      <th>Longitude</th>\n",
       "      <th>Name</th>\n",
       "      <th>Lines</th>\n",
       "      <th>Line</th>\n",
       "      <th>Average Weekday Ridership</th>\n",
       "      <th>Rough Line Weight</th>\n",
       "    </tr>\n",
       "  </thead>\n",
       "  <tbody>\n",
       "    <tr>\n",
       "      <th>0</th>\n",
       "      <td>31.0</td>\n",
       "      <td>72744</td>\n",
       "      <td>3306158</td>\n",
       "      <td>33.773603</td>\n",
       "      <td>-118.189424</td>\n",
       "      <td>5th Street Station</td>\n",
       "      <td>['Blue']</td>\n",
       "      <td>A</td>\n",
       "      <td>31752</td>\n",
       "      <td>9.780439</td>\n",
       "    </tr>\n",
       "    <tr>\n",
       "      <th>1</th>\n",
       "      <td>NaN</td>\n",
       "      <td>72743</td>\n",
       "      <td>3306157</td>\n",
       "      <td>33.768745</td>\n",
       "      <td>-118.189374</td>\n",
       "      <td>1st Street Station</td>\n",
       "      <td>['Blue']</td>\n",
       "      <td>A</td>\n",
       "      <td>31752</td>\n",
       "      <td>9.780439</td>\n",
       "    </tr>\n",
       "    <tr>\n",
       "      <th>2</th>\n",
       "      <td>0.0</td>\n",
       "      <td>72713</td>\n",
       "      <td>3306127</td>\n",
       "      <td>33.768076</td>\n",
       "      <td>-118.192933</td>\n",
       "      <td>Downtown Long Beach Station</td>\n",
       "      <td>['Blue']</td>\n",
       "      <td>A</td>\n",
       "      <td>31752</td>\n",
       "      <td>9.780439</td>\n",
       "    </tr>\n",
       "    <tr>\n",
       "      <th>3</th>\n",
       "      <td>1.0</td>\n",
       "      <td>72714</td>\n",
       "      <td>3306128</td>\n",
       "      <td>33.772263</td>\n",
       "      <td>-118.193712</td>\n",
       "      <td>Pacific Ave Station</td>\n",
       "      <td>['Blue']</td>\n",
       "      <td>A</td>\n",
       "      <td>31752</td>\n",
       "      <td>9.780439</td>\n",
       "    </tr>\n",
       "    <tr>\n",
       "      <th>4</th>\n",
       "      <td>2.0</td>\n",
       "      <td>72715</td>\n",
       "      <td>3306129</td>\n",
       "      <td>33.781835</td>\n",
       "      <td>-118.189396</td>\n",
       "      <td>Anaheim Street Station</td>\n",
       "      <td>['Blue']</td>\n",
       "      <td>A</td>\n",
       "      <td>31752</td>\n",
       "      <td>9.780439</td>\n",
       "    </tr>\n",
       "    <tr>\n",
       "      <th>...</th>\n",
       "      <td>...</td>\n",
       "      <td>...</td>\n",
       "      <td>...</td>\n",
       "      <td>...</td>\n",
       "      <td>...</td>\n",
       "      <td>...</td>\n",
       "      <td>...</td>\n",
       "      <td>...</td>\n",
       "      <td>...</td>\n",
       "      <td>...</td>\n",
       "    </tr>\n",
       "    <tr>\n",
       "      <th>135</th>\n",
       "      <td>122.0</td>\n",
       "      <td>72835</td>\n",
       "      <td>3306249</td>\n",
       "      <td>33.967299</td>\n",
       "      <td>-118.351393</td>\n",
       "      <td>Downtown Inglewood Station</td>\n",
       "      <td>['K']</td>\n",
       "      <td>K</td>\n",
       "      <td>1</td>\n",
       "      <td>0.000308</td>\n",
       "    </tr>\n",
       "    <tr>\n",
       "      <th>136</th>\n",
       "      <td>123.0</td>\n",
       "      <td>72836</td>\n",
       "      <td>3306250</td>\n",
       "      <td>33.962021</td>\n",
       "      <td>-118.374455</td>\n",
       "      <td>Westchester/Veterans Station</td>\n",
       "      <td>['K']</td>\n",
       "      <td>K</td>\n",
       "      <td>1</td>\n",
       "      <td>0.000308</td>\n",
       "    </tr>\n",
       "    <tr>\n",
       "      <th>137</th>\n",
       "      <td>124.0</td>\n",
       "      <td>72837</td>\n",
       "      <td>3306251</td>\n",
       "      <td>33.949625</td>\n",
       "      <td>-118.378663</td>\n",
       "      <td>LAX/Metro Transit Center Station</td>\n",
       "      <td>['K']</td>\n",
       "      <td>K</td>\n",
       "      <td>1</td>\n",
       "      <td>0.000308</td>\n",
       "    </tr>\n",
       "    <tr>\n",
       "      <th>138</th>\n",
       "      <td>125.0</td>\n",
       "      <td>72838</td>\n",
       "      <td>3306252</td>\n",
       "      <td>33.945678</td>\n",
       "      <td>-118.378703</td>\n",
       "      <td>Aviation/Century Station</td>\n",
       "      <td>['K']</td>\n",
       "      <td>K</td>\n",
       "      <td>1</td>\n",
       "      <td>0.000308</td>\n",
       "    </tr>\n",
       "    <tr>\n",
       "      <th>139</th>\n",
       "      <td>126.0</td>\n",
       "      <td>72839</td>\n",
       "      <td>3306253</td>\n",
       "      <td>33.929635</td>\n",
       "      <td>-118.377271</td>\n",
       "      <td>Aviation/LAX Station</td>\n",
       "      <td>['K']</td>\n",
       "      <td>K</td>\n",
       "      <td>1</td>\n",
       "      <td>0.000308</td>\n",
       "    </tr>\n",
       "  </tbody>\n",
       "</table>\n",
       "<p>140 rows × 10 columns</p>\n",
       "</div>"
      ],
      "text/plain": [
       "     Unnamed: 0  OBJECTID  post_id   Latitude   Longitude  \\\n",
       "0          31.0     72744  3306158  33.773603 -118.189424   \n",
       "1           NaN     72743  3306157  33.768745 -118.189374   \n",
       "2           0.0     72713  3306127  33.768076 -118.192933   \n",
       "3           1.0     72714  3306128  33.772263 -118.193712   \n",
       "4           2.0     72715  3306129  33.781835 -118.189396   \n",
       "..          ...       ...      ...        ...         ...   \n",
       "135       122.0     72835  3306249  33.967299 -118.351393   \n",
       "136       123.0     72836  3306250  33.962021 -118.374455   \n",
       "137       124.0     72837  3306251  33.949625 -118.378663   \n",
       "138       125.0     72838  3306252  33.945678 -118.378703   \n",
       "139       126.0     72839  3306253  33.929635 -118.377271   \n",
       "\n",
       "                                 Name     Lines Line  \\\n",
       "0                  5th Street Station  ['Blue']    A   \n",
       "1                  1st Street Station  ['Blue']    A   \n",
       "2         Downtown Long Beach Station  ['Blue']    A   \n",
       "3                 Pacific Ave Station  ['Blue']    A   \n",
       "4              Anaheim Street Station  ['Blue']    A   \n",
       "..                                ...       ...  ...   \n",
       "135        Downtown Inglewood Station     ['K']    K   \n",
       "136      Westchester/Veterans Station     ['K']    K   \n",
       "137  LAX/Metro Transit Center Station     ['K']    K   \n",
       "138          Aviation/Century Station     ['K']    K   \n",
       "139              Aviation/LAX Station     ['K']    K   \n",
       "\n",
       "     Average Weekday Ridership  Rough Line Weight  \n",
       "0                        31752           9.780439  \n",
       "1                        31752           9.780439  \n",
       "2                        31752           9.780439  \n",
       "3                        31752           9.780439  \n",
       "4                        31752           9.780439  \n",
       "..                         ...                ...  \n",
       "135                          1           0.000308  \n",
       "136                          1           0.000308  \n",
       "137                          1           0.000308  \n",
       "138                          1           0.000308  \n",
       "139                          1           0.000308  \n",
       "\n",
       "[140 rows x 10 columns]"
      ]
     },
     "execution_count": 149,
     "metadata": {},
     "output_type": "execute_result"
    }
   ],
   "source": [
    "df"
   ]
  },
  {
   "cell_type": "code",
   "execution_count": 150,
   "metadata": {},
   "outputs": [
    {
     "data": {
      "application/vnd.plotly.v1+json": {
       "config": {
        "plotlyServerURL": "https://plot.ly"
       },
       "data": [
        {
         "hovertemplate": "<b>%{hovertext}</b><br><br>Line=A<br>Rough Line Weight=%{marker.size}<br>Latitude=%{lat}<br>Longitude=%{lon}<extra></extra>",
         "hovertext": [
          "5th Street Station",
          "1st Street Station",
          "Downtown Long Beach Station",
          "Pacific Ave Station",
          "Anaheim Street Station",
          "Pacific Coast Hwy Station",
          "Willow Street Station",
          "Wardlow Station",
          "Del Amo Station",
          "Artesia Station",
          "Compton Station",
          "Willowbrook - Rosa Parks Station",
          "103rd Street / Watts Towers  Station",
          "Firestone Station",
          "Florence Station",
          "Slauson Station",
          "Vernon Station",
          "Washington Station",
          "San Pedro Street Station",
          "Grand / LATTC Station",
          "Pico Station",
          "7th St / Metro Center Station",
          "Grand Av Arts/Bunker Hill",
          "Historic Broadway",
          "Little Tokyo/Arts District",
          "Union Station",
          "Chinatown Station",
          "Lincoln Heights / Cypress Park Station",
          "Heritage Square / Arroyo Station",
          "Southwest Museum Station",
          "Highland Park Station",
          "South Pasadena Station",
          "Fillmore Station",
          "Del Mar Station",
          "Memorial Park Station",
          "Lake Station",
          "Allen Station",
          "Sierra Madre Villa Station",
          "Arcadia Station",
          "Monrovia Station",
          "Duarte / City of Hope Station",
          "Irwindale Station",
          "Azusa Downtown Station",
          "APU / Citrus College Station"
         ],
         "lat": [
          33.77360283,
          33.76874483,
          33.76807583,
          33.77226283,
          33.78183483,
          33.78909483,
          33.80708383,
          33.81986983,
          33.84822684,
          33.87608684,
          33.89749484,
          33.92805284,
          33.94222484,
          33.95961585,
          33.97374485,
          33.98876485,
          34.00292485,
          34.01965485,
          34.02681185,
          34.03315985,
          34.04073985,
          34.04861486,
          34.05475059,
          34.05203893,
          34.04884218,
          34.05606586,
          34.06386586,
          34.08095386,
          34.08723186,
          34.09824786,
          34.11118387,
          34.11519087,
          34.13352587,
          34.14191487,
          34.14836087,
          34.15181087,
          34.15242187,
          34.14775688,
          34.14286488,
          34.13315988,
          34.13252288,
          34.12905288,
          34.13586788,
          34.13681889
         ],
         "legendgroup": "A",
         "lon": [
          -118.1894242,
          -118.1893742,
          -118.1929332,
          -118.1937122,
          -118.1893962,
          -118.1893942,
          -118.1898462,
          -118.1961022,
          -118.2110292,
          -118.2225152,
          -118.2242612,
          -118.2375672,
          -118.2431712,
          -118.2432172,
          -118.2432832,
          -118.2434102,
          -118.2433152,
          -118.2430962,
          -118.2555172,
          -118.2693452,
          -118.2661302,
          -118.2588342,
          -118.2512082,
          -118.2461664,
          -118.2387869,
          -118.2347712,
          -118.2358522,
          -118.2204412,
          -118.2132252,
          -118.2067242,
          -118.1926182,
          -118.1578982,
          -118.1481382,
          -118.1482262,
          -118.1475242,
          -118.1314022,
          -118.1143602,
          -118.0812242,
          -118.0292112,
          -118.0034852,
          -117.9676922,
          -117.9325181,
          -117.9066431,
          -117.8916481
         ],
         "marker": {
          "color": "#636efa",
          "size": [
           9.780439121756487,
           9.780439121756487,
           9.780439121756487,
           9.780439121756487,
           9.780439121756487,
           9.780439121756487,
           9.780439121756487,
           9.780439121756487,
           9.780439121756487,
           9.780439121756487,
           9.780439121756487,
           9.780439121756487,
           9.780439121756487,
           9.780439121756487,
           9.780439121756487,
           9.780439121756487,
           9.780439121756487,
           9.780439121756487,
           9.780439121756487,
           9.780439121756487,
           9.780439121756487,
           9.780439121756487,
           9.780439121756487,
           9.780439121756487,
           9.780439121756487,
           9.780439121756487,
           9.780439121756487,
           9.780439121756487,
           9.780439121756487,
           9.780439121756487,
           9.780439121756487,
           9.780439121756487,
           9.780439121756487,
           9.780439121756487,
           9.780439121756487,
           9.780439121756487,
           9.780439121756487,
           9.780439121756487,
           9.780439121756487,
           9.780439121756487,
           9.780439121756487,
           9.780439121756487,
           9.780439121756487,
           9.780439121756487
          ],
          "sizemode": "area",
          "sizeref": 0.0625
         },
         "mode": "markers",
         "name": "A",
         "showlegend": true,
         "subplot": "mapbox",
         "type": "scattermapbox"
        },
        {
         "hovertemplate": "<b>%{hovertext}</b><br><br>Line=B<br>Rough Line Weight=%{marker.size}<br>Latitude=%{lat}<br>Longitude=%{lon}<extra></extra>",
         "hovertext": [
          "North Hollywood Station",
          "Universal / Studio City Station",
          "Hollywood / Highland Station",
          "Hollywood / Vine Station",
          "Hollywood / Western Station",
          "Vermont / Sunset Station",
          "Vermont / Santa Monica Station",
          "Vermont / Beverly Station",
          "Wilshire / Vermont Station",
          "Westlake / MacArthur Park Station",
          "7th St / Metro Center Station",
          "Pershing Square Station",
          "Civic Center / Grand Park Station",
          "Union Station"
         ],
         "lat": [
          34.16850886,
          34.14000686,
          34.10155186,
          34.10163486,
          34.10174186,
          34.09771286,
          34.08991486,
          34.07653086,
          34.06270585,
          34.05637286,
          34.04863885,
          34.04932086,
          34.05490486,
          34.05620186
         ],
         "legendgroup": "B",
         "lon": [
          -118.3768202,
          -118.3627112,
          -118.3385612,
          -118.3251922,
          -118.3081292,
          -118.2917682,
          -118.2917422,
          -118.2916982,
          -118.2900942,
          -118.2748912,
          -118.2586942,
          -118.2512712,
          -118.2460692,
          -118.2342612
         ],
         "marker": {
          "color": "#EF553B",
          "size": [
           25,
           25,
           25,
           25,
           25,
           25,
           25,
           25,
           25,
           25,
           25,
           25,
           25,
           25
          ],
          "sizemode": "area",
          "sizeref": 0.0625
         },
         "mode": "markers",
         "name": "B",
         "showlegend": true,
         "subplot": "mapbox",
         "type": "scattermapbox"
        },
        {
         "hovertemplate": "<b>%{hovertext}</b><br><br>Line=C<br>Rough Line Weight=%{marker.size}<br>Latitude=%{lat}<br>Longitude=%{lon}<extra></extra>",
         "hovertext": [
          "Redondo Beach Station",
          "Douglas Station",
          "El Segundo Station",
          "Mariposa Station",
          "Aviation / LAX Station",
          "Hawthorne / Lennox Station",
          "Crenshaw Station",
          "Vermont / Athens Station",
          "Harbor Freeway Station",
          "Avalon Station",
          "Willowbrook - Rosa Parks Station",
          "Long Beach Blvd Station",
          "Lakewood Blvd Station",
          "Norwalk Station"
         ],
         "lat": [
          33.89464483,
          33.90530383,
          33.91606783,
          33.92320483,
          33.92962583,
          33.93341284,
          33.92520584,
          33.92868784,
          33.92871884,
          33.92746984,
          33.92826284,
          33.92488484,
          33.91307485,
          33.91403785
         ],
         "legendgroup": "C",
         "lon": [
          -118.3692082,
          -118.3831252,
          -118.3865512,
          -118.3875842,
          -118.3771462,
          -118.3516142,
          -118.3265622,
          -118.2917452,
          -118.2811122,
          -118.2652292,
          -118.2380642,
          -118.2099572,
          -118.1406122,
          -118.1047292
         ],
         "marker": {
          "color": "#00cc96",
          "size": [
           5.185000369631108,
           5.185000369631108,
           5.185000369631108,
           5.185000369631108,
           5.185000369631108,
           5.185000369631108,
           5.185000369631108,
           5.185000369631108,
           5.185000369631108,
           5.185000369631108,
           5.185000369631108,
           5.185000369631108,
           5.185000369631108,
           5.185000369631108
          ],
          "sizemode": "area",
          "sizeref": 0.0625
         },
         "mode": "markers",
         "name": "C",
         "showlegend": true,
         "subplot": "mapbox",
         "type": "scattermapbox"
        },
        {
         "hovertemplate": "<b>%{hovertext}</b><br><br>Line=D<br>Rough Line Weight=%{marker.size}<br>Latitude=%{lat}<br>Longitude=%{lon}<extra></extra>",
         "hovertext": [
          "Wilshire / Western Station",
          "Wilshire / Normandie Station",
          "Wilshire / Vermont Station",
          "Westlake / MacArthur Park Station",
          "7th St / Metro Center Station",
          "Pershing Square Station",
          "Civic Center / Grand Park Station",
          "Union Station"
         ],
         "lat": [
          34.06169385,
          34.06175785,
          34.06270585,
          34.05637286,
          34.04863885,
          34.04932086,
          34.05490486,
          34.05620186
         ],
         "legendgroup": "D",
         "lon": [
          -118.3087682,
          -118.3014702,
          -118.2900942,
          -118.2748912,
          -118.2586942,
          -118.2512712,
          -118.2460692,
          -118.2342612
         ],
         "marker": {
          "color": "#ab63fa",
          "size": [
           25,
           25,
           25,
           25,
           25,
           25,
           25,
           25
          ],
          "sizemode": "area",
          "sizeref": 0.0625
         },
         "mode": "markers",
         "name": "D",
         "showlegend": true,
         "subplot": "mapbox",
         "type": "scattermapbox"
        },
        {
         "hovertemplate": "<b>%{hovertext}</b><br><br>Line=E<br>Rough Line Weight=%{marker.size}<br>Latitude=%{lat}<br>Longitude=%{lon}<extra></extra>",
         "hovertext": [
          "Atlantic Station",
          "East LA Civic Center Station",
          "Maravilla Station",
          "Indiana Station",
          "Soto Station",
          "Mariachi Plaza / Boyle Heights Station",
          "Pico / Aliso Station",
          "Little Tokyo/Arts District",
          "Historic Broadway",
          "Grand Av Arts/Bunker Hill",
          "7th St / Metro Center Station",
          "Pico Station",
          "LATTC / Ortho Institute Station",
          "Jefferson / USC Station",
          "Expo Park / USC Station",
          "Expo / Vermont Station",
          "Expo / Western Station",
          "Expo / Crenshaw Station",
          "Farmdale Station",
          "Expo / La Brea Station",
          "La Cienega / Jefferson Station",
          "Culver City Station",
          "Palms Station",
          "Westwood / Rancho Park Station",
          "Expo / Sepulveda Station",
          "Expo / Bundy Station",
          "26th St / Bergamot Station",
          "17th St / SMC Station",
          "Downtown Santa Monica Station"
         ],
         "lat": [
          34.03340286,
          34.03336886,
          34.03332386,
          34.03430486,
          34.04375186,
          34.04721986,
          34.04763886,
          34.04884218,
          34.05203893,
          34.05475059,
          34.04861486,
          34.04073985,
          34.02911685,
          34.02212785,
          34.01823185,
          34.01824985,
          34.01833585,
          34.02253085,
          34.02398585,
          34.02480785,
          34.02635985,
          34.02790085,
          34.02932784,
          34.03682084,
          34.03541284,
          34.03170984,
          34.02799984,
          34.02315984,
          34.01401484
         ],
         "legendgroup": "E",
         "lon": [
          -118.1544812,
          -118.1612182,
          -118.1681522,
          -118.1921942,
          -118.2100732,
          -118.2196602,
          -118.2259522,
          -118.2387869,
          -118.2461664,
          -118.2512082,
          -118.2588342,
          -118.2661302,
          -118.2736152,
          -118.2781302,
          -118.2857462,
          -118.2915522,
          -118.3089222,
          -118.3350902,
          -118.3461072,
          -118.3551712,
          -118.3721322,
          -118.3889982,
          -118.4042672,
          -118.4245882,
          -118.4342462,
          -118.4529082,
          -118.4691322,
          -118.4803842,
          -118.4913962
         ],
         "marker": {
          "color": "#FFA15A",
          "size": [
           8.678322367610459,
           8.678322367610459,
           8.678322367610459,
           8.678322367610459,
           8.678322367610459,
           8.678322367610459,
           8.678322367610459,
           8.678322367610459,
           8.678322367610459,
           8.678322367610459,
           8.678322367610459,
           8.678322367610459,
           8.678322367610459,
           8.678322367610459,
           8.678322367610459,
           8.678322367610459,
           8.678322367610459,
           8.678322367610459,
           8.678322367610459,
           8.678322367610459,
           8.678322367610459,
           8.678322367610459,
           8.678322367610459,
           8.678322367610459,
           8.678322367610459,
           8.678322367610459,
           8.678322367610459,
           8.678322367610459,
           8.678322367610459
          ],
          "sizemode": "area",
          "sizeref": 0.0625
         },
         "mode": "markers",
         "name": "E",
         "showlegend": true,
         "subplot": "mapbox",
         "type": "scattermapbox"
        },
        {
         "hovertemplate": "<b>%{hovertext}</b><br><br>Line=G<br>Rough Line Weight=%{marker.size}<br>Latitude=%{lat}<br>Longitude=%{lon}<extra></extra>",
         "hovertext": [
          "Chatsworth Metro Station",
          "Nordhoff Metro Station North Bound",
          "Nordhoff Metro Station South Bound",
          "Roscoe Metro Station North Bound",
          "Roscoe Metro Station South Bound",
          "Sherman Way Metro Station",
          "Canoga Metro Station North-South",
          "Warner Center Metro Station",
          "Canoga Metro Station East-West",
          "De Soto Metro Station",
          "Pierce College Metro Station",
          "Tampa Metro Station",
          "Reseda Metro Station",
          "Balboa Metro Station",
          "Woodley Metro Station",
          "Sepulveda Metro Station",
          "Van Nuys Metro Station",
          "Woodman Metro Station",
          "Valley College Metro Station",
          "Laurel Canyon Metro Station",
          "North Hollywood Metro Station"
         ],
         "lat": [
          34.2521972,
          34.23592131,
          34.23498563,
          34.22047153,
          34.21937541,
          34.20050779,
          34.19136029,
          34.18154485,
          34.19056485,
          34.18871485,
          34.18696485,
          34.18105485,
          34.18045485,
          34.18600486,
          34.18631486,
          34.18085486,
          34.18046486,
          34.17899486,
          34.17176486,
          34.16856486,
          34.16881486
         ],
         "legendgroup": "G",
         "lon": [
          -118.5993797,
          -118.5971927,
          -118.5971931,
          -118.5970328,
          -118.5970485,
          -118.5971486,
          -118.5964455,
          -118.6014123,
          -118.5968923,
          -118.5887023,
          -118.5705623,
          -118.5530923,
          -118.5365023,
          -118.5005822,
          -118.4841522,
          -118.4687622,
          -118.4481522,
          -118.4297122,
          -118.4220922,
          -118.3970522,
          -118.3775322
         ],
         "marker": {
          "color": "#19d3f3",
          "size": [
           0.00030802592346171857,
           0.00030802592346171857,
           0.00030802592346171857,
           0.00030802592346171857,
           0.00030802592346171857,
           0.00030802592346171857,
           0.00030802592346171857,
           0.00030802592346171857,
           0.00030802592346171857,
           0.00030802592346171857,
           0.00030802592346171857,
           0.00030802592346171857,
           0.00030802592346171857,
           0.00030802592346171857,
           0.00030802592346171857,
           0.00030802592346171857,
           0.00030802592346171857,
           0.00030802592346171857,
           0.00030802592346171857,
           0.00030802592346171857,
           0.00030802592346171857
          ],
          "sizemode": "area",
          "sizeref": 0.0625
         },
         "mode": "markers",
         "name": "G",
         "showlegend": true,
         "subplot": "mapbox",
         "type": "scattermapbox"
        },
        {
         "hovertemplate": "<b>%{hovertext}</b><br><br>Line=K<br>Rough Line Weight=%{marker.size}<br>Latitude=%{lat}<br>Longitude=%{lon}<extra></extra>",
         "hovertext": [
          "Expo/Crenshaw Station",
          "Martin Luther King Jr Station",
          "Leimert Park Station",
          "Hyde Park Station",
          "Fairview Heights Station",
          "Downtown Inglewood Station",
          "Westchester/Veterans Station",
          "LAX/Metro Transit Center Station",
          "Aviation/Century Station",
          "Aviation/LAX Station"
         ],
         "lat": [
          34.02245314,
          34.01016656,
          34.00458152,
          33.98828975,
          33.97528429,
          33.96729917,
          33.96202081,
          33.94962547,
          33.94567805,
          33.92963484
         ],
         "legendgroup": "K",
         "lon": [
          -118.3350902,
          -118.335347,
          -118.3326646,
          -118.3308357,
          -118.3360302,
          -118.3513927,
          -118.3744553,
          -118.378663,
          -118.3787027,
          -118.3772708
         ],
         "marker": {
          "color": "#FF6692",
          "size": [
           0.00030802592346171857,
           0.00030802592346171857,
           0.00030802592346171857,
           0.00030802592346171857,
           0.00030802592346171857,
           0.00030802592346171857,
           0.00030802592346171857,
           0.00030802592346171857,
           0.00030802592346171857,
           0.00030802592346171857
          ],
          "sizemode": "area",
          "sizeref": 0.0625
         },
         "mode": "markers",
         "name": "K",
         "showlegend": true,
         "subplot": "mapbox",
         "type": "scattermapbox"
        }
       ],
       "layout": {
        "height": 800,
        "legend": {
         "itemsizing": "constant",
         "title": {
          "text": "Line"
         },
         "tracegroupgap": 0
        },
        "mapbox": {
         "center": {
          "lat": 34.04042933499999,
          "lon": -118.29805459857141
         },
         "domain": {
          "x": [
           0,
           1
          ],
          "y": [
           0,
           1
          ]
         },
         "style": "carto-positron",
         "zoom": 8.8
        },
        "template": {
         "data": {
          "bar": [
           {
            "error_x": {
             "color": "#2a3f5f"
            },
            "error_y": {
             "color": "#2a3f5f"
            },
            "marker": {
             "line": {
              "color": "#E5ECF6",
              "width": 0.5
             },
             "pattern": {
              "fillmode": "overlay",
              "size": 10,
              "solidity": 0.2
             }
            },
            "type": "bar"
           }
          ],
          "barpolar": [
           {
            "marker": {
             "line": {
              "color": "#E5ECF6",
              "width": 0.5
             },
             "pattern": {
              "fillmode": "overlay",
              "size": 10,
              "solidity": 0.2
             }
            },
            "type": "barpolar"
           }
          ],
          "carpet": [
           {
            "aaxis": {
             "endlinecolor": "#2a3f5f",
             "gridcolor": "white",
             "linecolor": "white",
             "minorgridcolor": "white",
             "startlinecolor": "#2a3f5f"
            },
            "baxis": {
             "endlinecolor": "#2a3f5f",
             "gridcolor": "white",
             "linecolor": "white",
             "minorgridcolor": "white",
             "startlinecolor": "#2a3f5f"
            },
            "type": "carpet"
           }
          ],
          "choropleth": [
           {
            "colorbar": {
             "outlinewidth": 0,
             "ticks": ""
            },
            "type": "choropleth"
           }
          ],
          "contour": [
           {
            "colorbar": {
             "outlinewidth": 0,
             "ticks": ""
            },
            "colorscale": [
             [
              0,
              "#0d0887"
             ],
             [
              0.1111111111111111,
              "#46039f"
             ],
             [
              0.2222222222222222,
              "#7201a8"
             ],
             [
              0.3333333333333333,
              "#9c179e"
             ],
             [
              0.4444444444444444,
              "#bd3786"
             ],
             [
              0.5555555555555556,
              "#d8576b"
             ],
             [
              0.6666666666666666,
              "#ed7953"
             ],
             [
              0.7777777777777778,
              "#fb9f3a"
             ],
             [
              0.8888888888888888,
              "#fdca26"
             ],
             [
              1,
              "#f0f921"
             ]
            ],
            "type": "contour"
           }
          ],
          "contourcarpet": [
           {
            "colorbar": {
             "outlinewidth": 0,
             "ticks": ""
            },
            "type": "contourcarpet"
           }
          ],
          "heatmap": [
           {
            "colorbar": {
             "outlinewidth": 0,
             "ticks": ""
            },
            "colorscale": [
             [
              0,
              "#0d0887"
             ],
             [
              0.1111111111111111,
              "#46039f"
             ],
             [
              0.2222222222222222,
              "#7201a8"
             ],
             [
              0.3333333333333333,
              "#9c179e"
             ],
             [
              0.4444444444444444,
              "#bd3786"
             ],
             [
              0.5555555555555556,
              "#d8576b"
             ],
             [
              0.6666666666666666,
              "#ed7953"
             ],
             [
              0.7777777777777778,
              "#fb9f3a"
             ],
             [
              0.8888888888888888,
              "#fdca26"
             ],
             [
              1,
              "#f0f921"
             ]
            ],
            "type": "heatmap"
           }
          ],
          "heatmapgl": [
           {
            "colorbar": {
             "outlinewidth": 0,
             "ticks": ""
            },
            "colorscale": [
             [
              0,
              "#0d0887"
             ],
             [
              0.1111111111111111,
              "#46039f"
             ],
             [
              0.2222222222222222,
              "#7201a8"
             ],
             [
              0.3333333333333333,
              "#9c179e"
             ],
             [
              0.4444444444444444,
              "#bd3786"
             ],
             [
              0.5555555555555556,
              "#d8576b"
             ],
             [
              0.6666666666666666,
              "#ed7953"
             ],
             [
              0.7777777777777778,
              "#fb9f3a"
             ],
             [
              0.8888888888888888,
              "#fdca26"
             ],
             [
              1,
              "#f0f921"
             ]
            ],
            "type": "heatmapgl"
           }
          ],
          "histogram": [
           {
            "marker": {
             "pattern": {
              "fillmode": "overlay",
              "size": 10,
              "solidity": 0.2
             }
            },
            "type": "histogram"
           }
          ],
          "histogram2d": [
           {
            "colorbar": {
             "outlinewidth": 0,
             "ticks": ""
            },
            "colorscale": [
             [
              0,
              "#0d0887"
             ],
             [
              0.1111111111111111,
              "#46039f"
             ],
             [
              0.2222222222222222,
              "#7201a8"
             ],
             [
              0.3333333333333333,
              "#9c179e"
             ],
             [
              0.4444444444444444,
              "#bd3786"
             ],
             [
              0.5555555555555556,
              "#d8576b"
             ],
             [
              0.6666666666666666,
              "#ed7953"
             ],
             [
              0.7777777777777778,
              "#fb9f3a"
             ],
             [
              0.8888888888888888,
              "#fdca26"
             ],
             [
              1,
              "#f0f921"
             ]
            ],
            "type": "histogram2d"
           }
          ],
          "histogram2dcontour": [
           {
            "colorbar": {
             "outlinewidth": 0,
             "ticks": ""
            },
            "colorscale": [
             [
              0,
              "#0d0887"
             ],
             [
              0.1111111111111111,
              "#46039f"
             ],
             [
              0.2222222222222222,
              "#7201a8"
             ],
             [
              0.3333333333333333,
              "#9c179e"
             ],
             [
              0.4444444444444444,
              "#bd3786"
             ],
             [
              0.5555555555555556,
              "#d8576b"
             ],
             [
              0.6666666666666666,
              "#ed7953"
             ],
             [
              0.7777777777777778,
              "#fb9f3a"
             ],
             [
              0.8888888888888888,
              "#fdca26"
             ],
             [
              1,
              "#f0f921"
             ]
            ],
            "type": "histogram2dcontour"
           }
          ],
          "mesh3d": [
           {
            "colorbar": {
             "outlinewidth": 0,
             "ticks": ""
            },
            "type": "mesh3d"
           }
          ],
          "parcoords": [
           {
            "line": {
             "colorbar": {
              "outlinewidth": 0,
              "ticks": ""
             }
            },
            "type": "parcoords"
           }
          ],
          "pie": [
           {
            "automargin": true,
            "type": "pie"
           }
          ],
          "scatter": [
           {
            "fillpattern": {
             "fillmode": "overlay",
             "size": 10,
             "solidity": 0.2
            },
            "type": "scatter"
           }
          ],
          "scatter3d": [
           {
            "line": {
             "colorbar": {
              "outlinewidth": 0,
              "ticks": ""
             }
            },
            "marker": {
             "colorbar": {
              "outlinewidth": 0,
              "ticks": ""
             }
            },
            "type": "scatter3d"
           }
          ],
          "scattercarpet": [
           {
            "marker": {
             "colorbar": {
              "outlinewidth": 0,
              "ticks": ""
             }
            },
            "type": "scattercarpet"
           }
          ],
          "scattergeo": [
           {
            "marker": {
             "colorbar": {
              "outlinewidth": 0,
              "ticks": ""
             }
            },
            "type": "scattergeo"
           }
          ],
          "scattergl": [
           {
            "marker": {
             "colorbar": {
              "outlinewidth": 0,
              "ticks": ""
             }
            },
            "type": "scattergl"
           }
          ],
          "scattermapbox": [
           {
            "marker": {
             "colorbar": {
              "outlinewidth": 0,
              "ticks": ""
             }
            },
            "type": "scattermapbox"
           }
          ],
          "scatterpolar": [
           {
            "marker": {
             "colorbar": {
              "outlinewidth": 0,
              "ticks": ""
             }
            },
            "type": "scatterpolar"
           }
          ],
          "scatterpolargl": [
           {
            "marker": {
             "colorbar": {
              "outlinewidth": 0,
              "ticks": ""
             }
            },
            "type": "scatterpolargl"
           }
          ],
          "scatterternary": [
           {
            "marker": {
             "colorbar": {
              "outlinewidth": 0,
              "ticks": ""
             }
            },
            "type": "scatterternary"
           }
          ],
          "surface": [
           {
            "colorbar": {
             "outlinewidth": 0,
             "ticks": ""
            },
            "colorscale": [
             [
              0,
              "#0d0887"
             ],
             [
              0.1111111111111111,
              "#46039f"
             ],
             [
              0.2222222222222222,
              "#7201a8"
             ],
             [
              0.3333333333333333,
              "#9c179e"
             ],
             [
              0.4444444444444444,
              "#bd3786"
             ],
             [
              0.5555555555555556,
              "#d8576b"
             ],
             [
              0.6666666666666666,
              "#ed7953"
             ],
             [
              0.7777777777777778,
              "#fb9f3a"
             ],
             [
              0.8888888888888888,
              "#fdca26"
             ],
             [
              1,
              "#f0f921"
             ]
            ],
            "type": "surface"
           }
          ],
          "table": [
           {
            "cells": {
             "fill": {
              "color": "#EBF0F8"
             },
             "line": {
              "color": "white"
             }
            },
            "header": {
             "fill": {
              "color": "#C8D4E3"
             },
             "line": {
              "color": "white"
             }
            },
            "type": "table"
           }
          ]
         },
         "layout": {
          "annotationdefaults": {
           "arrowcolor": "#2a3f5f",
           "arrowhead": 0,
           "arrowwidth": 1
          },
          "autotypenumbers": "strict",
          "coloraxis": {
           "colorbar": {
            "outlinewidth": 0,
            "ticks": ""
           }
          },
          "colorscale": {
           "diverging": [
            [
             0,
             "#8e0152"
            ],
            [
             0.1,
             "#c51b7d"
            ],
            [
             0.2,
             "#de77ae"
            ],
            [
             0.3,
             "#f1b6da"
            ],
            [
             0.4,
             "#fde0ef"
            ],
            [
             0.5,
             "#f7f7f7"
            ],
            [
             0.6,
             "#e6f5d0"
            ],
            [
             0.7,
             "#b8e186"
            ],
            [
             0.8,
             "#7fbc41"
            ],
            [
             0.9,
             "#4d9221"
            ],
            [
             1,
             "#276419"
            ]
           ],
           "sequential": [
            [
             0,
             "#0d0887"
            ],
            [
             0.1111111111111111,
             "#46039f"
            ],
            [
             0.2222222222222222,
             "#7201a8"
            ],
            [
             0.3333333333333333,
             "#9c179e"
            ],
            [
             0.4444444444444444,
             "#bd3786"
            ],
            [
             0.5555555555555556,
             "#d8576b"
            ],
            [
             0.6666666666666666,
             "#ed7953"
            ],
            [
             0.7777777777777778,
             "#fb9f3a"
            ],
            [
             0.8888888888888888,
             "#fdca26"
            ],
            [
             1,
             "#f0f921"
            ]
           ],
           "sequentialminus": [
            [
             0,
             "#0d0887"
            ],
            [
             0.1111111111111111,
             "#46039f"
            ],
            [
             0.2222222222222222,
             "#7201a8"
            ],
            [
             0.3333333333333333,
             "#9c179e"
            ],
            [
             0.4444444444444444,
             "#bd3786"
            ],
            [
             0.5555555555555556,
             "#d8576b"
            ],
            [
             0.6666666666666666,
             "#ed7953"
            ],
            [
             0.7777777777777778,
             "#fb9f3a"
            ],
            [
             0.8888888888888888,
             "#fdca26"
            ],
            [
             1,
             "#f0f921"
            ]
           ]
          },
          "colorway": [
           "#636efa",
           "#EF553B",
           "#00cc96",
           "#ab63fa",
           "#FFA15A",
           "#19d3f3",
           "#FF6692",
           "#B6E880",
           "#FF97FF",
           "#FECB52"
          ],
          "font": {
           "color": "#2a3f5f"
          },
          "geo": {
           "bgcolor": "white",
           "lakecolor": "white",
           "landcolor": "#E5ECF6",
           "showlakes": true,
           "showland": true,
           "subunitcolor": "white"
          },
          "hoverlabel": {
           "align": "left"
          },
          "hovermode": "closest",
          "mapbox": {
           "style": "light"
          },
          "paper_bgcolor": "white",
          "plot_bgcolor": "#E5ECF6",
          "polar": {
           "angularaxis": {
            "gridcolor": "white",
            "linecolor": "white",
            "ticks": ""
           },
           "bgcolor": "#E5ECF6",
           "radialaxis": {
            "gridcolor": "white",
            "linecolor": "white",
            "ticks": ""
           }
          },
          "scene": {
           "xaxis": {
            "backgroundcolor": "#E5ECF6",
            "gridcolor": "white",
            "gridwidth": 2,
            "linecolor": "white",
            "showbackground": true,
            "ticks": "",
            "zerolinecolor": "white"
           },
           "yaxis": {
            "backgroundcolor": "#E5ECF6",
            "gridcolor": "white",
            "gridwidth": 2,
            "linecolor": "white",
            "showbackground": true,
            "ticks": "",
            "zerolinecolor": "white"
           },
           "zaxis": {
            "backgroundcolor": "#E5ECF6",
            "gridcolor": "white",
            "gridwidth": 2,
            "linecolor": "white",
            "showbackground": true,
            "ticks": "",
            "zerolinecolor": "white"
           }
          },
          "shapedefaults": {
           "line": {
            "color": "#2a3f5f"
           }
          },
          "ternary": {
           "aaxis": {
            "gridcolor": "white",
            "linecolor": "white",
            "ticks": ""
           },
           "baxis": {
            "gridcolor": "white",
            "linecolor": "white",
            "ticks": ""
           },
           "bgcolor": "#E5ECF6",
           "caxis": {
            "gridcolor": "white",
            "linecolor": "white",
            "ticks": ""
           }
          },
          "title": {
           "x": 0.05
          },
          "xaxis": {
           "automargin": true,
           "gridcolor": "white",
           "linecolor": "white",
           "ticks": "",
           "title": {
            "standoff": 15
           },
           "zerolinecolor": "white",
           "zerolinewidth": 2
          },
          "yaxis": {
           "automargin": true,
           "gridcolor": "white",
           "linecolor": "white",
           "ticks": "",
           "title": {
            "standoff": 15
           },
           "zerolinecolor": "white",
           "zerolinewidth": 2
          }
         }
        },
        "title": {
         "text": "Graph Representation of LA Metro Station Locations by Line (With Ridership Weights)"
        },
        "width": 800
       }
      }
     },
     "metadata": {},
     "output_type": "display_data"
    }
   ],
   "source": [
    "#disconnected station map with line/ridership weights\n",
    "fig = px.scatter_mapbox(df, \n",
    "                        lat = \"Latitude\",\n",
    "                        lon = \"Longitude\",\n",
    "                        color = \"Line\",\n",
    "                        size = \"Rough Line Weight\",\n",
    "                        hover_name = \"Name\",\n",
    "                        #hover_data = \"Lines\",\n",
    "                        zoom = 8.8,\n",
    "                        height = 800,\n",
    "                        width = 800,\n",
    "                        title = \"Graph Representation of LA Metro Station Locations by Line (With Ridership Weights)\",\n",
    "                        mapbox_style = \"carto-positron\")\n",
    "\n",
    "fig.show()"
   ]
  },
  {
   "cell_type": "code",
   "execution_count": 151,
   "metadata": {},
   "outputs": [
    {
     "data": {
      "text/html": [
       "<div>\n",
       "<style scoped>\n",
       "    .dataframe tbody tr th:only-of-type {\n",
       "        vertical-align: middle;\n",
       "    }\n",
       "\n",
       "    .dataframe tbody tr th {\n",
       "        vertical-align: top;\n",
       "    }\n",
       "\n",
       "    .dataframe thead th {\n",
       "        text-align: right;\n",
       "    }\n",
       "</style>\n",
       "<table border=\"1\" class=\"dataframe\">\n",
       "  <thead>\n",
       "    <tr style=\"text-align: right;\">\n",
       "      <th></th>\n",
       "      <th>Unnamed: 0</th>\n",
       "      <th>stop_id</th>\n",
       "      <th>stop_code</th>\n",
       "      <th>stop_name</th>\n",
       "      <th>stop_desc</th>\n",
       "      <th>stop_lat</th>\n",
       "      <th>stop_lon</th>\n",
       "      <th>stop_url</th>\n",
       "      <th>location_type</th>\n",
       "      <th>parent_station</th>\n",
       "      <th>tpis_name</th>\n",
       "    </tr>\n",
       "  </thead>\n",
       "  <tbody>\n",
       "    <tr>\n",
       "      <th>0</th>\n",
       "      <td>0</td>\n",
       "      <td>80101</td>\n",
       "      <td>80101</td>\n",
       "      <td>Downtown Long Beach Station</td>\n",
       "      <td>NaN</td>\n",
       "      <td>33.768071</td>\n",
       "      <td>-118.192921</td>\n",
       "      <td>NaN</td>\n",
       "      <td>0</td>\n",
       "      <td>80101S</td>\n",
       "      <td>Long Bch</td>\n",
       "    </tr>\n",
       "    <tr>\n",
       "      <th>1</th>\n",
       "      <td>4</td>\n",
       "      <td>80102</td>\n",
       "      <td>80102</td>\n",
       "      <td>Pacific Ave Station</td>\n",
       "      <td>NaN</td>\n",
       "      <td>33.772258</td>\n",
       "      <td>-118.193700</td>\n",
       "      <td>NaN</td>\n",
       "      <td>0</td>\n",
       "      <td>80102S</td>\n",
       "      <td>Pacific</td>\n",
       "    </tr>\n",
       "    <tr>\n",
       "      <th>2</th>\n",
       "      <td>8</td>\n",
       "      <td>80105</td>\n",
       "      <td>80105</td>\n",
       "      <td>Anaheim Street Station</td>\n",
       "      <td>NaN</td>\n",
       "      <td>33.781830</td>\n",
       "      <td>-118.189384</td>\n",
       "      <td>NaN</td>\n",
       "      <td>0</td>\n",
       "      <td>80105S</td>\n",
       "      <td>Anaheim</td>\n",
       "    </tr>\n",
       "    <tr>\n",
       "      <th>3</th>\n",
       "      <td>12</td>\n",
       "      <td>80106</td>\n",
       "      <td>80106</td>\n",
       "      <td>Pacific Coast Hwy Station</td>\n",
       "      <td>NaN</td>\n",
       "      <td>33.789090</td>\n",
       "      <td>-118.189382</td>\n",
       "      <td>NaN</td>\n",
       "      <td>0</td>\n",
       "      <td>80106S</td>\n",
       "      <td>PCH</td>\n",
       "    </tr>\n",
       "    <tr>\n",
       "      <th>4</th>\n",
       "      <td>15</td>\n",
       "      <td>80107</td>\n",
       "      <td>80107</td>\n",
       "      <td>Willow Street Station</td>\n",
       "      <td>NaN</td>\n",
       "      <td>33.807079</td>\n",
       "      <td>-118.189834</td>\n",
       "      <td>NaN</td>\n",
       "      <td>0</td>\n",
       "      <td>80107S</td>\n",
       "      <td>Willow</td>\n",
       "    </tr>\n",
       "    <tr>\n",
       "      <th>...</th>\n",
       "      <td>...</td>\n",
       "      <td>...</td>\n",
       "      <td>...</td>\n",
       "      <td>...</td>\n",
       "      <td>...</td>\n",
       "      <td>...</td>\n",
       "      <td>...</td>\n",
       "      <td>...</td>\n",
       "      <td>...</td>\n",
       "      <td>...</td>\n",
       "      <td>...</td>\n",
       "    </tr>\n",
       "    <tr>\n",
       "      <th>99</th>\n",
       "      <td>403</td>\n",
       "      <td>80705</td>\n",
       "      <td>80705</td>\n",
       "      <td>Fairview Heights Station</td>\n",
       "      <td>NaN</td>\n",
       "      <td>33.975252</td>\n",
       "      <td>-118.336072</td>\n",
       "      <td>NaN</td>\n",
       "      <td>0</td>\n",
       "      <td>80705S</td>\n",
       "      <td>Fairview</td>\n",
       "    </tr>\n",
       "    <tr>\n",
       "      <th>100</th>\n",
       "      <td>407</td>\n",
       "      <td>80706</td>\n",
       "      <td>80706</td>\n",
       "      <td>Hyde Park Station</td>\n",
       "      <td>NaN</td>\n",
       "      <td>33.988187</td>\n",
       "      <td>-118.330816</td>\n",
       "      <td>NaN</td>\n",
       "      <td>0</td>\n",
       "      <td>80706S</td>\n",
       "      <td>Hyde Park</td>\n",
       "    </tr>\n",
       "    <tr>\n",
       "      <th>101</th>\n",
       "      <td>411</td>\n",
       "      <td>80707</td>\n",
       "      <td>80707</td>\n",
       "      <td>Leimert Park Station</td>\n",
       "      <td>NaN</td>\n",
       "      <td>34.003909</td>\n",
       "      <td>-118.332016</td>\n",
       "      <td>NaN</td>\n",
       "      <td>0</td>\n",
       "      <td>80707S</td>\n",
       "      <td>Leimert</td>\n",
       "    </tr>\n",
       "    <tr>\n",
       "      <th>102</th>\n",
       "      <td>415</td>\n",
       "      <td>80708</td>\n",
       "      <td>80708</td>\n",
       "      <td>Martin Luther King Jr Station</td>\n",
       "      <td>NaN</td>\n",
       "      <td>34.009563</td>\n",
       "      <td>-118.335359</td>\n",
       "      <td>NaN</td>\n",
       "      <td>0</td>\n",
       "      <td>80708S</td>\n",
       "      <td>MLK</td>\n",
       "    </tr>\n",
       "    <tr>\n",
       "      <th>103</th>\n",
       "      <td>419</td>\n",
       "      <td>80709</td>\n",
       "      <td>80709</td>\n",
       "      <td>Expo / Crenshaw K-Line Station</td>\n",
       "      <td>NaN</td>\n",
       "      <td>34.022156</td>\n",
       "      <td>-118.334851</td>\n",
       "      <td>NaN</td>\n",
       "      <td>0</td>\n",
       "      <td>80709S</td>\n",
       "      <td>Crnshw/Ex</td>\n",
       "    </tr>\n",
       "  </tbody>\n",
       "</table>\n",
       "<p>104 rows × 11 columns</p>\n",
       "</div>"
      ],
      "text/plain": [
       "     Unnamed: 0  stop_id  stop_code                       stop_name  \\\n",
       "0             0    80101      80101     Downtown Long Beach Station   \n",
       "1             4    80102      80102             Pacific Ave Station   \n",
       "2             8    80105      80105          Anaheim Street Station   \n",
       "3            12    80106      80106       Pacific Coast Hwy Station   \n",
       "4            15    80107      80107           Willow Street Station   \n",
       "..          ...      ...        ...                             ...   \n",
       "99          403    80705      80705        Fairview Heights Station   \n",
       "100         407    80706      80706               Hyde Park Station   \n",
       "101         411    80707      80707            Leimert Park Station   \n",
       "102         415    80708      80708   Martin Luther King Jr Station   \n",
       "103         419    80709      80709  Expo / Crenshaw K-Line Station   \n",
       "\n",
       "     stop_desc   stop_lat    stop_lon  stop_url  location_type parent_station  \\\n",
       "0          NaN  33.768071 -118.192921       NaN              0         80101S   \n",
       "1          NaN  33.772258 -118.193700       NaN              0         80102S   \n",
       "2          NaN  33.781830 -118.189384       NaN              0         80105S   \n",
       "3          NaN  33.789090 -118.189382       NaN              0         80106S   \n",
       "4          NaN  33.807079 -118.189834       NaN              0         80107S   \n",
       "..         ...        ...         ...       ...            ...            ...   \n",
       "99         NaN  33.975252 -118.336072       NaN              0         80705S   \n",
       "100        NaN  33.988187 -118.330816       NaN              0         80706S   \n",
       "101        NaN  34.003909 -118.332016       NaN              0         80707S   \n",
       "102        NaN  34.009563 -118.335359       NaN              0         80708S   \n",
       "103        NaN  34.022156 -118.334851       NaN              0         80709S   \n",
       "\n",
       "     tpis_name  \n",
       "0     Long Bch  \n",
       "1      Pacific  \n",
       "2      Anaheim  \n",
       "3          PCH  \n",
       "4       Willow  \n",
       "..         ...  \n",
       "99    Fairview  \n",
       "100  Hyde Park  \n",
       "101    Leimert  \n",
       "102        MLK  \n",
       "103  Crnshw/Ex  \n",
       "\n",
       "[104 rows x 11 columns]"
      ]
     },
     "execution_count": 151,
     "metadata": {},
     "output_type": "execute_result"
    }
   ],
   "source": [
    "stops = pd.read_csv(\"stops.csv\")\n",
    "stops"
   ]
  },
  {
   "cell_type": "code",
   "execution_count": 152,
   "metadata": {},
   "outputs": [
    {
     "data": {
      "text/html": [
       "<div>\n",
       "<style scoped>\n",
       "    .dataframe tbody tr th:only-of-type {\n",
       "        vertical-align: middle;\n",
       "    }\n",
       "\n",
       "    .dataframe tbody tr th {\n",
       "        vertical-align: top;\n",
       "    }\n",
       "\n",
       "    .dataframe thead th {\n",
       "        text-align: right;\n",
       "    }\n",
       "</style>\n",
       "<table border=\"1\" class=\"dataframe\">\n",
       "  <thead>\n",
       "    <tr style=\"text-align: right;\">\n",
       "      <th></th>\n",
       "      <th>Station ID</th>\n",
       "      <th>Name</th>\n",
       "    </tr>\n",
       "  </thead>\n",
       "  <tbody>\n",
       "    <tr>\n",
       "      <th>0</th>\n",
       "      <td>80101</td>\n",
       "      <td>Downtown Long Beach Station</td>\n",
       "    </tr>\n",
       "    <tr>\n",
       "      <th>1</th>\n",
       "      <td>80102</td>\n",
       "      <td>Pacific Ave Station</td>\n",
       "    </tr>\n",
       "    <tr>\n",
       "      <th>2</th>\n",
       "      <td>80105</td>\n",
       "      <td>Anaheim Street Station</td>\n",
       "    </tr>\n",
       "    <tr>\n",
       "      <th>3</th>\n",
       "      <td>80106</td>\n",
       "      <td>Pacific Coast Hwy Station</td>\n",
       "    </tr>\n",
       "    <tr>\n",
       "      <th>4</th>\n",
       "      <td>80107</td>\n",
       "      <td>Willow Street Station</td>\n",
       "    </tr>\n",
       "    <tr>\n",
       "      <th>...</th>\n",
       "      <td>...</td>\n",
       "      <td>...</td>\n",
       "    </tr>\n",
       "    <tr>\n",
       "      <th>99</th>\n",
       "      <td>80705</td>\n",
       "      <td>Fairview Heights Station</td>\n",
       "    </tr>\n",
       "    <tr>\n",
       "      <th>100</th>\n",
       "      <td>80706</td>\n",
       "      <td>Hyde Park Station</td>\n",
       "    </tr>\n",
       "    <tr>\n",
       "      <th>101</th>\n",
       "      <td>80707</td>\n",
       "      <td>Leimert Park Station</td>\n",
       "    </tr>\n",
       "    <tr>\n",
       "      <th>102</th>\n",
       "      <td>80708</td>\n",
       "      <td>Martin Luther King Jr Station</td>\n",
       "    </tr>\n",
       "    <tr>\n",
       "      <th>103</th>\n",
       "      <td>80709</td>\n",
       "      <td>Expo / Crenshaw K-Line Station</td>\n",
       "    </tr>\n",
       "  </tbody>\n",
       "</table>\n",
       "<p>104 rows × 2 columns</p>\n",
       "</div>"
      ],
      "text/plain": [
       "     Station ID                            Name\n",
       "0         80101     Downtown Long Beach Station\n",
       "1         80102             Pacific Ave Station\n",
       "2         80105          Anaheim Street Station\n",
       "3         80106       Pacific Coast Hwy Station\n",
       "4         80107           Willow Street Station\n",
       "..          ...                             ...\n",
       "99        80705        Fairview Heights Station\n",
       "100       80706               Hyde Park Station\n",
       "101       80707            Leimert Park Station\n",
       "102       80708   Martin Luther King Jr Station\n",
       "103       80709  Expo / Crenshaw K-Line Station\n",
       "\n",
       "[104 rows x 2 columns]"
      ]
     },
     "execution_count": 152,
     "metadata": {},
     "output_type": "execute_result"
    }
   ],
   "source": [
    "stops = stops.rename(columns={\"stop_name\": \"Name\", \"stop_id\": \"Station ID\"})\n",
    "cols = [\"Station ID\", \"Name\"]\n",
    "stops = stops[cols]\n",
    "stops"
   ]
  },
  {
   "cell_type": "code",
   "execution_count": 153,
   "metadata": {},
   "outputs": [],
   "source": [
    "df = pd.merge(df, stops, on=\"Name\")"
   ]
  },
  {
   "cell_type": "code",
   "execution_count": 154,
   "metadata": {},
   "outputs": [
    {
     "data": {
      "text/html": [
       "<div>\n",
       "<style scoped>\n",
       "    .dataframe tbody tr th:only-of-type {\n",
       "        vertical-align: middle;\n",
       "    }\n",
       "\n",
       "    .dataframe tbody tr th {\n",
       "        vertical-align: top;\n",
       "    }\n",
       "\n",
       "    .dataframe thead th {\n",
       "        text-align: right;\n",
       "    }\n",
       "</style>\n",
       "<table border=\"1\" class=\"dataframe\">\n",
       "  <thead>\n",
       "    <tr style=\"text-align: right;\">\n",
       "      <th></th>\n",
       "      <th>Unnamed: 0</th>\n",
       "      <th>OBJECTID</th>\n",
       "      <th>post_id</th>\n",
       "      <th>Latitude</th>\n",
       "      <th>Longitude</th>\n",
       "      <th>Name</th>\n",
       "      <th>Lines</th>\n",
       "      <th>Line</th>\n",
       "      <th>Average Weekday Ridership</th>\n",
       "      <th>Rough Line Weight</th>\n",
       "      <th>Station ID</th>\n",
       "    </tr>\n",
       "  </thead>\n",
       "  <tbody>\n",
       "    <tr>\n",
       "      <th>0</th>\n",
       "      <td>31.0</td>\n",
       "      <td>72744</td>\n",
       "      <td>3306158</td>\n",
       "      <td>33.773603</td>\n",
       "      <td>-118.189424</td>\n",
       "      <td>5th Street Station</td>\n",
       "      <td>['Blue']</td>\n",
       "      <td>A</td>\n",
       "      <td>31752</td>\n",
       "      <td>9.780439</td>\n",
       "      <td>80154</td>\n",
       "    </tr>\n",
       "    <tr>\n",
       "      <th>1</th>\n",
       "      <td>NaN</td>\n",
       "      <td>72743</td>\n",
       "      <td>3306157</td>\n",
       "      <td>33.768745</td>\n",
       "      <td>-118.189374</td>\n",
       "      <td>1st Street Station</td>\n",
       "      <td>['Blue']</td>\n",
       "      <td>A</td>\n",
       "      <td>31752</td>\n",
       "      <td>9.780439</td>\n",
       "      <td>80153</td>\n",
       "    </tr>\n",
       "    <tr>\n",
       "      <th>2</th>\n",
       "      <td>0.0</td>\n",
       "      <td>72713</td>\n",
       "      <td>3306127</td>\n",
       "      <td>33.768076</td>\n",
       "      <td>-118.192933</td>\n",
       "      <td>Downtown Long Beach Station</td>\n",
       "      <td>['Blue']</td>\n",
       "      <td>A</td>\n",
       "      <td>31752</td>\n",
       "      <td>9.780439</td>\n",
       "      <td>80101</td>\n",
       "    </tr>\n",
       "    <tr>\n",
       "      <th>3</th>\n",
       "      <td>1.0</td>\n",
       "      <td>72714</td>\n",
       "      <td>3306128</td>\n",
       "      <td>33.772263</td>\n",
       "      <td>-118.193712</td>\n",
       "      <td>Pacific Ave Station</td>\n",
       "      <td>['Blue']</td>\n",
       "      <td>A</td>\n",
       "      <td>31752</td>\n",
       "      <td>9.780439</td>\n",
       "      <td>80102</td>\n",
       "    </tr>\n",
       "    <tr>\n",
       "      <th>4</th>\n",
       "      <td>2.0</td>\n",
       "      <td>72715</td>\n",
       "      <td>3306129</td>\n",
       "      <td>33.781835</td>\n",
       "      <td>-118.189396</td>\n",
       "      <td>Anaheim Street Station</td>\n",
       "      <td>['Blue']</td>\n",
       "      <td>A</td>\n",
       "      <td>31752</td>\n",
       "      <td>9.780439</td>\n",
       "      <td>80105</td>\n",
       "    </tr>\n",
       "    <tr>\n",
       "      <th>...</th>\n",
       "      <td>...</td>\n",
       "      <td>...</td>\n",
       "      <td>...</td>\n",
       "      <td>...</td>\n",
       "      <td>...</td>\n",
       "      <td>...</td>\n",
       "      <td>...</td>\n",
       "      <td>...</td>\n",
       "      <td>...</td>\n",
       "      <td>...</td>\n",
       "      <td>...</td>\n",
       "    </tr>\n",
       "    <tr>\n",
       "      <th>89</th>\n",
       "      <td>118.0</td>\n",
       "      <td>72831</td>\n",
       "      <td>3306245</td>\n",
       "      <td>34.010167</td>\n",
       "      <td>-118.335347</td>\n",
       "      <td>Martin Luther King Jr Station</td>\n",
       "      <td>['K']</td>\n",
       "      <td>K</td>\n",
       "      <td>1</td>\n",
       "      <td>0.000308</td>\n",
       "      <td>80708</td>\n",
       "    </tr>\n",
       "    <tr>\n",
       "      <th>90</th>\n",
       "      <td>119.0</td>\n",
       "      <td>72832</td>\n",
       "      <td>3306246</td>\n",
       "      <td>34.004582</td>\n",
       "      <td>-118.332665</td>\n",
       "      <td>Leimert Park Station</td>\n",
       "      <td>['K']</td>\n",
       "      <td>K</td>\n",
       "      <td>1</td>\n",
       "      <td>0.000308</td>\n",
       "      <td>80707</td>\n",
       "    </tr>\n",
       "    <tr>\n",
       "      <th>91</th>\n",
       "      <td>120.0</td>\n",
       "      <td>72833</td>\n",
       "      <td>3306247</td>\n",
       "      <td>33.988290</td>\n",
       "      <td>-118.330836</td>\n",
       "      <td>Hyde Park Station</td>\n",
       "      <td>['K']</td>\n",
       "      <td>K</td>\n",
       "      <td>1</td>\n",
       "      <td>0.000308</td>\n",
       "      <td>80706</td>\n",
       "    </tr>\n",
       "    <tr>\n",
       "      <th>92</th>\n",
       "      <td>121.0</td>\n",
       "      <td>72834</td>\n",
       "      <td>3306248</td>\n",
       "      <td>33.975284</td>\n",
       "      <td>-118.336030</td>\n",
       "      <td>Fairview Heights Station</td>\n",
       "      <td>['K']</td>\n",
       "      <td>K</td>\n",
       "      <td>1</td>\n",
       "      <td>0.000308</td>\n",
       "      <td>80705</td>\n",
       "    </tr>\n",
       "    <tr>\n",
       "      <th>93</th>\n",
       "      <td>122.0</td>\n",
       "      <td>72835</td>\n",
       "      <td>3306249</td>\n",
       "      <td>33.967299</td>\n",
       "      <td>-118.351393</td>\n",
       "      <td>Downtown Inglewood Station</td>\n",
       "      <td>['K']</td>\n",
       "      <td>K</td>\n",
       "      <td>1</td>\n",
       "      <td>0.000308</td>\n",
       "      <td>80704</td>\n",
       "    </tr>\n",
       "  </tbody>\n",
       "</table>\n",
       "<p>94 rows × 11 columns</p>\n",
       "</div>"
      ],
      "text/plain": [
       "    Unnamed: 0  OBJECTID  post_id   Latitude   Longitude  \\\n",
       "0         31.0     72744  3306158  33.773603 -118.189424   \n",
       "1          NaN     72743  3306157  33.768745 -118.189374   \n",
       "2          0.0     72713  3306127  33.768076 -118.192933   \n",
       "3          1.0     72714  3306128  33.772263 -118.193712   \n",
       "4          2.0     72715  3306129  33.781835 -118.189396   \n",
       "..         ...       ...      ...        ...         ...   \n",
       "89       118.0     72831  3306245  34.010167 -118.335347   \n",
       "90       119.0     72832  3306246  34.004582 -118.332665   \n",
       "91       120.0     72833  3306247  33.988290 -118.330836   \n",
       "92       121.0     72834  3306248  33.975284 -118.336030   \n",
       "93       122.0     72835  3306249  33.967299 -118.351393   \n",
       "\n",
       "                             Name     Lines Line  Average Weekday Ridership  \\\n",
       "0              5th Street Station  ['Blue']    A                      31752   \n",
       "1              1st Street Station  ['Blue']    A                      31752   \n",
       "2     Downtown Long Beach Station  ['Blue']    A                      31752   \n",
       "3             Pacific Ave Station  ['Blue']    A                      31752   \n",
       "4          Anaheim Street Station  ['Blue']    A                      31752   \n",
       "..                            ...       ...  ...                        ...   \n",
       "89  Martin Luther King Jr Station     ['K']    K                          1   \n",
       "90           Leimert Park Station     ['K']    K                          1   \n",
       "91              Hyde Park Station     ['K']    K                          1   \n",
       "92       Fairview Heights Station     ['K']    K                          1   \n",
       "93     Downtown Inglewood Station     ['K']    K                          1   \n",
       "\n",
       "    Rough Line Weight  Station ID  \n",
       "0            9.780439       80154  \n",
       "1            9.780439       80153  \n",
       "2            9.780439       80101  \n",
       "3            9.780439       80102  \n",
       "4            9.780439       80105  \n",
       "..                ...         ...  \n",
       "89           0.000308       80708  \n",
       "90           0.000308       80707  \n",
       "91           0.000308       80706  \n",
       "92           0.000308       80705  \n",
       "93           0.000308       80704  \n",
       "\n",
       "[94 rows x 11 columns]"
      ]
     },
     "execution_count": 154,
     "metadata": {},
     "output_type": "execute_result"
    }
   ],
   "source": [
    "df"
   ]
  },
  {
   "cell_type": "code",
   "execution_count": 155,
   "metadata": {},
   "outputs": [
    {
     "data": {
      "text/html": [
       "<div>\n",
       "<style scoped>\n",
       "    .dataframe tbody tr th:only-of-type {\n",
       "        vertical-align: middle;\n",
       "    }\n",
       "\n",
       "    .dataframe tbody tr th {\n",
       "        vertical-align: top;\n",
       "    }\n",
       "\n",
       "    .dataframe thead th {\n",
       "        text-align: right;\n",
       "    }\n",
       "</style>\n",
       "<table border=\"1\" class=\"dataframe\">\n",
       "  <thead>\n",
       "    <tr style=\"text-align: right;\">\n",
       "      <th></th>\n",
       "      <th>Station ID</th>\n",
       "      <th>Name</th>\n",
       "      <th>Latitude</th>\n",
       "      <th>Longitude</th>\n",
       "      <th>Lines</th>\n",
       "      <th>Line</th>\n",
       "      <th>Average Weekday Ridership</th>\n",
       "      <th>Rough Line Weight</th>\n",
       "    </tr>\n",
       "  </thead>\n",
       "  <tbody>\n",
       "    <tr>\n",
       "      <th>0</th>\n",
       "      <td>80154</td>\n",
       "      <td>5th Street Station</td>\n",
       "      <td>33.773603</td>\n",
       "      <td>-118.189424</td>\n",
       "      <td>['Blue']</td>\n",
       "      <td>A</td>\n",
       "      <td>31752</td>\n",
       "      <td>9.780439</td>\n",
       "    </tr>\n",
       "    <tr>\n",
       "      <th>1</th>\n",
       "      <td>80153</td>\n",
       "      <td>1st Street Station</td>\n",
       "      <td>33.768745</td>\n",
       "      <td>-118.189374</td>\n",
       "      <td>['Blue']</td>\n",
       "      <td>A</td>\n",
       "      <td>31752</td>\n",
       "      <td>9.780439</td>\n",
       "    </tr>\n",
       "    <tr>\n",
       "      <th>2</th>\n",
       "      <td>80101</td>\n",
       "      <td>Downtown Long Beach Station</td>\n",
       "      <td>33.768076</td>\n",
       "      <td>-118.192933</td>\n",
       "      <td>['Blue']</td>\n",
       "      <td>A</td>\n",
       "      <td>31752</td>\n",
       "      <td>9.780439</td>\n",
       "    </tr>\n",
       "    <tr>\n",
       "      <th>3</th>\n",
       "      <td>80102</td>\n",
       "      <td>Pacific Ave Station</td>\n",
       "      <td>33.772263</td>\n",
       "      <td>-118.193712</td>\n",
       "      <td>['Blue']</td>\n",
       "      <td>A</td>\n",
       "      <td>31752</td>\n",
       "      <td>9.780439</td>\n",
       "    </tr>\n",
       "    <tr>\n",
       "      <th>4</th>\n",
       "      <td>80105</td>\n",
       "      <td>Anaheim Street Station</td>\n",
       "      <td>33.781835</td>\n",
       "      <td>-118.189396</td>\n",
       "      <td>['Blue']</td>\n",
       "      <td>A</td>\n",
       "      <td>31752</td>\n",
       "      <td>9.780439</td>\n",
       "    </tr>\n",
       "    <tr>\n",
       "      <th>...</th>\n",
       "      <td>...</td>\n",
       "      <td>...</td>\n",
       "      <td>...</td>\n",
       "      <td>...</td>\n",
       "      <td>...</td>\n",
       "      <td>...</td>\n",
       "      <td>...</td>\n",
       "      <td>...</td>\n",
       "    </tr>\n",
       "    <tr>\n",
       "      <th>89</th>\n",
       "      <td>80708</td>\n",
       "      <td>Martin Luther King Jr Station</td>\n",
       "      <td>34.010167</td>\n",
       "      <td>-118.335347</td>\n",
       "      <td>['K']</td>\n",
       "      <td>K</td>\n",
       "      <td>1</td>\n",
       "      <td>0.000308</td>\n",
       "    </tr>\n",
       "    <tr>\n",
       "      <th>90</th>\n",
       "      <td>80707</td>\n",
       "      <td>Leimert Park Station</td>\n",
       "      <td>34.004582</td>\n",
       "      <td>-118.332665</td>\n",
       "      <td>['K']</td>\n",
       "      <td>K</td>\n",
       "      <td>1</td>\n",
       "      <td>0.000308</td>\n",
       "    </tr>\n",
       "    <tr>\n",
       "      <th>91</th>\n",
       "      <td>80706</td>\n",
       "      <td>Hyde Park Station</td>\n",
       "      <td>33.988290</td>\n",
       "      <td>-118.330836</td>\n",
       "      <td>['K']</td>\n",
       "      <td>K</td>\n",
       "      <td>1</td>\n",
       "      <td>0.000308</td>\n",
       "    </tr>\n",
       "    <tr>\n",
       "      <th>92</th>\n",
       "      <td>80705</td>\n",
       "      <td>Fairview Heights Station</td>\n",
       "      <td>33.975284</td>\n",
       "      <td>-118.336030</td>\n",
       "      <td>['K']</td>\n",
       "      <td>K</td>\n",
       "      <td>1</td>\n",
       "      <td>0.000308</td>\n",
       "    </tr>\n",
       "    <tr>\n",
       "      <th>93</th>\n",
       "      <td>80704</td>\n",
       "      <td>Downtown Inglewood Station</td>\n",
       "      <td>33.967299</td>\n",
       "      <td>-118.351393</td>\n",
       "      <td>['K']</td>\n",
       "      <td>K</td>\n",
       "      <td>1</td>\n",
       "      <td>0.000308</td>\n",
       "    </tr>\n",
       "  </tbody>\n",
       "</table>\n",
       "<p>94 rows × 8 columns</p>\n",
       "</div>"
      ],
      "text/plain": [
       "    Station ID                           Name   Latitude   Longitude  \\\n",
       "0        80154             5th Street Station  33.773603 -118.189424   \n",
       "1        80153             1st Street Station  33.768745 -118.189374   \n",
       "2        80101    Downtown Long Beach Station  33.768076 -118.192933   \n",
       "3        80102            Pacific Ave Station  33.772263 -118.193712   \n",
       "4        80105         Anaheim Street Station  33.781835 -118.189396   \n",
       "..         ...                            ...        ...         ...   \n",
       "89       80708  Martin Luther King Jr Station  34.010167 -118.335347   \n",
       "90       80707           Leimert Park Station  34.004582 -118.332665   \n",
       "91       80706              Hyde Park Station  33.988290 -118.330836   \n",
       "92       80705       Fairview Heights Station  33.975284 -118.336030   \n",
       "93       80704     Downtown Inglewood Station  33.967299 -118.351393   \n",
       "\n",
       "       Lines Line  Average Weekday Ridership  Rough Line Weight  \n",
       "0   ['Blue']    A                      31752           9.780439  \n",
       "1   ['Blue']    A                      31752           9.780439  \n",
       "2   ['Blue']    A                      31752           9.780439  \n",
       "3   ['Blue']    A                      31752           9.780439  \n",
       "4   ['Blue']    A                      31752           9.780439  \n",
       "..       ...  ...                        ...                ...  \n",
       "89     ['K']    K                          1           0.000308  \n",
       "90     ['K']    K                          1           0.000308  \n",
       "91     ['K']    K                          1           0.000308  \n",
       "92     ['K']    K                          1           0.000308  \n",
       "93     ['K']    K                          1           0.000308  \n",
       "\n",
       "[94 rows x 8 columns]"
      ]
     },
     "execution_count": 155,
     "metadata": {},
     "output_type": "execute_result"
    }
   ],
   "source": [
    "cols = [\"Station ID\", \"Name\", \"Latitude\", \"Longitude\", \"Lines\", \"Line\", \"Average Weekday Ridership\", \"Rough Line Weight\"]\n",
    "df = df[cols]\n",
    "df"
   ]
  },
  {
   "cell_type": "code",
   "execution_count": 156,
   "metadata": {},
   "outputs": [
    {
     "data": {
      "application/vnd.plotly.v1+json": {
       "config": {
        "plotlyServerURL": "https://plot.ly"
       },
       "data": [
        {
         "hovertemplate": "<b>%{hovertext}</b><br><br>Line=A<br>Rough Line Weight=%{marker.size}<br>Latitude=%{lat}<br>Longitude=%{lon}<extra></extra>",
         "hovertext": [
          "5th Street Station",
          "1st Street Station",
          "Downtown Long Beach Station",
          "Pacific Ave Station",
          "Anaheim Street Station",
          "Pacific Coast Hwy Station",
          "Willow Street Station",
          "Wardlow Station",
          "Del Amo Station",
          "Artesia Station",
          "Compton Station",
          "103rd Street / Watts Towers  Station",
          "Firestone Station",
          "Florence Station",
          "Slauson Station",
          "Vernon Station",
          "Washington Station",
          "San Pedro Street Station",
          "Grand / LATTC Station",
          "Pico Station",
          "Chinatown Station",
          "Lincoln Heights / Cypress Park Station",
          "Heritage Square / Arroyo Station",
          "Southwest Museum Station",
          "Highland Park Station",
          "South Pasadena Station",
          "Fillmore Station",
          "Del Mar Station",
          "Memorial Park Station",
          "Lake Station",
          "Allen Station",
          "Sierra Madre Villa Station",
          "Arcadia Station",
          "Monrovia Station",
          "Duarte / City of Hope Station",
          "Irwindale Station",
          "Azusa Downtown Station",
          "APU / Citrus College Station"
         ],
         "lat": [
          33.77360283,
          33.76874483,
          33.76807583,
          33.77226283,
          33.78183483,
          33.78909483,
          33.80708383,
          33.81986983,
          33.84822684,
          33.87608684,
          33.89749484,
          33.94222484,
          33.95961585,
          33.97374485,
          33.98876485,
          34.00292485,
          34.01965485,
          34.02681185,
          34.03315985,
          34.04073985,
          34.06386586,
          34.08095386,
          34.08723186,
          34.09824786,
          34.11118387,
          34.11519087,
          34.13352587,
          34.14191487,
          34.14836087,
          34.15181087,
          34.15242187,
          34.14775688,
          34.14286488,
          34.13315988,
          34.13252288,
          34.12905288,
          34.13586788,
          34.13681889
         ],
         "legendgroup": "A",
         "lon": [
          -118.1894242,
          -118.1893742,
          -118.1929332,
          -118.1937122,
          -118.1893962,
          -118.1893942,
          -118.1898462,
          -118.1961022,
          -118.2110292,
          -118.2225152,
          -118.2242612,
          -118.2431712,
          -118.2432172,
          -118.2432832,
          -118.2434102,
          -118.2433152,
          -118.2430962,
          -118.2555172,
          -118.2693452,
          -118.2661302,
          -118.2358522,
          -118.2204412,
          -118.2132252,
          -118.2067242,
          -118.1926182,
          -118.1578982,
          -118.1481382,
          -118.1482262,
          -118.1475242,
          -118.1314022,
          -118.1143602,
          -118.0812242,
          -118.0292112,
          -118.0034852,
          -117.9676922,
          -117.9325181,
          -117.9066431,
          -117.8916481
         ],
         "marker": {
          "color": "#636efa",
          "size": [
           9.780439121756487,
           9.780439121756487,
           9.780439121756487,
           9.780439121756487,
           9.780439121756487,
           9.780439121756487,
           9.780439121756487,
           9.780439121756487,
           9.780439121756487,
           9.780439121756487,
           9.780439121756487,
           9.780439121756487,
           9.780439121756487,
           9.780439121756487,
           9.780439121756487,
           9.780439121756487,
           9.780439121756487,
           9.780439121756487,
           9.780439121756487,
           9.780439121756487,
           9.780439121756487,
           9.780439121756487,
           9.780439121756487,
           9.780439121756487,
           9.780439121756487,
           9.780439121756487,
           9.780439121756487,
           9.780439121756487,
           9.780439121756487,
           9.780439121756487,
           9.780439121756487,
           9.780439121756487,
           9.780439121756487,
           9.780439121756487,
           9.780439121756487,
           9.780439121756487,
           9.780439121756487,
           9.780439121756487
          ],
          "sizemode": "area",
          "sizeref": 0.0625
         },
         "mode": "markers",
         "name": "A",
         "showlegend": true,
         "subplot": "mapbox",
         "type": "scattermapbox"
        },
        {
         "hovertemplate": "<b>%{hovertext}</b><br><br>Line=E<br>Rough Line Weight=%{marker.size}<br>Latitude=%{lat}<br>Longitude=%{lon}<extra></extra>",
         "hovertext": [
          "Pico Station",
          "Atlantic Station",
          "East LA Civic Center Station",
          "Maravilla Station",
          "Indiana Station",
          "Soto Station",
          "Mariachi Plaza / Boyle Heights Station",
          "Pico / Aliso Station",
          "LATTC / Ortho Institute Station",
          "Jefferson / USC Station",
          "Expo Park / USC Station",
          "Expo / Vermont Station",
          "Expo / Western Station",
          "Farmdale Station",
          "La Cienega / Jefferson Station",
          "Culver City Station",
          "Palms Station",
          "Westwood / Rancho Park Station",
          "Expo / Sepulveda Station",
          "Expo / Bundy Station",
          "Downtown Santa Monica Station"
         ],
         "lat": [
          34.04073985,
          34.03340286,
          34.03336886,
          34.03332386,
          34.03430486,
          34.04375186,
          34.04721986,
          34.04763886,
          34.02911685,
          34.02212785,
          34.01823185,
          34.01824985,
          34.01833585,
          34.02398585,
          34.02635985,
          34.02790085,
          34.02932784,
          34.03682084,
          34.03541284,
          34.03170984,
          34.01401484
         ],
         "legendgroup": "E",
         "lon": [
          -118.2661302,
          -118.1544812,
          -118.1612182,
          -118.1681522,
          -118.1921942,
          -118.2100732,
          -118.2196602,
          -118.2259522,
          -118.2736152,
          -118.2781302,
          -118.2857462,
          -118.2915522,
          -118.3089222,
          -118.3461072,
          -118.3721322,
          -118.3889982,
          -118.4042672,
          -118.4245882,
          -118.4342462,
          -118.4529082,
          -118.4913962
         ],
         "marker": {
          "color": "#EF553B",
          "size": [
           8.678322367610459,
           8.678322367610459,
           8.678322367610459,
           8.678322367610459,
           8.678322367610459,
           8.678322367610459,
           8.678322367610459,
           8.678322367610459,
           8.678322367610459,
           8.678322367610459,
           8.678322367610459,
           8.678322367610459,
           8.678322367610459,
           8.678322367610459,
           8.678322367610459,
           8.678322367610459,
           8.678322367610459,
           8.678322367610459,
           8.678322367610459,
           8.678322367610459,
           8.678322367610459
          ],
          "sizemode": "area",
          "sizeref": 0.0625
         },
         "mode": "markers",
         "name": "E",
         "showlegend": true,
         "subplot": "mapbox",
         "type": "scattermapbox"
        },
        {
         "hovertemplate": "<b>%{hovertext}</b><br><br>Line=B<br>Rough Line Weight=%{marker.size}<br>Latitude=%{lat}<br>Longitude=%{lon}<extra></extra>",
         "hovertext": [
          "North Hollywood Station",
          "Universal / Studio City Station",
          "Hollywood / Highland Station",
          "Hollywood / Vine Station",
          "Hollywood / Western Station",
          "Vermont / Sunset Station",
          "Vermont / Santa Monica Station",
          "Vermont / Beverly Station",
          "Wilshire / Vermont Station",
          "Westlake / MacArthur Park Station",
          "Pershing Square Station",
          "Civic Center / Grand Park Station"
         ],
         "lat": [
          34.16850886,
          34.14000686,
          34.10155186,
          34.10163486,
          34.10174186,
          34.09771286,
          34.08991486,
          34.07653086,
          34.06270585,
          34.05637286,
          34.04932086,
          34.05490486
         ],
         "legendgroup": "B",
         "lon": [
          -118.3768202,
          -118.3627112,
          -118.3385612,
          -118.3251922,
          -118.3081292,
          -118.2917682,
          -118.2917422,
          -118.2916982,
          -118.2900942,
          -118.2748912,
          -118.2512712,
          -118.2460692
         ],
         "marker": {
          "color": "#00cc96",
          "size": [
           25,
           25,
           25,
           25,
           25,
           25,
           25,
           25,
           25,
           25,
           25,
           25
          ],
          "sizemode": "area",
          "sizeref": 0.0625
         },
         "mode": "markers",
         "name": "B",
         "showlegend": true,
         "subplot": "mapbox",
         "type": "scattermapbox"
        },
        {
         "hovertemplate": "<b>%{hovertext}</b><br><br>Line=D<br>Rough Line Weight=%{marker.size}<br>Latitude=%{lat}<br>Longitude=%{lon}<extra></extra>",
         "hovertext": [
          "Wilshire / Vermont Station",
          "Westlake / MacArthur Park Station",
          "Pershing Square Station",
          "Civic Center / Grand Park Station",
          "Wilshire / Western Station",
          "Wilshire / Normandie Station"
         ],
         "lat": [
          34.06270585,
          34.05637286,
          34.04932086,
          34.05490486,
          34.06169385,
          34.06175785
         ],
         "legendgroup": "D",
         "lon": [
          -118.2900942,
          -118.2748912,
          -118.2512712,
          -118.2460692,
          -118.3087682,
          -118.3014702
         ],
         "marker": {
          "color": "#ab63fa",
          "size": [
           25,
           25,
           25,
           25,
           25,
           25
          ],
          "sizemode": "area",
          "sizeref": 0.0625
         },
         "mode": "markers",
         "name": "D",
         "showlegend": true,
         "subplot": "mapbox",
         "type": "scattermapbox"
        },
        {
         "hovertemplate": "<b>%{hovertext}</b><br><br>Line=C<br>Rough Line Weight=%{marker.size}<br>Latitude=%{lat}<br>Longitude=%{lon}<extra></extra>",
         "hovertext": [
          "Redondo Beach Station",
          "Douglas Station",
          "El Segundo Station",
          "Mariposa Station",
          "Aviation / LAX Station",
          "Hawthorne / Lennox Station",
          "Vermont / Athens Station",
          "Harbor Freeway Station",
          "Avalon Station",
          "Long Beach Blvd Station",
          "Lakewood Blvd Station",
          "Norwalk Station"
         ],
         "lat": [
          33.89464483,
          33.90530383,
          33.91606783,
          33.92320483,
          33.92962583,
          33.93341284,
          33.92868784,
          33.92871884,
          33.92746984,
          33.92488484,
          33.91307485,
          33.91403785
         ],
         "legendgroup": "C",
         "lon": [
          -118.3692082,
          -118.3831252,
          -118.3865512,
          -118.3875842,
          -118.3771462,
          -118.3516142,
          -118.2917452,
          -118.2811122,
          -118.2652292,
          -118.2099572,
          -118.1406122,
          -118.1047292
         ],
         "marker": {
          "color": "#FFA15A",
          "size": [
           5.185000369631108,
           5.185000369631108,
           5.185000369631108,
           5.185000369631108,
           5.185000369631108,
           5.185000369631108,
           5.185000369631108,
           5.185000369631108,
           5.185000369631108,
           5.185000369631108,
           5.185000369631108,
           5.185000369631108
          ],
          "sizemode": "area",
          "sizeref": 0.0625
         },
         "mode": "markers",
         "name": "C",
         "showlegend": true,
         "subplot": "mapbox",
         "type": "scattermapbox"
        },
        {
         "hovertemplate": "<b>%{hovertext}</b><br><br>Line=K<br>Rough Line Weight=%{marker.size}<br>Latitude=%{lat}<br>Longitude=%{lon}<extra></extra>",
         "hovertext": [
          "Martin Luther King Jr Station",
          "Leimert Park Station",
          "Hyde Park Station",
          "Fairview Heights Station",
          "Downtown Inglewood Station"
         ],
         "lat": [
          34.01016656,
          34.00458152,
          33.98828975,
          33.97528429,
          33.96729917
         ],
         "legendgroup": "K",
         "lon": [
          -118.335347,
          -118.3326646,
          -118.3308357,
          -118.3360302,
          -118.3513927
         ],
         "marker": {
          "color": "#19d3f3",
          "size": [
           0.00030802592346171857,
           0.00030802592346171857,
           0.00030802592346171857,
           0.00030802592346171857,
           0.00030802592346171857
          ],
          "sizemode": "area",
          "sizeref": 0.0625
         },
         "mode": "markers",
         "name": "K",
         "showlegend": true,
         "subplot": "mapbox",
         "type": "scattermapbox"
        }
       ],
       "layout": {
        "height": 800,
        "legend": {
         "itemsizing": "constant",
         "title": {
          "text": "Line"
         },
         "tracegroupgap": 0
        },
        "mapbox": {
         "center": {
          "lat": 34.012878054787244,
          "lon": -118.24546994361704
         },
         "domain": {
          "x": [
           0,
           1
          ],
          "y": [
           0,
           1
          ]
         },
         "style": "carto-positron",
         "zoom": 8.8
        },
        "template": {
         "data": {
          "bar": [
           {
            "error_x": {
             "color": "#2a3f5f"
            },
            "error_y": {
             "color": "#2a3f5f"
            },
            "marker": {
             "line": {
              "color": "#E5ECF6",
              "width": 0.5
             },
             "pattern": {
              "fillmode": "overlay",
              "size": 10,
              "solidity": 0.2
             }
            },
            "type": "bar"
           }
          ],
          "barpolar": [
           {
            "marker": {
             "line": {
              "color": "#E5ECF6",
              "width": 0.5
             },
             "pattern": {
              "fillmode": "overlay",
              "size": 10,
              "solidity": 0.2
             }
            },
            "type": "barpolar"
           }
          ],
          "carpet": [
           {
            "aaxis": {
             "endlinecolor": "#2a3f5f",
             "gridcolor": "white",
             "linecolor": "white",
             "minorgridcolor": "white",
             "startlinecolor": "#2a3f5f"
            },
            "baxis": {
             "endlinecolor": "#2a3f5f",
             "gridcolor": "white",
             "linecolor": "white",
             "minorgridcolor": "white",
             "startlinecolor": "#2a3f5f"
            },
            "type": "carpet"
           }
          ],
          "choropleth": [
           {
            "colorbar": {
             "outlinewidth": 0,
             "ticks": ""
            },
            "type": "choropleth"
           }
          ],
          "contour": [
           {
            "colorbar": {
             "outlinewidth": 0,
             "ticks": ""
            },
            "colorscale": [
             [
              0,
              "#0d0887"
             ],
             [
              0.1111111111111111,
              "#46039f"
             ],
             [
              0.2222222222222222,
              "#7201a8"
             ],
             [
              0.3333333333333333,
              "#9c179e"
             ],
             [
              0.4444444444444444,
              "#bd3786"
             ],
             [
              0.5555555555555556,
              "#d8576b"
             ],
             [
              0.6666666666666666,
              "#ed7953"
             ],
             [
              0.7777777777777778,
              "#fb9f3a"
             ],
             [
              0.8888888888888888,
              "#fdca26"
             ],
             [
              1,
              "#f0f921"
             ]
            ],
            "type": "contour"
           }
          ],
          "contourcarpet": [
           {
            "colorbar": {
             "outlinewidth": 0,
             "ticks": ""
            },
            "type": "contourcarpet"
           }
          ],
          "heatmap": [
           {
            "colorbar": {
             "outlinewidth": 0,
             "ticks": ""
            },
            "colorscale": [
             [
              0,
              "#0d0887"
             ],
             [
              0.1111111111111111,
              "#46039f"
             ],
             [
              0.2222222222222222,
              "#7201a8"
             ],
             [
              0.3333333333333333,
              "#9c179e"
             ],
             [
              0.4444444444444444,
              "#bd3786"
             ],
             [
              0.5555555555555556,
              "#d8576b"
             ],
             [
              0.6666666666666666,
              "#ed7953"
             ],
             [
              0.7777777777777778,
              "#fb9f3a"
             ],
             [
              0.8888888888888888,
              "#fdca26"
             ],
             [
              1,
              "#f0f921"
             ]
            ],
            "type": "heatmap"
           }
          ],
          "heatmapgl": [
           {
            "colorbar": {
             "outlinewidth": 0,
             "ticks": ""
            },
            "colorscale": [
             [
              0,
              "#0d0887"
             ],
             [
              0.1111111111111111,
              "#46039f"
             ],
             [
              0.2222222222222222,
              "#7201a8"
             ],
             [
              0.3333333333333333,
              "#9c179e"
             ],
             [
              0.4444444444444444,
              "#bd3786"
             ],
             [
              0.5555555555555556,
              "#d8576b"
             ],
             [
              0.6666666666666666,
              "#ed7953"
             ],
             [
              0.7777777777777778,
              "#fb9f3a"
             ],
             [
              0.8888888888888888,
              "#fdca26"
             ],
             [
              1,
              "#f0f921"
             ]
            ],
            "type": "heatmapgl"
           }
          ],
          "histogram": [
           {
            "marker": {
             "pattern": {
              "fillmode": "overlay",
              "size": 10,
              "solidity": 0.2
             }
            },
            "type": "histogram"
           }
          ],
          "histogram2d": [
           {
            "colorbar": {
             "outlinewidth": 0,
             "ticks": ""
            },
            "colorscale": [
             [
              0,
              "#0d0887"
             ],
             [
              0.1111111111111111,
              "#46039f"
             ],
             [
              0.2222222222222222,
              "#7201a8"
             ],
             [
              0.3333333333333333,
              "#9c179e"
             ],
             [
              0.4444444444444444,
              "#bd3786"
             ],
             [
              0.5555555555555556,
              "#d8576b"
             ],
             [
              0.6666666666666666,
              "#ed7953"
             ],
             [
              0.7777777777777778,
              "#fb9f3a"
             ],
             [
              0.8888888888888888,
              "#fdca26"
             ],
             [
              1,
              "#f0f921"
             ]
            ],
            "type": "histogram2d"
           }
          ],
          "histogram2dcontour": [
           {
            "colorbar": {
             "outlinewidth": 0,
             "ticks": ""
            },
            "colorscale": [
             [
              0,
              "#0d0887"
             ],
             [
              0.1111111111111111,
              "#46039f"
             ],
             [
              0.2222222222222222,
              "#7201a8"
             ],
             [
              0.3333333333333333,
              "#9c179e"
             ],
             [
              0.4444444444444444,
              "#bd3786"
             ],
             [
              0.5555555555555556,
              "#d8576b"
             ],
             [
              0.6666666666666666,
              "#ed7953"
             ],
             [
              0.7777777777777778,
              "#fb9f3a"
             ],
             [
              0.8888888888888888,
              "#fdca26"
             ],
             [
              1,
              "#f0f921"
             ]
            ],
            "type": "histogram2dcontour"
           }
          ],
          "mesh3d": [
           {
            "colorbar": {
             "outlinewidth": 0,
             "ticks": ""
            },
            "type": "mesh3d"
           }
          ],
          "parcoords": [
           {
            "line": {
             "colorbar": {
              "outlinewidth": 0,
              "ticks": ""
             }
            },
            "type": "parcoords"
           }
          ],
          "pie": [
           {
            "automargin": true,
            "type": "pie"
           }
          ],
          "scatter": [
           {
            "fillpattern": {
             "fillmode": "overlay",
             "size": 10,
             "solidity": 0.2
            },
            "type": "scatter"
           }
          ],
          "scatter3d": [
           {
            "line": {
             "colorbar": {
              "outlinewidth": 0,
              "ticks": ""
             }
            },
            "marker": {
             "colorbar": {
              "outlinewidth": 0,
              "ticks": ""
             }
            },
            "type": "scatter3d"
           }
          ],
          "scattercarpet": [
           {
            "marker": {
             "colorbar": {
              "outlinewidth": 0,
              "ticks": ""
             }
            },
            "type": "scattercarpet"
           }
          ],
          "scattergeo": [
           {
            "marker": {
             "colorbar": {
              "outlinewidth": 0,
              "ticks": ""
             }
            },
            "type": "scattergeo"
           }
          ],
          "scattergl": [
           {
            "marker": {
             "colorbar": {
              "outlinewidth": 0,
              "ticks": ""
             }
            },
            "type": "scattergl"
           }
          ],
          "scattermapbox": [
           {
            "marker": {
             "colorbar": {
              "outlinewidth": 0,
              "ticks": ""
             }
            },
            "type": "scattermapbox"
           }
          ],
          "scatterpolar": [
           {
            "marker": {
             "colorbar": {
              "outlinewidth": 0,
              "ticks": ""
             }
            },
            "type": "scatterpolar"
           }
          ],
          "scatterpolargl": [
           {
            "marker": {
             "colorbar": {
              "outlinewidth": 0,
              "ticks": ""
             }
            },
            "type": "scatterpolargl"
           }
          ],
          "scatterternary": [
           {
            "marker": {
             "colorbar": {
              "outlinewidth": 0,
              "ticks": ""
             }
            },
            "type": "scatterternary"
           }
          ],
          "surface": [
           {
            "colorbar": {
             "outlinewidth": 0,
             "ticks": ""
            },
            "colorscale": [
             [
              0,
              "#0d0887"
             ],
             [
              0.1111111111111111,
              "#46039f"
             ],
             [
              0.2222222222222222,
              "#7201a8"
             ],
             [
              0.3333333333333333,
              "#9c179e"
             ],
             [
              0.4444444444444444,
              "#bd3786"
             ],
             [
              0.5555555555555556,
              "#d8576b"
             ],
             [
              0.6666666666666666,
              "#ed7953"
             ],
             [
              0.7777777777777778,
              "#fb9f3a"
             ],
             [
              0.8888888888888888,
              "#fdca26"
             ],
             [
              1,
              "#f0f921"
             ]
            ],
            "type": "surface"
           }
          ],
          "table": [
           {
            "cells": {
             "fill": {
              "color": "#EBF0F8"
             },
             "line": {
              "color": "white"
             }
            },
            "header": {
             "fill": {
              "color": "#C8D4E3"
             },
             "line": {
              "color": "white"
             }
            },
            "type": "table"
           }
          ]
         },
         "layout": {
          "annotationdefaults": {
           "arrowcolor": "#2a3f5f",
           "arrowhead": 0,
           "arrowwidth": 1
          },
          "autotypenumbers": "strict",
          "coloraxis": {
           "colorbar": {
            "outlinewidth": 0,
            "ticks": ""
           }
          },
          "colorscale": {
           "diverging": [
            [
             0,
             "#8e0152"
            ],
            [
             0.1,
             "#c51b7d"
            ],
            [
             0.2,
             "#de77ae"
            ],
            [
             0.3,
             "#f1b6da"
            ],
            [
             0.4,
             "#fde0ef"
            ],
            [
             0.5,
             "#f7f7f7"
            ],
            [
             0.6,
             "#e6f5d0"
            ],
            [
             0.7,
             "#b8e186"
            ],
            [
             0.8,
             "#7fbc41"
            ],
            [
             0.9,
             "#4d9221"
            ],
            [
             1,
             "#276419"
            ]
           ],
           "sequential": [
            [
             0,
             "#0d0887"
            ],
            [
             0.1111111111111111,
             "#46039f"
            ],
            [
             0.2222222222222222,
             "#7201a8"
            ],
            [
             0.3333333333333333,
             "#9c179e"
            ],
            [
             0.4444444444444444,
             "#bd3786"
            ],
            [
             0.5555555555555556,
             "#d8576b"
            ],
            [
             0.6666666666666666,
             "#ed7953"
            ],
            [
             0.7777777777777778,
             "#fb9f3a"
            ],
            [
             0.8888888888888888,
             "#fdca26"
            ],
            [
             1,
             "#f0f921"
            ]
           ],
           "sequentialminus": [
            [
             0,
             "#0d0887"
            ],
            [
             0.1111111111111111,
             "#46039f"
            ],
            [
             0.2222222222222222,
             "#7201a8"
            ],
            [
             0.3333333333333333,
             "#9c179e"
            ],
            [
             0.4444444444444444,
             "#bd3786"
            ],
            [
             0.5555555555555556,
             "#d8576b"
            ],
            [
             0.6666666666666666,
             "#ed7953"
            ],
            [
             0.7777777777777778,
             "#fb9f3a"
            ],
            [
             0.8888888888888888,
             "#fdca26"
            ],
            [
             1,
             "#f0f921"
            ]
           ]
          },
          "colorway": [
           "#636efa",
           "#EF553B",
           "#00cc96",
           "#ab63fa",
           "#FFA15A",
           "#19d3f3",
           "#FF6692",
           "#B6E880",
           "#FF97FF",
           "#FECB52"
          ],
          "font": {
           "color": "#2a3f5f"
          },
          "geo": {
           "bgcolor": "white",
           "lakecolor": "white",
           "landcolor": "#E5ECF6",
           "showlakes": true,
           "showland": true,
           "subunitcolor": "white"
          },
          "hoverlabel": {
           "align": "left"
          },
          "hovermode": "closest",
          "mapbox": {
           "style": "light"
          },
          "paper_bgcolor": "white",
          "plot_bgcolor": "#E5ECF6",
          "polar": {
           "angularaxis": {
            "gridcolor": "white",
            "linecolor": "white",
            "ticks": ""
           },
           "bgcolor": "#E5ECF6",
           "radialaxis": {
            "gridcolor": "white",
            "linecolor": "white",
            "ticks": ""
           }
          },
          "scene": {
           "xaxis": {
            "backgroundcolor": "#E5ECF6",
            "gridcolor": "white",
            "gridwidth": 2,
            "linecolor": "white",
            "showbackground": true,
            "ticks": "",
            "zerolinecolor": "white"
           },
           "yaxis": {
            "backgroundcolor": "#E5ECF6",
            "gridcolor": "white",
            "gridwidth": 2,
            "linecolor": "white",
            "showbackground": true,
            "ticks": "",
            "zerolinecolor": "white"
           },
           "zaxis": {
            "backgroundcolor": "#E5ECF6",
            "gridcolor": "white",
            "gridwidth": 2,
            "linecolor": "white",
            "showbackground": true,
            "ticks": "",
            "zerolinecolor": "white"
           }
          },
          "shapedefaults": {
           "line": {
            "color": "#2a3f5f"
           }
          },
          "ternary": {
           "aaxis": {
            "gridcolor": "white",
            "linecolor": "white",
            "ticks": ""
           },
           "baxis": {
            "gridcolor": "white",
            "linecolor": "white",
            "ticks": ""
           },
           "bgcolor": "#E5ECF6",
           "caxis": {
            "gridcolor": "white",
            "linecolor": "white",
            "ticks": ""
           }
          },
          "title": {
           "x": 0.05
          },
          "xaxis": {
           "automargin": true,
           "gridcolor": "white",
           "linecolor": "white",
           "ticks": "",
           "title": {
            "standoff": 15
           },
           "zerolinecolor": "white",
           "zerolinewidth": 2
          },
          "yaxis": {
           "automargin": true,
           "gridcolor": "white",
           "linecolor": "white",
           "ticks": "",
           "title": {
            "standoff": 15
           },
           "zerolinecolor": "white",
           "zerolinewidth": 2
          }
         }
        },
        "title": {
         "text": "Graph Representation of LA Metro Station Locations by Line (With Ridership Weights)"
        },
        "width": 800
       }
      }
     },
     "metadata": {},
     "output_type": "display_data"
    }
   ],
   "source": [
    "#disconnected station map with line/ridership weights\n",
    "fig = px.scatter_mapbox(df, \n",
    "                        lat = \"Latitude\",\n",
    "                        lon = \"Longitude\",\n",
    "                        color = \"Line\",\n",
    "                        size = \"Rough Line Weight\",\n",
    "                        hover_name = \"Name\",\n",
    "                        #hover_data = \"Lines\",\n",
    "                        zoom = 8.8,\n",
    "                        height = 800,\n",
    "                        width = 800,\n",
    "                        title = \"Graph Representation of LA Metro Station Locations by Line (With Ridership Weights)\",\n",
    "                        mapbox_style = \"carto-positron\")\n",
    "\n",
    "fig.show()"
   ]
  },
  {
   "cell_type": "code",
   "execution_count": 157,
   "metadata": {},
   "outputs": [
    {
     "data": {
      "text/html": [
       "<div>\n",
       "<style scoped>\n",
       "    .dataframe tbody tr th:only-of-type {\n",
       "        vertical-align: middle;\n",
       "    }\n",
       "\n",
       "    .dataframe tbody tr th {\n",
       "        vertical-align: top;\n",
       "    }\n",
       "\n",
       "    .dataframe thead th {\n",
       "        text-align: right;\n",
       "    }\n",
       "</style>\n",
       "<table border=\"1\" class=\"dataframe\">\n",
       "  <thead>\n",
       "    <tr style=\"text-align: right;\">\n",
       "      <th></th>\n",
       "      <th>Unnamed: 0</th>\n",
       "      <th>Station ID</th>\n",
       "      <th>Next Station ID</th>\n",
       "      <th>Edge Weight</th>\n",
       "    </tr>\n",
       "  </thead>\n",
       "  <tbody>\n",
       "    <tr>\n",
       "      <th>0</th>\n",
       "      <td>0</td>\n",
       "      <td>80101</td>\n",
       "      <td>80102</td>\n",
       "      <td>0.962959</td>\n",
       "    </tr>\n",
       "    <tr>\n",
       "      <th>1</th>\n",
       "      <td>1</td>\n",
       "      <td>80105</td>\n",
       "      <td>80106</td>\n",
       "      <td>0.962959</td>\n",
       "    </tr>\n",
       "    <tr>\n",
       "      <th>2</th>\n",
       "      <td>2</td>\n",
       "      <td>80105</td>\n",
       "      <td>80154</td>\n",
       "      <td>0.962959</td>\n",
       "    </tr>\n",
       "    <tr>\n",
       "      <th>3</th>\n",
       "      <td>3</td>\n",
       "      <td>80106</td>\n",
       "      <td>80107</td>\n",
       "      <td>0.962959</td>\n",
       "    </tr>\n",
       "    <tr>\n",
       "      <th>4</th>\n",
       "      <td>4</td>\n",
       "      <td>80107</td>\n",
       "      <td>80108</td>\n",
       "      <td>0.962959</td>\n",
       "    </tr>\n",
       "    <tr>\n",
       "      <th>...</th>\n",
       "      <td>...</td>\n",
       "      <td>...</td>\n",
       "      <td>...</td>\n",
       "      <td>...</td>\n",
       "    </tr>\n",
       "    <tr>\n",
       "      <th>96</th>\n",
       "      <td>96</td>\n",
       "      <td>80704</td>\n",
       "      <td>80705</td>\n",
       "      <td>0.906039</td>\n",
       "    </tr>\n",
       "    <tr>\n",
       "      <th>97</th>\n",
       "      <td>97</td>\n",
       "      <td>80705</td>\n",
       "      <td>80706</td>\n",
       "      <td>0.906039</td>\n",
       "    </tr>\n",
       "    <tr>\n",
       "      <th>98</th>\n",
       "      <td>98</td>\n",
       "      <td>80706</td>\n",
       "      <td>80707</td>\n",
       "      <td>0.906039</td>\n",
       "    </tr>\n",
       "    <tr>\n",
       "      <th>99</th>\n",
       "      <td>99</td>\n",
       "      <td>80707</td>\n",
       "      <td>80708</td>\n",
       "      <td>0.906039</td>\n",
       "    </tr>\n",
       "    <tr>\n",
       "      <th>100</th>\n",
       "      <td>100</td>\n",
       "      <td>80708</td>\n",
       "      <td>80709</td>\n",
       "      <td>0.906039</td>\n",
       "    </tr>\n",
       "  </tbody>\n",
       "</table>\n",
       "<p>101 rows × 4 columns</p>\n",
       "</div>"
      ],
      "text/plain": [
       "     Unnamed: 0  Station ID  Next Station ID  Edge Weight\n",
       "0             0       80101            80102     0.962959\n",
       "1             1       80105            80106     0.962959\n",
       "2             2       80105            80154     0.962959\n",
       "3             3       80106            80107     0.962959\n",
       "4             4       80107            80108     0.962959\n",
       "..          ...         ...              ...          ...\n",
       "96           96       80704            80705     0.906039\n",
       "97           97       80705            80706     0.906039\n",
       "98           98       80706            80707     0.906039\n",
       "99           99       80707            80708     0.906039\n",
       "100         100       80708            80709     0.906039\n",
       "\n",
       "[101 rows x 4 columns]"
      ]
     },
     "execution_count": 157,
     "metadata": {},
     "output_type": "execute_result"
    }
   ],
   "source": [
    "edges = pd.read_csv(\"Edge Weights.csv\")\n",
    "edges"
   ]
  },
  {
   "cell_type": "code",
   "execution_count": 158,
   "metadata": {},
   "outputs": [],
   "source": [
    "df = pd.merge(df, edges, on=\"Station ID\")"
   ]
  },
  {
   "cell_type": "code",
   "execution_count": 159,
   "metadata": {},
   "outputs": [],
   "source": [
    "df[\"Edge Weight\"] = (df[\"Edge Weight\"]**(3))*20"
   ]
  },
  {
   "cell_type": "code",
   "execution_count": 160,
   "metadata": {},
   "outputs": [
    {
     "data": {
      "text/html": [
       "<div>\n",
       "<style scoped>\n",
       "    .dataframe tbody tr th:only-of-type {\n",
       "        vertical-align: middle;\n",
       "    }\n",
       "\n",
       "    .dataframe tbody tr th {\n",
       "        vertical-align: top;\n",
       "    }\n",
       "\n",
       "    .dataframe thead th {\n",
       "        text-align: right;\n",
       "    }\n",
       "</style>\n",
       "<table border=\"1\" class=\"dataframe\">\n",
       "  <thead>\n",
       "    <tr style=\"text-align: right;\">\n",
       "      <th></th>\n",
       "      <th>Station ID</th>\n",
       "      <th>Name</th>\n",
       "      <th>Latitude</th>\n",
       "      <th>Longitude</th>\n",
       "      <th>Lines</th>\n",
       "      <th>Line</th>\n",
       "      <th>Average Weekday Ridership</th>\n",
       "      <th>Rough Line Weight</th>\n",
       "      <th>Unnamed: 0</th>\n",
       "      <th>Next Station ID</th>\n",
       "      <th>Edge Weight</th>\n",
       "    </tr>\n",
       "  </thead>\n",
       "  <tbody>\n",
       "    <tr>\n",
       "      <th>0</th>\n",
       "      <td>80153</td>\n",
       "      <td>1st Street Station</td>\n",
       "      <td>33.768745</td>\n",
       "      <td>-118.189374</td>\n",
       "      <td>['Blue']</td>\n",
       "      <td>A</td>\n",
       "      <td>31752</td>\n",
       "      <td>9.780439</td>\n",
       "      <td>39</td>\n",
       "      <td>80154</td>\n",
       "      <td>17.858822</td>\n",
       "    </tr>\n",
       "    <tr>\n",
       "      <th>1</th>\n",
       "      <td>80101</td>\n",
       "      <td>Downtown Long Beach Station</td>\n",
       "      <td>33.768076</td>\n",
       "      <td>-118.192933</td>\n",
       "      <td>['Blue']</td>\n",
       "      <td>A</td>\n",
       "      <td>31752</td>\n",
       "      <td>9.780439</td>\n",
       "      <td>0</td>\n",
       "      <td>80102</td>\n",
       "      <td>17.858822</td>\n",
       "    </tr>\n",
       "    <tr>\n",
       "      <th>2</th>\n",
       "      <td>80105</td>\n",
       "      <td>Anaheim Street Station</td>\n",
       "      <td>33.781835</td>\n",
       "      <td>-118.189396</td>\n",
       "      <td>['Blue']</td>\n",
       "      <td>A</td>\n",
       "      <td>31752</td>\n",
       "      <td>9.780439</td>\n",
       "      <td>1</td>\n",
       "      <td>80106</td>\n",
       "      <td>17.858822</td>\n",
       "    </tr>\n",
       "    <tr>\n",
       "      <th>3</th>\n",
       "      <td>80105</td>\n",
       "      <td>Anaheim Street Station</td>\n",
       "      <td>33.781835</td>\n",
       "      <td>-118.189396</td>\n",
       "      <td>['Blue']</td>\n",
       "      <td>A</td>\n",
       "      <td>31752</td>\n",
       "      <td>9.780439</td>\n",
       "      <td>2</td>\n",
       "      <td>80154</td>\n",
       "      <td>17.858822</td>\n",
       "    </tr>\n",
       "    <tr>\n",
       "      <th>4</th>\n",
       "      <td>80106</td>\n",
       "      <td>Pacific Coast Hwy Station</td>\n",
       "      <td>33.789095</td>\n",
       "      <td>-118.189394</td>\n",
       "      <td>['Blue']</td>\n",
       "      <td>A</td>\n",
       "      <td>31752</td>\n",
       "      <td>9.780439</td>\n",
       "      <td>3</td>\n",
       "      <td>80107</td>\n",
       "      <td>17.858822</td>\n",
       "    </tr>\n",
       "    <tr>\n",
       "      <th>...</th>\n",
       "      <td>...</td>\n",
       "      <td>...</td>\n",
       "      <td>...</td>\n",
       "      <td>...</td>\n",
       "      <td>...</td>\n",
       "      <td>...</td>\n",
       "      <td>...</td>\n",
       "      <td>...</td>\n",
       "      <td>...</td>\n",
       "      <td>...</td>\n",
       "      <td>...</td>\n",
       "    </tr>\n",
       "    <tr>\n",
       "      <th>83</th>\n",
       "      <td>80708</td>\n",
       "      <td>Martin Luther King Jr Station</td>\n",
       "      <td>34.010167</td>\n",
       "      <td>-118.335347</td>\n",
       "      <td>['K']</td>\n",
       "      <td>K</td>\n",
       "      <td>1</td>\n",
       "      <td>0.000308</td>\n",
       "      <td>100</td>\n",
       "      <td>80709</td>\n",
       "      <td>14.875467</td>\n",
       "    </tr>\n",
       "    <tr>\n",
       "      <th>84</th>\n",
       "      <td>80707</td>\n",
       "      <td>Leimert Park Station</td>\n",
       "      <td>34.004582</td>\n",
       "      <td>-118.332665</td>\n",
       "      <td>['K']</td>\n",
       "      <td>K</td>\n",
       "      <td>1</td>\n",
       "      <td>0.000308</td>\n",
       "      <td>99</td>\n",
       "      <td>80708</td>\n",
       "      <td>14.875467</td>\n",
       "    </tr>\n",
       "    <tr>\n",
       "      <th>85</th>\n",
       "      <td>80706</td>\n",
       "      <td>Hyde Park Station</td>\n",
       "      <td>33.988290</td>\n",
       "      <td>-118.330836</td>\n",
       "      <td>['K']</td>\n",
       "      <td>K</td>\n",
       "      <td>1</td>\n",
       "      <td>0.000308</td>\n",
       "      <td>98</td>\n",
       "      <td>80707</td>\n",
       "      <td>14.875467</td>\n",
       "    </tr>\n",
       "    <tr>\n",
       "      <th>86</th>\n",
       "      <td>80705</td>\n",
       "      <td>Fairview Heights Station</td>\n",
       "      <td>33.975284</td>\n",
       "      <td>-118.336030</td>\n",
       "      <td>['K']</td>\n",
       "      <td>K</td>\n",
       "      <td>1</td>\n",
       "      <td>0.000308</td>\n",
       "      <td>97</td>\n",
       "      <td>80706</td>\n",
       "      <td>14.875467</td>\n",
       "    </tr>\n",
       "    <tr>\n",
       "      <th>87</th>\n",
       "      <td>80704</td>\n",
       "      <td>Downtown Inglewood Station</td>\n",
       "      <td>33.967299</td>\n",
       "      <td>-118.351393</td>\n",
       "      <td>['K']</td>\n",
       "      <td>K</td>\n",
       "      <td>1</td>\n",
       "      <td>0.000308</td>\n",
       "      <td>96</td>\n",
       "      <td>80705</td>\n",
       "      <td>14.875467</td>\n",
       "    </tr>\n",
       "  </tbody>\n",
       "</table>\n",
       "<p>88 rows × 11 columns</p>\n",
       "</div>"
      ],
      "text/plain": [
       "    Station ID                           Name   Latitude   Longitude  \\\n",
       "0        80153             1st Street Station  33.768745 -118.189374   \n",
       "1        80101    Downtown Long Beach Station  33.768076 -118.192933   \n",
       "2        80105         Anaheim Street Station  33.781835 -118.189396   \n",
       "3        80105         Anaheim Street Station  33.781835 -118.189396   \n",
       "4        80106      Pacific Coast Hwy Station  33.789095 -118.189394   \n",
       "..         ...                            ...        ...         ...   \n",
       "83       80708  Martin Luther King Jr Station  34.010167 -118.335347   \n",
       "84       80707           Leimert Park Station  34.004582 -118.332665   \n",
       "85       80706              Hyde Park Station  33.988290 -118.330836   \n",
       "86       80705       Fairview Heights Station  33.975284 -118.336030   \n",
       "87       80704     Downtown Inglewood Station  33.967299 -118.351393   \n",
       "\n",
       "       Lines Line  Average Weekday Ridership  Rough Line Weight  Unnamed: 0  \\\n",
       "0   ['Blue']    A                      31752           9.780439          39   \n",
       "1   ['Blue']    A                      31752           9.780439           0   \n",
       "2   ['Blue']    A                      31752           9.780439           1   \n",
       "3   ['Blue']    A                      31752           9.780439           2   \n",
       "4   ['Blue']    A                      31752           9.780439           3   \n",
       "..       ...  ...                        ...                ...         ...   \n",
       "83     ['K']    K                          1           0.000308         100   \n",
       "84     ['K']    K                          1           0.000308          99   \n",
       "85     ['K']    K                          1           0.000308          98   \n",
       "86     ['K']    K                          1           0.000308          97   \n",
       "87     ['K']    K                          1           0.000308          96   \n",
       "\n",
       "    Next Station ID  Edge Weight  \n",
       "0             80154    17.858822  \n",
       "1             80102    17.858822  \n",
       "2             80106    17.858822  \n",
       "3             80154    17.858822  \n",
       "4             80107    17.858822  \n",
       "..              ...          ...  \n",
       "83            80709    14.875467  \n",
       "84            80708    14.875467  \n",
       "85            80707    14.875467  \n",
       "86            80706    14.875467  \n",
       "87            80705    14.875467  \n",
       "\n",
       "[88 rows x 11 columns]"
      ]
     },
     "execution_count": 160,
     "metadata": {},
     "output_type": "execute_result"
    }
   ],
   "source": [
    "df"
   ]
  },
  {
   "cell_type": "code",
   "execution_count": 162,
   "metadata": {},
   "outputs": [
    {
     "data": {
      "application/vnd.plotly.v1+json": {
       "config": {
        "plotlyServerURL": "https://plot.ly"
       },
       "data": [
        {
         "hovertemplate": "<b>%{hovertext}</b><br><br>Line=A<br>Edge Weight=%{marker.size}<br>Latitude=%{lat}<br>Longitude=%{lon}<extra></extra>",
         "hovertext": [
          "1st Street Station",
          "Downtown Long Beach Station",
          "Anaheim Street Station",
          "Anaheim Street Station",
          "Pacific Coast Hwy Station",
          "Willow Street Station",
          "Wardlow Station",
          "Del Amo Station",
          "Artesia Station",
          "Compton Station",
          "103rd Street / Watts Towers  Station",
          "Firestone Station",
          "Florence Station",
          "Slauson Station",
          "Vernon Station",
          "Washington Station",
          "San Pedro Street Station",
          "Grand / LATTC Station",
          "Pico Station",
          "Chinatown Station",
          "Lincoln Heights / Cypress Park Station",
          "Heritage Square / Arroyo Station",
          "Southwest Museum Station",
          "Highland Park Station",
          "South Pasadena Station",
          "Fillmore Station",
          "Del Mar Station",
          "Memorial Park Station",
          "Lake Station",
          "Allen Station",
          "Sierra Madre Villa Station",
          "Arcadia Station",
          "Monrovia Station",
          "Duarte / City of Hope Station",
          "Irwindale Station",
          "Azusa Downtown Station"
         ],
         "lat": [
          33.76874483,
          33.76807583,
          33.78183483,
          33.78183483,
          33.78909483,
          33.80708383,
          33.81986983,
          33.84822684,
          33.87608684,
          33.89749484,
          33.94222484,
          33.95961585,
          33.97374485,
          33.98876485,
          34.00292485,
          34.01965485,
          34.02681185,
          34.03315985,
          34.04073985,
          34.06386586,
          34.08095386,
          34.08723186,
          34.09824786,
          34.11118387,
          34.11519087,
          34.13352587,
          34.14191487,
          34.14836087,
          34.15181087,
          34.15242187,
          34.14775688,
          34.14286488,
          34.13315988,
          34.13252288,
          34.12905288,
          34.13586788
         ],
         "legendgroup": "A",
         "lon": [
          -118.1893742,
          -118.1929332,
          -118.1893962,
          -118.1893962,
          -118.1893942,
          -118.1898462,
          -118.1961022,
          -118.2110292,
          -118.2225152,
          -118.2242612,
          -118.2431712,
          -118.2432172,
          -118.2432832,
          -118.2434102,
          -118.2433152,
          -118.2430962,
          -118.2555172,
          -118.2693452,
          -118.2661302,
          -118.2358522,
          -118.2204412,
          -118.2132252,
          -118.2067242,
          -118.1926182,
          -118.1578982,
          -118.1481382,
          -118.1482262,
          -118.1475242,
          -118.1314022,
          -118.1143602,
          -118.0812242,
          -118.0292112,
          -118.0034852,
          -117.9676922,
          -117.9325181,
          -117.9066431
         ],
         "marker": {
          "color": "#636efa",
          "size": [
           17.858821823557467,
           17.858821823557467,
           17.858821823557467,
           17.858821823557467,
           17.858821823557467,
           17.858821823557467,
           17.858821823557467,
           17.858821823557467,
           17.858821823557467,
           17.858821823557467,
           17.858821823557467,
           17.858821823557467,
           17.858821823557467,
           17.858821823557467,
           17.858821823557467,
           17.858821823557467,
           17.858821823557467,
           17.858821823557467,
           17.858821823557467,
           15.205099065343223,
           15.205099065343223,
           15.205099065343223,
           15.205099065343223,
           15.205099065343223,
           15.205099065343223,
           15.205099065343223,
           15.205099065343223,
           15.205099065343223,
           15.205099065343223,
           15.205099065343223,
           15.205099065343223,
           15.205099065343223,
           15.205099065343223,
           15.205099065343223,
           15.205099065343223,
           15.205099065343223
          ],
          "sizemode": "area",
          "sizeref": 0.14972635846049948
         },
         "mode": "markers",
         "name": "A",
         "showlegend": true,
         "subplot": "mapbox",
         "type": "scattermapbox"
        },
        {
         "hovertemplate": "<b>%{hovertext}</b><br><br>Line=E<br>Edge Weight=%{marker.size}<br>Latitude=%{lat}<br>Longitude=%{lon}<extra></extra>",
         "hovertext": [
          "Pico Station",
          "Atlantic Station",
          "East LA Civic Center Station",
          "Maravilla Station",
          "Indiana Station",
          "Soto Station",
          "Mariachi Plaza / Boyle Heights Station",
          "LATTC / Ortho Institute Station",
          "Jefferson / USC Station",
          "Expo Park / USC Station",
          "Expo / Vermont Station",
          "Expo / Western Station",
          "Farmdale Station",
          "La Cienega / Jefferson Station",
          "Culver City Station",
          "Palms Station",
          "Westwood / Rancho Park Station",
          "Expo / Sepulveda Station",
          "Expo / Bundy Station"
         ],
         "lat": [
          34.04073985,
          34.03340286,
          34.03336886,
          34.03332386,
          34.03430486,
          34.04375186,
          34.04721986,
          34.02911685,
          34.02212785,
          34.01823185,
          34.01824985,
          34.01833585,
          34.02398585,
          34.02635985,
          34.02790085,
          34.02932784,
          34.03682084,
          34.03541284,
          34.03170984
         ],
         "legendgroup": "E",
         "lon": [
          -118.2661302,
          -118.1544812,
          -118.1612182,
          -118.1681522,
          -118.1921942,
          -118.2100732,
          -118.2196602,
          -118.2736152,
          -118.2781302,
          -118.2857462,
          -118.2915522,
          -118.3089222,
          -118.3461072,
          -118.3721322,
          -118.3889982,
          -118.4042672,
          -118.4245882,
          -118.4342462,
          -118.4529082
         ],
         "marker": {
          "color": "#EF553B",
          "size": [
           17.858821823557467,
           15.205099065343223,
           15.205099065343223,
           15.205099065343223,
           15.205099065343223,
           15.205099065343223,
           15.205099065343223,
           17.858821823557467,
           17.858821823557467,
           17.858821823557467,
           17.858821823557467,
           17.858821823557467,
           17.858821823557467,
           17.858821823557467,
           17.858821823557467,
           17.858821823557467,
           17.858821823557467,
           17.858821823557467,
           17.858821823557467
          ],
          "sizemode": "area",
          "sizeref": 0.14972635846049948
         },
         "mode": "markers",
         "name": "E",
         "showlegend": true,
         "subplot": "mapbox",
         "type": "scattermapbox"
        },
        {
         "hovertemplate": "<b>%{hovertext}</b><br><br>Line=B<br>Edge Weight=%{marker.size}<br>Latitude=%{lat}<br>Longitude=%{lon}<extra></extra>",
         "hovertext": [
          "North Hollywood Station",
          "Universal / Studio City Station",
          "Hollywood / Highland Station",
          "Hollywood / Vine Station",
          "Hollywood / Western Station",
          "Vermont / Sunset Station",
          "Vermont / Santa Monica Station",
          "Vermont / Beverly Station",
          "Wilshire / Vermont Station",
          "Westlake / MacArthur Park Station",
          "Pershing Square Station",
          "Civic Center / Grand Park Station"
         ],
         "lat": [
          34.16850886,
          34.14000686,
          34.10155186,
          34.10163486,
          34.10174186,
          34.09771286,
          34.08991486,
          34.07653086,
          34.06270585,
          34.05637286,
          34.04932086,
          34.05490486
         ],
         "legendgroup": "B",
         "lon": [
          -118.3768202,
          -118.3627112,
          -118.3385612,
          -118.3251922,
          -118.3081292,
          -118.2917682,
          -118.2917422,
          -118.2916982,
          -118.2900942,
          -118.2748912,
          -118.2512712,
          -118.2460692
         ],
         "marker": {
          "color": "#00cc96",
          "size": [
           59.890543384199795,
           59.890543384199795,
           59.890543384199795,
           59.890543384199795,
           59.890543384199795,
           59.890543384199795,
           59.890543384199795,
           59.890543384199795,
           59.890543384199795,
           59.890543384199795,
           59.890543384199795,
           59.890543384199795
          ],
          "sizemode": "area",
          "sizeref": 0.14972635846049948
         },
         "mode": "markers",
         "name": "B",
         "showlegend": true,
         "subplot": "mapbox",
         "type": "scattermapbox"
        },
        {
         "hovertemplate": "<b>%{hovertext}</b><br><br>Line=D<br>Edge Weight=%{marker.size}<br>Latitude=%{lat}<br>Longitude=%{lon}<extra></extra>",
         "hovertext": [
          "Wilshire / Vermont Station",
          "Westlake / MacArthur Park Station",
          "Pershing Square Station",
          "Civic Center / Grand Park Station",
          "Wilshire / Normandie Station"
         ],
         "lat": [
          34.06270585,
          34.05637286,
          34.04932086,
          34.05490486,
          34.06175785
         ],
         "legendgroup": "D",
         "lon": [
          -118.2900942,
          -118.2748912,
          -118.2512712,
          -118.2460692,
          -118.3014702
         ],
         "marker": {
          "color": "#ab63fa",
          "size": [
           59.890543384199795,
           59.890543384199795,
           59.890543384199795,
           59.890543384199795,
           59.890543384199795
          ],
          "sizemode": "area",
          "sizeref": 0.14972635846049948
         },
         "mode": "markers",
         "name": "D",
         "showlegend": true,
         "subplot": "mapbox",
         "type": "scattermapbox"
        },
        {
         "hovertemplate": "<b>%{hovertext}</b><br><br>Line=C<br>Edge Weight=%{marker.size}<br>Latitude=%{lat}<br>Longitude=%{lon}<extra></extra>",
         "hovertext": [
          "Redondo Beach Station",
          "Douglas Station",
          "El Segundo Station",
          "Mariposa Station",
          "Aviation / LAX Station",
          "Hawthorne / Lennox Station",
          "Vermont / Athens Station",
          "Harbor Freeway Station",
          "Avalon Station",
          "Long Beach Blvd Station",
          "Lakewood Blvd Station"
         ],
         "lat": [
          33.89464483,
          33.90530383,
          33.91606783,
          33.92320483,
          33.92962583,
          33.93341284,
          33.92868784,
          33.92871884,
          33.92746984,
          33.92488484,
          33.91307485
         ],
         "legendgroup": "C",
         "lon": [
          -118.3692082,
          -118.3831252,
          -118.3865512,
          -118.3875842,
          -118.3771462,
          -118.3516142,
          -118.2917452,
          -118.2811122,
          -118.2652292,
          -118.2099572,
          -118.1406122
         ],
         "marker": {
          "color": "#FFA15A",
          "size": [
           9.852175019005331,
           9.852175019005331,
           9.852175019005331,
           9.852175019005331,
           9.852175019005331,
           9.852175019005331,
           9.852175019005331,
           9.852175019005331,
           9.852175019005331,
           9.852175019005331,
           9.852175019005331
          ],
          "sizemode": "area",
          "sizeref": 0.14972635846049948
         },
         "mode": "markers",
         "name": "C",
         "showlegend": true,
         "subplot": "mapbox",
         "type": "scattermapbox"
        },
        {
         "hovertemplate": "<b>%{hovertext}</b><br><br>Line=K<br>Edge Weight=%{marker.size}<br>Latitude=%{lat}<br>Longitude=%{lon}<extra></extra>",
         "hovertext": [
          "Martin Luther King Jr Station",
          "Leimert Park Station",
          "Hyde Park Station",
          "Fairview Heights Station",
          "Downtown Inglewood Station"
         ],
         "lat": [
          34.01016656,
          34.00458152,
          33.98828975,
          33.97528429,
          33.96729917
         ],
         "legendgroup": "K",
         "lon": [
          -118.335347,
          -118.3326646,
          -118.3308357,
          -118.3360302,
          -118.3513927
         ],
         "marker": {
          "color": "#19d3f3",
          "size": [
           14.875467121362735,
           14.875467121362735,
           14.875467121362735,
           14.875467121362735,
           14.875467121362735
          ],
          "sizemode": "area",
          "sizeref": 0.14972635846049948
         },
         "mode": "markers",
         "name": "K",
         "showlegend": true,
         "subplot": "mapbox",
         "type": "scattermapbox"
        }
       ],
       "layout": {
        "height": 800,
        "legend": {
         "itemsizing": "constant",
         "title": {
          "text": "Line"
         },
         "tracegroupgap": 0
        },
        "mapbox": {
         "center": {
          "lat": 34.01445797761364,
          "lon": -118.24838568863635
         },
         "domain": {
          "x": [
           0,
           1
          ],
          "y": [
           0,
           1
          ]
         },
         "style": "carto-positron",
         "zoom": 8.8
        },
        "template": {
         "data": {
          "bar": [
           {
            "error_x": {
             "color": "#2a3f5f"
            },
            "error_y": {
             "color": "#2a3f5f"
            },
            "marker": {
             "line": {
              "color": "#E5ECF6",
              "width": 0.5
             },
             "pattern": {
              "fillmode": "overlay",
              "size": 10,
              "solidity": 0.2
             }
            },
            "type": "bar"
           }
          ],
          "barpolar": [
           {
            "marker": {
             "line": {
              "color": "#E5ECF6",
              "width": 0.5
             },
             "pattern": {
              "fillmode": "overlay",
              "size": 10,
              "solidity": 0.2
             }
            },
            "type": "barpolar"
           }
          ],
          "carpet": [
           {
            "aaxis": {
             "endlinecolor": "#2a3f5f",
             "gridcolor": "white",
             "linecolor": "white",
             "minorgridcolor": "white",
             "startlinecolor": "#2a3f5f"
            },
            "baxis": {
             "endlinecolor": "#2a3f5f",
             "gridcolor": "white",
             "linecolor": "white",
             "minorgridcolor": "white",
             "startlinecolor": "#2a3f5f"
            },
            "type": "carpet"
           }
          ],
          "choropleth": [
           {
            "colorbar": {
             "outlinewidth": 0,
             "ticks": ""
            },
            "type": "choropleth"
           }
          ],
          "contour": [
           {
            "colorbar": {
             "outlinewidth": 0,
             "ticks": ""
            },
            "colorscale": [
             [
              0,
              "#0d0887"
             ],
             [
              0.1111111111111111,
              "#46039f"
             ],
             [
              0.2222222222222222,
              "#7201a8"
             ],
             [
              0.3333333333333333,
              "#9c179e"
             ],
             [
              0.4444444444444444,
              "#bd3786"
             ],
             [
              0.5555555555555556,
              "#d8576b"
             ],
             [
              0.6666666666666666,
              "#ed7953"
             ],
             [
              0.7777777777777778,
              "#fb9f3a"
             ],
             [
              0.8888888888888888,
              "#fdca26"
             ],
             [
              1,
              "#f0f921"
             ]
            ],
            "type": "contour"
           }
          ],
          "contourcarpet": [
           {
            "colorbar": {
             "outlinewidth": 0,
             "ticks": ""
            },
            "type": "contourcarpet"
           }
          ],
          "heatmap": [
           {
            "colorbar": {
             "outlinewidth": 0,
             "ticks": ""
            },
            "colorscale": [
             [
              0,
              "#0d0887"
             ],
             [
              0.1111111111111111,
              "#46039f"
             ],
             [
              0.2222222222222222,
              "#7201a8"
             ],
             [
              0.3333333333333333,
              "#9c179e"
             ],
             [
              0.4444444444444444,
              "#bd3786"
             ],
             [
              0.5555555555555556,
              "#d8576b"
             ],
             [
              0.6666666666666666,
              "#ed7953"
             ],
             [
              0.7777777777777778,
              "#fb9f3a"
             ],
             [
              0.8888888888888888,
              "#fdca26"
             ],
             [
              1,
              "#f0f921"
             ]
            ],
            "type": "heatmap"
           }
          ],
          "heatmapgl": [
           {
            "colorbar": {
             "outlinewidth": 0,
             "ticks": ""
            },
            "colorscale": [
             [
              0,
              "#0d0887"
             ],
             [
              0.1111111111111111,
              "#46039f"
             ],
             [
              0.2222222222222222,
              "#7201a8"
             ],
             [
              0.3333333333333333,
              "#9c179e"
             ],
             [
              0.4444444444444444,
              "#bd3786"
             ],
             [
              0.5555555555555556,
              "#d8576b"
             ],
             [
              0.6666666666666666,
              "#ed7953"
             ],
             [
              0.7777777777777778,
              "#fb9f3a"
             ],
             [
              0.8888888888888888,
              "#fdca26"
             ],
             [
              1,
              "#f0f921"
             ]
            ],
            "type": "heatmapgl"
           }
          ],
          "histogram": [
           {
            "marker": {
             "pattern": {
              "fillmode": "overlay",
              "size": 10,
              "solidity": 0.2
             }
            },
            "type": "histogram"
           }
          ],
          "histogram2d": [
           {
            "colorbar": {
             "outlinewidth": 0,
             "ticks": ""
            },
            "colorscale": [
             [
              0,
              "#0d0887"
             ],
             [
              0.1111111111111111,
              "#46039f"
             ],
             [
              0.2222222222222222,
              "#7201a8"
             ],
             [
              0.3333333333333333,
              "#9c179e"
             ],
             [
              0.4444444444444444,
              "#bd3786"
             ],
             [
              0.5555555555555556,
              "#d8576b"
             ],
             [
              0.6666666666666666,
              "#ed7953"
             ],
             [
              0.7777777777777778,
              "#fb9f3a"
             ],
             [
              0.8888888888888888,
              "#fdca26"
             ],
             [
              1,
              "#f0f921"
             ]
            ],
            "type": "histogram2d"
           }
          ],
          "histogram2dcontour": [
           {
            "colorbar": {
             "outlinewidth": 0,
             "ticks": ""
            },
            "colorscale": [
             [
              0,
              "#0d0887"
             ],
             [
              0.1111111111111111,
              "#46039f"
             ],
             [
              0.2222222222222222,
              "#7201a8"
             ],
             [
              0.3333333333333333,
              "#9c179e"
             ],
             [
              0.4444444444444444,
              "#bd3786"
             ],
             [
              0.5555555555555556,
              "#d8576b"
             ],
             [
              0.6666666666666666,
              "#ed7953"
             ],
             [
              0.7777777777777778,
              "#fb9f3a"
             ],
             [
              0.8888888888888888,
              "#fdca26"
             ],
             [
              1,
              "#f0f921"
             ]
            ],
            "type": "histogram2dcontour"
           }
          ],
          "mesh3d": [
           {
            "colorbar": {
             "outlinewidth": 0,
             "ticks": ""
            },
            "type": "mesh3d"
           }
          ],
          "parcoords": [
           {
            "line": {
             "colorbar": {
              "outlinewidth": 0,
              "ticks": ""
             }
            },
            "type": "parcoords"
           }
          ],
          "pie": [
           {
            "automargin": true,
            "type": "pie"
           }
          ],
          "scatter": [
           {
            "fillpattern": {
             "fillmode": "overlay",
             "size": 10,
             "solidity": 0.2
            },
            "type": "scatter"
           }
          ],
          "scatter3d": [
           {
            "line": {
             "colorbar": {
              "outlinewidth": 0,
              "ticks": ""
             }
            },
            "marker": {
             "colorbar": {
              "outlinewidth": 0,
              "ticks": ""
             }
            },
            "type": "scatter3d"
           }
          ],
          "scattercarpet": [
           {
            "marker": {
             "colorbar": {
              "outlinewidth": 0,
              "ticks": ""
             }
            },
            "type": "scattercarpet"
           }
          ],
          "scattergeo": [
           {
            "marker": {
             "colorbar": {
              "outlinewidth": 0,
              "ticks": ""
             }
            },
            "type": "scattergeo"
           }
          ],
          "scattergl": [
           {
            "marker": {
             "colorbar": {
              "outlinewidth": 0,
              "ticks": ""
             }
            },
            "type": "scattergl"
           }
          ],
          "scattermapbox": [
           {
            "marker": {
             "colorbar": {
              "outlinewidth": 0,
              "ticks": ""
             }
            },
            "type": "scattermapbox"
           }
          ],
          "scatterpolar": [
           {
            "marker": {
             "colorbar": {
              "outlinewidth": 0,
              "ticks": ""
             }
            },
            "type": "scatterpolar"
           }
          ],
          "scatterpolargl": [
           {
            "marker": {
             "colorbar": {
              "outlinewidth": 0,
              "ticks": ""
             }
            },
            "type": "scatterpolargl"
           }
          ],
          "scatterternary": [
           {
            "marker": {
             "colorbar": {
              "outlinewidth": 0,
              "ticks": ""
             }
            },
            "type": "scatterternary"
           }
          ],
          "surface": [
           {
            "colorbar": {
             "outlinewidth": 0,
             "ticks": ""
            },
            "colorscale": [
             [
              0,
              "#0d0887"
             ],
             [
              0.1111111111111111,
              "#46039f"
             ],
             [
              0.2222222222222222,
              "#7201a8"
             ],
             [
              0.3333333333333333,
              "#9c179e"
             ],
             [
              0.4444444444444444,
              "#bd3786"
             ],
             [
              0.5555555555555556,
              "#d8576b"
             ],
             [
              0.6666666666666666,
              "#ed7953"
             ],
             [
              0.7777777777777778,
              "#fb9f3a"
             ],
             [
              0.8888888888888888,
              "#fdca26"
             ],
             [
              1,
              "#f0f921"
             ]
            ],
            "type": "surface"
           }
          ],
          "table": [
           {
            "cells": {
             "fill": {
              "color": "#EBF0F8"
             },
             "line": {
              "color": "white"
             }
            },
            "header": {
             "fill": {
              "color": "#C8D4E3"
             },
             "line": {
              "color": "white"
             }
            },
            "type": "table"
           }
          ]
         },
         "layout": {
          "annotationdefaults": {
           "arrowcolor": "#2a3f5f",
           "arrowhead": 0,
           "arrowwidth": 1
          },
          "autotypenumbers": "strict",
          "coloraxis": {
           "colorbar": {
            "outlinewidth": 0,
            "ticks": ""
           }
          },
          "colorscale": {
           "diverging": [
            [
             0,
             "#8e0152"
            ],
            [
             0.1,
             "#c51b7d"
            ],
            [
             0.2,
             "#de77ae"
            ],
            [
             0.3,
             "#f1b6da"
            ],
            [
             0.4,
             "#fde0ef"
            ],
            [
             0.5,
             "#f7f7f7"
            ],
            [
             0.6,
             "#e6f5d0"
            ],
            [
             0.7,
             "#b8e186"
            ],
            [
             0.8,
             "#7fbc41"
            ],
            [
             0.9,
             "#4d9221"
            ],
            [
             1,
             "#276419"
            ]
           ],
           "sequential": [
            [
             0,
             "#0d0887"
            ],
            [
             0.1111111111111111,
             "#46039f"
            ],
            [
             0.2222222222222222,
             "#7201a8"
            ],
            [
             0.3333333333333333,
             "#9c179e"
            ],
            [
             0.4444444444444444,
             "#bd3786"
            ],
            [
             0.5555555555555556,
             "#d8576b"
            ],
            [
             0.6666666666666666,
             "#ed7953"
            ],
            [
             0.7777777777777778,
             "#fb9f3a"
            ],
            [
             0.8888888888888888,
             "#fdca26"
            ],
            [
             1,
             "#f0f921"
            ]
           ],
           "sequentialminus": [
            [
             0,
             "#0d0887"
            ],
            [
             0.1111111111111111,
             "#46039f"
            ],
            [
             0.2222222222222222,
             "#7201a8"
            ],
            [
             0.3333333333333333,
             "#9c179e"
            ],
            [
             0.4444444444444444,
             "#bd3786"
            ],
            [
             0.5555555555555556,
             "#d8576b"
            ],
            [
             0.6666666666666666,
             "#ed7953"
            ],
            [
             0.7777777777777778,
             "#fb9f3a"
            ],
            [
             0.8888888888888888,
             "#fdca26"
            ],
            [
             1,
             "#f0f921"
            ]
           ]
          },
          "colorway": [
           "#636efa",
           "#EF553B",
           "#00cc96",
           "#ab63fa",
           "#FFA15A",
           "#19d3f3",
           "#FF6692",
           "#B6E880",
           "#FF97FF",
           "#FECB52"
          ],
          "font": {
           "color": "#2a3f5f"
          },
          "geo": {
           "bgcolor": "white",
           "lakecolor": "white",
           "landcolor": "#E5ECF6",
           "showlakes": true,
           "showland": true,
           "subunitcolor": "white"
          },
          "hoverlabel": {
           "align": "left"
          },
          "hovermode": "closest",
          "mapbox": {
           "style": "light"
          },
          "paper_bgcolor": "white",
          "plot_bgcolor": "#E5ECF6",
          "polar": {
           "angularaxis": {
            "gridcolor": "white",
            "linecolor": "white",
            "ticks": ""
           },
           "bgcolor": "#E5ECF6",
           "radialaxis": {
            "gridcolor": "white",
            "linecolor": "white",
            "ticks": ""
           }
          },
          "scene": {
           "xaxis": {
            "backgroundcolor": "#E5ECF6",
            "gridcolor": "white",
            "gridwidth": 2,
            "linecolor": "white",
            "showbackground": true,
            "ticks": "",
            "zerolinecolor": "white"
           },
           "yaxis": {
            "backgroundcolor": "#E5ECF6",
            "gridcolor": "white",
            "gridwidth": 2,
            "linecolor": "white",
            "showbackground": true,
            "ticks": "",
            "zerolinecolor": "white"
           },
           "zaxis": {
            "backgroundcolor": "#E5ECF6",
            "gridcolor": "white",
            "gridwidth": 2,
            "linecolor": "white",
            "showbackground": true,
            "ticks": "",
            "zerolinecolor": "white"
           }
          },
          "shapedefaults": {
           "line": {
            "color": "#2a3f5f"
           }
          },
          "ternary": {
           "aaxis": {
            "gridcolor": "white",
            "linecolor": "white",
            "ticks": ""
           },
           "baxis": {
            "gridcolor": "white",
            "linecolor": "white",
            "ticks": ""
           },
           "bgcolor": "#E5ECF6",
           "caxis": {
            "gridcolor": "white",
            "linecolor": "white",
            "ticks": ""
           }
          },
          "title": {
           "x": 0.05
          },
          "xaxis": {
           "automargin": true,
           "gridcolor": "white",
           "linecolor": "white",
           "ticks": "",
           "title": {
            "standoff": 15
           },
           "zerolinecolor": "white",
           "zerolinewidth": 2
          },
          "yaxis": {
           "automargin": true,
           "gridcolor": "white",
           "linecolor": "white",
           "ticks": "",
           "title": {
            "standoff": 15
           },
           "zerolinecolor": "white",
           "zerolinewidth": 2
          }
         }
        },
        "title": {
         "text": "Graph Representation of LA Metro Station Locations by Line (With NetworkX Weights)"
        },
        "width": 800
       }
      }
     },
     "metadata": {},
     "output_type": "display_data"
    }
   ],
   "source": [
    "#This is basically the same as the plot I had above, so this is redundant info... also, some stations are missing? JUst gonna use the plot above\n",
    "fig = px.scatter_mapbox(df, \n",
    "                        lat = \"Latitude\",\n",
    "                        lon = \"Longitude\",\n",
    "                        color = \"Line\",\n",
    "                        size = \"Edge Weight\",\n",
    "                        hover_name = \"Name\",\n",
    "                        #hover_data = \"Lines\",\n",
    "                        zoom = 8.8,\n",
    "                        height = 800,\n",
    "                        width = 800,\n",
    "                        title = \"Graph Representation of LA Metro Station Locations by Line (With NetworkX Weights)\",\n",
    "                        mapbox_style = \"carto-positron\")\n",
    "\n",
    "fig.show()"
   ]
  }
 ],
 "metadata": {
  "kernelspec": {
   "display_name": "PIC16B-2",
   "language": "python",
   "name": "python3"
  },
  "language_info": {
   "codemirror_mode": {
    "name": "ipython",
    "version": 3
   },
   "file_extension": ".py",
   "mimetype": "text/x-python",
   "name": "python",
   "nbconvert_exporter": "python",
   "pygments_lexer": "ipython3",
   "version": "3.11.6"
  }
 },
 "nbformat": 4,
 "nbformat_minor": 2
}
