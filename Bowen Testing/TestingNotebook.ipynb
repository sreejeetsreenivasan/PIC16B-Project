{
 "cells": [
  {
   "cell_type": "markdown",
   "id": "b44f93fa-8b33-4b76-a149-6e70cc70f78c",
   "metadata": {},
   "source": [
    "# To Start!"
   ]
  },
  {
   "cell_type": "markdown",
   "id": "140e3a7e-a70c-4008-babb-88e2eb9e1352",
   "metadata": {},
   "source": [
    "We first import the packages that we will be using. \n",
    "\n",
    "We need pandas to work on our data, matplotlib pyplot for visualizations, numpy for array calculations, and finally networkx for all our graph networks."
   ]
  },
  {
   "cell_type": "code",
   "execution_count": 98,
   "id": "1ab91c55-71f7-4333-8e87-4ee6eb9fe5a2",
   "metadata": {
    "tags": [],
    "ExecuteTime": {
     "end_time": "2023-12-10T02:39:59.328773900Z",
     "start_time": "2023-12-10T02:39:59.125554500Z"
    }
   },
   "outputs": [],
   "source": [
    "import networkx as nx\n",
    "import matplotlib.pyplot as plt\n",
    "import numpy as np\n",
    "from numba import njit\n",
    "import random\n",
    "import pandas as pd"
   ]
  },
  {
   "cell_type": "markdown",
   "id": "ad022c4a-47b3-4ace-97db-a5b75eb0274f",
   "metadata": {},
   "source": [
    "Next, we grab the static gtfs rail text files and read them into dataframes."
   ]
  },
  {
   "cell_type": "code",
   "execution_count": 99,
   "id": "36d3a709-60e9-4bba-bd8d-8ab0dec4a2f3",
   "metadata": {
    "tags": [],
    "ExecuteTime": {
     "end_time": "2023-12-10T02:39:59.501269900Z",
     "start_time": "2023-12-10T02:39:59.135031500Z"
    }
   },
   "outputs": [],
   "source": [
    "trips = pd.read_csv('../Project_Main/gtfs_rail/trips.txt')\n",
    "stops = pd.read_csv('../Project_Main/gtfs_rail/stops.txt')"
   ]
  },
  {
   "cell_type": "markdown",
   "id": "a422c1c9-5cca-43dc-8700-4c7cbb010d25",
   "metadata": {},
   "source": [
    "Let us see what we have. We check which stops are on the 4th line."
   ]
  },
  {
   "cell_type": "code",
   "execution_count": 100,
   "id": "e68a588d-1e8e-4661-b9fb-1d64d4448322",
   "metadata": {
    "tags": [],
    "ExecuteTime": {
     "end_time": "2023-12-10T02:39:59.505230700Z",
     "start_time": "2023-12-10T02:39:59.155826Z"
    }
   },
   "outputs": [
    {
     "data": {
      "text/plain": "    stop_id stop_code                                          stop_name  \\\n289   80401     80401                                   Atlantic Station   \n290  80401S    80401S                                   Atlantic Station   \n291  80401A    80401A      Atlantic Station - Pomona & Atlantic Entrance   \n292  80401B    80401B       Atlantic Station - Pomona & Beverly Entrance   \n293   80402     80402                       East LA Civic Center Station   \n..      ...       ...                                                ...   \n384  80426A    80426A  Azusa Downtown Station - Azusa Avenue Entrance...   \n385  80426B    80426B  Azusa Downtown Station - Azusa Avenue Entrance...   \n386   80427     80427                       APU / Citrus College Station   \n387  80427S    80427S                       APU / Citrus College Station   \n388  80427A    80427A         APU / Citrus College Station - East Portal   \n\n     stop_desc   stop_lat    stop_lon  stop_url  location_type parent_station  \\\n289        NaN  34.033398 -118.154469       NaN              0         80401S   \n290        NaN  34.033398 -118.154469       NaN              1            NaN   \n291        NaN  34.033370 -118.152950       NaN              2         80401S   \n292        NaN  34.033420 -118.155310       NaN              2         80401S   \n293        NaN  34.033364 -118.161206       NaN              0         80402S   \n..         ...        ...         ...       ...            ...            ...   \n384        NaN  34.135710 -117.907410       NaN              2         80426S   \n385        NaN  34.135440 -117.907410       NaN              2         80426S   \n386        NaN  34.136814 -117.891636       NaN              0         80427S   \n387        NaN  34.136814 -117.891636       NaN              1            NaN   \n388        NaN  34.136940 -117.890850       NaN              2         80427S   \n\n    tpis_name  \n289   East LA  \n290       NaN  \n291       NaN  \n292       NaN  \n293     ELACC  \n..        ...  \n384       NaN  \n385       NaN  \n386     Azusa  \n387       NaN  \n388       NaN  \n\n[100 rows x 10 columns]",
      "text/html": "<div>\n<style scoped>\n    .dataframe tbody tr th:only-of-type {\n        vertical-align: middle;\n    }\n\n    .dataframe tbody tr th {\n        vertical-align: top;\n    }\n\n    .dataframe thead th {\n        text-align: right;\n    }\n</style>\n<table border=\"1\" class=\"dataframe\">\n  <thead>\n    <tr style=\"text-align: right;\">\n      <th></th>\n      <th>stop_id</th>\n      <th>stop_code</th>\n      <th>stop_name</th>\n      <th>stop_desc</th>\n      <th>stop_lat</th>\n      <th>stop_lon</th>\n      <th>stop_url</th>\n      <th>location_type</th>\n      <th>parent_station</th>\n      <th>tpis_name</th>\n    </tr>\n  </thead>\n  <tbody>\n    <tr>\n      <th>289</th>\n      <td>80401</td>\n      <td>80401</td>\n      <td>Atlantic Station</td>\n      <td>NaN</td>\n      <td>34.033398</td>\n      <td>-118.154469</td>\n      <td>NaN</td>\n      <td>0</td>\n      <td>80401S</td>\n      <td>East LA</td>\n    </tr>\n    <tr>\n      <th>290</th>\n      <td>80401S</td>\n      <td>80401S</td>\n      <td>Atlantic Station</td>\n      <td>NaN</td>\n      <td>34.033398</td>\n      <td>-118.154469</td>\n      <td>NaN</td>\n      <td>1</td>\n      <td>NaN</td>\n      <td>NaN</td>\n    </tr>\n    <tr>\n      <th>291</th>\n      <td>80401A</td>\n      <td>80401A</td>\n      <td>Atlantic Station - Pomona &amp; Atlantic Entrance</td>\n      <td>NaN</td>\n      <td>34.033370</td>\n      <td>-118.152950</td>\n      <td>NaN</td>\n      <td>2</td>\n      <td>80401S</td>\n      <td>NaN</td>\n    </tr>\n    <tr>\n      <th>292</th>\n      <td>80401B</td>\n      <td>80401B</td>\n      <td>Atlantic Station - Pomona &amp; Beverly Entrance</td>\n      <td>NaN</td>\n      <td>34.033420</td>\n      <td>-118.155310</td>\n      <td>NaN</td>\n      <td>2</td>\n      <td>80401S</td>\n      <td>NaN</td>\n    </tr>\n    <tr>\n      <th>293</th>\n      <td>80402</td>\n      <td>80402</td>\n      <td>East LA Civic Center Station</td>\n      <td>NaN</td>\n      <td>34.033364</td>\n      <td>-118.161206</td>\n      <td>NaN</td>\n      <td>0</td>\n      <td>80402S</td>\n      <td>ELACC</td>\n    </tr>\n    <tr>\n      <th>...</th>\n      <td>...</td>\n      <td>...</td>\n      <td>...</td>\n      <td>...</td>\n      <td>...</td>\n      <td>...</td>\n      <td>...</td>\n      <td>...</td>\n      <td>...</td>\n      <td>...</td>\n    </tr>\n    <tr>\n      <th>384</th>\n      <td>80426A</td>\n      <td>80426A</td>\n      <td>Azusa Downtown Station - Azusa Avenue Entrance...</td>\n      <td>NaN</td>\n      <td>34.135710</td>\n      <td>-117.907410</td>\n      <td>NaN</td>\n      <td>2</td>\n      <td>80426S</td>\n      <td>NaN</td>\n    </tr>\n    <tr>\n      <th>385</th>\n      <td>80426B</td>\n      <td>80426B</td>\n      <td>Azusa Downtown Station - Azusa Avenue Entrance...</td>\n      <td>NaN</td>\n      <td>34.135440</td>\n      <td>-117.907410</td>\n      <td>NaN</td>\n      <td>2</td>\n      <td>80426S</td>\n      <td>NaN</td>\n    </tr>\n    <tr>\n      <th>386</th>\n      <td>80427</td>\n      <td>80427</td>\n      <td>APU / Citrus College Station</td>\n      <td>NaN</td>\n      <td>34.136814</td>\n      <td>-117.891636</td>\n      <td>NaN</td>\n      <td>0</td>\n      <td>80427S</td>\n      <td>Azusa</td>\n    </tr>\n    <tr>\n      <th>387</th>\n      <td>80427S</td>\n      <td>80427S</td>\n      <td>APU / Citrus College Station</td>\n      <td>NaN</td>\n      <td>34.136814</td>\n      <td>-117.891636</td>\n      <td>NaN</td>\n      <td>1</td>\n      <td>NaN</td>\n      <td>NaN</td>\n    </tr>\n    <tr>\n      <th>388</th>\n      <td>80427A</td>\n      <td>80427A</td>\n      <td>APU / Citrus College Station - East Portal</td>\n      <td>NaN</td>\n      <td>34.136940</td>\n      <td>-117.890850</td>\n      <td>NaN</td>\n      <td>2</td>\n      <td>80427S</td>\n      <td>NaN</td>\n    </tr>\n  </tbody>\n</table>\n<p>100 rows × 10 columns</p>\n</div>"
     },
     "execution_count": 100,
     "metadata": {},
     "output_type": "execute_result"
    }
   ],
   "source": [
    "stops[stops[\"stop_id\"].str[:3] == \"804\"]"
   ]
  },
  {
   "cell_type": "markdown",
   "id": "045336ad-a1d0-41ae-9a9e-c934958bdaa8",
   "metadata": {},
   "source": [
    "# Cleaning the Data"
   ]
  },
  {
   "cell_type": "markdown",
   "id": "7eb73b2f-2c94-442b-bc2e-c724d04b2045",
   "metadata": {},
   "source": [
    "Ok, so we really need to clean this data up. We remove all stops that are not part of the LA Metro rail lines (ie fake stop data) and we only want the main stop for each station."
   ]
  },
  {
   "cell_type": "code",
   "execution_count": 101,
   "id": "e2ee07da-97e5-4b70-a7eb-4f9e4cb610b4",
   "metadata": {
    "tags": [],
    "ExecuteTime": {
     "end_time": "2023-12-10T02:39:59.528170800Z",
     "start_time": "2023-12-10T02:39:59.160026300Z"
    }
   },
   "outputs": [],
   "source": [
    "stops = stops[stops[\"stop_id\"].str[:3] < \"810\"]\n",
    "stops = stops[stops[\"location_type\"] == 0]"
   ]
  },
  {
   "cell_type": "markdown",
   "id": "c2567ec8-d522-46f9-a83e-46c6678a8b8a",
   "metadata": {
    "tags": []
   },
   "source": [
    "We can look at our data now!"
   ]
  },
  {
   "cell_type": "code",
   "execution_count": 102,
   "id": "9be71509-f7ef-46ab-b320-6509f19461a7",
   "metadata": {
    "tags": [],
    "ExecuteTime": {
     "end_time": "2023-12-10T02:39:59.529167400Z",
     "start_time": "2023-12-10T02:39:59.166501200Z"
    }
   },
   "outputs": [
    {
     "data": {
      "text/plain": "    stop_id stop_code                       stop_name  stop_desc   stop_lat  \\\n0     80101     80101     Downtown Long Beach Station        NaN  33.768071   \n4     80102     80102             Pacific Ave Station        NaN  33.772258   \n8     80105     80105          Anaheim Street Station        NaN  33.781830   \n12    80106     80106       Pacific Coast Hwy Station        NaN  33.789090   \n15    80107     80107           Willow Street Station        NaN  33.807079   \n..      ...       ...                             ...        ...        ...   \n403   80705     80705        Fairview Heights Station        NaN  33.975252   \n407   80706     80706               Hyde Park Station        NaN  33.988187   \n411   80707     80707            Leimert Park Station        NaN  34.003909   \n415   80708     80708   Martin Luther King Jr Station        NaN  34.009563   \n419   80709     80709  Expo / Crenshaw K-Line Station        NaN  34.022156   \n\n       stop_lon  stop_url  location_type parent_station  tpis_name  \n0   -118.192921       NaN              0         80101S   Long Bch  \n4   -118.193700       NaN              0         80102S    Pacific  \n8   -118.189384       NaN              0         80105S    Anaheim  \n12  -118.189382       NaN              0         80106S        PCH  \n15  -118.189834       NaN              0         80107S     Willow  \n..          ...       ...            ...            ...        ...  \n403 -118.336072       NaN              0         80705S   Fairview  \n407 -118.330816       NaN              0         80706S  Hyde Park  \n411 -118.332016       NaN              0         80707S    Leimert  \n415 -118.335359       NaN              0         80708S        MLK  \n419 -118.334851       NaN              0         80709S  Crnshw/Ex  \n\n[104 rows x 10 columns]",
      "text/html": "<div>\n<style scoped>\n    .dataframe tbody tr th:only-of-type {\n        vertical-align: middle;\n    }\n\n    .dataframe tbody tr th {\n        vertical-align: top;\n    }\n\n    .dataframe thead th {\n        text-align: right;\n    }\n</style>\n<table border=\"1\" class=\"dataframe\">\n  <thead>\n    <tr style=\"text-align: right;\">\n      <th></th>\n      <th>stop_id</th>\n      <th>stop_code</th>\n      <th>stop_name</th>\n      <th>stop_desc</th>\n      <th>stop_lat</th>\n      <th>stop_lon</th>\n      <th>stop_url</th>\n      <th>location_type</th>\n      <th>parent_station</th>\n      <th>tpis_name</th>\n    </tr>\n  </thead>\n  <tbody>\n    <tr>\n      <th>0</th>\n      <td>80101</td>\n      <td>80101</td>\n      <td>Downtown Long Beach Station</td>\n      <td>NaN</td>\n      <td>33.768071</td>\n      <td>-118.192921</td>\n      <td>NaN</td>\n      <td>0</td>\n      <td>80101S</td>\n      <td>Long Bch</td>\n    </tr>\n    <tr>\n      <th>4</th>\n      <td>80102</td>\n      <td>80102</td>\n      <td>Pacific Ave Station</td>\n      <td>NaN</td>\n      <td>33.772258</td>\n      <td>-118.193700</td>\n      <td>NaN</td>\n      <td>0</td>\n      <td>80102S</td>\n      <td>Pacific</td>\n    </tr>\n    <tr>\n      <th>8</th>\n      <td>80105</td>\n      <td>80105</td>\n      <td>Anaheim Street Station</td>\n      <td>NaN</td>\n      <td>33.781830</td>\n      <td>-118.189384</td>\n      <td>NaN</td>\n      <td>0</td>\n      <td>80105S</td>\n      <td>Anaheim</td>\n    </tr>\n    <tr>\n      <th>12</th>\n      <td>80106</td>\n      <td>80106</td>\n      <td>Pacific Coast Hwy Station</td>\n      <td>NaN</td>\n      <td>33.789090</td>\n      <td>-118.189382</td>\n      <td>NaN</td>\n      <td>0</td>\n      <td>80106S</td>\n      <td>PCH</td>\n    </tr>\n    <tr>\n      <th>15</th>\n      <td>80107</td>\n      <td>80107</td>\n      <td>Willow Street Station</td>\n      <td>NaN</td>\n      <td>33.807079</td>\n      <td>-118.189834</td>\n      <td>NaN</td>\n      <td>0</td>\n      <td>80107S</td>\n      <td>Willow</td>\n    </tr>\n    <tr>\n      <th>...</th>\n      <td>...</td>\n      <td>...</td>\n      <td>...</td>\n      <td>...</td>\n      <td>...</td>\n      <td>...</td>\n      <td>...</td>\n      <td>...</td>\n      <td>...</td>\n      <td>...</td>\n    </tr>\n    <tr>\n      <th>403</th>\n      <td>80705</td>\n      <td>80705</td>\n      <td>Fairview Heights Station</td>\n      <td>NaN</td>\n      <td>33.975252</td>\n      <td>-118.336072</td>\n      <td>NaN</td>\n      <td>0</td>\n      <td>80705S</td>\n      <td>Fairview</td>\n    </tr>\n    <tr>\n      <th>407</th>\n      <td>80706</td>\n      <td>80706</td>\n      <td>Hyde Park Station</td>\n      <td>NaN</td>\n      <td>33.988187</td>\n      <td>-118.330816</td>\n      <td>NaN</td>\n      <td>0</td>\n      <td>80706S</td>\n      <td>Hyde Park</td>\n    </tr>\n    <tr>\n      <th>411</th>\n      <td>80707</td>\n      <td>80707</td>\n      <td>Leimert Park Station</td>\n      <td>NaN</td>\n      <td>34.003909</td>\n      <td>-118.332016</td>\n      <td>NaN</td>\n      <td>0</td>\n      <td>80707S</td>\n      <td>Leimert</td>\n    </tr>\n    <tr>\n      <th>415</th>\n      <td>80708</td>\n      <td>80708</td>\n      <td>Martin Luther King Jr Station</td>\n      <td>NaN</td>\n      <td>34.009563</td>\n      <td>-118.335359</td>\n      <td>NaN</td>\n      <td>0</td>\n      <td>80708S</td>\n      <td>MLK</td>\n    </tr>\n    <tr>\n      <th>419</th>\n      <td>80709</td>\n      <td>80709</td>\n      <td>Expo / Crenshaw K-Line Station</td>\n      <td>NaN</td>\n      <td>34.022156</td>\n      <td>-118.334851</td>\n      <td>NaN</td>\n      <td>0</td>\n      <td>80709S</td>\n      <td>Crnshw/Ex</td>\n    </tr>\n  </tbody>\n</table>\n<p>104 rows × 10 columns</p>\n</div>"
     },
     "execution_count": 102,
     "metadata": {},
     "output_type": "execute_result"
    }
   ],
   "source": [
    "stops"
   ]
  },
  {
   "cell_type": "markdown",
   "id": "005a81cb-def7-4344-91c8-72894590ae5a",
   "metadata": {},
   "source": [
    "# Creating the Graph"
   ]
  },
  {
   "cell_type": "markdown",
   "id": "aef4ed86-ef87-4944-a063-e98ba60a2e8b",
   "metadata": {},
   "source": [
    "Now we can use networkx package to create graph objects. We will be using the graph object to create calculations. We will create a simple graph for now."
   ]
  },
  {
   "cell_type": "markdown",
   "id": "13f27eaf-2476-47c3-a958-f149209dbc60",
   "metadata": {},
   "source": [
    "First, we make simple function to turn lists of strings into int."
   ]
  },
  {
   "cell_type": "code",
   "execution_count": 103,
   "id": "5dfe655a-3e43-4196-8af5-27c39f5dbc04",
   "metadata": {
    "tags": [],
    "ExecuteTime": {
     "end_time": "2023-12-10T02:39:59.552105300Z",
     "start_time": "2023-12-10T02:39:59.181860700Z"
    }
   },
   "outputs": [],
   "source": [
    "def to_int(l):\n",
    "    \"\"\"\n",
    "    Simple function that takes in a list of strings and returns a string of integers\n",
    "    \"\"\"\n",
    "    return [int(i) for i in l]"
   ]
  },
  {
   "cell_type": "code",
   "execution_count": 104,
   "id": "b38c2820-af01-4fcf-8f91-2b5a189470c2",
   "metadata": {
    "tags": [],
    "ExecuteTime": {
     "end_time": "2023-12-10T02:39:59.583022100Z",
     "start_time": "2023-12-10T02:39:59.189581700Z"
    }
   },
   "outputs": [],
   "source": [
    "# Creating our graph\n",
    "rail_network = nx.Graph()\n",
    "\n",
    "# Node List\n",
    "# Get all stop IDs and put in list\n",
    "NL = stops[\"stop_id\"].tolist()\n",
    "# Cast all IDs to int type\n",
    "NL = [int(i) for i in NL]\n",
    "# Add node list NL as nodes to our graph\n",
    "rail_network.add_nodes_from(NL)\n",
    "\n",
    "# Edges List\n",
    "# Empty list\n",
    "EL = []\n",
    "# Loop through our sorted stops\n",
    "for i in range(len(stops)-1):\n",
    "    # Grab the IDs of each stop and consecutive stop\n",
    "    stop_id_1 = int(stops[\"stop_id\"].iloc[[i]])\n",
    "    stop_id_2 = int(stops[\"stop_id\"].iloc[[i+1]])\n",
    "    \n",
    "    # Append the stop tuple if they are next to each other on the line\n",
    "    if stop_id_1+1 == stop_id_2:\n",
    "        EL.append((stop_id_1, stop_id_2))\n",
    "        \n",
    "# We find the intersection stops\n",
    "intersection1 = stops[stops[\"stop_name\"].str[:10] == \"7th Street\"][\"stop_code\"].tolist()\n",
    "intersection1 = to_int(intersection1)\n",
    "intersection2 = stops[stops[\"stop_name\"].str[:10] == \"Willowbroo\"][\"stop_code\"].tolist()\n",
    "intersection2 = to_int(intersection2)\n",
    "intersection3 = stops[stops[\"stop_name\"].str[:10] == \"Union Stat\"][\"stop_code\"].tolist()\n",
    "intersection3 = to_int(intersection3)\n",
    "intersection4 = stops[stops[\"stop_name\"].str[:10] == \"Expo / Cre\"][\"stop_code\"].tolist()\n",
    "intersection4 = to_int(intersection4)\n",
    "# Append the intersection stops\n",
    "EL.append((intersection1[0], intersection1[1]))\n",
    "EL.append((intersection2[0], intersection2[1]))\n",
    "EL.append((intersection3[0], intersection3[1]))\n",
    "EL.append((intersection4[0], intersection4[1]))\n",
    "\n",
    "# Extra missed connections\n",
    "EL.append((80154, 80105))\n",
    "# Add edge list to graph\n",
    "rail_network.add_edges_from(EL)\n"
   ]
  },
  {
   "cell_type": "markdown",
   "id": "a668497a-acc8-460a-aa50-20c97553cca3",
   "metadata": {
    "tags": []
   },
   "source": [
    "# Visualization Time!"
   ]
  },
  {
   "cell_type": "markdown",
   "id": "c32e6dd1-8f62-4d2d-995f-eefddf1f2248",
   "metadata": {},
   "source": [
    "Let's see what our graph looks like."
   ]
  },
  {
   "cell_type": "code",
   "execution_count": 105,
   "id": "3707ab91-d9e4-4bb5-a3a5-032ed3d71cbb",
   "metadata": {
    "tags": [],
    "ExecuteTime": {
     "end_time": "2023-12-10T02:39:59.822800Z",
     "start_time": "2023-12-10T02:39:59.226024500Z"
    }
   },
   "outputs": [
    {
     "data": {
      "text/plain": "<Figure size 1000x1000 with 1 Axes>",
      "image/png": "[encoded data removed]"
     },
     "metadata": {},
     "output_type": "display_data"
    }
   ],
   "source": [
    "# Set figure size\n",
    "fig = plt.figure(figsize = (10,10))\n",
    "# We use Kamada-Kawai positioning algorithm to plot the nodes of the graph\n",
    "nx.draw_kamada_kawai(rail_network, with_labels=False, node_size=100)"
   ]
  },
  {
   "cell_type": "code",
   "execution_count": 106,
   "id": "8a7bce77-60ae-4384-bce0-230a08842955",
   "metadata": {
    "tags": [],
    "ExecuteTime": {
     "end_time": "2023-12-10T02:39:59.822800Z",
     "start_time": "2023-12-10T02:39:59.443304200Z"
    }
   },
   "outputs": [
    {
     "data": {
      "text/plain": "'\\nI try to draw each line by itself, but it isnt really working... WIP i guess\\n\\n\\nfig = plt.figure(figsize = (10,10))\\n\\nfor i in range(7):\\n    plt.subplot(7,1,i+1)\\n    nodes = [j for j in NL if str(j)[0:3] == f\"80{i+1}\"]\\n    print(nodes)\\n    nx.draw_kamada_kawai(train_network, nodelist = nodes, with_labels=True, node_size=100)\\n    plt.xlabel(f\"Line {i+1}\")\\n\\nplt.show()\\n'"
     },
     "execution_count": 106,
     "metadata": {},
     "output_type": "execute_result"
    }
   ],
   "source": [
    "'''\n",
    "I try to draw each line by itself, but it isnt really working... WIP i guess\n",
    "\n",
    "\n",
    "fig = plt.figure(figsize = (10,10))\n",
    "\n",
    "for i in range(7):\n",
    "    plt.subplot(7,1,i+1)\n",
    "    nodes = [j for j in NL if str(j)[0:3] == f\"80{i+1}\"]\n",
    "    print(nodes)\n",
    "    nx.draw_kamada_kawai(train_network, nodelist = nodes, with_labels=True, node_size=100)\n",
    "    plt.xlabel(f\"Line {i+1}\")\n",
    "\n",
    "plt.show()\n",
    "'''"
   ]
  },
  {
   "cell_type": "markdown",
   "id": "df97a637-50e2-4568-b566-8c8ba0100a8f",
   "metadata": {},
   "source": [
    "# Analysis of Simple Graph"
   ]
  },
  {
   "cell_type": "markdown",
   "id": "3e65d865-e2d5-4492-8bac-58647d10e7b0",
   "metadata": {},
   "source": [
    "We can proceed to do some simple mathematical analysis such as centrality and modularity on our graph. "
   ]
  },
  {
   "cell_type": "markdown",
   "id": "95fe842c-1bf9-45a2-85ad-85a251ea9a3a",
   "metadata": {},
   "source": [
    "We use Katz centrality in this case:"
   ]
  },
  {
   "cell_type": "code",
   "execution_count": 107,
   "id": "7741356c-7036-4da8-9c8f-f0201f08162c",
   "metadata": {
    "tags": [],
    "ExecuteTime": {
     "end_time": "2023-12-10T02:39:59.822800Z",
     "start_time": "2023-12-10T02:39:59.450930200Z"
    }
   },
   "outputs": [
    {
     "data": {
      "text/plain": "[(80211, 0.10964996912465572),\n (80122, 0.10964057971843413),\n (80112, 0.10963844722310755),\n (80311, 0.10962914524005822),\n (80128, 0.10860213703445747),\n (80214, 0.10851121662025282),\n (80212, 0.0996824752074115),\n (80210, 0.09958096249139052),\n (80123, 0.09958011929095595),\n (80121, 0.09958001438314922),\n (80113, 0.09957980078707426),\n (80111, 0.09957980070831464),\n (80213, 0.09957895695656277),\n (80310, 0.0995788614999098),\n (80312, 0.0994784041627253),\n (80127, 0.09947523550590821),\n (80129, 0.09947512012307273),\n (80709, 0.09947512004431311),\n (80409, 0.09946593557060888),\n (80124, 0.09856475719081569),\n (80209, 0.0985637968748341),\n (80120, 0.09856370181197921),\n (80114, 0.09856368070440248),\n (80110, 0.0985636796805275),\n (80309, 0.09856358611410528),\n (80126, 0.09855427271091184),\n (80130, 0.09855311029775904),\n (80708, 0.09855310935264366),\n (80410, 0.09855218250949832),\n (80125, 0.09847150116023821),\n (80215, 0.09847139530731612),\n (80208, 0.09846104731782448),\n (80119, 0.09846103975690147),\n (80115, 0.09846103786667071),\n (80109, 0.09846102652528621),\n (80308, 0.09846102644652659),\n (80131, 0.09845997059513242),\n (80707, 0.09845996035638252),\n (80411, 0.09845987726498906),\n (80118, 0.09845068215873684),\n (80116, 0.09845068200121761),\n (80207, 0.09845066128743894),\n (80307, 0.09845065939720819),\n (80108, 0.09845056661838213),\n (80132, 0.09845056283792063),\n (80412, 0.09845055441064186),\n (80706, 0.09845045982034466),\n (80117, 0.09844974106010124),\n (80413, 0.09844961323324665),\n (80133, 0.09844960378209289),\n (80206, 0.09844952076945902),\n (80306, 0.0984495206119398),\n (80414, 0.09844951864294943),\n (80415, 0.09844950919179567),\n (80416, 0.0984495083254399),\n (80417, 0.0984495082466803),\n (80418, 0.0984495082466803),\n (80419, 0.09844950816792068),\n (80420, 0.09844950730156492),\n (80421, 0.09844949792917077),\n (80134, 0.0984494147590177),\n (80422, 0.09844940428398895),\n (80107, 0.09844859006709257),\n (80705, 0.0984485795133042),\n (80205, 0.09844848508052621),\n (80305, 0.09844848508052621),\n (80135, 0.09844847460549747),\n (80423, 0.0984484736603821),\n (80106, 0.09843926894545689),\n (80704, 0.09843926800034153),\n (80204, 0.09843925854918775),\n (80304, 0.09843925854918775),\n (80136, 0.09843925760407239),\n (80424, 0.09843925752531277),\n (80404, 0.09842900680394524),\n (80105, 0.09834801837094757),\n (80703, 0.09834801829218798),\n (80203, 0.09834801742583221),\n (80303, 0.09834801742583221),\n (80137, 0.09834801734707259),\n (80425, 0.09834801734707259),\n (80403, 0.09834698276077439),\n (80405, 0.09834698276077439),\n (80313, 0.09755899273731818),\n (80154, 0.09744482232734598),\n (80702, 0.09744482232734598),\n (80138, 0.09744482224858636),\n (80202, 0.09744482224858636),\n (80302, 0.09744482224858636),\n (80426, 0.09744482224858636),\n (80402, 0.097444718285895),\n (80406, 0.097444718285895),\n (80216, 0.08860674734884988),\n (80314, 0.08851550795820584),\n (80139, 0.08850409490244512),\n (80153, 0.08850409490244512),\n (80201, 0.08850409490244512),\n (80301, 0.08850409490244512),\n (80427, 0.08850409490244512),\n (80701, 0.08850409490244512),\n (80401, 0.08850408466369522),\n (80407, 0.08850408466369522),\n (80101, 0.08751068294939203),\n (80102, 0.08751068294939203)]"
     },
     "execution_count": 107,
     "metadata": {},
     "output_type": "execute_result"
    }
   ],
   "source": [
    "k_centralities = nx.katz_centrality(rail_network, max_iter = 1000)\n",
    "sorted_k_centralities = sorted(k_centralities.items(), key=lambda x:x[1], reverse=True)\n",
    "sorted_k_centralities"
   ]
  },
  {
   "cell_type": "code",
   "execution_count": 108,
   "outputs": [
    {
     "data": {
      "text/plain": "<generator object <genexpr> at 0x00000205F04B2B20>"
     },
     "execution_count": 108,
     "metadata": {},
     "output_type": "execute_result"
    }
   ],
   "source": [
    "(station for station,centrality in sorted_k_centralities)"
   ],
   "metadata": {
    "collapsed": false,
    "ExecuteTime": {
     "end_time": "2023-12-10T02:39:59.823799400Z",
     "start_time": "2023-12-10T02:39:59.459881900Z"
    }
   },
   "id": "25dd6d51021afaac"
  },
  {
   "cell_type": "code",
   "execution_count": 108,
   "outputs": [],
   "source": [],
   "metadata": {
    "collapsed": false,
    "ExecuteTime": {
     "end_time": "2023-12-10T02:39:59.823799400Z",
     "start_time": "2023-12-10T02:39:59.465334200Z"
    }
   },
   "id": "3d1b7485a5d2d074"
  },
  {
   "cell_type": "code",
   "execution_count": 109,
   "outputs": [
    {
     "data": {
      "text/plain": "{80214: Text(-0.20079330718192953, -0.10754573122354516, '80214'),\n 80212: Text(-0.1281620106999731, -0.009949115587035507, '80212'),\n 80210: Text(-0.14992560086197476, 0.07625760865917434, '80210'),\n 80123: Text(-0.03246334170100554, 0.1391720737070623, '80123'),\n 80121: Text(0.011356986992349933, 0.046159705959776295, '80121')}"
     },
     "execution_count": 109,
     "metadata": {},
     "output_type": "execute_result"
    },
    {
     "data": {
      "text/plain": "<Figure size 1000x1000 with 1 Axes>",
      "image/png": "[encoded data removed]"
     },
     "metadata": {},
     "output_type": "display_data"
    }
   ],
   "source": [
    "# proof of concept for coloring nodes\n",
    "# later we can split into bins\n",
    "\n",
    "# Get the top 5 stations\n",
    "high_centrality = [station for station,centrality in sorted_k_centralities][:5]\n",
    "labels_high_centrality = {}    \n",
    "for node in high_centrality:\n",
    "    #set the node name as the key and the label as its value \n",
    "    labels_high_centrality[node] = node\n",
    "# Next highest\n",
    "next_high_centrality = [station for station,centrality in sorted_k_centralities][5:10]\n",
    "labels_next_high_centrality = {}    \n",
    "for node in next_high_centrality:\n",
    "    #set the node name as the key and the label as its value \n",
    "    labels_next_high_centrality[node] = node\n",
    "\n",
    "# remaining stations\n",
    "remaining_nodes = list(set(rail_network.nodes()) - set(high_centrality) - set(next_high_centrality))\n",
    "\n",
    "fig = plt.figure(figsize=(10, 10))\n",
    "layout = nx.kamada_kawai_layout(rail_network)\n",
    "nx.draw_networkx_nodes(rail_network, layout, labels_high_centrality, node_color='red', node_size=50)\n",
    "nx.draw_networkx_nodes(rail_network, layout, labels_next_high_centrality, node_color='green', node_size=50)\n",
    "nx.draw_networkx_nodes(rail_network, layout, nodelist=remaining_nodes, node_color='blue', node_size=50)\n",
    "nx.draw_networkx_edges(rail_network, layout)\n",
    "nx.draw_networkx_labels(rail_network, layout, labels_high_centrality, font_size=8)\n",
    "nx.draw_networkx_labels(rail_network, layout, labels_next_high_centrality, font_size=8)\n"
   ],
   "metadata": {
    "collapsed": false,
    "ExecuteTime": {
     "end_time": "2023-12-10T02:40:00.091142100Z",
     "start_time": "2023-12-10T02:39:59.470323500Z"
    }
   },
   "id": "e7efe1a044f34c87"
  },
  {
   "cell_type": "markdown",
   "source": [],
   "metadata": {
    "collapsed": false
   },
   "id": "e65302b4b303d045"
  },
  {
   "cell_type": "code",
   "execution_count": 110,
   "outputs": [
    {
     "data": {
      "text/plain": "[(80112, 3),\n (80122, 3),\n (80128, 3),\n (80211, 3),\n (80214, 3),\n (80311, 3),\n (80105, 2),\n (80106, 2),\n (80107, 2),\n (80108, 2),\n (80109, 2),\n (80110, 2),\n (80111, 2),\n (80113, 2),\n (80114, 2),\n (80115, 2),\n (80116, 2),\n (80117, 2),\n (80118, 2),\n (80119, 2),\n (80120, 2),\n (80121, 2),\n (80123, 2),\n (80124, 2),\n (80125, 2),\n (80126, 2),\n (80127, 2),\n (80129, 2),\n (80130, 2),\n (80131, 2),\n (80132, 2),\n (80133, 2),\n (80134, 2),\n (80135, 2),\n (80136, 2),\n (80137, 2),\n (80138, 2),\n (80154, 2),\n (80202, 2),\n (80203, 2),\n (80204, 2),\n (80205, 2),\n (80206, 2),\n (80207, 2),\n (80208, 2),\n (80209, 2),\n (80210, 2),\n (80212, 2),\n (80213, 2),\n (80215, 2),\n (80302, 2),\n (80303, 2),\n (80304, 2),\n (80305, 2),\n (80306, 2),\n (80307, 2),\n (80308, 2),\n (80309, 2),\n (80310, 2),\n (80312, 2),\n (80313, 2),\n (80402, 2),\n (80403, 2),\n (80404, 2),\n (80405, 2),\n (80406, 2),\n (80409, 2),\n (80410, 2),\n (80411, 2),\n (80412, 2),\n (80413, 2),\n (80414, 2),\n (80415, 2),\n (80416, 2),\n (80417, 2),\n (80418, 2),\n (80419, 2),\n (80420, 2),\n (80421, 2),\n (80422, 2),\n (80423, 2),\n (80424, 2),\n (80425, 2),\n (80426, 2),\n (80702, 2),\n (80703, 2),\n (80704, 2),\n (80705, 2),\n (80706, 2),\n (80707, 2),\n (80708, 2),\n (80709, 2),\n (80101, 1),\n (80102, 1),\n (80139, 1),\n (80153, 1),\n (80201, 1),\n (80216, 1),\n (80301, 1),\n (80314, 1),\n (80401, 1),\n (80407, 1),\n (80427, 1),\n (80701, 1)]"
     },
     "execution_count": 110,
     "metadata": {},
     "output_type": "execute_result"
    }
   ],
   "source": [
    "count_tuples=dict()\n",
    "#using for loop to iterate every value in Input\n",
    "for i in EL:\n",
    "    for j in i:\n",
    "      if j not in count_tuples:   #checking if element i present in dictionary  or not\n",
    "        count_tuples[j]=1\n",
    "      else:\n",
    "        count_tuples[j]+=1\n",
    "#printing dictionary  of elements and their count\n",
    "sorted_count_tuples = sorted(count_tuples.items(), key=lambda x:x[1], reverse=True)\n",
    "sorted_count_tuples"
   ],
   "metadata": {
    "collapsed": false,
    "ExecuteTime": {
     "end_time": "2023-12-10T02:40:00.091142100Z",
     "start_time": "2023-12-10T02:39:59.793128900Z"
    }
   },
   "id": "6f54e0680d54aa08"
  },
  {
   "cell_type": "markdown",
   "id": "fe619fdb-0055-4a70-b4e1-31562442d1b3",
   "metadata": {},
   "source": [
    "We can also see how modular our network is so far:"
   ]
  },
  {
   "cell_type": "code",
   "execution_count": 111,
   "id": "b6d32062-d172-4d09-8789-7b21e2cddd51",
   "metadata": {
    "ExecuteTime": {
     "end_time": "2023-12-10T02:40:00.091142100Z",
     "start_time": "2023-12-10T02:39:59.804316600Z"
    }
   },
   "outputs": [],
   "source": [
    "# Make list of stop IDs\n",
    "stop_id_list = stops[\"stop_id\"].tolist()\n",
    "stop_id_list = to_int(stop_id_list)\n",
    "\n",
    "# Make groups of IDs for each route\n",
    "# Let us use a function\n",
    "def route_id(i, station_list = stop_id_list):\n",
    "    \"\"\"\n",
    "    Function that returns list of ID's given input route ID number\n",
    "    \"\"\"\n",
    "    return [j for j in station_list if str(j)[0:3] == f\"80{i}\"]\n",
    "\n",
    "# Create groups for each of our routes\n",
    "route_A = route_id(1)\n",
    "route_B = route_id(2)\n",
    "route_C = route_id(3)\n",
    "route_E = route_id(4)\n",
    "route_K = route_id(7)\n",
    "route_D = route_id(5)\n",
    "\n",
    "# A list of all our groups!\n",
    "route_groups = [route_A, route_B, route_C, route_E, route_K, route_D]"
   ]
  },
  {
   "cell_type": "code",
   "execution_count": 112,
   "id": "db50668a-58f8-4d8b-88d0-e595a6dc3fba",
   "metadata": {
    "tags": [],
    "ExecuteTime": {
     "end_time": "2023-12-10T02:40:00.091142100Z",
     "start_time": "2023-12-10T02:39:59.808373600Z"
    }
   },
   "outputs": [
    {
     "data": {
      "text/plain": "0.7062052739927459"
     },
     "execution_count": 112,
     "metadata": {},
     "output_type": "execute_result"
    }
   ],
   "source": [
    "# Using our networkx function\n",
    "nx.community.modularity(rail_network, route_groups)"
   ]
  },
  {
   "cell_type": "markdown",
   "id": "81d831c9-234d-4404-a4a1-ae6ca354446e",
   "metadata": {},
   "source": [
    "Our graph is really quite modular. This means that rail lines do not intersect with each other all that often in LA."
   ]
  },
  {
   "cell_type": "markdown",
   "id": "128134b5-4074-4a05-86c2-eaaf46112753",
   "metadata": {},
   "source": [
    "# Future Work:"
   ]
  },
  {
   "cell_type": "markdown",
   "id": "477e62b9-f21c-41f3-9475-39a8c20f035b",
   "metadata": {},
   "source": [
    "We will be scraping websites and using API calls to get the needed real time and historical data for the LA rail lines to understand the congestion and how the dynamics of the network changes throughout time. We can even look at holiday rushes etc. We also plan on creating a geographical visualization and visualizing this network and ridership. We will be implementing our findings into an easy to use web app."
   ]
  },
  {
   "cell_type": "markdown",
   "source": [
    "# Ok Future Work TIME !\n",
    "\n",
    "Let's figure out most influential spreaders with a recursive formula over target nodes."
   ],
   "metadata": {
    "collapsed": false
   },
   "id": "d556c87f2e87a859"
  },
  {
   "cell_type": "markdown",
   "source": [
    "First, we must decide which nodes are the most important to us."
   ],
   "metadata": {
    "collapsed": false
   },
   "id": "beb0f0cfbeb56c22"
  },
  {
   "cell_type": "code",
   "execution_count": 113,
   "outputs": [
    {
     "data": {
      "text/plain": "    stop_id stop_code                       stop_name  stop_desc   stop_lat  \\\n0     80101     80101     Downtown Long Beach Station        NaN  33.768071   \n4     80102     80102             Pacific Ave Station        NaN  33.772258   \n8     80105     80105          Anaheim Street Station        NaN  33.781830   \n12    80106     80106       Pacific Coast Hwy Station        NaN  33.789090   \n15    80107     80107           Willow Street Station        NaN  33.807079   \n..      ...       ...                             ...        ...        ...   \n403   80705     80705        Fairview Heights Station        NaN  33.975252   \n407   80706     80706               Hyde Park Station        NaN  33.988187   \n411   80707     80707            Leimert Park Station        NaN  34.003909   \n415   80708     80708   Martin Luther King Jr Station        NaN  34.009563   \n419   80709     80709  Expo / Crenshaw K-Line Station        NaN  34.022156   \n\n       stop_lon  stop_url  location_type parent_station  tpis_name  \n0   -118.192921       NaN              0         80101S   Long Bch  \n4   -118.193700       NaN              0         80102S    Pacific  \n8   -118.189384       NaN              0         80105S    Anaheim  \n12  -118.189382       NaN              0         80106S        PCH  \n15  -118.189834       NaN              0         80107S     Willow  \n..          ...       ...            ...            ...        ...  \n403 -118.336072       NaN              0         80705S   Fairview  \n407 -118.330816       NaN              0         80706S  Hyde Park  \n411 -118.332016       NaN              0         80707S    Leimert  \n415 -118.335359       NaN              0         80708S        MLK  \n419 -118.334851       NaN              0         80709S  Crnshw/Ex  \n\n[104 rows x 10 columns]",
      "text/html": "<div>\n<style scoped>\n    .dataframe tbody tr th:only-of-type {\n        vertical-align: middle;\n    }\n\n    .dataframe tbody tr th {\n        vertical-align: top;\n    }\n\n    .dataframe thead th {\n        text-align: right;\n    }\n</style>\n<table border=\"1\" class=\"dataframe\">\n  <thead>\n    <tr style=\"text-align: right;\">\n      <th></th>\n      <th>stop_id</th>\n      <th>stop_code</th>\n      <th>stop_name</th>\n      <th>stop_desc</th>\n      <th>stop_lat</th>\n      <th>stop_lon</th>\n      <th>stop_url</th>\n      <th>location_type</th>\n      <th>parent_station</th>\n      <th>tpis_name</th>\n    </tr>\n  </thead>\n  <tbody>\n    <tr>\n      <th>0</th>\n      <td>80101</td>\n      <td>80101</td>\n      <td>Downtown Long Beach Station</td>\n      <td>NaN</td>\n      <td>33.768071</td>\n      <td>-118.192921</td>\n      <td>NaN</td>\n      <td>0</td>\n      <td>80101S</td>\n      <td>Long Bch</td>\n    </tr>\n    <tr>\n      <th>4</th>\n      <td>80102</td>\n      <td>80102</td>\n      <td>Pacific Ave Station</td>\n      <td>NaN</td>\n      <td>33.772258</td>\n      <td>-118.193700</td>\n      <td>NaN</td>\n      <td>0</td>\n      <td>80102S</td>\n      <td>Pacific</td>\n    </tr>\n    <tr>\n      <th>8</th>\n      <td>80105</td>\n      <td>80105</td>\n      <td>Anaheim Street Station</td>\n      <td>NaN</td>\n      <td>33.781830</td>\n      <td>-118.189384</td>\n      <td>NaN</td>\n      <td>0</td>\n      <td>80105S</td>\n      <td>Anaheim</td>\n    </tr>\n    <tr>\n      <th>12</th>\n      <td>80106</td>\n      <td>80106</td>\n      <td>Pacific Coast Hwy Station</td>\n      <td>NaN</td>\n      <td>33.789090</td>\n      <td>-118.189382</td>\n      <td>NaN</td>\n      <td>0</td>\n      <td>80106S</td>\n      <td>PCH</td>\n    </tr>\n    <tr>\n      <th>15</th>\n      <td>80107</td>\n      <td>80107</td>\n      <td>Willow Street Station</td>\n      <td>NaN</td>\n      <td>33.807079</td>\n      <td>-118.189834</td>\n      <td>NaN</td>\n      <td>0</td>\n      <td>80107S</td>\n      <td>Willow</td>\n    </tr>\n    <tr>\n      <th>...</th>\n      <td>...</td>\n      <td>...</td>\n      <td>...</td>\n      <td>...</td>\n      <td>...</td>\n      <td>...</td>\n      <td>...</td>\n      <td>...</td>\n      <td>...</td>\n      <td>...</td>\n    </tr>\n    <tr>\n      <th>403</th>\n      <td>80705</td>\n      <td>80705</td>\n      <td>Fairview Heights Station</td>\n      <td>NaN</td>\n      <td>33.975252</td>\n      <td>-118.336072</td>\n      <td>NaN</td>\n      <td>0</td>\n      <td>80705S</td>\n      <td>Fairview</td>\n    </tr>\n    <tr>\n      <th>407</th>\n      <td>80706</td>\n      <td>80706</td>\n      <td>Hyde Park Station</td>\n      <td>NaN</td>\n      <td>33.988187</td>\n      <td>-118.330816</td>\n      <td>NaN</td>\n      <td>0</td>\n      <td>80706S</td>\n      <td>Hyde Park</td>\n    </tr>\n    <tr>\n      <th>411</th>\n      <td>80707</td>\n      <td>80707</td>\n      <td>Leimert Park Station</td>\n      <td>NaN</td>\n      <td>34.003909</td>\n      <td>-118.332016</td>\n      <td>NaN</td>\n      <td>0</td>\n      <td>80707S</td>\n      <td>Leimert</td>\n    </tr>\n    <tr>\n      <th>415</th>\n      <td>80708</td>\n      <td>80708</td>\n      <td>Martin Luther King Jr Station</td>\n      <td>NaN</td>\n      <td>34.009563</td>\n      <td>-118.335359</td>\n      <td>NaN</td>\n      <td>0</td>\n      <td>80708S</td>\n      <td>MLK</td>\n    </tr>\n    <tr>\n      <th>419</th>\n      <td>80709</td>\n      <td>80709</td>\n      <td>Expo / Crenshaw K-Line Station</td>\n      <td>NaN</td>\n      <td>34.022156</td>\n      <td>-118.334851</td>\n      <td>NaN</td>\n      <td>0</td>\n      <td>80709S</td>\n      <td>Crnshw/Ex</td>\n    </tr>\n  </tbody>\n</table>\n<p>104 rows × 10 columns</p>\n</div>"
     },
     "execution_count": 113,
     "metadata": {},
     "output_type": "execute_result"
    }
   ],
   "source": [
    "stops\n",
    "# https://transitism.wordpress.com/2015/05/30/la-metro-rail-ridership-breakdown-2014/\n",
    "# https://thesource.metro.net/2013/07/15/2012-ridership-visualized/\n",
    "# https://urbanone.com/population-employment-los-angeles-metro-stations\n",
    "\n",
    "# Busiest Stations\n",
    "# 7th Street / Metro - 80122\n",
    "# Union Station - 80214\n",
    "# Culver City Station - 80132\n",
    "# North Hollywood Station - 80201\n",
    "# Wilshire / Vermont - 80209\n",
    "\n",
    "\n",
    "# Concert/Stadium cluster of nodes (Crypto arena, stadiums near USC, dodger stadium)\n",
    "# Pico - 80121\n",
    "# Expo Park / USC - 80125\n",
    "# Union Station - 80214\n"
   ],
   "metadata": {
    "collapsed": false,
    "ExecuteTime": {
     "end_time": "2023-12-10T02:40:00.134026600Z",
     "start_time": "2023-12-10T02:39:59.813761800Z"
    }
   },
   "id": "9732709bceb7ae92"
  },
  {
   "cell_type": "code",
   "execution_count": 114,
   "outputs": [
    {
     "name": "stdout",
     "output_type": "stream",
     "text": [
      "7th Street / Metro - 80122, index 19\n",
      "Union Station - 80214, index 52\n",
      "Culver City Station - 80132, index 29\n",
      "North Hollywood Station - 80201, index 39\n",
      "Wilshire / Vermont - 80209, index 47\n",
      "Pico - 80121, index 18\n",
      "Expo Park / USC - 80125, index 22\n",
      "Union Station - 80214, index 52\n"
     ]
    }
   ],
   "source": [
    "# Busiest Stations\n",
    "print(f\"7th Street / Metro - 80122, index {NL.index(80122)}\")\n",
    "print(f\"Union Station - 80214, index {NL.index(80214)}\")\n",
    "print(f\"Culver City Station - 80132, index {NL.index(80132)}\")\n",
    "print(f\"North Hollywood Station - 80201, index {NL.index(80201)}\")\n",
    "print(f\"Wilshire / Vermont - 80209, index {NL.index(80209)}\")\n",
    "busy_station_ids = [80122, 80214, 80132, 80201, 80209]\n",
    "\n",
    "# Concert/Stadium cluster of nodes (Crypto arena, stadiums near USC, dodger stadium)\n",
    "print(f\"Pico - 80121, index {NL.index(80121)}\")\n",
    "print(f\"Expo Park / USC - 80125, index {NL.index(80125)}\")\n",
    "print(f\"Union Station - 80214, index {NL.index(80214)}\")\n",
    "Destination_station_ids = [80121, 80125, 80214]"
   ],
   "metadata": {
    "collapsed": false,
    "ExecuteTime": {
     "end_time": "2023-12-10T02:40:00.134026600Z",
     "start_time": "2023-12-10T02:39:59.826792Z"
    }
   },
   "id": "dbf6af746fc54634"
  },
  {
   "cell_type": "markdown",
   "source": [
    "Formula from paper https://www.nature.com/articles/srep38865#citeas"
   ],
   "metadata": {
    "collapsed": false
   },
   "id": "48e3e74a35dcc511"
  },
  {
   "cell_type": "code",
   "execution_count": 115,
   "outputs": [],
   "source": [
    "def station_id_to_index(station_id_list):\n",
    "    \"\"\"\n",
    "    Will get a list of the indices of your stations in the node list\n",
    "    :param station_id_list: the stop id of your stations\n",
    "    :return: the list of the indices correlated with the stop id in node list\n",
    "    \"\"\"\n",
    "    NL_indices = []\n",
    "\n",
    "    for id in station_id_list:\n",
    "        NL_indices.append((id, NL.index(id)))\n",
    "\n",
    "    return NL_indices\n",
    "\n",
    "\n",
    "def index_to_station_id(index_list):\n",
    "    \"\"\"\n",
    "    Will get a list of the station id of your index in the node list\n",
    "    :param index_list: the list of indices\n",
    "    :return: the list of station id's correlated to node list\n",
    "    \"\"\"\n",
    "    station_list = []\n",
    "\n",
    "    for i in index_list:\n",
    "        station_list.append(NL[i])\n",
    "\n",
    "    return station_list\n",
    "\n",
    "\n",
    "def rlp(f, adjacency, epsilon, max_l=3):\n",
    "    \"\"\"\n",
    "    Implementing the RLP algorithm into python\n",
    "    :param f: 1xN vector, components corresponding to target nodes are 1 and 0 otherwise\n",
    "    :param adjacency: NxN adjacecny matrix of our network\n",
    "    :param epsilon: tunable parameter controlling weight of the paths with different lengths\n",
    "    :param max_l: furthest nodes we consider\n",
    "    :return: 1xN vector that ranks the importance of nodes on our network\n",
    "    \"\"\"\n",
    "    s_rlp = np.zeros(len(f))\n",
    "\n",
    "    for l in range(0, max_l):\n",
    "        summation_iteration = np.power(epsilon, l) * f @ np.linalg.matrix_power(adjacency, l + 1)\n",
    "        s_rlp = np.add(s_rlp, summation_iteration)\n",
    "\n",
    "    return s_rlp\n",
    "\n",
    "\n",
    "def get_ranked_stations(array):\n",
    "    \"\"\"\n",
    "    Take the ranking and convert the numbers to stations\n",
    "    :param array: the calculated stations\n",
    "    :return: the station's that are important\n",
    "    \"\"\"\n",
    "\n",
    "    def merge(list1, list2):\n",
    "        merged_list = [(list1[i], list2[i]) for i in range(0, len(list1))]\n",
    "        return merged_list\n",
    "\n",
    "    indices = list(np.nonzero(array)[1])\n",
    "\n",
    "    values = []\n",
    "    for i in indices:\n",
    "        values.append(array[0][i])\n",
    "\n",
    "    stations = index_to_station_id(indices)\n",
    "\n",
    "    # Create list of tuples (station, value of station)\n",
    "    merged = merge(stations, values)\n",
    "    # Sort on values\n",
    "    merged.sort(key=lambda x: x[1], reverse = True)\n",
    "\n",
    "    # Grab first element of each tuple\n",
    "    station_sorted = (list(zip(*merged))[0])\n",
    "\n",
    "    return station_sorted\n",
    "    "
   ],
   "metadata": {
    "collapsed": false,
    "ExecuteTime": {
     "end_time": "2023-12-10T02:40:00.134026600Z",
     "start_time": "2023-12-10T02:39:59.835159200Z"
    }
   },
   "id": "4565fe343996447c"
  },
  {
   "cell_type": "code",
   "execution_count": 116,
   "outputs": [
    {
     "data": {
      "text/plain": "'\\narr = rlp(f, A_busy, epsilon, 3)\\nindex_to_station_id(list(np.nonzero(arr)[1]))\\n\\nget_ranked_stations(arr)\\n'"
     },
     "execution_count": 116,
     "metadata": {},
     "output_type": "execute_result"
    }
   ],
   "source": [
    "# testing\n",
    "'''\n",
    "arr = rlp(f, A_busy, epsilon, 3)\n",
    "index_to_station_id(list(np.nonzero(arr)[1]))\n",
    "\n",
    "get_ranked_stations(arr)\n",
    "'''"
   ],
   "metadata": {
    "collapsed": false,
    "ExecuteTime": {
     "end_time": "2023-12-10T02:40:00.135024400Z",
     "start_time": "2023-12-10T02:39:59.841074300Z"
    }
   },
   "id": "6eee8d05c2d0578c"
  },
  {
   "cell_type": "code",
   "execution_count": 117,
   "outputs": [
    {
     "data": {
      "text/plain": "(80211,\n 80210,\n 80213,\n 80121,\n 80123,\n 80215,\n 80409,\n 80131,\n 80133,\n 80208,\n 80202,\n 80122,\n 80214,\n 80209,\n 80212,\n 80132,\n 80120,\n 80124,\n 80130,\n 80134,\n 80201,\n 80203,\n 80207,\n 80216,\n 80410,\n 80119,\n 80125,\n 80129,\n 80135,\n 80204,\n 80206,\n 80411)"
     },
     "execution_count": 117,
     "metadata": {},
     "output_type": "execute_result"
    }
   ],
   "source": [
    "# First for 5 busiest stations\n",
    "\n",
    "# get f\n",
    "f = np.zeros((1,len(NL)))\n",
    "busy_station_indices = station_id_to_index(busy_station_ids)\n",
    "for i in busy_station_indices:\n",
    "    f[0][i[1]] = 1\n",
    "    \n",
    "# Get adjacency matrix\n",
    "A_busy = nx.adjacency_matrix(rail_network)\n",
    "A_busy = A_busy.toarray()\n",
    "\n",
    "# epsilon\n",
    "epsilon = 0.1\n",
    "\n",
    "\n",
    "# Calculate\n",
    "get_ranked_stations(rlp(f, A_busy, epsilon, 3))"
   ],
   "metadata": {
    "collapsed": false,
    "ExecuteTime": {
     "end_time": "2023-12-10T02:40:00.135024400Z",
     "start_time": "2023-12-10T02:39:59.846467800Z"
    }
   },
   "id": "ff2f8abc6c68bf9c"
  },
  {
   "cell_type": "code",
   "execution_count": 118,
   "outputs": [
    {
     "data": {
      "text/plain": "(80122,\n 80124,\n 80213,\n 80215,\n 80409,\n 80120,\n 80126,\n 80214,\n 80121,\n 80123,\n 80125,\n 80211,\n 80212,\n 80119,\n 80127,\n 80216,\n 80410,\n 80118,\n 80128,\n 80210,\n 80411)"
     },
     "execution_count": 118,
     "metadata": {},
     "output_type": "execute_result"
    }
   ],
   "source": [
    "# Now for Concert/Stadium Stations\n",
    "\n",
    "# get f\n",
    "f = np.zeros((1,len(NL)))\n",
    "busy_station_indices = station_id_to_index(Destination_station_ids)\n",
    "for i in busy_station_indices:\n",
    "    f[0][i[1]] = 1\n",
    "    \n",
    "# Get adjacency matrix\n",
    "A_stadium = nx.adjacency_matrix(rail_network)\n",
    "A_stadium = A_stadium.toarray()\n",
    "\n",
    "# epsilon\n",
    "epsilon = 0.1\n",
    "\n",
    "\n",
    "# Calculate\n",
    "get_ranked_stations(rlp(f, A_stadium, epsilon, 3))"
   ],
   "metadata": {
    "collapsed": false,
    "ExecuteTime": {
     "end_time": "2023-12-10T02:40:00.212716100Z",
     "start_time": "2023-12-10T02:39:59.856918600Z"
    }
   },
   "id": "c1889e15b367ef9b"
  },
  {
   "cell_type": "code",
   "execution_count": 119,
   "outputs": [
    {
     "data": {
      "text/plain": "1.05"
     },
     "execution_count": 119,
     "metadata": {},
     "output_type": "execute_result"
    }
   ],
   "source": [
    "index_checking = station_id_to_index([80122])[0][1]\n",
    "rlp(f, A_stadium, epsilon, 3)[0,index_checking]"
   ],
   "metadata": {
    "collapsed": false,
    "ExecuteTime": {
     "end_time": "2023-12-10T02:40:00.227677Z",
     "start_time": "2023-12-10T02:39:59.868636Z"
    }
   },
   "id": "d7a6a648ce742421"
  },
  {
   "cell_type": "code",
   "execution_count": 120,
   "outputs": [
    {
     "name": "stdout",
     "output_type": "stream",
     "text": [
      "[80409]\n",
      "78\n"
     ]
    }
   ],
   "source": [
    "print(index_to_station_id([76]))\n",
    "print(station_id_to_index([80411])[0][1])"
   ],
   "metadata": {
    "collapsed": false,
    "ExecuteTime": {
     "end_time": "2023-12-10T02:40:00.259591Z",
     "start_time": "2023-12-10T02:39:59.878201700Z"
    }
   },
   "id": "a38de62d6eb69bfa"
  },
  {
   "cell_type": "code",
   "execution_count": 121,
   "outputs": [
    {
     "data": {
      "text/plain": "<matplotlib.collections.LineCollection at 0x205f0199d50>"
     },
     "execution_count": 121,
     "metadata": {},
     "output_type": "execute_result"
    },
    {
     "data": {
      "text/plain": "<Figure size 1000x1000 with 1 Axes>",
      "image/png": "[encoded data removed]"
     },
     "metadata": {},
     "output_type": "display_data"
    }
   ],
   "source": [
    "# proof of concept for coloring nodes\n",
    "# later we can split into bins\n",
    "\n",
    "# Get the top 6 stations\n",
    "important_stations = list(get_ranked_stations(rlp(f, A_stadium, epsilon, 3)))[:6]\n",
    "# The Stations we care about\n",
    "Destination_station_ids\n",
    "# remaining stations\n",
    "remaining_nodes = list(set(rail_network.nodes()) - set(important_stations) - set(Destination_station_ids))\n",
    "\n",
    "fig = plt.figure(figsize=(10, 10))\n",
    "layout = nx.kamada_kawai_layout(rail_network)\n",
    "nx.draw_networkx_nodes(rail_network, layout, nodelist=important_stations, node_color='red', node_size=50)\n",
    "nx.draw_networkx_nodes(rail_network, layout, nodelist=Destination_station_ids, node_color='green', node_size=50)\n",
    "nx.draw_networkx_nodes(rail_network, layout, nodelist=remaining_nodes, node_color='blue', node_size=50)\n",
    "nx.draw_networkx_edges(rail_network, layout)"
   ],
   "metadata": {
    "collapsed": false,
    "ExecuteTime": {
     "end_time": "2023-12-10T02:40:00.592167300Z",
     "start_time": "2023-12-10T02:39:59.883697100Z"
    }
   },
   "id": "7106f5456cfe9450"
  },
  {
   "cell_type": "markdown",
   "source": [
    "# Weighing Graph\n"
   ],
   "metadata": {
    "collapsed": false
   },
   "id": "d43f2f35aa0a060f"
  },
  {
   "cell_type": "code",
   "execution_count": 122,
   "outputs": [
    {
     "ename": "FileNotFoundError",
     "evalue": "[Errno 2] No such file or directory: '../sreejeet_testing/gvRailBlueJanuary2023.csv'",
     "output_type": "error",
     "traceback": [
      "\u001B[1;31m---------------------------------------------------------------------------\u001B[0m",
      "\u001B[1;31mFileNotFoundError\u001B[0m                         Traceback (most recent call last)",
      "Cell \u001B[1;32mIn[122], line 1\u001B[0m\n\u001B[1;32m----> 1\u001B[0m A_ridership_df_jan \u001B[38;5;241m=\u001B[39m pd\u001B[38;5;241m.\u001B[39mread_csv(\u001B[38;5;124m'\u001B[39m\u001B[38;5;124m../sreejeet_testing/gvRailBlueJanuary2023.csv\u001B[39m\u001B[38;5;124m'\u001B[39m)\n\u001B[0;32m      2\u001B[0m A_ridership_df_feb \u001B[38;5;241m=\u001B[39m pd\u001B[38;5;241m.\u001B[39mread_csv(\u001B[38;5;124m'\u001B[39m\u001B[38;5;124m../sreejeet_testing/gvRailBlueFebruary2023.csv\u001B[39m\u001B[38;5;124m'\u001B[39m)\n\u001B[0;32m      3\u001B[0m A_ridership_df_march \u001B[38;5;241m=\u001B[39m pd\u001B[38;5;241m.\u001B[39mread_csv(\u001B[38;5;124m'\u001B[39m\u001B[38;5;124m../sreejeet_testing/gvRailBlueMarch2023.csv\u001B[39m\u001B[38;5;124m'\u001B[39m)\n",
      "File \u001B[1;32m~\\anaconda3\\Lib\\site-packages\\pandas\\util\\_decorators.py:211\u001B[0m, in \u001B[0;36mdeprecate_kwarg.<locals>._deprecate_kwarg.<locals>.wrapper\u001B[1;34m(*args, **kwargs)\u001B[0m\n\u001B[0;32m    209\u001B[0m     \u001B[38;5;28;01melse\u001B[39;00m:\n\u001B[0;32m    210\u001B[0m         kwargs[new_arg_name] \u001B[38;5;241m=\u001B[39m new_arg_value\n\u001B[1;32m--> 211\u001B[0m \u001B[38;5;28;01mreturn\u001B[39;00m func(\u001B[38;5;241m*\u001B[39margs, \u001B[38;5;241m*\u001B[39m\u001B[38;5;241m*\u001B[39mkwargs)\n",
      "File \u001B[1;32m~\\anaconda3\\Lib\\site-packages\\pandas\\util\\_decorators.py:331\u001B[0m, in \u001B[0;36mdeprecate_nonkeyword_arguments.<locals>.decorate.<locals>.wrapper\u001B[1;34m(*args, **kwargs)\u001B[0m\n\u001B[0;32m    325\u001B[0m \u001B[38;5;28;01mif\u001B[39;00m \u001B[38;5;28mlen\u001B[39m(args) \u001B[38;5;241m>\u001B[39m num_allow_args:\n\u001B[0;32m    326\u001B[0m     warnings\u001B[38;5;241m.\u001B[39mwarn(\n\u001B[0;32m    327\u001B[0m         msg\u001B[38;5;241m.\u001B[39mformat(arguments\u001B[38;5;241m=\u001B[39m_format_argument_list(allow_args)),\n\u001B[0;32m    328\u001B[0m         \u001B[38;5;167;01mFutureWarning\u001B[39;00m,\n\u001B[0;32m    329\u001B[0m         stacklevel\u001B[38;5;241m=\u001B[39mfind_stack_level(),\n\u001B[0;32m    330\u001B[0m     )\n\u001B[1;32m--> 331\u001B[0m \u001B[38;5;28;01mreturn\u001B[39;00m func(\u001B[38;5;241m*\u001B[39margs, \u001B[38;5;241m*\u001B[39m\u001B[38;5;241m*\u001B[39mkwargs)\n",
      "File \u001B[1;32m~\\anaconda3\\Lib\\site-packages\\pandas\\io\\parsers\\readers.py:950\u001B[0m, in \u001B[0;36mread_csv\u001B[1;34m(filepath_or_buffer, sep, delimiter, header, names, index_col, usecols, squeeze, prefix, mangle_dupe_cols, dtype, engine, converters, true_values, false_values, skipinitialspace, skiprows, skipfooter, nrows, na_values, keep_default_na, na_filter, verbose, skip_blank_lines, parse_dates, infer_datetime_format, keep_date_col, date_parser, dayfirst, cache_dates, iterator, chunksize, compression, thousands, decimal, lineterminator, quotechar, quoting, doublequote, escapechar, comment, encoding, encoding_errors, dialect, error_bad_lines, warn_bad_lines, on_bad_lines, delim_whitespace, low_memory, memory_map, float_precision, storage_options)\u001B[0m\n\u001B[0;32m    935\u001B[0m kwds_defaults \u001B[38;5;241m=\u001B[39m _refine_defaults_read(\n\u001B[0;32m    936\u001B[0m     dialect,\n\u001B[0;32m    937\u001B[0m     delimiter,\n\u001B[1;32m   (...)\u001B[0m\n\u001B[0;32m    946\u001B[0m     defaults\u001B[38;5;241m=\u001B[39m{\u001B[38;5;124m\"\u001B[39m\u001B[38;5;124mdelimiter\u001B[39m\u001B[38;5;124m\"\u001B[39m: \u001B[38;5;124m\"\u001B[39m\u001B[38;5;124m,\u001B[39m\u001B[38;5;124m\"\u001B[39m},\n\u001B[0;32m    947\u001B[0m )\n\u001B[0;32m    948\u001B[0m kwds\u001B[38;5;241m.\u001B[39mupdate(kwds_defaults)\n\u001B[1;32m--> 950\u001B[0m \u001B[38;5;28;01mreturn\u001B[39;00m _read(filepath_or_buffer, kwds)\n",
      "File \u001B[1;32m~\\anaconda3\\Lib\\site-packages\\pandas\\io\\parsers\\readers.py:605\u001B[0m, in \u001B[0;36m_read\u001B[1;34m(filepath_or_buffer, kwds)\u001B[0m\n\u001B[0;32m    602\u001B[0m _validate_names(kwds\u001B[38;5;241m.\u001B[39mget(\u001B[38;5;124m\"\u001B[39m\u001B[38;5;124mnames\u001B[39m\u001B[38;5;124m\"\u001B[39m, \u001B[38;5;28;01mNone\u001B[39;00m))\n\u001B[0;32m    604\u001B[0m \u001B[38;5;66;03m# Create the parser.\u001B[39;00m\n\u001B[1;32m--> 605\u001B[0m parser \u001B[38;5;241m=\u001B[39m TextFileReader(filepath_or_buffer, \u001B[38;5;241m*\u001B[39m\u001B[38;5;241m*\u001B[39mkwds)\n\u001B[0;32m    607\u001B[0m \u001B[38;5;28;01mif\u001B[39;00m chunksize \u001B[38;5;129;01mor\u001B[39;00m iterator:\n\u001B[0;32m    608\u001B[0m     \u001B[38;5;28;01mreturn\u001B[39;00m parser\n",
      "File \u001B[1;32m~\\anaconda3\\Lib\\site-packages\\pandas\\io\\parsers\\readers.py:1442\u001B[0m, in \u001B[0;36mTextFileReader.__init__\u001B[1;34m(self, f, engine, **kwds)\u001B[0m\n\u001B[0;32m   1439\u001B[0m     \u001B[38;5;28mself\u001B[39m\u001B[38;5;241m.\u001B[39moptions[\u001B[38;5;124m\"\u001B[39m\u001B[38;5;124mhas_index_names\u001B[39m\u001B[38;5;124m\"\u001B[39m] \u001B[38;5;241m=\u001B[39m kwds[\u001B[38;5;124m\"\u001B[39m\u001B[38;5;124mhas_index_names\u001B[39m\u001B[38;5;124m\"\u001B[39m]\n\u001B[0;32m   1441\u001B[0m \u001B[38;5;28mself\u001B[39m\u001B[38;5;241m.\u001B[39mhandles: IOHandles \u001B[38;5;241m|\u001B[39m \u001B[38;5;28;01mNone\u001B[39;00m \u001B[38;5;241m=\u001B[39m \u001B[38;5;28;01mNone\u001B[39;00m\n\u001B[1;32m-> 1442\u001B[0m \u001B[38;5;28mself\u001B[39m\u001B[38;5;241m.\u001B[39m_engine \u001B[38;5;241m=\u001B[39m \u001B[38;5;28mself\u001B[39m\u001B[38;5;241m.\u001B[39m_make_engine(f, \u001B[38;5;28mself\u001B[39m\u001B[38;5;241m.\u001B[39mengine)\n",
      "File \u001B[1;32m~\\anaconda3\\Lib\\site-packages\\pandas\\io\\parsers\\readers.py:1735\u001B[0m, in \u001B[0;36mTextFileReader._make_engine\u001B[1;34m(self, f, engine)\u001B[0m\n\u001B[0;32m   1733\u001B[0m     \u001B[38;5;28;01mif\u001B[39;00m \u001B[38;5;124m\"\u001B[39m\u001B[38;5;124mb\u001B[39m\u001B[38;5;124m\"\u001B[39m \u001B[38;5;129;01mnot\u001B[39;00m \u001B[38;5;129;01min\u001B[39;00m mode:\n\u001B[0;32m   1734\u001B[0m         mode \u001B[38;5;241m+\u001B[39m\u001B[38;5;241m=\u001B[39m \u001B[38;5;124m\"\u001B[39m\u001B[38;5;124mb\u001B[39m\u001B[38;5;124m\"\u001B[39m\n\u001B[1;32m-> 1735\u001B[0m \u001B[38;5;28mself\u001B[39m\u001B[38;5;241m.\u001B[39mhandles \u001B[38;5;241m=\u001B[39m get_handle(\n\u001B[0;32m   1736\u001B[0m     f,\n\u001B[0;32m   1737\u001B[0m     mode,\n\u001B[0;32m   1738\u001B[0m     encoding\u001B[38;5;241m=\u001B[39m\u001B[38;5;28mself\u001B[39m\u001B[38;5;241m.\u001B[39moptions\u001B[38;5;241m.\u001B[39mget(\u001B[38;5;124m\"\u001B[39m\u001B[38;5;124mencoding\u001B[39m\u001B[38;5;124m\"\u001B[39m, \u001B[38;5;28;01mNone\u001B[39;00m),\n\u001B[0;32m   1739\u001B[0m     compression\u001B[38;5;241m=\u001B[39m\u001B[38;5;28mself\u001B[39m\u001B[38;5;241m.\u001B[39moptions\u001B[38;5;241m.\u001B[39mget(\u001B[38;5;124m\"\u001B[39m\u001B[38;5;124mcompression\u001B[39m\u001B[38;5;124m\"\u001B[39m, \u001B[38;5;28;01mNone\u001B[39;00m),\n\u001B[0;32m   1740\u001B[0m     memory_map\u001B[38;5;241m=\u001B[39m\u001B[38;5;28mself\u001B[39m\u001B[38;5;241m.\u001B[39moptions\u001B[38;5;241m.\u001B[39mget(\u001B[38;5;124m\"\u001B[39m\u001B[38;5;124mmemory_map\u001B[39m\u001B[38;5;124m\"\u001B[39m, \u001B[38;5;28;01mFalse\u001B[39;00m),\n\u001B[0;32m   1741\u001B[0m     is_text\u001B[38;5;241m=\u001B[39mis_text,\n\u001B[0;32m   1742\u001B[0m     errors\u001B[38;5;241m=\u001B[39m\u001B[38;5;28mself\u001B[39m\u001B[38;5;241m.\u001B[39moptions\u001B[38;5;241m.\u001B[39mget(\u001B[38;5;124m\"\u001B[39m\u001B[38;5;124mencoding_errors\u001B[39m\u001B[38;5;124m\"\u001B[39m, \u001B[38;5;124m\"\u001B[39m\u001B[38;5;124mstrict\u001B[39m\u001B[38;5;124m\"\u001B[39m),\n\u001B[0;32m   1743\u001B[0m     storage_options\u001B[38;5;241m=\u001B[39m\u001B[38;5;28mself\u001B[39m\u001B[38;5;241m.\u001B[39moptions\u001B[38;5;241m.\u001B[39mget(\u001B[38;5;124m\"\u001B[39m\u001B[38;5;124mstorage_options\u001B[39m\u001B[38;5;124m\"\u001B[39m, \u001B[38;5;28;01mNone\u001B[39;00m),\n\u001B[0;32m   1744\u001B[0m )\n\u001B[0;32m   1745\u001B[0m \u001B[38;5;28;01massert\u001B[39;00m \u001B[38;5;28mself\u001B[39m\u001B[38;5;241m.\u001B[39mhandles \u001B[38;5;129;01mis\u001B[39;00m \u001B[38;5;129;01mnot\u001B[39;00m \u001B[38;5;28;01mNone\u001B[39;00m\n\u001B[0;32m   1746\u001B[0m f \u001B[38;5;241m=\u001B[39m \u001B[38;5;28mself\u001B[39m\u001B[38;5;241m.\u001B[39mhandles\u001B[38;5;241m.\u001B[39mhandle\n",
      "File \u001B[1;32m~\\anaconda3\\Lib\\site-packages\\pandas\\io\\common.py:856\u001B[0m, in \u001B[0;36mget_handle\u001B[1;34m(path_or_buf, mode, encoding, compression, memory_map, is_text, errors, storage_options)\u001B[0m\n\u001B[0;32m    851\u001B[0m \u001B[38;5;28;01melif\u001B[39;00m \u001B[38;5;28misinstance\u001B[39m(handle, \u001B[38;5;28mstr\u001B[39m):\n\u001B[0;32m    852\u001B[0m     \u001B[38;5;66;03m# Check whether the filename is to be opened in binary mode.\u001B[39;00m\n\u001B[0;32m    853\u001B[0m     \u001B[38;5;66;03m# Binary mode does not support 'encoding' and 'newline'.\u001B[39;00m\n\u001B[0;32m    854\u001B[0m     \u001B[38;5;28;01mif\u001B[39;00m ioargs\u001B[38;5;241m.\u001B[39mencoding \u001B[38;5;129;01mand\u001B[39;00m \u001B[38;5;124m\"\u001B[39m\u001B[38;5;124mb\u001B[39m\u001B[38;5;124m\"\u001B[39m \u001B[38;5;129;01mnot\u001B[39;00m \u001B[38;5;129;01min\u001B[39;00m ioargs\u001B[38;5;241m.\u001B[39mmode:\n\u001B[0;32m    855\u001B[0m         \u001B[38;5;66;03m# Encoding\u001B[39;00m\n\u001B[1;32m--> 856\u001B[0m         handle \u001B[38;5;241m=\u001B[39m \u001B[38;5;28mopen\u001B[39m(\n\u001B[0;32m    857\u001B[0m             handle,\n\u001B[0;32m    858\u001B[0m             ioargs\u001B[38;5;241m.\u001B[39mmode,\n\u001B[0;32m    859\u001B[0m             encoding\u001B[38;5;241m=\u001B[39mioargs\u001B[38;5;241m.\u001B[39mencoding,\n\u001B[0;32m    860\u001B[0m             errors\u001B[38;5;241m=\u001B[39merrors,\n\u001B[0;32m    861\u001B[0m             newline\u001B[38;5;241m=\u001B[39m\u001B[38;5;124m\"\u001B[39m\u001B[38;5;124m\"\u001B[39m,\n\u001B[0;32m    862\u001B[0m         )\n\u001B[0;32m    863\u001B[0m     \u001B[38;5;28;01melse\u001B[39;00m:\n\u001B[0;32m    864\u001B[0m         \u001B[38;5;66;03m# Binary mode\u001B[39;00m\n\u001B[0;32m    865\u001B[0m         handle \u001B[38;5;241m=\u001B[39m \u001B[38;5;28mopen\u001B[39m(handle, ioargs\u001B[38;5;241m.\u001B[39mmode)\n",
      "\u001B[1;31mFileNotFoundError\u001B[0m: [Errno 2] No such file or directory: '../sreejeet_testing/gvRailBlueJanuary2023.csv'"
     ]
    }
   ],
   "source": [
    "A_ridership_df_jan = pd.read_csv('../sreejeet_testing/gvRailBlueJanuary2023.csv')\n",
    "A_ridership_df_feb = pd.read_csv('../sreejeet_testing/gvRailBlueFebruary2023.csv')\n",
    "A_ridership_df_march = pd.read_csv('../sreejeet_testing/gvRailBlueMarch2023.csv')\n",
    "\n",
    "E_ridership_df_jan = pd.read_csv('../sreejeet_testing/gvRailExpoJanuary2023.csv')\n",
    "E_ridership_df_feb = pd.read_csv('../sreejeet_testing/gvRailExpoFebruary2023.csv')\n",
    "E_ridership_df_march = pd.read_csv('../sreejeet_testing/gvRailExpoMarch2023.csv')\n",
    "\n",
    "C_ridership_df_jan = pd.read_csv('../sreejeet_testing/gvRailGreenJanuary2023.csv')\n",
    "C_ridership_df_feb = pd.read_csv('../sreejeet_testing/gvRailGreenFebruary2023.csv')\n",
    "C_ridership_df_march = pd.read_csv('../sreejeet_testing/gvRailGreenMarch2023.csv')\n",
    "\n",
    "B_ridership_df_jan = pd.read_csv('../sreejeet_testing/gvRailRedJanuary2023.csv')\n",
    "B_ridership_df_feb = pd.read_csv('../sreejeet_testing/gvRailRedFebruary2023.csv')\n",
    "B_ridership_df_march = pd.read_csv('../sreejeet_testing/gvRailRedMarch2023.csv')\n",
    "\n",
    "list_of_df = [A_ridership_df_jan, A_ridership_df_feb, A_ridership_df_march, \n",
    "              E_ridership_df_jan, E_ridership_df_feb, E_ridership_df_march,\n",
    "              C_ridership_df_jan, C_ridership_df_feb, C_ridership_df_march,\n",
    "              B_ridership_df_jan, B_ridership_df_feb, B_ridership_df_march]"
   ],
   "metadata": {
    "collapsed": false,
    "ExecuteTime": {
     "end_time": "2023-12-10T02:40:00.645814900Z",
     "start_time": "2023-12-10T02:40:00.177811Z"
    }
   },
   "id": "ab057eee5062eb8c"
  },
  {
   "cell_type": "code",
   "execution_count": null,
   "outputs": [],
   "source": [
    "A_ridership_df_march"
   ],
   "metadata": {
    "collapsed": false,
    "ExecuteTime": {
     "start_time": "2023-12-10T02:40:00.273989Z"
    }
   },
   "id": "5f0215e6a522d287"
  },
  {
   "cell_type": "code",
   "execution_count": null,
   "outputs": [],
   "source": [
    "boarding_proportions_l = []\n",
    "for df in list_of_df:\n",
    "    new_df = df.set_index('Boarding Category')\n",
    "    if new_df.columns[1][:3] == 'JAN':\n",
    "        month = 'JAN'\n",
    "    elif new_df.columns[1][:3] == 'FEB':\n",
    "        month = 'FEB'\n",
    "    elif new_df.columns[1][:3] == 'MAR':\n",
    "        month = 'MAR'\n",
    "    boarding_proportions_l.append(float(new_df.loc['Proportion of Total Boardings'][f'{month} 2023']))\n",
    "    boarding_proportions_l.append(float(new_df.loc['Proportion of Total Boardings'][f'{month} 2022']))\n",
    "    boarding_proportions_l.append(float(new_df.loc['Proportion of Total Boardings'][f'{month} 2021']))\n",
    "    \n",
    "\n",
    "total_avg = sum(boarding_proportions_l)/len(boarding_proportions_l)\n",
    "A_avg = sum(boarding_proportions_l[:9])/9\n",
    "E_avg = sum(boarding_proportions_l[9:18])/9\n",
    "C_avg = sum(boarding_proportions_l[18:27])/9\n",
    "BD_avg = sum(boarding_proportions_l[27:36])/9\n",
    "print(total_avg, A_avg, BD_avg, C_avg, E_avg)"
   ],
   "metadata": {
    "collapsed": false,
    "ExecuteTime": {
     "start_time": "2023-12-10T02:40:00.275983400Z"
    }
   },
   "id": "81f9cce101123b3c"
  },
  {
   "cell_type": "code",
   "execution_count": null,
   "outputs": [],
   "source": [
    "network2 = nx.Graph()\n",
    "network2.add_nodes_from(rail_network)\n",
    "\n",
    "for node1, node2 in rail_network.edges:\n",
    "    if node1 in route_A:\n",
    "        network2.add_edge(node1, node2, weight = A_avg)\n",
    "    elif node1 in route_B:\n",
    "        network2.add_edge(node1, node2, weight = BD_avg)\n",
    "    elif node1 in route_C:\n",
    "        network2.add_edge(node1, node2, weight = C_avg)\n",
    "    elif node1 in route_E:\n",
    "        network2.add_edge(node1, node2, weight = E_avg)\n",
    "    elif node1 in route_D:\n",
    "        network2.add_edge(node1, node2, weight = BD_avg)\n",
    "    else:\n",
    "        network2.add_edge(node1, node2, weight = 0.7*total_avg)\n",
    "        \n",
    "# Set figure size\n",
    "fig = plt.figure(figsize = (10,10))\n",
    "# We use Kamada-Kawai positioning algorithm to plot the nodes of the graph\n",
    "nx.draw_kamada_kawai(network2, with_labels=True, node_size=100)"
   ],
   "metadata": {
    "collapsed": false,
    "ExecuteTime": {
     "start_time": "2023-12-10T02:40:00.277978300Z"
    }
   },
   "id": "29d04f10f23d3b15"
  },
  {
   "cell_type": "code",
   "execution_count": null,
   "outputs": [],
   "source": [
    "network2.edges(data = True)"
   ],
   "metadata": {
    "collapsed": false,
    "ExecuteTime": {
     "start_time": "2023-12-10T02:40:00.279972800Z"
    }
   },
   "id": "fbe79e59c9393388"
  },
  {
   "cell_type": "markdown",
   "source": [
    "# Normalizing Graph\n"
   ],
   "metadata": {
    "collapsed": false
   },
   "id": "4c2b766dd2cad9fc"
  },
  {
   "cell_type": "code",
   "execution_count": null,
   "outputs": [],
   "source": [
    "def normalize_graph(G):\n",
    "    # Get list of old edge weights\n",
    "    old_edge_weights = [data['weight'] for node1, node2, data in G.edges(data=True)]\n",
    "    # Calculate mean of old edge weights\n",
    "    mean_old_edge_weights = sum(old_edge_weights) / len(old_edge_weights)\n",
    "\n",
    "    # importing Statistics module\n",
    "    import statistics\n",
    "    # Calculate standard deviation of old edge weights\n",
    "    stdev_old_edge_weights = statistics.stdev(old_edge_weights)\n",
    "\n",
    "    # Create new graph we will add edges to \n",
    "    new_G = nx.Graph()\n",
    "    new_G.add_nodes_from(list(G))\n",
    "    for node1, node2, data in G.edges(data=True):\n",
    "        # Z-score\n",
    "        std_weight = (data['weight'] - mean_old_edge_weights) / stdev_old_edge_weights\n",
    "        # New standard deviation of: std_weight/5\n",
    "        std_weight = std_weight / 5\n",
    "        # New mean of 1\n",
    "        std_weight = std_weight + 1\n",
    "\n",
    "        # if less than 0, turn to 0\n",
    "        if std_weight < 0:\n",
    "            std_weight = 0\n",
    "\n",
    "        # Add new weights to new graph\n",
    "        new_G.add_edge(node1, node2, weight=std_weight)\n",
    "\n",
    "    return new_G\n"
   ],
   "metadata": {
    "collapsed": false,
    "ExecuteTime": {
     "start_time": "2023-12-10T02:40:00.281968100Z"
    }
   },
   "id": "444e19968d0fbcfd"
  },
  {
   "cell_type": "code",
   "execution_count": null,
   "outputs": [],
   "source": [
    "# Create Graph\n",
    "network3 = normalize_graph(network2)\n",
    "# Let's see if it worked\n",
    "network3.edges(data=True)"
   ],
   "metadata": {
    "collapsed": false,
    "ExecuteTime": {
     "start_time": "2023-12-10T02:40:00.282966Z"
    }
   },
   "id": "3e6e73f30006af47"
  },
  {
   "cell_type": "code",
   "execution_count": null,
   "outputs": [],
   "source": [
    "# proof of concept for coloring nodes\n",
    "# later we can split into bins\n",
    "\n",
    "# Get the top 6 stations\n",
    "important_stations = list(get_ranked_stations(rlp(f, A_stadium, epsilon, 3)))[:6]\n",
    "# The Stations we care about\n",
    "Destination_station_ids\n",
    "# remaining stations\n",
    "remaining_nodes = list(set(rail_network.nodes()) - set(important_stations) - set(Destination_station_ids))\n",
    "\n",
    "fig = plt.figure(figsize=(10, 10))\n",
    "layout = nx.kamada_kawai_layout(rail_network)\n",
    "nx.draw_networkx_nodes(rail_network, layout, nodelist=important_stations, node_color='red', node_size=50)\n",
    "nx.draw_networkx_nodes(rail_network, layout, nodelist=Destination_station_ids, node_color='green', node_size=50)\n",
    "nx.draw_networkx_nodes(rail_network, layout, nodelist=remaining_nodes, node_color='blue', node_size=50)\n",
    "nx.draw_networkx_edges(rail_network, layout)"
   ],
   "metadata": {
    "collapsed": false,
    "ExecuteTime": {
     "start_time": "2023-12-10T02:40:00.284959500Z"
    }
   },
   "id": "c18df3de115e0244"
  },
  {
   "cell_type": "code",
   "execution_count": null,
   "outputs": [],
   "source": [
    "rlp(f, A_stadium, epsilon, 3)"
   ],
   "metadata": {
    "collapsed": false,
    "ExecuteTime": {
     "start_time": "2023-12-10T02:40:00.285957100Z"
    }
   },
   "id": "cb5780301ffaba28"
  },
  {
   "cell_type": "code",
   "execution_count": null,
   "outputs": [],
   "source": [],
   "metadata": {
    "collapsed": false,
    "ExecuteTime": {
     "start_time": "2023-12-10T02:40:00.286954400Z"
    }
   },
   "id": "6d004dda7ad3d105"
  }
 ],
 "metadata": {
  "kernelspec": {
   "display_name": "Python 3 (ipykernel)",
   "language": "python",
   "name": "python3"
  },
  "language_info": {
   "codemirror_mode": {
    "name": "ipython",
    "version": 3
   },
   "file_extension": ".py",
   "mimetype": "text/x-python",
   "name": "python",
   "nbconvert_exporter": "python",
   "pygments_lexer": "ipython3",
   "version": "3.11.4"
  }
 },
 "nbformat": 4,
 "nbformat_minor": 5
}
