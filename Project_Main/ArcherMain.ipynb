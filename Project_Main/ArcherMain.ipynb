{
 "cells": [
  {
   "cell_type": "markdown",
   "metadata": {},
   "source": [
    "## 1. Setup"
   ]
  },
  {
   "cell_type": "markdown",
   "metadata": {},
   "source": [
    "We will be working with data from Los Angeles Geohub: https://geohub.lacity.org/datasets/9b1bc4861f1e4277b6bd6e51f48e0f4d/explore. Let's import `pandas` and `plotly`, which we will use for data cleaning and creating visualizations, respectively."
   ]
  },
  {
   "cell_type": "code",
   "execution_count": 2,
   "metadata": {},
   "outputs": [],
   "source": [
    "import pandas as pd\n",
    "from plotly import express as px\n",
    "df = pd.read_csv(\"Dataframes/Metro_Stations.csv\")\n",
    "#The data is from the link above."
   ]
  },
  {
   "cell_type": "markdown",
   "metadata": {},
   "source": [
    "## 2. Visualizing the System's Coverage and Structure"
   ]
  },
  {
   "cell_type": "markdown",
   "metadata": {},
   "source": [
    "This data was much nicer and smaller than the New York Subway's hourly ridership data, but this data is also considerably less informative. We were unable to find ridership data by station, only by line, which made creating nice graphics and visualizations with ridership data much more difficult. Below is a preview of our data:"
   ]
  },
  {
   "cell_type": "code",
   "execution_count": 3,
   "metadata": {},
   "outputs": [
    {
     "data": {
      "text/html": [
       "<div>\n",
       "<style scoped>\n",
       "    .dataframe tbody tr th:only-of-type {\n",
       "        vertical-align: middle;\n",
       "    }\n",
       "\n",
       "    .dataframe tbody tr th {\n",
       "        vertical-align: top;\n",
       "    }\n",
       "\n",
       "    .dataframe thead th {\n",
       "        text-align: right;\n",
       "    }\n",
       "</style>\n",
       "<table border=\"1\" class=\"dataframe\">\n",
       "  <thead>\n",
       "    <tr style=\"text-align: right;\">\n",
       "      <th></th>\n",
       "      <th>X</th>\n",
       "      <th>Y</th>\n",
       "      <th>OBJECTID</th>\n",
       "      <th>source</th>\n",
       "      <th>ext_id</th>\n",
       "      <th>cat1</th>\n",
       "      <th>cat2</th>\n",
       "      <th>cat3</th>\n",
       "      <th>org_name</th>\n",
       "      <th>Name</th>\n",
       "      <th>...</th>\n",
       "      <th>description</th>\n",
       "      <th>zip</th>\n",
       "      <th>link</th>\n",
       "      <th>use_type</th>\n",
       "      <th>latitude</th>\n",
       "      <th>longitude</th>\n",
       "      <th>date_updated</th>\n",
       "      <th>dis_status</th>\n",
       "      <th>POINT_X</th>\n",
       "      <th>POINT_Y</th>\n",
       "    </tr>\n",
       "  </thead>\n",
       "  <tbody>\n",
       "    <tr>\n",
       "      <th>0</th>\n",
       "      <td>-118.192933</td>\n",
       "      <td>33.768076</td>\n",
       "      <td>72713</td>\n",
       "      <td>Metropolitan Transportation Authority (MTA)</td>\n",
       "      <td>NaN</td>\n",
       "      <td>Transportation</td>\n",
       "      <td>Metro Stations</td>\n",
       "      <td>NaN</td>\n",
       "      <td>NaN</td>\n",
       "      <td>Downtown Long Beach Station</td>\n",
       "      <td>...</td>\n",
       "      <td>Blue Line</td>\n",
       "      <td>NaN</td>\n",
       "      <td>NaN</td>\n",
       "      <td>publish</td>\n",
       "      <td>33.768076</td>\n",
       "      <td>-118.192933</td>\n",
       "      <td>2023/04/04 16:19:54+00</td>\n",
       "      <td>NaN</td>\n",
       "      <td>33.768076</td>\n",
       "      <td>-118.192933</td>\n",
       "    </tr>\n",
       "    <tr>\n",
       "      <th>1</th>\n",
       "      <td>-118.193712</td>\n",
       "      <td>33.772263</td>\n",
       "      <td>72714</td>\n",
       "      <td>Metropolitan Transportation Authority (MTA)</td>\n",
       "      <td>NaN</td>\n",
       "      <td>Transportation</td>\n",
       "      <td>Metro Stations</td>\n",
       "      <td>NaN</td>\n",
       "      <td>NaN</td>\n",
       "      <td>Pacific Ave Station</td>\n",
       "      <td>...</td>\n",
       "      <td>Blue Line</td>\n",
       "      <td>NaN</td>\n",
       "      <td>NaN</td>\n",
       "      <td>publish</td>\n",
       "      <td>33.772263</td>\n",
       "      <td>-118.193712</td>\n",
       "      <td>2023/04/04 16:19:54+00</td>\n",
       "      <td>NaN</td>\n",
       "      <td>33.772263</td>\n",
       "      <td>-118.193712</td>\n",
       "    </tr>\n",
       "    <tr>\n",
       "      <th>2</th>\n",
       "      <td>-118.189396</td>\n",
       "      <td>33.781835</td>\n",
       "      <td>72715</td>\n",
       "      <td>Metropolitan Transportation Authority (MTA)</td>\n",
       "      <td>NaN</td>\n",
       "      <td>Transportation</td>\n",
       "      <td>Metro Stations</td>\n",
       "      <td>NaN</td>\n",
       "      <td>NaN</td>\n",
       "      <td>Anaheim Street Station</td>\n",
       "      <td>...</td>\n",
       "      <td>Blue Line</td>\n",
       "      <td>NaN</td>\n",
       "      <td>NaN</td>\n",
       "      <td>publish</td>\n",
       "      <td>33.781835</td>\n",
       "      <td>-118.189396</td>\n",
       "      <td>2023/04/04 16:19:54+00</td>\n",
       "      <td>NaN</td>\n",
       "      <td>33.781835</td>\n",
       "      <td>-118.189396</td>\n",
       "    </tr>\n",
       "    <tr>\n",
       "      <th>3</th>\n",
       "      <td>-118.189394</td>\n",
       "      <td>33.789095</td>\n",
       "      <td>72716</td>\n",
       "      <td>Metropolitan Transportation Authority (MTA)</td>\n",
       "      <td>NaN</td>\n",
       "      <td>Transportation</td>\n",
       "      <td>Metro Stations</td>\n",
       "      <td>NaN</td>\n",
       "      <td>NaN</td>\n",
       "      <td>Pacific Coast Hwy Station</td>\n",
       "      <td>...</td>\n",
       "      <td>Blue Line</td>\n",
       "      <td>NaN</td>\n",
       "      <td>NaN</td>\n",
       "      <td>publish</td>\n",
       "      <td>33.789095</td>\n",
       "      <td>-118.189394</td>\n",
       "      <td>2023/04/04 16:19:54+00</td>\n",
       "      <td>NaN</td>\n",
       "      <td>33.789095</td>\n",
       "      <td>-118.189394</td>\n",
       "    </tr>\n",
       "    <tr>\n",
       "      <th>4</th>\n",
       "      <td>-118.189846</td>\n",
       "      <td>33.807084</td>\n",
       "      <td>72717</td>\n",
       "      <td>Metropolitan Transportation Authority (MTA)</td>\n",
       "      <td>NaN</td>\n",
       "      <td>Transportation</td>\n",
       "      <td>Metro Stations</td>\n",
       "      <td>NaN</td>\n",
       "      <td>NaN</td>\n",
       "      <td>Willow Street Station</td>\n",
       "      <td>...</td>\n",
       "      <td>Blue Line</td>\n",
       "      <td>NaN</td>\n",
       "      <td>NaN</td>\n",
       "      <td>publish</td>\n",
       "      <td>33.807084</td>\n",
       "      <td>-118.189846</td>\n",
       "      <td>2023/04/04 16:19:54+00</td>\n",
       "      <td>NaN</td>\n",
       "      <td>33.807084</td>\n",
       "      <td>-118.189846</td>\n",
       "    </tr>\n",
       "    <tr>\n",
       "      <th>...</th>\n",
       "      <td>...</td>\n",
       "      <td>...</td>\n",
       "      <td>...</td>\n",
       "      <td>...</td>\n",
       "      <td>...</td>\n",
       "      <td>...</td>\n",
       "      <td>...</td>\n",
       "      <td>...</td>\n",
       "      <td>...</td>\n",
       "      <td>...</td>\n",
       "      <td>...</td>\n",
       "      <td>...</td>\n",
       "      <td>...</td>\n",
       "      <td>...</td>\n",
       "      <td>...</td>\n",
       "      <td>...</td>\n",
       "      <td>...</td>\n",
       "      <td>...</td>\n",
       "      <td>...</td>\n",
       "      <td>...</td>\n",
       "      <td>...</td>\n",
       "    </tr>\n",
       "    <tr>\n",
       "      <th>125</th>\n",
       "      <td>-118.378703</td>\n",
       "      <td>33.945678</td>\n",
       "      <td>72838</td>\n",
       "      <td>Metropolitan Transportation Authority (MTA)</td>\n",
       "      <td>NaN</td>\n",
       "      <td>Transportation</td>\n",
       "      <td>Metro Stations</td>\n",
       "      <td>NaN</td>\n",
       "      <td>NaN</td>\n",
       "      <td>Aviation/Century Station</td>\n",
       "      <td>...</td>\n",
       "      <td>K Line</td>\n",
       "      <td>NaN</td>\n",
       "      <td>NaN</td>\n",
       "      <td>publish</td>\n",
       "      <td>33.945678</td>\n",
       "      <td>-118.378703</td>\n",
       "      <td>2023/04/04 16:19:54+00</td>\n",
       "      <td>NaN</td>\n",
       "      <td>33.945678</td>\n",
       "      <td>-118.378703</td>\n",
       "    </tr>\n",
       "    <tr>\n",
       "      <th>126</th>\n",
       "      <td>-118.377271</td>\n",
       "      <td>33.929635</td>\n",
       "      <td>72839</td>\n",
       "      <td>Metropolitan Transportation Authority (MTA)</td>\n",
       "      <td>NaN</td>\n",
       "      <td>Transportation</td>\n",
       "      <td>Metro Stations</td>\n",
       "      <td>NaN</td>\n",
       "      <td>NaN</td>\n",
       "      <td>Aviation/LAX Station</td>\n",
       "      <td>...</td>\n",
       "      <td>K Line</td>\n",
       "      <td>NaN</td>\n",
       "      <td>NaN</td>\n",
       "      <td>publish</td>\n",
       "      <td>33.929635</td>\n",
       "      <td>-118.377271</td>\n",
       "      <td>2023/04/04 16:19:54+00</td>\n",
       "      <td>NaN</td>\n",
       "      <td>33.929635</td>\n",
       "      <td>-118.377271</td>\n",
       "    </tr>\n",
       "    <tr>\n",
       "      <th>127</th>\n",
       "      <td>-118.251208</td>\n",
       "      <td>34.054751</td>\n",
       "      <td>72840</td>\n",
       "      <td>Metropolitan Transportation Authority (MTA)</td>\n",
       "      <td>NaN</td>\n",
       "      <td>Transportation</td>\n",
       "      <td>Metro Stations</td>\n",
       "      <td>NaN</td>\n",
       "      <td>NaN</td>\n",
       "      <td>Grand Av Arts/Bunker Hill</td>\n",
       "      <td>...</td>\n",
       "      <td>Regional Connector</td>\n",
       "      <td>NaN</td>\n",
       "      <td>NaN</td>\n",
       "      <td>publish</td>\n",
       "      <td>34.054751</td>\n",
       "      <td>-118.251208</td>\n",
       "      <td>2023/04/04 16:19:54+00</td>\n",
       "      <td>NaN</td>\n",
       "      <td>34.054751</td>\n",
       "      <td>-118.251208</td>\n",
       "    </tr>\n",
       "    <tr>\n",
       "      <th>128</th>\n",
       "      <td>-118.246166</td>\n",
       "      <td>34.052039</td>\n",
       "      <td>72841</td>\n",
       "      <td>Metropolitan Transportation Authority (MTA)</td>\n",
       "      <td>NaN</td>\n",
       "      <td>Transportation</td>\n",
       "      <td>Metro Stations</td>\n",
       "      <td>NaN</td>\n",
       "      <td>NaN</td>\n",
       "      <td>Historic Broadway</td>\n",
       "      <td>...</td>\n",
       "      <td>Regional Connector</td>\n",
       "      <td>NaN</td>\n",
       "      <td>NaN</td>\n",
       "      <td>publish</td>\n",
       "      <td>34.052039</td>\n",
       "      <td>-118.246166</td>\n",
       "      <td>2023/04/04 16:19:54+00</td>\n",
       "      <td>NaN</td>\n",
       "      <td>34.052039</td>\n",
       "      <td>-118.246166</td>\n",
       "    </tr>\n",
       "    <tr>\n",
       "      <th>129</th>\n",
       "      <td>-118.238787</td>\n",
       "      <td>34.048842</td>\n",
       "      <td>72842</td>\n",
       "      <td>Metropolitan Transportation Authority (MTA)</td>\n",
       "      <td>NaN</td>\n",
       "      <td>Transportation</td>\n",
       "      <td>Metro Stations</td>\n",
       "      <td>NaN</td>\n",
       "      <td>NaN</td>\n",
       "      <td>Little Tokyo/Arts District</td>\n",
       "      <td>...</td>\n",
       "      <td>Regional Connector</td>\n",
       "      <td>NaN</td>\n",
       "      <td>NaN</td>\n",
       "      <td>publish</td>\n",
       "      <td>34.048842</td>\n",
       "      <td>-118.238787</td>\n",
       "      <td>2023/04/04 16:19:54+00</td>\n",
       "      <td>NaN</td>\n",
       "      <td>34.048842</td>\n",
       "      <td>-118.238787</td>\n",
       "    </tr>\n",
       "  </tbody>\n",
       "</table>\n",
       "<p>130 rows × 31 columns</p>\n",
       "</div>"
      ],
      "text/plain": [
       "              X          Y  OBJECTID  \\\n",
       "0   -118.192933  33.768076     72713   \n",
       "1   -118.193712  33.772263     72714   \n",
       "2   -118.189396  33.781835     72715   \n",
       "3   -118.189394  33.789095     72716   \n",
       "4   -118.189846  33.807084     72717   \n",
       "..          ...        ...       ...   \n",
       "125 -118.378703  33.945678     72838   \n",
       "126 -118.377271  33.929635     72839   \n",
       "127 -118.251208  34.054751     72840   \n",
       "128 -118.246166  34.052039     72841   \n",
       "129 -118.238787  34.048842     72842   \n",
       "\n",
       "                                          source  ext_id            cat1  \\\n",
       "0    Metropolitan Transportation Authority (MTA)     NaN  Transportation   \n",
       "1    Metropolitan Transportation Authority (MTA)     NaN  Transportation   \n",
       "2    Metropolitan Transportation Authority (MTA)     NaN  Transportation   \n",
       "3    Metropolitan Transportation Authority (MTA)     NaN  Transportation   \n",
       "4    Metropolitan Transportation Authority (MTA)     NaN  Transportation   \n",
       "..                                           ...     ...             ...   \n",
       "125  Metropolitan Transportation Authority (MTA)     NaN  Transportation   \n",
       "126  Metropolitan Transportation Authority (MTA)     NaN  Transportation   \n",
       "127  Metropolitan Transportation Authority (MTA)     NaN  Transportation   \n",
       "128  Metropolitan Transportation Authority (MTA)     NaN  Transportation   \n",
       "129  Metropolitan Transportation Authority (MTA)     NaN  Transportation   \n",
       "\n",
       "               cat2  cat3 org_name                         Name  ...  \\\n",
       "0    Metro Stations   NaN      NaN  Downtown Long Beach Station  ...   \n",
       "1    Metro Stations   NaN      NaN          Pacific Ave Station  ...   \n",
       "2    Metro Stations   NaN      NaN       Anaheim Street Station  ...   \n",
       "3    Metro Stations   NaN      NaN    Pacific Coast Hwy Station  ...   \n",
       "4    Metro Stations   NaN      NaN        Willow Street Station  ...   \n",
       "..              ...   ...      ...                          ...  ...   \n",
       "125  Metro Stations   NaN      NaN     Aviation/Century Station  ...   \n",
       "126  Metro Stations   NaN      NaN         Aviation/LAX Station  ...   \n",
       "127  Metro Stations   NaN      NaN    Grand Av Arts/Bunker Hill  ...   \n",
       "128  Metro Stations   NaN      NaN            Historic Broadway  ...   \n",
       "129  Metro Stations   NaN      NaN   Little Tokyo/Arts District  ...   \n",
       "\n",
       "            description  zip link use_type   latitude   longitude  \\\n",
       "0             Blue Line  NaN  NaN  publish  33.768076 -118.192933   \n",
       "1             Blue Line  NaN  NaN  publish  33.772263 -118.193712   \n",
       "2             Blue Line  NaN  NaN  publish  33.781835 -118.189396   \n",
       "3             Blue Line  NaN  NaN  publish  33.789095 -118.189394   \n",
       "4             Blue Line  NaN  NaN  publish  33.807084 -118.189846   \n",
       "..                  ...  ...  ...      ...        ...         ...   \n",
       "125              K Line  NaN  NaN  publish  33.945678 -118.378703   \n",
       "126              K Line  NaN  NaN  publish  33.929635 -118.377271   \n",
       "127  Regional Connector  NaN  NaN  publish  34.054751 -118.251208   \n",
       "128  Regional Connector  NaN  NaN  publish  34.052039 -118.246166   \n",
       "129  Regional Connector  NaN  NaN  publish  34.048842 -118.238787   \n",
       "\n",
       "               date_updated dis_status    POINT_X     POINT_Y  \n",
       "0    2023/04/04 16:19:54+00        NaN  33.768076 -118.192933  \n",
       "1    2023/04/04 16:19:54+00        NaN  33.772263 -118.193712  \n",
       "2    2023/04/04 16:19:54+00        NaN  33.781835 -118.189396  \n",
       "3    2023/04/04 16:19:54+00        NaN  33.789095 -118.189394  \n",
       "4    2023/04/04 16:19:54+00        NaN  33.807084 -118.189846  \n",
       "..                      ...        ...        ...         ...  \n",
       "125  2023/04/04 16:19:54+00        NaN  33.945678 -118.378703  \n",
       "126  2023/04/04 16:19:54+00        NaN  33.929635 -118.377271  \n",
       "127  2023/04/04 16:19:54+00        NaN  34.054751 -118.251208  \n",
       "128  2023/04/04 16:19:54+00        NaN  34.052039 -118.246166  \n",
       "129  2023/04/04 16:19:54+00        NaN  34.048842 -118.238787  \n",
       "\n",
       "[130 rows x 31 columns]"
      ]
     },
     "execution_count": 3,
     "metadata": {},
     "output_type": "execute_result"
    }
   ],
   "source": [
    "df"
   ]
  },
  {
   "cell_type": "markdown",
   "metadata": {},
   "source": [
    "The description column holds the line data. Some of the line data is inconsistent, so we can simplify and clean up the inconsistencies withe the Regional Connector, which is part of the A and E lines. We make 2 separate columns `Line`, which takes only 1 of the lines at the station and `Lines`, which tracks all the lines at a station. This will help us when it comes to graphing without losing too much important information. We can then get rid of many of the extra columns that we don't need."
   ]
  },
  {
   "cell_type": "code",
   "execution_count": 4,
   "metadata": {},
   "outputs": [
    {
     "name": "stderr",
     "output_type": "stream",
     "text": [
      "C:\\Users\\thele\\AppData\\Local\\Temp\\ipykernel_46688\\593578920.py:7: SettingWithCopyWarning: \n",
      "A value is trying to be set on a copy of a slice from a DataFrame\n",
      "\n",
      "See the caveats in the documentation: https://pandas.pydata.org/pandas-docs/stable/user_guide/indexing.html#returning-a-view-versus-a-copy\n",
      "  df['description'][row] = \"Blue/Expo\"\n",
      "C:\\Users\\thele\\AppData\\Local\\Temp\\ipykernel_46688\\593578920.py:7: SettingWithCopyWarning: \n",
      "A value is trying to be set on a copy of a slice from a DataFrame\n",
      "\n",
      "See the caveats in the documentation: https://pandas.pydata.org/pandas-docs/stable/user_guide/indexing.html#returning-a-view-versus-a-copy\n",
      "  df['description'][row] = \"Blue/Expo\"\n",
      "C:\\Users\\thele\\AppData\\Local\\Temp\\ipykernel_46688\\593578920.py:9: SettingWithCopyWarning: \n",
      "A value is trying to be set on a copy of a slice from a DataFrame\n",
      "\n",
      "See the caveats in the documentation: https://pandas.pydata.org/pandas-docs/stable/user_guide/indexing.html#returning-a-view-versus-a-copy\n",
      "  df['description'][row] = \"Expo\"\n",
      "C:\\Users\\thele\\AppData\\Local\\Temp\\ipykernel_46688\\593578920.py:9: SettingWithCopyWarning: \n",
      "A value is trying to be set on a copy of a slice from a DataFrame\n",
      "\n",
      "See the caveats in the documentation: https://pandas.pydata.org/pandas-docs/stable/user_guide/indexing.html#returning-a-view-versus-a-copy\n",
      "  df['description'][row] = \"Expo\"\n",
      "C:\\Users\\thele\\AppData\\Local\\Temp\\ipykernel_46688\\593578920.py:9: SettingWithCopyWarning: \n",
      "A value is trying to be set on a copy of a slice from a DataFrame\n",
      "\n",
      "See the caveats in the documentation: https://pandas.pydata.org/pandas-docs/stable/user_guide/indexing.html#returning-a-view-versus-a-copy\n",
      "  df['description'][row] = \"Expo\"\n",
      "C:\\Users\\thele\\AppData\\Local\\Temp\\ipykernel_46688\\593578920.py:9: SettingWithCopyWarning: \n",
      "A value is trying to be set on a copy of a slice from a DataFrame\n",
      "\n",
      "See the caveats in the documentation: https://pandas.pydata.org/pandas-docs/stable/user_guide/indexing.html#returning-a-view-versus-a-copy\n",
      "  df['description'][row] = \"Expo\"\n",
      "C:\\Users\\thele\\AppData\\Local\\Temp\\ipykernel_46688\\593578920.py:9: SettingWithCopyWarning: \n",
      "A value is trying to be set on a copy of a slice from a DataFrame\n",
      "\n",
      "See the caveats in the documentation: https://pandas.pydata.org/pandas-docs/stable/user_guide/indexing.html#returning-a-view-versus-a-copy\n",
      "  df['description'][row] = \"Expo\"\n",
      "C:\\Users\\thele\\AppData\\Local\\Temp\\ipykernel_46688\\593578920.py:9: SettingWithCopyWarning: \n",
      "A value is trying to be set on a copy of a slice from a DataFrame\n",
      "\n",
      "See the caveats in the documentation: https://pandas.pydata.org/pandas-docs/stable/user_guide/indexing.html#returning-a-view-versus-a-copy\n",
      "  df['description'][row] = \"Expo\"\n",
      "C:\\Users\\thele\\AppData\\Local\\Temp\\ipykernel_46688\\593578920.py:9: SettingWithCopyWarning: \n",
      "A value is trying to be set on a copy of a slice from a DataFrame\n",
      "\n",
      "See the caveats in the documentation: https://pandas.pydata.org/pandas-docs/stable/user_guide/indexing.html#returning-a-view-versus-a-copy\n",
      "  df['description'][row] = \"Expo\"\n",
      "C:\\Users\\thele\\AppData\\Local\\Temp\\ipykernel_46688\\593578920.py:9: SettingWithCopyWarning: \n",
      "A value is trying to be set on a copy of a slice from a DataFrame\n",
      "\n",
      "See the caveats in the documentation: https://pandas.pydata.org/pandas-docs/stable/user_guide/indexing.html#returning-a-view-versus-a-copy\n",
      "  df['description'][row] = \"Expo\"\n",
      "C:\\Users\\thele\\AppData\\Local\\Temp\\ipykernel_46688\\593578920.py:9: SettingWithCopyWarning: \n",
      "A value is trying to be set on a copy of a slice from a DataFrame\n",
      "\n",
      "See the caveats in the documentation: https://pandas.pydata.org/pandas-docs/stable/user_guide/indexing.html#returning-a-view-versus-a-copy\n",
      "  df['description'][row] = \"Expo\"\n",
      "C:\\Users\\thele\\AppData\\Local\\Temp\\ipykernel_46688\\593578920.py:9: SettingWithCopyWarning: \n",
      "A value is trying to be set on a copy of a slice from a DataFrame\n",
      "\n",
      "See the caveats in the documentation: https://pandas.pydata.org/pandas-docs/stable/user_guide/indexing.html#returning-a-view-versus-a-copy\n",
      "  df['description'][row] = \"Expo\"\n",
      "C:\\Users\\thele\\AppData\\Local\\Temp\\ipykernel_46688\\593578920.py:9: SettingWithCopyWarning: \n",
      "A value is trying to be set on a copy of a slice from a DataFrame\n",
      "\n",
      "See the caveats in the documentation: https://pandas.pydata.org/pandas-docs/stable/user_guide/indexing.html#returning-a-view-versus-a-copy\n",
      "  df['description'][row] = \"Expo\"\n",
      "C:\\Users\\thele\\AppData\\Local\\Temp\\ipykernel_46688\\593578920.py:9: SettingWithCopyWarning: \n",
      "A value is trying to be set on a copy of a slice from a DataFrame\n",
      "\n",
      "See the caveats in the documentation: https://pandas.pydata.org/pandas-docs/stable/user_guide/indexing.html#returning-a-view-versus-a-copy\n",
      "  df['description'][row] = \"Expo\"\n",
      "C:\\Users\\thele\\AppData\\Local\\Temp\\ipykernel_46688\\593578920.py:9: SettingWithCopyWarning: \n",
      "A value is trying to be set on a copy of a slice from a DataFrame\n",
      "\n",
      "See the caveats in the documentation: https://pandas.pydata.org/pandas-docs/stable/user_guide/indexing.html#returning-a-view-versus-a-copy\n",
      "  df['description'][row] = \"Expo\"\n",
      "C:\\Users\\thele\\AppData\\Local\\Temp\\ipykernel_46688\\593578920.py:9: SettingWithCopyWarning: \n",
      "A value is trying to be set on a copy of a slice from a DataFrame\n",
      "\n",
      "See the caveats in the documentation: https://pandas.pydata.org/pandas-docs/stable/user_guide/indexing.html#returning-a-view-versus-a-copy\n",
      "  df['description'][row] = \"Expo\"\n",
      "C:\\Users\\thele\\AppData\\Local\\Temp\\ipykernel_46688\\593578920.py:9: SettingWithCopyWarning: \n",
      "A value is trying to be set on a copy of a slice from a DataFrame\n",
      "\n",
      "See the caveats in the documentation: https://pandas.pydata.org/pandas-docs/stable/user_guide/indexing.html#returning-a-view-versus-a-copy\n",
      "  df['description'][row] = \"Expo\"\n",
      "C:\\Users\\thele\\AppData\\Local\\Temp\\ipykernel_46688\\593578920.py:9: SettingWithCopyWarning: \n",
      "A value is trying to be set on a copy of a slice from a DataFrame\n",
      "\n",
      "See the caveats in the documentation: https://pandas.pydata.org/pandas-docs/stable/user_guide/indexing.html#returning-a-view-versus-a-copy\n",
      "  df['description'][row] = \"Expo\"\n",
      "C:\\Users\\thele\\AppData\\Local\\Temp\\ipykernel_46688\\593578920.py:9: SettingWithCopyWarning: \n",
      "A value is trying to be set on a copy of a slice from a DataFrame\n",
      "\n",
      "See the caveats in the documentation: https://pandas.pydata.org/pandas-docs/stable/user_guide/indexing.html#returning-a-view-versus-a-copy\n",
      "  df['description'][row] = \"Expo\"\n",
      "C:\\Users\\thele\\AppData\\Local\\Temp\\ipykernel_46688\\593578920.py:7: SettingWithCopyWarning: \n",
      "A value is trying to be set on a copy of a slice from a DataFrame\n",
      "\n",
      "See the caveats in the documentation: https://pandas.pydata.org/pandas-docs/stable/user_guide/indexing.html#returning-a-view-versus-a-copy\n",
      "  df['description'][row] = \"Blue/Expo\"\n",
      "C:\\Users\\thele\\AppData\\Local\\Temp\\ipykernel_46688\\593578920.py:7: SettingWithCopyWarning: \n",
      "A value is trying to be set on a copy of a slice from a DataFrame\n",
      "\n",
      "See the caveats in the documentation: https://pandas.pydata.org/pandas-docs/stable/user_guide/indexing.html#returning-a-view-versus-a-copy\n",
      "  df['description'][row] = \"Blue/Expo\"\n",
      "C:\\Users\\thele\\AppData\\Local\\Temp\\ipykernel_46688\\593578920.py:7: SettingWithCopyWarning: \n",
      "A value is trying to be set on a copy of a slice from a DataFrame\n",
      "\n",
      "See the caveats in the documentation: https://pandas.pydata.org/pandas-docs/stable/user_guide/indexing.html#returning-a-view-versus-a-copy\n",
      "  df['description'][row] = \"Blue/Expo\"\n"
     ]
    }
   ],
   "source": [
    "#get rid of \"Line\" in each row as it is unnecessary information\n",
    "df['description'] = df['description'].str.split().str.get(0)\n",
    "\n",
    "#clean up the line names\n",
    "for row in range(len(df)):\n",
    "    if df['description'][row] == \"Regional\" or df['description'][row] == \"Blue/EXPO\":\n",
    "        df['description'][row] = \"Blue/Expo\"\n",
    "    if df['description'][row] == \"EXPO\":\n",
    "        df['description'][row] = \"Expo\"\n",
    "\n",
    "#clean up the lines column\n",
    "df[\"Line\"] = df[\"description\"].str.split('/').str.get(0)\n",
    "df[\"Lines\"] = df[\"description\"].str.split('/')\n",
    "\n",
    "#we dont need many of these columns anymore\n",
    "cols = ['OBJECTID', 'post_id', 'latitude', 'longitude', 'Name', 'Lines', 'Line']\n",
    "df = df[cols]"
   ]
  },
  {
   "cell_type": "markdown",
   "metadata": {},
   "source": [
    "Let's send this to a new csv file."
   ]
  },
  {
   "cell_type": "code",
   "execution_count": 5,
   "metadata": {},
   "outputs": [],
   "source": [
    "df.to_csv('Dataframes/Clean_Metro_Stations.csv')"
   ]
  },
  {
   "cell_type": "markdown",
   "metadata": {},
   "source": [
    "From here, the station IDs are jumbled and unordered. It's a bit difficult to sort these IDs computationally due to the nature of the system and the way it has expanded over time, as lines have been merged since the construction of the regional connector and new stations were added to the center of the A and E lines with non-sequential station IDs. So unlike with New York, where this was unfeasible, we manually sorted through the columns, putting the stations on each line in consecutive order. We also made a few minor edits to the station names to maintain the consistency of the data with the other dataset we planned to merge with this one, namely changing \"St\" to \"Street\" for a few stations. While editing station names is computationally possible and feasible, it was much more efficient to find inconsistencies by testing merges between the 2 datasets and fixing the inconsistencies or missing data found from merging. \n",
    "\n",
    "It is important to note that we are not changing or deleting any data here, but the order of the rows will be important for our `line_mapbox` later. Let's read in the edited data."
   ]
  },
  {
   "cell_type": "code",
   "execution_count": 6,
   "metadata": {},
   "outputs": [],
   "source": [
    "df = pd.read_csv(\"Dataframes/Clean_Metro_Stations_Manual_Clean.csv\")"
   ]
  },
  {
   "cell_type": "markdown",
   "metadata": {},
   "source": [
    "Now, we are ready to create visualizations! Let's start with a rough system map showing the locations of all the stations and what line they are on:"
   ]
  },
  {
   "cell_type": "code",
   "execution_count": 7,
   "metadata": {},
   "outputs": [
    {
     "data": {
      "application/vnd.plotly.v1+json": {
       "config": {
        "plotlyServerURL": "https://plot.ly"
       },
       "data": [
        {
         "hovertemplate": "<b>%{hovertext}</b><br><br>Line=A<br>Latitude=%{lat}<br>Longitude=%{lon}<extra></extra>",
         "hovertext": [
          "5th Street Station",
          "1st Street Station",
          "Downtown Long Beach Station",
          "Pacific Ave Station",
          "Anaheim Street Station",
          "Pacific Coast Hwy Station",
          "Willow Street Station",
          "Wardlow Station",
          "Del Amo Station",
          "Artesia Station",
          "Compton Station",
          "Willowbrook - Rosa Parks Station",
          "103rd Street / Watts Towers  Station",
          "Firestone Station",
          "Florence Station",
          "Slauson Station",
          "Vernon Station",
          "Washington Station",
          "San Pedro Street Station",
          "Grand / LATTC Station",
          "Pico Station",
          "7th Street / Metro Center Station",
          "Grand Av Arts/Bunker Hill",
          "Historic Broadway",
          "Little Tokyo/Arts District",
          "Union Station",
          "Chinatown Station",
          "Lincoln Heights / Cypress Park Station",
          "Heritage Square / Arroyo Station",
          "Southwest Museum Station",
          "Highland Park Station",
          "South Pasadena Station",
          "Fillmore Station",
          "Del Mar Station",
          "Memorial Park Station",
          "Lake Station",
          "Allen Station",
          "Sierra Madre Villa Station",
          "Arcadia Station",
          "Monrovia Station",
          "Duarte / City of Hope Station",
          "Irwindale Station",
          "Azusa Downtown Station",
          "APU / Citrus College Station"
         ],
         "lat": [
          33.77360283,
          33.76874483,
          33.76807583,
          33.77226283,
          33.78183483,
          33.78909483,
          33.80708383,
          33.81986983,
          33.84822684,
          33.87608684,
          33.89749484,
          33.92805284,
          33.94222484,
          33.95961585,
          33.97374485,
          33.98876485,
          34.00292485,
          34.01965485,
          34.02681185,
          34.03315985,
          34.04073985,
          34.04861486,
          34.05475059,
          34.05203893,
          34.04884218,
          34.05606586,
          34.06386586,
          34.08095386,
          34.08723186,
          34.09824786,
          34.11118387,
          34.11519087,
          34.13352587,
          34.14191487,
          34.14836087,
          34.15181087,
          34.15242187,
          34.14775688,
          34.14286488,
          34.13315988,
          34.13252288,
          34.12905288,
          34.13586788,
          34.13681889
         ],
         "legendgroup": "A",
         "lon": [
          -118.1894242,
          -118.1893742,
          -118.1929332,
          -118.1937122,
          -118.1893962,
          -118.1893942,
          -118.1898462,
          -118.1961022,
          -118.2110292,
          -118.2225152,
          -118.2242612,
          -118.2375672,
          -118.2431712,
          -118.2432172,
          -118.2432832,
          -118.2434102,
          -118.2433152,
          -118.2430962,
          -118.2555172,
          -118.2693452,
          -118.2661302,
          -118.2588342,
          -118.2512082,
          -118.2461664,
          -118.2387869,
          -118.2347712,
          -118.2358522,
          -118.2204412,
          -118.2132252,
          -118.2067242,
          -118.1926182,
          -118.1578982,
          -118.1481382,
          -118.1482262,
          -118.1475242,
          -118.1314022,
          -118.1143602,
          -118.0812242,
          -118.0292112,
          -118.0034852,
          -117.9676922,
          -117.9325181,
          -117.9066431,
          -117.8916481
         ],
         "marker": {
          "color": "#636efa"
         },
         "mode": "markers",
         "name": "A",
         "showlegend": true,
         "subplot": "mapbox",
         "type": "scattermapbox"
        },
        {
         "hovertemplate": "<b>%{hovertext}</b><br><br>Line=B<br>Latitude=%{lat}<br>Longitude=%{lon}<extra></extra>",
         "hovertext": [
          "North Hollywood Station",
          "Universal / Studio City Station",
          "Hollywood / Highland Station",
          "Hollywood / Vine Station",
          "Hollywood / Western Station",
          "Vermont / Sunset Station",
          "Vermont / Santa Monica Station",
          "Vermont / Beverly Station",
          "Wilshire / Vermont Station",
          "Westlake / MacArthur Park Station",
          "7th Street / Metro Center Station",
          "Pershing Square Station",
          "Civic Center / Grand Park Station",
          "Union Station"
         ],
         "lat": [
          34.16850886,
          34.14000686,
          34.10155186,
          34.10163486,
          34.10174186,
          34.09771286,
          34.08991486,
          34.07653086,
          34.06270585,
          34.05637286,
          34.04863885,
          34.04932086,
          34.05490486,
          34.05620186
         ],
         "legendgroup": "B",
         "lon": [
          -118.3768202,
          -118.3627112,
          -118.3385612,
          -118.3251922,
          -118.3081292,
          -118.2917682,
          -118.2917422,
          -118.2916982,
          -118.2900942,
          -118.2748912,
          -118.2586942,
          -118.2512712,
          -118.2460692,
          -118.2342612
         ],
         "marker": {
          "color": "#EF553B"
         },
         "mode": "markers",
         "name": "B",
         "showlegend": true,
         "subplot": "mapbox",
         "type": "scattermapbox"
        },
        {
         "hovertemplate": "<b>%{hovertext}</b><br><br>Line=C<br>Latitude=%{lat}<br>Longitude=%{lon}<extra></extra>",
         "hovertext": [
          "Redondo Beach Station",
          "Douglas Station",
          "El Segundo Station",
          "Mariposa Station",
          "Aviation / LAX Station",
          "Hawthorne / Lennox Station",
          "Crenshaw Station",
          "Vermont / Athens Station",
          "Harbor Freeway Station",
          "Avalon Station",
          "Willowbrook - Rosa Parks Station",
          "Long Beach Blvd Station",
          "Lakewood Blvd Station",
          "Norwalk Station"
         ],
         "lat": [
          33.89464483,
          33.90530383,
          33.91606783,
          33.92320483,
          33.92962583,
          33.93341284,
          33.92520584,
          33.92868784,
          33.92871884,
          33.92746984,
          33.92826284,
          33.92488484,
          33.91307485,
          33.91403785
         ],
         "legendgroup": "C",
         "lon": [
          -118.3692082,
          -118.3831252,
          -118.3865512,
          -118.3875842,
          -118.3771462,
          -118.3516142,
          -118.3265622,
          -118.2917452,
          -118.2811122,
          -118.2652292,
          -118.2380642,
          -118.2099572,
          -118.1406122,
          -118.1047292
         ],
         "marker": {
          "color": "#00cc96"
         },
         "mode": "markers",
         "name": "C",
         "showlegend": true,
         "subplot": "mapbox",
         "type": "scattermapbox"
        },
        {
         "hovertemplate": "<b>%{hovertext}</b><br><br>Line=D<br>Latitude=%{lat}<br>Longitude=%{lon}<extra></extra>",
         "hovertext": [
          "Wilshire / Western Station",
          "Wilshire / Normandie Station",
          "Wilshire / Vermont Station",
          "Westlake / MacArthur Park Station",
          "7th Street / Metro Center Station",
          "Pershing Square Station",
          "Civic Center / Grand Park Station",
          "Union Station"
         ],
         "lat": [
          34.06169385,
          34.06175785,
          34.06270585,
          34.05637286,
          34.04863885,
          34.04932086,
          34.05490486,
          34.05620186
         ],
         "legendgroup": "D",
         "lon": [
          -118.3087682,
          -118.3014702,
          -118.2900942,
          -118.2748912,
          -118.2586942,
          -118.2512712,
          -118.2460692,
          -118.2342612
         ],
         "marker": {
          "color": "#ab63fa"
         },
         "mode": "markers",
         "name": "D",
         "showlegend": true,
         "subplot": "mapbox",
         "type": "scattermapbox"
        },
        {
         "hovertemplate": "<b>%{hovertext}</b><br><br>Line=E<br>Latitude=%{lat}<br>Longitude=%{lon}<extra></extra>",
         "hovertext": [
          "Atlantic Station",
          "East LA Civic Center Station",
          "Maravilla Station",
          "Indiana Station",
          "Soto Station",
          "Mariachi Plaza / Boyle Heights Station",
          "Pico / Aliso Station",
          "Little Tokyo/Arts District",
          "Historic Broadway",
          "Grand Av Arts/Bunker Hill",
          "7th Street / Metro Center Station",
          "Pico Station",
          "LATTC / Ortho Institute Station",
          "Jefferson / USC Station",
          "Expo Park / USC Station",
          "Expo / Vermont Station",
          "Expo / Western Station",
          "Expo / Crenshaw Station",
          "Farmdale Station",
          "Expo / La Brea Station",
          "La Cienega / Jefferson Station",
          "Culver City Station",
          "Palms Station",
          "Westwood / Rancho Park Station",
          "Expo / Sepulveda Station",
          "Expo / Bundy Station",
          "26th Street / Bergamot Station",
          "17th Street / SMC Station",
          "Downtown Santa Monica Station"
         ],
         "lat": [
          34.03340286,
          34.03336886,
          34.03332386,
          34.03430486,
          34.04375186,
          34.04721986,
          34.04763886,
          34.04884218,
          34.05203893,
          34.05475059,
          34.04861486,
          34.04073985,
          34.02911685,
          34.02212785,
          34.01823185,
          34.01824985,
          34.01833585,
          34.02253085,
          34.02398585,
          34.02480785,
          34.02635985,
          34.02790085,
          34.02932784,
          34.03682084,
          34.03541284,
          34.03170984,
          34.02799984,
          34.02315984,
          34.01401484
         ],
         "legendgroup": "E",
         "lon": [
          -118.1544812,
          -118.1612182,
          -118.1681522,
          -118.1921942,
          -118.2100732,
          -118.2196602,
          -118.2259522,
          -118.2387869,
          -118.2461664,
          -118.2512082,
          -118.2588342,
          -118.2661302,
          -118.2736152,
          -118.2781302,
          -118.2857462,
          -118.2915522,
          -118.3089222,
          -118.3350902,
          -118.3461072,
          -118.3551712,
          -118.3721322,
          -118.3889982,
          -118.4042672,
          -118.4245882,
          -118.4342462,
          -118.4529082,
          -118.4691322,
          -118.4803842,
          -118.4913962
         ],
         "marker": {
          "color": "#FFA15A"
         },
         "mode": "markers",
         "name": "E",
         "showlegend": true,
         "subplot": "mapbox",
         "type": "scattermapbox"
        },
        {
         "hovertemplate": "<b>%{hovertext}</b><br><br>Line=G<br>Latitude=%{lat}<br>Longitude=%{lon}<extra></extra>",
         "hovertext": [
          "Chatsworth Metro Station",
          "Nordhoff Metro Station North Bound",
          "Nordhoff Metro Station South Bound",
          "Roscoe Metro Station North Bound",
          "Roscoe Metro Station South Bound",
          "Sherman Way Metro Station",
          "Canoga Metro Station North-South",
          "Warner Center Metro Station",
          "Canoga Metro Station East-West",
          "De Soto Metro Station",
          "Pierce College Metro Station",
          "Tampa Metro Station",
          "Reseda Metro Station",
          "Balboa Metro Station",
          "Woodley Metro Station",
          "Sepulveda Metro Station",
          "Van Nuys Metro Station",
          "Woodman Metro Station",
          "Valley College Metro Station",
          "Laurel Canyon Metro Station",
          "North Hollywood Metro Station"
         ],
         "lat": [
          34.2521972,
          34.23592131,
          34.23498563,
          34.22047153,
          34.21937541,
          34.20050779,
          34.19136029,
          34.18154485,
          34.19056485,
          34.18871485,
          34.18696485,
          34.18105485,
          34.18045485,
          34.18600486,
          34.18631486,
          34.18085486,
          34.18046486,
          34.17899486,
          34.17176486,
          34.16856486,
          34.16881486
         ],
         "legendgroup": "G",
         "lon": [
          -118.5993797,
          -118.5971927,
          -118.5971931,
          -118.5970328,
          -118.5970485,
          -118.5971486,
          -118.5964455,
          -118.6014123,
          -118.5968923,
          -118.5887023,
          -118.5705623,
          -118.5530923,
          -118.5365023,
          -118.5005822,
          -118.4841522,
          -118.4687622,
          -118.4481522,
          -118.4297122,
          -118.4220922,
          -118.3970522,
          -118.3775322
         ],
         "marker": {
          "color": "#19d3f3"
         },
         "mode": "markers",
         "name": "G",
         "showlegend": true,
         "subplot": "mapbox",
         "type": "scattermapbox"
        },
        {
         "hovertemplate": "<b>%{hovertext}</b><br><br>Line=K<br>Latitude=%{lat}<br>Longitude=%{lon}<extra></extra>",
         "hovertext": [
          "Expo/Crenshaw Station",
          "Martin Luther King Jr Station",
          "Leimert Park Station",
          "Hyde Park Station",
          "Fairview Heights Station",
          "Downtown Inglewood Station",
          "Westchester/Veterans Station",
          "LAX/Metro Transit Center Station",
          "Aviation/Century Station",
          "Aviation/LAX Station"
         ],
         "lat": [
          34.02245314,
          34.01016656,
          34.00458152,
          33.98828975,
          33.97528429,
          33.96729917,
          33.96202081,
          33.94962547,
          33.94567805,
          33.92963484
         ],
         "legendgroup": "K",
         "lon": [
          -118.3350902,
          -118.335347,
          -118.3326646,
          -118.3308357,
          -118.3360302,
          -118.3513927,
          -118.3744553,
          -118.378663,
          -118.3787027,
          -118.3772708
         ],
         "marker": {
          "color": "#FF6692"
         },
         "mode": "markers",
         "name": "K",
         "showlegend": true,
         "subplot": "mapbox",
         "type": "scattermapbox"
        }
       ],
       "layout": {
        "height": 800,
        "legend": {
         "title": {
          "text": "Line"
         },
         "tracegroupgap": 0
        },
        "mapbox": {
         "center": {
          "lat": 34.04042933499999,
          "lon": -118.29805459857141
         },
         "domain": {
          "x": [
           0,
           1
          ],
          "y": [
           0,
           1
          ]
         },
         "style": "carto-positron",
         "zoom": 8.8
        },
        "template": {
         "data": {
          "bar": [
           {
            "error_x": {
             "color": "#2a3f5f"
            },
            "error_y": {
             "color": "#2a3f5f"
            },
            "marker": {
             "line": {
              "color": "#E5ECF6",
              "width": 0.5
             },
             "pattern": {
              "fillmode": "overlay",
              "size": 10,
              "solidity": 0.2
             }
            },
            "type": "bar"
           }
          ],
          "barpolar": [
           {
            "marker": {
             "line": {
              "color": "#E5ECF6",
              "width": 0.5
             },
             "pattern": {
              "fillmode": "overlay",
              "size": 10,
              "solidity": 0.2
             }
            },
            "type": "barpolar"
           }
          ],
          "carpet": [
           {
            "aaxis": {
             "endlinecolor": "#2a3f5f",
             "gridcolor": "white",
             "linecolor": "white",
             "minorgridcolor": "white",
             "startlinecolor": "#2a3f5f"
            },
            "baxis": {
             "endlinecolor": "#2a3f5f",
             "gridcolor": "white",
             "linecolor": "white",
             "minorgridcolor": "white",
             "startlinecolor": "#2a3f5f"
            },
            "type": "carpet"
           }
          ],
          "choropleth": [
           {
            "colorbar": {
             "outlinewidth": 0,
             "ticks": ""
            },
            "type": "choropleth"
           }
          ],
          "contour": [
           {
            "colorbar": {
             "outlinewidth": 0,
             "ticks": ""
            },
            "colorscale": [
             [
              0,
              "#0d0887"
             ],
             [
              0.1111111111111111,
              "#46039f"
             ],
             [
              0.2222222222222222,
              "#7201a8"
             ],
             [
              0.3333333333333333,
              "#9c179e"
             ],
             [
              0.4444444444444444,
              "#bd3786"
             ],
             [
              0.5555555555555556,
              "#d8576b"
             ],
             [
              0.6666666666666666,
              "#ed7953"
             ],
             [
              0.7777777777777778,
              "#fb9f3a"
             ],
             [
              0.8888888888888888,
              "#fdca26"
             ],
             [
              1,
              "#f0f921"
             ]
            ],
            "type": "contour"
           }
          ],
          "contourcarpet": [
           {
            "colorbar": {
             "outlinewidth": 0,
             "ticks": ""
            },
            "type": "contourcarpet"
           }
          ],
          "heatmap": [
           {
            "colorbar": {
             "outlinewidth": 0,
             "ticks": ""
            },
            "colorscale": [
             [
              0,
              "#0d0887"
             ],
             [
              0.1111111111111111,
              "#46039f"
             ],
             [
              0.2222222222222222,
              "#7201a8"
             ],
             [
              0.3333333333333333,
              "#9c179e"
             ],
             [
              0.4444444444444444,
              "#bd3786"
             ],
             [
              0.5555555555555556,
              "#d8576b"
             ],
             [
              0.6666666666666666,
              "#ed7953"
             ],
             [
              0.7777777777777778,
              "#fb9f3a"
             ],
             [
              0.8888888888888888,
              "#fdca26"
             ],
             [
              1,
              "#f0f921"
             ]
            ],
            "type": "heatmap"
           }
          ],
          "heatmapgl": [
           {
            "colorbar": {
             "outlinewidth": 0,
             "ticks": ""
            },
            "colorscale": [
             [
              0,
              "#0d0887"
             ],
             [
              0.1111111111111111,
              "#46039f"
             ],
             [
              0.2222222222222222,
              "#7201a8"
             ],
             [
              0.3333333333333333,
              "#9c179e"
             ],
             [
              0.4444444444444444,
              "#bd3786"
             ],
             [
              0.5555555555555556,
              "#d8576b"
             ],
             [
              0.6666666666666666,
              "#ed7953"
             ],
             [
              0.7777777777777778,
              "#fb9f3a"
             ],
             [
              0.8888888888888888,
              "#fdca26"
             ],
             [
              1,
              "#f0f921"
             ]
            ],
            "type": "heatmapgl"
           }
          ],
          "histogram": [
           {
            "marker": {
             "pattern": {
              "fillmode": "overlay",
              "size": 10,
              "solidity": 0.2
             }
            },
            "type": "histogram"
           }
          ],
          "histogram2d": [
           {
            "colorbar": {
             "outlinewidth": 0,
             "ticks": ""
            },
            "colorscale": [
             [
              0,
              "#0d0887"
             ],
             [
              0.1111111111111111,
              "#46039f"
             ],
             [
              0.2222222222222222,
              "#7201a8"
             ],
             [
              0.3333333333333333,
              "#9c179e"
             ],
             [
              0.4444444444444444,
              "#bd3786"
             ],
             [
              0.5555555555555556,
              "#d8576b"
             ],
             [
              0.6666666666666666,
              "#ed7953"
             ],
             [
              0.7777777777777778,
              "#fb9f3a"
             ],
             [
              0.8888888888888888,
              "#fdca26"
             ],
             [
              1,
              "#f0f921"
             ]
            ],
            "type": "histogram2d"
           }
          ],
          "histogram2dcontour": [
           {
            "colorbar": {
             "outlinewidth": 0,
             "ticks": ""
            },
            "colorscale": [
             [
              0,
              "#0d0887"
             ],
             [
              0.1111111111111111,
              "#46039f"
             ],
             [
              0.2222222222222222,
              "#7201a8"
             ],
             [
              0.3333333333333333,
              "#9c179e"
             ],
             [
              0.4444444444444444,
              "#bd3786"
             ],
             [
              0.5555555555555556,
              "#d8576b"
             ],
             [
              0.6666666666666666,
              "#ed7953"
             ],
             [
              0.7777777777777778,
              "#fb9f3a"
             ],
             [
              0.8888888888888888,
              "#fdca26"
             ],
             [
              1,
              "#f0f921"
             ]
            ],
            "type": "histogram2dcontour"
           }
          ],
          "mesh3d": [
           {
            "colorbar": {
             "outlinewidth": 0,
             "ticks": ""
            },
            "type": "mesh3d"
           }
          ],
          "parcoords": [
           {
            "line": {
             "colorbar": {
              "outlinewidth": 0,
              "ticks": ""
             }
            },
            "type": "parcoords"
           }
          ],
          "pie": [
           {
            "automargin": true,
            "type": "pie"
           }
          ],
          "scatter": [
           {
            "fillpattern": {
             "fillmode": "overlay",
             "size": 10,
             "solidity": 0.2
            },
            "type": "scatter"
           }
          ],
          "scatter3d": [
           {
            "line": {
             "colorbar": {
              "outlinewidth": 0,
              "ticks": ""
             }
            },
            "marker": {
             "colorbar": {
              "outlinewidth": 0,
              "ticks": ""
             }
            },
            "type": "scatter3d"
           }
          ],
          "scattercarpet": [
           {
            "marker": {
             "colorbar": {
              "outlinewidth": 0,
              "ticks": ""
             }
            },
            "type": "scattercarpet"
           }
          ],
          "scattergeo": [
           {
            "marker": {
             "colorbar": {
              "outlinewidth": 0,
              "ticks": ""
             }
            },
            "type": "scattergeo"
           }
          ],
          "scattergl": [
           {
            "marker": {
             "colorbar": {
              "outlinewidth": 0,
              "ticks": ""
             }
            },
            "type": "scattergl"
           }
          ],
          "scattermapbox": [
           {
            "marker": {
             "colorbar": {
              "outlinewidth": 0,
              "ticks": ""
             }
            },
            "type": "scattermapbox"
           }
          ],
          "scatterpolar": [
           {
            "marker": {
             "colorbar": {
              "outlinewidth": 0,
              "ticks": ""
             }
            },
            "type": "scatterpolar"
           }
          ],
          "scatterpolargl": [
           {
            "marker": {
             "colorbar": {
              "outlinewidth": 0,
              "ticks": ""
             }
            },
            "type": "scatterpolargl"
           }
          ],
          "scatterternary": [
           {
            "marker": {
             "colorbar": {
              "outlinewidth": 0,
              "ticks": ""
             }
            },
            "type": "scatterternary"
           }
          ],
          "surface": [
           {
            "colorbar": {
             "outlinewidth": 0,
             "ticks": ""
            },
            "colorscale": [
             [
              0,
              "#0d0887"
             ],
             [
              0.1111111111111111,
              "#46039f"
             ],
             [
              0.2222222222222222,
              "#7201a8"
             ],
             [
              0.3333333333333333,
              "#9c179e"
             ],
             [
              0.4444444444444444,
              "#bd3786"
             ],
             [
              0.5555555555555556,
              "#d8576b"
             ],
             [
              0.6666666666666666,
              "#ed7953"
             ],
             [
              0.7777777777777778,
              "#fb9f3a"
             ],
             [
              0.8888888888888888,
              "#fdca26"
             ],
             [
              1,
              "#f0f921"
             ]
            ],
            "type": "surface"
           }
          ],
          "table": [
           {
            "cells": {
             "fill": {
              "color": "#EBF0F8"
             },
             "line": {
              "color": "white"
             }
            },
            "header": {
             "fill": {
              "color": "#C8D4E3"
             },
             "line": {
              "color": "white"
             }
            },
            "type": "table"
           }
          ]
         },
         "layout": {
          "annotationdefaults": {
           "arrowcolor": "#2a3f5f",
           "arrowhead": 0,
           "arrowwidth": 1
          },
          "autotypenumbers": "strict",
          "coloraxis": {
           "colorbar": {
            "outlinewidth": 0,
            "ticks": ""
           }
          },
          "colorscale": {
           "diverging": [
            [
             0,
             "#8e0152"
            ],
            [
             0.1,
             "#c51b7d"
            ],
            [
             0.2,
             "#de77ae"
            ],
            [
             0.3,
             "#f1b6da"
            ],
            [
             0.4,
             "#fde0ef"
            ],
            [
             0.5,
             "#f7f7f7"
            ],
            [
             0.6,
             "#e6f5d0"
            ],
            [
             0.7,
             "#b8e186"
            ],
            [
             0.8,
             "#7fbc41"
            ],
            [
             0.9,
             "#4d9221"
            ],
            [
             1,
             "#276419"
            ]
           ],
           "sequential": [
            [
             0,
             "#0d0887"
            ],
            [
             0.1111111111111111,
             "#46039f"
            ],
            [
             0.2222222222222222,
             "#7201a8"
            ],
            [
             0.3333333333333333,
             "#9c179e"
            ],
            [
             0.4444444444444444,
             "#bd3786"
            ],
            [
             0.5555555555555556,
             "#d8576b"
            ],
            [
             0.6666666666666666,
             "#ed7953"
            ],
            [
             0.7777777777777778,
             "#fb9f3a"
            ],
            [
             0.8888888888888888,
             "#fdca26"
            ],
            [
             1,
             "#f0f921"
            ]
           ],
           "sequentialminus": [
            [
             0,
             "#0d0887"
            ],
            [
             0.1111111111111111,
             "#46039f"
            ],
            [
             0.2222222222222222,
             "#7201a8"
            ],
            [
             0.3333333333333333,
             "#9c179e"
            ],
            [
             0.4444444444444444,
             "#bd3786"
            ],
            [
             0.5555555555555556,
             "#d8576b"
            ],
            [
             0.6666666666666666,
             "#ed7953"
            ],
            [
             0.7777777777777778,
             "#fb9f3a"
            ],
            [
             0.8888888888888888,
             "#fdca26"
            ],
            [
             1,
             "#f0f921"
            ]
           ]
          },
          "colorway": [
           "#636efa",
           "#EF553B",
           "#00cc96",
           "#ab63fa",
           "#FFA15A",
           "#19d3f3",
           "#FF6692",
           "#B6E880",
           "#FF97FF",
           "#FECB52"
          ],
          "font": {
           "color": "#2a3f5f"
          },
          "geo": {
           "bgcolor": "white",
           "lakecolor": "white",
           "landcolor": "#E5ECF6",
           "showlakes": true,
           "showland": true,
           "subunitcolor": "white"
          },
          "hoverlabel": {
           "align": "left"
          },
          "hovermode": "closest",
          "mapbox": {
           "style": "light"
          },
          "paper_bgcolor": "white",
          "plot_bgcolor": "#E5ECF6",
          "polar": {
           "angularaxis": {
            "gridcolor": "white",
            "linecolor": "white",
            "ticks": ""
           },
           "bgcolor": "#E5ECF6",
           "radialaxis": {
            "gridcolor": "white",
            "linecolor": "white",
            "ticks": ""
           }
          },
          "scene": {
           "xaxis": {
            "backgroundcolor": "#E5ECF6",
            "gridcolor": "white",
            "gridwidth": 2,
            "linecolor": "white",
            "showbackground": true,
            "ticks": "",
            "zerolinecolor": "white"
           },
           "yaxis": {
            "backgroundcolor": "#E5ECF6",
            "gridcolor": "white",
            "gridwidth": 2,
            "linecolor": "white",
            "showbackground": true,
            "ticks": "",
            "zerolinecolor": "white"
           },
           "zaxis": {
            "backgroundcolor": "#E5ECF6",
            "gridcolor": "white",
            "gridwidth": 2,
            "linecolor": "white",
            "showbackground": true,
            "ticks": "",
            "zerolinecolor": "white"
           }
          },
          "shapedefaults": {
           "line": {
            "color": "#2a3f5f"
           }
          },
          "ternary": {
           "aaxis": {
            "gridcolor": "white",
            "linecolor": "white",
            "ticks": ""
           },
           "baxis": {
            "gridcolor": "white",
            "linecolor": "white",
            "ticks": ""
           },
           "bgcolor": "#E5ECF6",
           "caxis": {
            "gridcolor": "white",
            "linecolor": "white",
            "ticks": ""
           }
          },
          "title": {
           "x": 0.05
          },
          "xaxis": {
           "automargin": true,
           "gridcolor": "white",
           "linecolor": "white",
           "ticks": "",
           "title": {
            "standoff": 15
           },
           "zerolinecolor": "white",
           "zerolinewidth": 2
          },
          "yaxis": {
           "automargin": true,
           "gridcolor": "white",
           "linecolor": "white",
           "ticks": "",
           "title": {
            "standoff": 15
           },
           "zerolinecolor": "white",
           "zerolinewidth": 2
          }
         }
        },
        "title": {
         "text": "Graph Representation of LA Metro Station Locations by Line"
        },
        "width": 800
       }
      }
     },
     "metadata": {},
     "output_type": "display_data"
    }
   ],
   "source": [
    "#station map, lines not connected, The G-Line (BRT, not Rail) is shown as well\n",
    "fig = px.scatter_mapbox(df, \n",
    "                        lat = \"Latitude\",\n",
    "                        lon = \"Longitude\",\n",
    "                        color = \"Line\",\n",
    "                        hover_name = \"Name\",\n",
    "                        zoom = 8.8,\n",
    "                        height = 800,\n",
    "                        width = 800,\n",
    "                        title = \"Graph Representation of LA Metro Station Locations by Line\",\n",
    "                        mapbox_style = \"carto-positron\")\n",
    "\n",
    "fig.show()"
   ]
  },
  {
   "cell_type": "markdown",
   "metadata": {},
   "source": [
    "Here's one with the lines connected. Initially, we wanted to weight the lines based on ridership, but this was not possible with a `plotly.line_mapbox`. Again, for this graph in particular, the order of the rows corresponded to the order the lines were plotted, so keeping points in order prevented the plot from drawing lines all across the map."
   ]
  },
  {
   "cell_type": "code",
   "execution_count": 8,
   "metadata": {},
   "outputs": [
    {
     "data": {
      "application/vnd.plotly.v1+json": {
       "config": {
        "plotlyServerURL": "https://plot.ly"
       },
       "data": [
        {
         "hovertemplate": "<b>%{hovertext}</b><br><br>Line=A<br>Latitude=%{lat}<br>Longitude=%{lon}<extra></extra>",
         "hovertext": [
          "5th Street Station",
          "1st Street Station",
          "Downtown Long Beach Station",
          "Pacific Ave Station",
          "Anaheim Street Station",
          "Pacific Coast Hwy Station",
          "Willow Street Station",
          "Wardlow Station",
          "Del Amo Station",
          "Artesia Station",
          "Compton Station",
          "Willowbrook - Rosa Parks Station",
          "103rd Street / Watts Towers  Station",
          "Firestone Station",
          "Florence Station",
          "Slauson Station",
          "Vernon Station",
          "Washington Station",
          "San Pedro Street Station",
          "Grand / LATTC Station",
          "Pico Station",
          "7th Street / Metro Center Station",
          "Grand Av Arts/Bunker Hill",
          "Historic Broadway",
          "Little Tokyo/Arts District",
          "Union Station",
          "Chinatown Station",
          "Lincoln Heights / Cypress Park Station",
          "Heritage Square / Arroyo Station",
          "Southwest Museum Station",
          "Highland Park Station",
          "South Pasadena Station",
          "Fillmore Station",
          "Del Mar Station",
          "Memorial Park Station",
          "Lake Station",
          "Allen Station",
          "Sierra Madre Villa Station",
          "Arcadia Station",
          "Monrovia Station",
          "Duarte / City of Hope Station",
          "Irwindale Station",
          "Azusa Downtown Station",
          "APU / Citrus College Station"
         ],
         "lat": [
          33.77360283,
          33.76874483,
          33.76807583,
          33.77226283,
          33.78183483,
          33.78909483,
          33.80708383,
          33.81986983,
          33.84822684,
          33.87608684,
          33.89749484,
          33.92805284,
          33.94222484,
          33.95961585,
          33.97374485,
          33.98876485,
          34.00292485,
          34.01965485,
          34.02681185,
          34.03315985,
          34.04073985,
          34.04861486,
          34.05475059,
          34.05203893,
          34.04884218,
          34.05606586,
          34.06386586,
          34.08095386,
          34.08723186,
          34.09824786,
          34.11118387,
          34.11519087,
          34.13352587,
          34.14191487,
          34.14836087,
          34.15181087,
          34.15242187,
          34.14775688,
          34.14286488,
          34.13315988,
          34.13252288,
          34.12905288,
          34.13586788,
          34.13681889
         ],
         "legendgroup": "A",
         "line": {
          "color": "#636efa"
         },
         "lon": [
          -118.1894242,
          -118.1893742,
          -118.1929332,
          -118.1937122,
          -118.1893962,
          -118.1893942,
          -118.1898462,
          -118.1961022,
          -118.2110292,
          -118.2225152,
          -118.2242612,
          -118.2375672,
          -118.2431712,
          -118.2432172,
          -118.2432832,
          -118.2434102,
          -118.2433152,
          -118.2430962,
          -118.2555172,
          -118.2693452,
          -118.2661302,
          -118.2588342,
          -118.2512082,
          -118.2461664,
          -118.2387869,
          -118.2347712,
          -118.2358522,
          -118.2204412,
          -118.2132252,
          -118.2067242,
          -118.1926182,
          -118.1578982,
          -118.1481382,
          -118.1482262,
          -118.1475242,
          -118.1314022,
          -118.1143602,
          -118.0812242,
          -118.0292112,
          -118.0034852,
          -117.9676922,
          -117.9325181,
          -117.9066431,
          -117.8916481
         ],
         "mode": "lines",
         "name": "A",
         "showlegend": true,
         "subplot": "mapbox",
         "type": "scattermapbox"
        },
        {
         "hovertemplate": "<b>%{hovertext}</b><br><br>Line=B<br>Latitude=%{lat}<br>Longitude=%{lon}<extra></extra>",
         "hovertext": [
          "North Hollywood Station",
          "Universal / Studio City Station",
          "Hollywood / Highland Station",
          "Hollywood / Vine Station",
          "Hollywood / Western Station",
          "Vermont / Sunset Station",
          "Vermont / Santa Monica Station",
          "Vermont / Beverly Station",
          "Wilshire / Vermont Station",
          "Westlake / MacArthur Park Station",
          "7th Street / Metro Center Station",
          "Pershing Square Station",
          "Civic Center / Grand Park Station",
          "Union Station"
         ],
         "lat": [
          34.16850886,
          34.14000686,
          34.10155186,
          34.10163486,
          34.10174186,
          34.09771286,
          34.08991486,
          34.07653086,
          34.06270585,
          34.05637286,
          34.04863885,
          34.04932086,
          34.05490486,
          34.05620186
         ],
         "legendgroup": "B",
         "line": {
          "color": "#EF553B"
         },
         "lon": [
          -118.3768202,
          -118.3627112,
          -118.3385612,
          -118.3251922,
          -118.3081292,
          -118.2917682,
          -118.2917422,
          -118.2916982,
          -118.2900942,
          -118.2748912,
          -118.2586942,
          -118.2512712,
          -118.2460692,
          -118.2342612
         ],
         "mode": "lines",
         "name": "B",
         "showlegend": true,
         "subplot": "mapbox",
         "type": "scattermapbox"
        },
        {
         "hovertemplate": "<b>%{hovertext}</b><br><br>Line=C<br>Latitude=%{lat}<br>Longitude=%{lon}<extra></extra>",
         "hovertext": [
          "Redondo Beach Station",
          "Douglas Station",
          "El Segundo Station",
          "Mariposa Station",
          "Aviation / LAX Station",
          "Hawthorne / Lennox Station",
          "Crenshaw Station",
          "Vermont / Athens Station",
          "Harbor Freeway Station",
          "Avalon Station",
          "Willowbrook - Rosa Parks Station",
          "Long Beach Blvd Station",
          "Lakewood Blvd Station",
          "Norwalk Station"
         ],
         "lat": [
          33.89464483,
          33.90530383,
          33.91606783,
          33.92320483,
          33.92962583,
          33.93341284,
          33.92520584,
          33.92868784,
          33.92871884,
          33.92746984,
          33.92826284,
          33.92488484,
          33.91307485,
          33.91403785
         ],
         "legendgroup": "C",
         "line": {
          "color": "#00cc96"
         },
         "lon": [
          -118.3692082,
          -118.3831252,
          -118.3865512,
          -118.3875842,
          -118.3771462,
          -118.3516142,
          -118.3265622,
          -118.2917452,
          -118.2811122,
          -118.2652292,
          -118.2380642,
          -118.2099572,
          -118.1406122,
          -118.1047292
         ],
         "mode": "lines",
         "name": "C",
         "showlegend": true,
         "subplot": "mapbox",
         "type": "scattermapbox"
        },
        {
         "hovertemplate": "<b>%{hovertext}</b><br><br>Line=D<br>Latitude=%{lat}<br>Longitude=%{lon}<extra></extra>",
         "hovertext": [
          "Wilshire / Western Station",
          "Wilshire / Normandie Station",
          "Wilshire / Vermont Station",
          "Westlake / MacArthur Park Station",
          "7th Street / Metro Center Station",
          "Pershing Square Station",
          "Civic Center / Grand Park Station",
          "Union Station"
         ],
         "lat": [
          34.06169385,
          34.06175785,
          34.06270585,
          34.05637286,
          34.04863885,
          34.04932086,
          34.05490486,
          34.05620186
         ],
         "legendgroup": "D",
         "line": {
          "color": "#ab63fa"
         },
         "lon": [
          -118.3087682,
          -118.3014702,
          -118.2900942,
          -118.2748912,
          -118.2586942,
          -118.2512712,
          -118.2460692,
          -118.2342612
         ],
         "mode": "lines",
         "name": "D",
         "showlegend": true,
         "subplot": "mapbox",
         "type": "scattermapbox"
        },
        {
         "hovertemplate": "<b>%{hovertext}</b><br><br>Line=E<br>Latitude=%{lat}<br>Longitude=%{lon}<extra></extra>",
         "hovertext": [
          "Atlantic Station",
          "East LA Civic Center Station",
          "Maravilla Station",
          "Indiana Station",
          "Soto Station",
          "Mariachi Plaza / Boyle Heights Station",
          "Pico / Aliso Station",
          "Little Tokyo/Arts District",
          "Historic Broadway",
          "Grand Av Arts/Bunker Hill",
          "7th Street / Metro Center Station",
          "Pico Station",
          "LATTC / Ortho Institute Station",
          "Jefferson / USC Station",
          "Expo Park / USC Station",
          "Expo / Vermont Station",
          "Expo / Western Station",
          "Expo / Crenshaw Station",
          "Farmdale Station",
          "Expo / La Brea Station",
          "La Cienega / Jefferson Station",
          "Culver City Station",
          "Palms Station",
          "Westwood / Rancho Park Station",
          "Expo / Sepulveda Station",
          "Expo / Bundy Station",
          "26th Street / Bergamot Station",
          "17th Street / SMC Station",
          "Downtown Santa Monica Station"
         ],
         "lat": [
          34.03340286,
          34.03336886,
          34.03332386,
          34.03430486,
          34.04375186,
          34.04721986,
          34.04763886,
          34.04884218,
          34.05203893,
          34.05475059,
          34.04861486,
          34.04073985,
          34.02911685,
          34.02212785,
          34.01823185,
          34.01824985,
          34.01833585,
          34.02253085,
          34.02398585,
          34.02480785,
          34.02635985,
          34.02790085,
          34.02932784,
          34.03682084,
          34.03541284,
          34.03170984,
          34.02799984,
          34.02315984,
          34.01401484
         ],
         "legendgroup": "E",
         "line": {
          "color": "#FFA15A"
         },
         "lon": [
          -118.1544812,
          -118.1612182,
          -118.1681522,
          -118.1921942,
          -118.2100732,
          -118.2196602,
          -118.2259522,
          -118.2387869,
          -118.2461664,
          -118.2512082,
          -118.2588342,
          -118.2661302,
          -118.2736152,
          -118.2781302,
          -118.2857462,
          -118.2915522,
          -118.3089222,
          -118.3350902,
          -118.3461072,
          -118.3551712,
          -118.3721322,
          -118.3889982,
          -118.4042672,
          -118.4245882,
          -118.4342462,
          -118.4529082,
          -118.4691322,
          -118.4803842,
          -118.4913962
         ],
         "mode": "lines",
         "name": "E",
         "showlegend": true,
         "subplot": "mapbox",
         "type": "scattermapbox"
        },
        {
         "hovertemplate": "<b>%{hovertext}</b><br><br>Line=G<br>Latitude=%{lat}<br>Longitude=%{lon}<extra></extra>",
         "hovertext": [
          "Chatsworth Metro Station",
          "Nordhoff Metro Station North Bound",
          "Nordhoff Metro Station South Bound",
          "Roscoe Metro Station North Bound",
          "Roscoe Metro Station South Bound",
          "Sherman Way Metro Station",
          "Canoga Metro Station North-South",
          "Warner Center Metro Station",
          "Canoga Metro Station East-West",
          "De Soto Metro Station",
          "Pierce College Metro Station",
          "Tampa Metro Station",
          "Reseda Metro Station",
          "Balboa Metro Station",
          "Woodley Metro Station",
          "Sepulveda Metro Station",
          "Van Nuys Metro Station",
          "Woodman Metro Station",
          "Valley College Metro Station",
          "Laurel Canyon Metro Station",
          "North Hollywood Metro Station"
         ],
         "lat": [
          34.2521972,
          34.23592131,
          34.23498563,
          34.22047153,
          34.21937541,
          34.20050779,
          34.19136029,
          34.18154485,
          34.19056485,
          34.18871485,
          34.18696485,
          34.18105485,
          34.18045485,
          34.18600486,
          34.18631486,
          34.18085486,
          34.18046486,
          34.17899486,
          34.17176486,
          34.16856486,
          34.16881486
         ],
         "legendgroup": "G",
         "line": {
          "color": "#19d3f3"
         },
         "lon": [
          -118.5993797,
          -118.5971927,
          -118.5971931,
          -118.5970328,
          -118.5970485,
          -118.5971486,
          -118.5964455,
          -118.6014123,
          -118.5968923,
          -118.5887023,
          -118.5705623,
          -118.5530923,
          -118.5365023,
          -118.5005822,
          -118.4841522,
          -118.4687622,
          -118.4481522,
          -118.4297122,
          -118.4220922,
          -118.3970522,
          -118.3775322
         ],
         "mode": "lines",
         "name": "G",
         "showlegend": true,
         "subplot": "mapbox",
         "type": "scattermapbox"
        },
        {
         "hovertemplate": "<b>%{hovertext}</b><br><br>Line=K<br>Latitude=%{lat}<br>Longitude=%{lon}<extra></extra>",
         "hovertext": [
          "Expo/Crenshaw Station",
          "Martin Luther King Jr Station",
          "Leimert Park Station",
          "Hyde Park Station",
          "Fairview Heights Station",
          "Downtown Inglewood Station",
          "Westchester/Veterans Station",
          "LAX/Metro Transit Center Station",
          "Aviation/Century Station",
          "Aviation/LAX Station"
         ],
         "lat": [
          34.02245314,
          34.01016656,
          34.00458152,
          33.98828975,
          33.97528429,
          33.96729917,
          33.96202081,
          33.94962547,
          33.94567805,
          33.92963484
         ],
         "legendgroup": "K",
         "line": {
          "color": "#FF6692"
         },
         "lon": [
          -118.3350902,
          -118.335347,
          -118.3326646,
          -118.3308357,
          -118.3360302,
          -118.3513927,
          -118.3744553,
          -118.378663,
          -118.3787027,
          -118.3772708
         ],
         "mode": "lines",
         "name": "K",
         "showlegend": true,
         "subplot": "mapbox",
         "type": "scattermapbox"
        }
       ],
       "layout": {
        "height": 800,
        "legend": {
         "title": {
          "text": "Line"
         },
         "tracegroupgap": 0
        },
        "mapbox": {
         "center": {
          "lat": 34.04042933499999,
          "lon": -118.29805459857141
         },
         "domain": {
          "x": [
           0,
           1
          ],
          "y": [
           0,
           1
          ]
         },
         "style": "carto-positron",
         "zoom": 8.8
        },
        "template": {
         "data": {
          "bar": [
           {
            "error_x": {
             "color": "#2a3f5f"
            },
            "error_y": {
             "color": "#2a3f5f"
            },
            "marker": {
             "line": {
              "color": "#E5ECF6",
              "width": 0.5
             },
             "pattern": {
              "fillmode": "overlay",
              "size": 10,
              "solidity": 0.2
             }
            },
            "type": "bar"
           }
          ],
          "barpolar": [
           {
            "marker": {
             "line": {
              "color": "#E5ECF6",
              "width": 0.5
             },
             "pattern": {
              "fillmode": "overlay",
              "size": 10,
              "solidity": 0.2
             }
            },
            "type": "barpolar"
           }
          ],
          "carpet": [
           {
            "aaxis": {
             "endlinecolor": "#2a3f5f",
             "gridcolor": "white",
             "linecolor": "white",
             "minorgridcolor": "white",
             "startlinecolor": "#2a3f5f"
            },
            "baxis": {
             "endlinecolor": "#2a3f5f",
             "gridcolor": "white",
             "linecolor": "white",
             "minorgridcolor": "white",
             "startlinecolor": "#2a3f5f"
            },
            "type": "carpet"
           }
          ],
          "choropleth": [
           {
            "colorbar": {
             "outlinewidth": 0,
             "ticks": ""
            },
            "type": "choropleth"
           }
          ],
          "contour": [
           {
            "colorbar": {
             "outlinewidth": 0,
             "ticks": ""
            },
            "colorscale": [
             [
              0,
              "#0d0887"
             ],
             [
              0.1111111111111111,
              "#46039f"
             ],
             [
              0.2222222222222222,
              "#7201a8"
             ],
             [
              0.3333333333333333,
              "#9c179e"
             ],
             [
              0.4444444444444444,
              "#bd3786"
             ],
             [
              0.5555555555555556,
              "#d8576b"
             ],
             [
              0.6666666666666666,
              "#ed7953"
             ],
             [
              0.7777777777777778,
              "#fb9f3a"
             ],
             [
              0.8888888888888888,
              "#fdca26"
             ],
             [
              1,
              "#f0f921"
             ]
            ],
            "type": "contour"
           }
          ],
          "contourcarpet": [
           {
            "colorbar": {
             "outlinewidth": 0,
             "ticks": ""
            },
            "type": "contourcarpet"
           }
          ],
          "heatmap": [
           {
            "colorbar": {
             "outlinewidth": 0,
             "ticks": ""
            },
            "colorscale": [
             [
              0,
              "#0d0887"
             ],
             [
              0.1111111111111111,
              "#46039f"
             ],
             [
              0.2222222222222222,
              "#7201a8"
             ],
             [
              0.3333333333333333,
              "#9c179e"
             ],
             [
              0.4444444444444444,
              "#bd3786"
             ],
             [
              0.5555555555555556,
              "#d8576b"
             ],
             [
              0.6666666666666666,
              "#ed7953"
             ],
             [
              0.7777777777777778,
              "#fb9f3a"
             ],
             [
              0.8888888888888888,
              "#fdca26"
             ],
             [
              1,
              "#f0f921"
             ]
            ],
            "type": "heatmap"
           }
          ],
          "heatmapgl": [
           {
            "colorbar": {
             "outlinewidth": 0,
             "ticks": ""
            },
            "colorscale": [
             [
              0,
              "#0d0887"
             ],
             [
              0.1111111111111111,
              "#46039f"
             ],
             [
              0.2222222222222222,
              "#7201a8"
             ],
             [
              0.3333333333333333,
              "#9c179e"
             ],
             [
              0.4444444444444444,
              "#bd3786"
             ],
             [
              0.5555555555555556,
              "#d8576b"
             ],
             [
              0.6666666666666666,
              "#ed7953"
             ],
             [
              0.7777777777777778,
              "#fb9f3a"
             ],
             [
              0.8888888888888888,
              "#fdca26"
             ],
             [
              1,
              "#f0f921"
             ]
            ],
            "type": "heatmapgl"
           }
          ],
          "histogram": [
           {
            "marker": {
             "pattern": {
              "fillmode": "overlay",
              "size": 10,
              "solidity": 0.2
             }
            },
            "type": "histogram"
           }
          ],
          "histogram2d": [
           {
            "colorbar": {
             "outlinewidth": 0,
             "ticks": ""
            },
            "colorscale": [
             [
              0,
              "#0d0887"
             ],
             [
              0.1111111111111111,
              "#46039f"
             ],
             [
              0.2222222222222222,
              "#7201a8"
             ],
             [
              0.3333333333333333,
              "#9c179e"
             ],
             [
              0.4444444444444444,
              "#bd3786"
             ],
             [
              0.5555555555555556,
              "#d8576b"
             ],
             [
              0.6666666666666666,
              "#ed7953"
             ],
             [
              0.7777777777777778,
              "#fb9f3a"
             ],
             [
              0.8888888888888888,
              "#fdca26"
             ],
             [
              1,
              "#f0f921"
             ]
            ],
            "type": "histogram2d"
           }
          ],
          "histogram2dcontour": [
           {
            "colorbar": {
             "outlinewidth": 0,
             "ticks": ""
            },
            "colorscale": [
             [
              0,
              "#0d0887"
             ],
             [
              0.1111111111111111,
              "#46039f"
             ],
             [
              0.2222222222222222,
              "#7201a8"
             ],
             [
              0.3333333333333333,
              "#9c179e"
             ],
             [
              0.4444444444444444,
              "#bd3786"
             ],
             [
              0.5555555555555556,
              "#d8576b"
             ],
             [
              0.6666666666666666,
              "#ed7953"
             ],
             [
              0.7777777777777778,
              "#fb9f3a"
             ],
             [
              0.8888888888888888,
              "#fdca26"
             ],
             [
              1,
              "#f0f921"
             ]
            ],
            "type": "histogram2dcontour"
           }
          ],
          "mesh3d": [
           {
            "colorbar": {
             "outlinewidth": 0,
             "ticks": ""
            },
            "type": "mesh3d"
           }
          ],
          "parcoords": [
           {
            "line": {
             "colorbar": {
              "outlinewidth": 0,
              "ticks": ""
             }
            },
            "type": "parcoords"
           }
          ],
          "pie": [
           {
            "automargin": true,
            "type": "pie"
           }
          ],
          "scatter": [
           {
            "fillpattern": {
             "fillmode": "overlay",
             "size": 10,
             "solidity": 0.2
            },
            "type": "scatter"
           }
          ],
          "scatter3d": [
           {
            "line": {
             "colorbar": {
              "outlinewidth": 0,
              "ticks": ""
             }
            },
            "marker": {
             "colorbar": {
              "outlinewidth": 0,
              "ticks": ""
             }
            },
            "type": "scatter3d"
           }
          ],
          "scattercarpet": [
           {
            "marker": {
             "colorbar": {
              "outlinewidth": 0,
              "ticks": ""
             }
            },
            "type": "scattercarpet"
           }
          ],
          "scattergeo": [
           {
            "marker": {
             "colorbar": {
              "outlinewidth": 0,
              "ticks": ""
             }
            },
            "type": "scattergeo"
           }
          ],
          "scattergl": [
           {
            "marker": {
             "colorbar": {
              "outlinewidth": 0,
              "ticks": ""
             }
            },
            "type": "scattergl"
           }
          ],
          "scattermapbox": [
           {
            "marker": {
             "colorbar": {
              "outlinewidth": 0,
              "ticks": ""
             }
            },
            "type": "scattermapbox"
           }
          ],
          "scatterpolar": [
           {
            "marker": {
             "colorbar": {
              "outlinewidth": 0,
              "ticks": ""
             }
            },
            "type": "scatterpolar"
           }
          ],
          "scatterpolargl": [
           {
            "marker": {
             "colorbar": {
              "outlinewidth": 0,
              "ticks": ""
             }
            },
            "type": "scatterpolargl"
           }
          ],
          "scatterternary": [
           {
            "marker": {
             "colorbar": {
              "outlinewidth": 0,
              "ticks": ""
             }
            },
            "type": "scatterternary"
           }
          ],
          "surface": [
           {
            "colorbar": {
             "outlinewidth": 0,
             "ticks": ""
            },
            "colorscale": [
             [
              0,
              "#0d0887"
             ],
             [
              0.1111111111111111,
              "#46039f"
             ],
             [
              0.2222222222222222,
              "#7201a8"
             ],
             [
              0.3333333333333333,
              "#9c179e"
             ],
             [
              0.4444444444444444,
              "#bd3786"
             ],
             [
              0.5555555555555556,
              "#d8576b"
             ],
             [
              0.6666666666666666,
              "#ed7953"
             ],
             [
              0.7777777777777778,
              "#fb9f3a"
             ],
             [
              0.8888888888888888,
              "#fdca26"
             ],
             [
              1,
              "#f0f921"
             ]
            ],
            "type": "surface"
           }
          ],
          "table": [
           {
            "cells": {
             "fill": {
              "color": "#EBF0F8"
             },
             "line": {
              "color": "white"
             }
            },
            "header": {
             "fill": {
              "color": "#C8D4E3"
             },
             "line": {
              "color": "white"
             }
            },
            "type": "table"
           }
          ]
         },
         "layout": {
          "annotationdefaults": {
           "arrowcolor": "#2a3f5f",
           "arrowhead": 0,
           "arrowwidth": 1
          },
          "autotypenumbers": "strict",
          "coloraxis": {
           "colorbar": {
            "outlinewidth": 0,
            "ticks": ""
           }
          },
          "colorscale": {
           "diverging": [
            [
             0,
             "#8e0152"
            ],
            [
             0.1,
             "#c51b7d"
            ],
            [
             0.2,
             "#de77ae"
            ],
            [
             0.3,
             "#f1b6da"
            ],
            [
             0.4,
             "#fde0ef"
            ],
            [
             0.5,
             "#f7f7f7"
            ],
            [
             0.6,
             "#e6f5d0"
            ],
            [
             0.7,
             "#b8e186"
            ],
            [
             0.8,
             "#7fbc41"
            ],
            [
             0.9,
             "#4d9221"
            ],
            [
             1,
             "#276419"
            ]
           ],
           "sequential": [
            [
             0,
             "#0d0887"
            ],
            [
             0.1111111111111111,
             "#46039f"
            ],
            [
             0.2222222222222222,
             "#7201a8"
            ],
            [
             0.3333333333333333,
             "#9c179e"
            ],
            [
             0.4444444444444444,
             "#bd3786"
            ],
            [
             0.5555555555555556,
             "#d8576b"
            ],
            [
             0.6666666666666666,
             "#ed7953"
            ],
            [
             0.7777777777777778,
             "#fb9f3a"
            ],
            [
             0.8888888888888888,
             "#fdca26"
            ],
            [
             1,
             "#f0f921"
            ]
           ],
           "sequentialminus": [
            [
             0,
             "#0d0887"
            ],
            [
             0.1111111111111111,
             "#46039f"
            ],
            [
             0.2222222222222222,
             "#7201a8"
            ],
            [
             0.3333333333333333,
             "#9c179e"
            ],
            [
             0.4444444444444444,
             "#bd3786"
            ],
            [
             0.5555555555555556,
             "#d8576b"
            ],
            [
             0.6666666666666666,
             "#ed7953"
            ],
            [
             0.7777777777777778,
             "#fb9f3a"
            ],
            [
             0.8888888888888888,
             "#fdca26"
            ],
            [
             1,
             "#f0f921"
            ]
           ]
          },
          "colorway": [
           "#636efa",
           "#EF553B",
           "#00cc96",
           "#ab63fa",
           "#FFA15A",
           "#19d3f3",
           "#FF6692",
           "#B6E880",
           "#FF97FF",
           "#FECB52"
          ],
          "font": {
           "color": "#2a3f5f"
          },
          "geo": {
           "bgcolor": "white",
           "lakecolor": "white",
           "landcolor": "#E5ECF6",
           "showlakes": true,
           "showland": true,
           "subunitcolor": "white"
          },
          "hoverlabel": {
           "align": "left"
          },
          "hovermode": "closest",
          "mapbox": {
           "style": "light"
          },
          "paper_bgcolor": "white",
          "plot_bgcolor": "#E5ECF6",
          "polar": {
           "angularaxis": {
            "gridcolor": "white",
            "linecolor": "white",
            "ticks": ""
           },
           "bgcolor": "#E5ECF6",
           "radialaxis": {
            "gridcolor": "white",
            "linecolor": "white",
            "ticks": ""
           }
          },
          "scene": {
           "xaxis": {
            "backgroundcolor": "#E5ECF6",
            "gridcolor": "white",
            "gridwidth": 2,
            "linecolor": "white",
            "showbackground": true,
            "ticks": "",
            "zerolinecolor": "white"
           },
           "yaxis": {
            "backgroundcolor": "#E5ECF6",
            "gridcolor": "white",
            "gridwidth": 2,
            "linecolor": "white",
            "showbackground": true,
            "ticks": "",
            "zerolinecolor": "white"
           },
           "zaxis": {
            "backgroundcolor": "#E5ECF6",
            "gridcolor": "white",
            "gridwidth": 2,
            "linecolor": "white",
            "showbackground": true,
            "ticks": "",
            "zerolinecolor": "white"
           }
          },
          "shapedefaults": {
           "line": {
            "color": "#2a3f5f"
           }
          },
          "ternary": {
           "aaxis": {
            "gridcolor": "white",
            "linecolor": "white",
            "ticks": ""
           },
           "baxis": {
            "gridcolor": "white",
            "linecolor": "white",
            "ticks": ""
           },
           "bgcolor": "#E5ECF6",
           "caxis": {
            "gridcolor": "white",
            "linecolor": "white",
            "ticks": ""
           }
          },
          "title": {
           "x": 0.05
          },
          "xaxis": {
           "automargin": true,
           "gridcolor": "white",
           "linecolor": "white",
           "ticks": "",
           "title": {
            "standoff": 15
           },
           "zerolinecolor": "white",
           "zerolinewidth": 2
          },
          "yaxis": {
           "automargin": true,
           "gridcolor": "white",
           "linecolor": "white",
           "ticks": "",
           "title": {
            "standoff": 15
           },
           "zerolinecolor": "white",
           "zerolinewidth": 2
          }
         }
        },
        "title": {
         "text": "Approximate Graph Representation of LA Metro Lines"
        },
        "width": 800
       }
      }
     },
     "metadata": {},
     "output_type": "display_data"
    }
   ],
   "source": [
    "#line map, stations not shown\n",
    "fig = px.line_mapbox(df, \n",
    "                        lat = \"Latitude\",\n",
    "                        lon = \"Longitude\",\n",
    "                        color = \"Line\",\n",
    "                        hover_name = \"Name\",\n",
    "                        line_group='Line',\n",
    "                        zoom = 8.8,\n",
    "                        height = 800,\n",
    "                        width = 800,\n",
    "                        title = \"Approximate Graph Representation of LA Metro Lines\",\n",
    "                        mapbox_style = \"carto-positron\")\n",
    "\n",
    "fig.show()"
   ]
  },
  {
   "cell_type": "markdown",
   "metadata": {},
   "source": [
    "Here is a plot estimating the distance from/to the nearest station. This plot is more of a check for accessibility and reach, highlighting areas that are reasonably close to a station for convenient transportation."
   ]
  },
  {
   "cell_type": "code",
   "execution_count": 9,
   "metadata": {},
   "outputs": [
    {
     "data": {
      "application/vnd.plotly.v1+json": {
       "config": {
        "plotlyServerURL": "https://plot.ly"
       },
       "data": [
        {
         "coloraxis": "coloraxis",
         "hovertemplate": "<b>%{hovertext}</b><br><br>Latitude=%{lat}<br>Longitude=%{lon}<extra></extra>",
         "hovertext": [
          "5th Street Station",
          "1st Street Station",
          "Downtown Long Beach Station",
          "Pacific Ave Station",
          "Anaheim Street Station",
          "Pacific Coast Hwy Station",
          "Willow Street Station",
          "Wardlow Station",
          "Del Amo Station",
          "Artesia Station",
          "Compton Station",
          "Willowbrook - Rosa Parks Station",
          "103rd Street / Watts Towers  Station",
          "Firestone Station",
          "Florence Station",
          "Slauson Station",
          "Vernon Station",
          "Washington Station",
          "San Pedro Street Station",
          "Grand / LATTC Station",
          "Pico Station",
          "7th Street / Metro Center Station",
          "Grand Av Arts/Bunker Hill",
          "Historic Broadway",
          "Little Tokyo/Arts District",
          "Union Station",
          "Chinatown Station",
          "Lincoln Heights / Cypress Park Station",
          "Heritage Square / Arroyo Station",
          "Southwest Museum Station",
          "Highland Park Station",
          "South Pasadena Station",
          "Fillmore Station",
          "Del Mar Station",
          "Memorial Park Station",
          "Lake Station",
          "Allen Station",
          "Sierra Madre Villa Station",
          "Arcadia Station",
          "Monrovia Station",
          "Duarte / City of Hope Station",
          "Irwindale Station",
          "Azusa Downtown Station",
          "APU / Citrus College Station",
          "North Hollywood Station",
          "Universal / Studio City Station",
          "Hollywood / Highland Station",
          "Hollywood / Vine Station",
          "Hollywood / Western Station",
          "Vermont / Sunset Station",
          "Vermont / Santa Monica Station",
          "Vermont / Beverly Station",
          "Wilshire / Vermont Station",
          "Westlake / MacArthur Park Station",
          "7th Street / Metro Center Station",
          "Pershing Square Station",
          "Civic Center / Grand Park Station",
          "Union Station",
          "Redondo Beach Station",
          "Douglas Station",
          "El Segundo Station",
          "Mariposa Station",
          "Aviation / LAX Station",
          "Hawthorne / Lennox Station",
          "Crenshaw Station",
          "Vermont / Athens Station",
          "Harbor Freeway Station",
          "Avalon Station",
          "Willowbrook - Rosa Parks Station",
          "Long Beach Blvd Station",
          "Lakewood Blvd Station",
          "Norwalk Station",
          "Wilshire / Western Station",
          "Wilshire / Normandie Station",
          "Wilshire / Vermont Station",
          "Westlake / MacArthur Park Station",
          "7th Street / Metro Center Station",
          "Pershing Square Station",
          "Civic Center / Grand Park Station",
          "Union Station",
          "Atlantic Station",
          "East LA Civic Center Station",
          "Maravilla Station",
          "Indiana Station",
          "Soto Station",
          "Mariachi Plaza / Boyle Heights Station",
          "Pico / Aliso Station",
          "Little Tokyo/Arts District",
          "Historic Broadway",
          "Grand Av Arts/Bunker Hill",
          "7th Street / Metro Center Station",
          "Pico Station",
          "LATTC / Ortho Institute Station",
          "Jefferson / USC Station",
          "Expo Park / USC Station",
          "Expo / Vermont Station",
          "Expo / Western Station",
          "Expo / Crenshaw Station",
          "Farmdale Station",
          "Expo / La Brea Station",
          "La Cienega / Jefferson Station",
          "Culver City Station",
          "Palms Station",
          "Westwood / Rancho Park Station",
          "Expo / Sepulveda Station",
          "Expo / Bundy Station",
          "26th Street / Bergamot Station",
          "17th Street / SMC Station",
          "Downtown Santa Monica Station",
          "Chatsworth Metro Station",
          "Nordhoff Metro Station North Bound",
          "Nordhoff Metro Station South Bound",
          "Roscoe Metro Station North Bound",
          "Roscoe Metro Station South Bound",
          "Sherman Way Metro Station",
          "Canoga Metro Station North-South",
          "Warner Center Metro Station",
          "Canoga Metro Station East-West",
          "De Soto Metro Station",
          "Pierce College Metro Station",
          "Tampa Metro Station",
          "Reseda Metro Station",
          "Balboa Metro Station",
          "Woodley Metro Station",
          "Sepulveda Metro Station",
          "Van Nuys Metro Station",
          "Woodman Metro Station",
          "Valley College Metro Station",
          "Laurel Canyon Metro Station",
          "North Hollywood Metro Station",
          "Expo/Crenshaw Station",
          "Martin Luther King Jr Station",
          "Leimert Park Station",
          "Hyde Park Station",
          "Fairview Heights Station",
          "Downtown Inglewood Station",
          "Westchester/Veterans Station",
          "LAX/Metro Transit Center Station",
          "Aviation/Century Station",
          "Aviation/LAX Station"
         ],
         "lat": [
          33.77360283,
          33.76874483,
          33.76807583,
          33.77226283,
          33.78183483,
          33.78909483,
          33.80708383,
          33.81986983,
          33.84822684,
          33.87608684,
          33.89749484,
          33.92805284,
          33.94222484,
          33.95961585,
          33.97374485,
          33.98876485,
          34.00292485,
          34.01965485,
          34.02681185,
          34.03315985,
          34.04073985,
          34.04861486,
          34.05475059,
          34.05203893,
          34.04884218,
          34.05606586,
          34.06386586,
          34.08095386,
          34.08723186,
          34.09824786,
          34.11118387,
          34.11519087,
          34.13352587,
          34.14191487,
          34.14836087,
          34.15181087,
          34.15242187,
          34.14775688,
          34.14286488,
          34.13315988,
          34.13252288,
          34.12905288,
          34.13586788,
          34.13681889,
          34.16850886,
          34.14000686,
          34.10155186,
          34.10163486,
          34.10174186,
          34.09771286,
          34.08991486,
          34.07653086,
          34.06270585,
          34.05637286,
          34.04863885,
          34.04932086,
          34.05490486,
          34.05620186,
          33.89464483,
          33.90530383,
          33.91606783,
          33.92320483,
          33.92962583,
          33.93341284,
          33.92520584,
          33.92868784,
          33.92871884,
          33.92746984,
          33.92826284,
          33.92488484,
          33.91307485,
          33.91403785,
          34.06169385,
          34.06175785,
          34.06270585,
          34.05637286,
          34.04863885,
          34.04932086,
          34.05490486,
          34.05620186,
          34.03340286,
          34.03336886,
          34.03332386,
          34.03430486,
          34.04375186,
          34.04721986,
          34.04763886,
          34.04884218,
          34.05203893,
          34.05475059,
          34.04861486,
          34.04073985,
          34.02911685,
          34.02212785,
          34.01823185,
          34.01824985,
          34.01833585,
          34.02253085,
          34.02398585,
          34.02480785,
          34.02635985,
          34.02790085,
          34.02932784,
          34.03682084,
          34.03541284,
          34.03170984,
          34.02799984,
          34.02315984,
          34.01401484,
          34.2521972,
          34.23592131,
          34.23498563,
          34.22047153,
          34.21937541,
          34.20050779,
          34.19136029,
          34.18154485,
          34.19056485,
          34.18871485,
          34.18696485,
          34.18105485,
          34.18045485,
          34.18600486,
          34.18631486,
          34.18085486,
          34.18046486,
          34.17899486,
          34.17176486,
          34.16856486,
          34.16881486,
          34.02245314,
          34.01016656,
          34.00458152,
          33.98828975,
          33.97528429,
          33.96729917,
          33.96202081,
          33.94962547,
          33.94567805,
          33.92963484
         ],
         "lon": [
          -118.1894242,
          -118.1893742,
          -118.1929332,
          -118.1937122,
          -118.1893962,
          -118.1893942,
          -118.1898462,
          -118.1961022,
          -118.2110292,
          -118.2225152,
          -118.2242612,
          -118.2375672,
          -118.2431712,
          -118.2432172,
          -118.2432832,
          -118.2434102,
          -118.2433152,
          -118.2430962,
          -118.2555172,
          -118.2693452,
          -118.2661302,
          -118.2588342,
          -118.2512082,
          -118.2461664,
          -118.2387869,
          -118.2347712,
          -118.2358522,
          -118.2204412,
          -118.2132252,
          -118.2067242,
          -118.1926182,
          -118.1578982,
          -118.1481382,
          -118.1482262,
          -118.1475242,
          -118.1314022,
          -118.1143602,
          -118.0812242,
          -118.0292112,
          -118.0034852,
          -117.9676922,
          -117.9325181,
          -117.9066431,
          -117.8916481,
          -118.3768202,
          -118.3627112,
          -118.3385612,
          -118.3251922,
          -118.3081292,
          -118.2917682,
          -118.2917422,
          -118.2916982,
          -118.2900942,
          -118.2748912,
          -118.2586942,
          -118.2512712,
          -118.2460692,
          -118.2342612,
          -118.3692082,
          -118.3831252,
          -118.3865512,
          -118.3875842,
          -118.3771462,
          -118.3516142,
          -118.3265622,
          -118.2917452,
          -118.2811122,
          -118.2652292,
          -118.2380642,
          -118.2099572,
          -118.1406122,
          -118.1047292,
          -118.3087682,
          -118.3014702,
          -118.2900942,
          -118.2748912,
          -118.2586942,
          -118.2512712,
          -118.2460692,
          -118.2342612,
          -118.1544812,
          -118.1612182,
          -118.1681522,
          -118.1921942,
          -118.2100732,
          -118.2196602,
          -118.2259522,
          -118.2387869,
          -118.2461664,
          -118.2512082,
          -118.2588342,
          -118.2661302,
          -118.2736152,
          -118.2781302,
          -118.2857462,
          -118.2915522,
          -118.3089222,
          -118.3350902,
          -118.3461072,
          -118.3551712,
          -118.3721322,
          -118.3889982,
          -118.4042672,
          -118.4245882,
          -118.4342462,
          -118.4529082,
          -118.4691322,
          -118.4803842,
          -118.4913962,
          -118.5993797,
          -118.5971927,
          -118.5971931,
          -118.5970328,
          -118.5970485,
          -118.5971486,
          -118.5964455,
          -118.6014123,
          -118.5968923,
          -118.5887023,
          -118.5705623,
          -118.5530923,
          -118.5365023,
          -118.5005822,
          -118.4841522,
          -118.4687622,
          -118.4481522,
          -118.4297122,
          -118.4220922,
          -118.3970522,
          -118.3775322,
          -118.3350902,
          -118.335347,
          -118.3326646,
          -118.3308357,
          -118.3360302,
          -118.3513927,
          -118.3744553,
          -118.378663,
          -118.3787027,
          -118.3772708
         ],
         "name": "",
         "opacity": 0.3,
         "radius": 15,
         "subplot": "mapbox",
         "type": "densitymapbox"
        }
       ],
       "layout": {
        "coloraxis": {
         "colorscale": [
          [
           0,
           "#0d0887"
          ],
          [
           0.1111111111111111,
           "#46039f"
          ],
          [
           0.2222222222222222,
           "#7201a8"
          ],
          [
           0.3333333333333333,
           "#9c179e"
          ],
          [
           0.4444444444444444,
           "#bd3786"
          ],
          [
           0.5555555555555556,
           "#d8576b"
          ],
          [
           0.6666666666666666,
           "#ed7953"
          ],
          [
           0.7777777777777778,
           "#fb9f3a"
          ],
          [
           0.8888888888888888,
           "#fdca26"
          ],
          [
           1,
           "#f0f921"
          ]
         ]
        },
        "height": 800,
        "legend": {
         "tracegroupgap": 0
        },
        "mapbox": {
         "center": {
          "lat": 34.04042933499999,
          "lon": -118.29805459857141
         },
         "domain": {
          "x": [
           0,
           1
          ],
          "y": [
           0,
           1
          ]
         },
         "style": "carto-positron",
         "zoom": 8.8
        },
        "template": {
         "data": {
          "bar": [
           {
            "error_x": {
             "color": "#2a3f5f"
            },
            "error_y": {
             "color": "#2a3f5f"
            },
            "marker": {
             "line": {
              "color": "#E5ECF6",
              "width": 0.5
             },
             "pattern": {
              "fillmode": "overlay",
              "size": 10,
              "solidity": 0.2
             }
            },
            "type": "bar"
           }
          ],
          "barpolar": [
           {
            "marker": {
             "line": {
              "color": "#E5ECF6",
              "width": 0.5
             },
             "pattern": {
              "fillmode": "overlay",
              "size": 10,
              "solidity": 0.2
             }
            },
            "type": "barpolar"
           }
          ],
          "carpet": [
           {
            "aaxis": {
             "endlinecolor": "#2a3f5f",
             "gridcolor": "white",
             "linecolor": "white",
             "minorgridcolor": "white",
             "startlinecolor": "#2a3f5f"
            },
            "baxis": {
             "endlinecolor": "#2a3f5f",
             "gridcolor": "white",
             "linecolor": "white",
             "minorgridcolor": "white",
             "startlinecolor": "#2a3f5f"
            },
            "type": "carpet"
           }
          ],
          "choropleth": [
           {
            "colorbar": {
             "outlinewidth": 0,
             "ticks": ""
            },
            "type": "choropleth"
           }
          ],
          "contour": [
           {
            "colorbar": {
             "outlinewidth": 0,
             "ticks": ""
            },
            "colorscale": [
             [
              0,
              "#0d0887"
             ],
             [
              0.1111111111111111,
              "#46039f"
             ],
             [
              0.2222222222222222,
              "#7201a8"
             ],
             [
              0.3333333333333333,
              "#9c179e"
             ],
             [
              0.4444444444444444,
              "#bd3786"
             ],
             [
              0.5555555555555556,
              "#d8576b"
             ],
             [
              0.6666666666666666,
              "#ed7953"
             ],
             [
              0.7777777777777778,
              "#fb9f3a"
             ],
             [
              0.8888888888888888,
              "#fdca26"
             ],
             [
              1,
              "#f0f921"
             ]
            ],
            "type": "contour"
           }
          ],
          "contourcarpet": [
           {
            "colorbar": {
             "outlinewidth": 0,
             "ticks": ""
            },
            "type": "contourcarpet"
           }
          ],
          "heatmap": [
           {
            "colorbar": {
             "outlinewidth": 0,
             "ticks": ""
            },
            "colorscale": [
             [
              0,
              "#0d0887"
             ],
             [
              0.1111111111111111,
              "#46039f"
             ],
             [
              0.2222222222222222,
              "#7201a8"
             ],
             [
              0.3333333333333333,
              "#9c179e"
             ],
             [
              0.4444444444444444,
              "#bd3786"
             ],
             [
              0.5555555555555556,
              "#d8576b"
             ],
             [
              0.6666666666666666,
              "#ed7953"
             ],
             [
              0.7777777777777778,
              "#fb9f3a"
             ],
             [
              0.8888888888888888,
              "#fdca26"
             ],
             [
              1,
              "#f0f921"
             ]
            ],
            "type": "heatmap"
           }
          ],
          "heatmapgl": [
           {
            "colorbar": {
             "outlinewidth": 0,
             "ticks": ""
            },
            "colorscale": [
             [
              0,
              "#0d0887"
             ],
             [
              0.1111111111111111,
              "#46039f"
             ],
             [
              0.2222222222222222,
              "#7201a8"
             ],
             [
              0.3333333333333333,
              "#9c179e"
             ],
             [
              0.4444444444444444,
              "#bd3786"
             ],
             [
              0.5555555555555556,
              "#d8576b"
             ],
             [
              0.6666666666666666,
              "#ed7953"
             ],
             [
              0.7777777777777778,
              "#fb9f3a"
             ],
             [
              0.8888888888888888,
              "#fdca26"
             ],
             [
              1,
              "#f0f921"
             ]
            ],
            "type": "heatmapgl"
           }
          ],
          "histogram": [
           {
            "marker": {
             "pattern": {
              "fillmode": "overlay",
              "size": 10,
              "solidity": 0.2
             }
            },
            "type": "histogram"
           }
          ],
          "histogram2d": [
           {
            "colorbar": {
             "outlinewidth": 0,
             "ticks": ""
            },
            "colorscale": [
             [
              0,
              "#0d0887"
             ],
             [
              0.1111111111111111,
              "#46039f"
             ],
             [
              0.2222222222222222,
              "#7201a8"
             ],
             [
              0.3333333333333333,
              "#9c179e"
             ],
             [
              0.4444444444444444,
              "#bd3786"
             ],
             [
              0.5555555555555556,
              "#d8576b"
             ],
             [
              0.6666666666666666,
              "#ed7953"
             ],
             [
              0.7777777777777778,
              "#fb9f3a"
             ],
             [
              0.8888888888888888,
              "#fdca26"
             ],
             [
              1,
              "#f0f921"
             ]
            ],
            "type": "histogram2d"
           }
          ],
          "histogram2dcontour": [
           {
            "colorbar": {
             "outlinewidth": 0,
             "ticks": ""
            },
            "colorscale": [
             [
              0,
              "#0d0887"
             ],
             [
              0.1111111111111111,
              "#46039f"
             ],
             [
              0.2222222222222222,
              "#7201a8"
             ],
             [
              0.3333333333333333,
              "#9c179e"
             ],
             [
              0.4444444444444444,
              "#bd3786"
             ],
             [
              0.5555555555555556,
              "#d8576b"
             ],
             [
              0.6666666666666666,
              "#ed7953"
             ],
             [
              0.7777777777777778,
              "#fb9f3a"
             ],
             [
              0.8888888888888888,
              "#fdca26"
             ],
             [
              1,
              "#f0f921"
             ]
            ],
            "type": "histogram2dcontour"
           }
          ],
          "mesh3d": [
           {
            "colorbar": {
             "outlinewidth": 0,
             "ticks": ""
            },
            "type": "mesh3d"
           }
          ],
          "parcoords": [
           {
            "line": {
             "colorbar": {
              "outlinewidth": 0,
              "ticks": ""
             }
            },
            "type": "parcoords"
           }
          ],
          "pie": [
           {
            "automargin": true,
            "type": "pie"
           }
          ],
          "scatter": [
           {
            "fillpattern": {
             "fillmode": "overlay",
             "size": 10,
             "solidity": 0.2
            },
            "type": "scatter"
           }
          ],
          "scatter3d": [
           {
            "line": {
             "colorbar": {
              "outlinewidth": 0,
              "ticks": ""
             }
            },
            "marker": {
             "colorbar": {
              "outlinewidth": 0,
              "ticks": ""
             }
            },
            "type": "scatter3d"
           }
          ],
          "scattercarpet": [
           {
            "marker": {
             "colorbar": {
              "outlinewidth": 0,
              "ticks": ""
             }
            },
            "type": "scattercarpet"
           }
          ],
          "scattergeo": [
           {
            "marker": {
             "colorbar": {
              "outlinewidth": 0,
              "ticks": ""
             }
            },
            "type": "scattergeo"
           }
          ],
          "scattergl": [
           {
            "marker": {
             "colorbar": {
              "outlinewidth": 0,
              "ticks": ""
             }
            },
            "type": "scattergl"
           }
          ],
          "scattermapbox": [
           {
            "marker": {
             "colorbar": {
              "outlinewidth": 0,
              "ticks": ""
             }
            },
            "type": "scattermapbox"
           }
          ],
          "scatterpolar": [
           {
            "marker": {
             "colorbar": {
              "outlinewidth": 0,
              "ticks": ""
             }
            },
            "type": "scatterpolar"
           }
          ],
          "scatterpolargl": [
           {
            "marker": {
             "colorbar": {
              "outlinewidth": 0,
              "ticks": ""
             }
            },
            "type": "scatterpolargl"
           }
          ],
          "scatterternary": [
           {
            "marker": {
             "colorbar": {
              "outlinewidth": 0,
              "ticks": ""
             }
            },
            "type": "scatterternary"
           }
          ],
          "surface": [
           {
            "colorbar": {
             "outlinewidth": 0,
             "ticks": ""
            },
            "colorscale": [
             [
              0,
              "#0d0887"
             ],
             [
              0.1111111111111111,
              "#46039f"
             ],
             [
              0.2222222222222222,
              "#7201a8"
             ],
             [
              0.3333333333333333,
              "#9c179e"
             ],
             [
              0.4444444444444444,
              "#bd3786"
             ],
             [
              0.5555555555555556,
              "#d8576b"
             ],
             [
              0.6666666666666666,
              "#ed7953"
             ],
             [
              0.7777777777777778,
              "#fb9f3a"
             ],
             [
              0.8888888888888888,
              "#fdca26"
             ],
             [
              1,
              "#f0f921"
             ]
            ],
            "type": "surface"
           }
          ],
          "table": [
           {
            "cells": {
             "fill": {
              "color": "#EBF0F8"
             },
             "line": {
              "color": "white"
             }
            },
            "header": {
             "fill": {
              "color": "#C8D4E3"
             },
             "line": {
              "color": "white"
             }
            },
            "type": "table"
           }
          ]
         },
         "layout": {
          "annotationdefaults": {
           "arrowcolor": "#2a3f5f",
           "arrowhead": 0,
           "arrowwidth": 1
          },
          "autotypenumbers": "strict",
          "coloraxis": {
           "colorbar": {
            "outlinewidth": 0,
            "ticks": ""
           }
          },
          "colorscale": {
           "diverging": [
            [
             0,
             "#8e0152"
            ],
            [
             0.1,
             "#c51b7d"
            ],
            [
             0.2,
             "#de77ae"
            ],
            [
             0.3,
             "#f1b6da"
            ],
            [
             0.4,
             "#fde0ef"
            ],
            [
             0.5,
             "#f7f7f7"
            ],
            [
             0.6,
             "#e6f5d0"
            ],
            [
             0.7,
             "#b8e186"
            ],
            [
             0.8,
             "#7fbc41"
            ],
            [
             0.9,
             "#4d9221"
            ],
            [
             1,
             "#276419"
            ]
           ],
           "sequential": [
            [
             0,
             "#0d0887"
            ],
            [
             0.1111111111111111,
             "#46039f"
            ],
            [
             0.2222222222222222,
             "#7201a8"
            ],
            [
             0.3333333333333333,
             "#9c179e"
            ],
            [
             0.4444444444444444,
             "#bd3786"
            ],
            [
             0.5555555555555556,
             "#d8576b"
            ],
            [
             0.6666666666666666,
             "#ed7953"
            ],
            [
             0.7777777777777778,
             "#fb9f3a"
            ],
            [
             0.8888888888888888,
             "#fdca26"
            ],
            [
             1,
             "#f0f921"
            ]
           ],
           "sequentialminus": [
            [
             0,
             "#0d0887"
            ],
            [
             0.1111111111111111,
             "#46039f"
            ],
            [
             0.2222222222222222,
             "#7201a8"
            ],
            [
             0.3333333333333333,
             "#9c179e"
            ],
            [
             0.4444444444444444,
             "#bd3786"
            ],
            [
             0.5555555555555556,
             "#d8576b"
            ],
            [
             0.6666666666666666,
             "#ed7953"
            ],
            [
             0.7777777777777778,
             "#fb9f3a"
            ],
            [
             0.8888888888888888,
             "#fdca26"
            ],
            [
             1,
             "#f0f921"
            ]
           ]
          },
          "colorway": [
           "#636efa",
           "#EF553B",
           "#00cc96",
           "#ab63fa",
           "#FFA15A",
           "#19d3f3",
           "#FF6692",
           "#B6E880",
           "#FF97FF",
           "#FECB52"
          ],
          "font": {
           "color": "#2a3f5f"
          },
          "geo": {
           "bgcolor": "white",
           "lakecolor": "white",
           "landcolor": "#E5ECF6",
           "showlakes": true,
           "showland": true,
           "subunitcolor": "white"
          },
          "hoverlabel": {
           "align": "left"
          },
          "hovermode": "closest",
          "mapbox": {
           "style": "light"
          },
          "paper_bgcolor": "white",
          "plot_bgcolor": "#E5ECF6",
          "polar": {
           "angularaxis": {
            "gridcolor": "white",
            "linecolor": "white",
            "ticks": ""
           },
           "bgcolor": "#E5ECF6",
           "radialaxis": {
            "gridcolor": "white",
            "linecolor": "white",
            "ticks": ""
           }
          },
          "scene": {
           "xaxis": {
            "backgroundcolor": "#E5ECF6",
            "gridcolor": "white",
            "gridwidth": 2,
            "linecolor": "white",
            "showbackground": true,
            "ticks": "",
            "zerolinecolor": "white"
           },
           "yaxis": {
            "backgroundcolor": "#E5ECF6",
            "gridcolor": "white",
            "gridwidth": 2,
            "linecolor": "white",
            "showbackground": true,
            "ticks": "",
            "zerolinecolor": "white"
           },
           "zaxis": {
            "backgroundcolor": "#E5ECF6",
            "gridcolor": "white",
            "gridwidth": 2,
            "linecolor": "white",
            "showbackground": true,
            "ticks": "",
            "zerolinecolor": "white"
           }
          },
          "shapedefaults": {
           "line": {
            "color": "#2a3f5f"
           }
          },
          "ternary": {
           "aaxis": {
            "gridcolor": "white",
            "linecolor": "white",
            "ticks": ""
           },
           "baxis": {
            "gridcolor": "white",
            "linecolor": "white",
            "ticks": ""
           },
           "bgcolor": "#E5ECF6",
           "caxis": {
            "gridcolor": "white",
            "linecolor": "white",
            "ticks": ""
           }
          },
          "title": {
           "x": 0.05
          },
          "xaxis": {
           "automargin": true,
           "gridcolor": "white",
           "linecolor": "white",
           "ticks": "",
           "title": {
            "standoff": 15
           },
           "zerolinecolor": "white",
           "zerolinewidth": 2
          },
          "yaxis": {
           "automargin": true,
           "gridcolor": "white",
           "linecolor": "white",
           "ticks": "",
           "title": {
            "standoff": 15
           },
           "zerolinecolor": "white",
           "zerolinewidth": 2
          }
         }
        },
        "title": {
         "text": "Areas Within Approximately 1 Mile of a LA Metro Station"
        },
        "width": 800
       }
      }
     },
     "metadata": {},
     "output_type": "display_data"
    }
   ],
   "source": [
    "#density mapbox, shows areas within a certain radius to a station, in this case 1 mile. The higher the number, the closer the straight line distance to a metro station\n",
    "fig = px.density_mapbox(df,\n",
    "                        lat='Latitude',\n",
    "                        lon='Longitude',\n",
    "                        radius=15,\n",
    "                        opacity=0.3,\n",
    "                        hover_name = \"Name\",\n",
    "                        zoom = 8.8,\n",
    "                        height = 800,\n",
    "                        width = 800,\n",
    "                        title = \"Areas Within Approximately 1 Mile of a LA Metro Station\",\n",
    "                        mapbox_style = \"carto-positron\")\n",
    "fig.show()"
   ]
  },
  {
   "cell_type": "markdown",
   "metadata": {},
   "source": [
    "From these plots, we can see that the LA metro system has a very radial model; many of the the lines converge and interchange in downtown LA. Therefore, intuitively, travellers from one end of the system to another would appear to have to traverse that area, making it appear as a choke point of sorts. Furthermore, we can see that the system spans a huge geographical area with relatively wide stop spacing in some places, but many areas of LA are also not reached by the system, due to its wide sprawl and another challenges. The first map also reveals the wide stop spacing on many of the system's lines, and the last map in particular reveals that huge swaths of LA county, such as Whittier, Torrance, and San Fernando, are not currently served by the system."
   ]
  },
  {
   "cell_type": "markdown",
   "metadata": {},
   "source": [
    "Below, we import the March 2023 average weekly data scraped by the data scraper. The B (Red) and D (Purple) Line data are merged together as this is how the data was stored on the website. This is likely because they share tracks for most of their length, with the D Line currently being only a short 2-station spur off the B line. Also, due to the recency of the splitting of the L (Gold) line and merging into the A (Blue) and E (Expo) Lines as part of the Regional Connector Project, the A and E line data do not include the L line ridership as, again, since we didnt have station-by-station ridership data, we could not accurately allocate percentages of L line ridership to the extended A and E lines based on the realigned system. "
   ]
  },
  {
   "cell_type": "code",
   "execution_count": 10,
   "metadata": {},
   "outputs": [],
   "source": [
    "#dataframes/csv files obtained from the scraper\n",
    "Adf = pd.read_csv(\"Dataframes/gvRailBlueMarch2023.csv\")\n",
    "BDdf = pd.read_csv(\"Dataframes/gvRailRedMarch2023.csv\")\n",
    "Cdf = pd.read_csv(\"Dataframes/gvRailGreenMarch2023.csv\")\n",
    "Edf = pd.read_csv(\"Dataframes/gvRailExpoMarch2023.csv\")"
   ]
  },
  {
   "cell_type": "markdown",
   "metadata": {},
   "source": [
    "We were unable to get station-by-station ridership data, and the only thing we were able to get was line-by-line data. As a result, we can take the ridership number from any of the rows to be our line ridership."
   ]
  },
  {
   "cell_type": "code",
   "execution_count": 11,
   "metadata": {},
   "outputs": [],
   "source": [
    "#for each line, convert the ridership value to an integer that we can insert into our main dataframe in a new column.\n",
    "ARidership = int(Adf[\"MAR 2023\"][0].replace(',', ''))\n",
    "BDRidership = int(BDdf[\"MAR 2023\"][0].replace(',', ''))\n",
    "CRidership = int(Cdf[\"MAR 2023\"][0].replace(',', ''))\n",
    "ERidership = int(Edf[\"MAR 2023\"][0].replace(',', ''))"
   ]
  },
  {
   "cell_type": "markdown",
   "metadata": {},
   "source": [
    "For lines that we don't have data on (such as the K line), we will set the ridership to 1 just so the lines still appear on the map. For the other values where such data exists, we will attach the ridership value to the stations on that line."
   ]
  },
  {
   "cell_type": "code",
   "execution_count": 12,
   "metadata": {},
   "outputs": [],
   "source": [
    "#create a new column and set all row values in that column equal to 1\n",
    "df[\"Average Weekday Ridership\"] = 1"
   ]
  },
  {
   "cell_type": "code",
   "execution_count": 13,
   "metadata": {},
   "outputs": [
    {
     "name": "stderr",
     "output_type": "stream",
     "text": [
      "C:\\Users\\thele\\AppData\\Local\\Temp\\ipykernel_46688\\3405047285.py:3: SettingWithCopyWarning:\n",
      "\n",
      "\n",
      "A value is trying to be set on a copy of a slice from a DataFrame\n",
      "\n",
      "See the caveats in the documentation: https://pandas.pydata.org/pandas-docs/stable/user_guide/indexing.html#returning-a-view-versus-a-copy\n",
      "\n",
      "C:\\Users\\thele\\AppData\\Local\\Temp\\ipykernel_46688\\3405047285.py:3: SettingWithCopyWarning:\n",
      "\n",
      "\n",
      "A value is trying to be set on a copy of a slice from a DataFrame\n",
      "\n",
      "See the caveats in the documentation: https://pandas.pydata.org/pandas-docs/stable/user_guide/indexing.html#returning-a-view-versus-a-copy\n",
      "\n",
      "C:\\Users\\thele\\AppData\\Local\\Temp\\ipykernel_46688\\3405047285.py:3: SettingWithCopyWarning:\n",
      "\n",
      "\n",
      "A value is trying to be set on a copy of a slice from a DataFrame\n",
      "\n",
      "See the caveats in the documentation: https://pandas.pydata.org/pandas-docs/stable/user_guide/indexing.html#returning-a-view-versus-a-copy\n",
      "\n",
      "C:\\Users\\thele\\AppData\\Local\\Temp\\ipykernel_46688\\3405047285.py:3: SettingWithCopyWarning:\n",
      "\n",
      "\n",
      "A value is trying to be set on a copy of a slice from a DataFrame\n",
      "\n",
      "See the caveats in the documentation: https://pandas.pydata.org/pandas-docs/stable/user_guide/indexing.html#returning-a-view-versus-a-copy\n",
      "\n",
      "C:\\Users\\thele\\AppData\\Local\\Temp\\ipykernel_46688\\3405047285.py:3: SettingWithCopyWarning:\n",
      "\n",
      "\n",
      "A value is trying to be set on a copy of a slice from a DataFrame\n",
      "\n",
      "See the caveats in the documentation: https://pandas.pydata.org/pandas-docs/stable/user_guide/indexing.html#returning-a-view-versus-a-copy\n",
      "\n",
      "C:\\Users\\thele\\AppData\\Local\\Temp\\ipykernel_46688\\3405047285.py:3: SettingWithCopyWarning:\n",
      "\n",
      "\n",
      "A value is trying to be set on a copy of a slice from a DataFrame\n",
      "\n",
      "See the caveats in the documentation: https://pandas.pydata.org/pandas-docs/stable/user_guide/indexing.html#returning-a-view-versus-a-copy\n",
      "\n",
      "C:\\Users\\thele\\AppData\\Local\\Temp\\ipykernel_46688\\3405047285.py:3: SettingWithCopyWarning:\n",
      "\n",
      "\n",
      "A value is trying to be set on a copy of a slice from a DataFrame\n",
      "\n",
      "See the caveats in the documentation: https://pandas.pydata.org/pandas-docs/stable/user_guide/indexing.html#returning-a-view-versus-a-copy\n",
      "\n",
      "C:\\Users\\thele\\AppData\\Local\\Temp\\ipykernel_46688\\3405047285.py:3: SettingWithCopyWarning:\n",
      "\n",
      "\n",
      "A value is trying to be set on a copy of a slice from a DataFrame\n",
      "\n",
      "See the caveats in the documentation: https://pandas.pydata.org/pandas-docs/stable/user_guide/indexing.html#returning-a-view-versus-a-copy\n",
      "\n",
      "C:\\Users\\thele\\AppData\\Local\\Temp\\ipykernel_46688\\3405047285.py:3: SettingWithCopyWarning:\n",
      "\n",
      "\n",
      "A value is trying to be set on a copy of a slice from a DataFrame\n",
      "\n",
      "See the caveats in the documentation: https://pandas.pydata.org/pandas-docs/stable/user_guide/indexing.html#returning-a-view-versus-a-copy\n",
      "\n",
      "C:\\Users\\thele\\AppData\\Local\\Temp\\ipykernel_46688\\3405047285.py:3: SettingWithCopyWarning:\n",
      "\n",
      "\n",
      "A value is trying to be set on a copy of a slice from a DataFrame\n",
      "\n",
      "See the caveats in the documentation: https://pandas.pydata.org/pandas-docs/stable/user_guide/indexing.html#returning-a-view-versus-a-copy\n",
      "\n",
      "C:\\Users\\thele\\AppData\\Local\\Temp\\ipykernel_46688\\3405047285.py:3: SettingWithCopyWarning:\n",
      "\n",
      "\n",
      "A value is trying to be set on a copy of a slice from a DataFrame\n",
      "\n",
      "See the caveats in the documentation: https://pandas.pydata.org/pandas-docs/stable/user_guide/indexing.html#returning-a-view-versus-a-copy\n",
      "\n",
      "C:\\Users\\thele\\AppData\\Local\\Temp\\ipykernel_46688\\3405047285.py:3: SettingWithCopyWarning:\n",
      "\n",
      "\n",
      "A value is trying to be set on a copy of a slice from a DataFrame\n",
      "\n",
      "See the caveats in the documentation: https://pandas.pydata.org/pandas-docs/stable/user_guide/indexing.html#returning-a-view-versus-a-copy\n",
      "\n",
      "C:\\Users\\thele\\AppData\\Local\\Temp\\ipykernel_46688\\3405047285.py:3: SettingWithCopyWarning:\n",
      "\n",
      "\n",
      "A value is trying to be set on a copy of a slice from a DataFrame\n",
      "\n",
      "See the caveats in the documentation: https://pandas.pydata.org/pandas-docs/stable/user_guide/indexing.html#returning-a-view-versus-a-copy\n",
      "\n",
      "C:\\Users\\thele\\AppData\\Local\\Temp\\ipykernel_46688\\3405047285.py:3: SettingWithCopyWarning:\n",
      "\n",
      "\n",
      "A value is trying to be set on a copy of a slice from a DataFrame\n",
      "\n",
      "See the caveats in the documentation: https://pandas.pydata.org/pandas-docs/stable/user_guide/indexing.html#returning-a-view-versus-a-copy\n",
      "\n",
      "C:\\Users\\thele\\AppData\\Local\\Temp\\ipykernel_46688\\3405047285.py:3: SettingWithCopyWarning:\n",
      "\n",
      "\n",
      "A value is trying to be set on a copy of a slice from a DataFrame\n",
      "\n",
      "See the caveats in the documentation: https://pandas.pydata.org/pandas-docs/stable/user_guide/indexing.html#returning-a-view-versus-a-copy\n",
      "\n",
      "C:\\Users\\thele\\AppData\\Local\\Temp\\ipykernel_46688\\3405047285.py:3: SettingWithCopyWarning:\n",
      "\n",
      "\n",
      "A value is trying to be set on a copy of a slice from a DataFrame\n",
      "\n",
      "See the caveats in the documentation: https://pandas.pydata.org/pandas-docs/stable/user_guide/indexing.html#returning-a-view-versus-a-copy\n",
      "\n",
      "C:\\Users\\thele\\AppData\\Local\\Temp\\ipykernel_46688\\3405047285.py:3: SettingWithCopyWarning:\n",
      "\n",
      "\n",
      "A value is trying to be set on a copy of a slice from a DataFrame\n",
      "\n",
      "See the caveats in the documentation: https://pandas.pydata.org/pandas-docs/stable/user_guide/indexing.html#returning-a-view-versus-a-copy\n",
      "\n",
      "C:\\Users\\thele\\AppData\\Local\\Temp\\ipykernel_46688\\3405047285.py:3: SettingWithCopyWarning:\n",
      "\n",
      "\n",
      "A value is trying to be set on a copy of a slice from a DataFrame\n",
      "\n",
      "See the caveats in the documentation: https://pandas.pydata.org/pandas-docs/stable/user_guide/indexing.html#returning-a-view-versus-a-copy\n",
      "\n",
      "C:\\Users\\thele\\AppData\\Local\\Temp\\ipykernel_46688\\3405047285.py:3: SettingWithCopyWarning:\n",
      "\n",
      "\n",
      "A value is trying to be set on a copy of a slice from a DataFrame\n",
      "\n",
      "See the caveats in the documentation: https://pandas.pydata.org/pandas-docs/stable/user_guide/indexing.html#returning-a-view-versus-a-copy\n",
      "\n",
      "C:\\Users\\thele\\AppData\\Local\\Temp\\ipykernel_46688\\3405047285.py:3: SettingWithCopyWarning:\n",
      "\n",
      "\n",
      "A value is trying to be set on a copy of a slice from a DataFrame\n",
      "\n",
      "See the caveats in the documentation: https://pandas.pydata.org/pandas-docs/stable/user_guide/indexing.html#returning-a-view-versus-a-copy\n",
      "\n",
      "C:\\Users\\thele\\AppData\\Local\\Temp\\ipykernel_46688\\3405047285.py:3: SettingWithCopyWarning:\n",
      "\n",
      "\n",
      "A value is trying to be set on a copy of a slice from a DataFrame\n",
      "\n",
      "See the caveats in the documentation: https://pandas.pydata.org/pandas-docs/stable/user_guide/indexing.html#returning-a-view-versus-a-copy\n",
      "\n",
      "C:\\Users\\thele\\AppData\\Local\\Temp\\ipykernel_46688\\3405047285.py:3: SettingWithCopyWarning:\n",
      "\n",
      "\n",
      "A value is trying to be set on a copy of a slice from a DataFrame\n",
      "\n",
      "See the caveats in the documentation: https://pandas.pydata.org/pandas-docs/stable/user_guide/indexing.html#returning-a-view-versus-a-copy\n",
      "\n",
      "C:\\Users\\thele\\AppData\\Local\\Temp\\ipykernel_46688\\3405047285.py:3: SettingWithCopyWarning:\n",
      "\n",
      "\n",
      "A value is trying to be set on a copy of a slice from a DataFrame\n",
      "\n",
      "See the caveats in the documentation: https://pandas.pydata.org/pandas-docs/stable/user_guide/indexing.html#returning-a-view-versus-a-copy\n",
      "\n",
      "C:\\Users\\thele\\AppData\\Local\\Temp\\ipykernel_46688\\3405047285.py:3: SettingWithCopyWarning:\n",
      "\n",
      "\n",
      "A value is trying to be set on a copy of a slice from a DataFrame\n",
      "\n",
      "See the caveats in the documentation: https://pandas.pydata.org/pandas-docs/stable/user_guide/indexing.html#returning-a-view-versus-a-copy\n",
      "\n",
      "C:\\Users\\thele\\AppData\\Local\\Temp\\ipykernel_46688\\3405047285.py:3: SettingWithCopyWarning:\n",
      "\n",
      "\n",
      "A value is trying to be set on a copy of a slice from a DataFrame\n",
      "\n",
      "See the caveats in the documentation: https://pandas.pydata.org/pandas-docs/stable/user_guide/indexing.html#returning-a-view-versus-a-copy\n",
      "\n",
      "C:\\Users\\thele\\AppData\\Local\\Temp\\ipykernel_46688\\3405047285.py:3: SettingWithCopyWarning:\n",
      "\n",
      "\n",
      "A value is trying to be set on a copy of a slice from a DataFrame\n",
      "\n",
      "See the caveats in the documentation: https://pandas.pydata.org/pandas-docs/stable/user_guide/indexing.html#returning-a-view-versus-a-copy\n",
      "\n",
      "C:\\Users\\thele\\AppData\\Local\\Temp\\ipykernel_46688\\3405047285.py:3: SettingWithCopyWarning:\n",
      "\n",
      "\n",
      "A value is trying to be set on a copy of a slice from a DataFrame\n",
      "\n",
      "See the caveats in the documentation: https://pandas.pydata.org/pandas-docs/stable/user_guide/indexing.html#returning-a-view-versus-a-copy\n",
      "\n",
      "C:\\Users\\thele\\AppData\\Local\\Temp\\ipykernel_46688\\3405047285.py:3: SettingWithCopyWarning:\n",
      "\n",
      "\n",
      "A value is trying to be set on a copy of a slice from a DataFrame\n",
      "\n",
      "See the caveats in the documentation: https://pandas.pydata.org/pandas-docs/stable/user_guide/indexing.html#returning-a-view-versus-a-copy\n",
      "\n",
      "C:\\Users\\thele\\AppData\\Local\\Temp\\ipykernel_46688\\3405047285.py:3: SettingWithCopyWarning:\n",
      "\n",
      "\n",
      "A value is trying to be set on a copy of a slice from a DataFrame\n",
      "\n",
      "See the caveats in the documentation: https://pandas.pydata.org/pandas-docs/stable/user_guide/indexing.html#returning-a-view-versus-a-copy\n",
      "\n",
      "C:\\Users\\thele\\AppData\\Local\\Temp\\ipykernel_46688\\3405047285.py:3: SettingWithCopyWarning:\n",
      "\n",
      "\n",
      "A value is trying to be set on a copy of a slice from a DataFrame\n",
      "\n",
      "See the caveats in the documentation: https://pandas.pydata.org/pandas-docs/stable/user_guide/indexing.html#returning-a-view-versus-a-copy\n",
      "\n",
      "C:\\Users\\thele\\AppData\\Local\\Temp\\ipykernel_46688\\3405047285.py:3: SettingWithCopyWarning:\n",
      "\n",
      "\n",
      "A value is trying to be set on a copy of a slice from a DataFrame\n",
      "\n",
      "See the caveats in the documentation: https://pandas.pydata.org/pandas-docs/stable/user_guide/indexing.html#returning-a-view-versus-a-copy\n",
      "\n",
      "C:\\Users\\thele\\AppData\\Local\\Temp\\ipykernel_46688\\3405047285.py:3: SettingWithCopyWarning:\n",
      "\n",
      "\n",
      "A value is trying to be set on a copy of a slice from a DataFrame\n",
      "\n",
      "See the caveats in the documentation: https://pandas.pydata.org/pandas-docs/stable/user_guide/indexing.html#returning-a-view-versus-a-copy\n",
      "\n",
      "C:\\Users\\thele\\AppData\\Local\\Temp\\ipykernel_46688\\3405047285.py:3: SettingWithCopyWarning:\n",
      "\n",
      "\n",
      "A value is trying to be set on a copy of a slice from a DataFrame\n",
      "\n",
      "See the caveats in the documentation: https://pandas.pydata.org/pandas-docs/stable/user_guide/indexing.html#returning-a-view-versus-a-copy\n",
      "\n",
      "C:\\Users\\thele\\AppData\\Local\\Temp\\ipykernel_46688\\3405047285.py:3: SettingWithCopyWarning:\n",
      "\n",
      "\n",
      "A value is trying to be set on a copy of a slice from a DataFrame\n",
      "\n",
      "See the caveats in the documentation: https://pandas.pydata.org/pandas-docs/stable/user_guide/indexing.html#returning-a-view-versus-a-copy\n",
      "\n",
      "C:\\Users\\thele\\AppData\\Local\\Temp\\ipykernel_46688\\3405047285.py:3: SettingWithCopyWarning:\n",
      "\n",
      "\n",
      "A value is trying to be set on a copy of a slice from a DataFrame\n",
      "\n",
      "See the caveats in the documentation: https://pandas.pydata.org/pandas-docs/stable/user_guide/indexing.html#returning-a-view-versus-a-copy\n",
      "\n",
      "C:\\Users\\thele\\AppData\\Local\\Temp\\ipykernel_46688\\3405047285.py:3: SettingWithCopyWarning:\n",
      "\n",
      "\n",
      "A value is trying to be set on a copy of a slice from a DataFrame\n",
      "\n",
      "See the caveats in the documentation: https://pandas.pydata.org/pandas-docs/stable/user_guide/indexing.html#returning-a-view-versus-a-copy\n",
      "\n",
      "C:\\Users\\thele\\AppData\\Local\\Temp\\ipykernel_46688\\3405047285.py:3: SettingWithCopyWarning:\n",
      "\n",
      "\n",
      "A value is trying to be set on a copy of a slice from a DataFrame\n",
      "\n",
      "See the caveats in the documentation: https://pandas.pydata.org/pandas-docs/stable/user_guide/indexing.html#returning-a-view-versus-a-copy\n",
      "\n",
      "C:\\Users\\thele\\AppData\\Local\\Temp\\ipykernel_46688\\3405047285.py:3: SettingWithCopyWarning:\n",
      "\n",
      "\n",
      "A value is trying to be set on a copy of a slice from a DataFrame\n",
      "\n",
      "See the caveats in the documentation: https://pandas.pydata.org/pandas-docs/stable/user_guide/indexing.html#returning-a-view-versus-a-copy\n",
      "\n",
      "C:\\Users\\thele\\AppData\\Local\\Temp\\ipykernel_46688\\3405047285.py:3: SettingWithCopyWarning:\n",
      "\n",
      "\n",
      "A value is trying to be set on a copy of a slice from a DataFrame\n",
      "\n",
      "See the caveats in the documentation: https://pandas.pydata.org/pandas-docs/stable/user_guide/indexing.html#returning-a-view-versus-a-copy\n",
      "\n",
      "C:\\Users\\thele\\AppData\\Local\\Temp\\ipykernel_46688\\3405047285.py:3: SettingWithCopyWarning:\n",
      "\n",
      "\n",
      "A value is trying to be set on a copy of a slice from a DataFrame\n",
      "\n",
      "See the caveats in the documentation: https://pandas.pydata.org/pandas-docs/stable/user_guide/indexing.html#returning-a-view-versus-a-copy\n",
      "\n",
      "C:\\Users\\thele\\AppData\\Local\\Temp\\ipykernel_46688\\3405047285.py:3: SettingWithCopyWarning:\n",
      "\n",
      "\n",
      "A value is trying to be set on a copy of a slice from a DataFrame\n",
      "\n",
      "See the caveats in the documentation: https://pandas.pydata.org/pandas-docs/stable/user_guide/indexing.html#returning-a-view-versus-a-copy\n",
      "\n",
      "C:\\Users\\thele\\AppData\\Local\\Temp\\ipykernel_46688\\3405047285.py:3: SettingWithCopyWarning:\n",
      "\n",
      "\n",
      "A value is trying to be set on a copy of a slice from a DataFrame\n",
      "\n",
      "See the caveats in the documentation: https://pandas.pydata.org/pandas-docs/stable/user_guide/indexing.html#returning-a-view-versus-a-copy\n",
      "\n",
      "C:\\Users\\thele\\AppData\\Local\\Temp\\ipykernel_46688\\3405047285.py:3: SettingWithCopyWarning:\n",
      "\n",
      "\n",
      "A value is trying to be set on a copy of a slice from a DataFrame\n",
      "\n",
      "See the caveats in the documentation: https://pandas.pydata.org/pandas-docs/stable/user_guide/indexing.html#returning-a-view-versus-a-copy\n",
      "\n",
      "C:\\Users\\thele\\AppData\\Local\\Temp\\ipykernel_46688\\3405047285.py:3: SettingWithCopyWarning:\n",
      "\n",
      "\n",
      "A value is trying to be set on a copy of a slice from a DataFrame\n",
      "\n",
      "See the caveats in the documentation: https://pandas.pydata.org/pandas-docs/stable/user_guide/indexing.html#returning-a-view-versus-a-copy\n",
      "\n",
      "C:\\Users\\thele\\AppData\\Local\\Temp\\ipykernel_46688\\3405047285.py:5: SettingWithCopyWarning:\n",
      "\n",
      "\n",
      "A value is trying to be set on a copy of a slice from a DataFrame\n",
      "\n",
      "See the caveats in the documentation: https://pandas.pydata.org/pandas-docs/stable/user_guide/indexing.html#returning-a-view-versus-a-copy\n",
      "\n",
      "C:\\Users\\thele\\AppData\\Local\\Temp\\ipykernel_46688\\3405047285.py:5: SettingWithCopyWarning:\n",
      "\n",
      "\n",
      "A value is trying to be set on a copy of a slice from a DataFrame\n",
      "\n",
      "See the caveats in the documentation: https://pandas.pydata.org/pandas-docs/stable/user_guide/indexing.html#returning-a-view-versus-a-copy\n",
      "\n",
      "C:\\Users\\thele\\AppData\\Local\\Temp\\ipykernel_46688\\3405047285.py:5: SettingWithCopyWarning:\n",
      "\n",
      "\n",
      "A value is trying to be set on a copy of a slice from a DataFrame\n",
      "\n",
      "See the caveats in the documentation: https://pandas.pydata.org/pandas-docs/stable/user_guide/indexing.html#returning-a-view-versus-a-copy\n",
      "\n",
      "C:\\Users\\thele\\AppData\\Local\\Temp\\ipykernel_46688\\3405047285.py:5: SettingWithCopyWarning:\n",
      "\n",
      "\n",
      "A value is trying to be set on a copy of a slice from a DataFrame\n",
      "\n",
      "See the caveats in the documentation: https://pandas.pydata.org/pandas-docs/stable/user_guide/indexing.html#returning-a-view-versus-a-copy\n",
      "\n",
      "C:\\Users\\thele\\AppData\\Local\\Temp\\ipykernel_46688\\3405047285.py:5: SettingWithCopyWarning:\n",
      "\n",
      "\n",
      "A value is trying to be set on a copy of a slice from a DataFrame\n",
      "\n",
      "See the caveats in the documentation: https://pandas.pydata.org/pandas-docs/stable/user_guide/indexing.html#returning-a-view-versus-a-copy\n",
      "\n",
      "C:\\Users\\thele\\AppData\\Local\\Temp\\ipykernel_46688\\3405047285.py:5: SettingWithCopyWarning:\n",
      "\n",
      "\n",
      "A value is trying to be set on a copy of a slice from a DataFrame\n",
      "\n",
      "See the caveats in the documentation: https://pandas.pydata.org/pandas-docs/stable/user_guide/indexing.html#returning-a-view-versus-a-copy\n",
      "\n",
      "C:\\Users\\thele\\AppData\\Local\\Temp\\ipykernel_46688\\3405047285.py:5: SettingWithCopyWarning:\n",
      "\n",
      "\n",
      "A value is trying to be set on a copy of a slice from a DataFrame\n",
      "\n",
      "See the caveats in the documentation: https://pandas.pydata.org/pandas-docs/stable/user_guide/indexing.html#returning-a-view-versus-a-copy\n",
      "\n",
      "C:\\Users\\thele\\AppData\\Local\\Temp\\ipykernel_46688\\3405047285.py:5: SettingWithCopyWarning:\n",
      "\n",
      "\n",
      "A value is trying to be set on a copy of a slice from a DataFrame\n",
      "\n",
      "See the caveats in the documentation: https://pandas.pydata.org/pandas-docs/stable/user_guide/indexing.html#returning-a-view-versus-a-copy\n",
      "\n",
      "C:\\Users\\thele\\AppData\\Local\\Temp\\ipykernel_46688\\3405047285.py:5: SettingWithCopyWarning:\n",
      "\n",
      "\n",
      "A value is trying to be set on a copy of a slice from a DataFrame\n",
      "\n",
      "See the caveats in the documentation: https://pandas.pydata.org/pandas-docs/stable/user_guide/indexing.html#returning-a-view-versus-a-copy\n",
      "\n",
      "C:\\Users\\thele\\AppData\\Local\\Temp\\ipykernel_46688\\3405047285.py:5: SettingWithCopyWarning:\n",
      "\n",
      "\n",
      "A value is trying to be set on a copy of a slice from a DataFrame\n",
      "\n",
      "See the caveats in the documentation: https://pandas.pydata.org/pandas-docs/stable/user_guide/indexing.html#returning-a-view-versus-a-copy\n",
      "\n",
      "C:\\Users\\thele\\AppData\\Local\\Temp\\ipykernel_46688\\3405047285.py:5: SettingWithCopyWarning:\n",
      "\n",
      "\n",
      "A value is trying to be set on a copy of a slice from a DataFrame\n",
      "\n",
      "See the caveats in the documentation: https://pandas.pydata.org/pandas-docs/stable/user_guide/indexing.html#returning-a-view-versus-a-copy\n",
      "\n",
      "C:\\Users\\thele\\AppData\\Local\\Temp\\ipykernel_46688\\3405047285.py:5: SettingWithCopyWarning:\n",
      "\n",
      "\n",
      "A value is trying to be set on a copy of a slice from a DataFrame\n",
      "\n",
      "See the caveats in the documentation: https://pandas.pydata.org/pandas-docs/stable/user_guide/indexing.html#returning-a-view-versus-a-copy\n",
      "\n",
      "C:\\Users\\thele\\AppData\\Local\\Temp\\ipykernel_46688\\3405047285.py:5: SettingWithCopyWarning:\n",
      "\n",
      "\n",
      "A value is trying to be set on a copy of a slice from a DataFrame\n",
      "\n",
      "See the caveats in the documentation: https://pandas.pydata.org/pandas-docs/stable/user_guide/indexing.html#returning-a-view-versus-a-copy\n",
      "\n",
      "C:\\Users\\thele\\AppData\\Local\\Temp\\ipykernel_46688\\3405047285.py:5: SettingWithCopyWarning:\n",
      "\n",
      "\n",
      "A value is trying to be set on a copy of a slice from a DataFrame\n",
      "\n",
      "See the caveats in the documentation: https://pandas.pydata.org/pandas-docs/stable/user_guide/indexing.html#returning-a-view-versus-a-copy\n",
      "\n",
      "C:\\Users\\thele\\AppData\\Local\\Temp\\ipykernel_46688\\3405047285.py:7: SettingWithCopyWarning:\n",
      "\n",
      "\n",
      "A value is trying to be set on a copy of a slice from a DataFrame\n",
      "\n",
      "See the caveats in the documentation: https://pandas.pydata.org/pandas-docs/stable/user_guide/indexing.html#returning-a-view-versus-a-copy\n",
      "\n",
      "C:\\Users\\thele\\AppData\\Local\\Temp\\ipykernel_46688\\3405047285.py:7: SettingWithCopyWarning:\n",
      "\n",
      "\n",
      "A value is trying to be set on a copy of a slice from a DataFrame\n",
      "\n",
      "See the caveats in the documentation: https://pandas.pydata.org/pandas-docs/stable/user_guide/indexing.html#returning-a-view-versus-a-copy\n",
      "\n",
      "C:\\Users\\thele\\AppData\\Local\\Temp\\ipykernel_46688\\3405047285.py:7: SettingWithCopyWarning:\n",
      "\n",
      "\n",
      "A value is trying to be set on a copy of a slice from a DataFrame\n",
      "\n",
      "See the caveats in the documentation: https://pandas.pydata.org/pandas-docs/stable/user_guide/indexing.html#returning-a-view-versus-a-copy\n",
      "\n",
      "C:\\Users\\thele\\AppData\\Local\\Temp\\ipykernel_46688\\3405047285.py:7: SettingWithCopyWarning:\n",
      "\n",
      "\n",
      "A value is trying to be set on a copy of a slice from a DataFrame\n",
      "\n",
      "See the caveats in the documentation: https://pandas.pydata.org/pandas-docs/stable/user_guide/indexing.html#returning-a-view-versus-a-copy\n",
      "\n",
      "C:\\Users\\thele\\AppData\\Local\\Temp\\ipykernel_46688\\3405047285.py:7: SettingWithCopyWarning:\n",
      "\n",
      "\n",
      "A value is trying to be set on a copy of a slice from a DataFrame\n",
      "\n",
      "See the caveats in the documentation: https://pandas.pydata.org/pandas-docs/stable/user_guide/indexing.html#returning-a-view-versus-a-copy\n",
      "\n",
      "C:\\Users\\thele\\AppData\\Local\\Temp\\ipykernel_46688\\3405047285.py:7: SettingWithCopyWarning:\n",
      "\n",
      "\n",
      "A value is trying to be set on a copy of a slice from a DataFrame\n",
      "\n",
      "See the caveats in the documentation: https://pandas.pydata.org/pandas-docs/stable/user_guide/indexing.html#returning-a-view-versus-a-copy\n",
      "\n",
      "C:\\Users\\thele\\AppData\\Local\\Temp\\ipykernel_46688\\3405047285.py:7: SettingWithCopyWarning:\n",
      "\n",
      "\n",
      "A value is trying to be set on a copy of a slice from a DataFrame\n",
      "\n",
      "See the caveats in the documentation: https://pandas.pydata.org/pandas-docs/stable/user_guide/indexing.html#returning-a-view-versus-a-copy\n",
      "\n",
      "C:\\Users\\thele\\AppData\\Local\\Temp\\ipykernel_46688\\3405047285.py:7: SettingWithCopyWarning:\n",
      "\n",
      "\n",
      "A value is trying to be set on a copy of a slice from a DataFrame\n",
      "\n",
      "See the caveats in the documentation: https://pandas.pydata.org/pandas-docs/stable/user_guide/indexing.html#returning-a-view-versus-a-copy\n",
      "\n",
      "C:\\Users\\thele\\AppData\\Local\\Temp\\ipykernel_46688\\3405047285.py:7: SettingWithCopyWarning:\n",
      "\n",
      "\n",
      "A value is trying to be set on a copy of a slice from a DataFrame\n",
      "\n",
      "See the caveats in the documentation: https://pandas.pydata.org/pandas-docs/stable/user_guide/indexing.html#returning-a-view-versus-a-copy\n",
      "\n",
      "C:\\Users\\thele\\AppData\\Local\\Temp\\ipykernel_46688\\3405047285.py:7: SettingWithCopyWarning:\n",
      "\n",
      "\n",
      "A value is trying to be set on a copy of a slice from a DataFrame\n",
      "\n",
      "See the caveats in the documentation: https://pandas.pydata.org/pandas-docs/stable/user_guide/indexing.html#returning-a-view-versus-a-copy\n",
      "\n",
      "C:\\Users\\thele\\AppData\\Local\\Temp\\ipykernel_46688\\3405047285.py:7: SettingWithCopyWarning:\n",
      "\n",
      "\n",
      "A value is trying to be set on a copy of a slice from a DataFrame\n",
      "\n",
      "See the caveats in the documentation: https://pandas.pydata.org/pandas-docs/stable/user_guide/indexing.html#returning-a-view-versus-a-copy\n",
      "\n",
      "C:\\Users\\thele\\AppData\\Local\\Temp\\ipykernel_46688\\3405047285.py:7: SettingWithCopyWarning:\n",
      "\n",
      "\n",
      "A value is trying to be set on a copy of a slice from a DataFrame\n",
      "\n",
      "See the caveats in the documentation: https://pandas.pydata.org/pandas-docs/stable/user_guide/indexing.html#returning-a-view-versus-a-copy\n",
      "\n",
      "C:\\Users\\thele\\AppData\\Local\\Temp\\ipykernel_46688\\3405047285.py:7: SettingWithCopyWarning:\n",
      "\n",
      "\n",
      "A value is trying to be set on a copy of a slice from a DataFrame\n",
      "\n",
      "See the caveats in the documentation: https://pandas.pydata.org/pandas-docs/stable/user_guide/indexing.html#returning-a-view-versus-a-copy\n",
      "\n",
      "C:\\Users\\thele\\AppData\\Local\\Temp\\ipykernel_46688\\3405047285.py:7: SettingWithCopyWarning:\n",
      "\n",
      "\n",
      "A value is trying to be set on a copy of a slice from a DataFrame\n",
      "\n",
      "See the caveats in the documentation: https://pandas.pydata.org/pandas-docs/stable/user_guide/indexing.html#returning-a-view-versus-a-copy\n",
      "\n",
      "C:\\Users\\thele\\AppData\\Local\\Temp\\ipykernel_46688\\3405047285.py:5: SettingWithCopyWarning:\n",
      "\n",
      "\n",
      "A value is trying to be set on a copy of a slice from a DataFrame\n",
      "\n",
      "See the caveats in the documentation: https://pandas.pydata.org/pandas-docs/stable/user_guide/indexing.html#returning-a-view-versus-a-copy\n",
      "\n",
      "C:\\Users\\thele\\AppData\\Local\\Temp\\ipykernel_46688\\3405047285.py:5: SettingWithCopyWarning:\n",
      "\n",
      "\n",
      "A value is trying to be set on a copy of a slice from a DataFrame\n",
      "\n",
      "See the caveats in the documentation: https://pandas.pydata.org/pandas-docs/stable/user_guide/indexing.html#returning-a-view-versus-a-copy\n",
      "\n",
      "C:\\Users\\thele\\AppData\\Local\\Temp\\ipykernel_46688\\3405047285.py:5: SettingWithCopyWarning:\n",
      "\n",
      "\n",
      "A value is trying to be set on a copy of a slice from a DataFrame\n",
      "\n",
      "See the caveats in the documentation: https://pandas.pydata.org/pandas-docs/stable/user_guide/indexing.html#returning-a-view-versus-a-copy\n",
      "\n",
      "C:\\Users\\thele\\AppData\\Local\\Temp\\ipykernel_46688\\3405047285.py:5: SettingWithCopyWarning:\n",
      "\n",
      "\n",
      "A value is trying to be set on a copy of a slice from a DataFrame\n",
      "\n",
      "See the caveats in the documentation: https://pandas.pydata.org/pandas-docs/stable/user_guide/indexing.html#returning-a-view-versus-a-copy\n",
      "\n",
      "C:\\Users\\thele\\AppData\\Local\\Temp\\ipykernel_46688\\3405047285.py:5: SettingWithCopyWarning:\n",
      "\n",
      "\n",
      "A value is trying to be set on a copy of a slice from a DataFrame\n",
      "\n",
      "See the caveats in the documentation: https://pandas.pydata.org/pandas-docs/stable/user_guide/indexing.html#returning-a-view-versus-a-copy\n",
      "\n",
      "C:\\Users\\thele\\AppData\\Local\\Temp\\ipykernel_46688\\3405047285.py:5: SettingWithCopyWarning:\n",
      "\n",
      "\n",
      "A value is trying to be set on a copy of a slice from a DataFrame\n",
      "\n",
      "See the caveats in the documentation: https://pandas.pydata.org/pandas-docs/stable/user_guide/indexing.html#returning-a-view-versus-a-copy\n",
      "\n",
      "C:\\Users\\thele\\AppData\\Local\\Temp\\ipykernel_46688\\3405047285.py:5: SettingWithCopyWarning:\n",
      "\n",
      "\n",
      "A value is trying to be set on a copy of a slice from a DataFrame\n",
      "\n",
      "See the caveats in the documentation: https://pandas.pydata.org/pandas-docs/stable/user_guide/indexing.html#returning-a-view-versus-a-copy\n",
      "\n",
      "C:\\Users\\thele\\AppData\\Local\\Temp\\ipykernel_46688\\3405047285.py:5: SettingWithCopyWarning:\n",
      "\n",
      "\n",
      "A value is trying to be set on a copy of a slice from a DataFrame\n",
      "\n",
      "See the caveats in the documentation: https://pandas.pydata.org/pandas-docs/stable/user_guide/indexing.html#returning-a-view-versus-a-copy\n",
      "\n",
      "C:\\Users\\thele\\AppData\\Local\\Temp\\ipykernel_46688\\3405047285.py:9: SettingWithCopyWarning:\n",
      "\n",
      "\n",
      "A value is trying to be set on a copy of a slice from a DataFrame\n",
      "\n",
      "See the caveats in the documentation: https://pandas.pydata.org/pandas-docs/stable/user_guide/indexing.html#returning-a-view-versus-a-copy\n",
      "\n",
      "C:\\Users\\thele\\AppData\\Local\\Temp\\ipykernel_46688\\3405047285.py:9: SettingWithCopyWarning:\n",
      "\n",
      "\n",
      "A value is trying to be set on a copy of a slice from a DataFrame\n",
      "\n",
      "See the caveats in the documentation: https://pandas.pydata.org/pandas-docs/stable/user_guide/indexing.html#returning-a-view-versus-a-copy\n",
      "\n",
      "C:\\Users\\thele\\AppData\\Local\\Temp\\ipykernel_46688\\3405047285.py:9: SettingWithCopyWarning:\n",
      "\n",
      "\n",
      "A value is trying to be set on a copy of a slice from a DataFrame\n",
      "\n",
      "See the caveats in the documentation: https://pandas.pydata.org/pandas-docs/stable/user_guide/indexing.html#returning-a-view-versus-a-copy\n",
      "\n",
      "C:\\Users\\thele\\AppData\\Local\\Temp\\ipykernel_46688\\3405047285.py:9: SettingWithCopyWarning:\n",
      "\n",
      "\n",
      "A value is trying to be set on a copy of a slice from a DataFrame\n",
      "\n",
      "See the caveats in the documentation: https://pandas.pydata.org/pandas-docs/stable/user_guide/indexing.html#returning-a-view-versus-a-copy\n",
      "\n",
      "C:\\Users\\thele\\AppData\\Local\\Temp\\ipykernel_46688\\3405047285.py:9: SettingWithCopyWarning:\n",
      "\n",
      "\n",
      "A value is trying to be set on a copy of a slice from a DataFrame\n",
      "\n",
      "See the caveats in the documentation: https://pandas.pydata.org/pandas-docs/stable/user_guide/indexing.html#returning-a-view-versus-a-copy\n",
      "\n",
      "C:\\Users\\thele\\AppData\\Local\\Temp\\ipykernel_46688\\3405047285.py:9: SettingWithCopyWarning:\n",
      "\n",
      "\n",
      "A value is trying to be set on a copy of a slice from a DataFrame\n",
      "\n",
      "See the caveats in the documentation: https://pandas.pydata.org/pandas-docs/stable/user_guide/indexing.html#returning-a-view-versus-a-copy\n",
      "\n",
      "C:\\Users\\thele\\AppData\\Local\\Temp\\ipykernel_46688\\3405047285.py:9: SettingWithCopyWarning:\n",
      "\n",
      "\n",
      "A value is trying to be set on a copy of a slice from a DataFrame\n",
      "\n",
      "See the caveats in the documentation: https://pandas.pydata.org/pandas-docs/stable/user_guide/indexing.html#returning-a-view-versus-a-copy\n",
      "\n",
      "C:\\Users\\thele\\AppData\\Local\\Temp\\ipykernel_46688\\3405047285.py:9: SettingWithCopyWarning:\n",
      "\n",
      "\n",
      "A value is trying to be set on a copy of a slice from a DataFrame\n",
      "\n",
      "See the caveats in the documentation: https://pandas.pydata.org/pandas-docs/stable/user_guide/indexing.html#returning-a-view-versus-a-copy\n",
      "\n",
      "C:\\Users\\thele\\AppData\\Local\\Temp\\ipykernel_46688\\3405047285.py:9: SettingWithCopyWarning:\n",
      "\n",
      "\n",
      "A value is trying to be set on a copy of a slice from a DataFrame\n",
      "\n",
      "See the caveats in the documentation: https://pandas.pydata.org/pandas-docs/stable/user_guide/indexing.html#returning-a-view-versus-a-copy\n",
      "\n",
      "C:\\Users\\thele\\AppData\\Local\\Temp\\ipykernel_46688\\3405047285.py:9: SettingWithCopyWarning:\n",
      "\n",
      "\n",
      "A value is trying to be set on a copy of a slice from a DataFrame\n",
      "\n",
      "See the caveats in the documentation: https://pandas.pydata.org/pandas-docs/stable/user_guide/indexing.html#returning-a-view-versus-a-copy\n",
      "\n",
      "C:\\Users\\thele\\AppData\\Local\\Temp\\ipykernel_46688\\3405047285.py:9: SettingWithCopyWarning:\n",
      "\n",
      "\n",
      "A value is trying to be set on a copy of a slice from a DataFrame\n",
      "\n",
      "See the caveats in the documentation: https://pandas.pydata.org/pandas-docs/stable/user_guide/indexing.html#returning-a-view-versus-a-copy\n",
      "\n",
      "C:\\Users\\thele\\AppData\\Local\\Temp\\ipykernel_46688\\3405047285.py:9: SettingWithCopyWarning:\n",
      "\n",
      "\n",
      "A value is trying to be set on a copy of a slice from a DataFrame\n",
      "\n",
      "See the caveats in the documentation: https://pandas.pydata.org/pandas-docs/stable/user_guide/indexing.html#returning-a-view-versus-a-copy\n",
      "\n",
      "C:\\Users\\thele\\AppData\\Local\\Temp\\ipykernel_46688\\3405047285.py:9: SettingWithCopyWarning:\n",
      "\n",
      "\n",
      "A value is trying to be set on a copy of a slice from a DataFrame\n",
      "\n",
      "See the caveats in the documentation: https://pandas.pydata.org/pandas-docs/stable/user_guide/indexing.html#returning-a-view-versus-a-copy\n",
      "\n",
      "C:\\Users\\thele\\AppData\\Local\\Temp\\ipykernel_46688\\3405047285.py:9: SettingWithCopyWarning:\n",
      "\n",
      "\n",
      "A value is trying to be set on a copy of a slice from a DataFrame\n",
      "\n",
      "See the caveats in the documentation: https://pandas.pydata.org/pandas-docs/stable/user_guide/indexing.html#returning-a-view-versus-a-copy\n",
      "\n",
      "C:\\Users\\thele\\AppData\\Local\\Temp\\ipykernel_46688\\3405047285.py:9: SettingWithCopyWarning:\n",
      "\n",
      "\n",
      "A value is trying to be set on a copy of a slice from a DataFrame\n",
      "\n",
      "See the caveats in the documentation: https://pandas.pydata.org/pandas-docs/stable/user_guide/indexing.html#returning-a-view-versus-a-copy\n",
      "\n",
      "C:\\Users\\thele\\AppData\\Local\\Temp\\ipykernel_46688\\3405047285.py:9: SettingWithCopyWarning:\n",
      "\n",
      "\n",
      "A value is trying to be set on a copy of a slice from a DataFrame\n",
      "\n",
      "See the caveats in the documentation: https://pandas.pydata.org/pandas-docs/stable/user_guide/indexing.html#returning-a-view-versus-a-copy\n",
      "\n",
      "C:\\Users\\thele\\AppData\\Local\\Temp\\ipykernel_46688\\3405047285.py:9: SettingWithCopyWarning:\n",
      "\n",
      "\n",
      "A value is trying to be set on a copy of a slice from a DataFrame\n",
      "\n",
      "See the caveats in the documentation: https://pandas.pydata.org/pandas-docs/stable/user_guide/indexing.html#returning-a-view-versus-a-copy\n",
      "\n",
      "C:\\Users\\thele\\AppData\\Local\\Temp\\ipykernel_46688\\3405047285.py:9: SettingWithCopyWarning:\n",
      "\n",
      "\n",
      "A value is trying to be set on a copy of a slice from a DataFrame\n",
      "\n",
      "See the caveats in the documentation: https://pandas.pydata.org/pandas-docs/stable/user_guide/indexing.html#returning-a-view-versus-a-copy\n",
      "\n",
      "C:\\Users\\thele\\AppData\\Local\\Temp\\ipykernel_46688\\3405047285.py:9: SettingWithCopyWarning:\n",
      "\n",
      "\n",
      "A value is trying to be set on a copy of a slice from a DataFrame\n",
      "\n",
      "See the caveats in the documentation: https://pandas.pydata.org/pandas-docs/stable/user_guide/indexing.html#returning-a-view-versus-a-copy\n",
      "\n",
      "C:\\Users\\thele\\AppData\\Local\\Temp\\ipykernel_46688\\3405047285.py:9: SettingWithCopyWarning:\n",
      "\n",
      "\n",
      "A value is trying to be set on a copy of a slice from a DataFrame\n",
      "\n",
      "See the caveats in the documentation: https://pandas.pydata.org/pandas-docs/stable/user_guide/indexing.html#returning-a-view-versus-a-copy\n",
      "\n",
      "C:\\Users\\thele\\AppData\\Local\\Temp\\ipykernel_46688\\3405047285.py:9: SettingWithCopyWarning:\n",
      "\n",
      "\n",
      "A value is trying to be set on a copy of a slice from a DataFrame\n",
      "\n",
      "See the caveats in the documentation: https://pandas.pydata.org/pandas-docs/stable/user_guide/indexing.html#returning-a-view-versus-a-copy\n",
      "\n",
      "C:\\Users\\thele\\AppData\\Local\\Temp\\ipykernel_46688\\3405047285.py:9: SettingWithCopyWarning:\n",
      "\n",
      "\n",
      "A value is trying to be set on a copy of a slice from a DataFrame\n",
      "\n",
      "See the caveats in the documentation: https://pandas.pydata.org/pandas-docs/stable/user_guide/indexing.html#returning-a-view-versus-a-copy\n",
      "\n",
      "C:\\Users\\thele\\AppData\\Local\\Temp\\ipykernel_46688\\3405047285.py:9: SettingWithCopyWarning:\n",
      "\n",
      "\n",
      "A value is trying to be set on a copy of a slice from a DataFrame\n",
      "\n",
      "See the caveats in the documentation: https://pandas.pydata.org/pandas-docs/stable/user_guide/indexing.html#returning-a-view-versus-a-copy\n",
      "\n",
      "C:\\Users\\thele\\AppData\\Local\\Temp\\ipykernel_46688\\3405047285.py:9: SettingWithCopyWarning:\n",
      "\n",
      "\n",
      "A value is trying to be set on a copy of a slice from a DataFrame\n",
      "\n",
      "See the caveats in the documentation: https://pandas.pydata.org/pandas-docs/stable/user_guide/indexing.html#returning-a-view-versus-a-copy\n",
      "\n",
      "C:\\Users\\thele\\AppData\\Local\\Temp\\ipykernel_46688\\3405047285.py:9: SettingWithCopyWarning:\n",
      "\n",
      "\n",
      "A value is trying to be set on a copy of a slice from a DataFrame\n",
      "\n",
      "See the caveats in the documentation: https://pandas.pydata.org/pandas-docs/stable/user_guide/indexing.html#returning-a-view-versus-a-copy\n",
      "\n",
      "C:\\Users\\thele\\AppData\\Local\\Temp\\ipykernel_46688\\3405047285.py:9: SettingWithCopyWarning:\n",
      "\n",
      "\n",
      "A value is trying to be set on a copy of a slice from a DataFrame\n",
      "\n",
      "See the caveats in the documentation: https://pandas.pydata.org/pandas-docs/stable/user_guide/indexing.html#returning-a-view-versus-a-copy\n",
      "\n",
      "C:\\Users\\thele\\AppData\\Local\\Temp\\ipykernel_46688\\3405047285.py:9: SettingWithCopyWarning:\n",
      "\n",
      "\n",
      "A value is trying to be set on a copy of a slice from a DataFrame\n",
      "\n",
      "See the caveats in the documentation: https://pandas.pydata.org/pandas-docs/stable/user_guide/indexing.html#returning-a-view-versus-a-copy\n",
      "\n",
      "C:\\Users\\thele\\AppData\\Local\\Temp\\ipykernel_46688\\3405047285.py:9: SettingWithCopyWarning:\n",
      "\n",
      "\n",
      "A value is trying to be set on a copy of a slice from a DataFrame\n",
      "\n",
      "See the caveats in the documentation: https://pandas.pydata.org/pandas-docs/stable/user_guide/indexing.html#returning-a-view-versus-a-copy\n",
      "\n",
      "C:\\Users\\thele\\AppData\\Local\\Temp\\ipykernel_46688\\3405047285.py:9: SettingWithCopyWarning:\n",
      "\n",
      "\n",
      "A value is trying to be set on a copy of a slice from a DataFrame\n",
      "\n",
      "See the caveats in the documentation: https://pandas.pydata.org/pandas-docs/stable/user_guide/indexing.html#returning-a-view-versus-a-copy\n",
      "\n"
     ]
    }
   ],
   "source": [
    "#depending on line, set the avg, weekly ridership to the values we extracted above.\n",
    "for i in range(len(df)):\n",
    "    if df[\"Line\"][i] == \"A\":\n",
    "        df[\"Average Weekday Ridership\"][i] = ARidership\n",
    "    elif df[\"Line\"][i] == \"B\" or df[\"Line\"][i] == \"D\":\n",
    "        df[\"Average Weekday Ridership\"][i] = BDRidership\n",
    "    elif df[\"Line\"][i] == \"C\":\n",
    "        df[\"Average Weekday Ridership\"][i] = CRidership\n",
    "    elif df[\"Line\"][i] == \"E\":\n",
    "        df[\"Average Weekday Ridership\"][i] = ERidership"
   ]
  },
  {
   "cell_type": "markdown",
   "metadata": {},
   "source": [
    "The B and D line ridership is the highest value, so we will scale the weights based on this value as a percentage. Then, we will multiply the values by a constant so that the resulting sizes are proportional to the percentage of system ridership that each line takes up, and also shows up significantly large enough on the plotly scatter mapbox plot."
   ]
  },
  {
   "cell_type": "code",
   "execution_count": 14,
   "metadata": {},
   "outputs": [],
   "source": [
    "#ridership plot node size formula\n",
    "#df[\"Rough Line Weight\"] is the column we are creating with the adjusted weights\n",
    "#df[\"Average Weekday Ridership\"] is the column storing the line ridership data for each station\n",
    "#BDRidership is the ridership of the line with the highest ridership, the B and D lines. Their data was combined together as they essentially operate as the same line.\n",
    "df[\"Rough Line Weight\"] = (df[\"Average Weekday Ridership\"] / BDRidership) * 25"
   ]
  },
  {
   "cell_type": "markdown",
   "metadata": {},
   "source": [
    "Let's preview the data again to check how it currently looks."
   ]
  },
  {
   "cell_type": "code",
   "execution_count": 15,
   "metadata": {},
   "outputs": [
    {
     "data": {
      "text/html": [
       "<div>\n",
       "<style scoped>\n",
       "    .dataframe tbody tr th:only-of-type {\n",
       "        vertical-align: middle;\n",
       "    }\n",
       "\n",
       "    .dataframe tbody tr th {\n",
       "        vertical-align: top;\n",
       "    }\n",
       "\n",
       "    .dataframe thead th {\n",
       "        text-align: right;\n",
       "    }\n",
       "</style>\n",
       "<table border=\"1\" class=\"dataframe\">\n",
       "  <thead>\n",
       "    <tr style=\"text-align: right;\">\n",
       "      <th></th>\n",
       "      <th>Unnamed: 0</th>\n",
       "      <th>OBJECTID</th>\n",
       "      <th>post_id</th>\n",
       "      <th>Latitude</th>\n",
       "      <th>Longitude</th>\n",
       "      <th>Name</th>\n",
       "      <th>Lines</th>\n",
       "      <th>Line</th>\n",
       "      <th>Average Weekday Ridership</th>\n",
       "      <th>Rough Line Weight</th>\n",
       "    </tr>\n",
       "  </thead>\n",
       "  <tbody>\n",
       "    <tr>\n",
       "      <th>0</th>\n",
       "      <td>31.0</td>\n",
       "      <td>72744</td>\n",
       "      <td>3306158</td>\n",
       "      <td>33.773603</td>\n",
       "      <td>-118.189424</td>\n",
       "      <td>5th Street Station</td>\n",
       "      <td>['Blue']</td>\n",
       "      <td>A</td>\n",
       "      <td>31752</td>\n",
       "      <td>9.780439</td>\n",
       "    </tr>\n",
       "    <tr>\n",
       "      <th>1</th>\n",
       "      <td>NaN</td>\n",
       "      <td>72743</td>\n",
       "      <td>3306157</td>\n",
       "      <td>33.768745</td>\n",
       "      <td>-118.189374</td>\n",
       "      <td>1st Street Station</td>\n",
       "      <td>['Blue']</td>\n",
       "      <td>A</td>\n",
       "      <td>31752</td>\n",
       "      <td>9.780439</td>\n",
       "    </tr>\n",
       "    <tr>\n",
       "      <th>2</th>\n",
       "      <td>0.0</td>\n",
       "      <td>72713</td>\n",
       "      <td>3306127</td>\n",
       "      <td>33.768076</td>\n",
       "      <td>-118.192933</td>\n",
       "      <td>Downtown Long Beach Station</td>\n",
       "      <td>['Blue']</td>\n",
       "      <td>A</td>\n",
       "      <td>31752</td>\n",
       "      <td>9.780439</td>\n",
       "    </tr>\n",
       "    <tr>\n",
       "      <th>3</th>\n",
       "      <td>1.0</td>\n",
       "      <td>72714</td>\n",
       "      <td>3306128</td>\n",
       "      <td>33.772263</td>\n",
       "      <td>-118.193712</td>\n",
       "      <td>Pacific Ave Station</td>\n",
       "      <td>['Blue']</td>\n",
       "      <td>A</td>\n",
       "      <td>31752</td>\n",
       "      <td>9.780439</td>\n",
       "    </tr>\n",
       "    <tr>\n",
       "      <th>4</th>\n",
       "      <td>2.0</td>\n",
       "      <td>72715</td>\n",
       "      <td>3306129</td>\n",
       "      <td>33.781835</td>\n",
       "      <td>-118.189396</td>\n",
       "      <td>Anaheim Street Station</td>\n",
       "      <td>['Blue']</td>\n",
       "      <td>A</td>\n",
       "      <td>31752</td>\n",
       "      <td>9.780439</td>\n",
       "    </tr>\n",
       "    <tr>\n",
       "      <th>...</th>\n",
       "      <td>...</td>\n",
       "      <td>...</td>\n",
       "      <td>...</td>\n",
       "      <td>...</td>\n",
       "      <td>...</td>\n",
       "      <td>...</td>\n",
       "      <td>...</td>\n",
       "      <td>...</td>\n",
       "      <td>...</td>\n",
       "      <td>...</td>\n",
       "    </tr>\n",
       "    <tr>\n",
       "      <th>135</th>\n",
       "      <td>122.0</td>\n",
       "      <td>72835</td>\n",
       "      <td>3306249</td>\n",
       "      <td>33.967299</td>\n",
       "      <td>-118.351393</td>\n",
       "      <td>Downtown Inglewood Station</td>\n",
       "      <td>['K']</td>\n",
       "      <td>K</td>\n",
       "      <td>1</td>\n",
       "      <td>0.000308</td>\n",
       "    </tr>\n",
       "    <tr>\n",
       "      <th>136</th>\n",
       "      <td>123.0</td>\n",
       "      <td>72836</td>\n",
       "      <td>3306250</td>\n",
       "      <td>33.962021</td>\n",
       "      <td>-118.374455</td>\n",
       "      <td>Westchester/Veterans Station</td>\n",
       "      <td>['K']</td>\n",
       "      <td>K</td>\n",
       "      <td>1</td>\n",
       "      <td>0.000308</td>\n",
       "    </tr>\n",
       "    <tr>\n",
       "      <th>137</th>\n",
       "      <td>124.0</td>\n",
       "      <td>72837</td>\n",
       "      <td>3306251</td>\n",
       "      <td>33.949625</td>\n",
       "      <td>-118.378663</td>\n",
       "      <td>LAX/Metro Transit Center Station</td>\n",
       "      <td>['K']</td>\n",
       "      <td>K</td>\n",
       "      <td>1</td>\n",
       "      <td>0.000308</td>\n",
       "    </tr>\n",
       "    <tr>\n",
       "      <th>138</th>\n",
       "      <td>125.0</td>\n",
       "      <td>72838</td>\n",
       "      <td>3306252</td>\n",
       "      <td>33.945678</td>\n",
       "      <td>-118.378703</td>\n",
       "      <td>Aviation/Century Station</td>\n",
       "      <td>['K']</td>\n",
       "      <td>K</td>\n",
       "      <td>1</td>\n",
       "      <td>0.000308</td>\n",
       "    </tr>\n",
       "    <tr>\n",
       "      <th>139</th>\n",
       "      <td>126.0</td>\n",
       "      <td>72839</td>\n",
       "      <td>3306253</td>\n",
       "      <td>33.929635</td>\n",
       "      <td>-118.377271</td>\n",
       "      <td>Aviation/LAX Station</td>\n",
       "      <td>['K']</td>\n",
       "      <td>K</td>\n",
       "      <td>1</td>\n",
       "      <td>0.000308</td>\n",
       "    </tr>\n",
       "  </tbody>\n",
       "</table>\n",
       "<p>140 rows × 10 columns</p>\n",
       "</div>"
      ],
      "text/plain": [
       "     Unnamed: 0  OBJECTID  post_id   Latitude   Longitude  \\\n",
       "0          31.0     72744  3306158  33.773603 -118.189424   \n",
       "1           NaN     72743  3306157  33.768745 -118.189374   \n",
       "2           0.0     72713  3306127  33.768076 -118.192933   \n",
       "3           1.0     72714  3306128  33.772263 -118.193712   \n",
       "4           2.0     72715  3306129  33.781835 -118.189396   \n",
       "..          ...       ...      ...        ...         ...   \n",
       "135       122.0     72835  3306249  33.967299 -118.351393   \n",
       "136       123.0     72836  3306250  33.962021 -118.374455   \n",
       "137       124.0     72837  3306251  33.949625 -118.378663   \n",
       "138       125.0     72838  3306252  33.945678 -118.378703   \n",
       "139       126.0     72839  3306253  33.929635 -118.377271   \n",
       "\n",
       "                                 Name     Lines Line  \\\n",
       "0                  5th Street Station  ['Blue']    A   \n",
       "1                  1st Street Station  ['Blue']    A   \n",
       "2         Downtown Long Beach Station  ['Blue']    A   \n",
       "3                 Pacific Ave Station  ['Blue']    A   \n",
       "4              Anaheim Street Station  ['Blue']    A   \n",
       "..                                ...       ...  ...   \n",
       "135        Downtown Inglewood Station     ['K']    K   \n",
       "136      Westchester/Veterans Station     ['K']    K   \n",
       "137  LAX/Metro Transit Center Station     ['K']    K   \n",
       "138          Aviation/Century Station     ['K']    K   \n",
       "139              Aviation/LAX Station     ['K']    K   \n",
       "\n",
       "     Average Weekday Ridership  Rough Line Weight  \n",
       "0                        31752           9.780439  \n",
       "1                        31752           9.780439  \n",
       "2                        31752           9.780439  \n",
       "3                        31752           9.780439  \n",
       "4                        31752           9.780439  \n",
       "..                         ...                ...  \n",
       "135                          1           0.000308  \n",
       "136                          1           0.000308  \n",
       "137                          1           0.000308  \n",
       "138                          1           0.000308  \n",
       "139                          1           0.000308  \n",
       "\n",
       "[140 rows x 10 columns]"
      ]
     },
     "execution_count": 15,
     "metadata": {},
     "output_type": "execute_result"
    }
   ],
   "source": [
    "df"
   ]
  },
  {
   "cell_type": "markdown",
   "metadata": {},
   "source": [
    "We can now plot the stations based on ridership weight. Again, a line plot would have been ideal for this, but plotly's line_mapbox does not allow for changing the width of the lines, which is pretty unfortunate. For this graph, the G and K lines are minimized as we do not have adequate ridership data for either, but they still appear on the map for the sake of marking their existence."
   ]
  },
  {
   "cell_type": "code",
   "execution_count": 16,
   "metadata": {},
   "outputs": [
    {
     "data": {
      "application/vnd.plotly.v1+json": {
       "config": {
        "plotlyServerURL": "https://plot.ly"
       },
       "data": [
        {
         "hovertemplate": "<b>%{hovertext}</b><br><br>Line=A<br>Rough Line Weight=%{marker.size}<br>Latitude=%{lat}<br>Longitude=%{lon}<extra></extra>",
         "hovertext": [
          "5th Street Station",
          "1st Street Station",
          "Downtown Long Beach Station",
          "Pacific Ave Station",
          "Anaheim Street Station",
          "Pacific Coast Hwy Station",
          "Willow Street Station",
          "Wardlow Station",
          "Del Amo Station",
          "Artesia Station",
          "Compton Station",
          "Willowbrook - Rosa Parks Station",
          "103rd Street / Watts Towers  Station",
          "Firestone Station",
          "Florence Station",
          "Slauson Station",
          "Vernon Station",
          "Washington Station",
          "San Pedro Street Station",
          "Grand / LATTC Station",
          "Pico Station",
          "7th Street / Metro Center Station",
          "Grand Av Arts/Bunker Hill",
          "Historic Broadway",
          "Little Tokyo/Arts District",
          "Union Station",
          "Chinatown Station",
          "Lincoln Heights / Cypress Park Station",
          "Heritage Square / Arroyo Station",
          "Southwest Museum Station",
          "Highland Park Station",
          "South Pasadena Station",
          "Fillmore Station",
          "Del Mar Station",
          "Memorial Park Station",
          "Lake Station",
          "Allen Station",
          "Sierra Madre Villa Station",
          "Arcadia Station",
          "Monrovia Station",
          "Duarte / City of Hope Station",
          "Irwindale Station",
          "Azusa Downtown Station",
          "APU / Citrus College Station"
         ],
         "lat": [
          33.77360283,
          33.76874483,
          33.76807583,
          33.77226283,
          33.78183483,
          33.78909483,
          33.80708383,
          33.81986983,
          33.84822684,
          33.87608684,
          33.89749484,
          33.92805284,
          33.94222484,
          33.95961585,
          33.97374485,
          33.98876485,
          34.00292485,
          34.01965485,
          34.02681185,
          34.03315985,
          34.04073985,
          34.04861486,
          34.05475059,
          34.05203893,
          34.04884218,
          34.05606586,
          34.06386586,
          34.08095386,
          34.08723186,
          34.09824786,
          34.11118387,
          34.11519087,
          34.13352587,
          34.14191487,
          34.14836087,
          34.15181087,
          34.15242187,
          34.14775688,
          34.14286488,
          34.13315988,
          34.13252288,
          34.12905288,
          34.13586788,
          34.13681889
         ],
         "legendgroup": "A",
         "lon": [
          -118.1894242,
          -118.1893742,
          -118.1929332,
          -118.1937122,
          -118.1893962,
          -118.1893942,
          -118.1898462,
          -118.1961022,
          -118.2110292,
          -118.2225152,
          -118.2242612,
          -118.2375672,
          -118.2431712,
          -118.2432172,
          -118.2432832,
          -118.2434102,
          -118.2433152,
          -118.2430962,
          -118.2555172,
          -118.2693452,
          -118.2661302,
          -118.2588342,
          -118.2512082,
          -118.2461664,
          -118.2387869,
          -118.2347712,
          -118.2358522,
          -118.2204412,
          -118.2132252,
          -118.2067242,
          -118.1926182,
          -118.1578982,
          -118.1481382,
          -118.1482262,
          -118.1475242,
          -118.1314022,
          -118.1143602,
          -118.0812242,
          -118.0292112,
          -118.0034852,
          -117.9676922,
          -117.9325181,
          -117.9066431,
          -117.8916481
         ],
         "marker": {
          "color": "#636efa",
          "size": [
           9.780439121756487,
           9.780439121756487,
           9.780439121756487,
           9.780439121756487,
           9.780439121756487,
           9.780439121756487,
           9.780439121756487,
           9.780439121756487,
           9.780439121756487,
           9.780439121756487,
           9.780439121756487,
           9.780439121756487,
           9.780439121756487,
           9.780439121756487,
           9.780439121756487,
           9.780439121756487,
           9.780439121756487,
           9.780439121756487,
           9.780439121756487,
           9.780439121756487,
           9.780439121756487,
           9.780439121756487,
           9.780439121756487,
           9.780439121756487,
           9.780439121756487,
           9.780439121756487,
           9.780439121756487,
           9.780439121756487,
           9.780439121756487,
           9.780439121756487,
           9.780439121756487,
           9.780439121756487,
           9.780439121756487,
           9.780439121756487,
           9.780439121756487,
           9.780439121756487,
           9.780439121756487,
           9.780439121756487,
           9.780439121756487,
           9.780439121756487,
           9.780439121756487,
           9.780439121756487,
           9.780439121756487,
           9.780439121756487
          ],
          "sizemode": "area",
          "sizeref": 0.0625
         },
         "mode": "markers",
         "name": "A",
         "showlegend": true,
         "subplot": "mapbox",
         "type": "scattermapbox"
        },
        {
         "hovertemplate": "<b>%{hovertext}</b><br><br>Line=B<br>Rough Line Weight=%{marker.size}<br>Latitude=%{lat}<br>Longitude=%{lon}<extra></extra>",
         "hovertext": [
          "North Hollywood Station",
          "Universal / Studio City Station",
          "Hollywood / Highland Station",
          "Hollywood / Vine Station",
          "Hollywood / Western Station",
          "Vermont / Sunset Station",
          "Vermont / Santa Monica Station",
          "Vermont / Beverly Station",
          "Wilshire / Vermont Station",
          "Westlake / MacArthur Park Station",
          "7th Street / Metro Center Station",
          "Pershing Square Station",
          "Civic Center / Grand Park Station",
          "Union Station"
         ],
         "lat": [
          34.16850886,
          34.14000686,
          34.10155186,
          34.10163486,
          34.10174186,
          34.09771286,
          34.08991486,
          34.07653086,
          34.06270585,
          34.05637286,
          34.04863885,
          34.04932086,
          34.05490486,
          34.05620186
         ],
         "legendgroup": "B",
         "lon": [
          -118.3768202,
          -118.3627112,
          -118.3385612,
          -118.3251922,
          -118.3081292,
          -118.2917682,
          -118.2917422,
          -118.2916982,
          -118.2900942,
          -118.2748912,
          -118.2586942,
          -118.2512712,
          -118.2460692,
          -118.2342612
         ],
         "marker": {
          "color": "#EF553B",
          "size": [
           25,
           25,
           25,
           25,
           25,
           25,
           25,
           25,
           25,
           25,
           25,
           25,
           25,
           25
          ],
          "sizemode": "area",
          "sizeref": 0.0625
         },
         "mode": "markers",
         "name": "B",
         "showlegend": true,
         "subplot": "mapbox",
         "type": "scattermapbox"
        },
        {
         "hovertemplate": "<b>%{hovertext}</b><br><br>Line=C<br>Rough Line Weight=%{marker.size}<br>Latitude=%{lat}<br>Longitude=%{lon}<extra></extra>",
         "hovertext": [
          "Redondo Beach Station",
          "Douglas Station",
          "El Segundo Station",
          "Mariposa Station",
          "Aviation / LAX Station",
          "Hawthorne / Lennox Station",
          "Crenshaw Station",
          "Vermont / Athens Station",
          "Harbor Freeway Station",
          "Avalon Station",
          "Willowbrook - Rosa Parks Station",
          "Long Beach Blvd Station",
          "Lakewood Blvd Station",
          "Norwalk Station"
         ],
         "lat": [
          33.89464483,
          33.90530383,
          33.91606783,
          33.92320483,
          33.92962583,
          33.93341284,
          33.92520584,
          33.92868784,
          33.92871884,
          33.92746984,
          33.92826284,
          33.92488484,
          33.91307485,
          33.91403785
         ],
         "legendgroup": "C",
         "lon": [
          -118.3692082,
          -118.3831252,
          -118.3865512,
          -118.3875842,
          -118.3771462,
          -118.3516142,
          -118.3265622,
          -118.2917452,
          -118.2811122,
          -118.2652292,
          -118.2380642,
          -118.2099572,
          -118.1406122,
          -118.1047292
         ],
         "marker": {
          "color": "#00cc96",
          "size": [
           5.185000369631108,
           5.185000369631108,
           5.185000369631108,
           5.185000369631108,
           5.185000369631108,
           5.185000369631108,
           5.185000369631108,
           5.185000369631108,
           5.185000369631108,
           5.185000369631108,
           5.185000369631108,
           5.185000369631108,
           5.185000369631108,
           5.185000369631108
          ],
          "sizemode": "area",
          "sizeref": 0.0625
         },
         "mode": "markers",
         "name": "C",
         "showlegend": true,
         "subplot": "mapbox",
         "type": "scattermapbox"
        },
        {
         "hovertemplate": "<b>%{hovertext}</b><br><br>Line=D<br>Rough Line Weight=%{marker.size}<br>Latitude=%{lat}<br>Longitude=%{lon}<extra></extra>",
         "hovertext": [
          "Wilshire / Western Station",
          "Wilshire / Normandie Station",
          "Wilshire / Vermont Station",
          "Westlake / MacArthur Park Station",
          "7th Street / Metro Center Station",
          "Pershing Square Station",
          "Civic Center / Grand Park Station",
          "Union Station"
         ],
         "lat": [
          34.06169385,
          34.06175785,
          34.06270585,
          34.05637286,
          34.04863885,
          34.04932086,
          34.05490486,
          34.05620186
         ],
         "legendgroup": "D",
         "lon": [
          -118.3087682,
          -118.3014702,
          -118.2900942,
          -118.2748912,
          -118.2586942,
          -118.2512712,
          -118.2460692,
          -118.2342612
         ],
         "marker": {
          "color": "#ab63fa",
          "size": [
           25,
           25,
           25,
           25,
           25,
           25,
           25,
           25
          ],
          "sizemode": "area",
          "sizeref": 0.0625
         },
         "mode": "markers",
         "name": "D",
         "showlegend": true,
         "subplot": "mapbox",
         "type": "scattermapbox"
        },
        {
         "hovertemplate": "<b>%{hovertext}</b><br><br>Line=E<br>Rough Line Weight=%{marker.size}<br>Latitude=%{lat}<br>Longitude=%{lon}<extra></extra>",
         "hovertext": [
          "Atlantic Station",
          "East LA Civic Center Station",
          "Maravilla Station",
          "Indiana Station",
          "Soto Station",
          "Mariachi Plaza / Boyle Heights Station",
          "Pico / Aliso Station",
          "Little Tokyo/Arts District",
          "Historic Broadway",
          "Grand Av Arts/Bunker Hill",
          "7th Street / Metro Center Station",
          "Pico Station",
          "LATTC / Ortho Institute Station",
          "Jefferson / USC Station",
          "Expo Park / USC Station",
          "Expo / Vermont Station",
          "Expo / Western Station",
          "Expo / Crenshaw Station",
          "Farmdale Station",
          "Expo / La Brea Station",
          "La Cienega / Jefferson Station",
          "Culver City Station",
          "Palms Station",
          "Westwood / Rancho Park Station",
          "Expo / Sepulveda Station",
          "Expo / Bundy Station",
          "26th Street / Bergamot Station",
          "17th Street / SMC Station",
          "Downtown Santa Monica Station"
         ],
         "lat": [
          34.03340286,
          34.03336886,
          34.03332386,
          34.03430486,
          34.04375186,
          34.04721986,
          34.04763886,
          34.04884218,
          34.05203893,
          34.05475059,
          34.04861486,
          34.04073985,
          34.02911685,
          34.02212785,
          34.01823185,
          34.01824985,
          34.01833585,
          34.02253085,
          34.02398585,
          34.02480785,
          34.02635985,
          34.02790085,
          34.02932784,
          34.03682084,
          34.03541284,
          34.03170984,
          34.02799984,
          34.02315984,
          34.01401484
         ],
         "legendgroup": "E",
         "lon": [
          -118.1544812,
          -118.1612182,
          -118.1681522,
          -118.1921942,
          -118.2100732,
          -118.2196602,
          -118.2259522,
          -118.2387869,
          -118.2461664,
          -118.2512082,
          -118.2588342,
          -118.2661302,
          -118.2736152,
          -118.2781302,
          -118.2857462,
          -118.2915522,
          -118.3089222,
          -118.3350902,
          -118.3461072,
          -118.3551712,
          -118.3721322,
          -118.3889982,
          -118.4042672,
          -118.4245882,
          -118.4342462,
          -118.4529082,
          -118.4691322,
          -118.4803842,
          -118.4913962
         ],
         "marker": {
          "color": "#FFA15A",
          "size": [
           8.678322367610459,
           8.678322367610459,
           8.678322367610459,
           8.678322367610459,
           8.678322367610459,
           8.678322367610459,
           8.678322367610459,
           8.678322367610459,
           8.678322367610459,
           8.678322367610459,
           8.678322367610459,
           8.678322367610459,
           8.678322367610459,
           8.678322367610459,
           8.678322367610459,
           8.678322367610459,
           8.678322367610459,
           8.678322367610459,
           8.678322367610459,
           8.678322367610459,
           8.678322367610459,
           8.678322367610459,
           8.678322367610459,
           8.678322367610459,
           8.678322367610459,
           8.678322367610459,
           8.678322367610459,
           8.678322367610459,
           8.678322367610459
          ],
          "sizemode": "area",
          "sizeref": 0.0625
         },
         "mode": "markers",
         "name": "E",
         "showlegend": true,
         "subplot": "mapbox",
         "type": "scattermapbox"
        },
        {
         "hovertemplate": "<b>%{hovertext}</b><br><br>Line=G<br>Rough Line Weight=%{marker.size}<br>Latitude=%{lat}<br>Longitude=%{lon}<extra></extra>",
         "hovertext": [
          "Chatsworth Metro Station",
          "Nordhoff Metro Station North Bound",
          "Nordhoff Metro Station South Bound",
          "Roscoe Metro Station North Bound",
          "Roscoe Metro Station South Bound",
          "Sherman Way Metro Station",
          "Canoga Metro Station North-South",
          "Warner Center Metro Station",
          "Canoga Metro Station East-West",
          "De Soto Metro Station",
          "Pierce College Metro Station",
          "Tampa Metro Station",
          "Reseda Metro Station",
          "Balboa Metro Station",
          "Woodley Metro Station",
          "Sepulveda Metro Station",
          "Van Nuys Metro Station",
          "Woodman Metro Station",
          "Valley College Metro Station",
          "Laurel Canyon Metro Station",
          "North Hollywood Metro Station"
         ],
         "lat": [
          34.2521972,
          34.23592131,
          34.23498563,
          34.22047153,
          34.21937541,
          34.20050779,
          34.19136029,
          34.18154485,
          34.19056485,
          34.18871485,
          34.18696485,
          34.18105485,
          34.18045485,
          34.18600486,
          34.18631486,
          34.18085486,
          34.18046486,
          34.17899486,
          34.17176486,
          34.16856486,
          34.16881486
         ],
         "legendgroup": "G",
         "lon": [
          -118.5993797,
          -118.5971927,
          -118.5971931,
          -118.5970328,
          -118.5970485,
          -118.5971486,
          -118.5964455,
          -118.6014123,
          -118.5968923,
          -118.5887023,
          -118.5705623,
          -118.5530923,
          -118.5365023,
          -118.5005822,
          -118.4841522,
          -118.4687622,
          -118.4481522,
          -118.4297122,
          -118.4220922,
          -118.3970522,
          -118.3775322
         ],
         "marker": {
          "color": "#19d3f3",
          "size": [
           0.00030802592346171857,
           0.00030802592346171857,
           0.00030802592346171857,
           0.00030802592346171857,
           0.00030802592346171857,
           0.00030802592346171857,
           0.00030802592346171857,
           0.00030802592346171857,
           0.00030802592346171857,
           0.00030802592346171857,
           0.00030802592346171857,
           0.00030802592346171857,
           0.00030802592346171857,
           0.00030802592346171857,
           0.00030802592346171857,
           0.00030802592346171857,
           0.00030802592346171857,
           0.00030802592346171857,
           0.00030802592346171857,
           0.00030802592346171857,
           0.00030802592346171857
          ],
          "sizemode": "area",
          "sizeref": 0.0625
         },
         "mode": "markers",
         "name": "G",
         "showlegend": true,
         "subplot": "mapbox",
         "type": "scattermapbox"
        },
        {
         "hovertemplate": "<b>%{hovertext}</b><br><br>Line=K<br>Rough Line Weight=%{marker.size}<br>Latitude=%{lat}<br>Longitude=%{lon}<extra></extra>",
         "hovertext": [
          "Expo/Crenshaw Station",
          "Martin Luther King Jr Station",
          "Leimert Park Station",
          "Hyde Park Station",
          "Fairview Heights Station",
          "Downtown Inglewood Station",
          "Westchester/Veterans Station",
          "LAX/Metro Transit Center Station",
          "Aviation/Century Station",
          "Aviation/LAX Station"
         ],
         "lat": [
          34.02245314,
          34.01016656,
          34.00458152,
          33.98828975,
          33.97528429,
          33.96729917,
          33.96202081,
          33.94962547,
          33.94567805,
          33.92963484
         ],
         "legendgroup": "K",
         "lon": [
          -118.3350902,
          -118.335347,
          -118.3326646,
          -118.3308357,
          -118.3360302,
          -118.3513927,
          -118.3744553,
          -118.378663,
          -118.3787027,
          -118.3772708
         ],
         "marker": {
          "color": "#FF6692",
          "size": [
           0.00030802592346171857,
           0.00030802592346171857,
           0.00030802592346171857,
           0.00030802592346171857,
           0.00030802592346171857,
           0.00030802592346171857,
           0.00030802592346171857,
           0.00030802592346171857,
           0.00030802592346171857,
           0.00030802592346171857
          ],
          "sizemode": "area",
          "sizeref": 0.0625
         },
         "mode": "markers",
         "name": "K",
         "showlegend": true,
         "subplot": "mapbox",
         "type": "scattermapbox"
        }
       ],
       "layout": {
        "height": 800,
        "legend": {
         "itemsizing": "constant",
         "title": {
          "text": "Line"
         },
         "tracegroupgap": 0
        },
        "mapbox": {
         "center": {
          "lat": 34.04042933499999,
          "lon": -118.29805459857141
         },
         "domain": {
          "x": [
           0,
           1
          ],
          "y": [
           0,
           1
          ]
         },
         "style": "carto-positron",
         "zoom": 8.8
        },
        "template": {
         "data": {
          "bar": [
           {
            "error_x": {
             "color": "#2a3f5f"
            },
            "error_y": {
             "color": "#2a3f5f"
            },
            "marker": {
             "line": {
              "color": "#E5ECF6",
              "width": 0.5
             },
             "pattern": {
              "fillmode": "overlay",
              "size": 10,
              "solidity": 0.2
             }
            },
            "type": "bar"
           }
          ],
          "barpolar": [
           {
            "marker": {
             "line": {
              "color": "#E5ECF6",
              "width": 0.5
             },
             "pattern": {
              "fillmode": "overlay",
              "size": 10,
              "solidity": 0.2
             }
            },
            "type": "barpolar"
           }
          ],
          "carpet": [
           {
            "aaxis": {
             "endlinecolor": "#2a3f5f",
             "gridcolor": "white",
             "linecolor": "white",
             "minorgridcolor": "white",
             "startlinecolor": "#2a3f5f"
            },
            "baxis": {
             "endlinecolor": "#2a3f5f",
             "gridcolor": "white",
             "linecolor": "white",
             "minorgridcolor": "white",
             "startlinecolor": "#2a3f5f"
            },
            "type": "carpet"
           }
          ],
          "choropleth": [
           {
            "colorbar": {
             "outlinewidth": 0,
             "ticks": ""
            },
            "type": "choropleth"
           }
          ],
          "contour": [
           {
            "colorbar": {
             "outlinewidth": 0,
             "ticks": ""
            },
            "colorscale": [
             [
              0,
              "#0d0887"
             ],
             [
              0.1111111111111111,
              "#46039f"
             ],
             [
              0.2222222222222222,
              "#7201a8"
             ],
             [
              0.3333333333333333,
              "#9c179e"
             ],
             [
              0.4444444444444444,
              "#bd3786"
             ],
             [
              0.5555555555555556,
              "#d8576b"
             ],
             [
              0.6666666666666666,
              "#ed7953"
             ],
             [
              0.7777777777777778,
              "#fb9f3a"
             ],
             [
              0.8888888888888888,
              "#fdca26"
             ],
             [
              1,
              "#f0f921"
             ]
            ],
            "type": "contour"
           }
          ],
          "contourcarpet": [
           {
            "colorbar": {
             "outlinewidth": 0,
             "ticks": ""
            },
            "type": "contourcarpet"
           }
          ],
          "heatmap": [
           {
            "colorbar": {
             "outlinewidth": 0,
             "ticks": ""
            },
            "colorscale": [
             [
              0,
              "#0d0887"
             ],
             [
              0.1111111111111111,
              "#46039f"
             ],
             [
              0.2222222222222222,
              "#7201a8"
             ],
             [
              0.3333333333333333,
              "#9c179e"
             ],
             [
              0.4444444444444444,
              "#bd3786"
             ],
             [
              0.5555555555555556,
              "#d8576b"
             ],
             [
              0.6666666666666666,
              "#ed7953"
             ],
             [
              0.7777777777777778,
              "#fb9f3a"
             ],
             [
              0.8888888888888888,
              "#fdca26"
             ],
             [
              1,
              "#f0f921"
             ]
            ],
            "type": "heatmap"
           }
          ],
          "heatmapgl": [
           {
            "colorbar": {
             "outlinewidth": 0,
             "ticks": ""
            },
            "colorscale": [
             [
              0,
              "#0d0887"
             ],
             [
              0.1111111111111111,
              "#46039f"
             ],
             [
              0.2222222222222222,
              "#7201a8"
             ],
             [
              0.3333333333333333,
              "#9c179e"
             ],
             [
              0.4444444444444444,
              "#bd3786"
             ],
             [
              0.5555555555555556,
              "#d8576b"
             ],
             [
              0.6666666666666666,
              "#ed7953"
             ],
             [
              0.7777777777777778,
              "#fb9f3a"
             ],
             [
              0.8888888888888888,
              "#fdca26"
             ],
             [
              1,
              "#f0f921"
             ]
            ],
            "type": "heatmapgl"
           }
          ],
          "histogram": [
           {
            "marker": {
             "pattern": {
              "fillmode": "overlay",
              "size": 10,
              "solidity": 0.2
             }
            },
            "type": "histogram"
           }
          ],
          "histogram2d": [
           {
            "colorbar": {
             "outlinewidth": 0,
             "ticks": ""
            },
            "colorscale": [
             [
              0,
              "#0d0887"
             ],
             [
              0.1111111111111111,
              "#46039f"
             ],
             [
              0.2222222222222222,
              "#7201a8"
             ],
             [
              0.3333333333333333,
              "#9c179e"
             ],
             [
              0.4444444444444444,
              "#bd3786"
             ],
             [
              0.5555555555555556,
              "#d8576b"
             ],
             [
              0.6666666666666666,
              "#ed7953"
             ],
             [
              0.7777777777777778,
              "#fb9f3a"
             ],
             [
              0.8888888888888888,
              "#fdca26"
             ],
             [
              1,
              "#f0f921"
             ]
            ],
            "type": "histogram2d"
           }
          ],
          "histogram2dcontour": [
           {
            "colorbar": {
             "outlinewidth": 0,
             "ticks": ""
            },
            "colorscale": [
             [
              0,
              "#0d0887"
             ],
             [
              0.1111111111111111,
              "#46039f"
             ],
             [
              0.2222222222222222,
              "#7201a8"
             ],
             [
              0.3333333333333333,
              "#9c179e"
             ],
             [
              0.4444444444444444,
              "#bd3786"
             ],
             [
              0.5555555555555556,
              "#d8576b"
             ],
             [
              0.6666666666666666,
              "#ed7953"
             ],
             [
              0.7777777777777778,
              "#fb9f3a"
             ],
             [
              0.8888888888888888,
              "#fdca26"
             ],
             [
              1,
              "#f0f921"
             ]
            ],
            "type": "histogram2dcontour"
           }
          ],
          "mesh3d": [
           {
            "colorbar": {
             "outlinewidth": 0,
             "ticks": ""
            },
            "type": "mesh3d"
           }
          ],
          "parcoords": [
           {
            "line": {
             "colorbar": {
              "outlinewidth": 0,
              "ticks": ""
             }
            },
            "type": "parcoords"
           }
          ],
          "pie": [
           {
            "automargin": true,
            "type": "pie"
           }
          ],
          "scatter": [
           {
            "fillpattern": {
             "fillmode": "overlay",
             "size": 10,
             "solidity": 0.2
            },
            "type": "scatter"
           }
          ],
          "scatter3d": [
           {
            "line": {
             "colorbar": {
              "outlinewidth": 0,
              "ticks": ""
             }
            },
            "marker": {
             "colorbar": {
              "outlinewidth": 0,
              "ticks": ""
             }
            },
            "type": "scatter3d"
           }
          ],
          "scattercarpet": [
           {
            "marker": {
             "colorbar": {
              "outlinewidth": 0,
              "ticks": ""
             }
            },
            "type": "scattercarpet"
           }
          ],
          "scattergeo": [
           {
            "marker": {
             "colorbar": {
              "outlinewidth": 0,
              "ticks": ""
             }
            },
            "type": "scattergeo"
           }
          ],
          "scattergl": [
           {
            "marker": {
             "colorbar": {
              "outlinewidth": 0,
              "ticks": ""
             }
            },
            "type": "scattergl"
           }
          ],
          "scattermapbox": [
           {
            "marker": {
             "colorbar": {
              "outlinewidth": 0,
              "ticks": ""
             }
            },
            "type": "scattermapbox"
           }
          ],
          "scatterpolar": [
           {
            "marker": {
             "colorbar": {
              "outlinewidth": 0,
              "ticks": ""
             }
            },
            "type": "scatterpolar"
           }
          ],
          "scatterpolargl": [
           {
            "marker": {
             "colorbar": {
              "outlinewidth": 0,
              "ticks": ""
             }
            },
            "type": "scatterpolargl"
           }
          ],
          "scatterternary": [
           {
            "marker": {
             "colorbar": {
              "outlinewidth": 0,
              "ticks": ""
             }
            },
            "type": "scatterternary"
           }
          ],
          "surface": [
           {
            "colorbar": {
             "outlinewidth": 0,
             "ticks": ""
            },
            "colorscale": [
             [
              0,
              "#0d0887"
             ],
             [
              0.1111111111111111,
              "#46039f"
             ],
             [
              0.2222222222222222,
              "#7201a8"
             ],
             [
              0.3333333333333333,
              "#9c179e"
             ],
             [
              0.4444444444444444,
              "#bd3786"
             ],
             [
              0.5555555555555556,
              "#d8576b"
             ],
             [
              0.6666666666666666,
              "#ed7953"
             ],
             [
              0.7777777777777778,
              "#fb9f3a"
             ],
             [
              0.8888888888888888,
              "#fdca26"
             ],
             [
              1,
              "#f0f921"
             ]
            ],
            "type": "surface"
           }
          ],
          "table": [
           {
            "cells": {
             "fill": {
              "color": "#EBF0F8"
             },
             "line": {
              "color": "white"
             }
            },
            "header": {
             "fill": {
              "color": "#C8D4E3"
             },
             "line": {
              "color": "white"
             }
            },
            "type": "table"
           }
          ]
         },
         "layout": {
          "annotationdefaults": {
           "arrowcolor": "#2a3f5f",
           "arrowhead": 0,
           "arrowwidth": 1
          },
          "autotypenumbers": "strict",
          "coloraxis": {
           "colorbar": {
            "outlinewidth": 0,
            "ticks": ""
           }
          },
          "colorscale": {
           "diverging": [
            [
             0,
             "#8e0152"
            ],
            [
             0.1,
             "#c51b7d"
            ],
            [
             0.2,
             "#de77ae"
            ],
            [
             0.3,
             "#f1b6da"
            ],
            [
             0.4,
             "#fde0ef"
            ],
            [
             0.5,
             "#f7f7f7"
            ],
            [
             0.6,
             "#e6f5d0"
            ],
            [
             0.7,
             "#b8e186"
            ],
            [
             0.8,
             "#7fbc41"
            ],
            [
             0.9,
             "#4d9221"
            ],
            [
             1,
             "#276419"
            ]
           ],
           "sequential": [
            [
             0,
             "#0d0887"
            ],
            [
             0.1111111111111111,
             "#46039f"
            ],
            [
             0.2222222222222222,
             "#7201a8"
            ],
            [
             0.3333333333333333,
             "#9c179e"
            ],
            [
             0.4444444444444444,
             "#bd3786"
            ],
            [
             0.5555555555555556,
             "#d8576b"
            ],
            [
             0.6666666666666666,
             "#ed7953"
            ],
            [
             0.7777777777777778,
             "#fb9f3a"
            ],
            [
             0.8888888888888888,
             "#fdca26"
            ],
            [
             1,
             "#f0f921"
            ]
           ],
           "sequentialminus": [
            [
             0,
             "#0d0887"
            ],
            [
             0.1111111111111111,
             "#46039f"
            ],
            [
             0.2222222222222222,
             "#7201a8"
            ],
            [
             0.3333333333333333,
             "#9c179e"
            ],
            [
             0.4444444444444444,
             "#bd3786"
            ],
            [
             0.5555555555555556,
             "#d8576b"
            ],
            [
             0.6666666666666666,
             "#ed7953"
            ],
            [
             0.7777777777777778,
             "#fb9f3a"
            ],
            [
             0.8888888888888888,
             "#fdca26"
            ],
            [
             1,
             "#f0f921"
            ]
           ]
          },
          "colorway": [
           "#636efa",
           "#EF553B",
           "#00cc96",
           "#ab63fa",
           "#FFA15A",
           "#19d3f3",
           "#FF6692",
           "#B6E880",
           "#FF97FF",
           "#FECB52"
          ],
          "font": {
           "color": "#2a3f5f"
          },
          "geo": {
           "bgcolor": "white",
           "lakecolor": "white",
           "landcolor": "#E5ECF6",
           "showlakes": true,
           "showland": true,
           "subunitcolor": "white"
          },
          "hoverlabel": {
           "align": "left"
          },
          "hovermode": "closest",
          "mapbox": {
           "style": "light"
          },
          "paper_bgcolor": "white",
          "plot_bgcolor": "#E5ECF6",
          "polar": {
           "angularaxis": {
            "gridcolor": "white",
            "linecolor": "white",
            "ticks": ""
           },
           "bgcolor": "#E5ECF6",
           "radialaxis": {
            "gridcolor": "white",
            "linecolor": "white",
            "ticks": ""
           }
          },
          "scene": {
           "xaxis": {
            "backgroundcolor": "#E5ECF6",
            "gridcolor": "white",
            "gridwidth": 2,
            "linecolor": "white",
            "showbackground": true,
            "ticks": "",
            "zerolinecolor": "white"
           },
           "yaxis": {
            "backgroundcolor": "#E5ECF6",
            "gridcolor": "white",
            "gridwidth": 2,
            "linecolor": "white",
            "showbackground": true,
            "ticks": "",
            "zerolinecolor": "white"
           },
           "zaxis": {
            "backgroundcolor": "#E5ECF6",
            "gridcolor": "white",
            "gridwidth": 2,
            "linecolor": "white",
            "showbackground": true,
            "ticks": "",
            "zerolinecolor": "white"
           }
          },
          "shapedefaults": {
           "line": {
            "color": "#2a3f5f"
           }
          },
          "ternary": {
           "aaxis": {
            "gridcolor": "white",
            "linecolor": "white",
            "ticks": ""
           },
           "baxis": {
            "gridcolor": "white",
            "linecolor": "white",
            "ticks": ""
           },
           "bgcolor": "#E5ECF6",
           "caxis": {
            "gridcolor": "white",
            "linecolor": "white",
            "ticks": ""
           }
          },
          "title": {
           "x": 0.05
          },
          "xaxis": {
           "automargin": true,
           "gridcolor": "white",
           "linecolor": "white",
           "ticks": "",
           "title": {
            "standoff": 15
           },
           "zerolinecolor": "white",
           "zerolinewidth": 2
          },
          "yaxis": {
           "automargin": true,
           "gridcolor": "white",
           "linecolor": "white",
           "ticks": "",
           "title": {
            "standoff": 15
           },
           "zerolinecolor": "white",
           "zerolinewidth": 2
          }
         }
        },
        "title": {
         "text": "Graph Representation of LA Metro Station Locations by Line (With Ridership Weights)"
        },
        "width": 800
       }
      }
     },
     "metadata": {},
     "output_type": "display_data"
    }
   ],
   "source": [
    "#disconnected station map with line/ridership weights\n",
    "fig = px.scatter_mapbox(df, \n",
    "                        lat = \"Latitude\",\n",
    "                        lon = \"Longitude\",\n",
    "                        color = \"Line\",\n",
    "                        size = \"Rough Line Weight\",\n",
    "                        hover_name = \"Name\",\n",
    "                        zoom = 8.8,\n",
    "                        height = 800,\n",
    "                        width = 800,\n",
    "                        title = \"Graph Representation of LA Metro Station Locations by Line (With Ridership Weights)\",\n",
    "                        mapbox_style = \"carto-positron\")\n",
    "\n",
    "fig.show()"
   ]
  },
  {
   "cell_type": "markdown",
   "metadata": {},
   "source": [
    "From this, we can see that the B and D lines have the highest ridership, followed by the A and E lines. The B and D lines travel through high-density areas of Hollywood, Koreatown, and Downtown, and serves a vital corridor especially for lower-income commuters in the area. The C line is comparatively low in ridership; while it serves the vicinity of LAX, it is also completely avoids downtown. There was inadequate data on the K line to perform any sort of analysis, and the L line had been discontinued with the opening of the Regional Connector."
   ]
  },
  {
   "cell_type": "markdown",
   "metadata": {},
   "source": [
    "Let's read in the other dataframe now with the station IDs we want to used for forming the network using NetworkX. The station name changing from earlier comes into play here, as the 2 sets of data have different and unrelated station IDs, so we will merge by name instead. Unfortunately, this dataset is a bit older, and does not contain certain stations on the newly-opened regional connector. It also ignores the G line, as the G line is a bus line rather than rail (though there are plans to convert it to rail in the future!)"
   ]
  },
  {
   "cell_type": "code",
   "execution_count": 17,
   "metadata": {},
   "outputs": [
    {
     "data": {
      "text/html": [
       "<div>\n",
       "<style scoped>\n",
       "    .dataframe tbody tr th:only-of-type {\n",
       "        vertical-align: middle;\n",
       "    }\n",
       "\n",
       "    .dataframe tbody tr th {\n",
       "        vertical-align: top;\n",
       "    }\n",
       "\n",
       "    .dataframe thead th {\n",
       "        text-align: right;\n",
       "    }\n",
       "</style>\n",
       "<table border=\"1\" class=\"dataframe\">\n",
       "  <thead>\n",
       "    <tr style=\"text-align: right;\">\n",
       "      <th></th>\n",
       "      <th>Unnamed: 0</th>\n",
       "      <th>stop_id</th>\n",
       "      <th>stop_code</th>\n",
       "      <th>stop_name</th>\n",
       "      <th>stop_desc</th>\n",
       "      <th>stop_lat</th>\n",
       "      <th>stop_lon</th>\n",
       "      <th>stop_url</th>\n",
       "      <th>location_type</th>\n",
       "      <th>parent_station</th>\n",
       "      <th>tpis_name</th>\n",
       "    </tr>\n",
       "  </thead>\n",
       "  <tbody>\n",
       "    <tr>\n",
       "      <th>0</th>\n",
       "      <td>0</td>\n",
       "      <td>80101</td>\n",
       "      <td>80101</td>\n",
       "      <td>Downtown Long Beach Station</td>\n",
       "      <td>NaN</td>\n",
       "      <td>33.768071</td>\n",
       "      <td>-118.192921</td>\n",
       "      <td>NaN</td>\n",
       "      <td>0</td>\n",
       "      <td>80101S</td>\n",
       "      <td>Long Bch</td>\n",
       "    </tr>\n",
       "    <tr>\n",
       "      <th>1</th>\n",
       "      <td>4</td>\n",
       "      <td>80102</td>\n",
       "      <td>80102</td>\n",
       "      <td>Pacific Ave Station</td>\n",
       "      <td>NaN</td>\n",
       "      <td>33.772258</td>\n",
       "      <td>-118.193700</td>\n",
       "      <td>NaN</td>\n",
       "      <td>0</td>\n",
       "      <td>80102S</td>\n",
       "      <td>Pacific</td>\n",
       "    </tr>\n",
       "    <tr>\n",
       "      <th>2</th>\n",
       "      <td>8</td>\n",
       "      <td>80105</td>\n",
       "      <td>80105</td>\n",
       "      <td>Anaheim Street Station</td>\n",
       "      <td>NaN</td>\n",
       "      <td>33.781830</td>\n",
       "      <td>-118.189384</td>\n",
       "      <td>NaN</td>\n",
       "      <td>0</td>\n",
       "      <td>80105S</td>\n",
       "      <td>Anaheim</td>\n",
       "    </tr>\n",
       "    <tr>\n",
       "      <th>3</th>\n",
       "      <td>12</td>\n",
       "      <td>80106</td>\n",
       "      <td>80106</td>\n",
       "      <td>Pacific Coast Hwy Station</td>\n",
       "      <td>NaN</td>\n",
       "      <td>33.789090</td>\n",
       "      <td>-118.189382</td>\n",
       "      <td>NaN</td>\n",
       "      <td>0</td>\n",
       "      <td>80106S</td>\n",
       "      <td>PCH</td>\n",
       "    </tr>\n",
       "    <tr>\n",
       "      <th>4</th>\n",
       "      <td>15</td>\n",
       "      <td>80107</td>\n",
       "      <td>80107</td>\n",
       "      <td>Willow Street Station</td>\n",
       "      <td>NaN</td>\n",
       "      <td>33.807079</td>\n",
       "      <td>-118.189834</td>\n",
       "      <td>NaN</td>\n",
       "      <td>0</td>\n",
       "      <td>80107S</td>\n",
       "      <td>Willow</td>\n",
       "    </tr>\n",
       "    <tr>\n",
       "      <th>...</th>\n",
       "      <td>...</td>\n",
       "      <td>...</td>\n",
       "      <td>...</td>\n",
       "      <td>...</td>\n",
       "      <td>...</td>\n",
       "      <td>...</td>\n",
       "      <td>...</td>\n",
       "      <td>...</td>\n",
       "      <td>...</td>\n",
       "      <td>...</td>\n",
       "      <td>...</td>\n",
       "    </tr>\n",
       "    <tr>\n",
       "      <th>99</th>\n",
       "      <td>403</td>\n",
       "      <td>80705</td>\n",
       "      <td>80705</td>\n",
       "      <td>Fairview Heights Station</td>\n",
       "      <td>NaN</td>\n",
       "      <td>33.975252</td>\n",
       "      <td>-118.336072</td>\n",
       "      <td>NaN</td>\n",
       "      <td>0</td>\n",
       "      <td>80705S</td>\n",
       "      <td>Fairview</td>\n",
       "    </tr>\n",
       "    <tr>\n",
       "      <th>100</th>\n",
       "      <td>407</td>\n",
       "      <td>80706</td>\n",
       "      <td>80706</td>\n",
       "      <td>Hyde Park Station</td>\n",
       "      <td>NaN</td>\n",
       "      <td>33.988187</td>\n",
       "      <td>-118.330816</td>\n",
       "      <td>NaN</td>\n",
       "      <td>0</td>\n",
       "      <td>80706S</td>\n",
       "      <td>Hyde Park</td>\n",
       "    </tr>\n",
       "    <tr>\n",
       "      <th>101</th>\n",
       "      <td>411</td>\n",
       "      <td>80707</td>\n",
       "      <td>80707</td>\n",
       "      <td>Leimert Park Station</td>\n",
       "      <td>NaN</td>\n",
       "      <td>34.003909</td>\n",
       "      <td>-118.332016</td>\n",
       "      <td>NaN</td>\n",
       "      <td>0</td>\n",
       "      <td>80707S</td>\n",
       "      <td>Leimert</td>\n",
       "    </tr>\n",
       "    <tr>\n",
       "      <th>102</th>\n",
       "      <td>415</td>\n",
       "      <td>80708</td>\n",
       "      <td>80708</td>\n",
       "      <td>Martin Luther King Jr Station</td>\n",
       "      <td>NaN</td>\n",
       "      <td>34.009563</td>\n",
       "      <td>-118.335359</td>\n",
       "      <td>NaN</td>\n",
       "      <td>0</td>\n",
       "      <td>80708S</td>\n",
       "      <td>MLK</td>\n",
       "    </tr>\n",
       "    <tr>\n",
       "      <th>103</th>\n",
       "      <td>419</td>\n",
       "      <td>80709</td>\n",
       "      <td>80709</td>\n",
       "      <td>Expo / Crenshaw K-Line Station</td>\n",
       "      <td>NaN</td>\n",
       "      <td>34.022156</td>\n",
       "      <td>-118.334851</td>\n",
       "      <td>NaN</td>\n",
       "      <td>0</td>\n",
       "      <td>80709S</td>\n",
       "      <td>Crnshw/Ex</td>\n",
       "    </tr>\n",
       "  </tbody>\n",
       "</table>\n",
       "<p>104 rows × 11 columns</p>\n",
       "</div>"
      ],
      "text/plain": [
       "     Unnamed: 0  stop_id  stop_code                       stop_name  \\\n",
       "0             0    80101      80101     Downtown Long Beach Station   \n",
       "1             4    80102      80102             Pacific Ave Station   \n",
       "2             8    80105      80105          Anaheim Street Station   \n",
       "3            12    80106      80106       Pacific Coast Hwy Station   \n",
       "4            15    80107      80107           Willow Street Station   \n",
       "..          ...      ...        ...                             ...   \n",
       "99          403    80705      80705        Fairview Heights Station   \n",
       "100         407    80706      80706               Hyde Park Station   \n",
       "101         411    80707      80707            Leimert Park Station   \n",
       "102         415    80708      80708   Martin Luther King Jr Station   \n",
       "103         419    80709      80709  Expo / Crenshaw K-Line Station   \n",
       "\n",
       "     stop_desc   stop_lat    stop_lon  stop_url  location_type parent_station  \\\n",
       "0          NaN  33.768071 -118.192921       NaN              0         80101S   \n",
       "1          NaN  33.772258 -118.193700       NaN              0         80102S   \n",
       "2          NaN  33.781830 -118.189384       NaN              0         80105S   \n",
       "3          NaN  33.789090 -118.189382       NaN              0         80106S   \n",
       "4          NaN  33.807079 -118.189834       NaN              0         80107S   \n",
       "..         ...        ...         ...       ...            ...            ...   \n",
       "99         NaN  33.975252 -118.336072       NaN              0         80705S   \n",
       "100        NaN  33.988187 -118.330816       NaN              0         80706S   \n",
       "101        NaN  34.003909 -118.332016       NaN              0         80707S   \n",
       "102        NaN  34.009563 -118.335359       NaN              0         80708S   \n",
       "103        NaN  34.022156 -118.334851       NaN              0         80709S   \n",
       "\n",
       "     tpis_name  \n",
       "0     Long Bch  \n",
       "1      Pacific  \n",
       "2      Anaheim  \n",
       "3          PCH  \n",
       "4       Willow  \n",
       "..         ...  \n",
       "99    Fairview  \n",
       "100  Hyde Park  \n",
       "101    Leimert  \n",
       "102        MLK  \n",
       "103  Crnshw/Ex  \n",
       "\n",
       "[104 rows x 11 columns]"
      ]
     },
     "execution_count": 17,
     "metadata": {},
     "output_type": "execute_result"
    }
   ],
   "source": [
    "#read in a dataframe containing the station IDs we want to use.\n",
    "stops = pd.read_csv(\"Dataframes/stops_manual.csv\")\n",
    "stops"
   ]
  },
  {
   "cell_type": "markdown",
   "metadata": {},
   "source": [
    "We only need the station IDs and the station names for merging, so we can get rid of the excess columns."
   ]
  },
  {
   "cell_type": "code",
   "execution_count": 28,
   "metadata": {},
   "outputs": [],
   "source": [
    "#adjust the columns, get rid of redundant info\n",
    "stops = stops.rename(columns={\"stop_name\": \"Name\", \"stop_id\": \"Station ID\"})\n",
    "cols = [\"Station ID\", \"Name\"]\n",
    "stops = stops[cols]"
   ]
  },
  {
   "cell_type": "markdown",
   "metadata": {},
   "source": [
    "Now, we merge the data into a single dataframe."
   ]
  },
  {
   "cell_type": "code",
   "execution_count": 19,
   "metadata": {},
   "outputs": [],
   "source": [
    "#merge the 2 dataframes together\n",
    "df = pd.merge(df, stops, on=\"Name\")"
   ]
  },
  {
   "cell_type": "markdown",
   "metadata": {},
   "source": [
    "Again, let's get rid of unnecessary columns. We don't need the old set of station IDs anymore."
   ]
  },
  {
   "cell_type": "code",
   "execution_count": 20,
   "metadata": {},
   "outputs": [
    {
     "data": {
      "text/html": [
       "<div>\n",
       "<style scoped>\n",
       "    .dataframe tbody tr th:only-of-type {\n",
       "        vertical-align: middle;\n",
       "    }\n",
       "\n",
       "    .dataframe tbody tr th {\n",
       "        vertical-align: top;\n",
       "    }\n",
       "\n",
       "    .dataframe thead th {\n",
       "        text-align: right;\n",
       "    }\n",
       "</style>\n",
       "<table border=\"1\" class=\"dataframe\">\n",
       "  <thead>\n",
       "    <tr style=\"text-align: right;\">\n",
       "      <th></th>\n",
       "      <th>Station ID</th>\n",
       "      <th>Name</th>\n",
       "      <th>Latitude</th>\n",
       "      <th>Longitude</th>\n",
       "      <th>Lines</th>\n",
       "      <th>Line</th>\n",
       "      <th>Average Weekday Ridership</th>\n",
       "      <th>Rough Line Weight</th>\n",
       "    </tr>\n",
       "  </thead>\n",
       "  <tbody>\n",
       "    <tr>\n",
       "      <th>0</th>\n",
       "      <td>80154</td>\n",
       "      <td>5th Street Station</td>\n",
       "      <td>33.773603</td>\n",
       "      <td>-118.189424</td>\n",
       "      <td>['Blue']</td>\n",
       "      <td>A</td>\n",
       "      <td>31752</td>\n",
       "      <td>9.780439</td>\n",
       "    </tr>\n",
       "    <tr>\n",
       "      <th>1</th>\n",
       "      <td>80153</td>\n",
       "      <td>1st Street Station</td>\n",
       "      <td>33.768745</td>\n",
       "      <td>-118.189374</td>\n",
       "      <td>['Blue']</td>\n",
       "      <td>A</td>\n",
       "      <td>31752</td>\n",
       "      <td>9.780439</td>\n",
       "    </tr>\n",
       "    <tr>\n",
       "      <th>2</th>\n",
       "      <td>80101</td>\n",
       "      <td>Downtown Long Beach Station</td>\n",
       "      <td>33.768076</td>\n",
       "      <td>-118.192933</td>\n",
       "      <td>['Blue']</td>\n",
       "      <td>A</td>\n",
       "      <td>31752</td>\n",
       "      <td>9.780439</td>\n",
       "    </tr>\n",
       "    <tr>\n",
       "      <th>3</th>\n",
       "      <td>80102</td>\n",
       "      <td>Pacific Ave Station</td>\n",
       "      <td>33.772263</td>\n",
       "      <td>-118.193712</td>\n",
       "      <td>['Blue']</td>\n",
       "      <td>A</td>\n",
       "      <td>31752</td>\n",
       "      <td>9.780439</td>\n",
       "    </tr>\n",
       "    <tr>\n",
       "      <th>4</th>\n",
       "      <td>80105</td>\n",
       "      <td>Anaheim Street Station</td>\n",
       "      <td>33.781835</td>\n",
       "      <td>-118.189396</td>\n",
       "      <td>['Blue']</td>\n",
       "      <td>A</td>\n",
       "      <td>31752</td>\n",
       "      <td>9.780439</td>\n",
       "    </tr>\n",
       "    <tr>\n",
       "      <th>...</th>\n",
       "      <td>...</td>\n",
       "      <td>...</td>\n",
       "      <td>...</td>\n",
       "      <td>...</td>\n",
       "      <td>...</td>\n",
       "      <td>...</td>\n",
       "      <td>...</td>\n",
       "      <td>...</td>\n",
       "    </tr>\n",
       "    <tr>\n",
       "      <th>109</th>\n",
       "      <td>80708</td>\n",
       "      <td>Martin Luther King Jr Station</td>\n",
       "      <td>34.010167</td>\n",
       "      <td>-118.335347</td>\n",
       "      <td>['K']</td>\n",
       "      <td>K</td>\n",
       "      <td>1</td>\n",
       "      <td>0.000308</td>\n",
       "    </tr>\n",
       "    <tr>\n",
       "      <th>110</th>\n",
       "      <td>80707</td>\n",
       "      <td>Leimert Park Station</td>\n",
       "      <td>34.004582</td>\n",
       "      <td>-118.332665</td>\n",
       "      <td>['K']</td>\n",
       "      <td>K</td>\n",
       "      <td>1</td>\n",
       "      <td>0.000308</td>\n",
       "    </tr>\n",
       "    <tr>\n",
       "      <th>111</th>\n",
       "      <td>80706</td>\n",
       "      <td>Hyde Park Station</td>\n",
       "      <td>33.988290</td>\n",
       "      <td>-118.330836</td>\n",
       "      <td>['K']</td>\n",
       "      <td>K</td>\n",
       "      <td>1</td>\n",
       "      <td>0.000308</td>\n",
       "    </tr>\n",
       "    <tr>\n",
       "      <th>112</th>\n",
       "      <td>80705</td>\n",
       "      <td>Fairview Heights Station</td>\n",
       "      <td>33.975284</td>\n",
       "      <td>-118.336030</td>\n",
       "      <td>['K']</td>\n",
       "      <td>K</td>\n",
       "      <td>1</td>\n",
       "      <td>0.000308</td>\n",
       "    </tr>\n",
       "    <tr>\n",
       "      <th>113</th>\n",
       "      <td>80704</td>\n",
       "      <td>Downtown Inglewood Station</td>\n",
       "      <td>33.967299</td>\n",
       "      <td>-118.351393</td>\n",
       "      <td>['K']</td>\n",
       "      <td>K</td>\n",
       "      <td>1</td>\n",
       "      <td>0.000308</td>\n",
       "    </tr>\n",
       "  </tbody>\n",
       "</table>\n",
       "<p>114 rows × 8 columns</p>\n",
       "</div>"
      ],
      "text/plain": [
       "     Station ID                           Name   Latitude   Longitude  \\\n",
       "0         80154             5th Street Station  33.773603 -118.189424   \n",
       "1         80153             1st Street Station  33.768745 -118.189374   \n",
       "2         80101    Downtown Long Beach Station  33.768076 -118.192933   \n",
       "3         80102            Pacific Ave Station  33.772263 -118.193712   \n",
       "4         80105         Anaheim Street Station  33.781835 -118.189396   \n",
       "..          ...                            ...        ...         ...   \n",
       "109       80708  Martin Luther King Jr Station  34.010167 -118.335347   \n",
       "110       80707           Leimert Park Station  34.004582 -118.332665   \n",
       "111       80706              Hyde Park Station  33.988290 -118.330836   \n",
       "112       80705       Fairview Heights Station  33.975284 -118.336030   \n",
       "113       80704     Downtown Inglewood Station  33.967299 -118.351393   \n",
       "\n",
       "        Lines Line  Average Weekday Ridership  Rough Line Weight  \n",
       "0    ['Blue']    A                      31752           9.780439  \n",
       "1    ['Blue']    A                      31752           9.780439  \n",
       "2    ['Blue']    A                      31752           9.780439  \n",
       "3    ['Blue']    A                      31752           9.780439  \n",
       "4    ['Blue']    A                      31752           9.780439  \n",
       "..        ...  ...                        ...                ...  \n",
       "109     ['K']    K                          1           0.000308  \n",
       "110     ['K']    K                          1           0.000308  \n",
       "111     ['K']    K                          1           0.000308  \n",
       "112     ['K']    K                          1           0.000308  \n",
       "113     ['K']    K                          1           0.000308  \n",
       "\n",
       "[114 rows x 8 columns]"
      ]
     },
     "execution_count": 20,
     "metadata": {},
     "output_type": "execute_result"
    }
   ],
   "source": [
    "#keep only the columns of data that we need, remove the old station ids to avoid confusion\n",
    "cols = [\"Station ID\", \"Name\", \"Latitude\", \"Longitude\", \"Lines\", \"Line\", \"Average Weekday Ridership\", \"Rough Line Weight\"]\n",
    "df = df[cols]\n",
    "df"
   ]
  },
  {
   "cell_type": "markdown",
   "metadata": {},
   "source": [
    "We can create the same ridership-weighted visualization as above using this new dataset."
   ]
  },
  {
   "cell_type": "code",
   "execution_count": 21,
   "metadata": {},
   "outputs": [
    {
     "data": {
      "application/vnd.plotly.v1+json": {
       "config": {
        "plotlyServerURL": "https://plot.ly"
       },
       "data": [
        {
         "hovertemplate": "<b>%{hovertext}</b><br><br>Line=A<br>Rough Line Weight=%{marker.size}<br>Latitude=%{lat}<br>Longitude=%{lon}<extra></extra>",
         "hovertext": [
          "5th Street Station",
          "1st Street Station",
          "Downtown Long Beach Station",
          "Pacific Ave Station",
          "Anaheim Street Station",
          "Pacific Coast Hwy Station",
          "Willow Street Station",
          "Wardlow Station",
          "Del Amo Station",
          "Artesia Station",
          "Compton Station",
          "Willowbrook - Rosa Parks Station",
          "Willowbrook - Rosa Parks Station",
          "103rd Street / Watts Towers  Station",
          "Firestone Station",
          "Florence Station",
          "Slauson Station",
          "Vernon Station",
          "Washington Station",
          "San Pedro Street Station",
          "Grand / LATTC Station",
          "Pico Station",
          "7th Street / Metro Center Station",
          "7th Street / Metro Center Station",
          "Union Station",
          "Union Station",
          "Chinatown Station",
          "Lincoln Heights / Cypress Park Station",
          "Heritage Square / Arroyo Station",
          "Southwest Museum Station",
          "Highland Park Station",
          "South Pasadena Station",
          "Fillmore Station",
          "Del Mar Station",
          "Memorial Park Station",
          "Lake Station",
          "Allen Station",
          "Sierra Madre Villa Station",
          "Arcadia Station",
          "Monrovia Station",
          "Duarte / City of Hope Station",
          "Irwindale Station",
          "Azusa Downtown Station",
          "APU / Citrus College Station"
         ],
         "lat": [
          33.77360283,
          33.76874483,
          33.76807583,
          33.77226283,
          33.78183483,
          33.78909483,
          33.80708383,
          33.81986983,
          33.84822684,
          33.87608684,
          33.89749484,
          33.92805284,
          33.92805284,
          33.94222484,
          33.95961585,
          33.97374485,
          33.98876485,
          34.00292485,
          34.01965485,
          34.02681185,
          34.03315985,
          34.04073985,
          34.04861486,
          34.04861486,
          34.05606586,
          34.05606586,
          34.06386586,
          34.08095386,
          34.08723186,
          34.09824786,
          34.11118387,
          34.11519087,
          34.13352587,
          34.14191487,
          34.14836087,
          34.15181087,
          34.15242187,
          34.14775688,
          34.14286488,
          34.13315988,
          34.13252288,
          34.12905288,
          34.13586788,
          34.13681889
         ],
         "legendgroup": "A",
         "lon": [
          -118.1894242,
          -118.1893742,
          -118.1929332,
          -118.1937122,
          -118.1893962,
          -118.1893942,
          -118.1898462,
          -118.1961022,
          -118.2110292,
          -118.2225152,
          -118.2242612,
          -118.2375672,
          -118.2375672,
          -118.2431712,
          -118.2432172,
          -118.2432832,
          -118.2434102,
          -118.2433152,
          -118.2430962,
          -118.2555172,
          -118.2693452,
          -118.2661302,
          -118.2588342,
          -118.2588342,
          -118.2347712,
          -118.2347712,
          -118.2358522,
          -118.2204412,
          -118.2132252,
          -118.2067242,
          -118.1926182,
          -118.1578982,
          -118.1481382,
          -118.1482262,
          -118.1475242,
          -118.1314022,
          -118.1143602,
          -118.0812242,
          -118.0292112,
          -118.0034852,
          -117.9676922,
          -117.9325181,
          -117.9066431,
          -117.8916481
         ],
         "marker": {
          "color": "#636efa",
          "size": [
           9.780439121756487,
           9.780439121756487,
           9.780439121756487,
           9.780439121756487,
           9.780439121756487,
           9.780439121756487,
           9.780439121756487,
           9.780439121756487,
           9.780439121756487,
           9.780439121756487,
           9.780439121756487,
           9.780439121756487,
           9.780439121756487,
           9.780439121756487,
           9.780439121756487,
           9.780439121756487,
           9.780439121756487,
           9.780439121756487,
           9.780439121756487,
           9.780439121756487,
           9.780439121756487,
           9.780439121756487,
           9.780439121756487,
           9.780439121756487,
           9.780439121756487,
           9.780439121756487,
           9.780439121756487,
           9.780439121756487,
           9.780439121756487,
           9.780439121756487,
           9.780439121756487,
           9.780439121756487,
           9.780439121756487,
           9.780439121756487,
           9.780439121756487,
           9.780439121756487,
           9.780439121756487,
           9.780439121756487,
           9.780439121756487,
           9.780439121756487,
           9.780439121756487,
           9.780439121756487,
           9.780439121756487,
           9.780439121756487
          ],
          "sizemode": "area",
          "sizeref": 0.0625
         },
         "mode": "markers",
         "name": "A",
         "showlegend": true,
         "subplot": "mapbox",
         "type": "scattermapbox"
        },
        {
         "hovertemplate": "<b>%{hovertext}</b><br><br>Line=C<br>Rough Line Weight=%{marker.size}<br>Latitude=%{lat}<br>Longitude=%{lon}<extra></extra>",
         "hovertext": [
          "Willowbrook - Rosa Parks Station",
          "Willowbrook - Rosa Parks Station",
          "Redondo Beach Station",
          "Douglas Station",
          "El Segundo Station",
          "Mariposa Station",
          "Aviation / LAX Station",
          "Hawthorne / Lennox Station",
          "Vermont / Athens Station",
          "Harbor Freeway Station",
          "Avalon Station",
          "Long Beach Blvd Station",
          "Lakewood Blvd Station",
          "Norwalk Station"
         ],
         "lat": [
          33.92826284,
          33.92826284,
          33.89464483,
          33.90530383,
          33.91606783,
          33.92320483,
          33.92962583,
          33.93341284,
          33.92868784,
          33.92871884,
          33.92746984,
          33.92488484,
          33.91307485,
          33.91403785
         ],
         "legendgroup": "C",
         "lon": [
          -118.2380642,
          -118.2380642,
          -118.3692082,
          -118.3831252,
          -118.3865512,
          -118.3875842,
          -118.3771462,
          -118.3516142,
          -118.2917452,
          -118.2811122,
          -118.2652292,
          -118.2099572,
          -118.1406122,
          -118.1047292
         ],
         "marker": {
          "color": "#EF553B",
          "size": [
           5.185000369631108,
           5.185000369631108,
           5.185000369631108,
           5.185000369631108,
           5.185000369631108,
           5.185000369631108,
           5.185000369631108,
           5.185000369631108,
           5.185000369631108,
           5.185000369631108,
           5.185000369631108,
           5.185000369631108,
           5.185000369631108,
           5.185000369631108
          ],
          "sizemode": "area",
          "sizeref": 0.0625
         },
         "mode": "markers",
         "name": "C",
         "showlegend": true,
         "subplot": "mapbox",
         "type": "scattermapbox"
        },
        {
         "hovertemplate": "<b>%{hovertext}</b><br><br>Line=E<br>Rough Line Weight=%{marker.size}<br>Latitude=%{lat}<br>Longitude=%{lon}<extra></extra>",
         "hovertext": [
          "Pico Station",
          "7th Street / Metro Center Station",
          "7th Street / Metro Center Station",
          "Atlantic Station",
          "East LA Civic Center Station",
          "Maravilla Station",
          "Indiana Station",
          "Soto Station",
          "Mariachi Plaza / Boyle Heights Station",
          "Pico / Aliso Station",
          "LATTC / Ortho Institute Station",
          "Jefferson / USC Station",
          "Expo Park / USC Station",
          "Expo / Vermont Station",
          "Expo / Western Station",
          "Farmdale Station",
          "La Cienega / Jefferson Station",
          "Culver City Station",
          "Palms Station",
          "Westwood / Rancho Park Station",
          "Expo / Sepulveda Station",
          "Expo / Bundy Station",
          "26th Street / Bergamot Station",
          "17th Street / SMC Station",
          "Downtown Santa Monica Station"
         ],
         "lat": [
          34.04073985,
          34.04861486,
          34.04861486,
          34.03340286,
          34.03336886,
          34.03332386,
          34.03430486,
          34.04375186,
          34.04721986,
          34.04763886,
          34.02911685,
          34.02212785,
          34.01823185,
          34.01824985,
          34.01833585,
          34.02398585,
          34.02635985,
          34.02790085,
          34.02932784,
          34.03682084,
          34.03541284,
          34.03170984,
          34.02799984,
          34.02315984,
          34.01401484
         ],
         "legendgroup": "E",
         "lon": [
          -118.2661302,
          -118.2588342,
          -118.2588342,
          -118.1544812,
          -118.1612182,
          -118.1681522,
          -118.1921942,
          -118.2100732,
          -118.2196602,
          -118.2259522,
          -118.2736152,
          -118.2781302,
          -118.2857462,
          -118.2915522,
          -118.3089222,
          -118.3461072,
          -118.3721322,
          -118.3889982,
          -118.4042672,
          -118.4245882,
          -118.4342462,
          -118.4529082,
          -118.4691322,
          -118.4803842,
          -118.4913962
         ],
         "marker": {
          "color": "#00cc96",
          "size": [
           8.678322367610459,
           8.678322367610459,
           8.678322367610459,
           8.678322367610459,
           8.678322367610459,
           8.678322367610459,
           8.678322367610459,
           8.678322367610459,
           8.678322367610459,
           8.678322367610459,
           8.678322367610459,
           8.678322367610459,
           8.678322367610459,
           8.678322367610459,
           8.678322367610459,
           8.678322367610459,
           8.678322367610459,
           8.678322367610459,
           8.678322367610459,
           8.678322367610459,
           8.678322367610459,
           8.678322367610459,
           8.678322367610459,
           8.678322367610459,
           8.678322367610459
          ],
          "sizemode": "area",
          "sizeref": 0.0625
         },
         "mode": "markers",
         "name": "E",
         "showlegend": true,
         "subplot": "mapbox",
         "type": "scattermapbox"
        },
        {
         "hovertemplate": "<b>%{hovertext}</b><br><br>Line=B<br>Rough Line Weight=%{marker.size}<br>Latitude=%{lat}<br>Longitude=%{lon}<extra></extra>",
         "hovertext": [
          "7th Street / Metro Center Station",
          "7th Street / Metro Center Station",
          "Union Station",
          "Union Station",
          "North Hollywood Station",
          "Universal / Studio City Station",
          "Hollywood / Highland Station",
          "Hollywood / Vine Station",
          "Hollywood / Western Station",
          "Vermont / Sunset Station",
          "Vermont / Santa Monica Station",
          "Vermont / Beverly Station",
          "Wilshire / Vermont Station",
          "Westlake / MacArthur Park Station",
          "Pershing Square Station",
          "Civic Center / Grand Park Station"
         ],
         "lat": [
          34.04863885,
          34.04863885,
          34.05620186,
          34.05620186,
          34.16850886,
          34.14000686,
          34.10155186,
          34.10163486,
          34.10174186,
          34.09771286,
          34.08991486,
          34.07653086,
          34.06270585,
          34.05637286,
          34.04932086,
          34.05490486
         ],
         "legendgroup": "B",
         "lon": [
          -118.2586942,
          -118.2586942,
          -118.2342612,
          -118.2342612,
          -118.3768202,
          -118.3627112,
          -118.3385612,
          -118.3251922,
          -118.3081292,
          -118.2917682,
          -118.2917422,
          -118.2916982,
          -118.2900942,
          -118.2748912,
          -118.2512712,
          -118.2460692
         ],
         "marker": {
          "color": "#ab63fa",
          "size": [
           25,
           25,
           25,
           25,
           25,
           25,
           25,
           25,
           25,
           25,
           25,
           25,
           25,
           25,
           25,
           25
          ],
          "sizemode": "area",
          "sizeref": 0.0625
         },
         "mode": "markers",
         "name": "B",
         "showlegend": true,
         "subplot": "mapbox",
         "type": "scattermapbox"
        },
        {
         "hovertemplate": "<b>%{hovertext}</b><br><br>Line=D<br>Rough Line Weight=%{marker.size}<br>Latitude=%{lat}<br>Longitude=%{lon}<extra></extra>",
         "hovertext": [
          "7th Street / Metro Center Station",
          "7th Street / Metro Center Station",
          "Union Station",
          "Union Station",
          "Wilshire / Vermont Station",
          "Westlake / MacArthur Park Station",
          "Pershing Square Station",
          "Civic Center / Grand Park Station",
          "Wilshire / Western Station",
          "Wilshire / Normandie Station"
         ],
         "lat": [
          34.04863885,
          34.04863885,
          34.05620186,
          34.05620186,
          34.06270585,
          34.05637286,
          34.04932086,
          34.05490486,
          34.06169385,
          34.06175785
         ],
         "legendgroup": "D",
         "lon": [
          -118.2586942,
          -118.2586942,
          -118.2342612,
          -118.2342612,
          -118.2900942,
          -118.2748912,
          -118.2512712,
          -118.2460692,
          -118.3087682,
          -118.3014702
         ],
         "marker": {
          "color": "#FFA15A",
          "size": [
           25,
           25,
           25,
           25,
           25,
           25,
           25,
           25,
           25,
           25
          ],
          "sizemode": "area",
          "sizeref": 0.0625
         },
         "mode": "markers",
         "name": "D",
         "showlegend": true,
         "subplot": "mapbox",
         "type": "scattermapbox"
        },
        {
         "hovertemplate": "<b>%{hovertext}</b><br><br>Line=K<br>Rough Line Weight=%{marker.size}<br>Latitude=%{lat}<br>Longitude=%{lon}<extra></extra>",
         "hovertext": [
          "Martin Luther King Jr Station",
          "Leimert Park Station",
          "Hyde Park Station",
          "Fairview Heights Station",
          "Downtown Inglewood Station"
         ],
         "lat": [
          34.01016656,
          34.00458152,
          33.98828975,
          33.97528429,
          33.96729917
         ],
         "legendgroup": "K",
         "lon": [
          -118.335347,
          -118.3326646,
          -118.3308357,
          -118.3360302,
          -118.3513927
         ],
         "marker": {
          "color": "#19d3f3",
          "size": [
           0.00030802592346171857,
           0.00030802592346171857,
           0.00030802592346171857,
           0.00030802592346171857,
           0.00030802592346171857
          ],
          "sizemode": "area",
          "sizeref": 0.0625
         },
         "mode": "markers",
         "name": "K",
         "showlegend": true,
         "subplot": "mapbox",
         "type": "scattermapbox"
        }
       ],
       "layout": {
        "height": 800,
        "legend": {
         "itemsizing": "constant",
         "title": {
          "text": "Line"
         },
         "tracegroupgap": 0
        },
        "mapbox": {
         "center": {
          "lat": 34.01491475605263,
          "lon": -118.24957591842106
         },
         "domain": {
          "x": [
           0,
           1
          ],
          "y": [
           0,
           1
          ]
         },
         "style": "carto-positron",
         "zoom": 8.8
        },
        "template": {
         "data": {
          "bar": [
           {
            "error_x": {
             "color": "#2a3f5f"
            },
            "error_y": {
             "color": "#2a3f5f"
            },
            "marker": {
             "line": {
              "color": "#E5ECF6",
              "width": 0.5
             },
             "pattern": {
              "fillmode": "overlay",
              "size": 10,
              "solidity": 0.2
             }
            },
            "type": "bar"
           }
          ],
          "barpolar": [
           {
            "marker": {
             "line": {
              "color": "#E5ECF6",
              "width": 0.5
             },
             "pattern": {
              "fillmode": "overlay",
              "size": 10,
              "solidity": 0.2
             }
            },
            "type": "barpolar"
           }
          ],
          "carpet": [
           {
            "aaxis": {
             "endlinecolor": "#2a3f5f",
             "gridcolor": "white",
             "linecolor": "white",
             "minorgridcolor": "white",
             "startlinecolor": "#2a3f5f"
            },
            "baxis": {
             "endlinecolor": "#2a3f5f",
             "gridcolor": "white",
             "linecolor": "white",
             "minorgridcolor": "white",
             "startlinecolor": "#2a3f5f"
            },
            "type": "carpet"
           }
          ],
          "choropleth": [
           {
            "colorbar": {
             "outlinewidth": 0,
             "ticks": ""
            },
            "type": "choropleth"
           }
          ],
          "contour": [
           {
            "colorbar": {
             "outlinewidth": 0,
             "ticks": ""
            },
            "colorscale": [
             [
              0,
              "#0d0887"
             ],
             [
              0.1111111111111111,
              "#46039f"
             ],
             [
              0.2222222222222222,
              "#7201a8"
             ],
             [
              0.3333333333333333,
              "#9c179e"
             ],
             [
              0.4444444444444444,
              "#bd3786"
             ],
             [
              0.5555555555555556,
              "#d8576b"
             ],
             [
              0.6666666666666666,
              "#ed7953"
             ],
             [
              0.7777777777777778,
              "#fb9f3a"
             ],
             [
              0.8888888888888888,
              "#fdca26"
             ],
             [
              1,
              "#f0f921"
             ]
            ],
            "type": "contour"
           }
          ],
          "contourcarpet": [
           {
            "colorbar": {
             "outlinewidth": 0,
             "ticks": ""
            },
            "type": "contourcarpet"
           }
          ],
          "heatmap": [
           {
            "colorbar": {
             "outlinewidth": 0,
             "ticks": ""
            },
            "colorscale": [
             [
              0,
              "#0d0887"
             ],
             [
              0.1111111111111111,
              "#46039f"
             ],
             [
              0.2222222222222222,
              "#7201a8"
             ],
             [
              0.3333333333333333,
              "#9c179e"
             ],
             [
              0.4444444444444444,
              "#bd3786"
             ],
             [
              0.5555555555555556,
              "#d8576b"
             ],
             [
              0.6666666666666666,
              "#ed7953"
             ],
             [
              0.7777777777777778,
              "#fb9f3a"
             ],
             [
              0.8888888888888888,
              "#fdca26"
             ],
             [
              1,
              "#f0f921"
             ]
            ],
            "type": "heatmap"
           }
          ],
          "heatmapgl": [
           {
            "colorbar": {
             "outlinewidth": 0,
             "ticks": ""
            },
            "colorscale": [
             [
              0,
              "#0d0887"
             ],
             [
              0.1111111111111111,
              "#46039f"
             ],
             [
              0.2222222222222222,
              "#7201a8"
             ],
             [
              0.3333333333333333,
              "#9c179e"
             ],
             [
              0.4444444444444444,
              "#bd3786"
             ],
             [
              0.5555555555555556,
              "#d8576b"
             ],
             [
              0.6666666666666666,
              "#ed7953"
             ],
             [
              0.7777777777777778,
              "#fb9f3a"
             ],
             [
              0.8888888888888888,
              "#fdca26"
             ],
             [
              1,
              "#f0f921"
             ]
            ],
            "type": "heatmapgl"
           }
          ],
          "histogram": [
           {
            "marker": {
             "pattern": {
              "fillmode": "overlay",
              "size": 10,
              "solidity": 0.2
             }
            },
            "type": "histogram"
           }
          ],
          "histogram2d": [
           {
            "colorbar": {
             "outlinewidth": 0,
             "ticks": ""
            },
            "colorscale": [
             [
              0,
              "#0d0887"
             ],
             [
              0.1111111111111111,
              "#46039f"
             ],
             [
              0.2222222222222222,
              "#7201a8"
             ],
             [
              0.3333333333333333,
              "#9c179e"
             ],
             [
              0.4444444444444444,
              "#bd3786"
             ],
             [
              0.5555555555555556,
              "#d8576b"
             ],
             [
              0.6666666666666666,
              "#ed7953"
             ],
             [
              0.7777777777777778,
              "#fb9f3a"
             ],
             [
              0.8888888888888888,
              "#fdca26"
             ],
             [
              1,
              "#f0f921"
             ]
            ],
            "type": "histogram2d"
           }
          ],
          "histogram2dcontour": [
           {
            "colorbar": {
             "outlinewidth": 0,
             "ticks": ""
            },
            "colorscale": [
             [
              0,
              "#0d0887"
             ],
             [
              0.1111111111111111,
              "#46039f"
             ],
             [
              0.2222222222222222,
              "#7201a8"
             ],
             [
              0.3333333333333333,
              "#9c179e"
             ],
             [
              0.4444444444444444,
              "#bd3786"
             ],
             [
              0.5555555555555556,
              "#d8576b"
             ],
             [
              0.6666666666666666,
              "#ed7953"
             ],
             [
              0.7777777777777778,
              "#fb9f3a"
             ],
             [
              0.8888888888888888,
              "#fdca26"
             ],
             [
              1,
              "#f0f921"
             ]
            ],
            "type": "histogram2dcontour"
           }
          ],
          "mesh3d": [
           {
            "colorbar": {
             "outlinewidth": 0,
             "ticks": ""
            },
            "type": "mesh3d"
           }
          ],
          "parcoords": [
           {
            "line": {
             "colorbar": {
              "outlinewidth": 0,
              "ticks": ""
             }
            },
            "type": "parcoords"
           }
          ],
          "pie": [
           {
            "automargin": true,
            "type": "pie"
           }
          ],
          "scatter": [
           {
            "fillpattern": {
             "fillmode": "overlay",
             "size": 10,
             "solidity": 0.2
            },
            "type": "scatter"
           }
          ],
          "scatter3d": [
           {
            "line": {
             "colorbar": {
              "outlinewidth": 0,
              "ticks": ""
             }
            },
            "marker": {
             "colorbar": {
              "outlinewidth": 0,
              "ticks": ""
             }
            },
            "type": "scatter3d"
           }
          ],
          "scattercarpet": [
           {
            "marker": {
             "colorbar": {
              "outlinewidth": 0,
              "ticks": ""
             }
            },
            "type": "scattercarpet"
           }
          ],
          "scattergeo": [
           {
            "marker": {
             "colorbar": {
              "outlinewidth": 0,
              "ticks": ""
             }
            },
            "type": "scattergeo"
           }
          ],
          "scattergl": [
           {
            "marker": {
             "colorbar": {
              "outlinewidth": 0,
              "ticks": ""
             }
            },
            "type": "scattergl"
           }
          ],
          "scattermapbox": [
           {
            "marker": {
             "colorbar": {
              "outlinewidth": 0,
              "ticks": ""
             }
            },
            "type": "scattermapbox"
           }
          ],
          "scatterpolar": [
           {
            "marker": {
             "colorbar": {
              "outlinewidth": 0,
              "ticks": ""
             }
            },
            "type": "scatterpolar"
           }
          ],
          "scatterpolargl": [
           {
            "marker": {
             "colorbar": {
              "outlinewidth": 0,
              "ticks": ""
             }
            },
            "type": "scatterpolargl"
           }
          ],
          "scatterternary": [
           {
            "marker": {
             "colorbar": {
              "outlinewidth": 0,
              "ticks": ""
             }
            },
            "type": "scatterternary"
           }
          ],
          "surface": [
           {
            "colorbar": {
             "outlinewidth": 0,
             "ticks": ""
            },
            "colorscale": [
             [
              0,
              "#0d0887"
             ],
             [
              0.1111111111111111,
              "#46039f"
             ],
             [
              0.2222222222222222,
              "#7201a8"
             ],
             [
              0.3333333333333333,
              "#9c179e"
             ],
             [
              0.4444444444444444,
              "#bd3786"
             ],
             [
              0.5555555555555556,
              "#d8576b"
             ],
             [
              0.6666666666666666,
              "#ed7953"
             ],
             [
              0.7777777777777778,
              "#fb9f3a"
             ],
             [
              0.8888888888888888,
              "#fdca26"
             ],
             [
              1,
              "#f0f921"
             ]
            ],
            "type": "surface"
           }
          ],
          "table": [
           {
            "cells": {
             "fill": {
              "color": "#EBF0F8"
             },
             "line": {
              "color": "white"
             }
            },
            "header": {
             "fill": {
              "color": "#C8D4E3"
             },
             "line": {
              "color": "white"
             }
            },
            "type": "table"
           }
          ]
         },
         "layout": {
          "annotationdefaults": {
           "arrowcolor": "#2a3f5f",
           "arrowhead": 0,
           "arrowwidth": 1
          },
          "autotypenumbers": "strict",
          "coloraxis": {
           "colorbar": {
            "outlinewidth": 0,
            "ticks": ""
           }
          },
          "colorscale": {
           "diverging": [
            [
             0,
             "#8e0152"
            ],
            [
             0.1,
             "#c51b7d"
            ],
            [
             0.2,
             "#de77ae"
            ],
            [
             0.3,
             "#f1b6da"
            ],
            [
             0.4,
             "#fde0ef"
            ],
            [
             0.5,
             "#f7f7f7"
            ],
            [
             0.6,
             "#e6f5d0"
            ],
            [
             0.7,
             "#b8e186"
            ],
            [
             0.8,
             "#7fbc41"
            ],
            [
             0.9,
             "#4d9221"
            ],
            [
             1,
             "#276419"
            ]
           ],
           "sequential": [
            [
             0,
             "#0d0887"
            ],
            [
             0.1111111111111111,
             "#46039f"
            ],
            [
             0.2222222222222222,
             "#7201a8"
            ],
            [
             0.3333333333333333,
             "#9c179e"
            ],
            [
             0.4444444444444444,
             "#bd3786"
            ],
            [
             0.5555555555555556,
             "#d8576b"
            ],
            [
             0.6666666666666666,
             "#ed7953"
            ],
            [
             0.7777777777777778,
             "#fb9f3a"
            ],
            [
             0.8888888888888888,
             "#fdca26"
            ],
            [
             1,
             "#f0f921"
            ]
           ],
           "sequentialminus": [
            [
             0,
             "#0d0887"
            ],
            [
             0.1111111111111111,
             "#46039f"
            ],
            [
             0.2222222222222222,
             "#7201a8"
            ],
            [
             0.3333333333333333,
             "#9c179e"
            ],
            [
             0.4444444444444444,
             "#bd3786"
            ],
            [
             0.5555555555555556,
             "#d8576b"
            ],
            [
             0.6666666666666666,
             "#ed7953"
            ],
            [
             0.7777777777777778,
             "#fb9f3a"
            ],
            [
             0.8888888888888888,
             "#fdca26"
            ],
            [
             1,
             "#f0f921"
            ]
           ]
          },
          "colorway": [
           "#636efa",
           "#EF553B",
           "#00cc96",
           "#ab63fa",
           "#FFA15A",
           "#19d3f3",
           "#FF6692",
           "#B6E880",
           "#FF97FF",
           "#FECB52"
          ],
          "font": {
           "color": "#2a3f5f"
          },
          "geo": {
           "bgcolor": "white",
           "lakecolor": "white",
           "landcolor": "#E5ECF6",
           "showlakes": true,
           "showland": true,
           "subunitcolor": "white"
          },
          "hoverlabel": {
           "align": "left"
          },
          "hovermode": "closest",
          "mapbox": {
           "style": "light"
          },
          "paper_bgcolor": "white",
          "plot_bgcolor": "#E5ECF6",
          "polar": {
           "angularaxis": {
            "gridcolor": "white",
            "linecolor": "white",
            "ticks": ""
           },
           "bgcolor": "#E5ECF6",
           "radialaxis": {
            "gridcolor": "white",
            "linecolor": "white",
            "ticks": ""
           }
          },
          "scene": {
           "xaxis": {
            "backgroundcolor": "#E5ECF6",
            "gridcolor": "white",
            "gridwidth": 2,
            "linecolor": "white",
            "showbackground": true,
            "ticks": "",
            "zerolinecolor": "white"
           },
           "yaxis": {
            "backgroundcolor": "#E5ECF6",
            "gridcolor": "white",
            "gridwidth": 2,
            "linecolor": "white",
            "showbackground": true,
            "ticks": "",
            "zerolinecolor": "white"
           },
           "zaxis": {
            "backgroundcolor": "#E5ECF6",
            "gridcolor": "white",
            "gridwidth": 2,
            "linecolor": "white",
            "showbackground": true,
            "ticks": "",
            "zerolinecolor": "white"
           }
          },
          "shapedefaults": {
           "line": {
            "color": "#2a3f5f"
           }
          },
          "ternary": {
           "aaxis": {
            "gridcolor": "white",
            "linecolor": "white",
            "ticks": ""
           },
           "baxis": {
            "gridcolor": "white",
            "linecolor": "white",
            "ticks": ""
           },
           "bgcolor": "#E5ECF6",
           "caxis": {
            "gridcolor": "white",
            "linecolor": "white",
            "ticks": ""
           }
          },
          "title": {
           "x": 0.05
          },
          "xaxis": {
           "automargin": true,
           "gridcolor": "white",
           "linecolor": "white",
           "ticks": "",
           "title": {
            "standoff": 15
           },
           "zerolinecolor": "white",
           "zerolinewidth": 2
          },
          "yaxis": {
           "automargin": true,
           "gridcolor": "white",
           "linecolor": "white",
           "ticks": "",
           "title": {
            "standoff": 15
           },
           "zerolinecolor": "white",
           "zerolinewidth": 2
          }
         }
        },
        "title": {
         "text": "Graph Representation of LA Metro Station Locations by Line (With Ridership Weights)"
        },
        "width": 800
       }
      }
     },
     "metadata": {},
     "output_type": "display_data"
    }
   ],
   "source": [
    "#disconnected station map with line/ridership weights\n",
    "fig = px.scatter_mapbox(df, \n",
    "                        lat = \"Latitude\",\n",
    "                        lon = \"Longitude\",\n",
    "                        color = \"Line\",\n",
    "                        size = \"Rough Line Weight\",\n",
    "                        hover_name = \"Name\",\n",
    "                        zoom = 8.8,\n",
    "                        height = 800,\n",
    "                        width = 800,\n",
    "                        title = \"Graph Representation of LA Metro Station Locations by Line (With Ridership Weights)\",\n",
    "                        mapbox_style = \"carto-positron\")\n",
    "\n",
    "fig.show()"
   ]
  },
  {
   "cell_type": "markdown",
   "metadata": {},
   "source": [
    "Finally, lets read in the stations ranked in the top 20 by the RLP formula and let's merge the dataframes again."
   ]
  },
  {
   "cell_type": "code",
   "execution_count": 22,
   "metadata": {},
   "outputs": [
    {
     "data": {
      "text/html": [
       "<div>\n",
       "<style scoped>\n",
       "    .dataframe tbody tr th:only-of-type {\n",
       "        vertical-align: middle;\n",
       "    }\n",
       "\n",
       "    .dataframe tbody tr th {\n",
       "        vertical-align: top;\n",
       "    }\n",
       "\n",
       "    .dataframe thead th {\n",
       "        text-align: right;\n",
       "    }\n",
       "</style>\n",
       "<table border=\"1\" class=\"dataframe\">\n",
       "  <thead>\n",
       "    <tr style=\"text-align: right;\">\n",
       "      <th></th>\n",
       "      <th>Unnamed: 0</th>\n",
       "      <th>Station ID</th>\n",
       "      <th>Station Rank</th>\n",
       "    </tr>\n",
       "  </thead>\n",
       "  <tbody>\n",
       "    <tr>\n",
       "      <th>0</th>\n",
       "      <td>0</td>\n",
       "      <td>80122</td>\n",
       "      <td>1</td>\n",
       "    </tr>\n",
       "    <tr>\n",
       "      <th>1</th>\n",
       "      <td>1</td>\n",
       "      <td>80124</td>\n",
       "      <td>2</td>\n",
       "    </tr>\n",
       "    <tr>\n",
       "      <th>2</th>\n",
       "      <td>2</td>\n",
       "      <td>80213</td>\n",
       "      <td>3</td>\n",
       "    </tr>\n",
       "    <tr>\n",
       "      <th>3</th>\n",
       "      <td>3</td>\n",
       "      <td>80215</td>\n",
       "      <td>4</td>\n",
       "    </tr>\n",
       "    <tr>\n",
       "      <th>4</th>\n",
       "      <td>4</td>\n",
       "      <td>80409</td>\n",
       "      <td>5</td>\n",
       "    </tr>\n",
       "    <tr>\n",
       "      <th>5</th>\n",
       "      <td>5</td>\n",
       "      <td>80120</td>\n",
       "      <td>6</td>\n",
       "    </tr>\n",
       "    <tr>\n",
       "      <th>6</th>\n",
       "      <td>6</td>\n",
       "      <td>80126</td>\n",
       "      <td>7</td>\n",
       "    </tr>\n",
       "    <tr>\n",
       "      <th>7</th>\n",
       "      <td>7</td>\n",
       "      <td>80214</td>\n",
       "      <td>8</td>\n",
       "    </tr>\n",
       "    <tr>\n",
       "      <th>8</th>\n",
       "      <td>8</td>\n",
       "      <td>80121</td>\n",
       "      <td>9</td>\n",
       "    </tr>\n",
       "    <tr>\n",
       "      <th>9</th>\n",
       "      <td>9</td>\n",
       "      <td>80123</td>\n",
       "      <td>10</td>\n",
       "    </tr>\n",
       "    <tr>\n",
       "      <th>10</th>\n",
       "      <td>10</td>\n",
       "      <td>80125</td>\n",
       "      <td>11</td>\n",
       "    </tr>\n",
       "    <tr>\n",
       "      <th>11</th>\n",
       "      <td>11</td>\n",
       "      <td>80211</td>\n",
       "      <td>12</td>\n",
       "    </tr>\n",
       "    <tr>\n",
       "      <th>12</th>\n",
       "      <td>12</td>\n",
       "      <td>80212</td>\n",
       "      <td>13</td>\n",
       "    </tr>\n",
       "    <tr>\n",
       "      <th>13</th>\n",
       "      <td>13</td>\n",
       "      <td>80119</td>\n",
       "      <td>14</td>\n",
       "    </tr>\n",
       "    <tr>\n",
       "      <th>14</th>\n",
       "      <td>14</td>\n",
       "      <td>80127</td>\n",
       "      <td>15</td>\n",
       "    </tr>\n",
       "    <tr>\n",
       "      <th>15</th>\n",
       "      <td>15</td>\n",
       "      <td>80216</td>\n",
       "      <td>16</td>\n",
       "    </tr>\n",
       "    <tr>\n",
       "      <th>16</th>\n",
       "      <td>16</td>\n",
       "      <td>80410</td>\n",
       "      <td>17</td>\n",
       "    </tr>\n",
       "    <tr>\n",
       "      <th>17</th>\n",
       "      <td>17</td>\n",
       "      <td>80118</td>\n",
       "      <td>18</td>\n",
       "    </tr>\n",
       "    <tr>\n",
       "      <th>18</th>\n",
       "      <td>18</td>\n",
       "      <td>80128</td>\n",
       "      <td>19</td>\n",
       "    </tr>\n",
       "    <tr>\n",
       "      <th>19</th>\n",
       "      <td>19</td>\n",
       "      <td>80210</td>\n",
       "      <td>20</td>\n",
       "    </tr>\n",
       "    <tr>\n",
       "      <th>20</th>\n",
       "      <td>20</td>\n",
       "      <td>80411</td>\n",
       "      <td>21</td>\n",
       "    </tr>\n",
       "  </tbody>\n",
       "</table>\n",
       "</div>"
      ],
      "text/plain": [
       "    Unnamed: 0  Station ID  Station Rank\n",
       "0            0       80122             1\n",
       "1            1       80124             2\n",
       "2            2       80213             3\n",
       "3            3       80215             4\n",
       "4            4       80409             5\n",
       "5            5       80120             6\n",
       "6            6       80126             7\n",
       "7            7       80214             8\n",
       "8            8       80121             9\n",
       "9            9       80123            10\n",
       "10          10       80125            11\n",
       "11          11       80211            12\n",
       "12          12       80212            13\n",
       "13          13       80119            14\n",
       "14          14       80127            15\n",
       "15          15       80216            16\n",
       "16          16       80410            17\n",
       "17          17       80118            18\n",
       "18          18       80128            19\n",
       "19          19       80210            20\n",
       "20          20       80411            21"
      ]
     },
     "execution_count": 22,
     "metadata": {},
     "output_type": "execute_result"
    }
   ],
   "source": [
    "#read in a dataframe with the important stations ranked by the formula\n",
    "ranks = pd.read_csv(\"Dataframes/Stations by Rank.csv\")\n",
    "ranks"
   ]
  },
  {
   "cell_type": "code",
   "execution_count": 23,
   "metadata": {},
   "outputs": [],
   "source": [
    "#merge ranks into df on the station IDs\n",
    "df = pd.merge(df, ranks, on=\"Station ID\")"
   ]
  },
  {
   "cell_type": "markdown",
   "metadata": {},
   "source": [
    "Now, lets take a look at our final data."
   ]
  },
  {
   "cell_type": "code",
   "execution_count": 24,
   "metadata": {},
   "outputs": [
    {
     "data": {
      "text/html": [
       "<div>\n",
       "<style scoped>\n",
       "    .dataframe tbody tr th:only-of-type {\n",
       "        vertical-align: middle;\n",
       "    }\n",
       "\n",
       "    .dataframe tbody tr th {\n",
       "        vertical-align: top;\n",
       "    }\n",
       "\n",
       "    .dataframe thead th {\n",
       "        text-align: right;\n",
       "    }\n",
       "</style>\n",
       "<table border=\"1\" class=\"dataframe\">\n",
       "  <thead>\n",
       "    <tr style=\"text-align: right;\">\n",
       "      <th></th>\n",
       "      <th>Station ID</th>\n",
       "      <th>Name</th>\n",
       "      <th>Latitude</th>\n",
       "      <th>Longitude</th>\n",
       "      <th>Lines</th>\n",
       "      <th>Line</th>\n",
       "      <th>Average Weekday Ridership</th>\n",
       "      <th>Rough Line Weight</th>\n",
       "      <th>Unnamed: 0</th>\n",
       "      <th>Station Rank</th>\n",
       "    </tr>\n",
       "  </thead>\n",
       "  <tbody>\n",
       "    <tr>\n",
       "      <th>0</th>\n",
       "      <td>80118</td>\n",
       "      <td>Washington Station</td>\n",
       "      <td>34.019655</td>\n",
       "      <td>-118.243096</td>\n",
       "      <td>['Blue']</td>\n",
       "      <td>A</td>\n",
       "      <td>31752</td>\n",
       "      <td>9.780439</td>\n",
       "      <td>17</td>\n",
       "      <td>18</td>\n",
       "    </tr>\n",
       "    <tr>\n",
       "      <th>1</th>\n",
       "      <td>80119</td>\n",
       "      <td>San Pedro Street Station</td>\n",
       "      <td>34.026812</td>\n",
       "      <td>-118.255517</td>\n",
       "      <td>['Blue']</td>\n",
       "      <td>A</td>\n",
       "      <td>31752</td>\n",
       "      <td>9.780439</td>\n",
       "      <td>13</td>\n",
       "      <td>14</td>\n",
       "    </tr>\n",
       "    <tr>\n",
       "      <th>2</th>\n",
       "      <td>80120</td>\n",
       "      <td>Grand / LATTC Station</td>\n",
       "      <td>34.033160</td>\n",
       "      <td>-118.269345</td>\n",
       "      <td>['Blue']</td>\n",
       "      <td>A</td>\n",
       "      <td>31752</td>\n",
       "      <td>9.780439</td>\n",
       "      <td>5</td>\n",
       "      <td>6</td>\n",
       "    </tr>\n",
       "    <tr>\n",
       "      <th>3</th>\n",
       "      <td>80121</td>\n",
       "      <td>Pico Station</td>\n",
       "      <td>34.040740</td>\n",
       "      <td>-118.266130</td>\n",
       "      <td>['Blue', 'Expo']</td>\n",
       "      <td>A</td>\n",
       "      <td>31752</td>\n",
       "      <td>9.780439</td>\n",
       "      <td>8</td>\n",
       "      <td>9</td>\n",
       "    </tr>\n",
       "    <tr>\n",
       "      <th>4</th>\n",
       "      <td>80121</td>\n",
       "      <td>Pico Station</td>\n",
       "      <td>34.040740</td>\n",
       "      <td>-118.266130</td>\n",
       "      <td>['Blue', 'Expo']</td>\n",
       "      <td>E</td>\n",
       "      <td>28174</td>\n",
       "      <td>8.678322</td>\n",
       "      <td>8</td>\n",
       "      <td>9</td>\n",
       "    </tr>\n",
       "    <tr>\n",
       "      <th>5</th>\n",
       "      <td>80122</td>\n",
       "      <td>7th Street / Metro Center Station</td>\n",
       "      <td>34.048615</td>\n",
       "      <td>-118.258834</td>\n",
       "      <td>['Blue', 'Expo']</td>\n",
       "      <td>A</td>\n",
       "      <td>31752</td>\n",
       "      <td>9.780439</td>\n",
       "      <td>0</td>\n",
       "      <td>1</td>\n",
       "    </tr>\n",
       "    <tr>\n",
       "      <th>6</th>\n",
       "      <td>80122</td>\n",
       "      <td>7th Street / Metro Center Station</td>\n",
       "      <td>34.048639</td>\n",
       "      <td>-118.258694</td>\n",
       "      <td>['Red', 'Purple']</td>\n",
       "      <td>B</td>\n",
       "      <td>81162</td>\n",
       "      <td>25.000000</td>\n",
       "      <td>0</td>\n",
       "      <td>1</td>\n",
       "    </tr>\n",
       "    <tr>\n",
       "      <th>7</th>\n",
       "      <td>80122</td>\n",
       "      <td>7th Street / Metro Center Station</td>\n",
       "      <td>34.048639</td>\n",
       "      <td>-118.258694</td>\n",
       "      <td>['Red', 'Purple']</td>\n",
       "      <td>D</td>\n",
       "      <td>81162</td>\n",
       "      <td>25.000000</td>\n",
       "      <td>0</td>\n",
       "      <td>1</td>\n",
       "    </tr>\n",
       "    <tr>\n",
       "      <th>8</th>\n",
       "      <td>80122</td>\n",
       "      <td>7th Street / Metro Center Station</td>\n",
       "      <td>34.048615</td>\n",
       "      <td>-118.258834</td>\n",
       "      <td>['Blue', 'Expo']</td>\n",
       "      <td>E</td>\n",
       "      <td>28174</td>\n",
       "      <td>8.678322</td>\n",
       "      <td>0</td>\n",
       "      <td>1</td>\n",
       "    </tr>\n",
       "    <tr>\n",
       "      <th>9</th>\n",
       "      <td>80211</td>\n",
       "      <td>7th Street / Metro Center Station</td>\n",
       "      <td>34.048615</td>\n",
       "      <td>-118.258834</td>\n",
       "      <td>['Blue', 'Expo']</td>\n",
       "      <td>A</td>\n",
       "      <td>31752</td>\n",
       "      <td>9.780439</td>\n",
       "      <td>11</td>\n",
       "      <td>12</td>\n",
       "    </tr>\n",
       "    <tr>\n",
       "      <th>10</th>\n",
       "      <td>80211</td>\n",
       "      <td>7th Street / Metro Center Station</td>\n",
       "      <td>34.048639</td>\n",
       "      <td>-118.258694</td>\n",
       "      <td>['Red', 'Purple']</td>\n",
       "      <td>B</td>\n",
       "      <td>81162</td>\n",
       "      <td>25.000000</td>\n",
       "      <td>11</td>\n",
       "      <td>12</td>\n",
       "    </tr>\n",
       "    <tr>\n",
       "      <th>11</th>\n",
       "      <td>80211</td>\n",
       "      <td>7th Street / Metro Center Station</td>\n",
       "      <td>34.048639</td>\n",
       "      <td>-118.258694</td>\n",
       "      <td>['Red', 'Purple']</td>\n",
       "      <td>D</td>\n",
       "      <td>81162</td>\n",
       "      <td>25.000000</td>\n",
       "      <td>11</td>\n",
       "      <td>12</td>\n",
       "    </tr>\n",
       "    <tr>\n",
       "      <th>12</th>\n",
       "      <td>80211</td>\n",
       "      <td>7th Street / Metro Center Station</td>\n",
       "      <td>34.048615</td>\n",
       "      <td>-118.258834</td>\n",
       "      <td>['Blue', 'Expo']</td>\n",
       "      <td>E</td>\n",
       "      <td>28174</td>\n",
       "      <td>8.678322</td>\n",
       "      <td>11</td>\n",
       "      <td>12</td>\n",
       "    </tr>\n",
       "    <tr>\n",
       "      <th>13</th>\n",
       "      <td>80214</td>\n",
       "      <td>Union Station</td>\n",
       "      <td>34.056066</td>\n",
       "      <td>-118.234771</td>\n",
       "      <td>['Gold']</td>\n",
       "      <td>A</td>\n",
       "      <td>31752</td>\n",
       "      <td>9.780439</td>\n",
       "      <td>7</td>\n",
       "      <td>8</td>\n",
       "    </tr>\n",
       "    <tr>\n",
       "      <th>14</th>\n",
       "      <td>80214</td>\n",
       "      <td>Union Station</td>\n",
       "      <td>34.056202</td>\n",
       "      <td>-118.234261</td>\n",
       "      <td>['Red', 'Purple']</td>\n",
       "      <td>B</td>\n",
       "      <td>81162</td>\n",
       "      <td>25.000000</td>\n",
       "      <td>7</td>\n",
       "      <td>8</td>\n",
       "    </tr>\n",
       "    <tr>\n",
       "      <th>15</th>\n",
       "      <td>80214</td>\n",
       "      <td>Union Station</td>\n",
       "      <td>34.056202</td>\n",
       "      <td>-118.234261</td>\n",
       "      <td>['Red', 'Purple']</td>\n",
       "      <td>D</td>\n",
       "      <td>81162</td>\n",
       "      <td>25.000000</td>\n",
       "      <td>7</td>\n",
       "      <td>8</td>\n",
       "    </tr>\n",
       "    <tr>\n",
       "      <th>16</th>\n",
       "      <td>80409</td>\n",
       "      <td>Union Station</td>\n",
       "      <td>34.056066</td>\n",
       "      <td>-118.234771</td>\n",
       "      <td>['Gold']</td>\n",
       "      <td>A</td>\n",
       "      <td>31752</td>\n",
       "      <td>9.780439</td>\n",
       "      <td>4</td>\n",
       "      <td>5</td>\n",
       "    </tr>\n",
       "    <tr>\n",
       "      <th>17</th>\n",
       "      <td>80409</td>\n",
       "      <td>Union Station</td>\n",
       "      <td>34.056202</td>\n",
       "      <td>-118.234261</td>\n",
       "      <td>['Red', 'Purple']</td>\n",
       "      <td>B</td>\n",
       "      <td>81162</td>\n",
       "      <td>25.000000</td>\n",
       "      <td>4</td>\n",
       "      <td>5</td>\n",
       "    </tr>\n",
       "    <tr>\n",
       "      <th>18</th>\n",
       "      <td>80409</td>\n",
       "      <td>Union Station</td>\n",
       "      <td>34.056202</td>\n",
       "      <td>-118.234261</td>\n",
       "      <td>['Red', 'Purple']</td>\n",
       "      <td>D</td>\n",
       "      <td>81162</td>\n",
       "      <td>25.000000</td>\n",
       "      <td>4</td>\n",
       "      <td>5</td>\n",
       "    </tr>\n",
       "    <tr>\n",
       "      <th>19</th>\n",
       "      <td>80410</td>\n",
       "      <td>Chinatown Station</td>\n",
       "      <td>34.063866</td>\n",
       "      <td>-118.235852</td>\n",
       "      <td>['Gold']</td>\n",
       "      <td>A</td>\n",
       "      <td>31752</td>\n",
       "      <td>9.780439</td>\n",
       "      <td>16</td>\n",
       "      <td>17</td>\n",
       "    </tr>\n",
       "    <tr>\n",
       "      <th>20</th>\n",
       "      <td>80411</td>\n",
       "      <td>Lincoln Heights / Cypress Park Station</td>\n",
       "      <td>34.080954</td>\n",
       "      <td>-118.220441</td>\n",
       "      <td>['Gold']</td>\n",
       "      <td>A</td>\n",
       "      <td>31752</td>\n",
       "      <td>9.780439</td>\n",
       "      <td>20</td>\n",
       "      <td>21</td>\n",
       "    </tr>\n",
       "    <tr>\n",
       "      <th>21</th>\n",
       "      <td>80210</td>\n",
       "      <td>Westlake / MacArthur Park Station</td>\n",
       "      <td>34.056373</td>\n",
       "      <td>-118.274891</td>\n",
       "      <td>['Red', 'Purple']</td>\n",
       "      <td>B</td>\n",
       "      <td>81162</td>\n",
       "      <td>25.000000</td>\n",
       "      <td>19</td>\n",
       "      <td>20</td>\n",
       "    </tr>\n",
       "    <tr>\n",
       "      <th>22</th>\n",
       "      <td>80210</td>\n",
       "      <td>Westlake / MacArthur Park Station</td>\n",
       "      <td>34.056373</td>\n",
       "      <td>-118.274891</td>\n",
       "      <td>['Red', 'Purple']</td>\n",
       "      <td>D</td>\n",
       "      <td>81162</td>\n",
       "      <td>25.000000</td>\n",
       "      <td>19</td>\n",
       "      <td>20</td>\n",
       "    </tr>\n",
       "    <tr>\n",
       "      <th>23</th>\n",
       "      <td>80212</td>\n",
       "      <td>Pershing Square Station</td>\n",
       "      <td>34.049321</td>\n",
       "      <td>-118.251271</td>\n",
       "      <td>['Red', 'Purple']</td>\n",
       "      <td>B</td>\n",
       "      <td>81162</td>\n",
       "      <td>25.000000</td>\n",
       "      <td>12</td>\n",
       "      <td>13</td>\n",
       "    </tr>\n",
       "    <tr>\n",
       "      <th>24</th>\n",
       "      <td>80212</td>\n",
       "      <td>Pershing Square Station</td>\n",
       "      <td>34.049321</td>\n",
       "      <td>-118.251271</td>\n",
       "      <td>['Red', 'Purple']</td>\n",
       "      <td>D</td>\n",
       "      <td>81162</td>\n",
       "      <td>25.000000</td>\n",
       "      <td>12</td>\n",
       "      <td>13</td>\n",
       "    </tr>\n",
       "    <tr>\n",
       "      <th>25</th>\n",
       "      <td>80213</td>\n",
       "      <td>Civic Center / Grand Park Station</td>\n",
       "      <td>34.054905</td>\n",
       "      <td>-118.246069</td>\n",
       "      <td>['Red', 'Purple']</td>\n",
       "      <td>B</td>\n",
       "      <td>81162</td>\n",
       "      <td>25.000000</td>\n",
       "      <td>2</td>\n",
       "      <td>3</td>\n",
       "    </tr>\n",
       "    <tr>\n",
       "      <th>26</th>\n",
       "      <td>80213</td>\n",
       "      <td>Civic Center / Grand Park Station</td>\n",
       "      <td>34.054905</td>\n",
       "      <td>-118.246069</td>\n",
       "      <td>['Red', 'Purple']</td>\n",
       "      <td>D</td>\n",
       "      <td>81162</td>\n",
       "      <td>25.000000</td>\n",
       "      <td>2</td>\n",
       "      <td>3</td>\n",
       "    </tr>\n",
       "    <tr>\n",
       "      <th>27</th>\n",
       "      <td>80216</td>\n",
       "      <td>Wilshire / Western Station</td>\n",
       "      <td>34.061694</td>\n",
       "      <td>-118.308768</td>\n",
       "      <td>['Purple']</td>\n",
       "      <td>D</td>\n",
       "      <td>81162</td>\n",
       "      <td>25.000000</td>\n",
       "      <td>15</td>\n",
       "      <td>16</td>\n",
       "    </tr>\n",
       "    <tr>\n",
       "      <th>28</th>\n",
       "      <td>80215</td>\n",
       "      <td>Wilshire / Normandie Station</td>\n",
       "      <td>34.061758</td>\n",
       "      <td>-118.301470</td>\n",
       "      <td>['Purple']</td>\n",
       "      <td>D</td>\n",
       "      <td>81162</td>\n",
       "      <td>25.000000</td>\n",
       "      <td>3</td>\n",
       "      <td>4</td>\n",
       "    </tr>\n",
       "    <tr>\n",
       "      <th>29</th>\n",
       "      <td>80123</td>\n",
       "      <td>LATTC / Ortho Institute Station</td>\n",
       "      <td>34.029117</td>\n",
       "      <td>-118.273615</td>\n",
       "      <td>['Expo']</td>\n",
       "      <td>E</td>\n",
       "      <td>28174</td>\n",
       "      <td>8.678322</td>\n",
       "      <td>9</td>\n",
       "      <td>10</td>\n",
       "    </tr>\n",
       "    <tr>\n",
       "      <th>30</th>\n",
       "      <td>80124</td>\n",
       "      <td>Jefferson / USC Station</td>\n",
       "      <td>34.022128</td>\n",
       "      <td>-118.278130</td>\n",
       "      <td>['Expo']</td>\n",
       "      <td>E</td>\n",
       "      <td>28174</td>\n",
       "      <td>8.678322</td>\n",
       "      <td>1</td>\n",
       "      <td>2</td>\n",
       "    </tr>\n",
       "    <tr>\n",
       "      <th>31</th>\n",
       "      <td>80125</td>\n",
       "      <td>Expo Park / USC Station</td>\n",
       "      <td>34.018232</td>\n",
       "      <td>-118.285746</td>\n",
       "      <td>['Expo']</td>\n",
       "      <td>E</td>\n",
       "      <td>28174</td>\n",
       "      <td>8.678322</td>\n",
       "      <td>10</td>\n",
       "      <td>11</td>\n",
       "    </tr>\n",
       "    <tr>\n",
       "      <th>32</th>\n",
       "      <td>80126</td>\n",
       "      <td>Expo / Vermont Station</td>\n",
       "      <td>34.018250</td>\n",
       "      <td>-118.291552</td>\n",
       "      <td>['Expo']</td>\n",
       "      <td>E</td>\n",
       "      <td>28174</td>\n",
       "      <td>8.678322</td>\n",
       "      <td>6</td>\n",
       "      <td>7</td>\n",
       "    </tr>\n",
       "    <tr>\n",
       "      <th>33</th>\n",
       "      <td>80127</td>\n",
       "      <td>Expo / Western Station</td>\n",
       "      <td>34.018336</td>\n",
       "      <td>-118.308922</td>\n",
       "      <td>['Expo']</td>\n",
       "      <td>E</td>\n",
       "      <td>28174</td>\n",
       "      <td>8.678322</td>\n",
       "      <td>14</td>\n",
       "      <td>15</td>\n",
       "    </tr>\n",
       "  </tbody>\n",
       "</table>\n",
       "</div>"
      ],
      "text/plain": [
       "    Station ID                                    Name   Latitude   Longitude  \\\n",
       "0        80118                      Washington Station  34.019655 -118.243096   \n",
       "1        80119                San Pedro Street Station  34.026812 -118.255517   \n",
       "2        80120                   Grand / LATTC Station  34.033160 -118.269345   \n",
       "3        80121                            Pico Station  34.040740 -118.266130   \n",
       "4        80121                            Pico Station  34.040740 -118.266130   \n",
       "5        80122       7th Street / Metro Center Station  34.048615 -118.258834   \n",
       "6        80122       7th Street / Metro Center Station  34.048639 -118.258694   \n",
       "7        80122       7th Street / Metro Center Station  34.048639 -118.258694   \n",
       "8        80122       7th Street / Metro Center Station  34.048615 -118.258834   \n",
       "9        80211       7th Street / Metro Center Station  34.048615 -118.258834   \n",
       "10       80211       7th Street / Metro Center Station  34.048639 -118.258694   \n",
       "11       80211       7th Street / Metro Center Station  34.048639 -118.258694   \n",
       "12       80211       7th Street / Metro Center Station  34.048615 -118.258834   \n",
       "13       80214                           Union Station  34.056066 -118.234771   \n",
       "14       80214                           Union Station  34.056202 -118.234261   \n",
       "15       80214                           Union Station  34.056202 -118.234261   \n",
       "16       80409                           Union Station  34.056066 -118.234771   \n",
       "17       80409                           Union Station  34.056202 -118.234261   \n",
       "18       80409                           Union Station  34.056202 -118.234261   \n",
       "19       80410                       Chinatown Station  34.063866 -118.235852   \n",
       "20       80411  Lincoln Heights / Cypress Park Station  34.080954 -118.220441   \n",
       "21       80210       Westlake / MacArthur Park Station  34.056373 -118.274891   \n",
       "22       80210       Westlake / MacArthur Park Station  34.056373 -118.274891   \n",
       "23       80212                 Pershing Square Station  34.049321 -118.251271   \n",
       "24       80212                 Pershing Square Station  34.049321 -118.251271   \n",
       "25       80213       Civic Center / Grand Park Station  34.054905 -118.246069   \n",
       "26       80213       Civic Center / Grand Park Station  34.054905 -118.246069   \n",
       "27       80216              Wilshire / Western Station  34.061694 -118.308768   \n",
       "28       80215            Wilshire / Normandie Station  34.061758 -118.301470   \n",
       "29       80123         LATTC / Ortho Institute Station  34.029117 -118.273615   \n",
       "30       80124                 Jefferson / USC Station  34.022128 -118.278130   \n",
       "31       80125                 Expo Park / USC Station  34.018232 -118.285746   \n",
       "32       80126                  Expo / Vermont Station  34.018250 -118.291552   \n",
       "33       80127                  Expo / Western Station  34.018336 -118.308922   \n",
       "\n",
       "                Lines Line  Average Weekday Ridership  Rough Line Weight  \\\n",
       "0            ['Blue']    A                      31752           9.780439   \n",
       "1            ['Blue']    A                      31752           9.780439   \n",
       "2            ['Blue']    A                      31752           9.780439   \n",
       "3    ['Blue', 'Expo']    A                      31752           9.780439   \n",
       "4    ['Blue', 'Expo']    E                      28174           8.678322   \n",
       "5    ['Blue', 'Expo']    A                      31752           9.780439   \n",
       "6   ['Red', 'Purple']    B                      81162          25.000000   \n",
       "7   ['Red', 'Purple']    D                      81162          25.000000   \n",
       "8    ['Blue', 'Expo']    E                      28174           8.678322   \n",
       "9    ['Blue', 'Expo']    A                      31752           9.780439   \n",
       "10  ['Red', 'Purple']    B                      81162          25.000000   \n",
       "11  ['Red', 'Purple']    D                      81162          25.000000   \n",
       "12   ['Blue', 'Expo']    E                      28174           8.678322   \n",
       "13           ['Gold']    A                      31752           9.780439   \n",
       "14  ['Red', 'Purple']    B                      81162          25.000000   \n",
       "15  ['Red', 'Purple']    D                      81162          25.000000   \n",
       "16           ['Gold']    A                      31752           9.780439   \n",
       "17  ['Red', 'Purple']    B                      81162          25.000000   \n",
       "18  ['Red', 'Purple']    D                      81162          25.000000   \n",
       "19           ['Gold']    A                      31752           9.780439   \n",
       "20           ['Gold']    A                      31752           9.780439   \n",
       "21  ['Red', 'Purple']    B                      81162          25.000000   \n",
       "22  ['Red', 'Purple']    D                      81162          25.000000   \n",
       "23  ['Red', 'Purple']    B                      81162          25.000000   \n",
       "24  ['Red', 'Purple']    D                      81162          25.000000   \n",
       "25  ['Red', 'Purple']    B                      81162          25.000000   \n",
       "26  ['Red', 'Purple']    D                      81162          25.000000   \n",
       "27         ['Purple']    D                      81162          25.000000   \n",
       "28         ['Purple']    D                      81162          25.000000   \n",
       "29           ['Expo']    E                      28174           8.678322   \n",
       "30           ['Expo']    E                      28174           8.678322   \n",
       "31           ['Expo']    E                      28174           8.678322   \n",
       "32           ['Expo']    E                      28174           8.678322   \n",
       "33           ['Expo']    E                      28174           8.678322   \n",
       "\n",
       "    Unnamed: 0  Station Rank  \n",
       "0           17            18  \n",
       "1           13            14  \n",
       "2            5             6  \n",
       "3            8             9  \n",
       "4            8             9  \n",
       "5            0             1  \n",
       "6            0             1  \n",
       "7            0             1  \n",
       "8            0             1  \n",
       "9           11            12  \n",
       "10          11            12  \n",
       "11          11            12  \n",
       "12          11            12  \n",
       "13           7             8  \n",
       "14           7             8  \n",
       "15           7             8  \n",
       "16           4             5  \n",
       "17           4             5  \n",
       "18           4             5  \n",
       "19          16            17  \n",
       "20          20            21  \n",
       "21          19            20  \n",
       "22          19            20  \n",
       "23          12            13  \n",
       "24          12            13  \n",
       "25           2             3  \n",
       "26           2             3  \n",
       "27          15            16  \n",
       "28           3             4  \n",
       "29           9            10  \n",
       "30           1             2  \n",
       "31          10            11  \n",
       "32           6             7  \n",
       "33          14            15  "
      ]
     },
     "execution_count": 24,
     "metadata": {},
     "output_type": "execute_result"
    }
   ],
   "source": [
    "df"
   ]
  },
  {
   "cell_type": "markdown",
   "metadata": {},
   "source": [
    "It's worth noting that some stations have multiple ranks as each of the platforms is ranked individually. 7th Street-Metro Center's A/E Line platform ranks #1 while the B/D line platform ranks #12. Interestingly enough, while the B and D lines have higher ridership than the combined ridership of the A and E lines, disruption at the A/E Line Platform is more impactful than disruption on the B/D Line Platform."
   ]
  },
  {
   "cell_type": "markdown",
   "metadata": {},
   "source": [
    "Let's do a similar thing as before. We can determine the relative size of the points by rank, but the ranks are currently in ascending order with 1 being the highest and 20 being the lowest. However, we want the highest rank to be the largest point on the graph. Let's also make the size descrepancies more apparent by doubling the value before trimming everything down to a reasonable size."
   ]
  },
  {
   "cell_type": "code",
   "execution_count": 25,
   "metadata": {},
   "outputs": [],
   "source": [
    "#rank plot node size formula\n",
    "#df[\"Station Rank Plot Size\"] is the column we are creating with the adjusted weights\n",
    "#df[\"Station Rank\"] is the column storing the RLP rank for the top 20 stations\n",
    "df[\"Station Rank Plot Size\"] = (25 - df[\"Station Rank\"]) * 2 - 5"
   ]
  },
  {
   "cell_type": "markdown",
   "metadata": {},
   "source": [
    "Now, let's plot these top-ranked stations and see the result!"
   ]
  },
  {
   "cell_type": "code",
   "execution_count": 26,
   "metadata": {},
   "outputs": [
    {
     "data": {
      "application/vnd.plotly.v1+json": {
       "config": {
        "plotlyServerURL": "https://plot.ly"
       },
       "data": [
        {
         "hovertemplate": "<b>%{hovertext}</b><br><br>Line=A<br>Station Rank Plot Size=%{marker.size}<br>Latitude=%{lat}<br>Longitude=%{lon}<extra></extra>",
         "hovertext": [
          "Washington Station",
          "San Pedro Street Station",
          "Grand / LATTC Station",
          "Pico Station",
          "7th Street / Metro Center Station",
          "7th Street / Metro Center Station",
          "Union Station",
          "Union Station",
          "Chinatown Station",
          "Lincoln Heights / Cypress Park Station"
         ],
         "lat": [
          34.01965485,
          34.02681185,
          34.03315985,
          34.04073985,
          34.04861486,
          34.04861486,
          34.05606586,
          34.05606586,
          34.06386586,
          34.08095386
         ],
         "legendgroup": "A",
         "lon": [
          -118.2430962,
          -118.2555172,
          -118.2693452,
          -118.2661302,
          -118.2588342,
          -118.2588342,
          -118.2347712,
          -118.2347712,
          -118.2358522,
          -118.2204412
         ],
         "marker": {
          "color": "#636efa",
          "opacity": 0.5,
          "size": [
           9,
           17,
           33,
           27,
           43,
           21,
           29,
           35,
           11,
           3
          ],
          "sizemode": "area",
          "sizeref": 0.1075
         },
         "mode": "markers",
         "name": "A",
         "showlegend": true,
         "subplot": "mapbox",
         "type": "scattermapbox"
        },
        {
         "hovertemplate": "<b>%{hovertext}</b><br><br>Line=E<br>Station Rank Plot Size=%{marker.size}<br>Latitude=%{lat}<br>Longitude=%{lon}<extra></extra>",
         "hovertext": [
          "Pico Station",
          "7th Street / Metro Center Station",
          "7th Street / Metro Center Station",
          "LATTC / Ortho Institute Station",
          "Jefferson / USC Station",
          "Expo Park / USC Station",
          "Expo / Vermont Station",
          "Expo / Western Station"
         ],
         "lat": [
          34.04073985,
          34.04861486,
          34.04861486,
          34.02911685,
          34.02212785,
          34.01823185,
          34.01824985,
          34.01833585
         ],
         "legendgroup": "E",
         "lon": [
          -118.2661302,
          -118.2588342,
          -118.2588342,
          -118.2736152,
          -118.2781302,
          -118.2857462,
          -118.2915522,
          -118.3089222
         ],
         "marker": {
          "color": "#EF553B",
          "opacity": 0.5,
          "size": [
           27,
           43,
           21,
           25,
           41,
           23,
           31,
           15
          ],
          "sizemode": "area",
          "sizeref": 0.1075
         },
         "mode": "markers",
         "name": "E",
         "showlegend": true,
         "subplot": "mapbox",
         "type": "scattermapbox"
        },
        {
         "hovertemplate": "<b>%{hovertext}</b><br><br>Line=B<br>Station Rank Plot Size=%{marker.size}<br>Latitude=%{lat}<br>Longitude=%{lon}<extra></extra>",
         "hovertext": [
          "7th Street / Metro Center Station",
          "7th Street / Metro Center Station",
          "Union Station",
          "Union Station",
          "Westlake / MacArthur Park Station",
          "Pershing Square Station",
          "Civic Center / Grand Park Station"
         ],
         "lat": [
          34.04863885,
          34.04863885,
          34.05620186,
          34.05620186,
          34.05637286,
          34.04932086,
          34.05490486
         ],
         "legendgroup": "B",
         "lon": [
          -118.2586942,
          -118.2586942,
          -118.2342612,
          -118.2342612,
          -118.2748912,
          -118.2512712,
          -118.2460692
         ],
         "marker": {
          "color": "#00cc96",
          "opacity": 0.5,
          "size": [
           43,
           21,
           29,
           35,
           5,
           19,
           39
          ],
          "sizemode": "area",
          "sizeref": 0.1075
         },
         "mode": "markers",
         "name": "B",
         "showlegend": true,
         "subplot": "mapbox",
         "type": "scattermapbox"
        },
        {
         "hovertemplate": "<b>%{hovertext}</b><br><br>Line=D<br>Station Rank Plot Size=%{marker.size}<br>Latitude=%{lat}<br>Longitude=%{lon}<extra></extra>",
         "hovertext": [
          "7th Street / Metro Center Station",
          "7th Street / Metro Center Station",
          "Union Station",
          "Union Station",
          "Westlake / MacArthur Park Station",
          "Pershing Square Station",
          "Civic Center / Grand Park Station",
          "Wilshire / Western Station",
          "Wilshire / Normandie Station"
         ],
         "lat": [
          34.04863885,
          34.04863885,
          34.05620186,
          34.05620186,
          34.05637286,
          34.04932086,
          34.05490486,
          34.06169385,
          34.06175785
         ],
         "legendgroup": "D",
         "lon": [
          -118.2586942,
          -118.2586942,
          -118.2342612,
          -118.2342612,
          -118.2748912,
          -118.2512712,
          -118.2460692,
          -118.3087682,
          -118.3014702
         ],
         "marker": {
          "color": "#ab63fa",
          "opacity": 0.5,
          "size": [
           43,
           21,
           29,
           35,
           5,
           19,
           39,
           13,
           37
          ],
          "sizemode": "area",
          "sizeref": 0.1075
         },
         "mode": "markers",
         "name": "D",
         "showlegend": true,
         "subplot": "mapbox",
         "type": "scattermapbox"
        }
       ],
       "layout": {
        "height": 800,
        "legend": {
         "itemsizing": "constant",
         "title": {
          "text": "Line"
         },
         "tracegroupgap": 0
        },
        "mapbox": {
         "center": {
          "lat": 34.046546796470594,
          "lon": -118.25958472941176
         },
         "domain": {
          "x": [
           0,
           1
          ],
          "y": [
           0,
           1
          ]
         },
         "style": "carto-positron",
         "zoom": 8.8
        },
        "template": {
         "data": {
          "bar": [
           {
            "error_x": {
             "color": "#2a3f5f"
            },
            "error_y": {
             "color": "#2a3f5f"
            },
            "marker": {
             "line": {
              "color": "#E5ECF6",
              "width": 0.5
             },
             "pattern": {
              "fillmode": "overlay",
              "size": 10,
              "solidity": 0.2
             }
            },
            "type": "bar"
           }
          ],
          "barpolar": [
           {
            "marker": {
             "line": {
              "color": "#E5ECF6",
              "width": 0.5
             },
             "pattern": {
              "fillmode": "overlay",
              "size": 10,
              "solidity": 0.2
             }
            },
            "type": "barpolar"
           }
          ],
          "carpet": [
           {
            "aaxis": {
             "endlinecolor": "#2a3f5f",
             "gridcolor": "white",
             "linecolor": "white",
             "minorgridcolor": "white",
             "startlinecolor": "#2a3f5f"
            },
            "baxis": {
             "endlinecolor": "#2a3f5f",
             "gridcolor": "white",
             "linecolor": "white",
             "minorgridcolor": "white",
             "startlinecolor": "#2a3f5f"
            },
            "type": "carpet"
           }
          ],
          "choropleth": [
           {
            "colorbar": {
             "outlinewidth": 0,
             "ticks": ""
            },
            "type": "choropleth"
           }
          ],
          "contour": [
           {
            "colorbar": {
             "outlinewidth": 0,
             "ticks": ""
            },
            "colorscale": [
             [
              0,
              "#0d0887"
             ],
             [
              0.1111111111111111,
              "#46039f"
             ],
             [
              0.2222222222222222,
              "#7201a8"
             ],
             [
              0.3333333333333333,
              "#9c179e"
             ],
             [
              0.4444444444444444,
              "#bd3786"
             ],
             [
              0.5555555555555556,
              "#d8576b"
             ],
             [
              0.6666666666666666,
              "#ed7953"
             ],
             [
              0.7777777777777778,
              "#fb9f3a"
             ],
             [
              0.8888888888888888,
              "#fdca26"
             ],
             [
              1,
              "#f0f921"
             ]
            ],
            "type": "contour"
           }
          ],
          "contourcarpet": [
           {
            "colorbar": {
             "outlinewidth": 0,
             "ticks": ""
            },
            "type": "contourcarpet"
           }
          ],
          "heatmap": [
           {
            "colorbar": {
             "outlinewidth": 0,
             "ticks": ""
            },
            "colorscale": [
             [
              0,
              "#0d0887"
             ],
             [
              0.1111111111111111,
              "#46039f"
             ],
             [
              0.2222222222222222,
              "#7201a8"
             ],
             [
              0.3333333333333333,
              "#9c179e"
             ],
             [
              0.4444444444444444,
              "#bd3786"
             ],
             [
              0.5555555555555556,
              "#d8576b"
             ],
             [
              0.6666666666666666,
              "#ed7953"
             ],
             [
              0.7777777777777778,
              "#fb9f3a"
             ],
             [
              0.8888888888888888,
              "#fdca26"
             ],
             [
              1,
              "#f0f921"
             ]
            ],
            "type": "heatmap"
           }
          ],
          "heatmapgl": [
           {
            "colorbar": {
             "outlinewidth": 0,
             "ticks": ""
            },
            "colorscale": [
             [
              0,
              "#0d0887"
             ],
             [
              0.1111111111111111,
              "#46039f"
             ],
             [
              0.2222222222222222,
              "#7201a8"
             ],
             [
              0.3333333333333333,
              "#9c179e"
             ],
             [
              0.4444444444444444,
              "#bd3786"
             ],
             [
              0.5555555555555556,
              "#d8576b"
             ],
             [
              0.6666666666666666,
              "#ed7953"
             ],
             [
              0.7777777777777778,
              "#fb9f3a"
             ],
             [
              0.8888888888888888,
              "#fdca26"
             ],
             [
              1,
              "#f0f921"
             ]
            ],
            "type": "heatmapgl"
           }
          ],
          "histogram": [
           {
            "marker": {
             "pattern": {
              "fillmode": "overlay",
              "size": 10,
              "solidity": 0.2
             }
            },
            "type": "histogram"
           }
          ],
          "histogram2d": [
           {
            "colorbar": {
             "outlinewidth": 0,
             "ticks": ""
            },
            "colorscale": [
             [
              0,
              "#0d0887"
             ],
             [
              0.1111111111111111,
              "#46039f"
             ],
             [
              0.2222222222222222,
              "#7201a8"
             ],
             [
              0.3333333333333333,
              "#9c179e"
             ],
             [
              0.4444444444444444,
              "#bd3786"
             ],
             [
              0.5555555555555556,
              "#d8576b"
             ],
             [
              0.6666666666666666,
              "#ed7953"
             ],
             [
              0.7777777777777778,
              "#fb9f3a"
             ],
             [
              0.8888888888888888,
              "#fdca26"
             ],
             [
              1,
              "#f0f921"
             ]
            ],
            "type": "histogram2d"
           }
          ],
          "histogram2dcontour": [
           {
            "colorbar": {
             "outlinewidth": 0,
             "ticks": ""
            },
            "colorscale": [
             [
              0,
              "#0d0887"
             ],
             [
              0.1111111111111111,
              "#46039f"
             ],
             [
              0.2222222222222222,
              "#7201a8"
             ],
             [
              0.3333333333333333,
              "#9c179e"
             ],
             [
              0.4444444444444444,
              "#bd3786"
             ],
             [
              0.5555555555555556,
              "#d8576b"
             ],
             [
              0.6666666666666666,
              "#ed7953"
             ],
             [
              0.7777777777777778,
              "#fb9f3a"
             ],
             [
              0.8888888888888888,
              "#fdca26"
             ],
             [
              1,
              "#f0f921"
             ]
            ],
            "type": "histogram2dcontour"
           }
          ],
          "mesh3d": [
           {
            "colorbar": {
             "outlinewidth": 0,
             "ticks": ""
            },
            "type": "mesh3d"
           }
          ],
          "parcoords": [
           {
            "line": {
             "colorbar": {
              "outlinewidth": 0,
              "ticks": ""
             }
            },
            "type": "parcoords"
           }
          ],
          "pie": [
           {
            "automargin": true,
            "type": "pie"
           }
          ],
          "scatter": [
           {
            "fillpattern": {
             "fillmode": "overlay",
             "size": 10,
             "solidity": 0.2
            },
            "type": "scatter"
           }
          ],
          "scatter3d": [
           {
            "line": {
             "colorbar": {
              "outlinewidth": 0,
              "ticks": ""
             }
            },
            "marker": {
             "colorbar": {
              "outlinewidth": 0,
              "ticks": ""
             }
            },
            "type": "scatter3d"
           }
          ],
          "scattercarpet": [
           {
            "marker": {
             "colorbar": {
              "outlinewidth": 0,
              "ticks": ""
             }
            },
            "type": "scattercarpet"
           }
          ],
          "scattergeo": [
           {
            "marker": {
             "colorbar": {
              "outlinewidth": 0,
              "ticks": ""
             }
            },
            "type": "scattergeo"
           }
          ],
          "scattergl": [
           {
            "marker": {
             "colorbar": {
              "outlinewidth": 0,
              "ticks": ""
             }
            },
            "type": "scattergl"
           }
          ],
          "scattermapbox": [
           {
            "marker": {
             "colorbar": {
              "outlinewidth": 0,
              "ticks": ""
             }
            },
            "type": "scattermapbox"
           }
          ],
          "scatterpolar": [
           {
            "marker": {
             "colorbar": {
              "outlinewidth": 0,
              "ticks": ""
             }
            },
            "type": "scatterpolar"
           }
          ],
          "scatterpolargl": [
           {
            "marker": {
             "colorbar": {
              "outlinewidth": 0,
              "ticks": ""
             }
            },
            "type": "scatterpolargl"
           }
          ],
          "scatterternary": [
           {
            "marker": {
             "colorbar": {
              "outlinewidth": 0,
              "ticks": ""
             }
            },
            "type": "scatterternary"
           }
          ],
          "surface": [
           {
            "colorbar": {
             "outlinewidth": 0,
             "ticks": ""
            },
            "colorscale": [
             [
              0,
              "#0d0887"
             ],
             [
              0.1111111111111111,
              "#46039f"
             ],
             [
              0.2222222222222222,
              "#7201a8"
             ],
             [
              0.3333333333333333,
              "#9c179e"
             ],
             [
              0.4444444444444444,
              "#bd3786"
             ],
             [
              0.5555555555555556,
              "#d8576b"
             ],
             [
              0.6666666666666666,
              "#ed7953"
             ],
             [
              0.7777777777777778,
              "#fb9f3a"
             ],
             [
              0.8888888888888888,
              "#fdca26"
             ],
             [
              1,
              "#f0f921"
             ]
            ],
            "type": "surface"
           }
          ],
          "table": [
           {
            "cells": {
             "fill": {
              "color": "#EBF0F8"
             },
             "line": {
              "color": "white"
             }
            },
            "header": {
             "fill": {
              "color": "#C8D4E3"
             },
             "line": {
              "color": "white"
             }
            },
            "type": "table"
           }
          ]
         },
         "layout": {
          "annotationdefaults": {
           "arrowcolor": "#2a3f5f",
           "arrowhead": 0,
           "arrowwidth": 1
          },
          "autotypenumbers": "strict",
          "coloraxis": {
           "colorbar": {
            "outlinewidth": 0,
            "ticks": ""
           }
          },
          "colorscale": {
           "diverging": [
            [
             0,
             "#8e0152"
            ],
            [
             0.1,
             "#c51b7d"
            ],
            [
             0.2,
             "#de77ae"
            ],
            [
             0.3,
             "#f1b6da"
            ],
            [
             0.4,
             "#fde0ef"
            ],
            [
             0.5,
             "#f7f7f7"
            ],
            [
             0.6,
             "#e6f5d0"
            ],
            [
             0.7,
             "#b8e186"
            ],
            [
             0.8,
             "#7fbc41"
            ],
            [
             0.9,
             "#4d9221"
            ],
            [
             1,
             "#276419"
            ]
           ],
           "sequential": [
            [
             0,
             "#0d0887"
            ],
            [
             0.1111111111111111,
             "#46039f"
            ],
            [
             0.2222222222222222,
             "#7201a8"
            ],
            [
             0.3333333333333333,
             "#9c179e"
            ],
            [
             0.4444444444444444,
             "#bd3786"
            ],
            [
             0.5555555555555556,
             "#d8576b"
            ],
            [
             0.6666666666666666,
             "#ed7953"
            ],
            [
             0.7777777777777778,
             "#fb9f3a"
            ],
            [
             0.8888888888888888,
             "#fdca26"
            ],
            [
             1,
             "#f0f921"
            ]
           ],
           "sequentialminus": [
            [
             0,
             "#0d0887"
            ],
            [
             0.1111111111111111,
             "#46039f"
            ],
            [
             0.2222222222222222,
             "#7201a8"
            ],
            [
             0.3333333333333333,
             "#9c179e"
            ],
            [
             0.4444444444444444,
             "#bd3786"
            ],
            [
             0.5555555555555556,
             "#d8576b"
            ],
            [
             0.6666666666666666,
             "#ed7953"
            ],
            [
             0.7777777777777778,
             "#fb9f3a"
            ],
            [
             0.8888888888888888,
             "#fdca26"
            ],
            [
             1,
             "#f0f921"
            ]
           ]
          },
          "colorway": [
           "#636efa",
           "#EF553B",
           "#00cc96",
           "#ab63fa",
           "#FFA15A",
           "#19d3f3",
           "#FF6692",
           "#B6E880",
           "#FF97FF",
           "#FECB52"
          ],
          "font": {
           "color": "#2a3f5f"
          },
          "geo": {
           "bgcolor": "white",
           "lakecolor": "white",
           "landcolor": "#E5ECF6",
           "showlakes": true,
           "showland": true,
           "subunitcolor": "white"
          },
          "hoverlabel": {
           "align": "left"
          },
          "hovermode": "closest",
          "mapbox": {
           "style": "light"
          },
          "paper_bgcolor": "white",
          "plot_bgcolor": "#E5ECF6",
          "polar": {
           "angularaxis": {
            "gridcolor": "white",
            "linecolor": "white",
            "ticks": ""
           },
           "bgcolor": "#E5ECF6",
           "radialaxis": {
            "gridcolor": "white",
            "linecolor": "white",
            "ticks": ""
           }
          },
          "scene": {
           "xaxis": {
            "backgroundcolor": "#E5ECF6",
            "gridcolor": "white",
            "gridwidth": 2,
            "linecolor": "white",
            "showbackground": true,
            "ticks": "",
            "zerolinecolor": "white"
           },
           "yaxis": {
            "backgroundcolor": "#E5ECF6",
            "gridcolor": "white",
            "gridwidth": 2,
            "linecolor": "white",
            "showbackground": true,
            "ticks": "",
            "zerolinecolor": "white"
           },
           "zaxis": {
            "backgroundcolor": "#E5ECF6",
            "gridcolor": "white",
            "gridwidth": 2,
            "linecolor": "white",
            "showbackground": true,
            "ticks": "",
            "zerolinecolor": "white"
           }
          },
          "shapedefaults": {
           "line": {
            "color": "#2a3f5f"
           }
          },
          "ternary": {
           "aaxis": {
            "gridcolor": "white",
            "linecolor": "white",
            "ticks": ""
           },
           "baxis": {
            "gridcolor": "white",
            "linecolor": "white",
            "ticks": ""
           },
           "bgcolor": "#E5ECF6",
           "caxis": {
            "gridcolor": "white",
            "linecolor": "white",
            "ticks": ""
           }
          },
          "title": {
           "x": 0.05
          },
          "xaxis": {
           "automargin": true,
           "gridcolor": "white",
           "linecolor": "white",
           "ticks": "",
           "title": {
            "standoff": 15
           },
           "zerolinecolor": "white",
           "zerolinewidth": 2
          },
          "yaxis": {
           "automargin": true,
           "gridcolor": "white",
           "linecolor": "white",
           "ticks": "",
           "title": {
            "standoff": 15
           },
           "zerolinecolor": "white",
           "zerolinewidth": 2
          }
         }
        },
        "title": {
         "text": "Important LA Metro Stations, as Ranked by the Formula"
        },
        "width": 800
       }
      }
     },
     "metadata": {},
     "output_type": "display_data"
    }
   ],
   "source": [
    "#Plots only the most important stations in the system, as ranked by RLP\n",
    "fig = px.scatter_mapbox(df, \n",
    "                        lat = \"Latitude\",\n",
    "                        lon = \"Longitude\",\n",
    "                        color = \"Line\",\n",
    "                        size = \"Station Rank Plot Size\",\n",
    "                        hover_name = \"Name\",\n",
    "                        zoom = 8.8,\n",
    "                        height = 800,\n",
    "                        width = 800,\n",
    "                        opacity = 0.5,\n",
    "                        title = \"Important LA Metro Stations, as Ranked by the Formula\",\n",
    "                        mapbox_style = \"carto-positron\")\n",
    "fig.show()"
   ]
  },
  {
   "cell_type": "markdown",
   "metadata": {},
   "source": [
    "Everything appears to be centered in downtown, which may or may not be suprising considering the radial layout of the system, and all of the top-ranked stations are on the A, B, D, or E lines. Let's zoom in on downtown."
   ]
  },
  {
   "cell_type": "code",
   "execution_count": 27,
   "metadata": {},
   "outputs": [
    {
     "data": {
      "application/vnd.plotly.v1+json": {
       "config": {
        "plotlyServerURL": "https://plot.ly"
       },
       "data": [
        {
         "hovertemplate": "<b>%{hovertext}</b><br><br>Line=A<br>Station Rank Plot Size=%{marker.size}<br>Latitude=%{lat}<br>Longitude=%{lon}<extra></extra>",
         "hovertext": [
          "Washington Station",
          "San Pedro Street Station",
          "Grand / LATTC Station",
          "Pico Station",
          "7th Street / Metro Center Station",
          "7th Street / Metro Center Station",
          "Union Station",
          "Union Station",
          "Chinatown Station",
          "Lincoln Heights / Cypress Park Station"
         ],
         "lat": [
          34.01965485,
          34.02681185,
          34.03315985,
          34.04073985,
          34.04861486,
          34.04861486,
          34.05606586,
          34.05606586,
          34.06386586,
          34.08095386
         ],
         "legendgroup": "A",
         "lon": [
          -118.2430962,
          -118.2555172,
          -118.2693452,
          -118.2661302,
          -118.2588342,
          -118.2588342,
          -118.2347712,
          -118.2347712,
          -118.2358522,
          -118.2204412
         ],
         "marker": {
          "color": "#636efa",
          "opacity": 0.5,
          "size": [
           9,
           17,
           33,
           27,
           43,
           21,
           29,
           35,
           11,
           3
          ],
          "sizemode": "area",
          "sizeref": 0.1075
         },
         "mode": "markers",
         "name": "A",
         "showlegend": true,
         "subplot": "mapbox",
         "type": "scattermapbox"
        },
        {
         "hovertemplate": "<b>%{hovertext}</b><br><br>Line=E<br>Station Rank Plot Size=%{marker.size}<br>Latitude=%{lat}<br>Longitude=%{lon}<extra></extra>",
         "hovertext": [
          "Pico Station",
          "7th Street / Metro Center Station",
          "7th Street / Metro Center Station",
          "LATTC / Ortho Institute Station",
          "Jefferson / USC Station",
          "Expo Park / USC Station",
          "Expo / Vermont Station",
          "Expo / Western Station"
         ],
         "lat": [
          34.04073985,
          34.04861486,
          34.04861486,
          34.02911685,
          34.02212785,
          34.01823185,
          34.01824985,
          34.01833585
         ],
         "legendgroup": "E",
         "lon": [
          -118.2661302,
          -118.2588342,
          -118.2588342,
          -118.2736152,
          -118.2781302,
          -118.2857462,
          -118.2915522,
          -118.3089222
         ],
         "marker": {
          "color": "#EF553B",
          "opacity": 0.5,
          "size": [
           27,
           43,
           21,
           25,
           41,
           23,
           31,
           15
          ],
          "sizemode": "area",
          "sizeref": 0.1075
         },
         "mode": "markers",
         "name": "E",
         "showlegend": true,
         "subplot": "mapbox",
         "type": "scattermapbox"
        },
        {
         "hovertemplate": "<b>%{hovertext}</b><br><br>Line=B<br>Station Rank Plot Size=%{marker.size}<br>Latitude=%{lat}<br>Longitude=%{lon}<extra></extra>",
         "hovertext": [
          "7th Street / Metro Center Station",
          "7th Street / Metro Center Station",
          "Union Station",
          "Union Station",
          "Westlake / MacArthur Park Station",
          "Pershing Square Station",
          "Civic Center / Grand Park Station"
         ],
         "lat": [
          34.04863885,
          34.04863885,
          34.05620186,
          34.05620186,
          34.05637286,
          34.04932086,
          34.05490486
         ],
         "legendgroup": "B",
         "lon": [
          -118.2586942,
          -118.2586942,
          -118.2342612,
          -118.2342612,
          -118.2748912,
          -118.2512712,
          -118.2460692
         ],
         "marker": {
          "color": "#00cc96",
          "opacity": 0.5,
          "size": [
           43,
           21,
           29,
           35,
           5,
           19,
           39
          ],
          "sizemode": "area",
          "sizeref": 0.1075
         },
         "mode": "markers",
         "name": "B",
         "showlegend": true,
         "subplot": "mapbox",
         "type": "scattermapbox"
        },
        {
         "hovertemplate": "<b>%{hovertext}</b><br><br>Line=D<br>Station Rank Plot Size=%{marker.size}<br>Latitude=%{lat}<br>Longitude=%{lon}<extra></extra>",
         "hovertext": [
          "7th Street / Metro Center Station",
          "7th Street / Metro Center Station",
          "Union Station",
          "Union Station",
          "Westlake / MacArthur Park Station",
          "Pershing Square Station",
          "Civic Center / Grand Park Station",
          "Wilshire / Western Station",
          "Wilshire / Normandie Station"
         ],
         "lat": [
          34.04863885,
          34.04863885,
          34.05620186,
          34.05620186,
          34.05637286,
          34.04932086,
          34.05490486,
          34.06169385,
          34.06175785
         ],
         "legendgroup": "D",
         "lon": [
          -118.2586942,
          -118.2586942,
          -118.2342612,
          -118.2342612,
          -118.2748912,
          -118.2512712,
          -118.2460692,
          -118.3087682,
          -118.3014702
         ],
         "marker": {
          "color": "#ab63fa",
          "opacity": 0.5,
          "size": [
           43,
           21,
           29,
           35,
           5,
           19,
           39,
           13,
           37
          ],
          "sizemode": "area",
          "sizeref": 0.1075
         },
         "mode": "markers",
         "name": "D",
         "showlegend": true,
         "subplot": "mapbox",
         "type": "scattermapbox"
        }
       ],
       "layout": {
        "height": 800,
        "legend": {
         "itemsizing": "constant",
         "title": {
          "text": "Line"
         },
         "tracegroupgap": 0
        },
        "mapbox": {
         "center": {
          "lat": 34.046546796470594,
          "lon": -118.25958472941176
         },
         "domain": {
          "x": [
           0,
           1
          ],
          "y": [
           0,
           1
          ]
         },
         "style": "carto-positron",
         "zoom": 11.9
        },
        "template": {
         "data": {
          "bar": [
           {
            "error_x": {
             "color": "#2a3f5f"
            },
            "error_y": {
             "color": "#2a3f5f"
            },
            "marker": {
             "line": {
              "color": "#E5ECF6",
              "width": 0.5
             },
             "pattern": {
              "fillmode": "overlay",
              "size": 10,
              "solidity": 0.2
             }
            },
            "type": "bar"
           }
          ],
          "barpolar": [
           {
            "marker": {
             "line": {
              "color": "#E5ECF6",
              "width": 0.5
             },
             "pattern": {
              "fillmode": "overlay",
              "size": 10,
              "solidity": 0.2
             }
            },
            "type": "barpolar"
           }
          ],
          "carpet": [
           {
            "aaxis": {
             "endlinecolor": "#2a3f5f",
             "gridcolor": "white",
             "linecolor": "white",
             "minorgridcolor": "white",
             "startlinecolor": "#2a3f5f"
            },
            "baxis": {
             "endlinecolor": "#2a3f5f",
             "gridcolor": "white",
             "linecolor": "white",
             "minorgridcolor": "white",
             "startlinecolor": "#2a3f5f"
            },
            "type": "carpet"
           }
          ],
          "choropleth": [
           {
            "colorbar": {
             "outlinewidth": 0,
             "ticks": ""
            },
            "type": "choropleth"
           }
          ],
          "contour": [
           {
            "colorbar": {
             "outlinewidth": 0,
             "ticks": ""
            },
            "colorscale": [
             [
              0,
              "#0d0887"
             ],
             [
              0.1111111111111111,
              "#46039f"
             ],
             [
              0.2222222222222222,
              "#7201a8"
             ],
             [
              0.3333333333333333,
              "#9c179e"
             ],
             [
              0.4444444444444444,
              "#bd3786"
             ],
             [
              0.5555555555555556,
              "#d8576b"
             ],
             [
              0.6666666666666666,
              "#ed7953"
             ],
             [
              0.7777777777777778,
              "#fb9f3a"
             ],
             [
              0.8888888888888888,
              "#fdca26"
             ],
             [
              1,
              "#f0f921"
             ]
            ],
            "type": "contour"
           }
          ],
          "contourcarpet": [
           {
            "colorbar": {
             "outlinewidth": 0,
             "ticks": ""
            },
            "type": "contourcarpet"
           }
          ],
          "heatmap": [
           {
            "colorbar": {
             "outlinewidth": 0,
             "ticks": ""
            },
            "colorscale": [
             [
              0,
              "#0d0887"
             ],
             [
              0.1111111111111111,
              "#46039f"
             ],
             [
              0.2222222222222222,
              "#7201a8"
             ],
             [
              0.3333333333333333,
              "#9c179e"
             ],
             [
              0.4444444444444444,
              "#bd3786"
             ],
             [
              0.5555555555555556,
              "#d8576b"
             ],
             [
              0.6666666666666666,
              "#ed7953"
             ],
             [
              0.7777777777777778,
              "#fb9f3a"
             ],
             [
              0.8888888888888888,
              "#fdca26"
             ],
             [
              1,
              "#f0f921"
             ]
            ],
            "type": "heatmap"
           }
          ],
          "heatmapgl": [
           {
            "colorbar": {
             "outlinewidth": 0,
             "ticks": ""
            },
            "colorscale": [
             [
              0,
              "#0d0887"
             ],
             [
              0.1111111111111111,
              "#46039f"
             ],
             [
              0.2222222222222222,
              "#7201a8"
             ],
             [
              0.3333333333333333,
              "#9c179e"
             ],
             [
              0.4444444444444444,
              "#bd3786"
             ],
             [
              0.5555555555555556,
              "#d8576b"
             ],
             [
              0.6666666666666666,
              "#ed7953"
             ],
             [
              0.7777777777777778,
              "#fb9f3a"
             ],
             [
              0.8888888888888888,
              "#fdca26"
             ],
             [
              1,
              "#f0f921"
             ]
            ],
            "type": "heatmapgl"
           }
          ],
          "histogram": [
           {
            "marker": {
             "pattern": {
              "fillmode": "overlay",
              "size": 10,
              "solidity": 0.2
             }
            },
            "type": "histogram"
           }
          ],
          "histogram2d": [
           {
            "colorbar": {
             "outlinewidth": 0,
             "ticks": ""
            },
            "colorscale": [
             [
              0,
              "#0d0887"
             ],
             [
              0.1111111111111111,
              "#46039f"
             ],
             [
              0.2222222222222222,
              "#7201a8"
             ],
             [
              0.3333333333333333,
              "#9c179e"
             ],
             [
              0.4444444444444444,
              "#bd3786"
             ],
             [
              0.5555555555555556,
              "#d8576b"
             ],
             [
              0.6666666666666666,
              "#ed7953"
             ],
             [
              0.7777777777777778,
              "#fb9f3a"
             ],
             [
              0.8888888888888888,
              "#fdca26"
             ],
             [
              1,
              "#f0f921"
             ]
            ],
            "type": "histogram2d"
           }
          ],
          "histogram2dcontour": [
           {
            "colorbar": {
             "outlinewidth": 0,
             "ticks": ""
            },
            "colorscale": [
             [
              0,
              "#0d0887"
             ],
             [
              0.1111111111111111,
              "#46039f"
             ],
             [
              0.2222222222222222,
              "#7201a8"
             ],
             [
              0.3333333333333333,
              "#9c179e"
             ],
             [
              0.4444444444444444,
              "#bd3786"
             ],
             [
              0.5555555555555556,
              "#d8576b"
             ],
             [
              0.6666666666666666,
              "#ed7953"
             ],
             [
              0.7777777777777778,
              "#fb9f3a"
             ],
             [
              0.8888888888888888,
              "#fdca26"
             ],
             [
              1,
              "#f0f921"
             ]
            ],
            "type": "histogram2dcontour"
           }
          ],
          "mesh3d": [
           {
            "colorbar": {
             "outlinewidth": 0,
             "ticks": ""
            },
            "type": "mesh3d"
           }
          ],
          "parcoords": [
           {
            "line": {
             "colorbar": {
              "outlinewidth": 0,
              "ticks": ""
             }
            },
            "type": "parcoords"
           }
          ],
          "pie": [
           {
            "automargin": true,
            "type": "pie"
           }
          ],
          "scatter": [
           {
            "fillpattern": {
             "fillmode": "overlay",
             "size": 10,
             "solidity": 0.2
            },
            "type": "scatter"
           }
          ],
          "scatter3d": [
           {
            "line": {
             "colorbar": {
              "outlinewidth": 0,
              "ticks": ""
             }
            },
            "marker": {
             "colorbar": {
              "outlinewidth": 0,
              "ticks": ""
             }
            },
            "type": "scatter3d"
           }
          ],
          "scattercarpet": [
           {
            "marker": {
             "colorbar": {
              "outlinewidth": 0,
              "ticks": ""
             }
            },
            "type": "scattercarpet"
           }
          ],
          "scattergeo": [
           {
            "marker": {
             "colorbar": {
              "outlinewidth": 0,
              "ticks": ""
             }
            },
            "type": "scattergeo"
           }
          ],
          "scattergl": [
           {
            "marker": {
             "colorbar": {
              "outlinewidth": 0,
              "ticks": ""
             }
            },
            "type": "scattergl"
           }
          ],
          "scattermapbox": [
           {
            "marker": {
             "colorbar": {
              "outlinewidth": 0,
              "ticks": ""
             }
            },
            "type": "scattermapbox"
           }
          ],
          "scatterpolar": [
           {
            "marker": {
             "colorbar": {
              "outlinewidth": 0,
              "ticks": ""
             }
            },
            "type": "scatterpolar"
           }
          ],
          "scatterpolargl": [
           {
            "marker": {
             "colorbar": {
              "outlinewidth": 0,
              "ticks": ""
             }
            },
            "type": "scatterpolargl"
           }
          ],
          "scatterternary": [
           {
            "marker": {
             "colorbar": {
              "outlinewidth": 0,
              "ticks": ""
             }
            },
            "type": "scatterternary"
           }
          ],
          "surface": [
           {
            "colorbar": {
             "outlinewidth": 0,
             "ticks": ""
            },
            "colorscale": [
             [
              0,
              "#0d0887"
             ],
             [
              0.1111111111111111,
              "#46039f"
             ],
             [
              0.2222222222222222,
              "#7201a8"
             ],
             [
              0.3333333333333333,
              "#9c179e"
             ],
             [
              0.4444444444444444,
              "#bd3786"
             ],
             [
              0.5555555555555556,
              "#d8576b"
             ],
             [
              0.6666666666666666,
              "#ed7953"
             ],
             [
              0.7777777777777778,
              "#fb9f3a"
             ],
             [
              0.8888888888888888,
              "#fdca26"
             ],
             [
              1,
              "#f0f921"
             ]
            ],
            "type": "surface"
           }
          ],
          "table": [
           {
            "cells": {
             "fill": {
              "color": "#EBF0F8"
             },
             "line": {
              "color": "white"
             }
            },
            "header": {
             "fill": {
              "color": "#C8D4E3"
             },
             "line": {
              "color": "white"
             }
            },
            "type": "table"
           }
          ]
         },
         "layout": {
          "annotationdefaults": {
           "arrowcolor": "#2a3f5f",
           "arrowhead": 0,
           "arrowwidth": 1
          },
          "autotypenumbers": "strict",
          "coloraxis": {
           "colorbar": {
            "outlinewidth": 0,
            "ticks": ""
           }
          },
          "colorscale": {
           "diverging": [
            [
             0,
             "#8e0152"
            ],
            [
             0.1,
             "#c51b7d"
            ],
            [
             0.2,
             "#de77ae"
            ],
            [
             0.3,
             "#f1b6da"
            ],
            [
             0.4,
             "#fde0ef"
            ],
            [
             0.5,
             "#f7f7f7"
            ],
            [
             0.6,
             "#e6f5d0"
            ],
            [
             0.7,
             "#b8e186"
            ],
            [
             0.8,
             "#7fbc41"
            ],
            [
             0.9,
             "#4d9221"
            ],
            [
             1,
             "#276419"
            ]
           ],
           "sequential": [
            [
             0,
             "#0d0887"
            ],
            [
             0.1111111111111111,
             "#46039f"
            ],
            [
             0.2222222222222222,
             "#7201a8"
            ],
            [
             0.3333333333333333,
             "#9c179e"
            ],
            [
             0.4444444444444444,
             "#bd3786"
            ],
            [
             0.5555555555555556,
             "#d8576b"
            ],
            [
             0.6666666666666666,
             "#ed7953"
            ],
            [
             0.7777777777777778,
             "#fb9f3a"
            ],
            [
             0.8888888888888888,
             "#fdca26"
            ],
            [
             1,
             "#f0f921"
            ]
           ],
           "sequentialminus": [
            [
             0,
             "#0d0887"
            ],
            [
             0.1111111111111111,
             "#46039f"
            ],
            [
             0.2222222222222222,
             "#7201a8"
            ],
            [
             0.3333333333333333,
             "#9c179e"
            ],
            [
             0.4444444444444444,
             "#bd3786"
            ],
            [
             0.5555555555555556,
             "#d8576b"
            ],
            [
             0.6666666666666666,
             "#ed7953"
            ],
            [
             0.7777777777777778,
             "#fb9f3a"
            ],
            [
             0.8888888888888888,
             "#fdca26"
            ],
            [
             1,
             "#f0f921"
            ]
           ]
          },
          "colorway": [
           "#636efa",
           "#EF553B",
           "#00cc96",
           "#ab63fa",
           "#FFA15A",
           "#19d3f3",
           "#FF6692",
           "#B6E880",
           "#FF97FF",
           "#FECB52"
          ],
          "font": {
           "color": "#2a3f5f"
          },
          "geo": {
           "bgcolor": "white",
           "lakecolor": "white",
           "landcolor": "#E5ECF6",
           "showlakes": true,
           "showland": true,
           "subunitcolor": "white"
          },
          "hoverlabel": {
           "align": "left"
          },
          "hovermode": "closest",
          "mapbox": {
           "style": "light"
          },
          "paper_bgcolor": "white",
          "plot_bgcolor": "#E5ECF6",
          "polar": {
           "angularaxis": {
            "gridcolor": "white",
            "linecolor": "white",
            "ticks": ""
           },
           "bgcolor": "#E5ECF6",
           "radialaxis": {
            "gridcolor": "white",
            "linecolor": "white",
            "ticks": ""
           }
          },
          "scene": {
           "xaxis": {
            "backgroundcolor": "#E5ECF6",
            "gridcolor": "white",
            "gridwidth": 2,
            "linecolor": "white",
            "showbackground": true,
            "ticks": "",
            "zerolinecolor": "white"
           },
           "yaxis": {
            "backgroundcolor": "#E5ECF6",
            "gridcolor": "white",
            "gridwidth": 2,
            "linecolor": "white",
            "showbackground": true,
            "ticks": "",
            "zerolinecolor": "white"
           },
           "zaxis": {
            "backgroundcolor": "#E5ECF6",
            "gridcolor": "white",
            "gridwidth": 2,
            "linecolor": "white",
            "showbackground": true,
            "ticks": "",
            "zerolinecolor": "white"
           }
          },
          "shapedefaults": {
           "line": {
            "color": "#2a3f5f"
           }
          },
          "ternary": {
           "aaxis": {
            "gridcolor": "white",
            "linecolor": "white",
            "ticks": ""
           },
           "baxis": {
            "gridcolor": "white",
            "linecolor": "white",
            "ticks": ""
           },
           "bgcolor": "#E5ECF6",
           "caxis": {
            "gridcolor": "white",
            "linecolor": "white",
            "ticks": ""
           }
          },
          "title": {
           "x": 0.05
          },
          "xaxis": {
           "automargin": true,
           "gridcolor": "white",
           "linecolor": "white",
           "ticks": "",
           "title": {
            "standoff": 15
           },
           "zerolinecolor": "white",
           "zerolinewidth": 2
          },
          "yaxis": {
           "automargin": true,
           "gridcolor": "white",
           "linecolor": "white",
           "ticks": "",
           "title": {
            "standoff": 15
           },
           "zerolinecolor": "white",
           "zerolinewidth": 2
          }
         }
        },
        "title": {
         "text": "Important LA Metro Stations, as Ranked by the Formula"
        },
        "width": 800
       }
      }
     },
     "metadata": {},
     "output_type": "display_data"
    }
   ],
   "source": [
    "#Plots only the most important stations in the system, as ranked by RLP\n",
    "fig = px.scatter_mapbox(df, \n",
    "                        lat = \"Latitude\",\n",
    "                        lon = \"Longitude\",\n",
    "                        color = \"Line\",\n",
    "                        size = \"Station Rank Plot Size\",\n",
    "                        hover_name = \"Name\",\n",
    "                        zoom = 11.9,\n",
    "                        height = 800,\n",
    "                        width = 800,\n",
    "                        opacity = 0.5,\n",
    "                        title = \"Important LA Metro Stations, as Ranked by the Formula\",\n",
    "                        mapbox_style = \"carto-positron\")\n",
    "fig.show()"
   ]
  },
  {
   "cell_type": "markdown",
   "metadata": {},
   "source": [
    "The important interchange stations on this map are 7th Street-Metro Center, Union Station, and Pico Station. However, while the A/E Line platforms of 7th Street-Metro Center hold the highest rank, Union Station and Pico Station only have their highest ranks at 5 and 9, despite Union Station being a major transit hub in Downtown and Pico Station being the location where the A/E Line concurrency splits. Wilshere/Vermont, a major transfer station at where the B and D lines separate, doesn't even make the top 20. The remainder of the top 5 (Jefferson/USC, Civic Center/Grand Park, and Wilshere/Normandie) are not major transfer stations: Jefferson/USC serves USC, Civic Center/Grand Park is near city hall and a number of points of interest in downtown, and Wilshere/Normandie is in the heart of Koreatown. So perhaps surprisingly and in contrary to common expectations, major transfer stations are not necessarily the points of disruption in a system that result in the most impact or damage."
   ]
  }
 ],
 "metadata": {
  "kernelspec": {
   "display_name": "PIC16B-2",
   "language": "python",
   "name": "python3"
  },
  "language_info": {
   "codemirror_mode": {
    "name": "ipython",
    "version": 3
   },
   "file_extension": ".py",
   "mimetype": "text/x-python",
   "name": "python",
   "nbconvert_exporter": "python",
   "pygments_lexer": "ipython3",
   "version": "3.11.6"
  }
 },
 "nbformat": 4,
 "nbformat_minor": 2
}
