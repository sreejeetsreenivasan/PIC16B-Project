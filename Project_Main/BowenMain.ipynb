{
 "cells": [
  {
   "cell_type": "code",
   "execution_count": 2,
   "id": "initial_id",
   "metadata": {
    "collapsed": true,
    "ExecuteTime": {
     "end_time": "2023-12-10T01:12:04.237161900Z",
     "start_time": "2023-12-10T01:12:04.227679600Z"
    }
   },
   "outputs": [
    {
     "name": "stdout",
     "output_type": "stream",
     "text": [
      "hi\n"
     ]
    }
   ],
   "source": [
    "print(\"hi\")"
   ]
  },
  {
   "cell_type": "markdown",
   "source": [
    "# To Start!\n",
    "\n",
    "We first import the packages that we will be using. \n",
    "\n",
    "We need pandas to work on our data, matplotlib pyplot for visualizations, numpy for array calculations, and finally networkx for all our graph networks."
   ],
   "metadata": {
    "collapsed": false
   },
   "id": "b94854bdb480e69a"
  },
  {
   "cell_type": "code",
   "execution_count": null,
   "outputs": [],
   "source": [
    "import networkx as nx\n",
    "import matplotlib.pyplot as plt\n",
    "import numpy as np\n",
    "from numba import njit\n",
    "import random\n",
    "import pandas as pd\n",
    "import BowenProjectFunctions as bpf"
   ],
   "metadata": {
    "collapsed": false
   },
   "id": "b1fd613084791b77"
  },
  {
   "cell_type": "markdown",
   "source": [
    "Next, we grab the static gtfs rail text files and read them into dataframes."
   ],
   "metadata": {
    "collapsed": false
   },
   "id": "11a31256914050d1"
  },
  {
   "cell_type": "code",
   "execution_count": null,
   "outputs": [],
   "source": [
    "trips = pd.read_csv('../gtfs_rail/trips.txt')\n",
    "stops = pd.read_csv('../gtfs_rail/stops.txt')"
   ],
   "metadata": {
    "collapsed": false
   },
   "id": "a48ed4283ea6cbd6"
  },
  {
   "cell_type": "code",
   "execution_count": null,
   "outputs": [],
   "source": [],
   "metadata": {
    "collapsed": false
   },
   "id": "fa09ed2fbddbf446"
  }
 ],
 "metadata": {
  "kernelspec": {
   "display_name": "Python 3",
   "language": "python",
   "name": "python3"
  },
  "language_info": {
   "codemirror_mode": {
    "name": "ipython",
    "version": 2
   },
   "file_extension": ".py",
   "mimetype": "text/x-python",
   "name": "python",
   "nbconvert_exporter": "python",
   "pygments_lexer": "ipython2",
   "version": "2.7.6"
  }
 },
 "nbformat": 4,
 "nbformat_minor": 5
}
